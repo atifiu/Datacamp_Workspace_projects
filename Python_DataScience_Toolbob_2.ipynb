{
 "cells": [
  {
   "cell_type": "markdown",
   "id": "prostate-arizona",
   "metadata": {
    "id": "bA5ajAmk7XH6"
   },
   "source": [
    "# Python Data Science Toolbox (Part 2)\n",
    "\n",
    "👋 Welcome to your new workspace! Here, you can experiment with the data you used in [Python Data Science Toolbox (Part 2)](https://app.datacamp.com/learn/courses/python-data-science-toolbox-part-2) and practice your newly learned skills with some challenges. You can find out more about DataCamp Workspace [here](https://workspace-docs.datacamp.com/).\n",
    "\n",
    "Below is a code cell that imports the course packages and two datasets as pandas DataFrames.\n",
    "\n",
    "**🏃To execute the code, click inside the cell to select it and click \"Run\" or the ► icon. You can also use Shift-Enter to run a selected cell and automatically switch to the next cell.**"
   ]
  },
  {
   "cell_type": "code",
   "execution_count": null,
   "id": "2e25fdd8-4d84-45bc-80f0-949917e00a17",
   "metadata": {},
   "outputs": [],
   "source": [
    "# Import the course packages\n",
    "import pandas as pd\n",
    "import matplotlib.pyplot as plt\n",
    "\n",
    "# Import the course datasets as DataFrames\n",
    "world_ind = pd.read_csv('datasets/world_ind_pop_data.csv')\n",
    "tweets = pd.read_csv('datasets/tweets.csv')\n",
    "\n",
    "# Preview the first DataFrame\n",
    "world_ind"
   ]
  },
  {
   "cell_type": "markdown",
   "id": "operational-effectiveness",
   "metadata": {},
   "source": [
    "## Challenge Yourself\n",
    "\n",
    "Don't know where to start? **Add code** to the code cells below to try one (or more) of the following challenges.\n",
    "\n",
    "_Reminder: To execute the code you add to a cell, click inside the cell to select it and click \"Run\" or the ► icon. You can also use Shift-Enter to run a selected cell and automatically switch to the next cell._"
   ]
  },
  {
   "cell_type": "markdown",
   "id": "established-queens",
   "metadata": {},
   "source": [
    "**1. Create a `zip` object containing the `CountryName` and `CountryCode` columns in `world_ind`. Unpack the resulting `zip` object and print the tuple values.**"
   ]
  },
  {
   "cell_type": "code",
   "execution_count": null,
   "id": "nearby-solution",
   "metadata": {},
   "outputs": [],
   "source": [
    "# Zip and unpack country names and country codes in world_ind\n"
   ]
  },
  {
   "cell_type": "markdown",
   "id": "continental-breathing",
   "metadata": {},
   "source": [
    "**2. Use a list comprehension to extract the first 25 characters of the `text` column of the `tweets` DataFrame provided that the tweet is not a retweet (i.e., starts with \"RT\").**"
   ]
  },
  {
   "cell_type": "code",
   "execution_count": null,
   "id": "079c7628-464c-471b-9867-b684acc232b9",
   "metadata": {},
   "outputs": [],
   "source": [
    "# Use list comprehension to print the first 25 characters of tweets\n"
   ]
  },
  {
   "cell_type": "markdown",
   "id": "senior-geography",
   "metadata": {},
   "source": [
    "**3. Create an iterable reader object so that you can use `next()` to read `datasets/world_ind_pop_data.csv` in chunks of 20.**"
   ]
  },
  {
   "cell_type": "code",
   "execution_count": null,
   "id": "brown-reserve",
   "metadata": {},
   "outputs": [],
   "source": [
    "# Create an interable reader object to read chunks of datasets/world_ind_pop_data.csv\n"
   ]
  },
  {
   "cell_type": "markdown",
   "id": "b3317e25-17e0-4f71-89fb-18d950b5bd85",
   "metadata": {},
   "source": [
    "## Continue to Explore\n",
    "Feeling confident about your skills? If you're following the Data Scientist with Python Career Track, continue to [Intermediate Data Visualization with Seaborn](https://app.datacamp.com/learn/courses/intermediate-data-visualization-with-seaborn)! If you're interested in further developing your programming skills, you may be interested in other [Python Programmer](https://app.datacamp.com/learn/career-tracks/python-programmer) Career Track courses!"
   ]
  }
 ],
 "metadata": {
  "colab": {
   "name": "Welcome to DataCamp Workspaces.ipynb",
   "provenance": []
  },
  "kernelspec": {
   "display_name": "Python 3 (ipykernel)",
   "language": "python",
   "name": "python3"
  },
  "language_info": {
   "codemirror_mode": {
    "name": "ipython",
    "version": 3
   },
   "file_extension": ".py",
   "mimetype": "text/x-python",
   "name": "python",
   "nbconvert_exporter": "python",
   "pygments_lexer": "ipython3",
   "version": "3.8.10"
  }
 },
 "nbformat": 4,
 "nbformat_minor": 5
}
