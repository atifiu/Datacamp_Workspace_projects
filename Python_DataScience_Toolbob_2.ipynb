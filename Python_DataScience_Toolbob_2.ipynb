{
 "cells": [
  {
   "cell_type": "markdown",
   "id": "prostate-arizona",
   "metadata": {
    "id": "bA5ajAmk7XH6"
   },
   "source": [
    "# Python Data Science Toolbox (Part 2)\n",
    "\n",
    "👋 Welcome to your new workspace! Here, you can experiment with the data you used in [Python Data Science Toolbox (Part 2)](https://app.datacamp.com/learn/courses/python-data-science-toolbox-part-2) and practice your newly learned skills with some challenges. You can find out more about DataCamp Workspace [here](https://workspace-docs.datacamp.com/).\n",
    "\n",
    "Below is a code cell that imports the course packages and two datasets as pandas DataFrames.\n",
    "\n",
    "**🏃To execute the code, click inside the cell to select it and click \"Run\" or the ► icon. You can also use Shift-Enter to run a selected cell and automatically switch to the next cell.**"
   ]
  },
  {
   "cell_type": "code",
   "execution_count": 2,
   "id": "2e25fdd8-4d84-45bc-80f0-949917e00a17",
   "metadata": {},
   "outputs": [
    {
     "data": {
      "application/com.datacamp.data-table.v1+json": {
       "is_truncated": true,
       "table": {
        "data": [
         {
          "CountryCode": "ARB",
          "CountryName": "Arab World",
          "Total Population": 92495902,
          "Urban population (% of total)": 31.2853842116,
          "Year": 1960,
          "index": 0
         },
         {
          "CountryCode": "CSS",
          "CountryName": "Caribbean small states",
          "Total Population": 4190810,
          "Urban population (% of total)": 31.5974898514,
          "Year": 1960,
          "index": 1
         },
         {
          "CountryCode": "CEB",
          "CountryName": "Central Europe and the Baltics",
          "Total Population": 91401583,
          "Urban population (% of total)": 44.507921139,
          "Year": 1960,
          "index": 2
         },
         {
          "CountryCode": "EAS",
          "CountryName": "East Asia & Pacific (all income levels)",
          "Total Population": 1042475394,
          "Urban population (% of total)": 22.4711322043,
          "Year": 1960,
          "index": 3
         },
         {
          "CountryCode": "EAP",
          "CountryName": "East Asia & Pacific (developing only)",
          "Total Population": 896492991,
          "Urban population (% of total)": 16.9176788481,
          "Year": 1960,
          "index": 4
         },
         {
          "CountryCode": "EMU",
          "CountryName": "Euro area",
          "Total Population": 265396501,
          "Urban population (% of total)": 62.0969469017,
          "Year": 1960,
          "index": 5
         },
         {
          "CountryCode": "ECS",
          "CountryName": "Europe & Central Asia (all income levels)",
          "Total Population": 667489033,
          "Urban population (% of total)": 55.3789774453,
          "Year": 1960,
          "index": 6
         },
         {
          "CountryCode": "ECA",
          "CountryName": "Europe & Central Asia (developing only)",
          "Total Population": 155317369,
          "Urban population (% of total)": 38.0661286853,
          "Year": 1960,
          "index": 7
         },
         {
          "CountryCode": "EUU",
          "CountryName": "European Union",
          "Total Population": 409498462,
          "Urban population (% of total)": 61.2128977577,
          "Year": 1960,
          "index": 8
         },
         {
          "CountryCode": "FCS",
          "CountryName": "Fragile and conflict affected situations",
          "Total Population": 120354582,
          "Urban population (% of total)": 17.8919722531,
          "Year": 1960,
          "index": 9
         },
         {
          "CountryCode": "HPC",
          "CountryName": "Heavily indebted poor countries (HIPC)",
          "Total Population": 162491185,
          "Urban population (% of total)": 12.2360458012,
          "Year": 1960,
          "index": 10
         },
         {
          "CountryCode": "HIC",
          "CountryName": "High income",
          "Total Population": 907597507,
          "Urban population (% of total)": 62.6803318218,
          "Year": 1960,
          "index": 11
         },
         {
          "CountryCode": "NOC",
          "CountryName": "High income: nonOECD",
          "Total Population": 186676748,
          "Urban population (% of total)": 56.1078634787,
          "Year": 1960,
          "index": 12
         },
         {
          "CountryCode": "OEC",
          "CountryName": "High income: OECD",
          "Total Population": 720920759,
          "Urban population (% of total)": 64.2854345249,
          "Year": 1960,
          "index": 13
         },
         {
          "CountryCode": "LCN",
          "CountryName": "Latin America & Caribbean (all income levels)",
          "Total Population": 220564224,
          "Urban population (% of total)": 49.2846883884,
          "Year": 1960,
          "index": 14
         },
         {
          "CountryCode": "LAC",
          "CountryName": "Latin America & Caribbean (developing only)",
          "Total Population": 177682238,
          "Urban population (% of total)": 44.8633081654,
          "Year": 1960,
          "index": 15
         },
         {
          "CountryCode": "LDC",
          "CountryName": "Least developed countries: UN classification",
          "Total Population": 241072814,
          "Urban population (% of total)": 9.6162612122,
          "Year": 1960,
          "index": 16
         },
         {
          "CountryCode": "LMY",
          "CountryName": "Low & middle income",
          "Total Population": 2127373057,
          "Urban population (% of total)": 21.2728938837,
          "Year": 1960,
          "index": 17
         },
         {
          "CountryCode": "LIC",
          "CountryName": "Low income",
          "Total Population": 157188433,
          "Urban population (% of total)": 11.4983962515,
          "Year": 1960,
          "index": 18
         },
         {
          "CountryCode": "LMC",
          "CountryName": "Lower middle income",
          "Total Population": 942911642,
          "Urban population (% of total)": 19.8105133453,
          "Year": 1960,
          "index": 19
         },
         {
          "CountryCode": "MEA",
          "CountryName": "Middle East & North Africa (all income levels)",
          "Total Population": 105512645,
          "Urban population (% of total)": 34.9513339653,
          "Year": 1960,
          "index": 20
         },
         {
          "CountryCode": "MNA",
          "CountryName": "Middle East & North Africa (developing only)",
          "Total Population": 97869415,
          "Urban population (% of total)": 33.8750116075,
          "Year": 1960,
          "index": 21
         },
         {
          "CountryCode": "MIC",
          "CountryName": "Middle income",
          "Total Population": 1970184624,
          "Urban population (% of total)": 22.0531135725,
          "Year": 1960,
          "index": 22
         },
         {
          "CountryCode": "NAC",
          "CountryName": "North America",
          "Total Population": 198624409,
          "Urban population (% of total)": 69.9184025592,
          "Year": 1960,
          "index": 23
         },
         {
          "CountryCode": "OED",
          "CountryName": "OECD members",
          "Total Population": 786648153,
          "Urban population (% of total)": 62.4809153748,
          "Year": 1960,
          "index": 24
         },
         {
          "CountryCode": "OSS",
          "CountryName": "Other small states",
          "Total Population": 6590560,
          "Urban population (% of total)": 14.3378436364,
          "Year": 1960,
          "index": 25
         },
         {
          "CountryCode": "PSS",
          "CountryName": "Pacific island small states",
          "Total Population": 861378,
          "Urban population (% of total)": 22.0437617759,
          "Year": 1960,
          "index": 26
         },
         {
          "CountryCode": "SST",
          "CountryName": "Small states",
          "Total Population": 11642748,
          "Urban population (% of total)": 21.1205727918,
          "Year": 1960,
          "index": 27
         },
         {
          "CountryCode": "SAS",
          "CountryName": "South Asia",
          "Total Population": 572036107,
          "Urban population (% of total)": 16.7355454822,
          "Year": 1960,
          "index": 28
         },
         {
          "CountryCode": "SSF",
          "CountryName": "Sub-Saharan Africa (all income levels)",
          "Total Population": 228268752,
          "Urban population (% of total)": 14.631386734,
          "Year": 1960,
          "index": 29
         },
         {
          "CountryCode": "SSA",
          "CountryName": "Sub-Saharan Africa (developing only)",
          "Total Population": 227974937,
          "Urban population (% of total)": 14.6169408304,
          "Year": 1960,
          "index": 30
         },
         {
          "CountryCode": "UMC",
          "CountryName": "Upper middle income",
          "Total Population": 1027272982,
          "Urban population (% of total)": 24.1094804362,
          "Year": 1960,
          "index": 31
         },
         {
          "CountryCode": "WLD",
          "CountryName": "World",
          "Total Population": 3034970564,
          "Urban population (% of total)": 33.5576081246,
          "Year": 1960,
          "index": 32
         },
         {
          "CountryCode": "AFG",
          "CountryName": "Afghanistan",
          "Total Population": 8994793,
          "Urban population (% of total)": 8.221,
          "Year": 1960,
          "index": 33
         },
         {
          "CountryCode": "ALB",
          "CountryName": "Albania",
          "Total Population": 1608800,
          "Urban population (% of total)": 30.705,
          "Year": 1960,
          "index": 34
         },
         {
          "CountryCode": "DZA",
          "CountryName": "Algeria",
          "Total Population": 11124892,
          "Urban population (% of total)": 30.51,
          "Year": 1960,
          "index": 35
         },
         {
          "CountryCode": "ASM",
          "CountryName": "American Samoa",
          "Total Population": 20012,
          "Urban population (% of total)": 66.211,
          "Year": 1960,
          "index": 36
         },
         {
          "CountryCode": "ADO",
          "CountryName": "Andorra",
          "Total Population": 13414,
          "Urban population (% of total)": 58.45,
          "Year": 1960,
          "index": 37
         },
         {
          "CountryCode": "AGO",
          "CountryName": "Angola",
          "Total Population": 5270844,
          "Urban population (% of total)": 10.435,
          "Year": 1960,
          "index": 38
         },
         {
          "CountryCode": "ATG",
          "CountryName": "Antigua and Barbuda",
          "Total Population": 54681,
          "Urban population (% of total)": 39.656,
          "Year": 1960,
          "index": 39
         },
         {
          "CountryCode": "ARG",
          "CountryName": "Argentina",
          "Total Population": 20619075,
          "Urban population (% of total)": 73.611,
          "Year": 1960,
          "index": 40
         },
         {
          "CountryCode": "ARM",
          "CountryName": "Armenia",
          "Total Population": 1867396,
          "Urban population (% of total)": 51.275,
          "Year": 1960,
          "index": 41
         },
         {
          "CountryCode": "ABW",
          "CountryName": "Aruba",
          "Total Population": 54208,
          "Urban population (% of total)": 50.776,
          "Year": 1960,
          "index": 42
         },
         {
          "CountryCode": "AUS",
          "CountryName": "Australia",
          "Total Population": 10276477,
          "Urban population (% of total)": 81.529,
          "Year": 1960,
          "index": 43
         },
         {
          "CountryCode": "AUT",
          "CountryName": "Austria",
          "Total Population": 7047539,
          "Urban population (% of total)": 64.72,
          "Year": 1960,
          "index": 44
         },
         {
          "CountryCode": "AZE",
          "CountryName": "Azerbaijan",
          "Total Population": 3897889,
          "Urban population (% of total)": 52.663,
          "Year": 1960,
          "index": 45
         },
         {
          "CountryCode": "BHS",
          "CountryName": "Bahamas, The",
          "Total Population": 109526,
          "Urban population (% of total)": 59.712,
          "Year": 1960,
          "index": 46
         },
         {
          "CountryCode": "BHR",
          "CountryName": "Bahrain",
          "Total Population": 162501,
          "Urban population (% of total)": 82.32,
          "Year": 1960,
          "index": 47
         },
         {
          "CountryCode": "BGD",
          "CountryName": "Bangladesh",
          "Total Population": 48200702,
          "Urban population (% of total)": 5.135,
          "Year": 1960,
          "index": 48
         },
         {
          "CountryCode": "BRB",
          "CountryName": "Barbados",
          "Total Population": 230934,
          "Urban population (% of total)": 36.777,
          "Year": 1960,
          "index": 49
         },
         {
          "CountryCode": "BLR",
          "CountryName": "Belarus",
          "Total Population": 8198000,
          "Urban population (% of total)": 32.401,
          "Year": 1960,
          "index": 50
         },
         {
          "CountryCode": "BEL",
          "CountryName": "Belgium",
          "Total Population": 9153489,
          "Urban population (% of total)": 92.46,
          "Year": 1960,
          "index": 51
         },
         {
          "CountryCode": "BLZ",
          "CountryName": "Belize",
          "Total Population": 92068,
          "Urban population (% of total)": 54.028,
          "Year": 1960,
          "index": 52
         },
         {
          "CountryCode": "BEN",
          "CountryName": "Benin",
          "Total Population": 2431620,
          "Urban population (% of total)": 9.275,
          "Year": 1960,
          "index": 53
         },
         {
          "CountryCode": "BMU",
          "CountryName": "Bermuda",
          "Total Population": 44400,
          "Urban population (% of total)": 100,
          "Year": 1960,
          "index": 54
         },
         {
          "CountryCode": "BTN",
          "CountryName": "Bhutan",
          "Total Population": 224108,
          "Urban population (% of total)": 3.596,
          "Year": 1960,
          "index": 55
         },
         {
          "CountryCode": "BOL",
          "CountryName": "Bolivia",
          "Total Population": 3693451,
          "Urban population (% of total)": 36.762,
          "Year": 1960,
          "index": 56
         },
         {
          "CountryCode": "BIH",
          "CountryName": "Bosnia and Herzegovina",
          "Total Population": 3214520,
          "Urban population (% of total)": 19.04,
          "Year": 1960,
          "index": 57
         },
         {
          "CountryCode": "BWA",
          "CountryName": "Botswana",
          "Total Population": 524029,
          "Urban population (% of total)": 3.06,
          "Year": 1960,
          "index": 58
         },
         {
          "CountryCode": "BRA",
          "CountryName": "Brazil",
          "Total Population": 72493585,
          "Urban population (% of total)": 46.139,
          "Year": 1960,
          "index": 59
         },
         {
          "CountryCode": "BRN",
          "CountryName": "Brunei Darussalam",
          "Total Population": 81825,
          "Urban population (% of total)": 43.401,
          "Year": 1960,
          "index": 60
         },
         {
          "CountryCode": "BGR",
          "CountryName": "Bulgaria",
          "Total Population": 7867374,
          "Urban population (% of total)": 37.1,
          "Year": 1960,
          "index": 61
         },
         {
          "CountryCode": "BFA",
          "CountryName": "Burkina Faso",
          "Total Population": 4829291,
          "Urban population (% of total)": 4.7,
          "Year": 1960,
          "index": 62
         },
         {
          "CountryCode": "BDI",
          "CountryName": "Burundi",
          "Total Population": 2786740,
          "Urban population (% of total)": 2.077,
          "Year": 1960,
          "index": 63
         },
         {
          "CountryCode": "CPV",
          "CountryName": "Cabo Verde",
          "Total Population": 202316,
          "Urban population (% of total)": 16.679,
          "Year": 1960,
          "index": 64
         },
         {
          "CountryCode": "KHM",
          "CountryName": "Cambodia",
          "Total Population": 5722370,
          "Urban population (% of total)": 10.285,
          "Year": 1960,
          "index": 65
         },
         {
          "CountryCode": "CMR",
          "CountryName": "Cameroon",
          "Total Population": 5361367,
          "Urban population (% of total)": 13.937,
          "Year": 1960,
          "index": 66
         },
         {
          "CountryCode": "CAN",
          "CountryName": "Canada",
          "Total Population": 17909009,
          "Urban population (% of total)": 69.061,
          "Year": 1960,
          "index": 67
         },
         {
          "CountryCode": "CYM",
          "CountryName": "Cayman Islands",
          "Total Population": 7867,
          "Urban population (% of total)": 100,
          "Year": 1960,
          "index": 68
         },
         {
          "CountryCode": "CAF",
          "CountryName": "Central African Republic",
          "Total Population": 1503501,
          "Urban population (% of total)": 20.1,
          "Year": 1960,
          "index": 69
         },
         {
          "CountryCode": "TCD",
          "CountryName": "Chad",
          "Total Population": 3002596,
          "Urban population (% of total)": 6.695,
          "Year": 1960,
          "index": 70
         },
         {
          "CountryCode": "CHI",
          "CountryName": "Channel Islands",
          "Total Population": 109419,
          "Urban population (% of total)": 38.7,
          "Year": 1960,
          "index": 71
         },
         {
          "CountryCode": "CHL",
          "CountryName": "Chile",
          "Total Population": 7695692,
          "Urban population (% of total)": 67.836,
          "Year": 1960,
          "index": 72
         },
         {
          "CountryCode": "CHN",
          "CountryName": "China",
          "Total Population": 667070000,
          "Urban population (% of total)": 16.203,
          "Year": 1960,
          "index": 73
         },
         {
          "CountryCode": "COL",
          "CountryName": "Colombia",
          "Total Population": 16480384,
          "Urban population (% of total)": 45.033,
          "Year": 1960,
          "index": 74
         },
         {
          "CountryCode": "COM",
          "CountryName": "Comoros",
          "Total Population": 188732,
          "Urban population (% of total)": 12.551,
          "Year": 1960,
          "index": 75
         },
         {
          "CountryCode": "ZAR",
          "CountryName": "Congo, Dem. Rep.",
          "Total Population": 15248246,
          "Urban population (% of total)": 22.3,
          "Year": 1960,
          "index": 76
         },
         {
          "CountryCode": "COG",
          "CountryName": "Congo, Rep.",
          "Total Population": 1013581,
          "Urban population (% of total)": 31.601,
          "Year": 1960,
          "index": 77
         },
         {
          "CountryCode": "CRI",
          "CountryName": "Costa Rica",
          "Total Population": 1333042,
          "Urban population (% of total)": 34.254,
          "Year": 1960,
          "index": 78
         },
         {
          "CountryCode": "CIV",
          "CountryName": "Cote d'Ivoire",
          "Total Population": 3474724,
          "Urban population (% of total)": 17.679,
          "Year": 1960,
          "index": 79
         },
         {
          "CountryCode": "HRV",
          "CountryName": "Croatia",
          "Total Population": 4140000,
          "Urban population (% of total)": 30.154,
          "Year": 1960,
          "index": 80
         },
         {
          "CountryCode": "CUB",
          "CountryName": "Cuba",
          "Total Population": 7141129,
          "Urban population (% of total)": 58.401,
          "Year": 1960,
          "index": 81
         },
         {
          "CountryCode": "CUW",
          "CountryName": "Curacao",
          "Total Population": 124826,
          "Urban population (% of total)": 74.71,
          "Year": 1960,
          "index": 82
         },
         {
          "CountryCode": "CYP",
          "CountryName": "Cyprus",
          "Total Population": 572929,
          "Urban population (% of total)": 35.628,
          "Year": 1960,
          "index": 83
         },
         {
          "CountryCode": "CZE",
          "CountryName": "Czech Republic",
          "Total Population": 9602006,
          "Urban population (% of total)": 59.548,
          "Year": 1960,
          "index": 84
         },
         {
          "CountryCode": "DNK",
          "CountryName": "Denmark",
          "Total Population": 4579603,
          "Urban population (% of total)": 73.687,
          "Year": 1960,
          "index": 85
         },
         {
          "CountryCode": "DJI",
          "CountryName": "Djibouti",
          "Total Population": 83636,
          "Urban population (% of total)": 50.325,
          "Year": 1960,
          "index": 86
         },
         {
          "CountryCode": "DMA",
          "CountryName": "Dominica",
          "Total Population": 60016,
          "Urban population (% of total)": 37.846,
          "Year": 1960,
          "index": 87
         },
         {
          "CountryCode": "DOM",
          "CountryName": "Dominican Republic",
          "Total Population": 3294039,
          "Urban population (% of total)": 30.229,
          "Year": 1960,
          "index": 88
         },
         {
          "CountryCode": "ECU",
          "CountryName": "Ecuador",
          "Total Population": 4545548,
          "Urban population (% of total)": 33.878,
          "Year": 1960,
          "index": 89
         },
         {
          "CountryCode": "EGY",
          "CountryName": "Egypt, Arab Rep.",
          "Total Population": 27072397,
          "Urban population (% of total)": 37.864,
          "Year": 1960,
          "index": 90
         },
         {
          "CountryCode": "SLV",
          "CountryName": "El Salvador",
          "Total Population": 2762897,
          "Urban population (% of total)": 38.345,
          "Year": 1960,
          "index": 91
         },
         {
          "CountryCode": "GNQ",
          "CountryName": "Equatorial Guinea",
          "Total Population": 252115,
          "Urban population (% of total)": 25.537,
          "Year": 1960,
          "index": 92
         },
         {
          "CountryCode": "ERI",
          "CountryName": "Eritrea",
          "Total Population": 1407631,
          "Urban population (% of total)": 9.751,
          "Year": 1960,
          "index": 93
         },
         {
          "CountryCode": "EST",
          "CountryName": "Estonia",
          "Total Population": 1211537,
          "Urban population (% of total)": 57.533,
          "Year": 1960,
          "index": 94
         },
         {
          "CountryCode": "ETH",
          "CountryName": "Ethiopia",
          "Total Population": 22151218,
          "Urban population (% of total)": 6.433,
          "Year": 1960,
          "index": 95
         },
         {
          "CountryCode": "FRO",
          "CountryName": "Faeroe Islands",
          "Total Population": 34266,
          "Urban population (% of total)": 21.383,
          "Year": 1960,
          "index": 96
         },
         {
          "CountryCode": "FJI",
          "CountryName": "Fiji",
          "Total Population": 393383,
          "Urban population (% of total)": 29.681,
          "Year": 1960,
          "index": 97
         },
         {
          "CountryCode": "FIN",
          "CountryName": "Finland",
          "Total Population": 4429634,
          "Urban population (% of total)": 55.29,
          "Year": 1960,
          "index": 98
         },
         {
          "CountryCode": "FRA",
          "CountryName": "France",
          "Total Population": 46814237,
          "Urban population (% of total)": 61.88,
          "Year": 1960,
          "index": 99
         },
         {
          "CountryCode": "PYF",
          "CountryName": "French Polynesia",
          "Total Population": 78083,
          "Urban population (% of total)": 42.281,
          "Year": 1960,
          "index": 100
         },
         {
          "CountryCode": "GAB",
          "CountryName": "Gabon",
          "Total Population": 499189,
          "Urban population (% of total)": 17.398,
          "Year": 1960,
          "index": 101
         },
         {
          "CountryCode": "GMB",
          "CountryName": "Gambia, The",
          "Total Population": 367929,
          "Urban population (% of total)": 12.129,
          "Year": 1960,
          "index": 102
         },
         {
          "CountryCode": "GEO",
          "CountryName": "Georgia",
          "Total Population": 3645600,
          "Urban population (% of total)": 43.069,
          "Year": 1960,
          "index": 103
         },
         {
          "CountryCode": "DEU",
          "CountryName": "Germany",
          "Total Population": 72814900,
          "Urban population (% of total)": 71.384,
          "Year": 1960,
          "index": 104
         },
         {
          "CountryCode": "GHA",
          "CountryName": "Ghana",
          "Total Population": 6652285,
          "Urban population (% of total)": 23.252,
          "Year": 1960,
          "index": 105
         },
         {
          "CountryCode": "GRC",
          "CountryName": "Greece",
          "Total Population": 8331725,
          "Urban population (% of total)": 55.936,
          "Year": 1960,
          "index": 106
         },
         {
          "CountryCode": "GRL",
          "CountryName": "Greenland",
          "Total Population": 32500,
          "Urban population (% of total)": 58.534,
          "Year": 1960,
          "index": 107
         },
         {
          "CountryCode": "GRD",
          "CountryName": "Grenada",
          "Total Population": 89861,
          "Urban population (% of total)": 30.332,
          "Year": 1960,
          "index": 108
         },
         {
          "CountryCode": "GUM",
          "CountryName": "Guam",
          "Total Population": 66741,
          "Urban population (% of total)": 50.147,
          "Year": 1960,
          "index": 109
         },
         {
          "CountryCode": "GTM",
          "CountryName": "Guatemala",
          "Total Population": 4127555,
          "Urban population (% of total)": 31.121,
          "Year": 1960,
          "index": 110
         },
         {
          "CountryCode": "GIN",
          "CountryName": "Guinea",
          "Total Population": 3577413,
          "Urban population (% of total)": 10.472,
          "Year": 1960,
          "index": 111
         },
         {
          "CountryCode": "GNB",
          "CountryName": "Guinea-Bissau",
          "Total Population": 616407,
          "Urban population (% of total)": 13.6,
          "Year": 1960,
          "index": 112
         },
         {
          "CountryCode": "GUY",
          "CountryName": "Guyana",
          "Total Population": 564222,
          "Urban population (% of total)": 29.009,
          "Year": 1960,
          "index": 113
         },
         {
          "CountryCode": "HTI",
          "CountryName": "Haiti",
          "Total Population": 3866160,
          "Urban population (% of total)": 15.593,
          "Year": 1960,
          "index": 114
         },
         {
          "CountryCode": "HND",
          "CountryName": "Honduras",
          "Total Population": 2002333,
          "Urban population (% of total)": 22.747,
          "Year": 1960,
          "index": 115
         },
         {
          "CountryCode": "HKG",
          "CountryName": "Hong Kong SAR, China",
          "Total Population": 3075605,
          "Urban population (% of total)": 85.2,
          "Year": 1960,
          "index": 116
         },
         {
          "CountryCode": "HUN",
          "CountryName": "Hungary",
          "Total Population": 9983967,
          "Urban population (% of total)": 55.911,
          "Year": 1960,
          "index": 117
         },
         {
          "CountryCode": "ISL",
          "CountryName": "Iceland",
          "Total Population": 175574,
          "Urban population (% of total)": 80.3,
          "Year": 1960,
          "index": 118
         },
         {
          "CountryCode": "IND",
          "CountryName": "India",
          "Total Population": 449661874,
          "Urban population (% of total)": 17.924,
          "Year": 1960,
          "index": 119
         },
         {
          "CountryCode": "IDN",
          "CountryName": "Indonesia",
          "Total Population": 87792512,
          "Urban population (% of total)": 14.586,
          "Year": 1960,
          "index": 120
         },
         {
          "CountryCode": "IRN",
          "CountryName": "Iran, Islamic Rep.",
          "Total Population": 21906905,
          "Urban population (% of total)": 33.735,
          "Year": 1960,
          "index": 121
         },
         {
          "CountryCode": "IRQ",
          "CountryName": "Iraq",
          "Total Population": 7289759,
          "Urban population (% of total)": 42.899,
          "Year": 1960,
          "index": 122
         },
         {
          "CountryCode": "IRL",
          "CountryName": "Ireland",
          "Total Population": 2828600,
          "Urban population (% of total)": 45.822,
          "Year": 1960,
          "index": 123
         },
         {
          "CountryCode": "IMY",
          "CountryName": "Isle of Man",
          "Total Population": 48441,
          "Urban population (% of total)": 55.123,
          "Year": 1960,
          "index": 124
         },
         {
          "CountryCode": "ISR",
          "CountryName": "Israel",
          "Total Population": 2114020,
          "Urban population (% of total)": 76.848,
          "Year": 1960,
          "index": 125
         },
         {
          "CountryCode": "ITA",
          "CountryName": "Italy",
          "Total Population": 50199700,
          "Urban population (% of total)": 59.361,
          "Year": 1960,
          "index": 126
         },
         {
          "CountryCode": "JAM",
          "CountryName": "Jamaica",
          "Total Population": 1629003,
          "Urban population (% of total)": 33.769,
          "Year": 1960,
          "index": 127
         },
         {
          "CountryCode": "JPN",
          "CountryName": "Japan",
          "Total Population": 92500572,
          "Urban population (% of total)": 63.272,
          "Year": 1960,
          "index": 128
         },
         {
          "CountryCode": "JOR",
          "CountryName": "Jordan",
          "Total Population": 844000,
          "Urban population (% of total)": 50.879,
          "Year": 1960,
          "index": 129
         },
         {
          "CountryCode": "KAZ",
          "CountryName": "Kazakhstan",
          "Total Population": 9714260,
          "Urban population (% of total)": 44.198,
          "Year": 1960,
          "index": 130
         },
         {
          "CountryCode": "KEN",
          "CountryName": "Kenya",
          "Total Population": 8105440,
          "Urban population (% of total)": 7.362,
          "Year": 1960,
          "index": 131
         },
         {
          "CountryCode": "KIR",
          "CountryName": "Kiribati",
          "Total Population": 41234,
          "Urban population (% of total)": 16.29,
          "Year": 1960,
          "index": 132
         },
         {
          "CountryCode": "PRK",
          "CountryName": "Korea, Dem. Rep.",
          "Total Population": 11424179,
          "Urban population (% of total)": 40.195,
          "Year": 1960,
          "index": 133
         },
         {
          "CountryCode": "KOR",
          "CountryName": "Korea, Rep.",
          "Total Population": 25012374,
          "Urban population (% of total)": 27.71,
          "Year": 1960,
          "index": 134
         },
         {
          "CountryCode": "KWT",
          "CountryName": "Kuwait",
          "Total Population": 261962,
          "Urban population (% of total)": 74.893,
          "Year": 1960,
          "index": 135
         },
         {
          "CountryCode": "KGZ",
          "CountryName": "Kyrgyz Republic",
          "Total Population": 2172300,
          "Urban population (% of total)": 34.181,
          "Year": 1960,
          "index": 136
         },
         {
          "CountryCode": "LAO",
          "CountryName": "Lao PDR",
          "Total Population": 2119944,
          "Urban population (% of total)": 7.946,
          "Year": 1960,
          "index": 137
         },
         {
          "CountryCode": "LVA",
          "CountryName": "Latvia",
          "Total Population": 2120979,
          "Urban population (% of total)": 52.867,
          "Year": 1960,
          "index": 138
         },
         {
          "CountryCode": "LBN",
          "CountryName": "Lebanon",
          "Total Population": 1804927,
          "Urban population (% of total)": 42.343,
          "Year": 1960,
          "index": 139
         },
         {
          "CountryCode": "LSO",
          "CountryName": "Lesotho",
          "Total Population": 851412,
          "Urban population (% of total)": 3.512,
          "Year": 1960,
          "index": 140
         },
         {
          "CountryCode": "LBR",
          "CountryName": "Liberia",
          "Total Population": 1120314,
          "Urban population (% of total)": 18.632,
          "Year": 1960,
          "index": 141
         },
         {
          "CountryCode": "LBY",
          "CountryName": "Libya",
          "Total Population": 1434576,
          "Urban population (% of total)": 27.323,
          "Year": 1960,
          "index": 142
         },
         {
          "CountryCode": "LIE",
          "CountryName": "Liechtenstein",
          "Total Population": 16504,
          "Urban population (% of total)": 20.437,
          "Year": 1960,
          "index": 143
         },
         {
          "CountryCode": "LTU",
          "CountryName": "Lithuania",
          "Total Population": 2778550,
          "Urban population (% of total)": 39.46,
          "Year": 1960,
          "index": 144
         },
         {
          "CountryCode": "LUX",
          "CountryName": "Luxembourg",
          "Total Population": 313970,
          "Urban population (% of total)": 69.556,
          "Year": 1960,
          "index": 145
         },
         {
          "CountryCode": "MAC",
          "CountryName": "Macao SAR, China",
          "Total Population": 171456,
          "Urban population (% of total)": 95.289,
          "Year": 1960,
          "index": 146
         },
         {
          "CountryCode": "MKD",
          "CountryName": "Macedonia, FYR",
          "Total Population": 1488664,
          "Urban population (% of total)": 34.02,
          "Year": 1960,
          "index": 147
         },
         {
          "CountryCode": "MDG",
          "CountryName": "Madagascar",
          "Total Population": 5099371,
          "Urban population (% of total)": 10.642,
          "Year": 1960,
          "index": 148
         },
         {
          "CountryCode": "MWI",
          "CountryName": "Malawi",
          "Total Population": 3618604,
          "Urban population (% of total)": 4.39,
          "Year": 1960,
          "index": 149
         },
         {
          "CountryCode": "MYS",
          "CountryName": "Malaysia",
          "Total Population": 8160975,
          "Urban population (% of total)": 26.598,
          "Year": 1960,
          "index": 150
         },
         {
          "CountryCode": "MDV",
          "CountryName": "Maldives",
          "Total Population": 89875,
          "Urban population (% of total)": 11.173,
          "Year": 1960,
          "index": 151
         },
         {
          "CountryCode": "MLI",
          "CountryName": "Mali",
          "Total Population": 5263730,
          "Urban population (% of total)": 11.066,
          "Year": 1960,
          "index": 152
         },
         {
          "CountryCode": "MLT",
          "CountryName": "Malta",
          "Total Population": 326550,
          "Urban population (% of total)": 90.129,
          "Year": 1960,
          "index": 153
         },
         {
          "CountryCode": "MHL",
          "CountryName": "Marshall Islands",
          "Total Population": 14665,
          "Urban population (% of total)": 35.584,
          "Year": 1960,
          "index": 154
         },
         {
          "CountryCode": "MRT",
          "CountryName": "Mauritania",
          "Total Population": 858170,
          "Urban population (% of total)": 6.88,
          "Year": 1960,
          "index": 155
         },
         {
          "CountryCode": "MUS",
          "CountryName": "Mauritius",
          "Total Population": 659351,
          "Urban population (% of total)": 33.177,
          "Year": 1960,
          "index": 156
         },
         {
          "CountryCode": "MEX",
          "CountryName": "Mexico",
          "Total Population": 38174114,
          "Urban population (% of total)": 50.753,
          "Year": 1960,
          "index": 157
         },
         {
          "CountryCode": "FSM",
          "CountryName": "Micronesia, Fed. Sts.",
          "Total Population": 44539,
          "Urban population (% of total)": 22.312,
          "Year": 1960,
          "index": 158
         },
         {
          "CountryCode": "MDA",
          "CountryName": "Moldova",
          "Total Population": 2544000,
          "Urban population (% of total)": 23.424,
          "Year": 1960,
          "index": 159
         },
         {
          "CountryCode": "MCO",
          "CountryName": "Monaco",
          "Total Population": 22454,
          "Urban population (% of total)": 100,
          "Year": 1960,
          "index": 160
         },
         {
          "CountryCode": "MNG",
          "CountryName": "Mongolia",
          "Total Population": 955514,
          "Urban population (% of total)": 35.679,
          "Year": 1960,
          "index": 161
         },
         {
          "CountryCode": "MNE",
          "CountryName": "Montenegro",
          "Total Population": 474203,
          "Urban population (% of total)": 18.788,
          "Year": 1960,
          "index": 162
         },
         {
          "CountryCode": "MAR",
          "CountryName": "Morocco",
          "Total Population": 12328534,
          "Urban population (% of total)": 29.357,
          "Year": 1960,
          "index": 163
         },
         {
          "CountryCode": "MOZ",
          "CountryName": "Mozambique",
          "Total Population": 7493278,
          "Urban population (% of total)": 4.769,
          "Year": 1960,
          "index": 164
         },
         {
          "CountryCode": "MMR",
          "CountryName": "Myanmar",
          "Total Population": 21486424,
          "Urban population (% of total)": 19.226,
          "Year": 1960,
          "index": 165
         },
         {
          "CountryCode": "NAM",
          "CountryName": "Namibia",
          "Total Population": 602545,
          "Urban population (% of total)": 17.909,
          "Year": 1960,
          "index": 166
         },
         {
          "CountryCode": "NPL",
          "CountryName": "Nepal",
          "Total Population": 10056945,
          "Urban population (% of total)": 3.48,
          "Year": 1960,
          "index": 167
         },
         {
          "CountryCode": "NLD",
          "CountryName": "Netherlands",
          "Total Population": 11486631,
          "Urban population (% of total)": 59.752,
          "Year": 1960,
          "index": 168
         },
         {
          "CountryCode": "NCL",
          "CountryName": "New Caledonia",
          "Total Population": 79000,
          "Urban population (% of total)": 37.36,
          "Year": 1960,
          "index": 169
         },
         {
          "CountryCode": "NZL",
          "CountryName": "New Zealand",
          "Total Population": 2371800,
          "Urban population (% of total)": 75.998,
          "Year": 1960,
          "index": 170
         },
         {
          "CountryCode": "NIC",
          "CountryName": "Nicaragua",
          "Total Population": 1774696,
          "Urban population (% of total)": 39.581,
          "Year": 1960,
          "index": 171
         },
         {
          "CountryCode": "NER",
          "CountryName": "Niger",
          "Total Population": 3395212,
          "Urban population (% of total)": 5.793,
          "Year": 1960,
          "index": 172
         },
         {
          "CountryCode": "NGA",
          "CountryName": "Nigeria",
          "Total Population": 45211614,
          "Urban population (% of total)": 15.41,
          "Year": 1960,
          "index": 173
         },
         {
          "CountryCode": "MNP",
          "CountryName": "Northern Mariana Islands",
          "Total Population": 10070,
          "Urban population (% of total)": 51.219,
          "Year": 1960,
          "index": 174
         },
         {
          "CountryCode": "NOR",
          "CountryName": "Norway",
          "Total Population": 3581239,
          "Urban population (% of total)": 49.92,
          "Year": 1960,
          "index": 175
         },
         {
          "CountryCode": "OMN",
          "CountryName": "Oman",
          "Total Population": 551737,
          "Urban population (% of total)": 16.4,
          "Year": 1960,
          "index": 176
         },
         {
          "CountryCode": "PAK",
          "CountryName": "Pakistan",
          "Total Population": 44911810,
          "Urban population (% of total)": 22.104,
          "Year": 1960,
          "index": 177
         },
         {
          "CountryCode": "PLW",
          "CountryName": "Palau",
          "Total Population": 9638,
          "Urban population (% of total)": 56.823,
          "Year": 1960,
          "index": 178
         },
         {
          "CountryCode": "PAN",
          "CountryName": "Panama",
          "Total Population": 1132924,
          "Urban population (% of total)": 41.249,
          "Year": 1960,
          "index": 179
         },
         {
          "CountryCode": "PNG",
          "CountryName": "Papua New Guinea",
          "Total Population": 1966957,
          "Urban population (% of total)": 3.725,
          "Year": 1960,
          "index": 180
         },
         {
          "CountryCode": "PRY",
          "CountryName": "Paraguay",
          "Total Population": 1902871,
          "Urban population (% of total)": 35.569,
          "Year": 1960,
          "index": 181
         },
         {
          "CountryCode": "PER",
          "CountryName": "Peru",
          "Total Population": 10061519,
          "Urban population (% of total)": 46.811,
          "Year": 1960,
          "index": 182
         },
         {
          "CountryCode": "PHL",
          "CountryName": "Philippines",
          "Total Population": 26273023,
          "Urban population (% of total)": 30.297,
          "Year": 1960,
          "index": 183
         },
         {
          "CountryCode": "POL",
          "CountryName": "Poland",
          "Total Population": 29637450,
          "Urban population (% of total)": 47.892,
          "Year": 1960,
          "index": 184
         },
         {
          "CountryCode": "PRT",
          "CountryName": "Portugal",
          "Total Population": 8857716,
          "Urban population (% of total)": 34.955,
          "Year": 1960,
          "index": 185
         },
         {
          "CountryCode": "PRI",
          "CountryName": "Puerto Rico",
          "Total Population": 2358000,
          "Urban population (% of total)": 44.547,
          "Year": 1960,
          "index": 186
         },
         {
          "CountryCode": "QAT",
          "CountryName": "Qatar",
          "Total Population": 47309,
          "Urban population (% of total)": 85.275,
          "Year": 1960,
          "index": 187
         },
         {
          "CountryCode": "ROM",
          "CountryName": "Romania",
          "Total Population": 18406905,
          "Urban population (% of total)": 34.209,
          "Year": 1960,
          "index": 188
         },
         {
          "CountryCode": "RUS",
          "CountryName": "Russian Federation",
          "Total Population": 119897000,
          "Urban population (% of total)": 53.731,
          "Year": 1960,
          "index": 189
         },
         {
          "CountryCode": "RWA",
          "CountryName": "Rwanda",
          "Total Population": 2933424,
          "Urban population (% of total)": 2.6,
          "Year": 1960,
          "index": 190
         },
         {
          "CountryCode": "WSM",
          "CountryName": "Samoa",
          "Total Population": 108645,
          "Urban population (% of total)": 18.926,
          "Year": 1960,
          "index": 191
         },
         {
          "CountryCode": "SMR",
          "CountryName": "San Marino",
          "Total Population": 15393,
          "Urban population (% of total)": 48.9,
          "Year": 1960,
          "index": 192
         },
         {
          "CountryCode": "STP",
          "CountryName": "Sao Tome and Principe",
          "Total Population": 64255,
          "Urban population (% of total)": 16.073,
          "Year": 1960,
          "index": 193
         },
         {
          "CountryCode": "SAU",
          "CountryName": "Saudi Arabia",
          "Total Population": 4086539,
          "Urban population (% of total)": 31.25,
          "Year": 1960,
          "index": 194
         },
         {
          "CountryCode": "SEN",
          "CountryName": "Senegal",
          "Total Population": 3177560,
          "Urban population (% of total)": 23,
          "Year": 1960,
          "index": 195
         },
         {
          "CountryCode": "SYC",
          "CountryName": "Seychelles",
          "Total Population": 41700,
          "Urban population (% of total)": 27.673,
          "Year": 1960,
          "index": 196
         },
         {
          "CountryCode": "SLE",
          "CountryName": "Sierra Leone",
          "Total Population": 2181701,
          "Urban population (% of total)": 17.352,
          "Year": 1960,
          "index": 197
         },
         {
          "CountryCode": "SGP",
          "CountryName": "Singapore",
          "Total Population": 1646400,
          "Urban population (% of total)": 100,
          "Year": 1960,
          "index": 198
         },
         {
          "CountryCode": "SVK",
          "CountryName": "Slovak Republic",
          "Total Population": 4068095,
          "Urban population (% of total)": 33.464,
          "Year": 1960,
          "index": 199
         },
         {
          "CountryCode": "SVN",
          "CountryName": "Slovenia",
          "Total Population": 1584720,
          "Urban population (% of total)": 28.204,
          "Year": 1960,
          "index": 200
         },
         {
          "CountryCode": "SLB",
          "CountryName": "Solomon Islands",
          "Total Population": 117869,
          "Urban population (% of total)": 5.768,
          "Year": 1960,
          "index": 201
         },
         {
          "CountryCode": "SOM",
          "CountryName": "Somalia",
          "Total Population": 2756380,
          "Urban population (% of total)": 17.312,
          "Year": 1960,
          "index": 202
         },
         {
          "CountryCode": "ZAF",
          "CountryName": "South Africa",
          "Total Population": 17396000,
          "Urban population (% of total)": 46.619,
          "Year": 1960,
          "index": 203
         },
         {
          "CountryCode": "SSD",
          "CountryName": "South Sudan",
          "Total Population": 2955044,
          "Urban population (% of total)": 8.748,
          "Year": 1960,
          "index": 204
         },
         {
          "CountryCode": "ESP",
          "CountryName": "Spain",
          "Total Population": 30455000,
          "Urban population (% of total)": 56.567,
          "Year": 1960,
          "index": 205
         },
         {
          "CountryCode": "LKA",
          "CountryName": "Sri Lanka",
          "Total Population": 9896000,
          "Urban population (% of total)": 16.431,
          "Year": 1960,
          "index": 206
         },
         {
          "CountryCode": "KNA",
          "CountryName": "St. Kitts and Nevis",
          "Total Population": 51197,
          "Urban population (% of total)": 27.644,
          "Year": 1960,
          "index": 207
         },
         {
          "CountryCode": "LCA",
          "CountryName": "St. Lucia",
          "Total Population": 89901,
          "Urban population (% of total)": 21.46,
          "Year": 1960,
          "index": 208
         },
         {
          "CountryCode": "VCT",
          "CountryName": "St. Vincent and the Grenadines",
          "Total Population": 80948,
          "Urban population (% of total)": 25.943,
          "Year": 1960,
          "index": 209
         },
         {
          "CountryCode": "SDN",
          "CountryName": "Sudan",
          "Total Population": 7527450,
          "Urban population (% of total)": 10.746,
          "Year": 1960,
          "index": 210
         },
         {
          "CountryCode": "SUR",
          "CountryName": "Suriname",
          "Total Population": 289972,
          "Urban population (% of total)": 47.26,
          "Year": 1960,
          "index": 211
         },
         {
          "CountryCode": "SWZ",
          "CountryName": "Swaziland",
          "Total Population": 349233,
          "Urban population (% of total)": 3.913,
          "Year": 1960,
          "index": 212
         },
         {
          "CountryCode": "SWE",
          "CountryName": "Sweden",
          "Total Population": 7484656,
          "Urban population (% of total)": 72.49,
          "Year": 1960,
          "index": 213
         },
         {
          "CountryCode": "CHE",
          "CountryName": "Switzerland",
          "Total Population": 5327827,
          "Urban population (% of total)": 51.019,
          "Year": 1960,
          "index": 214
         },
         {
          "CountryCode": "SYR",
          "CountryName": "Syrian Arab Republic",
          "Total Population": 4592777,
          "Urban population (% of total)": 36.807,
          "Year": 1960,
          "index": 215
         },
         {
          "CountryCode": "TJK",
          "CountryName": "Tajikistan",
          "Total Population": 2064035,
          "Urban population (% of total)": 33.168,
          "Year": 1960,
          "index": 216
         },
         {
          "CountryCode": "TZA",
          "CountryName": "Tanzania",
          "Total Population": 10074490,
          "Urban population (% of total)": 5.246,
          "Year": 1960,
          "index": 217
         },
         {
          "CountryCode": "THA",
          "CountryName": "Thailand",
          "Total Population": 27397178,
          "Urban population (% of total)": 19.672,
          "Year": 1960,
          "index": 218
         },
         {
          "CountryCode": "TMP",
          "CountryName": "Timor-Leste",
          "Total Population": 499525,
          "Urban population (% of total)": 10.091,
          "Year": 1960,
          "index": 219
         },
         {
          "CountryCode": "TGO",
          "CountryName": "Togo",
          "Total Population": 1580513,
          "Urban population (% of total)": 10.098,
          "Year": 1960,
          "index": 220
         },
         {
          "CountryCode": "TON",
          "CountryName": "Tonga",
          "Total Population": 61600,
          "Urban population (% of total)": 17.552,
          "Year": 1960,
          "index": 221
         },
         {
          "CountryCode": "TTO",
          "CountryName": "Trinidad and Tobago",
          "Total Population": 848481,
          "Urban population (% of total)": 17.349,
          "Year": 1960,
          "index": 222
         },
         {
          "CountryCode": "TUN",
          "CountryName": "Tunisia",
          "Total Population": 4220701,
          "Urban population (% of total)": 37.511,
          "Year": 1960,
          "index": 223
         },
         {
          "CountryCode": "TUR",
          "CountryName": "Turkey",
          "Total Population": 27553280,
          "Urban population (% of total)": 31.515,
          "Year": 1960,
          "index": 224
         },
         {
          "CountryCode": "TKM",
          "CountryName": "Turkmenistan",
          "Total Population": 1593501,
          "Urban population (% of total)": 46.412,
          "Year": 1960,
          "index": 225
         },
         {
          "CountryCode": "TCA",
          "CountryName": "Turks and Caicos Islands",
          "Total Population": 5724,
          "Urban population (% of total)": 47.679,
          "Year": 1960,
          "index": 226
         },
         {
          "CountryCode": "TUV",
          "CountryName": "Tuvalu",
          "Total Population": 6104,
          "Urban population (% of total)": 15.895,
          "Year": 1960,
          "index": 227
         },
         {
          "CountryCode": "UGA",
          "CountryName": "Uganda",
          "Total Population": 6788211,
          "Urban population (% of total)": 4.417,
          "Year": 1960,
          "index": 228
         },
         {
          "CountryCode": "UKR",
          "CountryName": "Ukraine",
          "Total Population": 42662150,
          "Urban population (% of total)": 46.792,
          "Year": 1960,
          "index": 229
         },
         {
          "CountryCode": "ARE",
          "CountryName": "United Arab Emirates",
          "Total Population": 92612,
          "Urban population (% of total)": 73.5,
          "Year": 1960,
          "index": 230
         },
         {
          "CountryCode": "GBR",
          "CountryName": "United Kingdom",
          "Total Population": 52400000,
          "Urban population (% of total)": 78.444,
          "Year": 1960,
          "index": 231
         },
         {
          "CountryCode": "USA",
          "CountryName": "United States",
          "Total Population": 180671000,
          "Urban population (% of total)": 69.996,
          "Year": 1960,
          "index": 232
         },
         {
          "CountryCode": "URY",
          "CountryName": "Uruguay",
          "Total Population": 2538651,
          "Urban population (% of total)": 80.241,
          "Year": 1960,
          "index": 233
         },
         {
          "CountryCode": "UZB",
          "CountryName": "Uzbekistan",
          "Total Population": 8789492,
          "Urban population (% of total)": 33.978,
          "Year": 1960,
          "index": 234
         },
         {
          "CountryCode": "VUT",
          "CountryName": "Vanuatu",
          "Total Population": 63701,
          "Urban population (% of total)": 10.404,
          "Year": 1960,
          "index": 235
         },
         {
          "CountryCode": "VEN",
          "CountryName": "Venezuela, RB",
          "Total Population": 8146845,
          "Urban population (% of total)": 61.613,
          "Year": 1960,
          "index": 236
         },
         {
          "CountryCode": "VNM",
          "CountryName": "Vietnam",
          "Total Population": 34743000,
          "Urban population (% of total)": 14.7,
          "Year": 1960,
          "index": 237
         },
         {
          "CountryCode": "VIR",
          "CountryName": "Virgin Islands (U.S.)",
          "Total Population": 32000,
          "Urban population (% of total)": 56.477,
          "Year": 1960,
          "index": 238
         },
         {
          "CountryCode": "YEM",
          "CountryName": "Yemen, Rep.",
          "Total Population": 5166311,
          "Urban population (% of total)": 9.1,
          "Year": 1960,
          "index": 239
         },
         {
          "CountryCode": "ZMB",
          "CountryName": "Zambia",
          "Total Population": 3049586,
          "Urban population (% of total)": 18.145,
          "Year": 1960,
          "index": 240
         },
         {
          "CountryCode": "ZWE",
          "CountryName": "Zimbabwe",
          "Total Population": 3752390,
          "Urban population (% of total)": 12.608,
          "Year": 1960,
          "index": 241
         },
         {
          "CountryCode": "ARB",
          "CountryName": "Arab World",
          "Total Population": 95041593,
          "Urban population (% of total)": 32.0290757077,
          "Year": 1961,
          "index": 242
         },
         {
          "CountryCode": "CSS",
          "CountryName": "Caribbean small states",
          "Total Population": 4270928,
          "Urban population (% of total)": 31.8190266062,
          "Year": 1961,
          "index": 243
         },
         {
          "CountryCode": "CEB",
          "CountryName": "Central Europe and the Baltics",
          "Total Population": 92237118,
          "Urban population (% of total)": 45.2066653192,
          "Year": 1961,
          "index": 244
         },
         {
          "CountryCode": "EAS",
          "CountryName": "East Asia & Pacific (all income levels)",
          "Total Population": 1045789318,
          "Urban population (% of total)": 23.1221808,
          "Year": 1961,
          "index": 245
         },
         {
          "CountryCode": "EAP",
          "CountryName": "East Asia & Pacific (developing only)",
          "Total Population": 895784704,
          "Urban population (% of total)": 17.3909409112,
          "Year": 1961,
          "index": 246
         },
         {
          "CountryCode": "EMU",
          "CountryName": "Euro area",
          "Total Population": 267825309,
          "Urban population (% of total)": 62.575285338,
          "Year": 1961,
          "index": 247
         },
         {
          "CountryCode": "ECS",
          "CountryName": "Europe & Central Asia (all income levels)",
          "Total Population": 675181708,
          "Urban population (% of total)": 55.9150392073,
          "Year": 1961,
          "index": 248
         },
         {
          "CountryCode": "ECA",
          "CountryName": "Europe & Central Asia (developing only)",
          "Total Population": 158242146,
          "Urban population (% of total)": 38.7597975326,
          "Year": 1961,
          "index": 249
         },
         {
          "CountryCode": "EUU",
          "CountryName": "European Union",
          "Total Population": 413007006,
          "Urban population (% of total)": 61.6736073879,
          "Year": 1961,
          "index": 250
         },
         {
          "CountryCode": "FCS",
          "CountryName": "Fragile and conflict affected situations",
          "Total Population": 123125186,
          "Urban population (% of total)": 18.3899159549,
          "Year": 1961,
          "index": 251
         },
         {
          "CountryCode": "HPC",
          "CountryName": "Heavily indebted poor countries (HIPC)",
          "Total Population": 166337526,
          "Urban population (% of total)": 12.5831425781,
          "Year": 1961,
          "index": 252
         },
         {
          "CountryCode": "HIC",
          "CountryName": "High income",
          "Total Population": 920970907,
          "Urban population (% of total)": 63.2470129357,
          "Year": 1961,
          "index": 253
         },
         {
          "CountryCode": "NOC",
          "CountryName": "High income: nonOECD",
          "Total Population": 189656817,
          "Urban population (% of total)": 56.9767694828,
          "Year": 1961,
          "index": 254
         },
         {
          "CountryCode": "OEC",
          "CountryName": "High income: OECD",
          "Total Population": 731314090,
          "Urban population (% of total)": 64.7785824676,
          "Year": 1961,
          "index": 255
         },
         {
          "CountryCode": "LCN",
          "CountryName": "Latin America & Caribbean (all income levels)",
          "Total Population": 226764342,
          "Urban population (% of total)": 50.0734541032,
          "Year": 1961,
          "index": 256
         },
         {
          "CountryCode": "LAC",
          "CountryName": "Latin America & Caribbean (developing only)",
          "Total Population": 182952027,
          "Urban population (% of total)": 45.6999419016,
          "Year": 1961,
          "index": 257
         },
         {
          "CountryCode": "LDC",
          "CountryName": "Least developed countries: UN classification",
          "Total Population": 246733124,
          "Urban population (% of total)": 9.8622591128,
          "Year": 1961,
          "index": 258
         },
         {
          "CountryCode": "LMY",
          "CountryName": "Low & middle income",
          "Total Population": 2155067832,
          "Urban population (% of total)": 21.7495240804,
          "Year": 1961,
          "index": 259
         },
         {
          "CountryCode": "LIC",
          "CountryName": "Low income",
          "Total Population": 160642778,
          "Urban population (% of total)": 11.7795234993,
          "Year": 1961,
          "index": 260
         },
         {
          "CountryCode": "LMC",
          "CountryName": "Lower middle income",
          "Total Population": 964242763,
          "Urban population (% of total)": 20.042609761,
          "Year": 1961,
          "index": 261
         },
         {
          "CountryCode": "MEA",
          "CountryName": "Middle East & North Africa (all income levels)",
          "Total Population": 108392645,
          "Urban population (% of total)": 35.7080672463,
          "Year": 1961,
          "index": 262
         },
         {
          "CountryCode": "MNA",
          "CountryName": "Middle East & North Africa (developing only)",
          "Total Population": 100483718,
          "Urban population (% of total)": 34.5954743023,
          "Year": 1961,
          "index": 263
         },
         {
          "CountryCode": "MIC",
          "CountryName": "Middle income",
          "Total Population": 1994425054,
          "Urban population (% of total)": 22.5529559777,
          "Year": 1961,
          "index": 264
         },
         {
          "CountryCode": "NAC",
          "CountryName": "North America",
          "Total Population": 202007500,
          "Urban population (% of total)": 70.3195452397,
          "Year": 1961,
          "index": 265
         },
         {
          "CountryCode": "OED",
          "CountryName": "OECD members",
          "Total Population": 798937506,
          "Urban population (% of total)": 62.9723559181,
          "Year": 1961,
          "index": 266
         },
         {
          "CountryCode": "OSS",
          "CountryName": "Other small states",
          "Total Population": 6721830,
          "Urban population (% of total)": 14.7855272194,
          "Year": 1961,
          "index": 267
         },
         {
          "CountryCode": "PSS",
          "CountryName": "Pacific island small states",
          "Total Population": 889536,
          "Urban population (% of total)": 22.4738850772,
          "Year": 1961,
          "index": 268
         },
         {
          "CountryCode": "SST",
          "CountryName": "Small states",
          "Total Population": 11882294,
          "Urban population (% of total)": 21.4835537591,
          "Year": 1961,
          "index": 269
         },
         {
          "CountryCode": "SAS",
          "CountryName": "South Asia",
          "Total Population": 584143236,
          "Urban population (% of total)": 16.8669810944,
          "Year": 1961,
          "index": 270
         },
         {
          "CountryCode": "SSF",
          "CountryName": "Sub-Saharan Africa (all income levels)",
          "Total Population": 233759990,
          "Urban population (% of total)": 14.9475896447,
          "Year": 1961,
          "index": 271
         },
         {
          "CountryCode": "SSA",
          "CountryName": "Sub-Saharan Africa (developing only)",
          "Total Population": 233462001,
          "Urban population (% of total)": 14.932825955,
          "Year": 1961,
          "index": 272
         },
         {
          "CountryCode": "UMC",
          "CountryName": "Upper middle income",
          "Total Population": 1030182291,
          "Urban population (% of total)": 24.900266933,
          "Year": 1961,
          "index": 273
         },
         {
          "CountryCode": "WLD",
          "CountryName": "World",
          "Total Population": 3076038739,
          "Urban population (% of total)": 34.0732352726,
          "Year": 1961,
          "index": 274
         },
         {
          "CountryCode": "AFG",
          "CountryName": "Afghanistan",
          "Total Population": 9164945,
          "Urban population (% of total)": 8.508,
          "Year": 1961,
          "index": 275
         },
         {
          "CountryCode": "ALB",
          "CountryName": "Albania",
          "Total Population": 1659800,
          "Urban population (% of total)": 30.943,
          "Year": 1961,
          "index": 276
         },
         {
          "CountryCode": "DZA",
          "CountryName": "Algeria",
          "Total Population": 11404859,
          "Urban population (% of total)": 31.797,
          "Year": 1961,
          "index": 277
         },
         {
          "CountryCode": "ASM",
          "CountryName": "American Samoa",
          "Total Population": 20478,
          "Urban population (% of total)": 66.641,
          "Year": 1961,
          "index": 278
         },
         {
          "CountryCode": "ADO",
          "CountryName": "Andorra",
          "Total Population": 14376,
          "Urban population (% of total)": 60.983,
          "Year": 1961,
          "index": 279
         },
         {
          "CountryCode": "AGO",
          "CountryName": "Angola",
          "Total Population": 5367287,
          "Urban population (% of total)": 10.798,
          "Year": 1961,
          "index": 280
         },
         {
          "CountryCode": "ATG",
          "CountryName": "Antigua and Barbuda",
          "Total Population": 55403,
          "Urban population (% of total)": 39.04,
          "Year": 1961,
          "index": 281
         },
         {
          "CountryCode": "ARG",
          "CountryName": "Argentina",
          "Total Population": 20953079,
          "Urban population (% of total)": 74.217,
          "Year": 1961,
          "index": 282
         },
         {
          "CountryCode": "ARM",
          "CountryName": "Armenia",
          "Total Population": 1934239,
          "Urban population (% of total)": 52.147,
          "Year": 1961,
          "index": 283
         },
         {
          "CountryCode": "ABW",
          "CountryName": "Aruba",
          "Total Population": 55435,
          "Urban population (% of total)": 50.761,
          "Year": 1961,
          "index": 284
         },
         {
          "CountryCode": "AUS",
          "CountryName": "Australia",
          "Total Population": 10483000,
          "Urban population (% of total)": 81.941,
          "Year": 1961,
          "index": 285
         },
         {
          "CountryCode": "AUT",
          "CountryName": "Austria",
          "Total Population": 7086299,
          "Urban population (% of total)": 64.814,
          "Year": 1961,
          "index": 286
         },
         {
          "CountryCode": "AZE",
          "CountryName": "Azerbaijan",
          "Total Population": 4030130,
          "Urban population (% of total)": 52.364,
          "Year": 1961,
          "index": 287
         },
         {
          "CountryCode": "BHS",
          "CountryName": "Bahamas, The",
          "Total Population": 115108,
          "Urban population (% of total)": 60.454,
          "Year": 1961,
          "index": 288
         },
         {
          "CountryCode": "BHR",
          "CountryName": "Bahrain",
          "Total Population": 167924,
          "Urban population (% of total)": 82.337,
          "Year": 1961,
          "index": 289
         },
         {
          "CountryCode": "BGD",
          "CountryName": "Bangladesh",
          "Total Population": 49593610,
          "Urban population (% of total)": 5.278,
          "Year": 1961,
          "index": 290
         },
         {
          "CountryCode": "BRB",
          "CountryName": "Barbados",
          "Total Population": 231674,
          "Urban population (% of total)": 36.849,
          "Year": 1961,
          "index": 291
         },
         {
          "CountryCode": "BLR",
          "CountryName": "Belarus",
          "Total Population": 8271216,
          "Urban population (% of total)": 33.522,
          "Year": 1961,
          "index": 292
         },
         {
          "CountryCode": "BEL",
          "CountryName": "Belgium",
          "Total Population": 9183948,
          "Urban population (% of total)": 92.554,
          "Year": 1961,
          "index": 293
         },
         {
          "CountryCode": "BLZ",
          "CountryName": "Belize",
          "Total Population": 94701,
          "Urban population (% of total)": 53.72,
          "Year": 1961,
          "index": 294
         },
         {
          "CountryCode": "BEN",
          "CountryName": "Benin",
          "Total Population": 2466002,
          "Urban population (% of total)": 9.856,
          "Year": 1961,
          "index": 295
         },
         {
          "CountryCode": "BMU",
          "CountryName": "Bermuda",
          "Total Population": 45500,
          "Urban population (% of total)": 100,
          "Year": 1961,
          "index": 296
         },
         {
          "CountryCode": "BTN",
          "CountryName": "Bhutan",
          "Total Population": 229297,
          "Urban population (% of total)": 3.792,
          "Year": 1961,
          "index": 297
         },
         {
          "CountryCode": "BOL",
          "CountryName": "Bolivia",
          "Total Population": 3764815,
          "Urban population (% of total)": 37.059,
          "Year": 1961,
          "index": 298
         },
         {
          "CountryCode": "BIH",
          "CountryName": "Bosnia and Herzegovina",
          "Total Population": 3277096,
          "Urban population (% of total)": 19.686,
          "Year": 1961,
          "index": 299
         },
         {
          "CountryCode": "BWA",
          "CountryName": "Botswana",
          "Total Population": 536576,
          "Urban population (% of total)": 3.097,
          "Year": 1961,
          "index": 300
         },
         {
          "CountryCode": "BRA",
          "CountryName": "Brazil",
          "Total Population": 74706888,
          "Urban population (% of total)": 47.122,
          "Year": 1961,
          "index": 301
         },
         {
          "CountryCode": "BRN",
          "CountryName": "Brunei Darussalam",
          "Total Population": 85687,
          "Urban population (% of total)": 45.228,
          "Year": 1961,
          "index": 302
         },
         {
          "CountryCode": "BGR",
          "CountryName": "Bulgaria",
          "Total Population": 7943118,
          "Urban population (% of total)": 38.782,
          "Year": 1961,
          "index": 303
         },
         {
          "CountryCode": "BFA",
          "CountryName": "Burkina Faso",
          "Total Population": 4894578,
          "Urban population (% of total)": 4.796,
          "Year": 1961,
          "index": 304
         },
         {
          "CountryCode": "BDI",
          "CountryName": "Burundi",
          "Total Population": 2840375,
          "Urban population (% of total)": 2.115,
          "Year": 1961,
          "index": 305
         },
         {
          "CountryCode": "CPV",
          "CountryName": "Cabo Verde",
          "Total Population": 205958,
          "Urban population (% of total)": 16.948,
          "Year": 1961,
          "index": 306
         },
         {
          "CountryCode": "KHM",
          "CountryName": "Cambodia",
          "Total Population": 5872247,
          "Urban population (% of total)": 10.293,
          "Year": 1961,
          "index": 307
         },
         {
          "CountryCode": "CMR",
          "CountryName": "Cameroon",
          "Total Population": 5474509,
          "Urban population (% of total)": 14.488,
          "Year": 1961,
          "index": 308
         },
         {
          "CountryCode": "CAN",
          "CountryName": "Canada",
          "Total Population": 18271000,
          "Urban population (% of total)": 69.668,
          "Year": 1961,
          "index": 309
         },
         {
          "CountryCode": "CYM",
          "CountryName": "Cayman Islands",
          "Total Population": 8026,
          "Urban population (% of total)": 100,
          "Year": 1961,
          "index": 310
         },
         {
          "CountryCode": "CAF",
          "CountryName": "Central African Republic",
          "Total Population": 1529229,
          "Urban population (% of total)": 20.751,
          "Year": 1961,
          "index": 311
         },
         {
          "CountryCode": "TCD",
          "CountryName": "Chad",
          "Total Population": 3061423,
          "Urban population (% of total)": 6.962,
          "Year": 1961,
          "index": 312
         },
         {
          "CountryCode": "CHI",
          "CountryName": "Channel Islands",
          "Total Population": 110399,
          "Urban population (% of total)": 38.436,
          "Year": 1961,
          "index": 313
         },
         {
          "CountryCode": "CHL",
          "CountryName": "Chile",
          "Total Population": 7873504,
          "Urban population (% of total)": 68.66,
          "Year": 1961,
          "index": 314
         },
         {
          "CountryCode": "CHN",
          "CountryName": "China",
          "Total Population": 660330000,
          "Urban population (% of total)": 16.708,
          "Year": 1961,
          "index": 315
         },
         {
          "CountryCode": "COL",
          "CountryName": "Colombia",
          "Total Population": 16982313,
          "Urban population (% of total)": 46.327,
          "Year": 1961,
          "index": 316
         },
         {
          "CountryCode": "COM",
          "CountryName": "Comoros",
          "Total Population": 191828,
          "Urban population (% of total)": 13.348,
          "Year": 1961,
          "index": 317
         },
         {
          "CountryCode": "ZAR",
          "CountryName": "Congo, Dem. Rep.",
          "Total Population": 15637715,
          "Urban population (% of total)": 22.523,
          "Year": 1961,
          "index": 318
         },
         {
          "CountryCode": "COG",
          "CountryName": "Congo, Rep.",
          "Total Population": 1039966,
          "Urban population (% of total)": 32.318,
          "Year": 1961,
          "index": 319
         },
         {
          "CountryCode": "CRI",
          "CountryName": "Costa Rica",
          "Total Population": 1381920,
          "Urban population (% of total)": 34.329,
          "Year": 1961,
          "index": 320
         },
         {
          "CountryCode": "CIV",
          "CountryName": "Cote d'Ivoire",
          "Total Population": 3602075,
          "Urban population (% of total)": 18.911,
          "Year": 1961,
          "index": 321
         },
         {
          "CountryCode": "HRV",
          "CountryName": "Croatia",
          "Total Population": 4171672,
          "Urban population (% of total)": 31.04,
          "Year": 1961,
          "index": 322
         },
         {
          "CountryCode": "CUB",
          "CountryName": "Cuba",
          "Total Population": 7289828,
          "Urban population (% of total)": 58.588,
          "Year": 1961,
          "index": 323
         },
         {
          "CountryCode": "CUW",
          "CountryName": "Curacao",
          "Total Population": 126125,
          "Urban population (% of total)": 75.102,
          "Year": 1961,
          "index": 324
         },
         {
          "CountryCode": "CYP",
          "CountryName": "Cyprus",
          "Total Population": 576395,
          "Urban population (% of total)": 36.175,
          "Year": 1961,
          "index": 325
         },
         {
          "CountryCode": "CZE",
          "CountryName": "Czech Republic",
          "Total Population": 9586651,
          "Urban population (% of total)": 60.063,
          "Year": 1961,
          "index": 326
         },
         {
          "CountryCode": "DNK",
          "CountryName": "Denmark",
          "Total Population": 4611687,
          "Urban population (% of total)": 74.417,
          "Year": 1961,
          "index": 327
         },
         {
          "CountryCode": "DJI",
          "CountryName": "Djibouti",
          "Total Population": 88499,
          "Urban population (% of total)": 51.448,
          "Year": 1961,
          "index": 328
         },
         {
          "CountryCode": "DMA",
          "CountryName": "Dominica",
          "Total Population": 61035,
          "Urban population (% of total)": 37.912,
          "Year": 1961,
          "index": 329
         },
         {
          "CountryCode": "DOM",
          "CountryName": "Dominican Republic",
          "Total Population": 3406299,
          "Urban population (% of total)": 31.141,
          "Year": 1961,
          "index": 330
         },
         {
          "CountryCode": "ECU",
          "CountryName": "Ecuador",
          "Total Population": 4676858,
          "Urban population (% of total)": 34.466,
          "Year": 1961,
          "index": 331
         },
         {
          "CountryCode": "EGY",
          "CountryName": "Egypt, Arab Rep.",
          "Total Population": 27810001,
          "Urban population (% of total)": 38.272,
          "Year": 1961,
          "index": 332
         },
         {
          "CountryCode": "SLV",
          "CountryName": "El Salvador",
          "Total Population": 2843246,
          "Urban population (% of total)": 38.516,
          "Year": 1961,
          "index": 333
         },
         {
          "CountryCode": "GNQ",
          "CountryName": "Equatorial Guinea",
          "Total Population": 255100,
          "Urban population (% of total)": 26.144,
          "Year": 1961,
          "index": 334
         },
         {
          "CountryCode": "ERI",
          "CountryName": "Eritrea",
          "Total Population": 1441297,
          "Urban population (% of total)": 10.059,
          "Year": 1961,
          "index": 335
         },
         {
          "CountryCode": "EST",
          "CountryName": "Estonia",
          "Total Population": 1225077,
          "Urban population (% of total)": 58.304,
          "Year": 1961,
          "index": 336
         },
         {
          "CountryCode": "ETH",
          "CountryName": "Ethiopia",
          "Total Population": 22671131,
          "Urban population (% of total)": 6.65,
          "Year": 1961,
          "index": 337
         },
         {
          "CountryCode": "FRO",
          "CountryName": "Faeroe Islands",
          "Total Population": 34730,
          "Urban population (% of total)": 22.141,
          "Year": 1961,
          "index": 338
         },
         {
          "CountryCode": "FJI",
          "CountryName": "Fiji",
          "Total Population": 407152,
          "Urban population (% of total)": 30.248,
          "Year": 1961,
          "index": 339
         },
         {
          "CountryCode": "FIN",
          "CountryName": "Finland",
          "Total Population": 4461005,
          "Urban population (% of total)": 56.321,
          "Year": 1961,
          "index": 340
         },
         {
          "CountryCode": "FRA",
          "CountryName": "France",
          "Total Population": 47444751,
          "Urban population (% of total)": 62.607,
          "Year": 1961,
          "index": 341
         },
         {
          "CountryCode": "PYF",
          "CountryName": "French Polynesia",
          "Total Population": 80706,
          "Urban population (% of total)": 43.217,
          "Year": 1961,
          "index": 342
         },
         {
          "CountryCode": "GAB",
          "CountryName": "Gabon",
          "Total Population": 504174,
          "Urban population (% of total)": 18.33,
          "Year": 1961,
          "index": 343
         },
         {
          "CountryCode": "GMB",
          "CountryName": "Gambia, The",
          "Total Population": 376736,
          "Urban population (% of total)": 12.331,
          "Year": 1961,
          "index": 344
         },
         {
          "CountryCode": "GEO",
          "CountryName": "Georgia",
          "Total Population": 3703600,
          "Urban population (% of total)": 43.559,
          "Year": 1961,
          "index": 345
         },
         {
          "CountryCode": "DEU",
          "CountryName": "Germany",
          "Total Population": 73377632,
          "Urban population (% of total)": 71.697,
          "Year": 1961,
          "index": 346
         },
         {
          "CountryCode": "GHA",
          "CountryName": "Ghana",
          "Total Population": 6866545,
          "Urban population (% of total)": 23.797,
          "Year": 1961,
          "index": 347
         },
         {
          "CountryCode": "GRC",
          "CountryName": "Greece",
          "Total Population": 8398050,
          "Urban population (% of total)": 56.453,
          "Year": 1961,
          "index": 348
         },
         {
          "CountryCode": "GRL",
          "CountryName": "Greenland",
          "Total Population": 33700,
          "Urban population (% of total)": 59.806,
          "Year": 1961,
          "index": 349
         },
         {
          "CountryCode": "GRD",
          "CountryName": "Grenada",
          "Total Population": 91260,
          "Urban population (% of total)": 30.519,
          "Year": 1961,
          "index": 350
         },
         {
          "CountryCode": "GUM",
          "CountryName": "Guam",
          "Total Population": 68073,
          "Urban population (% of total)": 51.23,
          "Year": 1961,
          "index": 351
         },
         {
          "CountryCode": "GTM",
          "CountryName": "Guatemala",
          "Total Population": 4240084,
          "Urban population (% of total)": 31.768,
          "Year": 1961,
          "index": 352
         },
         {
          "CountryCode": "GIN",
          "CountryName": "Guinea",
          "Total Population": 3633778,
          "Urban population (% of total)": 10.936,
          "Year": 1961,
          "index": 353
         },
         {
          "CountryCode": "GNB",
          "CountryName": "Guinea-Bissau",
          "Total Population": 623413,
          "Urban population (% of total)": 13.747,
          "Year": 1961,
          "index": 354
         },
         {
          "CountryCode": "GUY",
          "CountryName": "Guyana",
          "Total Population": 582034,
          "Urban population (% of total)": 29.049,
          "Year": 1961,
          "index": 355
         },
         {
          "CountryCode": "HTI",
          "CountryName": "Haiti",
          "Total Population": 3943363,
          "Urban population (% of total)": 15.975,
          "Year": 1961,
          "index": 356
         },
         {
          "CountryCode": "HND",
          "CountryName": "Honduras",
          "Total Population": 2069085,
          "Urban population (% of total)": 23.318,
          "Year": 1961,
          "index": 357
         },
         {
          "CountryCode": "HKG",
          "CountryName": "Hong Kong SAR, China",
          "Total Population": 3168100,
          "Urban population (% of total)": 85.293,
          "Year": 1961,
          "index": 358
         },
         {
          "CountryCode": "HUN",
          "CountryName": "Hungary",
          "Total Population": 10029321,
          "Urban population (% of total)": 56.335,
          "Year": 1961,
          "index": 359
         },
         {
          "CountryCode": "ISL",
          "CountryName": "Iceland",
          "Total Population": 179029,
          "Urban population (% of total)": 80.803,
          "Year": 1961,
          "index": 360
         },
         {
          "CountryCode": "IND",
          "CountryName": "India",
          "Total Population": 458691457,
          "Urban population (% of total)": 18.032,
          "Year": 1961,
          "index": 361
         },
         {
          "CountryCode": "IDN",
          "CountryName": "Indonesia",
          "Total Population": 90138235,
          "Urban population (% of total)": 14.821,
          "Year": 1961,
          "index": 362
         },
         {
          "CountryCode": "IRN",
          "CountryName": "Iran, Islamic Rep.",
          "Total Population": 22480420,
          "Urban population (% of total)": 34.389,
          "Year": 1961,
          "index": 363
         },
         {
          "CountryCode": "IRQ",
          "CountryName": "Iraq",
          "Total Population": 7475354,
          "Urban population (% of total)": 44.432,
          "Year": 1961,
          "index": 364
         },
         {
          "CountryCode": "IRL",
          "CountryName": "Ireland",
          "Total Population": 2824400,
          "Urban population (% of total)": 46.24,
          "Year": 1961,
          "index": 365
         },
         {
          "CountryCode": "IMY",
          "CountryName": "Isle of Man",
          "Total Population": 48353,
          "Urban population (% of total)": 55.345,
          "Year": 1961,
          "index": 366
         },
         {
          "CountryCode": "ISR",
          "CountryName": "Israel",
          "Total Population": 2185000,
          "Urban population (% of total)": 77.985,
          "Year": 1961,
          "index": 367
         },
         {
          "CountryCode": "ITA",
          "CountryName": "Italy",
          "Total Population": 50536350,
          "Urban population (% of total)": 59.856,
          "Year": 1961,
          "index": 368
         },
         {
          "CountryCode": "JAM",
          "CountryName": "Jamaica",
          "Total Population": 1651915,
          "Urban population (% of total)": 34.5,
          "Year": 1961,
          "index": 369
         },
         {
          "CountryCode": "JPN",
          "CountryName": "Japan",
          "Total Population": 94943000,
          "Urban population (% of total)": 64.213,
          "Year": 1961,
          "index": 370
         },
         {
          "CountryCode": "JOR",
          "CountryName": "Jordan",
          "Total Population": 891451,
          "Urban population (% of total)": 52.412,
          "Year": 1961,
          "index": 371
         },
         {
          "CountryCode": "KAZ",
          "CountryName": "Kazakhstan",
          "Total Population": 10129861,
          "Urban population (% of total)": 44.746,
          "Year": 1961,
          "index": 372
         },
         {
          "CountryCode": "KEN",
          "CountryName": "Kenya",
          "Total Population": 8361442,
          "Urban population (% of total)": 7.565,
          "Year": 1961,
          "index": 373
         },
         {
          "CountryCode": "KIR",
          "CountryName": "Kiribati",
          "Total Population": 42261,
          "Urban population (% of total)": 16.918,
          "Year": 1961,
          "index": 374
         },
         {
          "CountryCode": "PRK",
          "CountryName": "Korea, Dem. Rep.",
          "Total Population": 11665593,
          "Urban population (% of total)": 41.162,
          "Year": 1961,
          "index": 375
         },
         {
          "CountryCode": "KOR",
          "CountryName": "Korea, Rep.",
          "Total Population": 25765673,
          "Urban population (% of total)": 28.531,
          "Year": 1961,
          "index": 376
         },
         {
          "CountryCode": "KWT",
          "CountryName": "Kuwait",
          "Total Population": 294639,
          "Urban population (% of total)": 75.787,
          "Year": 1961,
          "index": 377
         },
         {
          "CountryCode": "KGZ",
          "CountryName": "Kyrgyz Republic",
          "Total Population": 2255900,
          "Urban population (% of total)": 34.511,
          "Year": 1961,
          "index": 378
         },
         {
          "CountryCode": "LAO",
          "CountryName": "Lao PDR",
          "Total Population": 2169287,
          "Urban population (% of total)": 8.02,
          "Year": 1961,
          "index": 379
         },
         {
          "CountryCode": "LVA",
          "CountryName": "Latvia",
          "Total Population": 2152681,
          "Urban population (% of total)": 53.663,
          "Year": 1961,
          "index": 380
         },
         {
          "CountryCode": "LBN",
          "CountryName": "Lebanon",
          "Total Population": 1864605,
          "Urban population (% of total)": 44.039,
          "Year": 1961,
          "index": 381
         },
         {
          "CountryCode": "LSO",
          "CountryName": "Lesotho",
          "Total Population": 866253,
          "Urban population (% of total)": 3.96,
          "Year": 1961,
          "index": 382
         },
         {
          "CountryCode": "LBR",
          "CountryName": "Liberia",
          "Total Population": 1144896,
          "Urban population (% of total)": 19.291,
          "Year": 1961,
          "index": 383
         },
         {
          "CountryCode": "LBY",
          "CountryName": "Libya",
          "Total Population": 1483856,
          "Urban population (% of total)": 28.197,
          "Year": 1961,
          "index": 384
         },
         {
          "CountryCode": "LIE",
          "CountryName": "Liechtenstein",
          "Total Population": 16894,
          "Urban population (% of total)": 20.315,
          "Year": 1961,
          "index": 385
         },
         {
          "CountryCode": "LTU",
          "CountryName": "Lithuania",
          "Total Population": 2823550,
          "Urban population (% of total)": 40.443,
          "Year": 1961,
          "index": 386
         },
         {
          "CountryCode": "LUX",
          "CountryName": "Luxembourg",
          "Total Population": 316845,
          "Urban population (% of total)": 69.927,
          "Year": 1961,
          "index": 387
         },
         {
          "CountryCode": "MAC",
          "CountryName": "Macao SAR, China",
          "Total Population": 175135,
          "Urban population (% of total)": 95.328,
          "Year": 1961,
          "index": 388
         },
         {
          "CountryCode": "MKD",
          "CountryName": "Macedonia, FYR",
          "Total Population": 1507653,
          "Urban population (% of total)": 35.214,
          "Year": 1961,
          "index": 389
         },
         {
          "CountryCode": "MDG",
          "CountryName": "Madagascar",
          "Total Population": 5223621,
          "Urban population (% of total)": 10.971,
          "Year": 1961,
          "index": 390
         },
         {
          "CountryCode": "MWI",
          "CountryName": "Malawi",
          "Total Population": 3700032,
          "Urban population (% of total)": 4.489,
          "Year": 1961,
          "index": 391
         },
         {
          "CountryCode": "MYS",
          "CountryName": "Malaysia",
          "Total Population": 8429369,
          "Urban population (% of total)": 27.241,
          "Year": 1961,
          "index": 392
         },
         {
          "CountryCode": "MDV",
          "CountryName": "Maldives",
          "Total Population": 92327,
          "Urban population (% of total)": 11.23,
          "Year": 1961,
          "index": 393
         },
         {
          "CountryCode": "MLI",
          "CountryName": "Mali",
          "Total Population": 5322267,
          "Urban population (% of total)": 11.361,
          "Year": 1961,
          "index": 394
         },
         {
          "CountryCode": "MLT",
          "CountryName": "Malta",
          "Total Population": 325250,
          "Urban population (% of total)": 90.069,
          "Year": 1961,
          "index": 395
         },
         {
          "CountryCode": "MHL",
          "CountryName": "Marshall Islands",
          "Total Population": 15052,
          "Urban population (% of total)": 36.959,
          "Year": 1961,
          "index": 396
         },
         {
          "CountryCode": "MRT",
          "CountryName": "Mauritania",
          "Total Population": 883223,
          "Urban population (% of total)": 7.435,
          "Year": 1961,
          "index": 397
         },
         {
          "CountryCode": "MUS",
          "CountryName": "Mauritius",
          "Total Population": 680757,
          "Urban population (% of total)": 33.637,
          "Year": 1961,
          "index": 398
         },
         {
          "CountryCode": "MEX",
          "CountryName": "Mexico",
          "Total Population": 39394125,
          "Urban population (% of total)": 51.59,
          "Year": 1961,
          "index": 399
         },
         {
          "CountryCode": "FSM",
          "CountryName": "Micronesia, Fed. Sts.",
          "Total Population": 45956,
          "Urban population (% of total)": 22.553,
          "Year": 1961,
          "index": 400
         },
         {
          "CountryCode": "MDA",
          "CountryName": "Moldova",
          "Total Population": 2605000,
          "Urban population (% of total)": 24.216,
          "Year": 1961,
          "index": 401
         },
         {
          "CountryCode": "MCO",
          "CountryName": "Monaco",
          "Total Population": 22812,
          "Urban population (% of total)": 100,
          "Year": 1961,
          "index": 402
         },
         {
          "CountryCode": "MNG",
          "CountryName": "Mongolia",
          "Total Population": 982180,
          "Urban population (% of total)": 37.682,
          "Year": 1961,
          "index": 403
         },
         {
          "CountryCode": "MNE",
          "CountryName": "Montenegro",
          "Total Population": 480359,
          "Urban population (% of total)": 19.502,
          "Year": 1961,
          "index": 404
         },
         {
          "CountryCode": "MAR",
          "CountryName": "Morocco",
          "Total Population": 12713043,
          "Urban population (% of total)": 29.849,
          "Year": 1961,
          "index": 405
         },
         {
          "CountryCode": "MOZ",
          "CountryName": "Mozambique",
          "Total Population": 7643290,
          "Urban population (% of total)": 4.949,
          "Year": 1961,
          "index": 406
         },
         {
          "CountryCode": "MMR",
          "CountryName": "Myanmar",
          "Total Population": 21961594,
          "Urban population (% of total)": 19.566,
          "Year": 1961,
          "index": 407
         },
         {
          "CountryCode": "NAM",
          "CountryName": "Namibia",
          "Total Population": 617282,
          "Urban population (% of total)": 18.334,
          "Year": 1961,
          "index": 408
         },
         {
          "CountryCode": "NPL",
          "CountryName": "Nepal",
          "Total Population": 10215153,
          "Urban population (% of total)": 3.571,
          "Year": 1961,
          "index": 409
         },
         {
          "CountryCode": "NLD",
          "CountryName": "Netherlands",
          "Total Population": 11638712,
          "Urban population (% of total)": 60.02,
          "Year": 1961,
          "index": 410
         },
         {
          "CountryCode": "NCL",
          "CountryName": "New Caledonia",
          "Total Population": 81200,
          "Urban population (% of total)": 38.781,
          "Year": 1961,
          "index": 411
         },
         {
          "CountryCode": "NZL",
          "CountryName": "New Zealand",
          "Total Population": 2419700,
          "Urban population (% of total)": 76.525,
          "Year": 1961,
          "index": 412
         },
         {
          "CountryCode": "NIC",
          "CountryName": "Nicaragua",
          "Total Population": 1830400,
          "Urban population (% of total)": 40.03,
          "Year": 1961,
          "index": 413
         },
         {
          "CountryCode": "NER",
          "CountryName": "Niger",
          "Total Population": 3493636,
          "Urban population (% of total)": 5.896,
          "Year": 1961,
          "index": 414
         },
         {
          "CountryCode": "NGA",
          "CountryName": "Nigeria",
          "Total Population": 46144154,
          "Urban population (% of total)": 15.633,
          "Year": 1961,
          "index": 415
         },
         {
          "CountryCode": "MNP",
          "CountryName": "Northern Mariana Islands",
          "Total Population": 10340,
          "Urban population (% of total)": 52.741,
          "Year": 1961,
          "index": 416
         },
         {
          "CountryCode": "NOR",
          "CountryName": "Norway",
          "Total Population": 3609800,
          "Urban population (% of total)": 50.998,
          "Year": 1961,
          "index": 417
         },
         {
          "CountryCode": "OMN",
          "CountryName": "Oman",
          "Total Population": 564895,
          "Urban population (% of total)": 17.475,
          "Year": 1961,
          "index": 418
         },
         {
          "CountryCode": "PAK",
          "CountryName": "Pakistan",
          "Total Population": 45988447,
          "Urban population (% of total)": 22.501,
          "Year": 1961,
          "index": 419
         },
         {
          "CountryCode": "PLW",
          "CountryName": "Palau",
          "Total Population": 9901,
          "Urban population (% of total)": 57.114,
          "Year": 1961,
          "index": 420
         },
         {
          "CountryCode": "PAN",
          "CountryName": "Panama",
          "Total Population": 1167041,
          "Urban population (% of total)": 41.853,
          "Year": 1961,
          "index": 421
         },
         {
          "CountryCode": "PNG",
          "CountryName": "Papua New Guinea",
          "Total Population": 2001048,
          "Urban population (% of total)": 4.024,
          "Year": 1961,
          "index": 422
         },
         {
          "CountryCode": "PRY",
          "CountryName": "Paraguay",
          "Total Population": 1953331,
          "Urban population (% of total)": 35.67,
          "Year": 1961,
          "index": 423
         },
         {
          "CountryCode": "PER",
          "CountryName": "Peru",
          "Total Population": 10350239,
          "Urban population (% of total)": 47.398,
          "Year": 1961,
          "index": 424
         },
         {
          "CountryCode": "PHL",
          "CountryName": "Philippines",
          "Total Population": 27164618,
          "Urban population (% of total)": 30.555,
          "Year": 1961,
          "index": 425
         },
         {
          "CountryCode": "POL",
          "CountryName": "Poland",
          "Total Population": 29964000,
          "Urban population (% of total)": 48.527,
          "Year": 1961,
          "index": 426
         },
         {
          "CountryCode": "PRT",
          "CountryName": "Portugal",
          "Total Population": 8929316,
          "Urban population (% of total)": 35.344,
          "Year": 1961,
          "index": 427
         },
         {
          "CountryCode": "PRI",
          "CountryName": "Puerto Rico",
          "Total Population": 2399722,
          "Urban population (% of total)": 45.933,
          "Year": 1961,
          "index": 428
         },
         {
          "CountryCode": "QAT",
          "CountryName": "Qatar",
          "Total Population": 51355,
          "Urban population (% of total)": 85.693,
          "Year": 1961,
          "index": 429
         },
         {
          "CountryCode": "ROM",
          "CountryName": "Romania",
          "Total Population": 18555250,
          "Urban population (% of total)": 34.894,
          "Year": 1961,
          "index": 430
         },
         {
          "CountryCode": "RUS",
          "CountryName": "Russian Federation",
          "Total Population": 121236000,
          "Urban population (% of total)": 54.626,
          "Year": 1961,
          "index": 431
         },
         {
          "CountryCode": "RWA",
          "CountryName": "Rwanda",
          "Total Population": 2996091,
          "Urban population (% of total)": 2.654,
          "Year": 1961,
          "index": 432
         },
         {
          "CountryCode": "WSM",
          "CountryName": "Samoa",
          "Total Population": 112121,
          "Urban population (% of total)": 18.986,
          "Year": 1961,
          "index": 433
         },
         {
          "CountryCode": "SMR",
          "CountryName": "San Marino",
          "Total Population": 15787,
          "Urban population (% of total)": 50.001,
          "Year": 1961,
          "index": 434
         },
         {
          "CountryCode": "STP",
          "CountryName": "Sao Tome and Principe",
          "Total Population": 64549,
          "Urban population (% of total)": 16.805,
          "Year": 1961,
          "index": 435
         },
         {
          "CountryCode": "SAU",
          "CountryName": "Saudi Arabia",
          "Total Population": 4218879,
          "Urban population (% of total)": 32.373,
          "Year": 1961,
          "index": 436
         },
         {
          "CountryCode": "SEN",
          "CountryName": "Senegal",
          "Total Population": 3265558,
          "Urban population (% of total)": 23.645,
          "Year": 1961,
          "index": 437
         },
         {
          "CountryCode": "SYC",
          "CountryName": "Seychelles",
          "Total Population": 42889,
          "Urban population (% of total)": 28.717,
          "Year": 1961,
          "index": 438
         },
         {
          "CountryCode": "SLE",
          "CountryName": "Sierra Leone",
          "Total Population": 2210169,
          "Urban population (% of total)": 17.903,
          "Year": 1961,
          "index": 439
         },
         {
          "CountryCode": "SGP",
          "CountryName": "Singapore",
          "Total Population": 1702400,
          "Urban population (% of total)": 100,
          "Year": 1961,
          "index": 440
         },
         {
          "CountryCode": "SVK",
          "CountryName": "Slovak Republic",
          "Total Population": 4191667,
          "Urban population (% of total)": 33.953,
          "Year": 1961,
          "index": 441
         },
         {
          "CountryCode": "SVN",
          "CountryName": "Slovenia",
          "Total Population": 1594131,
          "Urban population (% of total)": 29.107,
          "Year": 1961,
          "index": 442
         },
         {
          "CountryCode": "SLB",
          "CountryName": "Solomon Islands",
          "Total Population": 121403,
          "Urban population (% of total)": 6.038,
          "Year": 1961,
          "index": 443
         },
         {
          "CountryCode": "SOM",
          "CountryName": "Somalia",
          "Total Population": 2814683,
          "Urban population (% of total)": 17.835,
          "Year": 1961,
          "index": 444
         },
         {
          "CountryCode": "ZAF",
          "CountryName": "South Africa",
          "Total Population": 17949962,
          "Urban population (% of total)": 46.793,
          "Year": 1961,
          "index": 445
         },
         {
          "CountryCode": "SSD",
          "CountryName": "South Sudan",
          "Total Population": 3011112,
          "Urban population (% of total)": 8.737,
          "Year": 1961,
          "index": 446
         },
         {
          "CountryCode": "ESP",
          "CountryName": "Spain",
          "Total Population": 30739250,
          "Urban population (% of total)": 57.303,
          "Year": 1961,
          "index": 447
         },
         {
          "CountryCode": "LKA",
          "CountryName": "Sri Lanka",
          "Total Population": 10168000,
          "Urban population (% of total)": 16.592,
          "Year": 1961,
          "index": 448
         },
         {
          "CountryCode": "KNA",
          "CountryName": "St. Kitts and Nevis",
          "Total Population": 51195,
          "Urban population (% of total)": 28.269,
          "Year": 1961,
          "index": 449
         },
         {
          "CountryCode": "LCA",
          "CountryName": "St. Lucia",
          "Total Population": 90913,
          "Urban population (% of total)": 21.696,
          "Year": 1961,
          "index": 450
         },
         {
          "CountryCode": "VCT",
          "CountryName": "St. Vincent and the Grenadines",
          "Total Population": 82144,
          "Urban population (% of total)": 26.394,
          "Year": 1961,
          "index": 451
         },
         {
          "CountryCode": "SDN",
          "CountryName": "Sudan",
          "Total Population": 7749884,
          "Urban population (% of total)": 11.232,
          "Year": 1961,
          "index": 452
         },
         {
          "CountryCode": "SUR",
          "CountryName": "Suriname",
          "Total Population": 298190,
          "Urban population (% of total)": 47.297,
          "Year": 1961,
          "index": 453
         },
         {
          "CountryCode": "SWZ",
          "CountryName": "Swaziland",
          "Total Population": 357522,
          "Urban population (% of total)": 4.335,
          "Year": 1961,
          "index": 454
         },
         {
          "CountryCode": "SWE",
          "CountryName": "Sweden",
          "Total Population": 7519998,
          "Urban population (% of total)": 73.295,
          "Year": 1961,
          "index": 455
         },
         {
          "CountryCode": "CHE",
          "CountryName": "Switzerland",
          "Total Population": 5434294,
          "Urban population (% of total)": 51.671,
          "Year": 1961,
          "index": 456
         },
         {
          "CountryCode": "SYR",
          "CountryName": "Syrian Arab Republic",
          "Total Population": 4742596,
          "Urban population (% of total)": 37.399,
          "Year": 1961,
          "index": 457
         },
         {
          "CountryCode": "TJK",
          "CountryName": "Tajikistan",
          "Total Population": 2140413,
          "Urban population (% of total)": 33.56,
          "Year": 1961,
          "index": 458
         },
         {
          "CountryCode": "TZA",
          "CountryName": "Tanzania",
          "Total Population": 10373380,
          "Urban population (% of total)": 5.394,
          "Year": 1961,
          "index": 459
         },
         {
          "CountryCode": "THA",
          "CountryName": "Thailand",
          "Total Population": 28224208,
          "Urban population (% of total)": 19.781,
          "Year": 1961,
          "index": 460
         },
         {
          "CountryCode": "TMP",
          "CountryName": "Timor-Leste",
          "Total Population": 508311,
          "Urban population (% of total)": 10.243,
          "Year": 1961,
          "index": 461
         },
         {
          "CountryCode": "TGO",
          "CountryName": "Togo",
          "Total Population": 1597528,
          "Urban population (% of total)": 10.94,
          "Year": 1961,
          "index": 462
         },
         {
          "CountryCode": "TON",
          "CountryName": "Tonga",
          "Total Population": 63740,
          "Urban population (% of total)": 17.929,
          "Year": 1961,
          "index": 463
         },
         {
          "CountryCode": "TTO",
          "CountryName": "Trinidad and Tobago",
          "Total Population": 865356,
          "Urban population (% of total)": 16.712,
          "Year": 1961,
          "index": 464
         },
         {
          "CountryCode": "TUN",
          "CountryName": "Tunisia",
          "Total Population": 4277371,
          "Urban population (% of total)": 37.95,
          "Year": 1961,
          "index": 465
         },
         {
          "CountryCode": "TUR",
          "CountryName": "Turkey",
          "Total Population": 28229291,
          "Urban population (% of total)": 32.064,
          "Year": 1961,
          "index": 466
         },
         {
          "CountryCode": "TKM",
          "CountryName": "Turkmenistan",
          "Total Population": 1649914,
          "Urban population (% of total)": 46.557,
          "Year": 1961,
          "index": 467
         },
         {
          "CountryCode": "TCA",
          "CountryName": "Turks and Caicos Islands",
          "Total Population": 5760,
          "Urban population (% of total)": 48.021,
          "Year": 1961,
          "index": 468
         },
         {
          "CountryCode": "TUV",
          "CountryName": "Tuvalu",
          "Total Population": 6242,
          "Urban population (% of total)": 16.444,
          "Year": 1961,
          "index": 469
         },
         {
          "CountryCode": "UGA",
          "CountryName": "Uganda",
          "Total Population": 7006629,
          "Urban population (% of total)": 4.617,
          "Year": 1961,
          "index": 470
         },
         {
          "CountryCode": "UKR",
          "CountryName": "Ukraine",
          "Total Population": 43203635,
          "Urban population (% of total)": 47.542,
          "Year": 1961,
          "index": 471
         },
         {
          "CountryCode": "ARE",
          "CountryName": "United Arab Emirates",
          "Total Population": 100985,
          "Urban population (% of total)": 74.383,
          "Year": 1961,
          "index": 472
         },
         {
          "CountryCode": "GBR",
          "CountryName": "United Kingdom",
          "Total Population": 52800000,
          "Urban population (% of total)": 78.374,
          "Year": 1961,
          "index": 473
         },
         {
          "CountryCode": "USA",
          "CountryName": "United States",
          "Total Population": 183691000,
          "Urban population (% of total)": 70.377,
          "Year": 1961,
          "index": 474
         },
         {
          "CountryCode": "URY",
          "CountryName": "Uruguay",
          "Total Population": 2571691,
          "Urban population (% of total)": 80.462,
          "Year": 1961,
          "index": 475
         },
         {
          "CountryCode": "UZB",
          "CountryName": "Uzbekistan",
          "Total Population": 9044671,
          "Urban population (% of total)": 34.238,
          "Year": 1961,
          "index": 476
         },
         {
          "CountryCode": "VUT",
          "CountryName": "Vanuatu",
          "Total Population": 65708,
          "Urban population (% of total)": 10.583,
          "Year": 1961,
          "index": 477
         },
         {
          "CountryCode": "VEN",
          "CountryName": "Venezuela, RB",
          "Total Population": 8461684,
          "Urban population (% of total)": 62.875,
          "Year": 1961,
          "index": 478
         },
         {
          "CountryCode": "VNM",
          "CountryName": "Vietnam",
          "Total Population": 35428000,
          "Urban population (% of total)": 15.031,
          "Year": 1961,
          "index": 479
         },
         {
          "CountryCode": "VIR",
          "CountryName": "Virgin Islands (U.S.)",
          "Total Population": 34100,
          "Urban population (% of total)": 57.864,
          "Year": 1961,
          "index": 480
         },
         {
          "CountryCode": "YEM",
          "CountryName": "Yemen, Rep.",
          "Total Population": 5251663,
          "Urban population (% of total)": 9.459,
          "Year": 1961,
          "index": 481
         },
         {
          "CountryCode": "ZMB",
          "CountryName": "Zambia",
          "Total Population": 3142848,
          "Urban population (% of total)": 18.951,
          "Year": 1961,
          "index": 482
         },
         {
          "CountryCode": "ZWE",
          "CountryName": "Zimbabwe",
          "Total Population": 3876638,
          "Urban population (% of total)": 12.821,
          "Year": 1961,
          "index": 483
         },
         {
          "CountryCode": "ARB",
          "CountryName": "Arab World",
          "Total Population": 97691498,
          "Urban population (% of total)": 32.7803227217,
          "Year": 1962,
          "index": 484
         },
         {
          "CountryCode": "CSS",
          "CountryName": "Caribbean small states",
          "Total Population": 4353408,
          "Urban population (% of total)": 32.0578605238,
          "Year": 1962,
          "index": 485
         },
         {
          "CountryCode": "CEB",
          "CountryName": "Central Europe and the Baltics",
          "Total Population": 93014890,
          "Urban population (% of total)": 45.866564696,
          "Year": 1962,
          "index": 486
         },
         {
          "CountryCode": "EAS",
          "CountryName": "East Asia & Pacific (all income levels)",
          "Total Population": 1059972418,
          "Urban population (% of total)": 23.6511453275,
          "Year": 1962,
          "index": 487
         },
         {
          "CountryCode": "EAP",
          "CountryName": "East Asia & Pacific (developing only)",
          "Total Population": 907395358,
          "Urban population (% of total)": 17.8627360333,
          "Year": 1962,
          "index": 488
         },
         {
          "CountryCode": "EMU",
          "CountryName": "Euro area",
          "Total Population": 270324828,
          "Urban population (% of total)": 63.0685781978,
          "Year": 1962,
          "index": 489
         },
         {
          "CountryCode": "ECS",
          "CountryName": "Europe & Central Asia (all income levels)",
          "Total Population": 683114331,
          "Urban population (% of total)": 56.4498627762,
          "Year": 1962,
          "index": 490
         },
         {
          "CountryCode": "ECA",
          "CountryName": "Europe & Central Asia (developing only)",
          "Total Population": 161168870,
          "Urban population (% of total)": 39.4531269661,
          "Year": 1962,
          "index": 491
         },
         {
          "CountryCode": "EUU",
          "CountryName": "European Union",
          "Total Population": 416670637,
          "Urban population (% of total)": 62.1260278508,
          "Year": 1962,
          "index": 492
         },
         {
          "CountryCode": "FCS",
          "CountryName": "Fragile and conflict affected situations",
          "Total Population": 126006115,
          "Urban population (% of total)": 18.9075407553,
          "Year": 1962,
          "index": 493
         },
         {
          "CountryCode": "HPC",
          "CountryName": "Heavily indebted poor countries (HIPC)",
          "Total Population": 170332701,
          "Urban population (% of total)": 12.9417448911,
          "Year": 1962,
          "index": 494
         },
         {
          "CountryCode": "HIC",
          "CountryName": "High income",
          "Total Population": 933025406,
          "Urban population (% of total)": 63.8128286904,
          "Year": 1962,
          "index": 495
         },
         {
          "CountryCode": "NOC",
          "CountryName": "High income: nonOECD",
          "Total Population": 192729589,
          "Urban population (% of total)": 57.8384053913,
          "Year": 1962,
          "index": 496
         },
         {
          "CountryCode": "OEC",
          "CountryName": "High income: OECD",
          "Total Population": 740295817,
          "Urban population (% of total)": 65.2758985974,
          "Year": 1962,
          "index": 497
         },
         {
          "CountryCode": "LCN",
          "CountryName": "Latin America & Caribbean (all income levels)",
          "Total Population": 233183206,
          "Urban population (% of total)": 50.8726951442,
          "Year": 1962,
          "index": 498
         },
         {
          "CountryCode": "LAC",
          "CountryName": "Latin America & Caribbean (developing only)",
          "Total Population": 188416186,
          "Urban population (% of total)": 46.5667149598,
          "Year": 1962,
          "index": 499
         },
         {
          "CountryCode": "LDC",
          "CountryName": "Least developed countries: UN classification",
          "Total Population": 252585904,
          "Urban population (% of total)": 10.1294463473,
          "Year": 1962,
          "index": 500
         },
         {
          "CountryCode": "LMY",
          "CountryName": "Low & middle income",
          "Total Population": 2195966846,
          "Urban population (% of total)": 22.217955037,
          "Year": 1962,
          "index": 501
         },
         {
          "CountryCode": "LIC",
          "CountryName": "Low income",
          "Total Population": 164180179,
          "Urban population (% of total)": 12.0584228122,
          "Year": 1962,
          "index": 502
         },
         {
          "CountryCode": "LMC",
          "CountryName": "Lower middle income",
          "Total Population": 986301567,
          "Urban population (% of total)": 20.3087885085,
          "Year": 1962,
          "index": 503
         },
         {
          "CountryCode": "MEA",
          "CountryName": "Middle East & North Africa (all income levels)",
          "Total Population": 111418951,
          "Urban population (% of total)": 36.476768007,
          "Year": 1962,
          "index": 504
         },
         {
          "CountryCode": "MNA",
          "CountryName": "Middle East & North Africa (developing only)",
          "Total Population": 103183668,
          "Urban population (% of total)": 35.3178839654,
          "Year": 1962,
          "index": 505
         },
         {
          "CountryCode": "MIC",
          "CountryName": "Middle income",
          "Total Population": 2031786667,
          "Urban population (% of total)": 23.0393061509,
          "Year": 1962,
          "index": 506
         },
         {
          "CountryCode": "NAC",
          "CountryName": "North America",
          "Total Population": 205198600,
          "Urban population (% of total)": 70.739783712,
          "Year": 1962,
          "index": 507
         },
         {
          "CountryCode": "OED",
          "CountryName": "OECD members",
          "Total Population": 809855392,
          "Urban population (% of total)": 63.4644895692,
          "Year": 1962,
          "index": 508
         },
         {
          "CountryCode": "OSS",
          "CountryName": "Other small states",
          "Total Population": 6853517,
          "Urban population (% of total)": 15.2605267341,
          "Year": 1962,
          "index": 509
         },
         {
          "CountryCode": "PSS",
          "CountryName": "Pacific island small states",
          "Total Population": 919276,
          "Urban population (% of total)": 22.9133752986,
          "Year": 1962,
          "index": 510
         },
         {
          "CountryCode": "SST",
          "CountryName": "Small states",
          "Total Population": 12126201,
          "Urban population (% of total)": 21.8710659554,
          "Year": 1962,
          "index": 511
         },
         {
          "CountryCode": "SAS",
          "CountryName": "South Asia",
          "Total Population": 596701125,
          "Urban population (% of total)": 17.0544103188,
          "Year": 1962,
          "index": 512
         },
         {
          "CountryCode": "SSF",
          "CountryName": "Sub-Saharan Africa (all income levels)",
          "Total Population": 239403621,
          "Urban population (% of total)": 15.26036203,
          "Year": 1962,
          "index": 513
         },
         {
          "CountryCode": "SSA",
          "CountryName": "Sub-Saharan Africa (developing only)",
          "Total Population": 239101639,
          "Urban population (% of total)": 15.2458482093,
          "Year": 1962,
          "index": 514
         },
         {
          "CountryCode": "UMC",
          "CountryName": "Upper middle income",
          "Total Population": 1045485100,
          "Urban population (% of total)": 25.612656737,
          "Year": 1962,
          "index": 515
         },
         {
          "CountryCode": "WLD",
          "CountryName": "World",
          "Total Population": 3128992252,
          "Urban population (% of total)": 34.5178204644,
          "Year": 1962,
          "index": 516
         },
         {
          "CountryCode": "AFG",
          "CountryName": "Afghanistan",
          "Total Population": 9343772,
          "Urban population (% of total)": 8.805,
          "Year": 1962,
          "index": 517
         },
         {
          "CountryCode": "ALB",
          "CountryName": "Albania",
          "Total Population": 1711319,
          "Urban population (% of total)": 31.015,
          "Year": 1962,
          "index": 518
         },
         {
          "CountryCode": "DZA",
          "CountryName": "Algeria",
          "Total Population": 11690152,
          "Urban population (% of total)": 33.214,
          "Year": 1962,
          "index": 519
         },
         {
          "CountryCode": "ASM",
          "CountryName": "American Samoa",
          "Total Population": 21118,
          "Urban population (% of total)": 67.068,
          "Year": 1962,
          "index": 520
         },
         {
          "CountryCode": "ADO",
          "CountryName": "Andorra",
          "Total Population": 15376,
          "Urban population (% of total)": 63.462,
          "Year": 1962,
          "index": 521
         },
         {
          "CountryCode": "AGO",
          "CountryName": "Angola",
          "Total Population": 5465905,
          "Urban population (% of total)": 11.204,
          "Year": 1962,
          "index": 522
         },
         {
          "CountryCode": "ATG",
          "CountryName": "Antigua and Barbuda",
          "Total Population": 56311,
          "Urban population (% of total)": 38.427,
          "Year": 1962,
          "index": 523
         },
         {
          "CountryCode": "ARG",
          "CountryName": "Argentina",
          "Total Population": 21287682,
          "Urban population (% of total)": 74.767,
          "Year": 1962,
          "index": 524
         },
         {
          "CountryCode": "ARM",
          "CountryName": "Armenia",
          "Total Population": 2002170,
          "Urban population (% of total)": 53.019,
          "Year": 1962,
          "index": 525
         },
         {
          "CountryCode": "ABW",
          "CountryName": "Aruba",
          "Total Population": 56226,
          "Urban population (% of total)": 50.746,
          "Year": 1962,
          "index": 526
         },
         {
          "CountryCode": "AUS",
          "CountryName": "Australia",
          "Total Population": 10742000,
          "Urban population (% of total)": 82.337,
          "Year": 1962,
          "index": 527
         },
         {
          "CountryCode": "AUT",
          "CountryName": "Austria",
          "Total Population": 7129864,
          "Urban population (% of total)": 64.863,
          "Year": 1962,
          "index": 528
         },
         {
          "CountryCode": "AZE",
          "CountryName": "Azerbaijan",
          "Total Population": 4167558,
          "Urban population (% of total)": 52.064,
          "Year": 1962,
          "index": 529
         },
         {
          "CountryCode": "BHS",
          "CountryName": "Bahamas, The",
          "Total Population": 121083,
          "Urban population (% of total)": 61.193,
          "Year": 1962,
          "index": 530
         },
         {
          "CountryCode": "BHR",
          "CountryName": "Bahrain",
          "Total Population": 173107,
          "Urban population (% of total)": 82.355,
          "Year": 1962,
          "index": 531
         },
         {
          "CountryCode": "BGD",
          "CountryName": "Bangladesh",
          "Total Population": 51030604,
          "Urban population (% of total)": 5.498,
          "Year": 1962,
          "index": 532
         },
         {
          "CountryCode": "BRB",
          "CountryName": "Barbados",
          "Total Population": 232584,
          "Urban population (% of total)": 36.922,
          "Year": 1962,
          "index": 533
         },
         {
          "CountryCode": "BLR",
          "CountryName": "Belarus",
          "Total Population": 8351928,
          "Urban population (% of total)": 34.663,
          "Year": 1962,
          "index": 534
         },
         {
          "CountryCode": "BEL",
          "CountryName": "Belgium",
          "Total Population": 9220578,
          "Urban population (% of total)": 92.679,
          "Year": 1962,
          "index": 535
         },
         {
          "CountryCode": "BLZ",
          "CountryName": "Belize",
          "Total Population": 97389,
          "Urban population (% of total)": 53.41,
          "Year": 1962,
          "index": 536
         },
         {
          "CountryCode": "BEN",
          "CountryName": "Benin",
          "Total Population": 2503232,
          "Urban population (% of total)": 10.47,
          "Year": 1962,
          "index": 537
         },
         {
          "CountryCode": "BMU",
          "CountryName": "Bermuda",
          "Total Population": 46600,
          "Urban population (% of total)": 100,
          "Year": 1962,
          "index": 538
         },
         {
          "CountryCode": "BTN",
          "CountryName": "Bhutan",
          "Total Population": 234703,
          "Urban population (% of total)": 3.999,
          "Year": 1962,
          "index": 539
         },
         {
          "CountryCode": "BOL",
          "CountryName": "Bolivia",
          "Total Population": 3838096,
          "Urban population (% of total)": 37.357,
          "Year": 1962,
          "index": 540
         },
         {
          "CountryCode": "BIH",
          "CountryName": "Bosnia and Herzegovina",
          "Total Population": 3341809,
          "Urban population (% of total)": 20.437,
          "Year": 1962,
          "index": 541
         },
         {
          "CountryCode": "BWA",
          "CountryName": "Botswana",
          "Total Population": 549990,
          "Urban population (% of total)": 3.134,
          "Year": 1962,
          "index": 542
         },
         {
          "CountryCode": "BRA",
          "CountryName": "Brazil",
          "Total Population": 77007549,
          "Urban population (% of total)": 48.099,
          "Year": 1962,
          "index": 543
         },
         {
          "CountryCode": "BRN",
          "CountryName": "Brunei Darussalam",
          "Total Population": 89603,
          "Urban population (% of total)": 47.07,
          "Year": 1962,
          "index": 544
         },
         {
          "CountryCode": "BGR",
          "CountryName": "Bulgaria",
          "Total Population": 8012946,
          "Urban population (% of total)": 40.494,
          "Year": 1962,
          "index": 545
         },
         {
          "CountryCode": "BFA",
          "CountryName": "Burkina Faso",
          "Total Population": 4960325,
          "Urban population (% of total)": 4.893,
          "Year": 1962,
          "index": 546
         },
         {
          "CountryCode": "BDI",
          "CountryName": "Burundi",
          "Total Population": 2894510,
          "Urban population (% of total)": 2.154,
          "Year": 1962,
          "index": 547
         },
         {
          "CountryCode": "CPV",
          "CountryName": "Cabo Verde",
          "Total Population": 210866,
          "Urban population (% of total)": 17.224,
          "Year": 1962,
          "index": 548
         },
         {
          "CountryCode": "KHM",
          "CountryName": "Cambodia",
          "Total Population": 6026696,
          "Urban population (% of total)": 10.333,
          "Year": 1962,
          "index": 549
         },
         {
          "CountryCode": "CMR",
          "CountryName": "Cameroon",
          "Total Population": 5593768,
          "Urban population (% of total)": 15.058,
          "Year": 1962,
          "index": 550
         },
         {
          "CountryCode": "CAN",
          "CountryName": "Canada",
          "Total Population": 18614000,
          "Urban population (% of total)": 70.494,
          "Year": 1962,
          "index": 551
         },
         {
          "CountryCode": "CYM",
          "CountryName": "Cayman Islands",
          "Total Population": 8142,
          "Urban population (% of total)": 100,
          "Year": 1962,
          "index": 552
         },
         {
          "CountryCode": "CAF",
          "CountryName": "Central African Republic",
          "Total Population": 1556656,
          "Urban population (% of total)": 21.418,
          "Year": 1962,
          "index": 553
         },
         {
          "CountryCode": "TCD",
          "CountryName": "Chad",
          "Total Population": 3122357,
          "Urban population (% of total)": 7.239,
          "Year": 1962,
          "index": 554
         },
         {
          "CountryCode": "CHI",
          "CountryName": "Channel Islands",
          "Total Population": 111463,
          "Urban population (% of total)": 38.172,
          "Year": 1962,
          "index": 555
         },
         {
          "CountryCode": "CHL",
          "CountryName": "Chile",
          "Total Population": 8054166,
          "Urban population (% of total)": 69.435,
          "Year": 1962,
          "index": 556
         },
         {
          "CountryCode": "CHN",
          "CountryName": "China",
          "Total Population": 665770000,
          "Urban population (% of total)": 17.226,
          "Year": 1962,
          "index": 557
         },
         {
          "CountryCode": "COL",
          "CountryName": "Colombia",
          "Total Population": 17500166,
          "Urban population (% of total)": 47.628,
          "Year": 1962,
          "index": 558
         },
         {
          "CountryCode": "COM",
          "CountryName": "Comoros",
          "Total Population": 194960,
          "Urban population (% of total)": 14.189,
          "Year": 1962,
          "index": 559
         },
         {
          "CountryCode": "ZAR",
          "CountryName": "Congo, Dem. Rep.",
          "Total Population": 16041247,
          "Urban population (% of total)": 22.749,
          "Year": 1962,
          "index": 560
         },
         {
          "CountryCode": "COG",
          "CountryName": "Congo, Rep.",
          "Total Population": 1067611,
          "Urban population (% of total)": 33.045,
          "Year": 1962,
          "index": 561
         },
         {
          "CountryCode": "CRI",
          "CountryName": "Costa Rica",
          "Total Population": 1432583,
          "Urban population (% of total)": 34.404,
          "Year": 1962,
          "index": 562
         },
         {
          "CountryCode": "CIV",
          "CountryName": "Cote d'Ivoire",
          "Total Population": 3740503,
          "Urban population (% of total)": 20.21,
          "Year": 1962,
          "index": 563
         },
         {
          "CountryCode": "HRV",
          "CountryName": "Croatia",
          "Total Population": 4202104,
          "Urban population (% of total)": 32.001,
          "Year": 1962,
          "index": 564
         },
         {
          "CountryCode": "CUB",
          "CountryName": "Cuba",
          "Total Population": 7450404,
          "Urban population (% of total)": 58.776,
          "Year": 1962,
          "index": 565
         },
         {
          "CountryCode": "CUW",
          "CountryName": "Curacao",
          "Total Population": 128414,
          "Urban population (% of total)": 75.49,
          "Year": 1962,
          "index": 566
         },
         {
          "CountryCode": "CYP",
          "CountryName": "Cyprus",
          "Total Population": 577691,
          "Urban population (% of total)": 36.674,
          "Year": 1962,
          "index": 567
         },
         {
          "CountryCode": "CZE",
          "CountryName": "Czech Republic",
          "Total Population": 9624660,
          "Urban population (% of total)": 60.555,
          "Year": 1962,
          "index": 568
         },
         {
          "CountryCode": "DNK",
          "CountryName": "Denmark",
          "Total Population": 4647727,
          "Urban population (% of total)": 75.093,
          "Year": 1962,
          "index": 569
         },
         {
          "CountryCode": "DJI",
          "CountryName": "Djibouti",
          "Total Population": 94200,
          "Urban population (% of total)": 52.619,
          "Year": 1962,
          "index": 570
         },
         {
          "CountryCode": "DMA",
          "CountryName": "Dominica",
          "Total Population": 61984,
          "Urban population (% of total)": 37.979,
          "Year": 1962,
          "index": 571
         },
         {
          "CountryCode": "DOM",
          "CountryName": "Dominican Republic",
          "Total Population": 3521276,
          "Urban population (% of total)": 32.094,
          "Year": 1962,
          "index": 572
         },
         {
          "CountryCode": "ECU",
          "CountryName": "Ecuador",
          "Total Population": 4812892,
          "Urban population (% of total)": 35.06,
          "Year": 1962,
          "index": 573
         },
         {
          "CountryCode": "EGY",
          "CountryName": "Egypt, Arab Rep.",
          "Total Population": 28560741,
          "Urban population (% of total)": 38.624,
          "Year": 1962,
          "index": 574
         },
         {
          "CountryCode": "SLV",
          "CountryName": "El Salvador",
          "Total Population": 2927861,
          "Urban population (% of total)": 38.614,
          "Year": 1962,
          "index": 575
         },
         {
          "CountryCode": "GNQ",
          "CountryName": "Equatorial Guinea",
          "Total Population": 257940,
          "Urban population (% of total)": 26.234,
          "Year": 1962,
          "index": 576
         },
         {
          "CountryCode": "ERI",
          "CountryName": "Eritrea",
          "Total Population": 1476321,
          "Urban population (% of total)": 10.377,
          "Year": 1962,
          "index": 577
         },
         {
          "CountryCode": "EST",
          "CountryName": "Estonia",
          "Total Population": 1241623,
          "Urban population (% of total)": 59.072,
          "Year": 1962,
          "index": 578
         },
         {
          "CountryCode": "ETH",
          "CountryName": "Ethiopia",
          "Total Population": 23221331,
          "Urban population (% of total)": 6.874,
          "Year": 1962,
          "index": 579
         },
         {
          "CountryCode": "FRO",
          "CountryName": "Faeroe Islands",
          "Total Population": 35153,
          "Urban population (% of total)": 22.962,
          "Year": 1962,
          "index": 580
         },
         {
          "CountryCode": "FJI",
          "CountryName": "Fiji",
          "Total Population": 421576,
          "Urban population (% of total)": 30.823,
          "Year": 1962,
          "index": 581
         },
         {
          "CountryCode": "FIN",
          "CountryName": "Finland",
          "Total Population": 4491443,
          "Urban population (% of total)": 57.162,
          "Year": 1962,
          "index": 582
         },
         {
          "CountryCode": "FRA",
          "CountryName": "France",
          "Total Population": 48119649,
          "Urban population (% of total)": 63.489,
          "Year": 1962,
          "index": 583
         },
         {
          "CountryCode": "PYF",
          "CountryName": "French Polynesia",
          "Total Population": 83654,
          "Urban population (% of total)": 44.16,
          "Year": 1962,
          "index": 584
         },
         {
          "CountryCode": "GAB",
          "CountryName": "Gabon",
          "Total Population": 509806,
          "Urban population (% of total)": 19.594,
          "Year": 1962,
          "index": 585
         },
         {
          "CountryCode": "GMB",
          "CountryName": "Gambia, The",
          "Total Population": 383525,
          "Urban population (% of total)": 12.535,
          "Year": 1962,
          "index": 586
         },
         {
          "CountryCode": "GEO",
          "CountryName": "Georgia",
          "Total Population": 3760300,
          "Urban population (% of total)": 44.051,
          "Year": 1962,
          "index": 587
         },
         {
          "CountryCode": "DEU",
          "CountryName": "Germany",
          "Total Population": 74025784,
          "Urban population (% of total)": 71.762,
          "Year": 1962,
          "index": 588
         },
         {
          "CountryCode": "GHA",
          "CountryName": "Ghana",
          "Total Population": 7085463,
          "Urban population (% of total)": 24.352,
          "Year": 1962,
          "index": 589
         },
         {
          "CountryCode": "GRC",
          "CountryName": "Greece",
          "Total Population": 8448233,
          "Urban population (% of total)": 57.34,
          "Year": 1962,
          "index": 590
         },
         {
          "CountryCode": "GRL",
          "CountryName": "Greenland",
          "Total Population": 35000,
          "Urban population (% of total)": 61.406,
          "Year": 1962,
          "index": 591
         },
         {
          "CountryCode": "GRD",
          "CountryName": "Grenada",
          "Total Population": 92424,
          "Urban population (% of total)": 30.707,
          "Year": 1962,
          "index": 592
         },
         {
          "CountryCode": "GUM",
          "CountryName": "Guam",
          "Total Population": 69607,
          "Urban population (% of total)": 52.314,
          "Year": 1962,
          "index": 593
         },
         {
          "CountryCode": "GTM",
          "CountryName": "Guatemala",
          "Total Population": 4356579,
          "Urban population (% of total)": 32.424,
          "Year": 1962,
          "index": 594
         },
         {
          "CountryCode": "GIN",
          "CountryName": "Guinea",
          "Total Population": 3690960,
          "Urban population (% of total)": 11.418,
          "Year": 1962,
          "index": 595
         },
         {
          "CountryCode": "GNB",
          "CountryName": "Guinea-Bissau",
          "Total Population": 629973,
          "Urban population (% of total)": 13.895,
          "Year": 1962,
          "index": 596
         },
         {
          "CountryCode": "GUY",
          "CountryName": "Guyana",
          "Total Population": 600559,
          "Urban population (% of total)": 29.089,
          "Year": 1962,
          "index": 597
         },
         {
          "CountryCode": "HTI",
          "CountryName": "Haiti",
          "Total Population": 4022596,
          "Urban population (% of total)": 16.365,
          "Year": 1962,
          "index": 598
         },
         {
          "CountryCode": "HND",
          "CountryName": "Honduras",
          "Total Population": 2139208,
          "Urban population (% of total)": 23.9,
          "Year": 1962,
          "index": 599
         },
         {
          "CountryCode": "HKG",
          "CountryName": "Hong Kong SAR, China",
          "Total Population": 3305200,
          "Urban population (% of total)": 85.582,
          "Year": 1962,
          "index": 600
         },
         {
          "CountryCode": "HUN",
          "CountryName": "Hungary",
          "Total Population": 10061734,
          "Urban population (% of total)": 56.758,
          "Year": 1962,
          "index": 601
         },
         {
          "CountryCode": "ISL",
          "CountryName": "Iceland",
          "Total Population": 182378,
          "Urban population (% of total)": 81.297,
          "Year": 1962,
          "index": 602
         },
         {
          "CountryCode": "IND",
          "CountryName": "India",
          "Total Population": 468054145,
          "Urban population (% of total)": 18.218,
          "Year": 1962,
          "index": 603
         },
         {
          "CountryCode": "IDN",
          "CountryName": "Indonesia",
          "Total Population": 92558006,
          "Urban population (% of total)": 15.058,
          "Year": 1962,
          "index": 604
         },
         {
          "CountryCode": "IRN",
          "CountryName": "Iran, Islamic Rep.",
          "Total Population": 23071426,
          "Urban population (% of total)": 35.051,
          "Year": 1962,
          "index": 605
         },
         {
          "CountryCode": "IRQ",
          "CountryName": "Iraq",
          "Total Population": 7674220,
          "Urban population (% of total)": 45.978,
          "Year": 1962,
          "index": 606
         },
         {
          "CountryCode": "IRL",
          "CountryName": "Ireland",
          "Total Population": 2836050,
          "Urban population (% of total)": 46.856,
          "Year": 1962,
          "index": 607
         },
         {
          "CountryCode": "IMY",
          "CountryName": "Isle of Man",
          "Total Population": 48580,
          "Urban population (% of total)": 55.586,
          "Year": 1962,
          "index": 608
         },
         {
          "CountryCode": "ISR",
          "CountryName": "Israel",
          "Total Population": 2293000,
          "Urban population (% of total)": 78.754,
          "Year": 1962,
          "index": 609
         },
         {
          "CountryCode": "ITA",
          "CountryName": "Italy",
          "Total Population": 50879450,
          "Urban population (% of total)": 60.355,
          "Year": 1962,
          "index": 610
         },
         {
          "CountryCode": "JAM",
          "CountryName": "Jamaica",
          "Total Population": 1678467,
          "Urban population (% of total)": 35.239,
          "Year": 1962,
          "index": 611
         },
         {
          "CountryCode": "JPN",
          "CountryName": "Japan",
          "Total Population": 95832000,
          "Urban population (% of total)": 65.144,
          "Year": 1962,
          "index": 612
         },
         {
          "CountryCode": "JOR",
          "CountryName": "Jordan",
          "Total Population": 943090,
          "Urban population (% of total)": 53.215,
          "Year": 1962,
          "index": 613
         },
         {
          "CountryCode": "KAZ",
          "CountryName": "Kazakhstan",
          "Total Population": 10532062,
          "Urban population (% of total)": 45.296,
          "Year": 1962,
          "index": 614
         },
         {
          "CountryCode": "KEN",
          "CountryName": "Kenya",
          "Total Population": 8628973,
          "Urban population (% of total)": 7.774,
          "Year": 1962,
          "index": 615
         },
         {
          "CountryCode": "KIR",
          "CountryName": "Kiribati",
          "Total Population": 43312,
          "Urban population (% of total)": 17.566,
          "Year": 1962,
          "index": 616
         },
         {
          "CountryCode": "PRK",
          "CountryName": "Korea, Dem. Rep.",
          "Total Population": 11871720,
          "Urban population (% of total)": 42.136,
          "Year": 1962,
          "index": 617
         },
         {
          "CountryCode": "KOR",
          "CountryName": "Korea, Rep.",
          "Total Population": 26513030,
          "Urban population (% of total)": 29.461,
          "Year": 1962,
          "index": 618
         },
         {
          "CountryCode": "KWT",
          "CountryName": "Kuwait",
          "Total Population": 335161,
          "Urban population (% of total)": 76.66,
          "Year": 1962,
          "index": 619
         },
         {
          "CountryCode": "KGZ",
          "CountryName": "Kyrgyz Republic",
          "Total Population": 2333400,
          "Urban population (% of total)": 34.844,
          "Year": 1962,
          "index": 620
         },
         {
          "CountryCode": "LAO",
          "CountryName": "Lao PDR",
          "Total Population": 2219964,
          "Urban population (% of total)": 8.095,
          "Year": 1962,
          "index": 621
         },
         {
          "CountryCode": "LVA",
          "CountryName": "Latvia",
          "Total Population": 2181586,
          "Urban population (% of total)": 54.459,
          "Year": 1962,
          "index": 622
         },
         {
          "CountryCode": "LBN",
          "CountryName": "Lebanon",
          "Total Population": 1925276,
          "Urban population (% of total)": 45.752,
          "Year": 1962,
          "index": 623
         },
         {
          "CountryCode": "LSO",
          "CountryName": "Lesotho",
          "Total Population": 881910,
          "Urban population (% of total)": 4.464,
          "Year": 1962,
          "index": 624
         },
         {
          "CountryCode": "LBR",
          "CountryName": "Liberia",
          "Total Population": 1170267,
          "Urban population (% of total)": 19.969,
          "Year": 1962,
          "index": 625
         },
         {
          "CountryCode": "LBY",
          "CountryName": "Libya",
          "Total Population": 1536196,
          "Urban population (% of total)": 29.089,
          "Year": 1962,
          "index": 626
         },
         {
          "CountryCode": "LIE",
          "CountryName": "Liechtenstein",
          "Total Population": 17298,
          "Urban population (% of total)": 20.102,
          "Year": 1962,
          "index": 627
         },
         {
          "CountryCode": "LTU",
          "CountryName": "Lithuania",
          "Total Population": 2863350,
          "Urban population (% of total)": 41.435,
          "Year": 1962,
          "index": 628
         },
         {
          "CountryCode": "LUX",
          "CountryName": "Luxembourg",
          "Total Population": 320750,
          "Urban population (% of total)": 70.443,
          "Year": 1962,
          "index": 629
         },
         {
          "CountryCode": "MAC",
          "CountryName": "Macao SAR, China",
          "Total Population": 181025,
          "Urban population (% of total)": 95.556,
          "Year": 1962,
          "index": 630
         },
         {
          "CountryCode": "MKD",
          "CountryName": "Macedonia, FYR",
          "Total Population": 1527105,
          "Urban population (% of total)": 36.473,
          "Year": 1962,
          "index": 631
         },
         {
          "CountryCode": "MDG",
          "CountryName": "Madagascar",
          "Total Population": 5352674,
          "Urban population (% of total)": 11.309,
          "Year": 1962,
          "index": 632
         },
         {
          "CountryCode": "MWI",
          "CountryName": "Malawi",
          "Total Population": 3784444,
          "Urban population (% of total)": 4.59,
          "Year": 1962,
          "index": 633
         },
         {
          "CountryCode": "MYS",
          "CountryName": "Malaysia",
          "Total Population": 8710678,
          "Urban population (% of total)": 27.895,
          "Year": 1962,
          "index": 634
         },
         {
          "CountryCode": "MDV",
          "CountryName": "Maldives",
          "Total Population": 94909,
          "Urban population (% of total)": 11.288,
          "Year": 1962,
          "index": 635
         },
         {
          "CountryCode": "MLI",
          "CountryName": "Mali",
          "Total Population": 5381369,
          "Urban population (% of total)": 11.662,
          "Year": 1962,
          "index": 636
         },
         {
          "CountryCode": "MLT",
          "CountryName": "Malta",
          "Total Population": 323900,
          "Urban population (% of total)": 90.008,
          "Year": 1962,
          "index": 637
         },
         {
          "CountryCode": "MHL",
          "CountryName": "Marshall Islands",
          "Total Population": 15545,
          "Urban population (% of total)": 38.358,
          "Year": 1962,
          "index": 638
         },
         {
          "CountryCode": "MRT",
          "CountryName": "Mauritania",
          "Total Population": 909172,
          "Urban population (% of total)": 8.031,
          "Year": 1962,
          "index": 639
         },
         {
          "CountryCode": "MUS",
          "CountryName": "Mauritius",
          "Total Population": 700349,
          "Urban population (% of total)": 34.103,
          "Year": 1962,
          "index": 640
         },
         {
          "CountryCode": "MEX",
          "CountryName": "Mexico",
          "Total Population": 40649590,
          "Urban population (% of total)": 52.428,
          "Year": 1962,
          "index": 641
         },
         {
          "CountryCode": "FSM",
          "CountryName": "Micronesia, Fed. Sts.",
          "Total Population": 47387,
          "Urban population (% of total)": 22.797,
          "Year": 1962,
          "index": 642
         },
         {
          "CountryCode": "MDA",
          "CountryName": "Moldova",
          "Total Population": 2664000,
          "Urban population (% of total)": 25.027,
          "Year": 1962,
          "index": 643
         },
         {
          "CountryCode": "MCO",
          "CountryName": "Monaco",
          "Total Population": 23042,
          "Urban population (% of total)": 100,
          "Year": 1962,
          "index": 644
         },
         {
          "CountryCode": "MNG",
          "CountryName": "Mongolia",
          "Total Population": 1011328,
          "Urban population (% of total)": 39.73,
          "Year": 1962,
          "index": 645
         },
         {
          "CountryCode": "MNE",
          "CountryName": "Montenegro",
          "Total Population": 486092,
          "Urban population (% of total)": 20.237,
          "Year": 1962,
          "index": 646
         },
         {
          "CountryCode": "MAR",
          "CountryName": "Morocco",
          "Total Population": 13100843,
          "Urban population (% of total)": 30.345,
          "Year": 1962,
          "index": 647
         },
         {
          "CountryCode": "MOZ",
          "CountryName": "Mozambique",
          "Total Population": 7799396,
          "Urban population (% of total)": 5.144,
          "Year": 1962,
          "index": 648
         },
         {
          "CountryCode": "MMR",
          "CountryName": "Myanmar",
          "Total Population": 22446690,
          "Urban population (% of total)": 19.91,
          "Year": 1962,
          "index": 649
         },
         {
          "CountryCode": "NAM",
          "CountryName": "Namibia",
          "Total Population": 632658,
          "Urban population (% of total)": 18.748,
          "Year": 1962,
          "index": 650
         },
         {
          "CountryCode": "NPL",
          "CountryName": "Nepal",
          "Total Population": 10377061,
          "Urban population (% of total)": 3.612,
          "Year": 1962,
          "index": 651
         },
         {
          "CountryCode": "NLD",
          "CountryName": "Netherlands",
          "Total Population": 11805689,
          "Urban population (% of total)": 60.204,
          "Year": 1962,
          "index": 652
         },
         {
          "CountryCode": "NCL",
          "CountryName": "New Caledonia",
          "Total Population": 83400,
          "Urban population (% of total)": 40.224,
          "Year": 1962,
          "index": 653
         },
         {
          "CountryCode": "NZL",
          "CountryName": "New Zealand",
          "Total Population": 2482000,
          "Urban population (% of total)": 77.133,
          "Year": 1962,
          "index": 654
         },
         {
          "CountryCode": "NIC",
          "CountryName": "Nicaragua",
          "Total Population": 1886560,
          "Urban population (% of total)": 40.481,
          "Year": 1962,
          "index": 655
         },
         {
          "CountryCode": "NER",
          "CountryName": "Niger",
          "Total Population": 3596613,
          "Urban population (% of total)": 6,
          "Year": 1962,
          "index": 656
         },
         {
          "CountryCode": "NGA",
          "CountryName": "Nigeria",
          "Total Population": 47117859,
          "Urban population (% of total)": 15.858,
          "Year": 1962,
          "index": 657
         },
         {
          "CountryCode": "MNP",
          "CountryName": "Northern Mariana Islands",
          "Total Population": 10541,
          "Urban population (% of total)": 54.26,
          "Year": 1962,
          "index": 658
         },
         {
          "CountryCode": "NOR",
          "CountryName": "Norway",
          "Total Population": 3638918,
          "Urban population (% of total)": 52.653,
          "Year": 1962,
          "index": 659
         },
         {
          "CountryCode": "OMN",
          "CountryName": "Oman",
          "Total Population": 578825,
          "Urban population (% of total)": 18.607,
          "Year": 1962,
          "index": 660
         },
         {
          "CountryCode": "PAK",
          "CountryName": "Pakistan",
          "Total Population": 47122931,
          "Urban population (% of total)": 22.751,
          "Year": 1962,
          "index": 661
         },
         {
          "CountryCode": "PLW",
          "CountryName": "Palau",
          "Total Population": 10150,
          "Urban population (% of total)": 57.405,
          "Year": 1962,
          "index": 662
         },
         {
          "CountryCode": "PAN",
          "CountryName": "Panama",
          "Total Population": 1202372,
          "Urban population (% of total)": 42.494,
          "Year": 1962,
          "index": 663
         },
         {
          "CountryCode": "PNG",
          "CountryName": "Papua New Guinea",
          "Total Population": 2037165,
          "Urban population (% of total)": 4.347,
          "Year": 1962,
          "index": 664
         },
         {
          "CountryCode": "PRY",
          "CountryName": "Paraguay",
          "Total Population": 2005337,
          "Urban population (% of total)": 35.771,
          "Year": 1962,
          "index": 665
         },
         {
          "CountryCode": "PER",
          "CountryName": "Peru",
          "Total Population": 10650672,
          "Urban population (% of total)": 48.514,
          "Year": 1962,
          "index": 666
         },
         {
          "CountryCode": "PHL",
          "CountryName": "Philippines",
          "Total Population": 28081234,
          "Urban population (% of total)": 30.816,
          "Year": 1962,
          "index": 667
         },
         {
          "CountryCode": "POL",
          "CountryName": "Poland",
          "Total Population": 30308500,
          "Urban population (% of total)": 48.926,
          "Year": 1962,
          "index": 668
         },
         {
          "CountryCode": "PRT",
          "CountryName": "Portugal",
          "Total Population": 8993985,
          "Urban population (% of total)": 35.722,
          "Year": 1962,
          "index": 669
         },
         {
          "CountryCode": "PRI",
          "CountryName": "Puerto Rico",
          "Total Population": 2450322,
          "Urban population (% of total)": 47.327,
          "Year": 1962,
          "index": 670
         },
         {
          "CountryCode": "QAT",
          "CountryName": "Qatar",
          "Total Population": 56187,
          "Urban population (% of total)": 86.101,
          "Year": 1962,
          "index": 671
         },
         {
          "CountryCode": "ROM",
          "CountryName": "Romania",
          "Total Population": 18676550,
          "Urban population (% of total)": 35.586,
          "Year": 1962,
          "index": 672
         },
         {
          "CountryCode": "RUS",
          "CountryName": "Russian Federation",
          "Total Population": 122591000,
          "Urban population (% of total)": 55.518,
          "Year": 1962,
          "index": 673
         },
         {
          "CountryCode": "RWA",
          "CountryName": "Rwanda",
          "Total Population": 3050596,
          "Urban population (% of total)": 2.71,
          "Year": 1962,
          "index": 674
         },
         {
          "CountryCode": "WSM",
          "CountryName": "Samoa",
          "Total Population": 115786,
          "Urban population (% of total)": 19.061,
          "Year": 1962,
          "index": 675
         },
         {
          "CountryCode": "SMR",
          "CountryName": "San Marino",
          "Total Population": 16197,
          "Urban population (% of total)": 51.104,
          "Year": 1962,
          "index": 676
         },
         {
          "CountryCode": "STP",
          "CountryName": "Sao Tome and Principe",
          "Total Population": 64429,
          "Urban population (% of total)": 17.969,
          "Year": 1962,
          "index": 677
         },
         {
          "CountryCode": "SAU",
          "CountryName": "Saudi Arabia",
          "Total Population": 4362863,
          "Urban population (% of total)": 33.518,
          "Year": 1962,
          "index": 678
         },
         {
          "CountryCode": "SEN",
          "CountryName": "Senegal",
          "Total Population": 3356421,
          "Urban population (% of total)": 24.303,
          "Year": 1962,
          "index": 679
         },
         {
          "CountryCode": "SYC",
          "CountryName": "Seychelles",
          "Total Population": 44042,
          "Urban population (% of total)": 29.786,
          "Year": 1962,
          "index": 680
         },
         {
          "CountryCode": "SLE",
          "CountryName": "Sierra Leone",
          "Total Population": 2239581,
          "Urban population (% of total)": 18.467,
          "Year": 1962,
          "index": 681
         },
         {
          "CountryCode": "SGP",
          "CountryName": "Singapore",
          "Total Population": 1750200,
          "Urban population (% of total)": 100,
          "Year": 1962,
          "index": 682
         },
         {
          "CountryCode": "SVK",
          "CountryName": "Slovak Republic",
          "Total Population": 4238188,
          "Urban population (% of total)": 34.714,
          "Year": 1962,
          "index": 683
         },
         {
          "CountryCode": "SVN",
          "CountryName": "Slovenia",
          "Total Population": 1603649,
          "Urban population (% of total)": 29.934,
          "Year": 1962,
          "index": 684
         },
         {
          "CountryCode": "SLB",
          "CountryName": "Solomon Islands",
          "Total Population": 125068,
          "Urban population (% of total)": 6.321,
          "Year": 1962,
          "index": 685
         },
         {
          "CountryCode": "SOM",
          "CountryName": "Somalia",
          "Total Population": 2874944,
          "Urban population (% of total)": 18.372,
          "Year": 1962,
          "index": 686
         },
         {
          "CountryCode": "ZAF",
          "CountryName": "South Africa",
          "Total Population": 18459442,
          "Urban population (% of total)": 46.906,
          "Year": 1962,
          "index": 687
         },
         {
          "CountryCode": "SSD",
          "CountryName": "South Sudan",
          "Total Population": 3069990,
          "Urban population (% of total)": 8.725,
          "Year": 1962,
          "index": 688
         },
         {
          "CountryCode": "ESP",
          "CountryName": "Spain",
          "Total Population": 31023366,
          "Urban population (% of total)": 58.308,
          "Year": 1962,
          "index": 689
         },
         {
          "CountryCode": "LKA",
          "CountryName": "Sri Lanka",
          "Total Population": 10443000,
          "Urban population (% of total)": 16.753,
          "Year": 1962,
          "index": 690
         },
         {
          "CountryCode": "KNA",
          "CountryName": "St. Kitts and Nevis",
          "Total Population": 50966,
          "Urban population (% of total)": 28.903,
          "Year": 1962,
          "index": 691
         },
         {
          "CountryCode": "LCA",
          "CountryName": "St. Lucia",
          "Total Population": 92086,
          "Urban population (% of total)": 21.934,
          "Year": 1962,
          "index": 692
         },
         {
          "CountryCode": "VCT",
          "CountryName": "St. Vincent and the Grenadines",
          "Total Population": 83206,
          "Urban population (% of total)": 26.851,
          "Year": 1962,
          "index": 693
         },
         {
          "CountryCode": "SDN",
          "CountryName": "Sudan",
          "Total Population": 7981797,
          "Urban population (% of total)": 11.737,
          "Year": 1962,
          "index": 694
         },
         {
          "CountryCode": "SUR",
          "CountryName": "Suriname",
          "Total Population": 306330,
          "Urban population (% of total)": 47.335,
          "Year": 1962,
          "index": 695
         },
         {
          "CountryCode": "SWZ",
          "CountryName": "Swaziland",
          "Total Population": 365719,
          "Urban population (% of total)": 4.8,
          "Year": 1962,
          "index": 696
         },
         {
          "CountryCode": "SWE",
          "CountryName": "Sweden",
          "Total Population": 7561588,
          "Urban population (% of total)": 74.271,
          "Year": 1962,
          "index": 697
         },
         {
          "CountryCode": "CHE",
          "CountryName": "Switzerland",
          "Total Population": 5573815,
          "Urban population (% of total)": 52.309,
          "Year": 1962,
          "index": 698
         },
         {
          "CountryCode": "SYR",
          "CountryName": "Syrian Arab Republic",
          "Total Population": 4897428,
          "Urban population (% of total)": 38.044,
          "Year": 1962,
          "index": 699
         },
         {
          "CountryCode": "TJK",
          "CountryName": "Tajikistan",
          "Total Population": 2223956,
          "Urban population (% of total)": 33.955,
          "Year": 1962,
          "index": 700
         },
         {
          "CountryCode": "TZA",
          "CountryName": "Tanzania",
          "Total Population": 10683888,
          "Urban population (% of total)": 5.547,
          "Year": 1962,
          "index": 701
         },
         {
          "CountryCode": "THA",
          "CountryName": "Thailand",
          "Total Population": 29081037,
          "Urban population (% of total)": 19.89,
          "Year": 1962,
          "index": 702
         },
         {
          "CountryCode": "TMP",
          "CountryName": "Timor-Leste",
          "Total Population": 517446,
          "Urban population (% of total)": 10.511,
          "Year": 1962,
          "index": 703
         },
         {
          "CountryCode": "TGO",
          "CountryName": "Togo",
          "Total Population": 1612758,
          "Urban population (% of total)": 11.844,
          "Year": 1962,
          "index": 704
         },
         {
          "CountryCode": "TON",
          "CountryName": "Tonga",
          "Total Population": 66255,
          "Urban population (% of total)": 18.312,
          "Year": 1962,
          "index": 705
         },
         {
          "CountryCode": "TTO",
          "CountryName": "Trinidad and Tobago",
          "Total Population": 880019,
          "Urban population (% of total)": 16.093,
          "Year": 1962,
          "index": 706
         },
         {
          "CountryCode": "TUN",
          "CountryName": "Tunisia",
          "Total Population": 4350811,
          "Urban population (% of total)": 38.391,
          "Year": 1962,
          "index": 707
         },
         {
          "CountryCode": "TUR",
          "CountryName": "Turkey",
          "Total Population": 28909985,
          "Urban population (% of total)": 32.598,
          "Year": 1962,
          "index": 708
         },
         {
          "CountryCode": "TKM",
          "CountryName": "Turkmenistan",
          "Total Population": 1708711,
          "Urban population (% of total)": 46.702,
          "Year": 1962,
          "index": 709
         },
         {
          "CountryCode": "TCA",
          "CountryName": "Turks and Caicos Islands",
          "Total Population": 5762,
          "Urban population (% of total)": 48.364,
          "Year": 1962,
          "index": 710
         },
         {
          "CountryCode": "TUV",
          "CountryName": "Tuvalu",
          "Total Population": 6391,
          "Urban population (% of total)": 17.008,
          "Year": 1962,
          "index": 711
         },
         {
          "CountryCode": "UGA",
          "CountryName": "Uganda",
          "Total Population": 7240155,
          "Urban population (% of total)": 4.826,
          "Year": 1962,
          "index": 712
         },
         {
          "CountryCode": "UKR",
          "CountryName": "Ukraine",
          "Total Population": 43749469,
          "Urban population (% of total)": 48.294,
          "Year": 1962,
          "index": 713
         },
         {
          "CountryCode": "ARE",
          "CountryName": "United Arab Emirates",
          "Total Population": 112240,
          "Urban population (% of total)": 75.248,
          "Year": 1962,
          "index": 714
         },
         {
          "CountryCode": "GBR",
          "CountryName": "United Kingdom",
          "Total Population": 53250000,
          "Urban population (% of total)": 78.237,
          "Year": 1962,
          "index": 715
         },
         {
          "CountryCode": "USA",
          "CountryName": "United States",
          "Total Population": 186538000,
          "Urban population (% of total)": 70.757,
          "Year": 1962,
          "index": 716
         },
         {
          "CountryCode": "URY",
          "CountryName": "Uruguay",
          "Total Population": 2603887,
          "Urban population (% of total)": 80.681,
          "Year": 1962,
          "index": 717
         },
         {
          "CountryCode": "UZB",
          "CountryName": "Uzbekistan",
          "Total Population": 9319510,
          "Urban population (% of total)": 34.5,
          "Year": 1962,
          "index": 718
         },
         {
          "CountryCode": "VUT",
          "CountryName": "Vanuatu",
          "Total Population": 67806,
          "Urban population (% of total)": 10.765,
          "Year": 1962,
          "index": 719
         },
         {
          "CountryCode": "VEN",
          "CountryName": "Venezuela, RB",
          "Total Population": 8790590,
          "Urban population (% of total)": 63.933,
          "Year": 1962,
          "index": 720
         },
         {
          "CountryCode": "VNM",
          "CountryName": "Vietnam",
          "Total Population": 36123000,
          "Urban population (% of total)": 15.369,
          "Year": 1962,
          "index": 721
         },
         {
          "CountryCode": "VIR",
          "CountryName": "Virgin Islands (U.S.)",
          "Total Population": 36300,
          "Urban population (% of total)": 59.241,
          "Year": 1962,
          "index": 722
         },
         {
          "CountryCode": "YEM",
          "CountryName": "Yemen, Rep.",
          "Total Population": 5339285,
          "Urban population (% of total)": 9.831,
          "Year": 1962,
          "index": 723
         },
         {
          "CountryCode": "ZMB",
          "CountryName": "Zambia",
          "Total Population": 3240664,
          "Urban population (% of total)": 19.785,
          "Year": 1962,
          "index": 724
         },
         {
          "CountryCode": "ZWE",
          "CountryName": "Zimbabwe",
          "Total Population": 4006262,
          "Urban population (% of total)": 13.082,
          "Year": 1962,
          "index": 725
         },
         {
          "CountryCode": "ARB",
          "CountryName": "Arab World",
          "Total Population": 100438281,
          "Urban population (% of total)": 33.5558808209,
          "Year": 1963,
          "index": 726
         },
         {
          "CountryCode": "CSS",
          "CountryName": "Caribbean small states",
          "Total Population": 4435830,
          "Urban population (% of total)": 32.3139419105,
          "Year": 1963,
          "index": 727
         },
         {
          "CountryCode": "CEB",
          "CountryName": "Central Europe and the Baltics",
          "Total Population": 93845749,
          "Urban population (% of total)": 46.5340927664,
          "Year": 1963,
          "index": 728
         },
         {
          "CountryCode": "EAS",
          "CountryName": "East Asia & Pacific (all income levels)",
          "Total Population": 1085447747,
          "Urban population (% of total)": 24.1179584421,
          "Year": 1963,
          "index": 729
         },
         {
          "CountryCode": "EAP",
          "CountryName": "East Asia & Pacific (developing only)",
          "Total Population": 930292410,
          "Urban population (% of total)": 18.3360097957,
          "Year": 1963,
          "index": 730
         },
         {
          "CountryCode": "EMU",
          "CountryName": "Euro area",
          "Total Population": 272876446,
          "Urban population (% of total)": 63.6296067451,
          "Year": 1963,
          "index": 731
         },
         {
          "CountryCode": "ECS",
          "CountryName": "Europe & Central Asia (all income levels)",
          "Total Population": 691101825,
          "Urban population (% of total)": 57.0108392432,
          "Year": 1963,
          "index": 732
         },
         {
          "CountryCode": "ECA",
          "CountryName": "Europe & Central Asia (developing only)",
          "Total Population": 164093090,
          "Urban population (% of total)": 40.1457537419,
          "Year": 1963,
          "index": 733
         },
         {
          "CountryCode": "EUU",
          "CountryName": "European Union",
          "Total Population": 420393292,
          "Urban population (% of total)": 62.6193631189,
          "Year": 1963,
          "index": 734
         },
         {
          "CountryCode": "FCS",
          "CountryName": "Fragile and conflict affected situations",
          "Total Population": 129005734,
          "Urban population (% of total)": 19.4462957218,
          "Year": 1963,
          "index": 735
         },
         {
          "CountryCode": "HPC",
          "CountryName": "Heavily indebted poor countries (HIPC)",
          "Total Population": 174484508,
          "Urban population (% of total)": 13.3160951449,
          "Year": 1963,
          "index": 736
         },
         {
          "CountryCode": "HIC",
          "CountryName": "High income",
          "Total Population": 945017907,
          "Urban population (% of total)": 64.3936110739,
          "Year": 1963,
          "index": 737
         },
         {
          "CountryCode": "NOC",
          "CountryName": "High income: nonOECD",
          "Total Population": 195817810,
          "Urban population (% of total)": 58.7022234139,
          "Year": 1963,
          "index": 738
         },
         {
          "CountryCode": "OEC",
          "CountryName": "High income: OECD",
          "Total Population": 749200097,
          "Urban population (% of total)": 65.7911318469,
          "Year": 1963,
          "index": 739
         },
         {
          "CountryCode": "LCN",
          "CountryName": "Latin America & Caribbean (all income levels)",
          "Total Population": 239771182,
          "Urban population (% of total)": 51.6744727831,
          "Year": 1963,
          "index": 740
         },
         {
          "CountryCode": "LAC",
          "CountryName": "Latin America & Caribbean (developing only)",
          "Total Population": 194035506,
          "Urban population (% of total)": 47.4370383051,
          "Year": 1963,
          "index": 741
         },
         {
          "CountryCode": "LDC",
          "CountryName": "Least developed countries: UN classification",
          "Total Population": 258670231,
          "Urban population (% of total)": 10.4109327306,
          "Year": 1963,
          "index": 742
         },
         {
          "CountryCode": "LMY",
          "CountryName": "Low & middle income",
          "Total Population": 2248870171,
          "Urban population (% of total)": 22.6676067452,
          "Year": 1963,
          "index": 743
         },
         {
          "CountryCode": "LIC",
          "CountryName": "Low income",
          "Total Population": 167835124,
          "Urban population (% of total)": 12.3534066602,
          "Year": 1963,
          "index": 744
         },
         {
          "CountryCode": "LMC",
          "CountryName": "Lower middle income",
          "Total Population": 1008923908,
          "Urban population (% of total)": 20.5780011524,
          "Year": 1963,
          "index": 745
         },
         {
          "CountryCode": "MEA",
          "CountryName": "Middle East & North Africa (all income levels)",
          "Total Population": 114525072,
          "Urban population (% of total)": 37.2559815113,
          "Year": 1963,
          "index": 746
         },
         {
          "CountryCode": "MNA",
          "CountryName": "Middle East & North Africa (developing only)",
          "Total Population": 105966779,
          "Urban population (% of total)": 36.0453094539,
          "Year": 1963,
          "index": 747
         },
         {
          "CountryCode": "MIC",
          "CountryName": "Middle income",
          "Total Population": 2081035047,
          "Urban population (% of total)": 23.4998539528,
          "Year": 1963,
          "index": 748
         },
         {
          "CountryCode": "NAC",
          "CountryName": "North America",
          "Total Population": 208253700,
          "Urban population (% of total)": 71.1563654139,
          "Year": 1963,
          "index": 749
         },
         {
          "CountryCode": "OED",
          "CountryName": "OECD members",
          "Total Population": 820737024,
          "Urban population (% of total)": 63.9734846616,
          "Year": 1963,
          "index": 750
         },
         {
          "CountryCode": "OSS",
          "CountryName": "Other small states",
          "Total Population": 6988545,
          "Urban population (% of total)": 15.8102877562,
          "Year": 1963,
          "index": 751
         },
         {
          "CountryCode": "PSS",
          "CountryName": "Pacific island small states",
          "Total Population": 949878,
          "Urban population (% of total)": 23.3565413116,
          "Year": 1963,
          "index": 752
         },
         {
          "CountryCode": "SST",
          "CountryName": "Small states",
          "Total Population": 12374253,
          "Urban population (% of total)": 22.305663634,
          "Year": 1963,
          "index": 753
         },
         {
          "CountryCode": "SAS",
          "CountryName": "South Asia",
          "Total Population": 609571502,
          "Urban population (% of total)": 17.2436611659,
          "Year": 1963,
          "index": 754
         },
         {
          "CountryCode": "SSF",
          "CountryName": "Sub-Saharan Africa (all income levels)",
          "Total Population": 245217050,
          "Urban population (% of total)": 15.5854628772,
          "Year": 1963,
          "index": 755
         },
         {
          "CountryCode": "SSA",
          "CountryName": "Sub-Saharan Africa (developing only)",
          "Total Population": 244910884,
          "Urban population (% of total)": 15.5711997287,
          "Year": 1963,
          "index": 756
         },
         {
          "CountryCode": "UMC",
          "CountryName": "Upper middle income",
          "Total Population": 1072111139,
          "Urban population (% of total)": 26.2467156402,
          "Year": 1963,
          "index": 757
         },
         {
          "CountryCode": "WLD",
          "CountryName": "World",
          "Total Population": 3193888078,
          "Urban population (% of total)": 34.9081356655,
          "Year": 1963,
          "index": 758
         },
         {
          "CountryCode": "AFG",
          "CountryName": "Afghanistan",
          "Total Population": 9531555,
          "Urban population (% of total)": 9.11,
          "Year": 1963,
          "index": 759
         },
         {
          "CountryCode": "ALB",
          "CountryName": "Albania",
          "Total Population": 1762621,
          "Urban population (% of total)": 31.086,
          "Year": 1963,
          "index": 760
         },
         {
          "CountryCode": "DZA",
          "CountryName": "Algeria",
          "Total Population": 11985130,
          "Urban population (% of total)": 34.662,
          "Year": 1963,
          "index": 761
         },
         {
          "CountryCode": "ASM",
          "CountryName": "American Samoa",
          "Total Population": 21883,
          "Urban population (% of total)": 67.493,
          "Year": 1963,
          "index": 762
         },
         {
          "CountryCode": "ADO",
          "CountryName": "Andorra",
          "Total Population": 16410,
          "Urban population (% of total)": 65.872,
          "Year": 1963,
          "index": 763
         },
         {
          "CountryCode": "AGO",
          "CountryName": "Angola",
          "Total Population": 5565808,
          "Urban population (% of total)": 11.624,
          "Year": 1963,
          "index": 764
         },
         {
          "CountryCode": "ATG",
          "CountryName": "Antigua and Barbuda",
          "Total Population": 57368,
          "Urban population (% of total)": 37.817,
          "Year": 1963,
          "index": 765
         },
         {
          "CountryCode": "ARG",
          "CountryName": "Argentina",
          "Total Population": 21621845,
          "Urban population (% of total)": 75.309,
          "Year": 1963,
          "index": 766
         },
         {
          "CountryCode": "ARM",
          "CountryName": "Armenia",
          "Total Population": 2070427,
          "Urban population (% of total)": 53.889,
          "Year": 1963,
          "index": 767
         },
         {
          "CountryCode": "ABW",
          "CountryName": "Aruba",
          "Total Population": 56697,
          "Urban population (% of total)": 50.73,
          "Year": 1963,
          "index": 768
         },
         {
          "CountryCode": "AUS",
          "CountryName": "Australia",
          "Total Population": 10950000,
          "Urban population (% of total)": 82.727,
          "Year": 1963,
          "index": 769
         },
         {
          "CountryCode": "AUT",
          "CountryName": "Austria",
          "Total Population": 7175811,
          "Urban population (% of total)": 64.913,
          "Year": 1963,
          "index": 770
         },
         {
          "CountryCode": "AZE",
          "CountryName": "Azerbaijan",
          "Total Population": 4307315,
          "Urban population (% of total)": 51.764,
          "Year": 1963,
          "index": 771
         },
         {
          "CountryCode": "BHS",
          "CountryName": "Bahamas, The",
          "Total Population": 127331,
          "Urban population (% of total)": 61.926,
          "Year": 1963,
          "index": 772
         },
         {
          "CountryCode": "BHR",
          "CountryName": "Bahrain",
          "Total Population": 178048,
          "Urban population (% of total)": 82.372,
          "Year": 1963,
          "index": 773
         },
         {
          "CountryCode": "BGD",
          "CountryName": "Bangladesh",
          "Total Population": 52532595,
          "Urban population (% of total)": 5.727,
          "Year": 1963,
          "index": 774
         },
         {
          "CountryCode": "BRB",
          "CountryName": "Barbados",
          "Total Population": 233587,
          "Urban population (% of total)": 36.995,
          "Year": 1963,
          "index": 775
         },
         {
          "CountryCode": "BLR",
          "CountryName": "Belarus",
          "Total Population": 8437232,
          "Urban population (% of total)": 35.822,
          "Year": 1963,
          "index": 776
         },
         {
          "CountryCode": "BEL",
          "CountryName": "Belgium",
          "Total Population": 9289770,
          "Urban population (% of total)": 92.835,
          "Year": 1963,
          "index": 777
         },
         {
          "CountryCode": "BLZ",
          "CountryName": "Belize",
          "Total Population": 100166,
          "Urban population (% of total)": 53.101,
          "Year": 1963,
          "index": 778
         },
         {
          "CountryCode": "BEN",
          "CountryName": "Benin",
          "Total Population": 2543335,
          "Urban population (% of total)": 11.118,
          "Year": 1963,
          "index": 779
         },
         {
          "CountryCode": "BMU",
          "CountryName": "Bermuda",
          "Total Population": 47700,
          "Urban population (% of total)": 100,
          "Year": 1963,
          "index": 780
         },
         {
          "CountryCode": "BTN",
          "CountryName": "Bhutan",
          "Total Population": 240364,
          "Urban population (% of total)": 4.217,
          "Year": 1963,
          "index": 781
         },
         {
          "CountryCode": "BOL",
          "CountryName": "Bolivia",
          "Total Population": 3913397,
          "Urban population (% of total)": 37.656,
          "Year": 1963,
          "index": 782
         },
         {
          "CountryCode": "BIH",
          "CountryName": "Bosnia and Herzegovina",
          "Total Population": 3406466,
          "Urban population (% of total)": 21.209,
          "Year": 1963,
          "index": 783
         },
         {
          "CountryCode": "BWA",
          "CountryName": "Botswana",
          "Total Population": 564316,
          "Urban population (% of total)": 3.171,
          "Year": 1963,
          "index": 784
         },
         {
          "CountryCode": "BRA",
          "CountryName": "Brazil",
          "Total Population": 79368453,
          "Urban population (% of total)": 49.078,
          "Year": 1963,
          "index": 785
         },
         {
          "CountryCode": "BRN",
          "CountryName": "Brunei Darussalam",
          "Total Population": 93650,
          "Urban population (% of total)": 48.92,
          "Year": 1963,
          "index": 786
         },
         {
          "CountryCode": "BGR",
          "CountryName": "Bulgaria",
          "Total Population": 8078145,
          "Urban population (% of total)": 42.23,
          "Year": 1963,
          "index": 787
         },
         {
          "CountryCode": "BFA",
          "CountryName": "Burkina Faso",
          "Total Population": 5027818,
          "Urban population (% of total)": 4.993,
          "Year": 1963,
          "index": 788
         },
         {
          "CountryCode": "BDI",
          "CountryName": "Burundi",
          "Total Population": 2950903,
          "Urban population (% of total)": 2.193,
          "Year": 1963,
          "index": 789
         },
         {
          "CountryCode": "CPV",
          "CountryName": "Cabo Verde",
          "Total Population": 216913,
          "Urban population (% of total)": 17.503,
          "Year": 1963,
          "index": 790
         },
         {
          "CountryCode": "KHM",
          "CountryName": "Cambodia",
          "Total Population": 6181137,
          "Urban population (% of total)": 10.497,
          "Year": 1963,
          "index": 791
         },
         {
          "CountryCode": "CMR",
          "CountryName": "Cameroon",
          "Total Population": 5719135,
          "Urban population (% of total)": 15.647,
          "Year": 1963,
          "index": 792
         },
         {
          "CountryCode": "CAN",
          "CountryName": "Canada",
          "Total Population": 18964000,
          "Urban population (% of total)": 71.307,
          "Year": 1963,
          "index": 793
         },
         {
          "CountryCode": "CYM",
          "CountryName": "Cayman Islands",
          "Total Population": 8228,
          "Urban population (% of total)": 100,
          "Year": 1963,
          "index": 794
         },
         {
          "CountryCode": "CAF",
          "CountryName": "Central African Republic",
          "Total Population": 1585765,
          "Urban population (% of total)": 22.1,
          "Year": 1963,
          "index": 795
         },
         {
          "CountryCode": "TCD",
          "CountryName": "Chad",
          "Total Population": 3184775,
          "Urban population (% of total)": 7.527,
          "Year": 1963,
          "index": 796
         },
         {
          "CountryCode": "CHI",
          "CountryName": "Channel Islands",
          "Total Population": 112595,
          "Urban population (% of total)": 37.909,
          "Year": 1963,
          "index": 797
         },
         {
          "CountryCode": "CHL",
          "CountryName": "Chile",
          "Total Population": 8237555,
          "Urban population (% of total)": 70.2,
          "Year": 1963,
          "index": 798
         },
         {
          "CountryCode": "CHN",
          "CountryName": "China",
          "Total Population": 682335000,
          "Urban population (% of total)": 17.757,
          "Year": 1963,
          "index": 799
         },
         {
          "CountryCode": "COL",
          "CountryName": "Colombia",
          "Total Population": 18033548,
          "Urban population (% of total)": 48.932,
          "Year": 1963,
          "index": 800
         },
         {
          "CountryCode": "COM",
          "CountryName": "Comoros",
          "Total Population": 198205,
          "Urban population (% of total)": 15.074,
          "Year": 1963,
          "index": 801
         },
         {
          "CountryCode": "ZAR",
          "CountryName": "Congo, Dem. Rep.",
          "Total Population": 16461914,
          "Urban population (% of total)": 22.976,
          "Year": 1963,
          "index": 802
         },
         {
          "CountryCode": "COG",
          "CountryName": "Congo, Rep.",
          "Total Population": 1096502,
          "Urban population (% of total)": 33.78,
          "Year": 1963,
          "index": 803
         },
         {
          "CountryCode": "CRI",
          "CountryName": "Costa Rica",
          "Total Population": 1484512,
          "Urban population (% of total)": 34.606,
          "Year": 1963,
          "index": 804
         },
         {
          "CountryCode": "CIV",
          "CountryName": "Cote d'Ivoire",
          "Total Population": 3889859,
          "Urban population (% of total)": 21.575,
          "Year": 1963,
          "index": 805
         },
         {
          "CountryCode": "HRV",
          "CountryName": "Croatia",
          "Total Population": 4231408,
          "Urban population (% of total)": 32.979,
          "Year": 1963,
          "index": 806
         },
         {
          "CountryCode": "CUB",
          "CountryName": "Cuba",
          "Total Population": 7618359,
          "Urban population (% of total)": 58.963,
          "Year": 1963,
          "index": 807
         },
         {
          "CountryCode": "CUW",
          "CountryName": "Curacao",
          "Total Population": 130860,
          "Urban population (% of total)": 75.875,
          "Year": 1963,
          "index": 808
         },
         {
          "CountryCode": "CYP",
          "CountryName": "Cyprus",
          "Total Population": 577912,
          "Urban population (% of total)": 37.176,
          "Year": 1963,
          "index": 809
         },
         {
          "CountryCode": "CZE",
          "CountryName": "Czech Republic",
          "Total Population": 9670685,
          "Urban population (% of total)": 61.044,
          "Year": 1963,
          "index": 810
         },
         {
          "CountryCode": "DNK",
          "CountryName": "Denmark",
          "Total Population": 4684483,
          "Urban population (% of total)": 75.757,
          "Year": 1963,
          "index": 811
         },
         {
          "CountryCode": "DJI",
          "CountryName": "Djibouti",
          "Total Population": 100622,
          "Urban population (% of total)": 53.787,
          "Year": 1963,
          "index": 812
         },
         {
          "CountryCode": "DMA",
          "CountryName": "Dominica",
          "Total Population": 62920,
          "Urban population (% of total)": 38.046,
          "Year": 1963,
          "index": 813
         },
         {
          "CountryCode": "DOM",
          "CountryName": "Dominican Republic",
          "Total Population": 3638628,
          "Urban population (% of total)": 33.061,
          "Year": 1963,
          "index": 814
         },
         {
          "CountryCode": "ECU",
          "CountryName": "Ecuador",
          "Total Population": 4953735,
          "Urban population (% of total)": 35.606,
          "Year": 1963,
          "index": 815
         },
         {
          "CountryCode": "EGY",
          "CountryName": "Egypt, Arab Rep.",
          "Total Population": 29322709,
          "Urban population (% of total)": 38.977,
          "Year": 1963,
          "index": 816
         },
         {
          "CountryCode": "SLV",
          "CountryName": "El Salvador",
          "Total Population": 3015885,
          "Urban population (% of total)": 38.712,
          "Year": 1963,
          "index": 817
         },
         {
          "CountryCode": "GNQ",
          "CountryName": "Equatorial Guinea",
          "Total Population": 260990,
          "Urban population (% of total)": 26.323,
          "Year": 1963,
          "index": 818
         },
         {
          "CountryCode": "ERI",
          "CountryName": "Eritrea",
          "Total Population": 1512671,
          "Urban population (% of total)": 10.703,
          "Year": 1963,
          "index": 819
         },
         {
          "CountryCode": "EST",
          "CountryName": "Estonia",
          "Total Population": 1258857,
          "Urban population (% of total)": 59.836,
          "Year": 1963,
          "index": 820
         },
         {
          "CountryCode": "ETH",
          "CountryName": "Ethiopia",
          "Total Population": 23798378,
          "Urban population (% of total)": 7.104,
          "Year": 1963,
          "index": 821
         },
         {
          "CountryCode": "FRO",
          "CountryName": "Faeroe Islands",
          "Total Population": 35550,
          "Urban population (% of total)": 23.805,
          "Year": 1963,
          "index": 822
         },
         {
          "CountryCode": "FJI",
          "CountryName": "Fiji",
          "Total Population": 436208,
          "Urban population (% of total)": 31.403,
          "Year": 1963,
          "index": 823
         },
         {
          "CountryCode": "FIN",
          "CountryName": "Finland",
          "Total Population": 4523309,
          "Urban population (% of total)": 57.998,
          "Year": 1963,
          "index": 824
         },
         {
          "CountryCode": "FRA",
          "CountryName": "France",
          "Total Population": 48803680,
          "Urban population (% of total)": 64.702,
          "Year": 1963,
          "index": 825
         },
         {
          "CountryCode": "PYF",
          "CountryName": "French Polynesia",
          "Total Population": 86839,
          "Urban population (% of total)": 45.389,
          "Year": 1963,
          "index": 826
         },
         {
          "CountryCode": "GAB",
          "CountryName": "Gabon",
          "Total Population": 516270,
          "Urban population (% of total)": 20.923,
          "Year": 1963,
          "index": 827
         },
         {
          "CountryCode": "GMB",
          "CountryName": "Gambia, The",
          "Total Population": 389070,
          "Urban population (% of total)": 12.862,
          "Year": 1963,
          "index": 828
         },
         {
          "CountryCode": "GEO",
          "CountryName": "Georgia",
          "Total Population": 3816100,
          "Urban population (% of total)": 44.544,
          "Year": 1963,
          "index": 829
         },
         {
          "CountryCode": "DEU",
          "CountryName": "Germany",
          "Total Population": 74714353,
          "Urban population (% of total)": 71.826,
          "Year": 1963,
          "index": 830
         },
         {
          "CountryCode": "GHA",
          "CountryName": "Ghana",
          "Total Population": 7303432,
          "Urban population (% of total)": 24.915,
          "Year": 1963,
          "index": 831
         },
         {
          "CountryCode": "GRC",
          "CountryName": "Greece",
          "Total Population": 8479625,
          "Urban population (% of total)": 58.222,
          "Year": 1963,
          "index": 832
         },
         {
          "CountryCode": "GRL",
          "CountryName": "Greenland",
          "Total Population": 36400,
          "Urban population (% of total)": 62.983,
          "Year": 1963,
          "index": 833
         },
         {
          "CountryCode": "GRD",
          "CountryName": "Grenada",
          "Total Population": 93354,
          "Urban population (% of total)": 30.895,
          "Year": 1963,
          "index": 834
         },
         {
          "CountryCode": "GUM",
          "CountryName": "Guam",
          "Total Population": 71289,
          "Urban population (% of total)": 53.396,
          "Year": 1963,
          "index": 835
         },
         {
          "CountryCode": "GTM",
          "CountryName": "Guatemala",
          "Total Population": 4476923,
          "Urban population (% of total)": 33.086,
          "Year": 1963,
          "index": 836
         },
         {
          "CountryCode": "GIN",
          "CountryName": "Guinea",
          "Total Population": 3749920,
          "Urban population (% of total)": 11.919,
          "Year": 1963,
          "index": 837
         },
         {
          "CountryCode": "GNB",
          "CountryName": "Guinea-Bissau",
          "Total Population": 636593,
          "Urban population (% of total)": 14.045,
          "Year": 1963,
          "index": 838
         },
         {
          "CountryCode": "GUY",
          "CountryName": "Guyana",
          "Total Population": 618887,
          "Urban population (% of total)": 29.129,
          "Year": 1963,
          "index": 839
         },
         {
          "CountryCode": "HTI",
          "CountryName": "Haiti",
          "Total Population": 4103732,
          "Urban population (% of total)": 16.762,
          "Year": 1963,
          "index": 840
         },
         {
          "CountryCode": "HND",
          "CountryName": "Honduras",
          "Total Population": 2211144,
          "Urban population (% of total)": 24.491,
          "Year": 1963,
          "index": 841
         },
         {
          "CountryCode": "HKG",
          "CountryName": "Hong Kong SAR, China",
          "Total Population": 3420900,
          "Urban population (% of total)": 85.867,
          "Year": 1963,
          "index": 842
         },
         {
          "CountryCode": "HUN",
          "CountryName": "Hungary",
          "Total Population": 10087947,
          "Urban population (% of total)": 57.181,
          "Year": 1963,
          "index": 843
         },
         {
          "CountryCode": "ISL",
          "CountryName": "Iceland",
          "Total Population": 185653,
          "Urban population (% of total)": 81.781,
          "Year": 1963,
          "index": 844
         },
         {
          "CountryCode": "IND",
          "CountryName": "India",
          "Total Population": 477729958,
          "Urban population (% of total)": 18.405,
          "Year": 1963,
          "index": 845
         },
         {
          "CountryCode": "IDN",
          "CountryName": "Indonesia",
          "Total Population": 95055669,
          "Urban population (% of total)": 15.299,
          "Year": 1963,
          "index": 846
         },
         {
          "CountryCode": "IRN",
          "CountryName": "Iran, Islamic Rep.",
          "Total Population": 23680433,
          "Urban population (% of total)": 35.718,
          "Year": 1963,
          "index": 847
         },
         {
          "CountryCode": "IRQ",
          "CountryName": "Iraq",
          "Total Population": 7888914,
          "Urban population (% of total)": 47.532,
          "Year": 1963,
          "index": 848
         },
         {
          "CountryCode": "IRL",
          "CountryName": "Ireland",
          "Total Population": 2852650,
          "Urban population (% of total)": 47.473,
          "Year": 1963,
          "index": 849
         },
         {
          "CountryCode": "IMY",
          "CountryName": "Isle of Man",
          "Total Population": 49089,
          "Urban population (% of total)": 55.826,
          "Year": 1963,
          "index": 850
         },
         {
          "CountryCode": "ISR",
          "CountryName": "Israel",
          "Total Population": 2379000,
          "Urban population (% of total)": 79.502,
          "Year": 1963,
          "index": 851
         },
         {
          "CountryCode": "ITA",
          "CountryName": "Italy",
          "Total Population": 51252000,
          "Urban population (% of total)": 60.853,
          "Year": 1963,
          "index": 852
         },
         {
          "CountryCode": "JAM",
          "CountryName": "Jamaica",
          "Total Population": 1707019,
          "Urban population (% of total)": 35.985,
          "Year": 1963,
          "index": 853
         },
         {
          "CountryCode": "JPN",
          "CountryName": "Japan",
          "Total Population": 96812000,
          "Urban population (% of total)": 66.064,
          "Year": 1963,
          "index": 854
         },
         {
          "CountryCode": "JOR",
          "CountryName": "Jordan",
          "Total Population": 999392,
          "Urban population (% of total)": 53.565,
          "Year": 1963,
          "index": 855
         },
         {
          "CountryCode": "KAZ",
          "CountryName": "Kazakhstan",
          "Total Population": 10913552,
          "Urban population (% of total)": 45.847,
          "Year": 1963,
          "index": 856
         },
         {
          "CountryCode": "KEN",
          "CountryName": "Kenya",
          "Total Population": 8908425,
          "Urban population (% of total)": 8.038,
          "Year": 1963,
          "index": 857
         },
         {
          "CountryCode": "KIR",
          "CountryName": "Kiribati",
          "Total Population": 44372,
          "Urban population (% of total)": 18.233,
          "Year": 1963,
          "index": 858
         },
         {
          "CountryCode": "PRK",
          "CountryName": "Korea, Dem. Rep.",
          "Total Population": 12065470,
          "Urban population (% of total)": 43.116,
          "Year": 1963,
          "index": 859
         },
         {
          "CountryCode": "KOR",
          "CountryName": "Korea, Rep.",
          "Total Population": 27261747,
          "Urban population (% of total)": 30.407,
          "Year": 1963,
          "index": 860
         },
         {
          "CountryCode": "KWT",
          "CountryName": "Kuwait",
          "Total Population": 381665,
          "Urban population (% of total)": 77.511,
          "Year": 1963,
          "index": 861
         },
         {
          "CountryCode": "KGZ",
          "CountryName": "Kyrgyz Republic",
          "Total Population": 2413700,
          "Urban population (% of total)": 35.178,
          "Year": 1963,
          "index": 862
         },
         {
          "CountryCode": "LAO",
          "CountryName": "Lao PDR",
          "Total Population": 2272078,
          "Urban population (% of total)": 8.17,
          "Year": 1963,
          "index": 863
         },
         {
          "CountryCode": "LVA",
          "CountryName": "Latvia",
          "Total Population": 2210919,
          "Urban population (% of total)": 55.253,
          "Year": 1963,
          "index": 864
         },
         {
          "CountryCode": "LBN",
          "CountryName": "Lebanon",
          "Total Population": 1984982,
          "Urban population (% of total)": 47.475,
          "Year": 1963,
          "index": 865
         },
         {
          "CountryCode": "LSO",
          "CountryName": "Lesotho",
          "Total Population": 898342,
          "Urban population (% of total)": 5.029,
          "Year": 1963,
          "index": 866
         },
         {
          "CountryCode": "LBR",
          "CountryName": "Liberia",
          "Total Population": 1196588,
          "Urban population (% of total)": 20.664,
          "Year": 1963,
          "index": 867
         },
         {
          "CountryCode": "LBY",
          "CountryName": "Libya",
          "Total Population": 1592111,
          "Urban population (% of total)": 29.998,
          "Year": 1963,
          "index": 868
         },
         {
          "CountryCode": "LIE",
          "CountryName": "Liechtenstein",
          "Total Population": 17722,
          "Urban population (% of total)": 19.89,
          "Year": 1963,
          "index": 869
         },
         {
          "CountryCode": "LTU",
          "CountryName": "Lithuania",
          "Total Population": 2898950,
          "Urban population (% of total)": 42.434,
          "Year": 1963,
          "index": 870
         },
         {
          "CountryCode": "LUX",
          "CountryName": "Luxembourg",
          "Total Population": 324100,
          "Urban population (% of total)": 70.953,
          "Year": 1963,
          "index": 871
         },
         {
          "CountryCode": "MAC",
          "CountryName": "Macao SAR, China",
          "Total Population": 188703,
          "Urban population (% of total)": 95.773,
          "Year": 1963,
          "index": 872
         },
         {
          "CountryCode": "MKD",
          "CountryName": "Macedonia, FYR",
          "Total Population": 1547445,
          "Urban population (% of total)": 37.75,
          "Year": 1963,
          "index": 873
         },
         {
          "CountryCode": "MDG",
          "CountryName": "Madagascar",
          "Total Population": 5486593,
          "Urban population (% of total)": 11.657,
          "Year": 1963,
          "index": 874
         },
         {
          "CountryCode": "MWI",
          "CountryName": "Malawi",
          "Total Population": 3872124,
          "Urban population (% of total)": 4.694,
          "Year": 1963,
          "index": 875
         },
         {
          "CountryCode": "MYS",
          "CountryName": "Malaysia",
          "Total Population": 8999247,
          "Urban population (% of total)": 28.558,
          "Year": 1963,
          "index": 876
         },
         {
          "CountryCode": "MDV",
          "CountryName": "Maldives",
          "Total Population": 97556,
          "Urban population (% of total)": 11.345,
          "Year": 1963,
          "index": 877
         },
         {
          "CountryCode": "MLI",
          "CountryName": "Mali",
          "Total Population": 5441611,
          "Urban population (% of total)": 11.97,
          "Year": 1963,
          "index": 878
         },
         {
          "CountryCode": "MLT",
          "CountryName": "Malta",
          "Total Population": 322550,
          "Urban population (% of total)": 89.948,
          "Year": 1963,
          "index": 879
         },
         {
          "CountryCode": "MHL",
          "CountryName": "Marshall Islands",
          "Total Population": 16111,
          "Urban population (% of total)": 39.776,
          "Year": 1963,
          "index": 880
         },
         {
          "CountryCode": "MRT",
          "CountryName": "Mauritania",
          "Total Population": 936014,
          "Urban population (% of total)": 8.671,
          "Year": 1963,
          "index": 881
         },
         {
          "CountryCode": "MUS",
          "CountryName": "Mauritius",
          "Total Population": 718861,
          "Urban population (% of total)": 35.056,
          "Year": 1963,
          "index": 882
         },
         {
          "CountryCode": "MEX",
          "CountryName": "Mexico",
          "Total Population": 41939880,
          "Urban population (% of total)": 53.265,
          "Year": 1963,
          "index": 883
         },
         {
          "CountryCode": "FSM",
          "CountryName": "Micronesia, Fed. Sts.",
          "Total Population": 48875,
          "Urban population (% of total)": 23.042,
          "Year": 1963,
          "index": 884
         },
         {
          "CountryCode": "MDA",
          "CountryName": "Moldova",
          "Total Population": 2721000,
          "Urban population (% of total)": 25.856,
          "Year": 1963,
          "index": 885
         },
         {
          "CountryCode": "MCO",
          "CountryName": "Monaco",
          "Total Population": 23169,
          "Urban population (% of total)": 100,
          "Year": 1963,
          "index": 886
         },
         {
          "CountryCode": "MNG",
          "CountryName": "Mongolia",
          "Total Population": 1042383,
          "Urban population (% of total)": 41.056,
          "Year": 1963,
          "index": 887
         },
         {
          "CountryCode": "MNE",
          "CountryName": "Montenegro",
          "Total Population": 491491,
          "Urban population (% of total)": 20.993,
          "Year": 1963,
          "index": 888
         },
         {
          "CountryCode": "MAR",
          "CountryName": "Morocco",
          "Total Population": 13488517,
          "Urban population (% of total)": 30.846,
          "Year": 1963,
          "index": 889
         },
         {
          "CountryCode": "MOZ",
          "CountryName": "Mozambique",
          "Total Population": 7961458,
          "Urban population (% of total)": 5.345,
          "Year": 1963,
          "index": 890
         },
         {
          "CountryCode": "MMR",
          "CountryName": "Myanmar",
          "Total Population": 22947286,
          "Urban population (% of total)": 20.259,
          "Year": 1963,
          "index": 891
         },
         {
          "CountryCode": "NAM",
          "CountryName": "Namibia",
          "Total Population": 648668,
          "Urban population (% of total)": 19.17,
          "Year": 1963,
          "index": 892
         },
         {
          "CountryCode": "NPL",
          "CountryName": "Nepal",
          "Total Population": 10544586,
          "Urban population (% of total)": 3.653,
          "Year": 1963,
          "index": 893
         },
         {
          "CountryCode": "NLD",
          "CountryName": "Netherlands",
          "Total Population": 11965966,
          "Urban population (% of total)": 60.387,
          "Year": 1963,
          "index": 894
         },
         {
          "CountryCode": "NCL",
          "CountryName": "New Caledonia",
          "Total Population": 85700,
          "Urban population (% of total)": 41.684,
          "Year": 1963,
          "index": 895
         },
         {
          "CountryCode": "NZL",
          "CountryName": "New Zealand",
          "Total Population": 2531800,
          "Urban population (% of total)": 77.73,
          "Year": 1963,
          "index": 896
         },
         {
          "CountryCode": "NIC",
          "CountryName": "Nicaragua",
          "Total Population": 1943591,
          "Urban population (% of total)": 41.005,
          "Year": 1963,
          "index": 897
         },
         {
          "CountryCode": "NER",
          "CountryName": "Niger",
          "Total Population": 3703159,
          "Urban population (% of total)": 6.259,
          "Year": 1963,
          "index": 898
         },
         {
          "CountryCode": "NGA",
          "CountryName": "Nigeria",
          "Total Population": 48128460,
          "Urban population (% of total)": 16.087,
          "Year": 1963,
          "index": 899
         },
         {
          "CountryCode": "MNP",
          "CountryName": "Northern Mariana Islands",
          "Total Population": 10709,
          "Urban population (% of total)": 55.771,
          "Year": 1963,
          "index": 900
         },
         {
          "CountryCode": "NOR",
          "CountryName": "Norway",
          "Total Population": 3666537,
          "Urban population (% of total)": 54.302,
          "Year": 1963,
          "index": 901
         },
         {
          "CountryCode": "OMN",
          "CountryName": "Oman",
          "Total Population": 593504,
          "Urban population (% of total)": 19.794,
          "Year": 1963,
          "index": 902
         },
         {
          "CountryCode": "PAK",
          "CountryName": "Pakistan",
          "Total Population": 48312888,
          "Urban population (% of total)": 23.002,
          "Year": 1963,
          "index": 903
         },
         {
          "CountryCode": "PLW",
          "CountryName": "Palau",
          "Total Population": 10381,
          "Urban population (% of total)": 57.696,
          "Year": 1963,
          "index": 904
         },
         {
          "CountryCode": "PAN",
          "CountryName": "Panama",
          "Total Population": 1238824,
          "Urban population (% of total)": 43.137,
          "Year": 1963,
          "index": 905
         },
         {
          "CountryCode": "PNG",
          "CountryName": "Papua New Guinea",
          "Total Population": 2075630,
          "Urban population (% of total)": 4.694,
          "Year": 1963,
          "index": 906
         },
         {
          "CountryCode": "PRY",
          "CountryName": "Paraguay",
          "Total Population": 2058916,
          "Urban population (% of total)": 35.916,
          "Year": 1963,
          "index": 907
         },
         {
          "CountryCode": "PER",
          "CountryName": "Peru",
          "Total Population": 10961539,
          "Urban population (% of total)": 49.632,
          "Year": 1963,
          "index": 908
         },
         {
          "CountryCode": "PHL",
          "CountryName": "Philippines",
          "Total Population": 29016770,
          "Urban population (% of total)": 31.077,
          "Year": 1963,
          "index": 909
         },
         {
          "CountryCode": "POL",
          "CountryName": "Poland",
          "Total Population": 30712000,
          "Urban population (% of total)": 49.326,
          "Year": 1963,
          "index": 910
         },
         {
          "CountryCode": "PRT",
          "CountryName": "Portugal",
          "Total Population": 9030355,
          "Urban population (% of total)": 36.101,
          "Year": 1963,
          "index": 911
         },
         {
          "CountryCode": "PRI",
          "CountryName": "Puerto Rico",
          "Total Population": 2504530,
          "Urban population (% of total)": 48.724,
          "Year": 1963,
          "index": 912
         },
         {
          "CountryCode": "QAT",
          "CountryName": "Qatar",
          "Total Population": 61647,
          "Urban population (% of total)": 86.5,
          "Year": 1963,
          "index": 913
         },
         {
          "CountryCode": "ROM",
          "CountryName": "Romania",
          "Total Population": 18797850,
          "Urban population (% of total)": 36.284,
          "Year": 1963,
          "index": 914
         },
         {
          "CountryCode": "RUS",
          "CountryName": "Russian Federation",
          "Total Population": 123960000,
          "Urban population (% of total)": 56.408,
          "Year": 1963,
          "index": 915
         },
         {
          "CountryCode": "RWA",
          "CountryName": "Rwanda",
          "Total Population": 3102968,
          "Urban population (% of total)": 2.766,
          "Year": 1963,
          "index": 916
         },
         {
          "CountryCode": "WSM",
          "CountryName": "Samoa",
          "Total Population": 119564,
          "Urban population (% of total)": 19.141,
          "Year": 1963,
          "index": 917
         },
         {
          "CountryCode": "SMR",
          "CountryName": "San Marino",
          "Total Population": 16616,
          "Urban population (% of total)": 52.206,
          "Year": 1963,
          "index": 918
         },
         {
          "CountryCode": "STP",
          "CountryName": "Sao Tome and Principe",
          "Total Population": 64181,
          "Urban population (% of total)": 19.194,
          "Year": 1963,
          "index": 919
         },
         {
          "CountryCode": "SAU",
          "CountryName": "Saudi Arabia",
          "Total Population": 4516663,
          "Urban population (% of total)": 35.011,
          "Year": 1963,
          "index": 920
         },
         {
          "CountryCode": "SEN",
          "CountryName": "Senegal",
          "Total Population": 3450418,
          "Urban population (% of total)": 24.973,
          "Year": 1963,
          "index": 921
         },
         {
          "CountryCode": "SYC",
          "CountryName": "Seychelles",
          "Total Population": 45176,
          "Urban population (% of total)": 30.877,
          "Year": 1963,
          "index": 922
         },
         {
          "CountryCode": "SLE",
          "CountryName": "Sierra Leone",
          "Total Population": 2269890,
          "Urban population (% of total)": 19.06,
          "Year": 1963,
          "index": 923
         },
         {
          "CountryCode": "SGP",
          "CountryName": "Singapore",
          "Total Population": 1795000,
          "Urban population (% of total)": 100,
          "Year": 1963,
          "index": 924
         },
         {
          "CountryCode": "SVK",
          "CountryName": "Slovak Republic",
          "Total Population": 4282017,
          "Urban population (% of total)": 35.483,
          "Year": 1963,
          "index": 925
         },
         {
          "CountryCode": "SVN",
          "CountryName": "Slovenia",
          "Total Population": 1616971,
          "Urban population (% of total)": 30.776,
          "Year": 1963,
          "index": 926
         },
         {
          "CountryCode": "SLB",
          "CountryName": "Solomon Islands",
          "Total Population": 128863,
          "Urban population (% of total)": 6.616,
          "Year": 1963,
          "index": 927
         },
         {
          "CountryCode": "SOM",
          "CountryName": "Somalia",
          "Total Population": 2937360,
          "Urban population (% of total)": 18.92,
          "Year": 1963,
          "index": 928
         },
         {
          "CountryCode": "ZAF",
          "CountryName": "South Africa",
          "Total Population": 18936138,
          "Urban population (% of total)": 47.02,
          "Year": 1963,
          "index": 929
         },
         {
          "CountryCode": "SSD",
          "CountryName": "South Sudan",
          "Total Population": 3131686,
          "Urban population (% of total)": 8.714,
          "Year": 1963,
          "index": 930
         },
         {
          "CountryCode": "ESP",
          "CountryName": "Spain",
          "Total Population": 31296651,
          "Urban population (% of total)": 59.306,
          "Year": 1963,
          "index": 931
         },
         {
          "CountryCode": "LKA",
          "CountryName": "Sri Lanka",
          "Total Population": 10582000,
          "Urban population (% of total)": 16.916,
          "Year": 1963,
          "index": 932
         },
         {
          "CountryCode": "KNA",
          "CountryName": "St. Kitts and Nevis",
          "Total Population": 50533,
          "Urban population (% of total)": 29.545,
          "Year": 1963,
          "index": 933
         },
         {
          "CountryCode": "LCA",
          "CountryName": "St. Lucia",
          "Total Population": 93397,
          "Urban population (% of total)": 22.174,
          "Year": 1963,
          "index": 934
         },
         {
          "CountryCode": "VCT",
          "CountryName": "St. Vincent and the Grenadines",
          "Total Population": 84167,
          "Urban population (% of total)": 27.314,
          "Year": 1963,
          "index": 935
         },
         {
          "CountryCode": "SDN",
          "CountryName": "Sudan",
          "Total Population": 8223613,
          "Urban population (% of total)": 12.262,
          "Year": 1963,
          "index": 936
         },
         {
          "CountryCode": "SUR",
          "CountryName": "Suriname",
          "Total Population": 314530,
          "Urban population (% of total)": 47.372,
          "Year": 1963,
          "index": 937
         },
         {
          "CountryCode": "SWZ",
          "CountryName": "Swaziland",
          "Total Population": 373991,
          "Urban population (% of total)": 5.312,
          "Year": 1963,
          "index": 938
         },
         {
          "CountryCode": "SWE",
          "CountryName": "Sweden",
          "Total Population": 7604328,
          "Urban population (% of total)": 75.223,
          "Year": 1963,
          "index": 939
         },
         {
          "CountryCode": "CHE",
          "CountryName": "Switzerland",
          "Total Population": 5694247,
          "Urban population (% of total)": 52.946,
          "Year": 1963,
          "index": 940
         },
         {
          "CountryCode": "SYR",
          "CountryName": "Syrian Arab Republic",
          "Total Population": 5057825,
          "Urban population (% of total)": 38.694,
          "Year": 1963,
          "index": 941
         },
         {
          "CountryCode": "TJK",
          "CountryName": "Tajikistan",
          "Total Population": 2312193,
          "Urban population (% of total)": 34.351,
          "Year": 1963,
          "index": 942
         },
         {
          "CountryCode": "TZA",
          "CountryName": "Tanzania",
          "Total Population": 11005882,
          "Urban population (% of total)": 5.704,
          "Year": 1963,
          "index": 943
         },
         {
          "CountryCode": "THA",
          "CountryName": "Thailand",
          "Total Population": 29967043,
          "Urban population (% of total)": 20,
          "Year": 1963,
          "index": 944
         },
         {
          "CountryCode": "TMP",
          "CountryName": "Timor-Leste",
          "Total Population": 526936,
          "Urban population (% of total)": 10.785,
          "Year": 1963,
          "index": 945
         },
         {
          "CountryCode": "TGO",
          "CountryName": "Togo",
          "Total Population": 1631763,
          "Urban population (% of total)": 12.811,
          "Year": 1963,
          "index": 946
         },
         {
          "CountryCode": "TON",
          "CountryName": "Tonga",
          "Total Population": 69000,
          "Urban population (% of total)": 18.701,
          "Year": 1963,
          "index": 947
         },
         {
          "CountryCode": "TTO",
          "CountryName": "Trinidad and Tobago",
          "Total Population": 892571,
          "Urban population (% of total)": 15.493,
          "Year": 1963,
          "index": 948
         },
         {
          "CountryCode": "TUN",
          "CountryName": "Tunisia",
          "Total Population": 4436643,
          "Urban population (% of total)": 38.833,
          "Year": 1963,
          "index": 949
         },
         {
          "CountryCode": "TUR",
          "CountryName": "Turkey",
          "Total Population": 29597047,
          "Urban population (% of total)": 33.137,
          "Year": 1963,
          "index": 950
         },
         {
          "CountryCode": "TKM",
          "CountryName": "Turkmenistan",
          "Total Population": 1769008,
          "Urban population (% of total)": 46.848,
          "Year": 1963,
          "index": 951
         },
         {
          "CountryCode": "TCA",
          "CountryName": "Turks and Caicos Islands",
          "Total Population": 5741,
          "Urban population (% of total)": 48.706,
          "Year": 1963,
          "index": 952
         },
         {
          "CountryCode": "TUV",
          "CountryName": "Tuvalu",
          "Total Population": 6542,
          "Urban population (% of total)": 17.587,
          "Year": 1963,
          "index": 953
         },
         {
          "CountryCode": "UGA",
          "CountryName": "Uganda",
          "Total Population": 7487411,
          "Urban population (% of total)": 5.045,
          "Year": 1963,
          "index": 954
         },
         {
          "CountryCode": "UKR",
          "CountryName": "Ukraine",
          "Total Population": 44285897,
          "Urban population (% of total)": 49.046,
          "Year": 1963,
          "index": 955
         },
         {
          "CountryCode": "ARE",
          "CountryName": "United Arab Emirates",
          "Total Population": 125216,
          "Urban population (% of total)": 76.093,
          "Year": 1963,
          "index": 956
         },
         {
          "CountryCode": "GBR",
          "CountryName": "United Kingdom",
          "Total Population": 53650000,
          "Urban population (% of total)": 78.099,
          "Year": 1963,
          "index": 957
         },
         {
          "CountryCode": "USA",
          "CountryName": "United States",
          "Total Population": 189242000,
          "Urban population (% of total)": 71.134,
          "Year": 1963,
          "index": 958
         },
         {
          "CountryCode": "URY",
          "CountryName": "Uruguay",
          "Total Population": 2635128,
          "Urban population (% of total)": 80.899,
          "Year": 1963,
          "index": 959
         },
         {
          "CountryCode": "UZB",
          "CountryName": "Uzbekistan",
          "Total Population": 9611601,
          "Urban population (% of total)": 34.762,
          "Year": 1963,
          "index": 960
         },
         {
          "CountryCode": "VUT",
          "CountryName": "Vanuatu",
          "Total Population": 69962,
          "Urban population (% of total)": 10.95,
          "Year": 1963,
          "index": 961
         },
         {
          "CountryCode": "VEN",
          "CountryName": "Venezuela, RB",
          "Total Population": 9130346,
          "Urban population (% of total)": 64.977,
          "Year": 1963,
          "index": 962
         },
         {
          "CountryCode": "VNM",
          "CountryName": "Vietnam",
          "Total Population": 36836000,
          "Urban population (% of total)": 15.714,
          "Year": 1963,
          "index": 963
         },
         {
          "CountryCode": "VIR",
          "CountryName": "Virgin Islands (U.S.)",
          "Total Population": 38700,
          "Urban population (% of total)": 60.604,
          "Year": 1963,
          "index": 964
         },
         {
          "CountryCode": "YEM",
          "CountryName": "Yemen, Rep.",
          "Total Population": 5429501,
          "Urban population (% of total)": 10.216,
          "Year": 1963,
          "index": 965
         },
         {
          "CountryCode": "ZMB",
          "CountryName": "Zambia",
          "Total Population": 3342894,
          "Urban population (% of total)": 20.712,
          "Year": 1963,
          "index": 966
         },
         {
          "CountryCode": "ZWE",
          "CountryName": "Zimbabwe",
          "Total Population": 4140804,
          "Urban population (% of total)": 13.578,
          "Year": 1963,
          "index": 967
         },
         {
          "CountryCode": "ARB",
          "CountryName": "Arab World",
          "Total Population": 103273929,
          "Urban population (% of total)": 34.3584317073,
          "Year": 1964,
          "index": 968
         },
         {
          "CountryCode": "CSS",
          "CountryName": "Caribbean small states",
          "Total Population": 4514432,
          "Urban population (% of total)": 32.5806173694,
          "Year": 1964,
          "index": 969
         },
         {
          "CountryCode": "CEB",
          "CountryName": "Central Europe and the Baltics",
          "Total Population": 94722599,
          "Urban population (% of total)": 47.2087429804,
          "Year": 1964,
          "index": 970
         },
         {
          "CountryCode": "EAS",
          "CountryName": "East Asia & Pacific (all income levels)",
          "Total Population": 1110558625,
          "Urban population (% of total)": 24.5951932587,
          "Year": 1964,
          "index": 971
         },
         {
          "CountryCode": "EAP",
          "CountryName": "East Asia & Pacific (developing only)",
          "Total Population": 952838633,
          "Urban population (% of total)": 18.8177802186,
          "Year": 1964,
          "index": 972
         },
         {
          "CountryCode": "EMU",
          "CountryName": "Euro area",
          "Total Population": 275382199,
          "Urban population (% of total)": 64.1893355974,
          "Year": 1964,
          "index": 973
         },
         {
          "CountryCode": "ECS",
          "CountryName": "Europe & Central Asia (all income levels)",
          "Total Population": 698998988,
          "Urban population (% of total)": 57.5710530836,
          "Year": 1964,
          "index": 974
         },
         {
          "CountryCode": "ECA",
          "CountryName": "Europe & Central Asia (developing only)",
          "Total Population": 166977242,
          "Urban population (% of total)": 40.8374915604,
          "Year": 1964,
          "index": 975
         },
         {
          "CountryCode": "EUU",
          "CountryName": "European Union",
          "Total Population": 424075860,
          "Urban population (% of total)": 63.1099687808,
          "Year": 1964,
          "index": 976
         },
         {
          "CountryCode": "FCS",
          "CountryName": "Fragile and conflict affected situations",
          "Total Population": 132146798,
          "Urban population (% of total)": 20.0017779749,
          "Year": 1964,
          "index": 977
         },
         {
          "CountryCode": "HPC",
          "CountryName": "Heavily indebted poor countries (HIPC)",
          "Total Population": 178802599,
          "Urban population (% of total)": 13.7135985091,
          "Year": 1964,
          "index": 978
         },
         {
          "CountryCode": "HIC",
          "CountryName": "High income",
          "Total Population": 956921525,
          "Urban population (% of total)": 64.9737088353,
          "Year": 1964,
          "index": 979
         },
         {
          "CountryCode": "NOC",
          "CountryName": "High income: nonOECD",
          "Total Population": 198896794,
          "Urban population (% of total)": 59.5671376913,
          "Year": 1964,
          "index": 980
         },
         {
          "CountryCode": "OEC",
          "CountryName": "High income: OECD",
          "Total Population": 758024731,
          "Urban population (% of total)": 66.3048976412,
          "Year": 1964,
          "index": 981
         },
         {
          "CountryCode": "LCN",
          "CountryName": "Latin America & Caribbean (all income levels)",
          "Total Population": 246458356,
          "Urban population (% of total)": 52.4819909927,
          "Year": 1964,
          "index": 982
         },
         {
          "CountryCode": "LAC",
          "CountryName": "Latin America & Caribbean (developing only)",
          "Total Population": 199754929,
          "Urban population (% of total)": 48.3138316963,
          "Year": 1964,
          "index": 983
         },
         {
          "CountryCode": "LDC",
          "CountryName": "Least developed countries: UN classification",
          "Total Population": 265039360,
          "Urban population (% of total)": 10.706868982,
          "Year": 1964,
          "index": 984
         },
         {
          "CountryCode": "LMY",
          "CountryName": "Low & middle income",
          "Total Population": 2302381215,
          "Urban population (% of total)": 23.124570298,
          "Year": 1964,
          "index": 985
         },
         {
          "CountryCode": "LIC",
          "CountryName": "Low income",
          "Total Population": 171657780,
          "Urban population (% of total)": 12.6606259161,
          "Year": 1964,
          "index": 986
         },
         {
          "CountryCode": "LMC",
          "CountryName": "Lower middle income",
          "Total Population": 1032387068,
          "Urban population (% of total)": 20.851583202,
          "Year": 1964,
          "index": 987
         },
         {
          "CountryCode": "MEA",
          "CountryName": "Middle East & North Africa (all income levels)",
          "Total Population": 117734910,
          "Urban population (% of total)": 38.0615364296,
          "Year": 1964,
          "index": 988
         },
         {
          "CountryCode": "MNA",
          "CountryName": "Middle East & North Africa (developing only)",
          "Total Population": 108832515,
          "Urban population (% of total)": 36.7822480474,
          "Year": 1964,
          "index": 989
         },
         {
          "CountryCode": "MIC",
          "CountryName": "Middle income",
          "Total Population": 2130723435,
          "Urban population (% of total)": 23.9679941925,
          "Year": 1964,
          "index": 990
         },
         {
          "CountryCode": "NAC",
          "CountryName": "North America",
          "Total Population": 211262900,
          "Urban population (% of total)": 71.569387654,
          "Year": 1964,
          "index": 991
         },
         {
          "CountryCode": "OED",
          "CountryName": "OECD members",
          "Total Population": 831581967,
          "Urban population (% of total)": 64.4814562689,
          "Year": 1964,
          "index": 992
         },
         {
          "CountryCode": "OSS",
          "CountryName": "Other small states",
          "Total Population": 7129954,
          "Urban population (% of total)": 16.4166689941,
          "Year": 1964,
          "index": 993
         },
         {
          "CountryCode": "PSS",
          "CountryName": "Pacific island small states",
          "Total Population": 980370,
          "Urban population (% of total)": 23.8011643818,
          "Year": 1964,
          "index": 994
         },
         {
          "CountryCode": "SST",
          "CountryName": "Small states",
          "Total Population": 12624756,
          "Urban population (% of total)": 22.7701053326,
          "Year": 1964,
          "index": 995
         },
         {
          "CountryCode": "SAS",
          "CountryName": "South Asia",
          "Total Population": 623073110,
          "Urban population (% of total)": 17.4388839346,
          "Year": 1964,
          "index": 996
         },
         {
          "CountryCode": "SSF",
          "CountryName": "Sub-Saharan Africa (all income levels)",
          "Total Population": 251215851,
          "Urban population (% of total)": 15.9212861497,
          "Year": 1964,
          "index": 997
         },
         {
          "CountryCode": "SSA",
          "CountryName": "Sub-Saharan Africa (developing only)",
          "Total Population": 250904786,
          "Urban population (% of total)": 15.9072489958,
          "Year": 1964,
          "index": 998
         },
         {
          "CountryCode": "UMC",
          "CountryName": "Upper middle income",
          "Total Population": 1098336367,
          "Urban population (% of total)": 26.8943018977,
          "Year": 1964,
          "index": 999
         },
         {
          "CountryCode": "WLD",
          "CountryName": "World",
          "Total Population": 3259302740,
          "Urban population (% of total)": 35.3036856602,
          "Year": 1964,
          "index": 1000
         },
         {
          "CountryCode": "AFG",
          "CountryName": "Afghanistan",
          "Total Population": 9728645,
          "Urban population (% of total)": 9.426,
          "Year": 1964,
          "index": 1001
         },
         {
          "CountryCode": "ALB",
          "CountryName": "Albania",
          "Total Population": 1814135,
          "Urban population (% of total)": 31.158,
          "Year": 1964,
          "index": 1002
         },
         {
          "CountryCode": "DZA",
          "CountryName": "Algeria",
          "Total Population": 12295973,
          "Urban population (% of total)": 36.141,
          "Year": 1964,
          "index": 1003
         },
         {
          "CountryCode": "ASM",
          "CountryName": "American Samoa",
          "Total Population": 22701,
          "Urban population (% of total)": 67.916,
          "Year": 1964,
          "index": 1004
         },
         {
          "CountryCode": "ADO",
          "CountryName": "Andorra",
          "Total Population": 17470,
          "Urban population (% of total)": 68.205,
          "Year": 1964,
          "index": 1005
         },
         {
          "CountryCode": "AGO",
          "CountryName": "Angola",
          "Total Population": 5665701,
          "Urban population (% of total)": 12.058,
          "Year": 1964,
          "index": 1006
         },
         {
          "CountryCode": "ATG",
          "CountryName": "Antigua and Barbuda",
          "Total Population": 58500,
          "Urban population (% of total)": 37.211,
          "Year": 1964,
          "index": 1007
         },
         {
          "CountryCode": "ARG",
          "CountryName": "Argentina",
          "Total Population": 21953926,
          "Urban population (% of total)": 75.844,
          "Year": 1964,
          "index": 1008
         },
         {
          "CountryCode": "ARM",
          "CountryName": "Armenia",
          "Total Population": 2138133,
          "Urban population (% of total)": 54.758,
          "Year": 1964,
          "index": 1009
         },
         {
          "CountryCode": "ABW",
          "CountryName": "Aruba",
          "Total Population": 57029,
          "Urban population (% of total)": 50.715,
          "Year": 1964,
          "index": 1010
         },
         {
          "CountryCode": "AUS",
          "CountryName": "Australia",
          "Total Population": 11167000,
          "Urban population (% of total)": 83.11,
          "Year": 1964,
          "index": 1011
         },
         {
          "CountryCode": "AUT",
          "CountryName": "Austria",
          "Total Population": 7223801,
          "Urban population (% of total)": 64.962,
          "Year": 1964,
          "index": 1012
         },
         {
          "CountryCode": "AZE",
          "CountryName": "Azerbaijan",
          "Total Population": 4445653,
          "Urban population (% of total)": 51.464,
          "Year": 1964,
          "index": 1013
         },
         {
          "CountryCode": "BHS",
          "CountryName": "Bahamas, The",
          "Total Population": 133697,
          "Urban population (% of total)": 62.642,
          "Year": 1964,
          "index": 1014
         },
         {
          "CountryCode": "BHR",
          "CountryName": "Bahrain",
          "Total Population": 182774,
          "Urban population (% of total)": 82.389,
          "Year": 1964,
          "index": 1015
         },
         {
          "CountryCode": "BGD",
          "CountryName": "Bangladesh",
          "Total Population": 54129390,
          "Urban population (% of total)": 5.964,
          "Year": 1964,
          "index": 1016
         },
         {
          "CountryCode": "BRB",
          "CountryName": "Barbados",
          "Total Population": 234547,
          "Urban population (% of total)": 37.068,
          "Year": 1964,
          "index": 1017
         },
         {
          "CountryCode": "BLR",
          "CountryName": "Belarus",
          "Total Population": 8524224,
          "Urban population (% of total)": 37,
          "Year": 1964,
          "index": 1018
         },
         {
          "CountryCode": "BEL",
          "CountryName": "Belgium",
          "Total Population": 9378113,
          "Urban population (% of total)": 92.988,
          "Year": 1964,
          "index": 1019
         },
         {
          "CountryCode": "BLZ",
          "CountryName": "Belize",
          "Total Population": 103070,
          "Urban population (% of total)": 52.79,
          "Year": 1964,
          "index": 1020
         },
         {
          "CountryCode": "BEN",
          "CountryName": "Benin",
          "Total Population": 2586362,
          "Urban population (% of total)": 11.801,
          "Year": 1964,
          "index": 1021
         },
         {
          "CountryCode": "BMU",
          "CountryName": "Bermuda",
          "Total Population": 48900,
          "Urban population (% of total)": 100,
          "Year": 1964,
          "index": 1022
         },
         {
          "CountryCode": "BTN",
          "CountryName": "Bhutan",
          "Total Population": 246324,
          "Urban population (% of total)": 4.446,
          "Year": 1964,
          "index": 1023
         },
         {
          "CountryCode": "BOL",
          "CountryName": "Bolivia",
          "Total Population": 3990855,
          "Urban population (% of total)": 37.957,
          "Year": 1964,
          "index": 1024
         },
         {
          "CountryCode": "BIH",
          "CountryName": "Bosnia and Herzegovina",
          "Total Population": 3468083,
          "Urban population (% of total)": 22.004,
          "Year": 1964,
          "index": 1025
         },
         {
          "CountryCode": "BWA",
          "CountryName": "Botswana",
          "Total Population": 579560,
          "Urban population (% of total)": 3.318,
          "Year": 1964,
          "index": 1026
         },
         {
          "CountryCode": "BRA",
          "CountryName": "Brazil",
          "Total Population": 81751802,
          "Urban population (% of total)": 50.059,
          "Year": 1964,
          "index": 1027
         },
         {
          "CountryCode": "BRN",
          "CountryName": "Brunei Darussalam",
          "Total Population": 97933,
          "Urban population (% of total)": 50.776,
          "Year": 1964,
          "index": 1028
         },
         {
          "CountryCode": "BGR",
          "CountryName": "Bulgaria",
          "Total Population": 8144340,
          "Urban population (% of total)": 43.987,
          "Year": 1964,
          "index": 1029
         },
         {
          "CountryCode": "BFA",
          "CountryName": "Burkina Faso",
          "Total Population": 5098892,
          "Urban population (% of total)": 5.095,
          "Year": 1964,
          "index": 1030
         },
         {
          "CountryCode": "BDI",
          "CountryName": "Burundi",
          "Total Population": 3011957,
          "Urban population (% of total)": 2.233,
          "Year": 1964,
          "index": 1031
         },
         {
          "CountryCode": "CPV",
          "CountryName": "Cabo Verde",
          "Total Population": 223854,
          "Urban population (% of total)": 17.787,
          "Year": 1964,
          "index": 1032
         },
         {
          "CountryCode": "KHM",
          "CountryName": "Cambodia",
          "Total Population": 6329411,
          "Urban population (% of total)": 10.662,
          "Year": 1964,
          "index": 1033
         },
         {
          "CountryCode": "CMR",
          "CountryName": "Cameroon",
          "Total Population": 5850454,
          "Urban population (% of total)": 16.255,
          "Year": 1964,
          "index": 1034
         },
         {
          "CountryCode": "CAN",
          "CountryName": "Canada",
          "Total Population": 19325000,
          "Urban population (% of total)": 72.107,
          "Year": 1964,
          "index": 1035
         },
         {
          "CountryCode": "CYM",
          "CountryName": "Cayman Islands",
          "Total Population": 8299,
          "Urban population (% of total)": 100,
          "Year": 1964,
          "index": 1036
         },
         {
          "CountryCode": "CAF",
          "CountryName": "Central African Republic",
          "Total Population": 1616515,
          "Urban population (% of total)": 22.803,
          "Year": 1964,
          "index": 1037
         },
         {
          "CountryCode": "TCD",
          "CountryName": "Chad",
          "Total Population": 3247798,
          "Urban population (% of total)": 7.877,
          "Year": 1964,
          "index": 1038
         },
         {
          "CountryCode": "CHI",
          "CountryName": "Channel Islands",
          "Total Population": 113778,
          "Urban population (% of total)": 37.646,
          "Year": 1964,
          "index": 1039
         },
         {
          "CountryCode": "CHL",
          "CountryName": "Chile",
          "Total Population": 8423614,
          "Urban population (% of total)": 70.955,
          "Year": 1964,
          "index": 1040
         },
         {
          "CountryCode": "CHN",
          "CountryName": "China",
          "Total Population": 698355000,
          "Urban population (% of total)": 18.299,
          "Year": 1964,
          "index": 1041
         },
         {
          "CountryCode": "COL",
          "CountryName": "Colombia",
          "Total Population": 18581972,
          "Urban population (% of total)": 50.24,
          "Year": 1964,
          "index": 1042
         },
         {
          "CountryCode": "COM",
          "CountryName": "Comoros",
          "Total Population": 201665,
          "Urban population (% of total)": 16.004,
          "Year": 1964,
          "index": 1043
         },
         {
          "CountryCode": "ZAR",
          "CountryName": "Congo, Dem. Rep.",
          "Total Population": 16903899,
          "Urban population (% of total)": 23.204,
          "Year": 1964,
          "index": 1044
         },
         {
          "CountryCode": "COG",
          "CountryName": "Congo, Rep.",
          "Total Population": 1126602,
          "Urban population (% of total)": 34.524,
          "Year": 1964,
          "index": 1045
         },
         {
          "CountryCode": "CRI",
          "CountryName": "Costa Rica",
          "Total Population": 1537035,
          "Urban population (% of total)": 35.197,
          "Year": 1964,
          "index": 1046
         },
         {
          "CountryCode": "CIV",
          "CountryName": "Cote d'Ivoire",
          "Total Population": 4049675,
          "Urban population (% of total)": 23.007,
          "Year": 1964,
          "index": 1047
         },
         {
          "CountryCode": "HRV",
          "CountryName": "Croatia",
          "Total Population": 4259680,
          "Urban population (% of total)": 33.972,
          "Year": 1964,
          "index": 1048
         },
         {
          "CountryCode": "CUB",
          "CountryName": "Cuba",
          "Total Population": 7787149,
          "Urban population (% of total)": 59.15,
          "Year": 1964,
          "index": 1049
         },
         {
          "CountryCode": "CUW",
          "CountryName": "Curacao",
          "Total Population": 133148,
          "Urban population (% of total)": 76.255,
          "Year": 1964,
          "index": 1050
         },
         {
          "CountryCode": "CYP",
          "CountryName": "Cyprus",
          "Total Population": 578629,
          "Urban population (% of total)": 37.681,
          "Year": 1964,
          "index": 1051
         },
         {
          "CountryCode": "CZE",
          "CountryName": "Czech Republic",
          "Total Population": 9727804,
          "Urban population (% of total)": 61.532,
          "Year": 1964,
          "index": 1052
         },
         {
          "CountryCode": "DNK",
          "CountryName": "Denmark",
          "Total Population": 4722072,
          "Urban population (% of total)": 76.409,
          "Year": 1964,
          "index": 1053
         },
         {
          "CountryCode": "DJI",
          "CountryName": "Djibouti",
          "Total Population": 107584,
          "Urban population (% of total)": 54.952,
          "Year": 1964,
          "index": 1054
         },
         {
          "CountryCode": "DMA",
          "CountryName": "Dominica",
          "Total Population": 63921,
          "Urban population (% of total)": 38.113,
          "Year": 1964,
          "index": 1055
         },
         {
          "CountryCode": "DOM",
          "CountryName": "Dominican Republic",
          "Total Population": 3757962,
          "Urban population (% of total)": 34.044,
          "Year": 1964,
          "index": 1056
         },
         {
          "CountryCode": "ECU",
          "CountryName": "Ecuador",
          "Total Population": 5099470,
          "Urban population (% of total)": 36.122,
          "Year": 1964,
          "index": 1057
         },
         {
          "CountryCode": "EGY",
          "CountryName": "Egypt, Arab Rep.",
          "Total Population": 30094082,
          "Urban population (% of total)": 39.331,
          "Year": 1964,
          "index": 1058
         },
         {
          "CountryCode": "SLV",
          "CountryName": "El Salvador",
          "Total Population": 3106186,
          "Urban population (% of total)": 38.811,
          "Year": 1964,
          "index": 1059
         },
         {
          "CountryCode": "GNQ",
          "CountryName": "Equatorial Guinea",
          "Total Population": 264743,
          "Urban population (% of total)": 26.413,
          "Year": 1964,
          "index": 1060
         },
         {
          "CountryCode": "ERI",
          "CountryName": "Eritrea",
          "Total Population": 1550297,
          "Urban population (% of total)": 11.039,
          "Year": 1964,
          "index": 1061
         },
         {
          "CountryCode": "EST",
          "CountryName": "Estonia",
          "Total Population": 1277086,
          "Urban population (% of total)": 60.596,
          "Year": 1964,
          "index": 1062
         },
         {
          "CountryCode": "ETH",
          "CountryName": "Ethiopia",
          "Total Population": 24396965,
          "Urban population (% of total)": 7.342,
          "Year": 1964,
          "index": 1063
         },
         {
          "CountryCode": "FRO",
          "CountryName": "Faeroe Islands",
          "Total Population": 35946,
          "Urban population (% of total)": 24.669,
          "Year": 1964,
          "index": 1064
         },
         {
          "CountryCode": "FJI",
          "CountryName": "Fiji",
          "Total Population": 450452,
          "Urban population (% of total)": 31.991,
          "Year": 1964,
          "index": 1065
         },
         {
          "CountryCode": "FIN",
          "CountryName": "Finland",
          "Total Population": 4548543,
          "Urban population (% of total)": 58.832,
          "Year": 1964,
          "index": 1066
         },
         {
          "CountryCode": "FRA",
          "CountryName": "France",
          "Total Population": 49449403,
          "Urban population (% of total)": 65.898,
          "Year": 1964,
          "index": 1067
         },
         {
          "CountryCode": "PYF",
          "CountryName": "French Polynesia",
          "Total Population": 90132,
          "Urban population (% of total)": 46.783,
          "Year": 1964,
          "index": 1068
         },
         {
          "CountryCode": "GAB",
          "CountryName": "Gabon",
          "Total Population": 523793,
          "Urban population (% of total)": 22.318,
          "Year": 1964,
          "index": 1069
         },
         {
          "CountryCode": "GMB",
          "CountryName": "Gambia, The",
          "Total Population": 394552,
          "Urban population (% of total)": 13.677,
          "Year": 1964,
          "index": 1070
         },
         {
          "CountryCode": "GEO",
          "CountryName": "Georgia",
          "Total Population": 3870300,
          "Urban population (% of total)": 45.039,
          "Year": 1964,
          "index": 1071
         },
         {
          "CountryCode": "DEU",
          "CountryName": "Germany",
          "Total Population": 75318337,
          "Urban population (% of total)": 71.891,
          "Year": 1964,
          "index": 1072
         },
         {
          "CountryCode": "GHA",
          "CountryName": "Ghana",
          "Total Population": 7513286,
          "Urban population (% of total)": 25.488,
          "Year": 1964,
          "index": 1073
         },
         {
          "CountryCode": "GRC",
          "CountryName": "Greece",
          "Total Population": 8510429,
          "Urban population (% of total)": 59.099,
          "Year": 1964,
          "index": 1074
         },
         {
          "CountryCode": "GRL",
          "CountryName": "Greenland",
          "Total Population": 37600,
          "Urban population (% of total)": 64.534,
          "Year": 1964,
          "index": 1075
         },
         {
          "CountryCode": "GRD",
          "CountryName": "Grenada",
          "Total Population": 94066,
          "Urban population (% of total)": 31.085,
          "Year": 1964,
          "index": 1076
         },
         {
          "CountryCode": "GUM",
          "CountryName": "Guam",
          "Total Population": 73048,
          "Urban population (% of total)": 54.475,
          "Year": 1964,
          "index": 1077
         },
         {
          "CountryCode": "GTM",
          "CountryName": "Guatemala",
          "Total Population": 4600846,
          "Urban population (% of total)": 33.682,
          "Year": 1964,
          "index": 1078
         },
         {
          "CountryCode": "GIN",
          "CountryName": "Guinea",
          "Total Population": 3812004,
          "Urban population (% of total)": 12.439,
          "Year": 1964,
          "index": 1079
         },
         {
          "CountryCode": "GNB",
          "CountryName": "Guinea-Bissau",
          "Total Population": 643962,
          "Urban population (% of total)": 14.197,
          "Year": 1964,
          "index": 1080
         },
         {
          "CountryCode": "GUY",
          "CountryName": "Guyana",
          "Total Population": 635778,
          "Urban population (% of total)": 29.169,
          "Year": 1964,
          "index": 1081
         },
         {
          "CountryCode": "HTI",
          "CountryName": "Haiti",
          "Total Population": 4186636,
          "Urban population (% of total)": 17.168,
          "Year": 1964,
          "index": 1082
         },
         {
          "CountryCode": "HND",
          "CountryName": "Honduras",
          "Total Population": 2282764,
          "Urban population (% of total)": 25.094,
          "Year": 1964,
          "index": 1083
         },
         {
          "CountryCode": "HKG",
          "CountryName": "Hong Kong SAR, China",
          "Total Population": 3504600,
          "Urban population (% of total)": 86.147,
          "Year": 1964,
          "index": 1084
         },
         {
          "CountryCode": "HUN",
          "CountryName": "Hungary",
          "Total Population": 10119835,
          "Urban population (% of total)": 57.603,
          "Year": 1964,
          "index": 1085
         },
         {
          "CountryCode": "ISL",
          "CountryName": "Iceland",
          "Total Population": 188983,
          "Urban population (% of total)": 82.256,
          "Year": 1964,
          "index": 1086
         },
         {
          "CountryCode": "IND",
          "CountryName": "India",
          "Total Population": 487690114,
          "Urban population (% of total)": 18.595,
          "Year": 1964,
          "index": 1087
         },
         {
          "CountryCode": "IDN",
          "CountryName": "Indonesia",
          "Total Population": 97638027,
          "Urban population (% of total)": 15.543,
          "Year": 1964,
          "index": 1088
         },
         {
          "CountryCode": "IRN",
          "CountryName": "Iran, Islamic Rep.",
          "Total Population": 24308080,
          "Urban population (% of total)": 36.391,
          "Year": 1964,
          "index": 1089
         },
         {
          "CountryCode": "IRQ",
          "CountryName": "Iraq",
          "Total Population": 8122200,
          "Urban population (% of total)": 49.093,
          "Year": 1964,
          "index": 1090
         },
         {
          "CountryCode": "IRL",
          "CountryName": "Ireland",
          "Total Population": 2866550,
          "Urban population (% of total)": 48.091,
          "Year": 1964,
          "index": 1091
         },
         {
          "CountryCode": "IMY",
          "CountryName": "Isle of Man",
          "Total Population": 49818,
          "Urban population (% of total)": 56.066,
          "Year": 1964,
          "index": 1092
         },
         {
          "CountryCode": "ISR",
          "CountryName": "Israel",
          "Total Population": 2475000,
          "Urban population (% of total)": 80.232,
          "Year": 1964,
          "index": 1093
         },
         {
          "CountryCode": "ITA",
          "CountryName": "Italy",
          "Total Population": 51675350,
          "Urban population (% of total)": 61.35,
          "Year": 1964,
          "index": 1094
         },
         {
          "CountryCode": "JAM",
          "CountryName": "Jamaica",
          "Total Population": 1734763,
          "Urban population (% of total)": 36.74,
          "Year": 1964,
          "index": 1095
         },
         {
          "CountryCode": "JPN",
          "CountryName": "Japan",
          "Total Population": 97826000,
          "Urban population (% of total)": 66.972,
          "Year": 1964,
          "index": 1096
         },
         {
          "CountryCode": "JOR",
          "CountryName": "Jordan",
          "Total Population": 1060998,
          "Urban population (% of total)": 53.914,
          "Year": 1964,
          "index": 1097
         },
         {
          "CountryCode": "KAZ",
          "CountryName": "Kazakhstan",
          "Total Population": 11267329,
          "Urban population (% of total)": 46.4,
          "Year": 1964,
          "index": 1098
         },
         {
          "CountryCode": "KEN",
          "CountryName": "Kenya",
          "Total Population": 9200158,
          "Urban population (% of total)": 8.318,
          "Year": 1964,
          "index": 1099
         },
         {
          "CountryCode": "KIR",
          "CountryName": "Kiribati",
          "Total Population": 45424,
          "Urban population (% of total)": 18.92,
          "Year": 1964,
          "index": 1100
         },
         {
          "CountryCode": "PRK",
          "CountryName": "Korea, Dem. Rep.",
          "Total Population": 12282421,
          "Urban population (% of total)": 44.102,
          "Year": 1964,
          "index": 1101
         },
         {
          "CountryCode": "KOR",
          "CountryName": "Korea, Rep.",
          "Total Population": 27984155,
          "Urban population (% of total)": 31.372,
          "Year": 1964,
          "index": 1102
         },
         {
          "CountryCode": "KWT",
          "CountryName": "Kuwait",
          "Total Population": 431366,
          "Urban population (% of total)": 78.341,
          "Year": 1964,
          "index": 1103
         },
         {
          "CountryCode": "KGZ",
          "CountryName": "Kyrgyz Republic",
          "Total Population": 2495300,
          "Urban population (% of total)": 35.515,
          "Year": 1964,
          "index": 1104
         },
         {
          "CountryCode": "LAO",
          "CountryName": "Lao PDR",
          "Total Population": 2325742,
          "Urban population (% of total)": 8.246,
          "Year": 1964,
          "index": 1105
         },
         {
          "CountryCode": "LVA",
          "CountryName": "Latvia",
          "Total Population": 2240623,
          "Urban population (% of total)": 56.045,
          "Year": 1964,
          "index": 1106
         },
         {
          "CountryCode": "LBN",
          "CountryName": "Lebanon",
          "Total Population": 2041212,
          "Urban population (% of total)": 49.207,
          "Year": 1964,
          "index": 1107
         },
         {
          "CountryCode": "LSO",
          "CountryName": "Lesotho",
          "Total Population": 915473,
          "Urban population (% of total)": 5.661,
          "Year": 1964,
          "index": 1108
         },
         {
          "CountryCode": "LBR",
          "CountryName": "Liberia",
          "Total Population": 1224094,
          "Urban population (% of total)": 21.378,
          "Year": 1964,
          "index": 1109
         },
         {
          "CountryCode": "LBY",
          "CountryName": "Libya",
          "Total Population": 1652294,
          "Urban population (% of total)": 30.924,
          "Year": 1964,
          "index": 1110
         },
         {
          "CountryCode": "LIE",
          "CountryName": "Liechtenstein",
          "Total Population": 18170,
          "Urban population (% of total)": 19.679,
          "Year": 1964,
          "index": 1111
         },
         {
          "CountryCode": "LTU",
          "CountryName": "Lithuania",
          "Total Population": 2935200,
          "Urban population (% of total)": 43.441,
          "Year": 1964,
          "index": 1112
         },
         {
          "CountryCode": "LUX",
          "CountryName": "Luxembourg",
          "Total Population": 327750,
          "Urban population (% of total)": 71.459,
          "Year": 1964,
          "index": 1113
         },
         {
          "CountryCode": "MAC",
          "CountryName": "Macao SAR, China",
          "Total Population": 197523,
          "Urban population (% of total)": 95.98,
          "Year": 1964,
          "index": 1114
         },
         {
          "CountryCode": "MKD",
          "CountryName": "Macedonia, FYR",
          "Total Population": 1569143,
          "Urban population (% of total)": 39.047,
          "Year": 1964,
          "index": 1115
         },
         {
          "CountryCode": "MDG",
          "CountryName": "Madagascar",
          "Total Population": 5625401,
          "Urban population (% of total)": 12.014,
          "Year": 1964,
          "index": 1116
         },
         {
          "CountryCode": "MWI",
          "CountryName": "Malawi",
          "Total Population": 3963424,
          "Urban population (% of total)": 4.8,
          "Year": 1964,
          "index": 1117
         },
         {
          "CountryCode": "MYS",
          "CountryName": "Malaysia",
          "Total Population": 9287442,
          "Urban population (% of total)": 29.232,
          "Year": 1964,
          "index": 1118
         },
         {
          "CountryCode": "MDV",
          "CountryName": "Maldives",
          "Total Population": 100177,
          "Urban population (% of total)": 11.404,
          "Year": 1964,
          "index": 1119
         },
         {
          "CountryCode": "MLI",
          "CountryName": "Mali",
          "Total Population": 5503748,
          "Urban population (% of total)": 12.286,
          "Year": 1964,
          "index": 1120
         },
         {
          "CountryCode": "MLT",
          "CountryName": "Malta",
          "Total Population": 321250,
          "Urban population (% of total)": 89.886,
          "Year": 1964,
          "index": 1121
         },
         {
          "CountryCode": "MHL",
          "CountryName": "Marshall Islands",
          "Total Population": 16702,
          "Urban population (% of total)": 41.214,
          "Year": 1964,
          "index": 1122
         },
         {
          "CountryCode": "MRT",
          "CountryName": "Mauritania",
          "Total Population": 963746,
          "Urban population (% of total)": 9.357,
          "Year": 1964,
          "index": 1123
         },
         {
          "CountryCode": "MUS",
          "CountryName": "Mauritius",
          "Total Population": 736381,
          "Urban population (% of total)": 36.023,
          "Year": 1964,
          "index": 1124
         },
         {
          "CountryCode": "MEX",
          "CountryName": "Mexico",
          "Total Population": 43264267,
          "Urban population (% of total)": 54.1,
          "Year": 1964,
          "index": 1125
         },
         {
          "CountryCode": "FSM",
          "CountryName": "Micronesia, Fed. Sts.",
          "Total Population": 50483,
          "Urban population (% of total)": 23.289,
          "Year": 1964,
          "index": 1126
         },
         {
          "CountryCode": "MDA",
          "CountryName": "Moldova",
          "Total Population": 2774000,
          "Urban population (% of total)": 26.703,
          "Year": 1964,
          "index": 1127
         },
         {
          "CountryCode": "MCO",
          "CountryName": "Monaco",
          "Total Population": 23237,
          "Urban population (% of total)": 100,
          "Year": 1964,
          "index": 1128
         },
         {
          "CountryCode": "MNG",
          "CountryName": "Mongolia",
          "Total Population": 1074517,
          "Urban population (% of total)": 41.585,
          "Year": 1964,
          "index": 1129
         },
         {
          "CountryCode": "MNE",
          "CountryName": "Montenegro",
          "Total Population": 496685,
          "Urban population (% of total)": 21.77,
          "Year": 1964,
          "index": 1130
         },
         {
          "CountryCode": "MAR",
          "CountryName": "Morocco",
          "Total Population": 13871988,
          "Urban population (% of total)": 31.353,
          "Year": 1964,
          "index": 1131
         },
         {
          "CountryCode": "MOZ",
          "CountryName": "Mozambique",
          "Total Population": 8129268,
          "Urban population (% of total)": 5.555,
          "Year": 1964,
          "index": 1132
         },
         {
          "CountryCode": "MMR",
          "CountryName": "Myanmar",
          "Total Population": 23471163,
          "Urban population (% of total)": 20.613,
          "Year": 1964,
          "index": 1133
         },
         {
          "CountryCode": "NAM",
          "CountryName": "Namibia",
          "Total Population": 665297,
          "Urban population (% of total)": 19.6,
          "Year": 1964,
          "index": 1134
         },
         {
          "CountryCode": "NPL",
          "CountryName": "Nepal",
          "Total Population": 10719988,
          "Urban population (% of total)": 3.695,
          "Year": 1964,
          "index": 1135
         },
         {
          "CountryCode": "NLD",
          "CountryName": "Netherlands",
          "Total Population": 12127120,
          "Urban population (% of total)": 60.57,
          "Year": 1964,
          "index": 1136
         },
         {
          "CountryCode": "NCL",
          "CountryName": "New Caledonia",
          "Total Population": 88100,
          "Urban population (% of total)": 43.161,
          "Year": 1964,
          "index": 1137
         },
         {
          "CountryCode": "NZL",
          "CountryName": "New Zealand",
          "Total Population": 2585400,
          "Urban population (% of total)": 78.317,
          "Year": 1964,
          "index": 1138
         },
         {
          "CountryCode": "NIC",
          "CountryName": "Nicaragua",
          "Total Population": 2002119,
          "Urban population (% of total)": 41.855,
          "Year": 1964,
          "index": 1139
         },
         {
          "CountryCode": "NER",
          "CountryName": "Niger",
          "Total Population": 3811813,
          "Urban population (% of total)": 6.529,
          "Year": 1964,
          "index": 1140
         },
         {
          "CountryCode": "NGA",
          "CountryName": "Nigeria",
          "Total Population": 49169819,
          "Urban population (% of total)": 16.318,
          "Year": 1964,
          "index": 1141
         },
         {
          "CountryCode": "MNP",
          "CountryName": "Northern Mariana Islands",
          "Total Population": 10901,
          "Urban population (% of total)": 57.274,
          "Year": 1964,
          "index": 1142
         },
         {
          "CountryCode": "NOR",
          "CountryName": "Norway",
          "Total Population": 3694339,
          "Urban population (% of total)": 55.944,
          "Year": 1964,
          "index": 1143
         },
         {
          "CountryCode": "OMN",
          "CountryName": "Oman",
          "Total Population": 608889,
          "Urban population (% of total)": 21.04,
          "Year": 1964,
          "index": 1144
         },
         {
          "CountryCode": "PAK",
          "CountryName": "Pakistan",
          "Total Population": 49555472,
          "Urban population (% of total)": 23.256,
          "Year": 1964,
          "index": 1145
         },
         {
          "CountryCode": "PLW",
          "CountryName": "Palau",
          "Total Population": 10593,
          "Urban population (% of total)": 57.987,
          "Year": 1964,
          "index": 1146
         },
         {
          "CountryCode": "PAN",
          "CountryName": "Panama",
          "Total Population": 1276274,
          "Urban population (% of total)": 43.784,
          "Year": 1964,
          "index": 1147
         },
         {
          "CountryCode": "PNG",
          "CountryName": "Papua New Guinea",
          "Total Population": 2116832,
          "Urban population (% of total)": 5.069,
          "Year": 1964,
          "index": 1148
         },
         {
          "CountryCode": "PRY",
          "CountryName": "Paraguay",
          "Total Population": 2114095,
          "Urban population (% of total)": 36.079,
          "Year": 1964,
          "index": 1149
         },
         {
          "CountryCode": "PER",
          "CountryName": "Peru",
          "Total Population": 11281015,
          "Urban population (% of total)": 50.752,
          "Year": 1964,
          "index": 1150
         },
         {
          "CountryCode": "PHL",
          "CountryName": "Philippines",
          "Total Population": 29962877,
          "Urban population (% of total)": 31.34,
          "Year": 1964,
          "index": 1151
         },
         {
          "CountryCode": "POL",
          "CountryName": "Poland",
          "Total Population": 31139450,
          "Urban population (% of total)": 49.727,
          "Year": 1964,
          "index": 1152
         },
         {
          "CountryCode": "PRT",
          "CountryName": "Portugal",
          "Total Population": 9035365,
          "Urban population (% of total)": 36.483,
          "Year": 1964,
          "index": 1153
         },
         {
          "CountryCode": "PRI",
          "CountryName": "Puerto Rico",
          "Total Population": 2554066,
          "Urban population (% of total)": 50.126,
          "Year": 1964,
          "index": 1154
         },
         {
          "CountryCode": "QAT",
          "CountryName": "Qatar",
          "Total Population": 67487,
          "Urban population (% of total)": 86.78,
          "Year": 1964,
          "index": 1155
         },
         {
          "CountryCode": "ROM",
          "CountryName": "Romania",
          "Total Population": 18919126,
          "Urban population (% of total)": 36.989,
          "Year": 1964,
          "index": 1156
         },
         {
          "CountryCode": "RUS",
          "CountryName": "Russian Federation",
          "Total Population": 125345000,
          "Urban population (% of total)": 57.294,
          "Year": 1964,
          "index": 1157
         },
         {
          "CountryCode": "RWA",
          "CountryName": "Rwanda",
          "Total Population": 3161719,
          "Urban population (% of total)": 2.824,
          "Year": 1964,
          "index": 1158
         },
         {
          "CountryCode": "WSM",
          "CountryName": "Samoa",
          "Total Population": 123354,
          "Urban population (% of total)": 19.221,
          "Year": 1964,
          "index": 1159
         },
         {
          "CountryCode": "SMR",
          "CountryName": "San Marino",
          "Total Population": 17033,
          "Urban population (% of total)": 53.307,
          "Year": 1964,
          "index": 1160
         },
         {
          "CountryCode": "STP",
          "CountryName": "Sao Tome and Principe",
          "Total Population": 64209,
          "Urban population (% of total)": 20.484,
          "Year": 1964,
          "index": 1161
         },
         {
          "CountryCode": "SAU",
          "CountryName": "Saudi Arabia",
          "Total Population": 4677409,
          "Urban population (% of total)": 36.872,
          "Year": 1964,
          "index": 1162
         },
         {
          "CountryCode": "SEN",
          "CountryName": "Senegal",
          "Total Population": 3547939,
          "Urban population (% of total)": 25.657,
          "Year": 1964,
          "index": 1163
         },
         {
          "CountryCode": "SYC",
          "CountryName": "Seychelles",
          "Total Population": 46322,
          "Urban population (% of total)": 31.991,
          "Year": 1964,
          "index": 1164
         },
         {
          "CountryCode": "SLE",
          "CountryName": "Sierra Leone",
          "Total Population": 2301023,
          "Urban population (% of total)": 19.712,
          "Year": 1964,
          "index": 1165
         },
         {
          "CountryCode": "SGP",
          "CountryName": "Singapore",
          "Total Population": 1841600,
          "Urban population (% of total)": 100,
          "Year": 1964,
          "index": 1166
         },
         {
          "CountryCode": "SVK",
          "CountryName": "Slovak Republic",
          "Total Population": 4327341,
          "Urban population (% of total)": 36.26,
          "Year": 1964,
          "index": 1167
         },
         {
          "CountryCode": "SVN",
          "CountryName": "Slovenia",
          "Total Population": 1632114,
          "Urban population (% of total)": 31.631,
          "Year": 1964,
          "index": 1168
         },
         {
          "CountryCode": "SLB",
          "CountryName": "Solomon Islands",
          "Total Population": 132787,
          "Urban population (% of total)": 6.924,
          "Year": 1964,
          "index": 1169
         },
         {
          "CountryCode": "SOM",
          "CountryName": "Somalia",
          "Total Population": 3002173,
          "Urban population (% of total)": 19.453,
          "Year": 1964,
          "index": 1170
         },
         {
          "CountryCode": "ZAF",
          "CountryName": "South Africa",
          "Total Population": 19390554,
          "Urban population (% of total)": 47.134,
          "Year": 1964,
          "index": 1171
         },
         {
          "CountryCode": "SSD",
          "CountryName": "South Sudan",
          "Total Population": 3196258,
          "Urban population (% of total)": 8.702,
          "Year": 1964,
          "index": 1172
         },
         {
          "CountryCode": "ESP",
          "CountryName": "Spain",
          "Total Population": 31609195,
          "Urban population (% of total)": 60.298,
          "Year": 1964,
          "index": 1173
         },
         {
          "CountryCode": "LKA",
          "CountryName": "Sri Lanka",
          "Total Population": 10903000,
          "Urban population (% of total)": 17.267,
          "Year": 1964,
          "index": 1174
         },
         {
          "CountryCode": "KNA",
          "CountryName": "St. Kitts and Nevis",
          "Total Population": 49934,
          "Urban population (% of total)": 30.197,
          "Year": 1964,
          "index": 1175
         },
         {
          "CountryCode": "LCA",
          "CountryName": "St. Lucia",
          "Total Population": 94813,
          "Urban population (% of total)": 22.416,
          "Year": 1964,
          "index": 1176
         },
         {
          "CountryCode": "VCT",
          "CountryName": "St. Vincent and the Grenadines",
          "Total Population": 85076,
          "Urban population (% of total)": 27.781,
          "Year": 1964,
          "index": 1177
         },
         {
          "CountryCode": "SDN",
          "CountryName": "Sudan",
          "Total Population": 8475765,
          "Urban population (% of total)": 12.808,
          "Year": 1964,
          "index": 1178
         },
         {
          "CountryCode": "SUR",
          "CountryName": "Suriname",
          "Total Population": 322995,
          "Urban population (% of total)": 47.341,
          "Year": 1964,
          "index": 1179
         },
         {
          "CountryCode": "SWZ",
          "CountryName": "Swaziland",
          "Total Population": 382575,
          "Urban population (% of total)": 5.876,
          "Year": 1964,
          "index": 1180
         },
         {
          "CountryCode": "SWE",
          "CountryName": "Sweden",
          "Total Population": 7661354,
          "Urban population (% of total)": 76.153,
          "Year": 1964,
          "index": 1181
         },
         {
          "CountryCode": "CHE",
          "CountryName": "Switzerland",
          "Total Population": 5789228,
          "Urban population (% of total)": 53.583,
          "Year": 1964,
          "index": 1182
         },
         {
          "CountryCode": "SYR",
          "CountryName": "Syrian Arab Republic",
          "Total Population": 5224579,
          "Urban population (% of total)": 39.349,
          "Year": 1964,
          "index": 1183
         },
         {
          "CountryCode": "TJK",
          "CountryName": "Tajikistan",
          "Total Population": 2401598,
          "Urban population (% of total)": 34.751,
          "Year": 1964,
          "index": 1184
         },
         {
          "CountryCode": "TZA",
          "CountryName": "Tanzania",
          "Total Population": 11339076,
          "Urban population (% of total)": 5.865,
          "Year": 1964,
          "index": 1185
         },
         {
          "CountryCode": "THA",
          "CountryName": "Thailand",
          "Total Population": 30881332,
          "Urban population (% of total)": 20.11,
          "Year": 1964,
          "index": 1186
         },
         {
          "CountryCode": "TMP",
          "CountryName": "Timor-Leste",
          "Total Population": 536798,
          "Urban population (% of total)": 11.066,
          "Year": 1964,
          "index": 1187
         },
         {
          "CountryCode": "TGO",
          "CountryName": "Togo",
          "Total Population": 1662072,
          "Urban population (% of total)": 13.847,
          "Year": 1964,
          "index": 1188
         },
         {
          "CountryCode": "TON",
          "CountryName": "Tonga",
          "Total Population": 71757,
          "Urban population (% of total)": 19.098,
          "Year": 1964,
          "index": 1189
         },
         {
          "CountryCode": "TTO",
          "CountryName": "Trinidad and Tobago",
          "Total Population": 903272,
          "Urban population (% of total)": 14.91,
          "Year": 1964,
          "index": 1190
         },
         {
          "CountryCode": "TUN",
          "CountryName": "Tunisia",
          "Total Population": 4530835,
          "Urban population (% of total)": 39.279,
          "Year": 1964,
          "index": 1191
         },
         {
          "CountryCode": "TUR",
          "CountryName": "Turkey",
          "Total Population": 30292969,
          "Urban population (% of total)": 33.68,
          "Year": 1964,
          "index": 1192
         },
         {
          "CountryCode": "TKM",
          "CountryName": "Turkmenistan",
          "Total Population": 1829697,
          "Urban population (% of total)": 46.993,
          "Year": 1964,
          "index": 1193
         },
         {
          "CountryCode": "TCA",
          "CountryName": "Turks and Caicos Islands",
          "Total Population": 5705,
          "Urban population (% of total)": 49.049,
          "Year": 1964,
          "index": 1194
         },
         {
          "CountryCode": "TUV",
          "CountryName": "Tuvalu",
          "Total Population": 6687,
          "Urban population (% of total)": 18.183,
          "Year": 1964,
          "index": 1195
         },
         {
          "CountryCode": "UGA",
          "CountryName": "Uganda",
          "Total Population": 7746181,
          "Urban population (% of total)": 5.273,
          "Year": 1964,
          "index": 1196
         },
         {
          "CountryCode": "UKR",
          "CountryName": "Ukraine",
          "Total Population": 44794325,
          "Urban population (% of total)": 49.8,
          "Year": 1964,
          "index": 1197
         },
         {
          "CountryCode": "ARE",
          "CountryName": "United Arab Emirates",
          "Total Population": 138220,
          "Urban population (% of total)": 76.919,
          "Year": 1964,
          "index": 1198
         },
         {
          "CountryCode": "GBR",
          "CountryName": "United Kingdom",
          "Total Population": 54000000,
          "Urban population (% of total)": 77.96,
          "Year": 1964,
          "index": 1199
         },
         {
          "CountryCode": "USA",
          "CountryName": "United States",
          "Total Population": 191889000,
          "Urban population (% of total)": 71.508,
          "Year": 1964,
          "index": 1200
         },
         {
          "CountryCode": "URY",
          "CountryName": "Uruguay",
          "Total Population": 2665387,
          "Urban population (% of total)": 81.114,
          "Year": 1964,
          "index": 1201
         },
         {
          "CountryCode": "UZB",
          "CountryName": "Uzbekistan",
          "Total Population": 9917202,
          "Urban population (% of total)": 35.025,
          "Year": 1964,
          "index": 1202
         },
         {
          "CountryCode": "VUT",
          "CountryName": "Vanuatu",
          "Total Population": 72131,
          "Urban population (% of total)": 11.138,
          "Year": 1964,
          "index": 1203
         },
         {
          "CountryCode": "VEN",
          "CountryName": "Venezuela, RB",
          "Total Population": 9476255,
          "Urban population (% of total)": 66.009,
          "Year": 1964,
          "index": 1204
         },
         {
          "CountryCode": "VNM",
          "CountryName": "Vietnam",
          "Total Population": 37574000,
          "Urban population (% of total)": 16.064,
          "Year": 1964,
          "index": 1205
         },
         {
          "CountryCode": "VIR",
          "CountryName": "Virgin Islands (U.S.)",
          "Total Population": 41300,
          "Urban population (% of total)": 61.952,
          "Year": 1964,
          "index": 1206
         },
         {
          "CountryCode": "YEM",
          "CountryName": "Yemen, Rep.",
          "Total Population": 5522690,
          "Urban population (% of total)": 10.614,
          "Year": 1964,
          "index": 1207
         },
         {
          "CountryCode": "ZMB",
          "CountryName": "Zambia",
          "Total Population": 3449266,
          "Urban population (% of total)": 22.015,
          "Year": 1964,
          "index": 1208
         },
         {
          "CountryCode": "ZWE",
          "CountryName": "Zimbabwe",
          "Total Population": 4279561,
          "Urban population (% of total)": 14.092,
          "Year": 1964,
          "index": 1209
         },
         {
          "CountryCode": "ARB",
          "CountryName": "Arab World",
          "Total Population": 106192292,
          "Urban population (% of total)": 35.1985060754,
          "Year": 1965,
          "index": 1210
         },
         {
          "CountryCode": "CSS",
          "CountryName": "Caribbean small states",
          "Total Population": 4586896,
          "Urban population (% of total)": 32.8442647143,
          "Year": 1965,
          "index": 1211
         },
         {
          "CountryCode": "CEB",
          "CountryName": "Central Europe and the Baltics",
          "Total Population": 95447065,
          "Urban population (% of total)": 47.880308443,
          "Year": 1965,
          "index": 1212
         },
         {
          "CountryCode": "EAS",
          "CountryName": "East Asia & Pacific (all income levels)",
          "Total Population": 1136727872,
          "Urban population (% of total)": 24.5898721129,
          "Year": 1965,
          "index": 1213
         },
         {
          "CountryCode": "EAP",
          "CountryName": "East Asia & Pacific (developing only)",
          "Total Population": 976409639,
          "Urban population (% of total)": 18.7474090388,
          "Year": 1965,
          "index": 1214
         },
         {
          "CountryCode": "EMU",
          "CountryName": "Euro area",
          "Total Population": 277856708,
          "Urban population (% of total)": 64.7470759964,
          "Year": 1965,
          "index": 1215
         },
         {
          "CountryCode": "ECS",
          "CountryName": "Europe & Central Asia (all income levels)",
          "Total Population": 706643949,
          "Urban population (% of total)": 58.1399601418,
          "Year": 1965,
          "index": 1216
         },
         {
          "CountryCode": "ECA",
          "CountryName": "Europe & Central Asia (developing only)",
          "Total Population": 169769768,
          "Urban population (% of total)": 41.5539955701,
          "Year": 1965,
          "index": 1217
         },
         {
          "CountryCode": "EUU",
          "CountryName": "European Union",
          "Total Population": 427592610,
          "Urban population (% of total)": 63.6042149131,
          "Year": 1965,
          "index": 1218
         },
         {
          "CountryCode": "FCS",
          "CountryName": "Fragile and conflict affected situations",
          "Total Population": 135445183,
          "Urban population (% of total)": 20.5956327902,
          "Year": 1965,
          "index": 1219
         },
         {
          "CountryCode": "HPC",
          "CountryName": "Heavily indebted poor countries (HIPC)",
          "Total Population": 183294395,
          "Urban population (% of total)": 14.1235995939,
          "Year": 1965,
          "index": 1220
         },
         {
          "CountryCode": "HIC",
          "CountryName": "High income",
          "Total Population": 968445169,
          "Urban population (% of total)": 65.551604158,
          "Year": 1965,
          "index": 1221
         },
         {
          "CountryCode": "NOC",
          "CountryName": "High income: nonOECD",
          "Total Population": 201980369,
          "Urban population (% of total)": 60.4276638181,
          "Year": 1965,
          "index": 1222
         },
         {
          "CountryCode": "OEC",
          "CountryName": "High income: OECD",
          "Total Population": 766464800,
          "Urban population (% of total)": 66.8172757326,
          "Year": 1965,
          "index": 1223
         },
         {
          "CountryCode": "LCN",
          "CountryName": "Latin America & Caribbean (all income levels)",
          "Total Population": 253195267,
          "Urban population (% of total)": 53.2433113275,
          "Year": 1965,
          "index": 1224
         },
         {
          "CountryCode": "LAC",
          "CountryName": "Latin America & Caribbean (developing only)",
          "Total Population": 205534363,
          "Urban population (% of total)": 49.1335809149,
          "Year": 1965,
          "index": 1225
         },
         {
          "CountryCode": "LDC",
          "CountryName": "Least developed countries: UN classification",
          "Total Population": 271723894,
          "Urban population (% of total)": 11.0134065283,
          "Year": 1965,
          "index": 1226
         },
         {
          "CountryCode": "LMY",
          "CountryName": "Low & middle income",
          "Total Population": 2357554897,
          "Urban population (% of total)": 23.3492130515,
          "Year": 1965,
          "index": 1227
         },
         {
          "CountryCode": "LIC",
          "CountryName": "Low income",
          "Total Population": 175683056,
          "Urban population (% of total)": 12.9843856838,
          "Year": 1965,
          "index": 1228
         },
         {
          "CountryCode": "LMC",
          "CountryName": "Lower middle income",
          "Total Population": 1056418410,
          "Urban population (% of total)": 21.1272860747,
          "Year": 1965,
          "index": 1229
         },
         {
          "CountryCode": "MEA",
          "CountryName": "Middle East & North Africa (all income levels)",
          "Total Population": 121023167,
          "Urban population (% of total)": 38.8957586594,
          "Year": 1965,
          "index": 1230
         },
         {
          "CountryCode": "MNA",
          "CountryName": "Middle East & North Africa (developing only)",
          "Total Population": 111779343,
          "Urban population (% of total)": 37.5533902152,
          "Year": 1965,
          "index": 1231
         },
         {
          "CountryCode": "MIC",
          "CountryName": "Middle income",
          "Total Population": 2181871841,
          "Urban population (% of total)": 24.1841954843,
          "Year": 1965,
          "index": 1232
         },
         {
          "CountryCode": "NAC",
          "CountryName": "North America",
          "Total Population": 214031100,
          "Urban population (% of total)": 71.9787176396,
          "Year": 1965,
          "index": 1233
         },
         {
          "CountryCode": "OED",
          "CountryName": "OECD members",
          "Total Population": 842088008,
          "Urban population (% of total)": 64.9876501531,
          "Year": 1965,
          "index": 1234
         },
         {
          "CountryCode": "OSS",
          "CountryName": "Other small states",
          "Total Population": 7279828,
          "Urban population (% of total)": 17.0745874729,
          "Year": 1965,
          "index": 1235
         },
         {
          "CountryCode": "PSS",
          "CountryName": "Pacific island small states",
          "Total Population": 1010026,
          "Urban population (% of total)": 24.2418483683,
          "Year": 1965,
          "index": 1236
         },
         {
          "CountryCode": "SST",
          "CountryName": "Small states",
          "Total Population": 12876750,
          "Urban population (% of total)": 23.2541738835,
          "Year": 1965,
          "index": 1237
         },
         {
          "CountryCode": "SAS",
          "CountryName": "South Asia",
          "Total Population": 636963781,
          "Urban population (% of total)": 17.6344227873,
          "Year": 1965,
          "index": 1238
         },
         {
          "CountryCode": "SSF",
          "CountryName": "Sub-Saharan Africa (all income levels)",
          "Total Population": 257414930,
          "Urban population (% of total)": 16.2648133444,
          "Year": 1965,
          "index": 1239
         },
         {
          "CountryCode": "SSA",
          "CountryName": "Sub-Saharan Africa (developing only)",
          "Total Population": 257098003,
          "Urban population (% of total)": 16.2509706139,
          "Year": 1965,
          "index": 1240
         },
         {
          "CountryCode": "UMC",
          "CountryName": "Upper middle income",
          "Total Population": 1125453431,
          "Urban population (% of total)": 27.0506668467,
          "Year": 1965,
          "index": 1241
         },
         {
          "CountryCode": "WLD",
          "CountryName": "World",
          "Total Population": 3326000066,
          "Urban population (% of total)": 35.5271668511,
          "Year": 1965,
          "index": 1242
         },
         {
          "CountryCode": "AFG",
          "CountryName": "Afghanistan",
          "Total Population": 9935358,
          "Urban population (% of total)": 9.75,
          "Year": 1965,
          "index": 1243
         },
         {
          "CountryCode": "ALB",
          "CountryName": "Albania",
          "Total Population": 1864791,
          "Urban population (% of total)": 31.23,
          "Year": 1965,
          "index": 1244
         },
         {
          "CountryCode": "DZA",
          "CountryName": "Algeria",
          "Total Population": 12626953,
          "Urban population (% of total)": 37.643,
          "Year": 1965,
          "index": 1245
         },
         {
          "CountryCode": "ASM",
          "CountryName": "American Samoa",
          "Total Population": 23518,
          "Urban population (% of total)": 68.334,
          "Year": 1965,
          "index": 1246
         },
         {
          "CountryCode": "ADO",
          "CountryName": "Andorra",
          "Total Population": 18551,
          "Urban population (% of total)": 70.445,
          "Year": 1965,
          "index": 1247
         },
         {
          "CountryCode": "AGO",
          "CountryName": "Angola",
          "Total Population": 5765025,
          "Urban population (% of total)": 12.504,
          "Year": 1965,
          "index": 1248
         },
         {
          "CountryCode": "ATG",
          "CountryName": "Antigua and Barbuda",
          "Total Population": 59653,
          "Urban population (% of total)": 36.61,
          "Year": 1965,
          "index": 1249
         },
         {
          "CountryCode": "ARG",
          "CountryName": "Argentina",
          "Total Population": 22283389,
          "Urban population (% of total)": 76.369,
          "Year": 1965,
          "index": 1250
         },
         {
          "CountryCode": "ARM",
          "CountryName": "Armenia",
          "Total Population": 2204650,
          "Urban population (% of total)": 55.622,
          "Year": 1965,
          "index": 1251
         },
         {
          "CountryCode": "ABW",
          "CountryName": "Aruba",
          "Total Population": 57360,
          "Urban population (% of total)": 50.7,
          "Year": 1965,
          "index": 1252
         },
         {
          "CountryCode": "AUS",
          "CountryName": "Australia",
          "Total Population": 11388000,
          "Urban population (% of total)": 83.485,
          "Year": 1965,
          "index": 1253
         },
         {
          "CountryCode": "AUT",
          "CountryName": "Austria",
          "Total Population": 7270889,
          "Urban population (% of total)": 65.011,
          "Year": 1965,
          "index": 1254
         },
         {
          "CountryCode": "AZE",
          "CountryName": "Azerbaijan",
          "Total Population": 4579759,
          "Urban population (% of total)": 51.164,
          "Year": 1965,
          "index": 1255
         },
         {
          "CountryCode": "BHS",
          "CountryName": "Bahamas, The",
          "Total Population": 140049,
          "Urban population (% of total)": 63.343,
          "Year": 1965,
          "index": 1256
         },
         {
          "CountryCode": "BHR",
          "CountryName": "Bahrain",
          "Total Population": 187348,
          "Urban population (% of total)": 82.5,
          "Year": 1965,
          "index": 1257
         },
         {
          "CountryCode": "BGD",
          "CountryName": "Bangladesh",
          "Total Population": 55835020,
          "Urban population (% of total)": 6.211,
          "Year": 1965,
          "index": 1258
         },
         {
          "CountryCode": "BRB",
          "CountryName": "Barbados",
          "Total Population": 235373,
          "Urban population (% of total)": 37.141,
          "Year": 1965,
          "index": 1259
         },
         {
          "CountryCode": "BLR",
          "CountryName": "Belarus",
          "Total Population": 8610000,
          "Urban population (% of total)": 38.127,
          "Year": 1965,
          "index": 1260
         },
         {
          "CountryCode": "BEL",
          "CountryName": "Belgium",
          "Total Population": 9463667,
          "Urban population (% of total)": 93.137,
          "Year": 1965,
          "index": 1261
         },
         {
          "CountryCode": "BLZ",
          "CountryName": "Belize",
          "Total Population": 106121,
          "Urban population (% of total)": 52.481,
          "Year": 1965,
          "index": 1262
         },
         {
          "CountryCode": "BEN",
          "CountryName": "Benin",
          "Total Population": 2632360,
          "Urban population (% of total)": 12.519,
          "Year": 1965,
          "index": 1263
         },
         {
          "CountryCode": "BMU",
          "CountryName": "Bermuda",
          "Total Population": 50100,
          "Urban population (% of total)": 100,
          "Year": 1965,
          "index": 1264
         },
         {
          "CountryCode": "BTN",
          "CountryName": "Bhutan",
          "Total Population": 252629,
          "Urban population (% of total)": 4.687,
          "Year": 1965,
          "index": 1265
         },
         {
          "CountryCode": "BOL",
          "CountryName": "Bolivia",
          "Total Population": 4070590,
          "Urban population (% of total)": 38.257,
          "Year": 1965,
          "index": 1266
         },
         {
          "CountryCode": "BIH",
          "CountryName": "Bosnia and Herzegovina",
          "Total Population": 3524596,
          "Urban population (% of total)": 22.817,
          "Year": 1965,
          "index": 1267
         },
         {
          "CountryCode": "BWA",
          "CountryName": "Botswana",
          "Total Population": 595741,
          "Urban population (% of total)": 3.839,
          "Year": 1965,
          "index": 1268
         },
         {
          "CountryCode": "BRA",
          "CountryName": "Brazil",
          "Total Population": 84130061,
          "Urban population (% of total)": 51.037,
          "Year": 1965,
          "index": 1269
         },
         {
          "CountryCode": "BRN",
          "CountryName": "Brunei Darussalam",
          "Total Population": 102525,
          "Urban population (% of total)": 52.625,
          "Year": 1965,
          "index": 1270
         },
         {
          "CountryCode": "BGR",
          "CountryName": "Bulgaria",
          "Total Population": 8204168,
          "Urban population (% of total)": 45.755,
          "Year": 1965,
          "index": 1271
         },
         {
          "CountryCode": "BFA",
          "CountryName": "Burkina Faso",
          "Total Population": 5174869,
          "Urban population (% of total)": 5.198,
          "Year": 1965,
          "index": 1272
         },
         {
          "CountryCode": "BDI",
          "CountryName": "Burundi",
          "Total Population": 3079034,
          "Urban population (% of total)": 2.294,
          "Year": 1965,
          "index": 1273
         },
         {
          "CountryCode": "CPV",
          "CountryName": "Cabo Verde",
          "Total Population": 231427,
          "Urban population (% of total)": 18.073,
          "Year": 1965,
          "index": 1274
         },
         {
          "CountryCode": "KHM",
          "CountryName": "Cambodia",
          "Total Population": 6467196,
          "Urban population (% of total)": 10.83,
          "Year": 1965,
          "index": 1275
         },
         {
          "CountryCode": "CMR",
          "CountryName": "Cameroon",
          "Total Population": 5987671,
          "Urban population (% of total)": 16.88,
          "Year": 1965,
          "index": 1276
         },
         {
          "CountryCode": "CAN",
          "CountryName": "Canada",
          "Total Population": 19678000,
          "Urban population (% of total)": 72.892,
          "Year": 1965,
          "index": 1277
         },
         {
          "CountryCode": "CYM",
          "CountryName": "Cayman Islands",
          "Total Population": 8371,
          "Urban population (% of total)": 100,
          "Year": 1965,
          "index": 1278
         },
         {
          "CountryCode": "CAF",
          "CountryName": "Central African Republic",
          "Total Population": 1648830,
          "Urban population (% of total)": 23.519,
          "Year": 1965,
          "index": 1279
         },
         {
          "CountryCode": "TCD",
          "CountryName": "Chad",
          "Total Population": 3310921,
          "Urban population (% of total)": 8.406,
          "Year": 1965,
          "index": 1280
         },
         {
          "CountryCode": "CHI",
          "CountryName": "Channel Islands",
          "Total Population": 114992,
          "Urban population (% of total)": 37.385,
          "Year": 1965,
          "index": 1281
         },
         {
          "CountryCode": "CHL",
          "CountryName": "Chile",
          "Total Population": 8612074,
          "Urban population (% of total)": 71.696,
          "Year": 1965,
          "index": 1282
         },
         {
          "CountryCode": "CHN",
          "CountryName": "China",
          "Total Population": 715185000,
          "Urban population (% of total)": 18.086,
          "Year": 1965,
          "index": 1283
         },
         {
          "CountryCode": "COL",
          "CountryName": "Colombia",
          "Total Population": 19144220,
          "Urban population (% of total)": 51.022,
          "Year": 1965,
          "index": 1284
         },
         {
          "CountryCode": "COM",
          "CountryName": "Comoros",
          "Total Population": 205412,
          "Urban population (% of total)": 16.978,
          "Year": 1965,
          "index": 1285
         },
         {
          "CountryCode": "ZAR",
          "CountryName": "Congo, Dem. Rep.",
          "Total Population": 17369859,
          "Urban population (% of total)": 23.434,
          "Year": 1965,
          "index": 1286
         },
         {
          "CountryCode": "COG",
          "CountryName": "Congo, Rep.",
          "Total Population": 1157905,
          "Urban population (% of total)": 35.273,
          "Year": 1965,
          "index": 1287
         },
         {
          "CountryCode": "CRI",
          "CountryName": "Costa Rica",
          "Total Population": 1589625,
          "Urban population (% of total)": 35.791,
          "Year": 1965,
          "index": 1288
         },
         {
          "CountryCode": "CIV",
          "CountryName": "Cote d'Ivoire",
          "Total Population": 4219739,
          "Urban population (% of total)": 24.5,
          "Year": 1965,
          "index": 1289
         },
         {
          "CountryCode": "HRV",
          "CountryName": "Croatia",
          "Total Population": 4287000,
          "Urban population (% of total)": 34.977,
          "Year": 1965,
          "index": 1290
         },
         {
          "CountryCode": "CUB",
          "CountryName": "Cuba",
          "Total Population": 7951928,
          "Urban population (% of total)": 59.337,
          "Year": 1965,
          "index": 1291
         },
         {
          "CountryCode": "CUW",
          "CountryName": "Curacao",
          "Total Population": 135266,
          "Urban population (% of total)": 76.631,
          "Year": 1965,
          "index": 1292
         },
         {
          "CountryCode": "CYP",
          "CountryName": "Cyprus",
          "Total Population": 580971,
          "Urban population (% of total)": 38.188,
          "Year": 1965,
          "index": 1293
         },
         {
          "CountryCode": "CZE",
          "CountryName": "Czech Republic",
          "Total Population": 9779358,
          "Urban population (% of total)": 62.016,
          "Year": 1965,
          "index": 1294
         },
         {
          "CountryCode": "DNK",
          "CountryName": "Denmark",
          "Total Population": 4759012,
          "Urban population (% of total)": 77.048,
          "Year": 1965,
          "index": 1295
         },
         {
          "CountryCode": "DJI",
          "CountryName": "Djibouti",
          "Total Population": 114963,
          "Urban population (% of total)": 56.109,
          "Year": 1965,
          "index": 1296
         },
         {
          "CountryCode": "DMA",
          "CountryName": "Dominica",
          "Total Population": 65038,
          "Urban population (% of total)": 38.18,
          "Year": 1965,
          "index": 1297
         },
         {
          "CountryCode": "DOM",
          "CountryName": "Dominican Republic",
          "Total Population": 3878952,
          "Urban population (% of total)": 35.039,
          "Year": 1965,
          "index": 1298
         },
         {
          "CountryCode": "ECU",
          "CountryName": "Ecuador",
          "Total Population": 5250120,
          "Urban population (% of total)": 36.64,
          "Year": 1965,
          "index": 1299
         },
         {
          "CountryCode": "EGY",
          "CountryName": "Egypt, Arab Rep.",
          "Total Population": 30872982,
          "Urban population (% of total)": 39.686,
          "Year": 1965,
          "index": 1300
         },
         {
          "CountryCode": "SLV",
          "CountryName": "El Salvador",
          "Total Population": 3197865,
          "Urban population (% of total)": 38.909,
          "Year": 1965,
          "index": 1301
         },
         {
          "CountryCode": "GNQ",
          "CountryName": "Equatorial Guinea",
          "Total Population": 269427,
          "Urban population (% of total)": 26.502,
          "Year": 1965,
          "index": 1302
         },
         {
          "CountryCode": "ERI",
          "CountryName": "Eritrea",
          "Total Population": 1589187,
          "Urban population (% of total)": 11.383,
          "Year": 1965,
          "index": 1303
         },
         {
          "CountryCode": "EST",
          "CountryName": "Estonia",
          "Total Population": 1294566,
          "Urban population (% of total)": 61.348,
          "Year": 1965,
          "index": 1304
         },
         {
          "CountryCode": "ETH",
          "CountryName": "Ethiopia",
          "Total Population": 25013551,
          "Urban population (% of total)": 7.587,
          "Year": 1965,
          "index": 1305
         },
         {
          "CountryCode": "FRO",
          "CountryName": "Faeroe Islands",
          "Total Population": 36363,
          "Urban population (% of total)": 25.553,
          "Year": 1965,
          "index": 1306
         },
         {
          "CountryCode": "FJI",
          "CountryName": "Fiji",
          "Total Population": 463884,
          "Urban population (% of total)": 32.582,
          "Year": 1965,
          "index": 1307
         },
         {
          "CountryCode": "FIN",
          "CountryName": "Finland",
          "Total Population": 4563732,
          "Urban population (% of total)": 59.658,
          "Year": 1965,
          "index": 1308
         },
         {
          "CountryCode": "FRA",
          "CountryName": "France",
          "Total Population": 50023774,
          "Urban population (% of total)": 67.071,
          "Year": 1965,
          "index": 1309
         },
         {
          "CountryCode": "PYF",
          "CountryName": "French Polynesia",
          "Total Population": 93440,
          "Urban population (% of total)": 48.178,
          "Year": 1965,
          "index": 1310
         },
         {
          "CountryCode": "GAB",
          "CountryName": "Gabon",
          "Total Population": 532512,
          "Urban population (% of total)": 23.775,
          "Year": 1965,
          "index": 1311
         },
         {
          "CountryCode": "GMB",
          "CountryName": "Gambia, The",
          "Total Population": 400865,
          "Urban population (% of total)": 14.533,
          "Year": 1965,
          "index": 1312
         },
         {
          "CountryCode": "GEO",
          "CountryName": "Georgia",
          "Total Population": 3921600,
          "Urban population (% of total)": 45.534,
          "Year": 1965,
          "index": 1313
         },
         {
          "CountryCode": "DEU",
          "CountryName": "Germany",
          "Total Population": 75963695,
          "Urban population (% of total)": 71.955,
          "Year": 1965,
          "index": 1314
         },
         {
          "CountryCode": "GHA",
          "CountryName": "Ghana",
          "Total Population": 7710547,
          "Urban population (% of total)": 26.067,
          "Year": 1965,
          "index": 1315
         },
         {
          "CountryCode": "GRC",
          "CountryName": "Greece",
          "Total Population": 8550333,
          "Urban population (% of total)": 59.969,
          "Year": 1965,
          "index": 1316
         },
         {
          "CountryCode": "GRL",
          "CountryName": "Greenland",
          "Total Population": 39200,
          "Urban population (% of total)": 66.05,
          "Year": 1965,
          "index": 1317
         },
         {
          "CountryCode": "GRD",
          "CountryName": "Grenada",
          "Total Population": 94579,
          "Urban population (% of total)": 31.274,
          "Year": 1965,
          "index": 1318
         },
         {
          "CountryCode": "GUM",
          "CountryName": "Guam",
          "Total Population": 74827,
          "Urban population (% of total)": 55.548,
          "Year": 1965,
          "index": 1319
         },
         {
          "CountryCode": "GTM",
          "CountryName": "Guatemala",
          "Total Population": 4728203,
          "Urban population (% of total)": 33.989,
          "Year": 1965,
          "index": 1320
         },
         {
          "CountryCode": "GIN",
          "CountryName": "Guinea",
          "Total Population": 3877804,
          "Urban population (% of total)": 12.978,
          "Year": 1965,
          "index": 1321
         },
         {
          "CountryCode": "GNB",
          "CountryName": "Guinea-Bissau",
          "Total Population": 652566,
          "Urban population (% of total)": 14.349,
          "Year": 1965,
          "index": 1322
         },
         {
          "CountryCode": "GUY",
          "CountryName": "Guyana",
          "Total Population": 650379,
          "Urban population (% of total)": 29.209,
          "Year": 1965,
          "index": 1323
         },
         {
          "CountryCode": "HTI",
          "CountryName": "Haiti",
          "Total Population": 4271133,
          "Urban population (% of total)": 17.58,
          "Year": 1965,
          "index": 1324
         },
         {
          "CountryCode": "HND",
          "CountryName": "Honduras",
          "Total Population": 2352637,
          "Urban population (% of total)": 25.704,
          "Year": 1965,
          "index": 1325
         },
         {
          "CountryCode": "HKG",
          "CountryName": "Hong Kong SAR, China",
          "Total Population": 3597900,
          "Urban population (% of total)": 86.422,
          "Year": 1965,
          "index": 1326
         },
         {
          "CountryCode": "HUN",
          "CountryName": "Hungary",
          "Total Population": 10147935,
          "Urban population (% of total)": 58.022,
          "Year": 1965,
          "index": 1327
         },
         {
          "CountryCode": "ISL",
          "CountryName": "Iceland",
          "Total Population": 192286,
          "Urban population (% of total)": 82.72,
          "Year": 1965,
          "index": 1328
         },
         {
          "CountryCode": "IND",
          "CountryName": "India",
          "Total Population": 497920270,
          "Urban population (% of total)": 18.785,
          "Year": 1965,
          "index": 1329
         },
         {
          "CountryCode": "IDN",
          "CountryName": "Indonesia",
          "Total Population": 100308896,
          "Urban population (% of total)": 15.789,
          "Year": 1965,
          "index": 1330
         },
         {
          "CountryCode": "IRN",
          "CountryName": "Iran, Islamic Rep.",
          "Total Population": 24955116,
          "Urban population (% of total)": 37.068,
          "Year": 1965,
          "index": 1331
         },
         {
          "CountryCode": "IRQ",
          "CountryName": "Iraq",
          "Total Population": 8375791,
          "Urban population (% of total)": 50.651,
          "Year": 1965,
          "index": 1332
         },
         {
          "CountryCode": "IRL",
          "CountryName": "Ireland",
          "Total Population": 2877300,
          "Urban population (% of total)": 48.709,
          "Year": 1965,
          "index": 1333
         },
         {
          "CountryCode": "IMY",
          "CountryName": "Isle of Man",
          "Total Population": 50713,
          "Urban population (% of total)": 56.305,
          "Year": 1965,
          "index": 1334
         },
         {
          "CountryCode": "ISR",
          "CountryName": "Israel",
          "Total Population": 2563000,
          "Urban population (% of total)": 80.94,
          "Year": 1965,
          "index": 1335
         },
         {
          "CountryCode": "ITA",
          "CountryName": "Italy",
          "Total Population": 52112350,
          "Urban population (% of total)": 61.843,
          "Year": 1965,
          "index": 1336
         },
         {
          "CountryCode": "JAM",
          "CountryName": "Jamaica",
          "Total Population": 1760000,
          "Urban population (% of total)": 37.499,
          "Year": 1965,
          "index": 1337
         },
         {
          "CountryCode": "JPN",
          "CountryName": "Japan",
          "Total Population": 98883000,
          "Urban population (% of total)": 67.866,
          "Year": 1965,
          "index": 1338
         },
         {
          "CountryCode": "JOR",
          "CountryName": "Jordan",
          "Total Population": 1128000,
          "Urban population (% of total)": 54.262,
          "Year": 1965,
          "index": 1339
         },
         {
          "CountryCode": "KAZ",
          "CountryName": "Kazakhstan",
          "Total Population": 11588870,
          "Urban population (% of total)": 47.047,
          "Year": 1965,
          "index": 1340
         },
         {
          "CountryCode": "KEN",
          "CountryName": "Kenya",
          "Total Population": 9504702,
          "Urban population (% of total)": 8.605,
          "Year": 1965,
          "index": 1341
         },
         {
          "CountryCode": "KIR",
          "CountryName": "Kiribati",
          "Total Population": 46455,
          "Urban population (% of total)": 19.625,
          "Year": 1965,
          "index": 1342
         },
         {
          "CountryCode": "PRK",
          "CountryName": "Korea, Dem. Rep.",
          "Total Population": 12547524,
          "Urban population (% of total)": 45.091,
          "Year": 1965,
          "index": 1343
         },
         {
          "CountryCode": "KOR",
          "CountryName": "Korea, Rep.",
          "Total Population": 28704674,
          "Urban population (% of total)": 32.351,
          "Year": 1965,
          "index": 1344
         },
         {
          "CountryCode": "KWT",
          "CountryName": "Kuwait",
          "Total Population": 482173,
          "Urban population (% of total)": 79.273,
          "Year": 1965,
          "index": 1345
         },
         {
          "CountryCode": "KGZ",
          "CountryName": "Kyrgyz Republic",
          "Total Population": 2573300,
          "Urban population (% of total)": 35.851,
          "Year": 1965,
          "index": 1346
         },
         {
          "CountryCode": "LAO",
          "CountryName": "Lao PDR",
          "Total Population": 2381063,
          "Urban population (% of total)": 8.323,
          "Year": 1965,
          "index": 1347
         },
         {
          "CountryCode": "LVA",
          "CountryName": "Latvia",
          "Total Population": 2265919,
          "Urban population (% of total)": 56.832,
          "Year": 1965,
          "index": 1348
         },
         {
          "CountryCode": "LBN",
          "CountryName": "Lebanon",
          "Total Population": 2092354,
          "Urban population (% of total)": 50.935,
          "Year": 1965,
          "index": 1349
         },
         {
          "CountryCode": "LSO",
          "CountryName": "Lesotho",
          "Total Population": 933251,
          "Urban population (% of total)": 6.366,
          "Year": 1965,
          "index": 1350
         },
         {
          "CountryCode": "LBR",
          "CountryName": "Liberia",
          "Total Population": 1252968,
          "Urban population (% of total)": 22.108,
          "Year": 1965,
          "index": 1351
         },
         {
          "CountryCode": "LBY",
          "CountryName": "Libya",
          "Total Population": 1717255,
          "Urban population (% of total)": 33.666,
          "Year": 1965,
          "index": 1352
         },
         {
          "CountryCode": "LIE",
          "CountryName": "Liechtenstein",
          "Total Population": 18647,
          "Urban population (% of total)": 19.471,
          "Year": 1965,
          "index": 1353
         },
         {
          "CountryCode": "LTU",
          "CountryName": "Lithuania",
          "Total Population": 2971450,
          "Urban population (% of total)": 44.45,
          "Year": 1965,
          "index": 1354
         },
         {
          "CountryCode": "LUX",
          "CountryName": "Luxembourg",
          "Total Population": 331500,
          "Urban population (% of total)": 71.958,
          "Year": 1965,
          "index": 1355
         },
         {
          "CountryCode": "MAC",
          "CountryName": "Macao SAR, China",
          "Total Population": 206910,
          "Urban population (% of total)": 96.177,
          "Year": 1965,
          "index": 1356
         },
         {
          "CountryCode": "MKD",
          "CountryName": "Macedonia, FYR",
          "Total Population": 1592434,
          "Urban population (% of total)": 40.355,
          "Year": 1965,
          "index": 1357
         },
         {
          "CountryCode": "MDG",
          "CountryName": "Madagascar",
          "Total Population": 5769219,
          "Urban population (% of total)": 12.379,
          "Year": 1965,
          "index": 1358
         },
         {
          "CountryCode": "MWI",
          "CountryName": "Malawi",
          "Total Population": 4058680,
          "Urban population (% of total)": 4.908,
          "Year": 1965,
          "index": 1359
         },
         {
          "CountryCode": "MYS",
          "CountryName": "Malaysia",
          "Total Population": 9569784,
          "Urban population (% of total)": 29.913,
          "Year": 1965,
          "index": 1360
         },
         {
          "CountryCode": "MDV",
          "CountryName": "Maldives",
          "Total Population": 102723,
          "Urban population (% of total)": 11.458,
          "Year": 1965,
          "index": 1361
         },
         {
          "CountryCode": "MLI",
          "CountryName": "Mali",
          "Total Population": 5568485,
          "Urban population (% of total)": 12.608,
          "Year": 1965,
          "index": 1362
         },
         {
          "CountryCode": "MLT",
          "CountryName": "Malta",
          "Total Population": 318800,
          "Urban population (% of total)": 89.825,
          "Year": 1965,
          "index": 1363
         },
         {
          "CountryCode": "MHL",
          "CountryName": "Marshall Islands",
          "Total Population": 17283,
          "Urban population (% of total)": 42.663,
          "Year": 1965,
          "index": 1364
         },
         {
          "CountryCode": "MRT",
          "CountryName": "Mauritania",
          "Total Population": 992368,
          "Urban population (% of total)": 10.09,
          "Year": 1965,
          "index": 1365
         },
         {
          "CountryCode": "MUS",
          "CountryName": "Mauritius",
          "Total Population": 753000,
          "Urban population (% of total)": 36.999,
          "Year": 1965,
          "index": 1366
         },
         {
          "CountryCode": "MEX",
          "CountryName": "Mexico",
          "Total Population": 44623041,
          "Urban population (% of total)": 54.931,
          "Year": 1965,
          "index": 1367
         },
         {
          "CountryCode": "FSM",
          "CountryName": "Micronesia, Fed. Sts.",
          "Total Population": 52238,
          "Urban population (% of total)": 23.537,
          "Year": 1965,
          "index": 1368
         },
         {
          "CountryCode": "MDA",
          "CountryName": "Moldova",
          "Total Population": 2825000,
          "Urban population (% of total)": 27.566,
          "Year": 1965,
          "index": 1369
         },
         {
          "CountryCode": "MCO",
          "CountryName": "Monaco",
          "Total Population": 23283,
          "Urban population (% of total)": 100,
          "Year": 1965,
          "index": 1370
         },
         {
          "CountryCode": "MNG",
          "CountryName": "Mongolia",
          "Total Population": 1107125,
          "Urban population (% of total)": 42.114,
          "Year": 1965,
          "index": 1371
         },
         {
          "CountryCode": "MNE",
          "CountryName": "Montenegro",
          "Total Population": 501768,
          "Urban population (% of total)": 22.566,
          "Year": 1965,
          "index": 1372
         },
         {
          "CountryCode": "MAR",
          "CountryName": "Morocco",
          "Total Population": 14248426,
          "Urban population (% of total)": 31.862,
          "Year": 1965,
          "index": 1373
         },
         {
          "CountryCode": "MOZ",
          "CountryName": "Mozambique",
          "Total Population": 8302736,
          "Urban population (% of total)": 5.771,
          "Year": 1965,
          "index": 1374
         },
         {
          "CountryCode": "MMR",
          "CountryName": "Myanmar",
          "Total Population": 24023640,
          "Urban population (% of total)": 20.971,
          "Year": 1965,
          "index": 1375
         },
         {
          "CountryCode": "NAM",
          "CountryName": "Namibia",
          "Total Population": 682553,
          "Urban population (% of total)": 20.035,
          "Year": 1965,
          "index": 1376
         },
         {
          "CountryCode": "NPL",
          "CountryName": "Nepal",
          "Total Population": 10905006,
          "Urban population (% of total)": 3.737,
          "Year": 1965,
          "index": 1377
         },
         {
          "CountryCode": "NLD",
          "CountryName": "Netherlands",
          "Total Population": 12294732,
          "Urban population (% of total)": 60.753,
          "Year": 1965,
          "index": 1378
         },
         {
          "CountryCode": "NCL",
          "CountryName": "New Caledonia",
          "Total Population": 90500,
          "Urban population (% of total)": 44.646,
          "Year": 1965,
          "index": 1379
         },
         {
          "CountryCode": "NZL",
          "CountryName": "New Zealand",
          "Total Population": 2628400,
          "Urban population (% of total)": 78.891,
          "Year": 1965,
          "index": 1380
         },
         {
          "CountryCode": "NIC",
          "CountryName": "Nicaragua",
          "Total Population": 2062633,
          "Urban population (% of total)": 42.707,
          "Year": 1965,
          "index": 1381
         },
         {
          "CountryCode": "NER",
          "CountryName": "Niger",
          "Total Population": 3921581,
          "Urban population (% of total)": 6.809,
          "Year": 1965,
          "index": 1382
         },
         {
          "CountryCode": "NGA",
          "CountryName": "Nigeria",
          "Total Population": 50238569,
          "Urban population (% of total)": 16.551,
          "Year": 1965,
          "index": 1383
         },
         {
          "CountryCode": "MNP",
          "CountryName": "Northern Mariana Islands",
          "Total Population": 11157,
          "Urban population (% of total)": 58.759,
          "Year": 1965,
          "index": 1384
         },
         {
          "CountryCode": "NOR",
          "CountryName": "Norway",
          "Total Population": 3723168,
          "Urban population (% of total)": 57.568,
          "Year": 1965,
          "index": 1385
         },
         {
          "CountryCode": "OMN",
          "CountryName": "Oman",
          "Total Population": 625007,
          "Urban population (% of total)": 22.338,
          "Year": 1965,
          "index": 1386
         },
         {
          "CountryCode": "PAK",
          "CountryName": "Pakistan",
          "Total Population": 50848775,
          "Urban population (% of total)": 23.511,
          "Year": 1965,
          "index": 1387
         },
         {
          "CountryCode": "PLW",
          "CountryName": "Palau",
          "Total Population": 10782,
          "Urban population (% of total)": 58.276,
          "Year": 1965,
          "index": 1388
         },
         {
          "CountryCode": "PAN",
          "CountryName": "Panama",
          "Total Population": 1314627,
          "Urban population (% of total)": 44.431,
          "Year": 1965,
          "index": 1389
         },
         {
          "CountryCode": "PNG",
          "CountryName": "Papua New Guinea",
          "Total Population": 2161103,
          "Urban population (% of total)": 5.47,
          "Year": 1965,
          "index": 1390
         },
         {
          "CountryCode": "PRY",
          "CountryName": "Paraguay",
          "Total Population": 2170853,
          "Urban population (% of total)": 36.243,
          "Year": 1965,
          "index": 1391
         },
         {
          "CountryCode": "PER",
          "CountryName": "Peru",
          "Total Population": 11607684,
          "Urban population (% of total)": 51.868,
          "Year": 1965,
          "index": 1392
         },
         {
          "CountryCode": "PHL",
          "CountryName": "Philippines",
          "Total Population": 30913931,
          "Urban population (% of total)": 31.604,
          "Year": 1965,
          "index": 1393
         },
         {
          "CountryCode": "POL",
          "CountryName": "Poland",
          "Total Population": 31444950,
          "Urban population (% of total)": 50.126,
          "Year": 1965,
          "index": 1394
         },
         {
          "CountryCode": "PRT",
          "CountryName": "Portugal",
          "Total Population": 8998595,
          "Urban population (% of total)": 36.866,
          "Year": 1965,
          "index": 1395
         },
         {
          "CountryCode": "PRI",
          "CountryName": "Puerto Rico",
          "Total Population": 2594000,
          "Urban population (% of total)": 51.524,
          "Year": 1965,
          "index": 1396
         },
         {
          "CountryCode": "QAT",
          "CountryName": "Qatar",
          "Total Population": 73543,
          "Urban population (% of total)": 87.054,
          "Year": 1965,
          "index": 1397
         },
         {
          "CountryCode": "ROM",
          "CountryName": "Romania",
          "Total Population": 19031576,
          "Urban population (% of total)": 37.697,
          "Year": 1965,
          "index": 1398
         },
         {
          "CountryCode": "RUS",
          "CountryName": "Russian Federation",
          "Total Population": 126745000,
          "Urban population (% of total)": 58.173,
          "Year": 1965,
          "index": 1399
         },
         {
          "CountryCode": "RWA",
          "CountryName": "Rwanda",
          "Total Population": 3232937,
          "Urban population (% of total)": 2.882,
          "Year": 1965,
          "index": 1400
         },
         {
          "CountryCode": "WSM",
          "CountryName": "Samoa",
          "Total Population": 127068,
          "Urban population (% of total)": 19.301,
          "Year": 1965,
          "index": 1401
         },
         {
          "CountryCode": "SMR",
          "CountryName": "San Marino",
          "Total Population": 17440,
          "Urban population (% of total)": 54.402,
          "Year": 1965,
          "index": 1402
         },
         {
          "CountryCode": "STP",
          "CountryName": "Sao Tome and Principe",
          "Total Population": 64797,
          "Urban population (% of total)": 21.833,
          "Year": 1965,
          "index": 1403
         },
         {
          "CountryCode": "SAU",
          "CountryName": "Saudi Arabia",
          "Total Population": 4843635,
          "Urban population (% of total)": 38.769,
          "Year": 1965,
          "index": 1404
         },
         {
          "CountryCode": "SEN",
          "CountryName": "Senegal",
          "Total Population": 3649308,
          "Urban population (% of total)": 26.351,
          "Year": 1965,
          "index": 1405
         },
         {
          "CountryCode": "SYC",
          "CountryName": "Seychelles",
          "Total Population": 47500,
          "Urban population (% of total)": 33.123,
          "Year": 1965,
          "index": 1406
         },
         {
          "CountryCode": "SLE",
          "CountryName": "Sierra Leone",
          "Total Population": 2332999,
          "Urban population (% of total)": 20.379,
          "Year": 1965,
          "index": 1407
         },
         {
          "CountryCode": "SGP",
          "CountryName": "Singapore",
          "Total Population": 1886900,
          "Urban population (% of total)": 100,
          "Year": 1965,
          "index": 1408
         },
         {
          "CountryCode": "SVK",
          "CountryName": "Slovak Republic",
          "Total Population": 4370983,
          "Urban population (% of total)": 37.043,
          "Year": 1965,
          "index": 1409
         },
         {
          "CountryCode": "SVN",
          "CountryName": "Slovenia",
          "Total Population": 1649160,
          "Urban population (% of total)": 32.497,
          "Year": 1965,
          "index": 1410
         },
         {
          "CountryCode": "SLB",
          "CountryName": "Solomon Islands",
          "Total Population": 136847,
          "Urban population (% of total)": 7.245,
          "Year": 1965,
          "index": 1411
         },
         {
          "CountryCode": "SOM",
          "CountryName": "Somalia",
          "Total Population": 3069558,
          "Urban population (% of total)": 19.964,
          "Year": 1965,
          "index": 1412
         },
         {
          "CountryCode": "ZAF",
          "CountryName": "South Africa",
          "Total Population": 19832000,
          "Urban population (% of total)": 47.248,
          "Year": 1965,
          "index": 1413
         },
         {
          "CountryCode": "SSD",
          "CountryName": "South Sudan",
          "Total Population": 3263767,
          "Urban population (% of total)": 8.69,
          "Year": 1965,
          "index": 1414
         },
         {
          "CountryCode": "ESP",
          "CountryName": "Spain",
          "Total Population": 31954292,
          "Urban population (% of total)": 61.278,
          "Year": 1965,
          "index": 1415
         },
         {
          "CountryCode": "LKA",
          "CountryName": "Sri Lanka",
          "Total Population": 11164000,
          "Urban population (% of total)": 17.626,
          "Year": 1965,
          "index": 1416
         },
         {
          "CountryCode": "KNA",
          "CountryName": "St. Kitts and Nevis",
          "Total Population": 49211,
          "Urban population (% of total)": 30.855,
          "Year": 1965,
          "index": 1417
         },
         {
          "CountryCode": "LCA",
          "CountryName": "St. Lucia",
          "Total Population": 96303,
          "Urban population (% of total)": 22.66,
          "Year": 1965,
          "index": 1418
         },
         {
          "CountryCode": "VCT",
          "CountryName": "St. Vincent and the Grenadines",
          "Total Population": 85972,
          "Urban population (% of total)": 28.252,
          "Year": 1965,
          "index": 1419
         },
         {
          "CountryCode": "SDN",
          "CountryName": "Sudan",
          "Total Population": 8738703,
          "Urban population (% of total)": 13.373,
          "Year": 1965,
          "index": 1420
         },
         {
          "CountryCode": "SUR",
          "CountryName": "Suriname",
          "Total Population": 331799,
          "Urban population (% of total)": 47.109,
          "Year": 1965,
          "index": 1421
         },
         {
          "CountryCode": "SWZ",
          "CountryName": "Swaziland",
          "Total Population": 391659,
          "Urban population (% of total)": 6.494,
          "Year": 1965,
          "index": 1422
         },
         {
          "CountryCode": "SWE",
          "CountryName": "Sweden",
          "Total Population": 7733853,
          "Urban population (% of total)": 77.056,
          "Year": 1965,
          "index": 1423
         },
         {
          "CountryCode": "CHE",
          "CountryName": "Switzerland",
          "Total Population": 5856472,
          "Urban population (% of total)": 54.217,
          "Year": 1965,
          "index": 1424
         },
         {
          "CountryCode": "SYR",
          "CountryName": "Syrian Arab Republic",
          "Total Population": 5398333,
          "Urban population (% of total)": 40.006,
          "Year": 1965,
          "index": 1425
         },
         {
          "CountryCode": "TJK",
          "CountryName": "Tajikistan",
          "Total Population": 2489648,
          "Urban population (% of total)": 35.152,
          "Year": 1965,
          "index": 1426
         },
         {
          "CountryCode": "TZA",
          "CountryName": "Tanzania",
          "Total Population": 11683511,
          "Urban population (% of total)": 6.03,
          "Year": 1965,
          "index": 1427
         },
         {
          "CountryCode": "THA",
          "CountryName": "Thailand",
          "Total Population": 31822798,
          "Urban population (% of total)": 20.221,
          "Year": 1965,
          "index": 1428
         },
         {
          "CountryCode": "TMP",
          "CountryName": "Timor-Leste",
          "Total Population": 547035,
          "Urban population (% of total)": 11.353,
          "Year": 1965,
          "index": 1429
         },
         {
          "CountryCode": "TGO",
          "CountryName": "Togo",
          "Total Population": 1708632,
          "Urban population (% of total)": 14.95,
          "Year": 1965,
          "index": 1430
         },
         {
          "CountryCode": "TON",
          "CountryName": "Tonga",
          "Total Population": 74363,
          "Urban population (% of total)": 19.499,
          "Year": 1965,
          "index": 1431
         },
         {
          "CountryCode": "TTO",
          "CountryName": "Trinidad and Tobago",
          "Total Population": 912419,
          "Urban population (% of total)": 14.347,
          "Year": 1965,
          "index": 1432
         },
         {
          "CountryCode": "TUN",
          "CountryName": "Tunisia",
          "Total Population": 4630000,
          "Urban population (% of total)": 39.724,
          "Year": 1965,
          "index": 1433
         },
         {
          "CountryCode": "TUR",
          "CountryName": "Turkey",
          "Total Population": 31000167,
          "Urban population (% of total)": 34.227,
          "Year": 1965,
          "index": 1434
         },
         {
          "CountryCode": "TKM",
          "CountryName": "Turkmenistan",
          "Total Population": 1890000,
          "Urban population (% of total)": 47.139,
          "Year": 1965,
          "index": 1435
         },
         {
          "CountryCode": "TCA",
          "CountryName": "Turks and Caicos Islands",
          "Total Population": 5669,
          "Urban population (% of total)": 49.392,
          "Year": 1965,
          "index": 1436
         },
         {
          "CountryCode": "TUV",
          "CountryName": "Tuvalu",
          "Total Population": 6819,
          "Urban population (% of total)": 18.793,
          "Year": 1965,
          "index": 1437
         },
         {
          "CountryCode": "UGA",
          "CountryName": "Uganda",
          "Total Population": 8014376,
          "Urban population (% of total)": 5.509,
          "Year": 1965,
          "index": 1438
         },
         {
          "CountryCode": "UKR",
          "CountryName": "Ukraine",
          "Total Population": 45261939,
          "Urban population (% of total)": 50.649,
          "Year": 1965,
          "index": 1439
         },
         {
          "CountryCode": "ARE",
          "CountryName": "United Arab Emirates",
          "Total Population": 150318,
          "Urban population (% of total)": 77.723,
          "Year": 1965,
          "index": 1440
         },
         {
          "CountryCode": "GBR",
          "CountryName": "United Kingdom",
          "Total Population": 54348050,
          "Urban population (% of total)": 77.821,
          "Year": 1965,
          "index": 1441
         },
         {
          "CountryCode": "USA",
          "CountryName": "United States",
          "Total Population": 194303000,
          "Urban population (% of total)": 71.879,
          "Year": 1965,
          "index": 1442
         },
         {
          "CountryCode": "URY",
          "CountryName": "Uruguay",
          "Total Population": 2694535,
          "Urban population (% of total)": 81.328,
          "Year": 1965,
          "index": 1443
         },
         {
          "CountryCode": "UZB",
          "CountryName": "Uzbekistan",
          "Total Population": 10233502,
          "Urban population (% of total)": 35.289,
          "Year": 1965,
          "index": 1444
         },
         {
          "CountryCode": "VUT",
          "CountryName": "Vanuatu",
          "Total Population": 74287,
          "Urban population (% of total)": 11.329,
          "Year": 1965,
          "index": 1445
         },
         {
          "CountryCode": "VEN",
          "CountryName": "Venezuela, RB",
          "Total Population": 9824694,
          "Urban population (% of total)": 67.022,
          "Year": 1965,
          "index": 1446
         },
         {
          "CountryCode": "VNM",
          "CountryName": "Vietnam",
          "Total Population": 38341000,
          "Urban population (% of total)": 16.421,
          "Year": 1965,
          "index": 1447
         },
         {
          "CountryCode": "VIR",
          "CountryName": "Virgin Islands (U.S.)",
          "Total Population": 44000,
          "Urban population (% of total)": 63.279,
          "Year": 1965,
          "index": 1448
         },
         {
          "CountryCode": "YEM",
          "CountryName": "Yemen, Rep.",
          "Total Population": 5619170,
          "Urban population (% of total)": 11.026,
          "Year": 1965,
          "index": 1449
         },
         {
          "CountryCode": "ZMB",
          "CountryName": "Zambia",
          "Total Population": 3559687,
          "Urban population (% of total)": 23.372,
          "Year": 1965,
          "index": 1450
         },
         {
          "CountryCode": "ZWE",
          "CountryName": "Zimbabwe",
          "Total Population": 4422132,
          "Urban population (% of total)": 14.62,
          "Year": 1965,
          "index": 1451
         },
         {
          "CountryCode": "ARB",
          "CountryName": "Arab World",
          "Total Population": 109200085,
          "Urban population (% of total)": 35.9921468119,
          "Year": 1966,
          "index": 1452
         },
         {
          "CountryCode": "CSS",
          "CountryName": "Caribbean small states",
          "Total Population": 4653340,
          "Urban population (% of total)": 33.1214907329,
          "Year": 1966,
          "index": 1453
         },
         {
          "CountryCode": "CEB",
          "CountryName": "Central Europe and the Baltics",
          "Total Population": 96148635,
          "Urban population (% of total)": 48.5050971918,
          "Year": 1966,
          "index": 1454
         },
         {
          "CountryCode": "EAS",
          "CountryName": "East Asia & Pacific (all income levels)",
          "Total Population": 1166335496,
          "Urban population (% of total)": 24.5822213568,
          "Year": 1966,
          "index": 1455
         },
         {
          "CountryCode": "EAP",
          "CountryName": "East Asia & Pacific (developing only)",
          "Total Population": 1003576772,
          "Urban population (% of total)": 18.707577847,
          "Year": 1966,
          "index": 1456
         },
         {
          "CountryCode": "EMU",
          "CountryName": "Euro area",
          "Total Population": 280147497,
          "Urban population (% of total)": 65.3005335147,
          "Year": 1966,
          "index": 1457
         },
         {
          "CountryCode": "ECS",
          "CountryName": "Europe & Central Asia (all income levels)",
          "Total Population": 713300925,
          "Urban population (% of total)": 58.7057406026,
          "Year": 1966,
          "index": 1458
         },
         {
          "CountryCode": "ECA",
          "CountryName": "Europe & Central Asia (developing only)",
          "Total Population": 172561422,
          "Urban population (% of total)": 42.2742954024,
          "Year": 1966,
          "index": 1459
         },
         {
          "CountryCode": "EUU",
          "CountryName": "European Union",
          "Total Population": 430868375,
          "Urban population (% of total)": 64.0826213496,
          "Year": 1966,
          "index": 1460
         },
         {
          "CountryCode": "FCS",
          "CountryName": "Fragile and conflict affected situations",
          "Total Population": 138912443,
          "Urban population (% of total)": 21.1593194039,
          "Year": 1966,
          "index": 1461
         },
         {
          "CountryCode": "HPC",
          "CountryName": "Heavily indebted poor countries (HIPC)",
          "Total Population": 187962262,
          "Urban population (% of total)": 14.5263463904,
          "Year": 1966,
          "index": 1462
         },
         {
          "CountryCode": "HIC",
          "CountryName": "High income",
          "Total Population": 978656256,
          "Urban population (% of total)": 66.1250945887,
          "Year": 1966,
          "index": 1463
         },
         {
          "CountryCode": "NOC",
          "CountryName": "High income: nonOECD",
          "Total Population": 204307185,
          "Urban population (% of total)": 61.2869402237,
          "Year": 1966,
          "index": 1464
         },
         {
          "CountryCode": "OEC",
          "CountryName": "High income: OECD",
          "Total Population": 774349071,
          "Urban population (% of total)": 67.3201107723,
          "Year": 1966,
          "index": 1465
         },
         {
          "CountryCode": "LCN",
          "CountryName": "Latin America & Caribbean (all income levels)",
          "Total Population": 259965218,
          "Urban population (% of total)": 54.0048571855,
          "Year": 1966,
          "index": 1466
         },
         {
          "CountryCode": "LAC",
          "CountryName": "Latin America & Caribbean (developing only)",
          "Total Population": 211358350,
          "Urban population (% of total)": 49.9527901753,
          "Year": 1966,
          "index": 1467
         },
         {
          "CountryCode": "LDC",
          "CountryName": "Least developed countries: UN classification",
          "Total Population": 278755774,
          "Urban population (% of total)": 11.3298497891,
          "Year": 1966,
          "index": 1468
         },
         {
          "CountryCode": "LMY",
          "CountryName": "Low & middle income",
          "Total Population": 2417141237,
          "Urban population (% of total)": 23.5761239275,
          "Year": 1966,
          "index": 1469
         },
         {
          "CountryCode": "LIC",
          "CountryName": "Low income",
          "Total Population": 179916918,
          "Urban population (% of total)": 13.3251509549,
          "Year": 1966,
          "index": 1470
         },
         {
          "CountryCode": "LMC",
          "CountryName": "Lower middle income",
          "Total Population": 1081099176,
          "Urban population (% of total)": 21.3995782613,
          "Year": 1966,
          "index": 1471
         },
         {
          "CountryCode": "MEA",
          "CountryName": "Middle East & North Africa (all income levels)",
          "Total Population": 124380163,
          "Urban population (% of total)": 39.6808648051,
          "Year": 1966,
          "index": 1472
         },
         {
          "CountryCode": "MNA",
          "CountryName": "Middle East & North Africa (developing only)",
          "Total Population": 114812171,
          "Urban population (% of total)": 38.2773853981,
          "Year": 1966,
          "index": 1473
         },
         {
          "CountryCode": "MIC",
          "CountryName": "Middle income",
          "Total Population": 2237224319,
          "Urban population (% of total)": 24.4009118862,
          "Year": 1966,
          "index": 1474
         },
         {
          "CountryCode": "NAC",
          "CountryName": "North America",
          "Total Population": 216659000,
          "Urban population (% of total)": 72.3826157049,
          "Year": 1966,
          "index": 1475
         },
         {
          "CountryCode": "OED",
          "CountryName": "OECD members",
          "Total Population": 852078296,
          "Urban population (% of total)": 65.4909346492,
          "Year": 1966,
          "index": 1476
         },
         {
          "CountryCode": "OSS",
          "CountryName": "Other small states",
          "Total Population": 7439301,
          "Urban population (% of total)": 17.7509644378,
          "Year": 1966,
          "index": 1477
         },
         {
          "CountryCode": "PSS",
          "CountryName": "Pacific island small states",
          "Total Population": 1038622,
          "Urban population (% of total)": 24.6803665164,
          "Year": 1966,
          "index": 1478
         },
         {
          "CountryCode": "SST",
          "CountryName": "Small states",
          "Total Population": 13131263,
          "Urban population (% of total)": 23.7459181811,
          "Year": 1966,
          "index": 1479
         },
         {
          "CountryCode": "SAS",
          "CountryName": "South Asia",
          "Total Population": 651325994,
          "Urban population (% of total)": 17.831569253,
          "Year": 1966,
          "index": 1480
         },
         {
          "CountryCode": "SSF",
          "CountryName": "Sub-Saharan Africa (all income levels)",
          "Total Population": 263830697,
          "Urban population (% of total)": 16.6026145689,
          "Year": 1966,
          "index": 1481
         },
         {
          "CountryCode": "SSA",
          "CountryName": "Sub-Saharan Africa (developing only)",
          "Total Population": 263506528,
          "Urban population (% of total)": 16.5889052277,
          "Year": 1966,
          "index": 1482
         },
         {
          "CountryCode": "UMC",
          "CountryName": "Upper middle income",
          "Total Population": 1156125143,
          "Urban population (% of total)": 27.204604768,
          "Year": 1966,
          "index": 1483
         },
         {
          "CountryCode": "WLD",
          "CountryName": "World",
          "Total Population": 3395797493,
          "Urban population (% of total)": 35.7257641433,
          "Year": 1966,
          "index": 1484
         },
         {
          "CountryCode": "AFG",
          "CountryName": "Afghanistan",
          "Total Population": 10148841,
          "Urban population (% of total)": 10.085,
          "Year": 1966,
          "index": 1485
         },
         {
          "CountryCode": "ALB",
          "CountryName": "Albania",
          "Total Population": 1914573,
          "Urban population (% of total)": 31.302,
          "Year": 1966,
          "index": 1486
         },
         {
          "CountryCode": "DZA",
          "CountryName": "Algeria",
          "Total Population": 12980269,
          "Urban population (% of total)": 38.84,
          "Year": 1966,
          "index": 1487
         },
         {
          "CountryCode": "ASM",
          "CountryName": "American Samoa",
          "Total Population": 24320,
          "Urban population (% of total)": 68.75,
          "Year": 1966,
          "index": 1488
         },
         {
          "CountryCode": "ADO",
          "CountryName": "Andorra",
          "Total Population": 19646,
          "Urban population (% of total)": 72.593,
          "Year": 1966,
          "index": 1489
         },
         {
          "CountryCode": "AGO",
          "CountryName": "Angola",
          "Total Population": 5863568,
          "Urban population (% of total)": 12.965,
          "Year": 1966,
          "index": 1490
         },
         {
          "CountryCode": "ATG",
          "CountryName": "Antigua and Barbuda",
          "Total Population": 60818,
          "Urban population (% of total)": 36.012,
          "Year": 1966,
          "index": 1491
         },
         {
          "CountryCode": "ARG",
          "CountryName": "Argentina",
          "Total Population": 22608747,
          "Urban population (% of total)": 76.888,
          "Year": 1966,
          "index": 1492
         },
         {
          "CountryCode": "ARM",
          "CountryName": "Armenia",
          "Total Population": 2269475,
          "Urban population (% of total)": 56.483,
          "Year": 1966,
          "index": 1493
         },
         {
          "CountryCode": "ABW",
          "CountryName": "Aruba",
          "Total Population": 57712,
          "Urban population (% of total)": 50.685,
          "Year": 1966,
          "index": 1494
         },
         {
          "CountryCode": "AUS",
          "CountryName": "Australia",
          "Total Population": 11651000,
          "Urban population (% of total)": 83.855,
          "Year": 1966,
          "index": 1495
         },
         {
          "CountryCode": "AUT",
          "CountryName": "Austria",
          "Total Population": 7322066,
          "Urban population (% of total)": 65.061,
          "Year": 1966,
          "index": 1496
         },
         {
          "CountryCode": "AZE",
          "CountryName": "Azerbaijan",
          "Total Population": 4708485,
          "Urban population (% of total)": 50.864,
          "Year": 1966,
          "index": 1497
         },
         {
          "CountryCode": "BHS",
          "CountryName": "Bahamas, The",
          "Total Population": 146364,
          "Urban population (% of total)": 64.04,
          "Year": 1966,
          "index": 1498
         },
         {
          "CountryCode": "BHR",
          "CountryName": "Bahrain",
          "Total Population": 191782,
          "Urban population (% of total)": 82.761,
          "Year": 1966,
          "index": 1499
         },
         {
          "CountryCode": "BGD",
          "CountryName": "Bangladesh",
          "Total Population": 57675529,
          "Urban population (% of total)": 6.467,
          "Year": 1966,
          "index": 1500
         },
         {
          "CountryCode": "BRB",
          "CountryName": "Barbados",
          "Total Population": 236043,
          "Urban population (% of total)": 37.214,
          "Year": 1966,
          "index": 1501
         },
         {
          "CountryCode": "BLR",
          "CountryName": "Belarus",
          "Total Population": 8696496,
          "Urban population (% of total)": 39.269,
          "Year": 1966,
          "index": 1502
         },
         {
          "CountryCode": "BEL",
          "CountryName": "Belgium",
          "Total Population": 9527807,
          "Urban population (% of total)": 93.284,
          "Year": 1966,
          "index": 1503
         },
         {
          "CountryCode": "BLZ",
          "CountryName": "Belize",
          "Total Population": 109344,
          "Urban population (% of total)": 52.17,
          "Year": 1966,
          "index": 1504
         },
         {
          "CountryCode": "BEN",
          "CountryName": "Benin",
          "Total Population": 2681382,
          "Urban population (% of total)": 13.275,
          "Year": 1966,
          "index": 1505
         },
         {
          "CountryCode": "BMU",
          "CountryName": "Bermuda",
          "Total Population": 51000,
          "Urban population (% of total)": 100,
          "Year": 1966,
          "index": 1506
         },
         {
          "CountryCode": "BTN",
          "CountryName": "Bhutan",
          "Total Population": 259270,
          "Urban population (% of total)": 4.94,
          "Year": 1966,
          "index": 1507
         },
         {
          "CountryCode": "BOL",
          "CountryName": "Bolivia",
          "Total Population": 4152665,
          "Urban population (% of total)": 38.559,
          "Year": 1966,
          "index": 1508
         },
         {
          "CountryCode": "BIH",
          "CountryName": "Bosnia and Herzegovina",
          "Total Population": 3574972,
          "Urban population (% of total)": 23.652,
          "Year": 1966,
          "index": 1509
         },
         {
          "CountryCode": "BWA",
          "CountryName": "Botswana",
          "Total Population": 612950,
          "Urban population (% of total)": 4.437,
          "Year": 1966,
          "index": 1510
         },
         {
          "CountryCode": "BRA",
          "CountryName": "Brazil",
          "Total Population": 86494987,
          "Urban population (% of total)": 52.016,
          "Year": 1966,
          "index": 1511
         },
         {
          "CountryCode": "BRN",
          "CountryName": "Brunei Darussalam",
          "Total Population": 107450,
          "Urban population (% of total)": 54.469,
          "Year": 1966,
          "index": 1512
         },
         {
          "CountryCode": "BGR",
          "CountryName": "Bulgaria",
          "Total Population": 8258057,
          "Urban population (% of total)": 47.233,
          "Year": 1966,
          "index": 1513
         },
         {
          "CountryCode": "BFA",
          "CountryName": "Burkina Faso",
          "Total Population": 5256363,
          "Urban population (% of total)": 5.303,
          "Year": 1966,
          "index": 1514
         },
         {
          "CountryCode": "BDI",
          "CountryName": "Burundi",
          "Total Population": 3153879,
          "Urban population (% of total)": 2.395,
          "Year": 1966,
          "index": 1515
         },
         {
          "CountryCode": "CPV",
          "CountryName": "Cabo Verde",
          "Total Population": 239765,
          "Urban population (% of total)": 18.363,
          "Year": 1966,
          "index": 1516
         },
         {
          "CountryCode": "KHM",
          "CountryName": "Cambodia",
          "Total Population": 6588993,
          "Urban population (% of total)": 11,
          "Year": 1966,
          "index": 1517
         },
         {
          "CountryCode": "CMR",
          "CountryName": "Cameroon",
          "Total Population": 6130990,
          "Urban population (% of total)": 17.525,
          "Year": 1966,
          "index": 1518
         },
         {
          "CountryCode": "CAN",
          "CountryName": "Canada",
          "Total Population": 20048000,
          "Urban population (% of total)": 73.642,
          "Year": 1966,
          "index": 1519
         },
         {
          "CountryCode": "CYM",
          "CountryName": "Cayman Islands",
          "Total Population": 8442,
          "Urban population (% of total)": 100,
          "Year": 1966,
          "index": 1520
         },
         {
          "CountryCode": "CAF",
          "CountryName": "Central African Republic",
          "Total Population": 1682874,
          "Urban population (% of total)": 24.252,
          "Year": 1966,
          "index": 1521
         },
         {
          "CountryCode": "TCD",
          "CountryName": "Chad",
          "Total Population": 3373563,
          "Urban population (% of total)": 8.968,
          "Year": 1966,
          "index": 1522
         },
         {
          "CountryCode": "CHI",
          "CountryName": "Channel Islands",
          "Total Population": 116226,
          "Urban population (% of total)": 37.124,
          "Year": 1966,
          "index": 1523
         },
         {
          "CountryCode": "CHL",
          "CountryName": "Chile",
          "Total Population": 8802926,
          "Urban population (% of total)": 72.427,
          "Year": 1966,
          "index": 1524
         },
         {
          "CountryCode": "CHN",
          "CountryName": "China",
          "Total Population": 735400000,
          "Urban population (% of total)": 17.915,
          "Year": 1966,
          "index": 1525
         },
         {
          "CountryCode": "COL",
          "CountryName": "Colombia",
          "Total Population": 19721464,
          "Urban population (% of total)": 51.784,
          "Year": 1966,
          "index": 1526
         },
         {
          "CountryCode": "COM",
          "CountryName": "Comoros",
          "Total Population": 209536,
          "Urban population (% of total)": 18,
          "Year": 1966,
          "index": 1527
         },
         {
          "CountryCode": "ZAR",
          "CountryName": "Congo, Dem. Rep.",
          "Total Population": 17861860,
          "Urban population (% of total)": 23.666,
          "Year": 1966,
          "index": 1528
         },
         {
          "CountryCode": "COG",
          "CountryName": "Congo, Rep.",
          "Total Population": 1190361,
          "Urban population (% of total)": 36.031,
          "Year": 1966,
          "index": 1529
         },
         {
          "CountryCode": "CRI",
          "CountryName": "Costa Rica",
          "Total Population": 1642189,
          "Urban population (% of total)": 36.39,
          "Year": 1966,
          "index": 1530
         },
         {
          "CountryCode": "CIV",
          "CountryName": "Cote d'Ivoire",
          "Total Population": 4400054,
          "Urban population (% of total)": 25.206,
          "Year": 1966,
          "index": 1531
         },
         {
          "CountryCode": "HRV",
          "CountryName": "Croatia",
          "Total Population": 4313000,
          "Urban population (% of total)": 35.997,
          "Year": 1966,
          "index": 1532
         },
         {
          "CountryCode": "CUB",
          "CountryName": "Cuba",
          "Total Population": 8110428,
          "Urban population (% of total)": 59.523,
          "Year": 1966,
          "index": 1533
         },
         {
          "CountryCode": "CUW",
          "CountryName": "Curacao",
          "Total Population": 136682,
          "Urban population (% of total)": 77.003,
          "Year": 1966,
          "index": 1534
         },
         {
          "CountryCode": "CYP",
          "CountryName": "Cyprus",
          "Total Population": 585311,
          "Urban population (% of total)": 38.698,
          "Year": 1966,
          "index": 1535
         },
         {
          "CountryCode": "CZE",
          "CountryName": "Czech Republic",
          "Total Population": 9821040,
          "Urban population (% of total)": 62.498,
          "Year": 1966,
          "index": 1536
         },
         {
          "CountryCode": "DNK",
          "CountryName": "Denmark",
          "Total Population": 4797381,
          "Urban population (% of total)": 77.619,
          "Year": 1966,
          "index": 1537
         },
         {
          "CountryCode": "DJI",
          "CountryName": "Djibouti",
          "Total Population": 122868,
          "Urban population (% of total)": 57.26,
          "Year": 1966,
          "index": 1538
         },
         {
          "CountryCode": "DMA",
          "CountryName": "Dominica",
          "Total Population": 66305,
          "Urban population (% of total)": 38.247,
          "Year": 1966,
          "index": 1539
         },
         {
          "CountryCode": "DOM",
          "CountryName": "Dominican Republic",
          "Total Population": 4001377,
          "Urban population (% of total)": 36.048,
          "Year": 1966,
          "index": 1540
         },
         {
          "CountryCode": "ECU",
          "CountryName": "Ecuador",
          "Total Population": 5405692,
          "Urban population (% of total)": 37.162,
          "Year": 1966,
          "index": 1541
         },
         {
          "CountryCode": "EGY",
          "CountryName": "Egypt, Arab Rep.",
          "Total Population": 31660914,
          "Urban population (% of total)": 40.042,
          "Year": 1966,
          "index": 1542
         },
         {
          "CountryCode": "SLV",
          "CountryName": "El Salvador",
          "Total Population": 3290397,
          "Urban population (% of total)": 39.007,
          "Year": 1966,
          "index": 1543
         },
         {
          "CountryCode": "GNQ",
          "CountryName": "Equatorial Guinea",
          "Total Population": 275470,
          "Urban population (% of total)": 26.592,
          "Year": 1966,
          "index": 1544
         },
         {
          "CountryCode": "ERI",
          "CountryName": "Eritrea",
          "Total Population": 1629333,
          "Urban population (% of total)": 11.737,
          "Year": 1966,
          "index": 1545
         },
         {
          "CountryCode": "EST",
          "CountryName": "Estonia",
          "Total Population": 1308597,
          "Urban population (% of total)": 62.097,
          "Year": 1966,
          "index": 1546
         },
         {
          "CountryCode": "ETH",
          "CountryName": "Ethiopia",
          "Total Population": 25641176,
          "Urban population (% of total)": 7.84,
          "Year": 1966,
          "index": 1547
         },
         {
          "CountryCode": "FRO",
          "CountryName": "Faeroe Islands",
          "Total Population": 36804,
          "Urban population (% of total)": 26.328,
          "Year": 1966,
          "index": 1548
         },
         {
          "CountryCode": "FJI",
          "CountryName": "Fiji",
          "Total Population": 476329,
          "Urban population (% of total)": 33.18,
          "Year": 1966,
          "index": 1549
         },
         {
          "CountryCode": "FIN",
          "CountryName": "Finland",
          "Total Population": 4580869,
          "Urban population (% of total)": 60.48,
          "Year": 1966,
          "index": 1550
         },
         {
          "CountryCode": "FRA",
          "CountryName": "France",
          "Total Population": 50508717,
          "Urban population (% of total)": 68.225,
          "Year": 1966,
          "index": 1551
         },
         {
          "CountryCode": "PYF",
          "CountryName": "French Polynesia",
          "Total Population": 96730,
          "Urban population (% of total)": 49.578,
          "Year": 1966,
          "index": 1552
         },
         {
          "CountryCode": "GAB",
          "CountryName": "Gabon",
          "Total Population": 542562,
          "Urban population (% of total)": 25.297,
          "Year": 1966,
          "index": 1553
         },
         {
          "CountryCode": "GMB",
          "CountryName": "Gambia, The",
          "Total Population": 408182,
          "Urban population (% of total)": 15.433,
          "Year": 1966,
          "index": 1554
         },
         {
          "CountryCode": "GEO",
          "CountryName": "Georgia",
          "Total Population": 3966700,
          "Urban population (% of total)": 46.03,
          "Year": 1966,
          "index": 1555
         },
         {
          "CountryCode": "DEU",
          "CountryName": "Germany",
          "Total Population": 76600311,
          "Urban population (% of total)": 72.019,
          "Year": 1966,
          "index": 1556
         },
         {
          "CountryCode": "GHA",
          "CountryName": "Ghana",
          "Total Population": 7890992,
          "Urban population (% of total)": 26.656,
          "Year": 1966,
          "index": 1557
         },
         {
          "CountryCode": "GRC",
          "CountryName": "Greece",
          "Total Population": 8613651,
          "Urban population (% of total)": 60.833,
          "Year": 1966,
          "index": 1558
         },
         {
          "CountryCode": "GRL",
          "CountryName": "Greenland",
          "Total Population": 40500,
          "Urban population (% of total)": 67.491,
          "Year": 1966,
          "index": 1559
         },
         {
          "CountryCode": "GRD",
          "CountryName": "Grenada",
          "Total Population": 94878,
          "Urban population (% of total)": 31.465,
          "Year": 1966,
          "index": 1560
         },
         {
          "CountryCode": "GUM",
          "CountryName": "Guam",
          "Total Population": 76611,
          "Urban population (% of total)": 56.617,
          "Year": 1966,
          "index": 1561
         },
         {
          "CountryCode": "GTM",
          "CountryName": "Guatemala",
          "Total Population": 4858880,
          "Urban population (% of total)": 34.298,
          "Year": 1966,
          "index": 1562
         },
         {
          "CountryCode": "GIN",
          "CountryName": "Guinea",
          "Total Population": 3948206,
          "Urban population (% of total)": 13.537,
          "Year": 1966,
          "index": 1563
         },
         {
          "CountryCode": "GNB",
          "CountryName": "Guinea-Bissau",
          "Total Population": 662597,
          "Urban population (% of total)": 14.503,
          "Year": 1966,
          "index": 1564
         },
         {
          "CountryCode": "GUY",
          "CountryName": "Guyana",
          "Total Population": 662332,
          "Urban population (% of total)": 29.249,
          "Year": 1966,
          "index": 1565
         },
         {
          "CountryCode": "HTI",
          "CountryName": "Haiti",
          "Total Population": 4357482,
          "Urban population (% of total)": 18.001,
          "Year": 1966,
          "index": 1566
         },
         {
          "CountryCode": "HND",
          "CountryName": "Honduras",
          "Total Population": 2420234,
          "Urban population (% of total)": 26.325,
          "Year": 1966,
          "index": 1567
         },
         {
          "CountryCode": "HKG",
          "CountryName": "Hong Kong SAR, China",
          "Total Population": 3629900,
          "Urban population (% of total)": 86.692,
          "Year": 1966,
          "index": 1568
         },
         {
          "CountryCode": "HUN",
          "CountryName": "Hungary",
          "Total Population": 10178653,
          "Urban population (% of total)": 58.441,
          "Year": 1966,
          "index": 1569
         },
         {
          "CountryCode": "ISL",
          "CountryName": "Iceland",
          "Total Population": 195570,
          "Urban population (% of total)": 83.175,
          "Year": 1966,
          "index": 1570
         },
         {
          "CountryCode": "IND",
          "CountryName": "India",
          "Total Population": 508402908,
          "Urban population (% of total)": 18.977,
          "Year": 1966,
          "index": 1571
         },
         {
          "CountryCode": "IDN",
          "CountryName": "Indonesia",
          "Total Population": 103067352,
          "Urban population (% of total)": 16.039,
          "Year": 1966,
          "index": 1572
         },
         {
          "CountryCode": "IRN",
          "CountryName": "Iran, Islamic Rep.",
          "Total Population": 25624650,
          "Urban population (% of total)": 37.752,
          "Year": 1966,
          "index": 1573
         },
         {
          "CountryCode": "IRQ",
          "CountryName": "Iraq",
          "Total Population": 8651167,
          "Urban population (% of total)": 51.868,
          "Year": 1966,
          "index": 1574
         },
         {
          "CountryCode": "IRL",
          "CountryName": "Ireland",
          "Total Population": 2888800,
          "Urban population (% of total)": 49.323,
          "Year": 1966,
          "index": 1575
         },
         {
          "CountryCode": "IMY",
          "CountryName": "Isle of Man",
          "Total Population": 51776,
          "Urban population (% of total)": 56.47,
          "Year": 1966,
          "index": 1576
         },
         {
          "CountryCode": "ISR",
          "CountryName": "Israel",
          "Total Population": 2629000,
          "Urban population (% of total)": 81.63,
          "Year": 1966,
          "index": 1577
         },
         {
          "CountryCode": "ITA",
          "CountryName": "Italy",
          "Total Population": 52519000,
          "Urban population (% of total)": 62.334,
          "Year": 1966,
          "index": 1578
         },
         {
          "CountryCode": "JAM",
          "CountryName": "Jamaica",
          "Total Population": 1783125,
          "Urban population (% of total)": 38.265,
          "Year": 1966,
          "index": 1579
         },
         {
          "CountryCode": "JPN",
          "CountryName": "Japan",
          "Total Population": 99790000,
          "Urban population (% of total)": 68.704,
          "Year": 1966,
          "index": 1580
         },
         {
          "CountryCode": "JOR",
          "CountryName": "Jordan",
          "Total Population": 1200290,
          "Urban population (% of total)": 54.61,
          "Year": 1966,
          "index": 1581
         },
         {
          "CountryCode": "KAZ",
          "CountryName": "Kazakhstan",
          "Total Population": 11872939,
          "Urban population (% of total)": 47.696,
          "Year": 1966,
          "index": 1582
         },
         {
          "CountryCode": "KEN",
          "CountryName": "Kenya",
          "Total Population": 9822505,
          "Urban population (% of total)": 8.902,
          "Year": 1966,
          "index": 1583
         },
         {
          "CountryCode": "KIR",
          "CountryName": "Kiribati",
          "Total Population": 47461,
          "Urban population (% of total)": 20.351,
          "Year": 1966,
          "index": 1584
         },
         {
          "CountryCode": "PRK",
          "CountryName": "Korea, Dem. Rep.",
          "Total Population": 12864683,
          "Urban population (% of total)": 46.084,
          "Year": 1966,
          "index": 1585
         },
         {
          "CountryCode": "KOR",
          "CountryName": "Korea, Rep.",
          "Total Population": 29435571,
          "Urban population (% of total)": 33.347,
          "Year": 1966,
          "index": 1586
         },
         {
          "CountryCode": "KWT",
          "CountryName": "Kuwait",
          "Total Population": 533521,
          "Urban population (% of total)": 80.716,
          "Year": 1966,
          "index": 1587
         },
         {
          "CountryCode": "KGZ",
          "CountryName": "Kyrgyz Republic",
          "Total Population": 2655300,
          "Urban population (% of total)": 36.19,
          "Year": 1966,
          "index": 1588
         },
         {
          "CountryCode": "LAO",
          "CountryName": "Lao PDR",
          "Total Population": 2437527,
          "Urban population (% of total)": 8.4,
          "Year": 1966,
          "index": 1589
         },
         {
          "CountryCode": "LVA",
          "CountryName": "Latvia",
          "Total Population": 2283217,
          "Urban population (% of total)": 57.617,
          "Year": 1966,
          "index": 1590
         },
         {
          "CountryCode": "LBN",
          "CountryName": "Lebanon",
          "Total Population": 2136640,
          "Urban population (% of total)": 52.664,
          "Year": 1966,
          "index": 1591
         },
         {
          "CountryCode": "LSO",
          "CountryName": "Lesotho",
          "Total Population": 951736,
          "Urban population (% of total)": 7.065,
          "Year": 1966,
          "index": 1592
         },
         {
          "CountryCode": "LBR",
          "CountryName": "Liberia",
          "Total Population": 1283304,
          "Urban population (% of total)": 22.856,
          "Year": 1966,
          "index": 1593
         },
         {
          "CountryCode": "LBY",
          "CountryName": "Libya",
          "Total Population": 1787080,
          "Urban population (% of total)": 36.698,
          "Year": 1966,
          "index": 1594
         },
         {
          "CountryCode": "LIE",
          "CountryName": "Liechtenstein",
          "Total Population": 19156,
          "Urban population (% of total)": 19.264,
          "Year": 1966,
          "index": 1595
         },
         {
          "CountryCode": "LTU",
          "CountryName": "Lithuania",
          "Total Population": 3008050,
          "Urban population (% of total)": 45.465,
          "Year": 1966,
          "index": 1596
         },
         {
          "CountryCode": "LUX",
          "CountryName": "Luxembourg",
          "Total Population": 333895,
          "Urban population (% of total)": 72.452,
          "Year": 1966,
          "index": 1597
         },
         {
          "CountryCode": "MAC",
          "CountryName": "Macao SAR, China",
          "Total Population": 216873,
          "Urban population (% of total)": 96.365,
          "Year": 1966,
          "index": 1598
         },
         {
          "CountryCode": "MKD",
          "CountryName": "Macedonia, FYR",
          "Total Population": 1617797,
          "Urban population (% of total)": 41.68,
          "Year": 1966,
          "index": 1599
         },
         {
          "CountryCode": "MDG",
          "CountryName": "Madagascar",
          "Total Population": 5918060,
          "Urban population (% of total)": 12.747,
          "Year": 1966,
          "index": 1600
         },
         {
          "CountryCode": "MWI",
          "CountryName": "Malawi",
          "Total Population": 4158132,
          "Urban population (% of total)": 5.018,
          "Year": 1966,
          "index": 1601
         },
         {
          "CountryCode": "MYS",
          "CountryName": "Malaysia",
          "Total Population": 9844116,
          "Urban population (% of total)": 30.604,
          "Year": 1966,
          "index": 1602
         },
         {
          "CountryCode": "MDV",
          "CountryName": "Maldives",
          "Total Population": 105145,
          "Urban population (% of total)": 11.393,
          "Year": 1966,
          "index": 1603
         },
         {
          "CountryCode": "MLI",
          "CountryName": "Mali",
          "Total Population": 5635859,
          "Urban population (% of total)": 12.938,
          "Year": 1966,
          "index": 1604
         },
         {
          "CountryCode": "MLT",
          "CountryName": "Malta",
          "Total Population": 315200,
          "Urban population (% of total)": 89.764,
          "Year": 1966,
          "index": 1605
         },
         {
          "CountryCode": "MHL",
          "CountryName": "Marshall Islands",
          "Total Population": 17840,
          "Urban population (% of total)": 44.126,
          "Year": 1966,
          "index": 1606
         },
         {
          "CountryCode": "MRT",
          "CountryName": "Mauritania",
          "Total Population": 1021880,
          "Urban population (% of total)": 10.874,
          "Year": 1966,
          "index": 1607
         },
         {
          "CountryCode": "MUS",
          "CountryName": "Mauritius",
          "Total Population": 768813,
          "Urban population (% of total)": 37.987,
          "Year": 1966,
          "index": 1608
         },
         {
          "CountryCode": "MEX",
          "CountryName": "Mexico",
          "Total Population": 46010959,
          "Urban population (% of total)": 55.761,
          "Year": 1966,
          "index": 1609
         },
         {
          "CountryCode": "FSM",
          "CountryName": "Micronesia, Fed. Sts.",
          "Total Population": 54201,
          "Urban population (% of total)": 23.788,
          "Year": 1966,
          "index": 1610
         },
         {
          "CountryCode": "MDA",
          "CountryName": "Moldova",
          "Total Population": 2873000,
          "Urban population (% of total)": 28.447,
          "Year": 1966,
          "index": 1611
         },
         {
          "CountryCode": "MCO",
          "CountryName": "Monaco",
          "Total Population": 23304,
          "Urban population (% of total)": 100,
          "Year": 1966,
          "index": 1612
         },
         {
          "CountryCode": "MNG",
          "CountryName": "Mongolia",
          "Total Population": 1139960,
          "Urban population (% of total)": 42.647,
          "Year": 1966,
          "index": 1613
         },
         {
          "CountryCode": "MNE",
          "CountryName": "Montenegro",
          "Total Population": 506788,
          "Urban population (% of total)": 23.383,
          "Year": 1966,
          "index": 1614
         },
         {
          "CountryCode": "MAR",
          "CountryName": "Morocco",
          "Total Population": 14617077,
          "Urban population (% of total)": 32.377,
          "Year": 1966,
          "index": 1615
         },
         {
          "CountryCode": "MOZ",
          "CountryName": "Mozambique",
          "Total Population": 8482373,
          "Urban population (% of total)": 5.996,
          "Year": 1966,
          "index": 1616
         },
         {
          "CountryCode": "MMR",
          "CountryName": "Myanmar",
          "Total Population": 24606863,
          "Urban population (% of total)": 21.334,
          "Year": 1966,
          "index": 1617
         },
         {
          "CountryCode": "NAM",
          "CountryName": "Namibia",
          "Total Population": 700316,
          "Urban population (% of total)": 20.478,
          "Year": 1966,
          "index": 1618
         },
         {
          "CountryCode": "NPL",
          "CountryName": "Nepal",
          "Total Population": 11100672,
          "Urban population (% of total)": 3.78,
          "Year": 1966,
          "index": 1619
         },
         {
          "CountryCode": "NLD",
          "CountryName": "Netherlands",
          "Total Population": 12456251,
          "Urban population (% of total)": 60.936,
          "Year": 1966,
          "index": 1620
         },
         {
          "CountryCode": "NCL",
          "CountryName": "New Caledonia",
          "Total Population": 93500,
          "Urban population (% of total)": 46.142,
          "Year": 1966,
          "index": 1621
         },
         {
          "CountryCode": "NZL",
          "CountryName": "New Zealand",
          "Total Population": 2675900,
          "Urban population (% of total)": 79.421,
          "Year": 1966,
          "index": 1622
         },
         {
          "CountryCode": "NIC",
          "CountryName": "Nicaragua",
          "Total Population": 2125233,
          "Urban population (% of total)": 43.565,
          "Year": 1966,
          "index": 1623
         },
         {
          "CountryCode": "NER",
          "CountryName": "Niger",
          "Total Population": 4032210,
          "Urban population (% of total)": 7.1,
          "Year": 1966,
          "index": 1624
         },
         {
          "CountryCode": "NGA",
          "CountryName": "Nigeria",
          "Total Population": 51336375,
          "Urban population (% of total)": 16.788,
          "Year": 1966,
          "index": 1625
         },
         {
          "CountryCode": "MNP",
          "CountryName": "Northern Mariana Islands",
          "Total Population": 11489,
          "Urban population (% of total)": 60.231,
          "Year": 1966,
          "index": 1626
         },
         {
          "CountryCode": "NOR",
          "CountryName": "Norway",
          "Total Population": 3753012,
          "Urban population (% of total)": 59.179,
          "Year": 1966,
          "index": 1627
         },
         {
          "CountryCode": "OMN",
          "CountryName": "Oman",
          "Total Population": 642005,
          "Urban population (% of total)": 23.694,
          "Year": 1966,
          "index": 1628
         },
         {
          "CountryCode": "PAK",
          "CountryName": "Pakistan",
          "Total Population": 52194629,
          "Urban population (% of total)": 23.769,
          "Year": 1966,
          "index": 1629
         },
         {
          "CountryCode": "PLW",
          "CountryName": "Palau",
          "Total Population": 10945,
          "Urban population (% of total)": 58.565,
          "Year": 1966,
          "index": 1630
         },
         {
          "CountryCode": "PAN",
          "CountryName": "Panama",
          "Total Population": 1353805,
          "Urban population (% of total)": 45.08,
          "Year": 1966,
          "index": 1631
         },
         {
          "CountryCode": "PNG",
          "CountryName": "Papua New Guinea",
          "Total Population": 2208422,
          "Urban population (% of total)": 5.902,
          "Year": 1966,
          "index": 1632
         },
         {
          "CountryCode": "PRY",
          "CountryName": "Paraguay",
          "Total Population": 2229373,
          "Urban population (% of total)": 36.407,
          "Year": 1966,
          "index": 1633
         },
         {
          "CountryCode": "PER",
          "CountryName": "Peru",
          "Total Population": 11941327,
          "Urban population (% of total)": 52.983,
          "Year": 1966,
          "index": 1634
         },
         {
          "CountryCode": "PHL",
          "CountryName": "Philippines",
          "Total Population": 31867565,
          "Urban population (% of total)": 31.869,
          "Year": 1966,
          "index": 1635
         },
         {
          "CountryCode": "POL",
          "CountryName": "Poland",
          "Total Population": 31681000,
          "Urban population (% of total)": 50.526,
          "Year": 1966,
          "index": 1636
         },
         {
          "CountryCode": "PRT",
          "CountryName": "Portugal",
          "Total Population": 8930990,
          "Urban population (% of total)": 37.25,
          "Year": 1966,
          "index": 1637
         },
         {
          "CountryCode": "PRI",
          "CountryName": "Puerto Rico",
          "Total Population": 2624995,
          "Urban population (% of total)": 52.921,
          "Year": 1966,
          "index": 1638
         },
         {
          "CountryCode": "QAT",
          "CountryName": "Qatar",
          "Total Population": 79735,
          "Urban population (% of total)": 87.323,
          "Year": 1966,
          "index": 1639
         },
         {
          "CountryCode": "ROM",
          "CountryName": "Romania",
          "Total Population": 19215450,
          "Urban population (% of total)": 38.345,
          "Year": 1966,
          "index": 1640
         },
         {
          "CountryCode": "RUS",
          "CountryName": "Russian Federation",
          "Total Population": 127468000,
          "Urban population (% of total)": 59.048,
          "Year": 1966,
          "index": 1641
         },
         {
          "CountryCode": "RWA",
          "CountryName": "Rwanda",
          "Total Population": 3319077,
          "Urban population (% of total)": 2.942,
          "Year": 1966,
          "index": 1642
         },
         {
          "CountryCode": "WSM",
          "CountryName": "Samoa",
          "Total Population": 130687,
          "Urban population (% of total)": 19.382,
          "Year": 1966,
          "index": 1643
         },
         {
          "CountryCode": "SMR",
          "CountryName": "San Marino",
          "Total Population": 17839,
          "Urban population (% of total)": 55.494,
          "Year": 1966,
          "index": 1644
         },
         {
          "CountryCode": "STP",
          "CountryName": "Sao Tome and Principe",
          "Total Population": 66057,
          "Urban population (% of total)": 23.247,
          "Year": 1966,
          "index": 1645
         },
         {
          "CountryCode": "SAU",
          "CountryName": "Saudi Arabia",
          "Total Population": 5015672,
          "Urban population (% of total)": 40.702,
          "Year": 1966,
          "index": 1646
         },
         {
          "CountryCode": "SEN",
          "CountryName": "Senegal",
          "Total Population": 3754268,
          "Urban population (% of total)": 27.057,
          "Year": 1966,
          "index": 1647
         },
         {
          "CountryCode": "SYC",
          "CountryName": "Seychelles",
          "Total Population": 48699,
          "Urban population (% of total)": 34.277,
          "Year": 1966,
          "index": 1648
         },
         {
          "CountryCode": "SLE",
          "CountryName": "Sierra Leone",
          "Total Population": 2365801,
          "Urban population (% of total)": 21.064,
          "Year": 1966,
          "index": 1649
         },
         {
          "CountryCode": "SGP",
          "CountryName": "Singapore",
          "Total Population": 1934400,
          "Urban population (% of total)": 100,
          "Year": 1966,
          "index": 1650
         },
         {
          "CountryCode": "SVK",
          "CountryName": "Slovak Republic",
          "Total Population": 4411666,
          "Urban population (% of total)": 37.833,
          "Year": 1966,
          "index": 1651
         },
         {
          "CountryCode": "SVN",
          "CountryName": "Slovenia",
          "Total Population": 1669905,
          "Urban population (% of total)": 33.376,
          "Year": 1966,
          "index": 1652
         },
         {
          "CountryCode": "SLB",
          "CountryName": "Solomon Islands",
          "Total Population": 141027,
          "Urban population (% of total)": 7.579,
          "Year": 1966,
          "index": 1653
         },
         {
          "CountryCode": "SOM",
          "CountryName": "Somalia",
          "Total Population": 3144244,
          "Urban population (% of total)": 20.487,
          "Year": 1966,
          "index": 1654
         },
         {
          "CountryCode": "ZAF",
          "CountryName": "South Africa",
          "Total Population": 20268594,
          "Urban population (% of total)": 47.362,
          "Year": 1966,
          "index": 1655
         },
         {
          "CountryCode": "SSD",
          "CountryName": "South Sudan",
          "Total Population": 3334254,
          "Urban population (% of total)": 8.679,
          "Year": 1966,
          "index": 1656
         },
         {
          "CountryCode": "ESP",
          "CountryName": "Spain",
          "Total Population": 32283194,
          "Urban population (% of total)": 62.251,
          "Year": 1966,
          "index": 1657
         },
         {
          "CountryCode": "LKA",
          "CountryName": "Sri Lanka",
          "Total Population": 11439000,
          "Urban population (% of total)": 17.992,
          "Year": 1966,
          "index": 1658
         },
         {
          "CountryCode": "KNA",
          "CountryName": "St. Kitts and Nevis",
          "Total Population": 48355,
          "Urban population (% of total)": 31.521,
          "Year": 1966,
          "index": 1659
         },
         {
          "CountryCode": "LCA",
          "CountryName": "St. Lucia",
          "Total Population": 97877,
          "Urban population (% of total)": 22.905,
          "Year": 1966,
          "index": 1660
         },
         {
          "CountryCode": "VCT",
          "CountryName": "St. Vincent and the Grenadines",
          "Total Population": 86860,
          "Urban population (% of total)": 28.729,
          "Year": 1966,
          "index": 1661
         },
         {
          "CountryCode": "SDN",
          "CountryName": "Sudan",
          "Total Population": 9013112,
          "Urban population (% of total)": 13.959,
          "Year": 1966,
          "index": 1662
         },
         {
          "CountryCode": "SUR",
          "CountryName": "Suriname",
          "Total Population": 341137,
          "Urban population (% of total)": 46.877,
          "Year": 1966,
          "index": 1663
         },
         {
          "CountryCode": "SWZ",
          "CountryName": "Swaziland",
          "Total Population": 401295,
          "Urban population (% of total)": 7.157,
          "Year": 1966,
          "index": 1664
         },
         {
          "CountryCode": "SWE",
          "CountryName": "Sweden",
          "Total Population": 7807797,
          "Urban population (% of total)": 77.914,
          "Year": 1966,
          "index": 1665
         },
         {
          "CountryCode": "CHE",
          "CountryName": "Switzerland",
          "Total Population": 5918002,
          "Urban population (% of total)": 54.851,
          "Year": 1966,
          "index": 1666
         },
         {
          "CountryCode": "SYR",
          "CountryName": "Syrian Arab Republic",
          "Total Population": 5579283,
          "Urban population (% of total)": 40.667,
          "Year": 1966,
          "index": 1667
         },
         {
          "CountryCode": "TJK",
          "CountryName": "Tajikistan",
          "Total Population": 2575335,
          "Urban population (% of total)": 35.555,
          "Year": 1966,
          "index": 1668
         },
         {
          "CountryCode": "TZA",
          "CountryName": "Tanzania",
          "Total Population": 12038886,
          "Urban population (% of total)": 6.199,
          "Year": 1966,
          "index": 1669
         },
         {
          "CountryCode": "THA",
          "CountryName": "Thailand",
          "Total Population": 32789097,
          "Urban population (% of total)": 20.332,
          "Year": 1966,
          "index": 1670
         },
         {
          "CountryCode": "TMP",
          "CountryName": "Timor-Leste",
          "Total Population": 557252,
          "Urban population (% of total)": 11.646,
          "Year": 1966,
          "index": 1671
         },
         {
          "CountryCode": "TGO",
          "CountryName": "Togo",
          "Total Population": 1774029,
          "Urban population (% of total)": 16.125,
          "Year": 1966,
          "index": 1672
         },
         {
          "CountryCode": "TON",
          "CountryName": "Tonga",
          "Total Population": 76787,
          "Urban population (% of total)": 19.908,
          "Year": 1966,
          "index": 1673
         },
         {
          "CountryCode": "TTO",
          "CountryName": "Trinidad and Tobago",
          "Total Population": 919902,
          "Urban population (% of total)": 13.801,
          "Year": 1966,
          "index": 1674
         },
         {
          "CountryCode": "TUN",
          "CountryName": "Tunisia",
          "Total Population": 4731395,
          "Urban population (% of total)": 40.23,
          "Year": 1966,
          "index": 1675
         },
         {
          "CountryCode": "TUR",
          "CountryName": "Turkey",
          "Total Population": 31718266,
          "Urban population (% of total)": 34.949,
          "Year": 1966,
          "index": 1676
         },
         {
          "CountryCode": "TKM",
          "CountryName": "Turkmenistan",
          "Total Population": 1949425,
          "Urban population (% of total)": 47.284,
          "Year": 1966,
          "index": 1677
         },
         {
          "CountryCode": "TCA",
          "CountryName": "Turks and Caicos Islands",
          "Total Population": 5629,
          "Urban population (% of total)": 49.734,
          "Year": 1966,
          "index": 1678
         },
         {
          "CountryCode": "TUV",
          "CountryName": "Tuvalu",
          "Total Population": 6935,
          "Urban population (% of total)": 19.419,
          "Year": 1966,
          "index": 1679
         },
         {
          "CountryCode": "UGA",
          "CountryName": "Uganda",
          "Total Population": 8292747,
          "Urban population (% of total)": 5.757,
          "Year": 1966,
          "index": 1680
         },
         {
          "CountryCode": "UKR",
          "CountryName": "Ukraine",
          "Total Population": 45682314,
          "Urban population (% of total)": 51.499,
          "Year": 1966,
          "index": 1681
         },
         {
          "CountryCode": "ARE",
          "CountryName": "United Arab Emirates",
          "Total Population": 161077,
          "Urban population (% of total)": 78.508,
          "Year": 1966,
          "index": 1682
         },
         {
          "CountryCode": "GBR",
          "CountryName": "United Kingdom",
          "Total Population": 54648500,
          "Urban population (% of total)": 77.682,
          "Year": 1966,
          "index": 1683
         },
         {
          "CountryCode": "USA",
          "CountryName": "United States",
          "Total Population": 196560000,
          "Urban population (% of total)": 72.247,
          "Year": 1966,
          "index": 1684
         },
         {
          "CountryCode": "URY",
          "CountryName": "Uruguay",
          "Total Population": 2722874,
          "Urban population (% of total)": 81.539,
          "Year": 1966,
          "index": 1685
         },
         {
          "CountryCode": "UZB",
          "CountryName": "Uzbekistan",
          "Total Population": 10559050,
          "Urban population (% of total)": 35.554,
          "Year": 1966,
          "index": 1686
         },
         {
          "CountryCode": "VUT",
          "CountryName": "Vanuatu",
          "Total Population": 76410,
          "Urban population (% of total)": 11.522,
          "Year": 1966,
          "index": 1687
         },
         {
          "CountryCode": "VEN",
          "CountryName": "Venezuela, RB",
          "Total Population": 10175143,
          "Urban population (% of total)": 68.022,
          "Year": 1966,
          "index": 1688
         },
         {
          "CountryCode": "VNM",
          "CountryName": "Vietnam",
          "Total Population": 39142000,
          "Urban population (% of total)": 16.784,
          "Year": 1966,
          "index": 1689
         },
         {
          "CountryCode": "VIR",
          "CountryName": "Virgin Islands (U.S.)",
          "Total Population": 47300,
          "Urban population (% of total)": 64.587,
          "Year": 1966,
          "index": 1690
         },
         {
          "CountryCode": "YEM",
          "CountryName": "Yemen, Rep.",
          "Total Population": 5720538,
          "Urban population (% of total)": 11.451,
          "Year": 1966,
          "index": 1691
         },
         {
          "CountryCode": "ZMB",
          "CountryName": "Zambia",
          "Total Population": 3674088,
          "Urban population (% of total)": 24.789,
          "Year": 1966,
          "index": 1692
         },
         {
          "CountryCode": "ZWE",
          "CountryName": "Zimbabwe",
          "Total Population": 4568320,
          "Urban population (% of total)": 15.165,
          "Year": 1966,
          "index": 1693
         },
         {
          "CountryCode": "ARB",
          "CountryName": "Arab World",
          "Total Population": 112300575,
          "Urban population (% of total)": 36.6720255162,
          "Year": 1967,
          "index": 1694
         },
         {
          "CountryCode": "CSS",
          "CountryName": "Caribbean small states",
          "Total Population": 4713767,
          "Urban population (% of total)": 33.4090321427,
          "Year": 1967,
          "index": 1695
         },
         {
          "CountryCode": "CEB",
          "CountryName": "Central Europe and the Baltics",
          "Total Population": 97043587,
          "Urban population (% of total)": 49.0677671359,
          "Year": 1967,
          "index": 1696
         },
         {
          "CountryCode": "EAS",
          "CountryName": "East Asia & Pacific (all income levels)",
          "Total Population": 1195006826,
          "Urban population (% of total)": 24.6263914462,
          "Year": 1967,
          "index": 1697
         },
         {
          "CountryCode": "EAP",
          "CountryName": "East Asia & Pacific (developing only)",
          "Total Population": 1029875983,
          "Urban population (% of total)": 18.7075641811,
          "Year": 1967,
          "index": 1698
         },
         {
          "CountryCode": "EMU",
          "CountryName": "Euro area",
          "Total Population": 282114541,
          "Urban population (% of total)": 65.8386829663,
          "Year": 1967,
          "index": 1699
         },
         {
          "CountryCode": "ECS",
          "CountryName": "Europe & Central Asia (all income levels)",
          "Total Population": 719751897,
          "Urban population (% of total)": 59.2546291382,
          "Year": 1967,
          "index": 1700
         },
         {
          "CountryCode": "ECA",
          "CountryName": "Europe & Central Asia (developing only)",
          "Total Population": 175403689,
          "Urban population (% of total)": 42.9752774499,
          "Year": 1967,
          "index": 1701
         },
         {
          "CountryCode": "EUU",
          "CountryName": "European Union",
          "Total Population": 434001552,
          "Urban population (% of total)": 64.5273080122,
          "Year": 1967,
          "index": 1702
         },
         {
          "CountryCode": "FCS",
          "CountryName": "Fragile and conflict affected situations",
          "Total Population": 142545273,
          "Urban population (% of total)": 21.7233662758,
          "Year": 1967,
          "index": 1703
         },
         {
          "CountryCode": "HPC",
          "CountryName": "Heavily indebted poor countries (HIPC)",
          "Total Population": 192806249,
          "Urban population (% of total)": 14.9417056807,
          "Year": 1967,
          "index": 1704
         },
         {
          "CountryCode": "HIC",
          "CountryName": "High income",
          "Total Population": 988482490,
          "Urban population (% of total)": 66.7032369373,
          "Year": 1967,
          "index": 1705
         },
         {
          "CountryCode": "NOC",
          "CountryName": "High income: nonOECD",
          "Total Population": 206694312,
          "Urban population (% of total)": 62.1490105236,
          "Year": 1967,
          "index": 1706
         },
         {
          "CountryCode": "OEC",
          "CountryName": "High income: OECD",
          "Total Population": 781788178,
          "Urban population (% of total)": 67.8290803955,
          "Year": 1967,
          "index": 1707
         },
         {
          "CountryCode": "LCN",
          "CountryName": "Latin America & Caribbean (all income levels)",
          "Total Population": 266776414,
          "Urban population (% of total)": 54.7657685064,
          "Year": 1967,
          "index": 1708
         },
         {
          "CountryCode": "LAC",
          "CountryName": "Latin America & Caribbean (developing only)",
          "Total Population": 217234323,
          "Urban population (% of total)": 50.7711317415,
          "Year": 1967,
          "index": 1709
         },
         {
          "CountryCode": "LDC",
          "CountryName": "Least developed countries: UN classification",
          "Total Population": 286104466,
          "Urban population (% of total)": 11.6800513104,
          "Year": 1967,
          "index": 1710
         },
         {
          "CountryCode": "LMY",
          "CountryName": "Low & middle income",
          "Total Population": 2476722661,
          "Urban population (% of total)": 23.8167126227,
          "Year": 1967,
          "index": 1711
         },
         {
          "CountryCode": "LIC",
          "CountryName": "Low income",
          "Total Population": 184342945,
          "Urban population (% of total)": 13.715682564,
          "Year": 1967,
          "index": 1712
         },
         {
          "CountryCode": "LMC",
          "CountryName": "Lower middle income",
          "Total Population": 1106416461,
          "Urban population (% of total)": 21.6728642034,
          "Year": 1967,
          "index": 1713
         },
         {
          "CountryCode": "MEA",
          "CountryName": "Middle East & North Africa (all income levels)",
          "Total Population": 127882128,
          "Urban population (% of total)": 40.4070874379,
          "Year": 1967,
          "index": 1714
         },
         {
          "CountryCode": "MNA",
          "CountryName": "Middle East & North Africa (developing only)",
          "Total Population": 117929136,
          "Urban population (% of total)": 38.9188875088,
          "Year": 1967,
          "index": 1715
         },
         {
          "CountryCode": "MIC",
          "CountryName": "Middle income",
          "Total Population": 2292379716,
          "Urban population (% of total)": 24.6293947494,
          "Year": 1967,
          "index": 1716
         },
         {
          "CountryCode": "NAC",
          "CountryName": "North America",
          "Total Population": 219176000,
          "Urban population (% of total)": 72.7621984341,
          "Year": 1967,
          "index": 1717
         },
         {
          "CountryCode": "OED",
          "CountryName": "OECD members",
          "Total Population": 861666135,
          "Urban population (% of total)": 66.0025843676,
          "Year": 1967,
          "index": 1718
         },
         {
          "CountryCode": "OSS",
          "CountryName": "Other small states",
          "Total Population": 7607586,
          "Urban population (% of total)": 18.3779956934,
          "Year": 1967,
          "index": 1719
         },
         {
          "CountryCode": "PSS",
          "CountryName": "Pacific island small states",
          "Total Population": 1066295,
          "Urban population (% of total)": 25.0342280213,
          "Year": 1967,
          "index": 1720
         },
         {
          "CountryCode": "SST",
          "CountryName": "Small states",
          "Total Population": 13387648,
          "Urban population (% of total)": 24.2005502482,
          "Year": 1967,
          "index": 1721
         },
         {
          "CountryCode": "SAS",
          "CountryName": "South Asia",
          "Total Population": 666134328,
          "Urban population (% of total)": 18.0308544432,
          "Year": 1967,
          "index": 1722
         },
         {
          "CountryCode": "SSF",
          "CountryName": "Sub-Saharan Africa (all income levels)",
          "Total Population": 270477558,
          "Urban population (% of total)": 16.9480780291,
          "Year": 1967,
          "index": 1723
         },
         {
          "CountryCode": "SSA",
          "CountryName": "Sub-Saharan Africa (developing only)",
          "Total Population": 270145202,
          "Urban population (% of total)": 16.9344827586,
          "Year": 1967,
          "index": 1724
         },
         {
          "CountryCode": "UMC",
          "CountryName": "Upper middle income",
          "Total Population": 1185963255,
          "Urban population (% of total)": 27.384790743,
          "Year": 1967,
          "index": 1725
         },
         {
          "CountryCode": "WLD",
          "CountryName": "World",
          "Total Population": 3465205151,
          "Urban population (% of total)": 35.9352244878,
          "Year": 1967,
          "index": 1726
         },
         {
          "CountryCode": "AFG",
          "CountryName": "Afghanistan",
          "Total Population": 10368600,
          "Urban population (% of total)": 10.43,
          "Year": 1967,
          "index": 1727
         },
         {
          "CountryCode": "ALB",
          "CountryName": "Albania",
          "Total Population": 1965598,
          "Urban population (% of total)": 31.374,
          "Year": 1967,
          "index": 1728
         },
         {
          "CountryCode": "DZA",
          "CountryName": "Algeria",
          "Total Population": 13354197,
          "Urban population (% of total)": 39.004,
          "Year": 1967,
          "index": 1729
         },
         {
          "CountryCode": "ASM",
          "CountryName": "American Samoa",
          "Total Population": 25116,
          "Urban population (% of total)": 69.163,
          "Year": 1967,
          "index": 1730
         },
         {
          "CountryCode": "ADO",
          "CountryName": "Andorra",
          "Total Population": 20755,
          "Urban population (% of total)": 74.641,
          "Year": 1967,
          "index": 1731
         },
         {
          "CountryCode": "AGO",
          "CountryName": "Angola",
          "Total Population": 5962831,
          "Urban population (% of total)": 13.441,
          "Year": 1967,
          "index": 1732
         },
         {
          "CountryCode": "ATG",
          "CountryName": "Antigua and Barbuda",
          "Total Population": 62002,
          "Urban population (% of total)": 35.418,
          "Year": 1967,
          "index": 1733
         },
         {
          "CountryCode": "ARG",
          "CountryName": "Argentina",
          "Total Population": 22932201,
          "Urban population (% of total)": 77.398,
          "Year": 1967,
          "index": 1734
         },
         {
          "CountryCode": "ARM",
          "CountryName": "Armenia",
          "Total Population": 2332624,
          "Urban population (% of total)": 57.341,
          "Year": 1967,
          "index": 1735
         },
         {
          "CountryCode": "ABW",
          "CountryName": "Aruba",
          "Total Population": 58049,
          "Urban population (% of total)": 50.67,
          "Year": 1967,
          "index": 1736
         },
         {
          "CountryCode": "AUS",
          "CountryName": "Australia",
          "Total Population": 11799000,
          "Urban population (% of total)": 84.217,
          "Year": 1967,
          "index": 1737
         },
         {
          "CountryCode": "AUT",
          "CountryName": "Austria",
          "Total Population": 7376998,
          "Urban population (% of total)": 65.11,
          "Year": 1967,
          "index": 1738
         },
         {
          "CountryCode": "AZE",
          "CountryName": "Azerbaijan",
          "Total Population": 4832098,
          "Urban population (% of total)": 50.564,
          "Year": 1967,
          "index": 1739
         },
         {
          "CountryCode": "BHS",
          "CountryName": "Bahamas, The",
          "Total Population": 152607,
          "Urban population (% of total)": 64.73,
          "Year": 1967,
          "index": 1740
         },
         {
          "CountryCode": "BHR",
          "CountryName": "Bahrain",
          "Total Population": 196203,
          "Urban population (% of total)": 83.019,
          "Year": 1967,
          "index": 1741
         },
         {
          "CountryCode": "BGD",
          "CountryName": "Bangladesh",
          "Total Population": 59625294,
          "Urban population (% of total)": 6.733,
          "Year": 1967,
          "index": 1742
         },
         {
          "CountryCode": "BRB",
          "CountryName": "Barbados",
          "Total Population": 236620,
          "Urban population (% of total)": 37.287,
          "Year": 1967,
          "index": 1743
         },
         {
          "CountryCode": "BLR",
          "CountryName": "Belarus",
          "Total Population": 8785648,
          "Urban population (% of total)": 40.422,
          "Year": 1967,
          "index": 1744
         },
         {
          "CountryCode": "BEL",
          "CountryName": "Belgium",
          "Total Population": 9580991,
          "Urban population (% of total)": 93.428,
          "Year": 1967,
          "index": 1745
         },
         {
          "CountryCode": "BLZ",
          "CountryName": "Belize",
          "Total Population": 112699,
          "Urban population (% of total)": 51.86,
          "Year": 1967,
          "index": 1746
         },
         {
          "CountryCode": "BEN",
          "CountryName": "Benin",
          "Total Population": 2733450,
          "Urban population (% of total)": 14.069,
          "Year": 1967,
          "index": 1747
         },
         {
          "CountryCode": "BMU",
          "CountryName": "Bermuda",
          "Total Population": 52000,
          "Urban population (% of total)": 100,
          "Year": 1967,
          "index": 1748
         },
         {
          "CountryCode": "BTN",
          "CountryName": "Bhutan",
          "Total Population": 266293,
          "Urban population (% of total)": 5.207,
          "Year": 1967,
          "index": 1749
         },
         {
          "CountryCode": "BOL",
          "CountryName": "Bolivia",
          "Total Population": 4237126,
          "Urban population (% of total)": 38.862,
          "Year": 1967,
          "index": 1750
         },
         {
          "CountryCode": "BIH",
          "CountryName": "Bosnia and Herzegovina",
          "Total Population": 3619997,
          "Urban population (% of total)": 24.509,
          "Year": 1967,
          "index": 1751
         },
         {
          "CountryCode": "BWA",
          "CountryName": "Botswana",
          "Total Population": 631276,
          "Urban population (% of total)": 5.124,
          "Year": 1967,
          "index": 1752
         },
         {
          "CountryCode": "BRA",
          "CountryName": "Brazil",
          "Total Population": 88853679,
          "Urban population (% of total)": 52.993,
          "Year": 1967,
          "index": 1753
         },
         {
          "CountryCode": "BRN",
          "CountryName": "Brunei Darussalam",
          "Total Population": 112680,
          "Urban population (% of total)": 56.3,
          "Year": 1967,
          "index": 1754
         },
         {
          "CountryCode": "BGR",
          "CountryName": "Bulgaria",
          "Total Population": 8310226,
          "Urban population (% of total)": 48.499,
          "Year": 1967,
          "index": 1755
         },
         {
          "CountryCode": "BFA",
          "CountryName": "Burkina Faso",
          "Total Population": 5343020,
          "Urban population (% of total)": 5.411,
          "Year": 1967,
          "index": 1756
         },
         {
          "CountryCode": "BDI",
          "CountryName": "Burundi",
          "Total Population": 3235125,
          "Urban population (% of total)": 2.501,
          "Year": 1967,
          "index": 1757
         },
         {
          "CountryCode": "CPV",
          "CountryName": "Cabo Verde",
          "Total Population": 248733,
          "Urban population (% of total)": 18.657,
          "Year": 1967,
          "index": 1758
         },
         {
          "CountryCode": "KHM",
          "CountryName": "Cambodia",
          "Total Population": 6695460,
          "Urban population (% of total)": 12.098,
          "Year": 1967,
          "index": 1759
         },
         {
          "CountryCode": "CMR",
          "CountryName": "Cameroon",
          "Total Population": 6280743,
          "Urban population (% of total)": 18.19,
          "Year": 1967,
          "index": 1760
         },
         {
          "CountryCode": "CAN",
          "CountryName": "Canada",
          "Total Population": 20412000,
          "Urban population (% of total)": 74.155,
          "Year": 1967,
          "index": 1761
         },
         {
          "CountryCode": "CYM",
          "CountryName": "Cayman Islands",
          "Total Population": 8518,
          "Urban population (% of total)": 100,
          "Year": 1967,
          "index": 1762
         },
         {
          "CountryCode": "CAF",
          "CountryName": "Central African Republic",
          "Total Population": 1718558,
          "Urban population (% of total)": 25,
          "Year": 1967,
          "index": 1763
         },
         {
          "CountryCode": "TCD",
          "CountryName": "Chad",
          "Total Population": 3436227,
          "Urban population (% of total)": 9.564,
          "Year": 1967,
          "index": 1764
         },
         {
          "CountryCode": "CHI",
          "CountryName": "Channel Islands",
          "Total Population": 117475,
          "Urban population (% of total)": 36.864,
          "Year": 1967,
          "index": 1765
         },
         {
          "CountryCode": "CHL",
          "CountryName": "Chile",
          "Total Population": 8995410,
          "Urban population (% of total)": 73.146,
          "Year": 1967,
          "index": 1766
         },
         {
          "CountryCode": "CHN",
          "CountryName": "China",
          "Total Population": 754550000,
          "Urban population (% of total)": 17.785,
          "Year": 1967,
          "index": 1767
         },
         {
          "CountryCode": "COL",
          "CountryName": "Colombia",
          "Total Population": 20311369,
          "Urban population (% of total)": 52.545,
          "Year": 1967,
          "index": 1768
         },
         {
          "CountryCode": "COM",
          "CountryName": "Comoros",
          "Total Population": 214038,
          "Urban population (% of total)": 18.34,
          "Year": 1967,
          "index": 1769
         },
         {
          "CountryCode": "ZAR",
          "CountryName": "Congo, Dem. Rep.",
          "Total Population": 18378189,
          "Urban population (% of total)": 23.899,
          "Year": 1967,
          "index": 1770
         },
         {
          "CountryCode": "COG",
          "CountryName": "Congo, Rep.",
          "Total Population": 1224041,
          "Urban population (% of total)": 36.796,
          "Year": 1967,
          "index": 1771
         },
         {
          "CountryCode": "CRI",
          "CountryName": "Costa Rica",
          "Total Population": 1694711,
          "Urban population (% of total)": 36.993,
          "Year": 1967,
          "index": 1772
         },
         {
          "CountryCode": "CIV",
          "CountryName": "Cote d'Ivoire",
          "Total Population": 4591238,
          "Urban population (% of total)": 25.926,
          "Year": 1967,
          "index": 1773
         },
         {
          "CountryCode": "HRV",
          "CountryName": "Croatia",
          "Total Population": 4339000,
          "Urban population (% of total)": 37.03,
          "Year": 1967,
          "index": 1774
         },
         {
          "CountryCode": "CUB",
          "CountryName": "Cuba",
          "Total Population": 8263547,
          "Urban population (% of total)": 59.709,
          "Year": 1967,
          "index": 1775
         },
         {
          "CountryCode": "CUW",
          "CountryName": "Curacao",
          "Total Population": 138140,
          "Urban population (% of total)": 77.37,
          "Year": 1967,
          "index": 1776
         },
         {
          "CountryCode": "CYP",
          "CountryName": "Cyprus",
          "Total Population": 591304,
          "Urban population (% of total)": 39.21,
          "Year": 1967,
          "index": 1777
         },
         {
          "CountryCode": "CZE",
          "CountryName": "Czech Republic",
          "Total Population": 9852899,
          "Urban population (% of total)": 62.978,
          "Year": 1967,
          "index": 1778
         },
         {
          "CountryCode": "DNK",
          "CountryName": "Denmark",
          "Total Population": 4835354,
          "Urban population (% of total)": 78.163,
          "Year": 1967,
          "index": 1779
         },
         {
          "CountryCode": "DJI",
          "CountryName": "Djibouti",
          "Total Population": 131403,
          "Urban population (% of total)": 58.404,
          "Year": 1967,
          "index": 1780
         },
         {
          "CountryCode": "DMA",
          "CountryName": "Dominica",
          "Total Population": 67682,
          "Urban population (% of total)": 38.314,
          "Year": 1967,
          "index": 1781
         },
         {
          "CountryCode": "DOM",
          "CountryName": "Dominican Republic",
          "Total Population": 4125107,
          "Urban population (% of total)": 37.069,
          "Year": 1967,
          "index": 1782
         },
         {
          "CountryCode": "ECU",
          "CountryName": "Ecuador",
          "Total Population": 5566057,
          "Urban population (% of total)": 37.686,
          "Year": 1967,
          "index": 1783
         },
         {
          "CountryCode": "EGY",
          "CountryName": "Egypt, Arab Rep.",
          "Total Population": 32456565,
          "Urban population (% of total)": 40.399,
          "Year": 1967,
          "index": 1784
         },
         {
          "CountryCode": "SLV",
          "CountryName": "El Salvador",
          "Total Population": 3383674,
          "Urban population (% of total)": 39.106,
          "Year": 1967,
          "index": 1785
         },
         {
          "CountryCode": "GNQ",
          "CountryName": "Equatorial Guinea",
          "Total Population": 282445,
          "Urban population (% of total)": 26.682,
          "Year": 1967,
          "index": 1786
         },
         {
          "CountryCode": "ERI",
          "CountryName": "Eritrea",
          "Total Population": 1670821,
          "Urban population (% of total)": 12.1,
          "Year": 1967,
          "index": 1787
         },
         {
          "CountryCode": "EST",
          "CountryName": "Estonia",
          "Total Population": 1318946,
          "Urban population (% of total)": 62.839,
          "Year": 1967,
          "index": 1788
         },
         {
          "CountryCode": "ETH",
          "CountryName": "Ethiopia",
          "Total Population": 26280771,
          "Urban population (% of total)": 8.1,
          "Year": 1967,
          "index": 1789
         },
         {
          "CountryCode": "FRO",
          "CountryName": "Faeroe Islands",
          "Total Population": 37258,
          "Urban population (% of total)": 26.723,
          "Year": 1967,
          "index": 1790
         },
         {
          "CountryCode": "FJI",
          "CountryName": "Fiji",
          "Total Population": 487911,
          "Urban population (% of total)": 33.604,
          "Year": 1967,
          "index": 1791
         },
         {
          "CountryCode": "FIN",
          "CountryName": "Finland",
          "Total Population": 4605744,
          "Urban population (% of total)": 61.295,
          "Year": 1967,
          "index": 1792
         },
         {
          "CountryCode": "FRA",
          "CountryName": "France",
          "Total Population": 50915456,
          "Urban population (% of total)": 69.357,
          "Year": 1967,
          "index": 1793
         },
         {
          "CountryCode": "PYF",
          "CountryName": "French Polynesia",
          "Total Population": 100031,
          "Urban population (% of total)": 50.979,
          "Year": 1967,
          "index": 1794
         },
         {
          "CountryCode": "GAB",
          "CountryName": "Gabon",
          "Total Population": 553829,
          "Urban population (% of total)": 26.883,
          "Year": 1967,
          "index": 1795
         },
         {
          "CountryCode": "GMB",
          "CountryName": "Gambia, The",
          "Total Population": 416342,
          "Urban population (% of total)": 16.379,
          "Year": 1967,
          "index": 1796
         },
         {
          "CountryCode": "GEO",
          "CountryName": "Georgia",
          "Total Population": 4005800,
          "Urban population (% of total)": 46.527,
          "Year": 1967,
          "index": 1797
         },
         {
          "CountryCode": "DEU",
          "CountryName": "Germany",
          "Total Population": 76951336,
          "Urban population (% of total)": 72.083,
          "Year": 1967,
          "index": 1798
         },
         {
          "CountryCode": "GHA",
          "CountryName": "Ghana",
          "Total Population": 8057442,
          "Urban population (% of total)": 27.254,
          "Year": 1967,
          "index": 1799
         },
         {
          "CountryCode": "GRC",
          "CountryName": "Greece",
          "Total Population": 8684088,
          "Urban population (% of total)": 61.691,
          "Year": 1967,
          "index": 1800
         },
         {
          "CountryCode": "GRL",
          "CountryName": "Greenland",
          "Total Population": 41900,
          "Urban population (% of total)": 68.853,
          "Year": 1967,
          "index": 1801
         },
         {
          "CountryCode": "GRD",
          "CountryName": "Grenada",
          "Total Population": 94962,
          "Urban population (% of total)": 31.656,
          "Year": 1967,
          "index": 1802
         },
         {
          "CountryCode": "GUM",
          "CountryName": "Guam",
          "Total Population": 78409,
          "Urban population (% of total)": 57.68,
          "Year": 1967,
          "index": 1803
         },
         {
          "CountryCode": "GTM",
          "CountryName": "Guatemala",
          "Total Population": 4993104,
          "Urban population (% of total)": 34.608,
          "Year": 1967,
          "index": 1804
         },
         {
          "CountryCode": "GIN",
          "CountryName": "Guinea",
          "Total Population": 4021880,
          "Urban population (% of total)": 14.116,
          "Year": 1967,
          "index": 1805
         },
         {
          "CountryCode": "GNB",
          "CountryName": "Guinea-Bissau",
          "Total Population": 673893,
          "Urban population (% of total)": 14.658,
          "Year": 1967,
          "index": 1806
         },
         {
          "CountryCode": "GUY",
          "CountryName": "Guyana",
          "Total Population": 671986,
          "Urban population (% of total)": 29.289,
          "Year": 1967,
          "index": 1807
         },
         {
          "CountryCode": "HTI",
          "CountryName": "Haiti",
          "Total Population": 4445531,
          "Urban population (% of total)": 18.429,
          "Year": 1967,
          "index": 1808
         },
         {
          "CountryCode": "HND",
          "CountryName": "Honduras",
          "Total Population": 2486288,
          "Urban population (% of total)": 26.955,
          "Year": 1967,
          "index": 1809
         },
         {
          "CountryCode": "HKG",
          "CountryName": "Hong Kong SAR, China",
          "Total Population": 3722800,
          "Urban population (% of total)": 86.958,
          "Year": 1967,
          "index": 1810
         },
         {
          "CountryCode": "HUN",
          "CountryName": "Hungary",
          "Total Population": 10216604,
          "Urban population (% of total)": 58.859,
          "Year": 1967,
          "index": 1811
         },
         {
          "CountryCode": "ISL",
          "CountryName": "Iceland",
          "Total Population": 198751,
          "Urban population (% of total)": 83.621,
          "Year": 1967,
          "index": 1812
         },
         {
          "CountryCode": "IND",
          "CountryName": "India",
          "Total Population": 519162069,
          "Urban population (% of total)": 19.171,
          "Year": 1967,
          "index": 1813
         },
         {
          "CountryCode": "IDN",
          "CountryName": "Indonesia",
          "Total Population": 105907403,
          "Urban population (% of total)": 16.293,
          "Year": 1967,
          "index": 1814
         },
         {
          "CountryCode": "IRN",
          "CountryName": "Iran, Islamic Rep.",
          "Total Population": 26318116,
          "Urban population (% of total)": 38.557,
          "Year": 1967,
          "index": 1815
         },
         {
          "CountryCode": "IRQ",
          "CountryName": "Iraq",
          "Total Population": 8947399,
          "Urban population (% of total)": 52.945,
          "Year": 1967,
          "index": 1816
         },
         {
          "CountryCode": "IRL",
          "CountryName": "Ireland",
          "Total Population": 2902450,
          "Urban population (% of total)": 49.923,
          "Year": 1967,
          "index": 1817
         },
         {
          "CountryCode": "IMY",
          "CountryName": "Isle of Man",
          "Total Population": 52995,
          "Urban population (% of total)": 56.311,
          "Year": 1967,
          "index": 1818
         },
         {
          "CountryCode": "ISR",
          "CountryName": "Israel",
          "Total Population": 2745000,
          "Urban population (% of total)": 82.3,
          "Year": 1967,
          "index": 1819
         },
         {
          "CountryCode": "ITA",
          "CountryName": "Italy",
          "Total Population": 52900500,
          "Urban population (% of total)": 62.822,
          "Year": 1967,
          "index": 1820
         },
         {
          "CountryCode": "JAM",
          "CountryName": "Jamaica",
          "Total Population": 1803891,
          "Urban population (% of total)": 39.036,
          "Year": 1967,
          "index": 1821
         },
         {
          "CountryCode": "JPN",
          "CountryName": "Japan",
          "Total Population": 100725000,
          "Urban population (% of total)": 69.516,
          "Year": 1967,
          "index": 1822
         },
         {
          "CountryCode": "JOR",
          "CountryName": "Jordan",
          "Total Population": 1278416,
          "Urban population (% of total)": 54.957,
          "Year": 1967,
          "index": 1823
         },
         {
          "CountryCode": "KAZ",
          "CountryName": "Kazakhstan",
          "Total Population": 12120504,
          "Urban population (% of total)": 48.346,
          "Year": 1967,
          "index": 1824
         },
         {
          "CountryCode": "KEN",
          "CountryName": "Kenya",
          "Total Population": 10154489,
          "Urban population (% of total)": 9.209,
          "Year": 1967,
          "index": 1825
         },
         {
          "CountryCode": "KIR",
          "CountryName": "Kiribati",
          "Total Population": 48440,
          "Urban population (% of total)": 21.097,
          "Year": 1967,
          "index": 1826
         },
         {
          "CountryCode": "PRK",
          "CountryName": "Korea, Dem. Rep.",
          "Total Population": 13221826,
          "Urban population (% of total)": 47.081,
          "Year": 1967,
          "index": 1827
         },
         {
          "CountryCode": "KOR",
          "CountryName": "Korea, Rep.",
          "Total Population": 30130983,
          "Urban population (% of total)": 34.971,
          "Year": 1967,
          "index": 1828
         },
         {
          "CountryCode": "KWT",
          "CountryName": "Kuwait",
          "Total Population": 585831,
          "Urban population (% of total)": 82.081,
          "Year": 1967,
          "index": 1829
         },
         {
          "CountryCode": "KGZ",
          "CountryName": "Kyrgyz Republic",
          "Total Population": 2736500,
          "Urban population (% of total)": 36.53,
          "Year": 1967,
          "index": 1830
         },
         {
          "CountryCode": "LAO",
          "CountryName": "Lao PDR",
          "Total Population": 2495093,
          "Urban population (% of total)": 8.692,
          "Year": 1967,
          "index": 1831
         },
         {
          "CountryCode": "LVA",
          "CountryName": "Latvia",
          "Total Population": 2301220,
          "Urban population (% of total)": 58.398,
          "Year": 1967,
          "index": 1832
         },
         {
          "CountryCode": "LBN",
          "CountryName": "Lebanon",
          "Total Population": 2174850,
          "Urban population (% of total)": 54.386,
          "Year": 1967,
          "index": 1833
         },
         {
          "CountryCode": "LSO",
          "CountryName": "Lesotho",
          "Total Population": 970972,
          "Urban population (% of total)": 7.425,
          "Year": 1967,
          "index": 1834
         },
         {
          "CountryCode": "LBR",
          "CountryName": "Liberia",
          "Total Population": 1315119,
          "Urban population (% of total)": 23.622,
          "Year": 1967,
          "index": 1835
         },
         {
          "CountryCode": "LBY",
          "CountryName": "Libya",
          "Total Population": 1861661,
          "Urban population (% of total)": 39.839,
          "Year": 1967,
          "index": 1836
         },
         {
          "CountryCode": "LIE",
          "CountryName": "Liechtenstein",
          "Total Population": 19691,
          "Urban population (% of total)": 19.059,
          "Year": 1967,
          "index": 1837
         },
         {
          "CountryCode": "LTU",
          "CountryName": "Lithuania",
          "Total Population": 3044400,
          "Urban population (% of total)": 46.484,
          "Year": 1967,
          "index": 1838
         },
         {
          "CountryCode": "LUX",
          "CountryName": "Luxembourg",
          "Total Population": 334995,
          "Urban population (% of total)": 72.941,
          "Year": 1967,
          "index": 1839
         },
         {
          "CountryCode": "MAC",
          "CountryName": "Macao SAR, China",
          "Total Population": 227258,
          "Urban population (% of total)": 96.544,
          "Year": 1967,
          "index": 1840
         },
         {
          "CountryCode": "MKD",
          "CountryName": "Macedonia, FYR",
          "Total Population": 1644944,
          "Urban population (% of total)": 43.016,
          "Year": 1967,
          "index": 1841
         },
         {
          "CountryCode": "MDG",
          "CountryName": "Madagascar",
          "Total Population": 6072270,
          "Urban population (% of total)": 13.074,
          "Year": 1967,
          "index": 1842
         },
         {
          "CountryCode": "MWI",
          "CountryName": "Malawi",
          "Total Population": 4262013,
          "Urban population (% of total)": 5.249,
          "Year": 1967,
          "index": 1843
         },
         {
          "CountryCode": "MYS",
          "CountryName": "Malaysia",
          "Total Population": 10111920,
          "Urban population (% of total)": 31.304,
          "Year": 1967,
          "index": 1844
         },
         {
          "CountryCode": "MDV",
          "CountryName": "Maldives",
          "Total Population": 107488,
          "Urban population (% of total)": 11.336,
          "Year": 1967,
          "index": 1845
         },
         {
          "CountryCode": "MLI",
          "CountryName": "Mali",
          "Total Population": 5706198,
          "Urban population (% of total)": 13.274,
          "Year": 1967,
          "index": 1846
         },
         {
          "CountryCode": "MLT",
          "CountryName": "Malta",
          "Total Population": 311550,
          "Urban population (% of total)": 89.702,
          "Year": 1967,
          "index": 1847
         },
         {
          "CountryCode": "MHL",
          "CountryName": "Marshall Islands",
          "Total Population": 18388,
          "Urban population (% of total)": 45.6,
          "Year": 1967,
          "index": 1848
         },
         {
          "CountryCode": "MRT",
          "CountryName": "Mauritania",
          "Total Population": 1052285,
          "Urban population (% of total)": 11.712,
          "Year": 1967,
          "index": 1849
         },
         {
          "CountryCode": "MUS",
          "CountryName": "Mauritius",
          "Total Population": 783917,
          "Urban population (% of total)": 38.985,
          "Year": 1967,
          "index": 1850
         },
         {
          "CountryCode": "MEX",
          "CountryName": "Mexico",
          "Total Population": 47429553,
          "Urban population (% of total)": 56.587,
          "Year": 1967,
          "index": 1851
         },
         {
          "CountryCode": "FSM",
          "CountryName": "Micronesia, Fed. Sts.",
          "Total Population": 56324,
          "Urban population (% of total)": 24.04,
          "Year": 1967,
          "index": 1852
         },
         {
          "CountryCode": "MDA",
          "CountryName": "Moldova",
          "Total Population": 2918000,
          "Urban population (% of total)": 29.345,
          "Year": 1967,
          "index": 1853
         },
         {
          "CountryCode": "MCO",
          "CountryName": "Monaco",
          "Total Population": 23297,
          "Urban population (% of total)": 100,
          "Year": 1967,
          "index": 1854
         },
         {
          "CountryCode": "MNG",
          "CountryName": "Mongolia",
          "Total Population": 1173186,
          "Urban population (% of total)": 43.181,
          "Year": 1967,
          "index": 1855
         },
         {
          "CountryCode": "MNE",
          "CountryName": "Montenegro",
          "Total Population": 511742,
          "Urban population (% of total)": 24.22,
          "Year": 1967,
          "index": 1856
         },
         {
          "CountryCode": "MAR",
          "CountryName": "Morocco",
          "Total Population": 14978905,
          "Urban population (% of total)": 32.896,
          "Year": 1967,
          "index": 1857
         },
         {
          "CountryCode": "MOZ",
          "CountryName": "Mozambique",
          "Total Population": 8668529,
          "Urban population (% of total)": 6.229,
          "Year": 1967,
          "index": 1858
         },
         {
          "CountryCode": "MMR",
          "CountryName": "Myanmar",
          "Total Population": 25218375,
          "Urban population (% of total)": 21.701,
          "Year": 1967,
          "index": 1859
         },
         {
          "CountryCode": "NAM",
          "CountryName": "Namibia",
          "Total Population": 718622,
          "Urban population (% of total)": 20.929,
          "Year": 1967,
          "index": 1860
         },
         {
          "CountryCode": "NPL",
          "CountryName": "Nepal",
          "Total Population": 11307139,
          "Urban population (% of total)": 3.823,
          "Year": 1967,
          "index": 1861
         },
         {
          "CountryCode": "NLD",
          "CountryName": "Netherlands",
          "Total Population": 12598201,
          "Urban population (% of total)": 61.118,
          "Year": 1967,
          "index": 1862
         },
         {
          "CountryCode": "NCL",
          "CountryName": "New Caledonia",
          "Total Population": 96500,
          "Urban population (% of total)": 47.646,
          "Year": 1967,
          "index": 1863
         },
         {
          "CountryCode": "NZL",
          "CountryName": "New Zealand",
          "Total Population": 2724100,
          "Urban population (% of total)": 79.852,
          "Year": 1967,
          "index": 1864
         },
         {
          "CountryCode": "NIC",
          "CountryName": "Nicaragua",
          "Total Population": 2189880,
          "Urban population (% of total)": 44.427,
          "Year": 1967,
          "index": 1865
         },
         {
          "CountryCode": "NER",
          "CountryName": "Niger",
          "Total Population": 4144238,
          "Urban population (% of total)": 7.493,
          "Year": 1967,
          "index": 1866
         },
         {
          "CountryCode": "NGA",
          "CountryName": "Nigeria",
          "Total Population": 52468593,
          "Urban population (% of total)": 17.027,
          "Year": 1967,
          "index": 1867
         },
         {
          "CountryCode": "MNP",
          "CountryName": "Northern Mariana Islands",
          "Total Population": 11882,
          "Urban population (% of total)": 61.688,
          "Year": 1967,
          "index": 1868
         },
         {
          "CountryCode": "NOR",
          "CountryName": "Norway",
          "Total Population": 3784539,
          "Urban population (% of total)": 60.77,
          "Year": 1967,
          "index": 1869
         },
         {
          "CountryCode": "OMN",
          "CountryName": "Oman",
          "Total Population": 660117,
          "Urban population (% of total)": 25.106,
          "Year": 1967,
          "index": 1870
         },
         {
          "CountryCode": "PAK",
          "CountryName": "Pakistan",
          "Total Population": 53594445,
          "Urban population (% of total)": 24.028,
          "Year": 1967,
          "index": 1871
         },
         {
          "CountryCode": "PLW",
          "CountryName": "Palau",
          "Total Population": 11081,
          "Urban population (% of total)": 58.853,
          "Year": 1967,
          "index": 1872
         },
         {
          "CountryCode": "PAN",
          "CountryName": "Panama",
          "Total Population": 1393800,
          "Urban population (% of total)": 45.732,
          "Year": 1967,
          "index": 1873
         },
         {
          "CountryCode": "PNG",
          "CountryName": "Papua New Guinea",
          "Total Population": 2258877,
          "Urban population (% of total)": 6.712,
          "Year": 1967,
          "index": 1874
         },
         {
          "CountryCode": "PRY",
          "CountryName": "Paraguay",
          "Total Population": 2289579,
          "Urban population (% of total)": 36.571,
          "Year": 1967,
          "index": 1875
         },
         {
          "CountryCode": "PER",
          "CountryName": "Peru",
          "Total Population": 12282081,
          "Urban population (% of total)": 54.096,
          "Year": 1967,
          "index": 1876
         },
         {
          "CountryCode": "PHL",
          "CountryName": "Philippines",
          "Total Population": 32826602,
          "Urban population (% of total)": 32.135,
          "Year": 1967,
          "index": 1877
         },
         {
          "CountryCode": "POL",
          "CountryName": "Poland",
          "Total Population": 31987155,
          "Urban population (% of total)": 50.926,
          "Year": 1967,
          "index": 1878
         },
         {
          "CountryCode": "PRT",
          "CountryName": "Portugal",
          "Total Population": 8874520,
          "Urban population (% of total)": 37.636,
          "Year": 1967,
          "index": 1879
         },
         {
          "CountryCode": "PRI",
          "CountryName": "Puerto Rico",
          "Total Population": 2645674,
          "Urban population (% of total)": 54.314,
          "Year": 1967,
          "index": 1880
         },
         {
          "CountryCode": "QAT",
          "CountryName": "Qatar",
          "Total Population": 86161,
          "Urban population (% of total)": 87.588,
          "Year": 1967,
          "index": 1881
         },
         {
          "CountryCode": "ROM",
          "CountryName": "Romania",
          "Total Population": 19534242,
          "Urban population (% of total)": 38.835,
          "Year": 1967,
          "index": 1882
         },
         {
          "CountryCode": "RUS",
          "CountryName": "Russian Federation",
          "Total Population": 128196000,
          "Urban population (% of total)": 59.918,
          "Year": 1967,
          "index": 1883
         },
         {
          "CountryCode": "RWA",
          "CountryName": "Rwanda",
          "Total Population": 3418313,
          "Urban population (% of total)": 3.003,
          "Year": 1967,
          "index": 1884
         },
         {
          "CountryCode": "WSM",
          "CountryName": "Samoa",
          "Total Population": 134194,
          "Urban population (% of total)": 19.593,
          "Year": 1967,
          "index": 1885
         },
         {
          "CountryCode": "SMR",
          "CountryName": "San Marino",
          "Total Population": 18228,
          "Urban population (% of total)": 56.581,
          "Year": 1967,
          "index": 1886
         },
         {
          "CountryCode": "STP",
          "CountryName": "Sao Tome and Principe",
          "Total Population": 67874,
          "Urban population (% of total)": 24.724,
          "Year": 1967,
          "index": 1887
         },
         {
          "CountryCode": "SAU",
          "CountryName": "Saudi Arabia",
          "Total Population": 5196349,
          "Urban population (% of total)": 42.665,
          "Year": 1967,
          "index": 1888
         },
         {
          "CountryCode": "SEN",
          "CountryName": "Senegal",
          "Total Population": 3862783,
          "Urban population (% of total)": 27.776,
          "Year": 1967,
          "index": 1889
         },
         {
          "CountryCode": "SYC",
          "CountryName": "Seychelles",
          "Total Population": 49911,
          "Urban population (% of total)": 35.449,
          "Year": 1967,
          "index": 1890
         },
         {
          "CountryCode": "SLE",
          "CountryName": "Sierra Leone",
          "Total Population": 2399667,
          "Urban population (% of total)": 21.765,
          "Year": 1967,
          "index": 1891
         },
         {
          "CountryCode": "SGP",
          "CountryName": "Singapore",
          "Total Population": 1977600,
          "Urban population (% of total)": 100,
          "Year": 1967,
          "index": 1892
         },
         {
          "CountryCode": "SVK",
          "CountryName": "Slovak Republic",
          "Total Population": 4449367,
          "Urban population (% of total)": 38.63,
          "Year": 1967,
          "index": 1893
         },
         {
          "CountryCode": "SVN",
          "CountryName": "Slovenia",
          "Total Population": 1689528,
          "Urban population (% of total)": 34.266,
          "Year": 1967,
          "index": 1894
         },
         {
          "CountryCode": "SLB",
          "CountryName": "Solomon Islands",
          "Total Population": 145354,
          "Urban population (% of total)": 7.928,
          "Year": 1967,
          "index": 1895
         },
         {
          "CountryCode": "SOM",
          "CountryName": "Somalia",
          "Total Population": 3227245,
          "Urban population (% of total)": 21.02,
          "Year": 1967,
          "index": 1896
         },
         {
          "CountryCode": "ZAF",
          "CountryName": "South Africa",
          "Total Population": 20707258,
          "Urban population (% of total)": 47.476,
          "Year": 1967,
          "index": 1897
         },
         {
          "CountryCode": "SSD",
          "CountryName": "South Sudan",
          "Total Population": 3407754,
          "Urban population (% of total)": 8.667,
          "Year": 1967,
          "index": 1898
         },
         {
          "CountryCode": "ESP",
          "CountryName": "Spain",
          "Total Population": 32682947,
          "Urban population (% of total)": 63.214,
          "Year": 1967,
          "index": 1899
         },
         {
          "CountryCode": "LKA",
          "CountryName": "Sri Lanka",
          "Total Population": 11703000,
          "Urban population (% of total)": 18.364,
          "Year": 1967,
          "index": 1900
         },
         {
          "CountryCode": "KNA",
          "CountryName": "St. Kitts and Nevis",
          "Total Population": 47383,
          "Urban population (% of total)": 32.196,
          "Year": 1967,
          "index": 1901
         },
         {
          "CountryCode": "LCA",
          "CountryName": "St. Lucia",
          "Total Population": 99526,
          "Urban population (% of total)": 23.153,
          "Year": 1967,
          "index": 1902
         },
         {
          "CountryCode": "VCT",
          "CountryName": "St. Vincent and the Grenadines",
          "Total Population": 87736,
          "Urban population (% of total)": 29.21,
          "Year": 1967,
          "index": 1903
         },
         {
          "CountryCode": "SDN",
          "CountryName": "Sudan",
          "Total Population": 9299545,
          "Urban population (% of total)": 14.567,
          "Year": 1967,
          "index": 1904
         },
         {
          "CountryCode": "SUR",
          "CountryName": "Suriname",
          "Total Population": 350755,
          "Urban population (% of total)": 46.644,
          "Year": 1967,
          "index": 1905
         },
         {
          "CountryCode": "SWZ",
          "CountryName": "Swaziland",
          "Total Population": 411478,
          "Urban population (% of total)": 7.729,
          "Year": 1967,
          "index": 1906
         },
         {
          "CountryCode": "SWE",
          "CountryName": "Sweden",
          "Total Population": 7867931,
          "Urban population (% of total)": 78.727,
          "Year": 1967,
          "index": 1907
         },
         {
          "CountryCode": "CHE",
          "CountryName": "Switzerland",
          "Total Population": 5991785,
          "Urban population (% of total)": 55.483,
          "Year": 1967,
          "index": 1908
         },
         {
          "CountryCode": "SYR",
          "CountryName": "Syrian Arab Republic",
          "Total Population": 5767478,
          "Urban population (% of total)": 41.332,
          "Year": 1967,
          "index": 1909
         },
         {
          "CountryCode": "TJK",
          "CountryName": "Tajikistan",
          "Total Population": 2659452,
          "Urban population (% of total)": 35.96,
          "Year": 1967,
          "index": 1910
         },
         {
          "CountryCode": "TZA",
          "CountryName": "Tanzania",
          "Total Population": 12406040,
          "Urban population (% of total)": 6.373,
          "Year": 1967,
          "index": 1911
         },
         {
          "CountryCode": "THA",
          "CountryName": "Thailand",
          "Total Population": 33778500,
          "Urban population (% of total)": 20.444,
          "Year": 1967,
          "index": 1912
         },
         {
          "CountryCode": "TMP",
          "CountryName": "Timor-Leste",
          "Total Population": 567330,
          "Urban population (% of total)": 11.946,
          "Year": 1967,
          "index": 1913
         },
         {
          "CountryCode": "TGO",
          "CountryName": "Togo",
          "Total Population": 1855445,
          "Urban population (% of total)": 17.374,
          "Year": 1967,
          "index": 1914
         },
         {
          "CountryCode": "TON",
          "CountryName": "Tonga",
          "Total Population": 79048,
          "Urban population (% of total)": 20.097,
          "Year": 1967,
          "index": 1915
         },
         {
          "CountryCode": "TTO",
          "CountryName": "Trinidad and Tobago",
          "Total Population": 925918,
          "Urban population (% of total)": 13.273,
          "Year": 1967,
          "index": 1916
         },
         {
          "CountryCode": "TUN",
          "CountryName": "Tunisia",
          "Total Population": 4832923,
          "Urban population (% of total)": 41.036,
          "Year": 1967,
          "index": 1917
         },
         {
          "CountryCode": "TUR",
          "CountryName": "Turkey",
          "Total Population": 32448404,
          "Urban population (% of total)": 35.759,
          "Year": 1967,
          "index": 1918
         },
         {
          "CountryCode": "TKM",
          "CountryName": "Turkmenistan",
          "Total Population": 2008148,
          "Urban population (% of total)": 47.43,
          "Year": 1967,
          "index": 1919
         },
         {
          "CountryCode": "TCA",
          "CountryName": "Turks and Caicos Islands",
          "Total Population": 5589,
          "Urban population (% of total)": 50.077,
          "Year": 1967,
          "index": 1920
         },
         {
          "CountryCode": "TUV",
          "CountryName": "Tuvalu",
          "Total Population": 7037,
          "Urban population (% of total)": 20.061,
          "Year": 1967,
          "index": 1921
         },
         {
          "CountryCode": "UGA",
          "CountryName": "Uganda",
          "Total Population": 8580632,
          "Urban population (% of total)": 6.014,
          "Year": 1967,
          "index": 1922
         },
         {
          "CountryCode": "UKR",
          "CountryName": "Ukraine",
          "Total Population": 46060456,
          "Urban population (% of total)": 52.348,
          "Year": 1967,
          "index": 1923
         },
         {
          "CountryCode": "ARE",
          "CountryName": "United Arab Emirates",
          "Total Population": 171781,
          "Urban population (% of total)": 79.272,
          "Year": 1967,
          "index": 1924
         },
         {
          "CountryCode": "GBR",
          "CountryName": "United Kingdom",
          "Total Population": 54943600,
          "Urban population (% of total)": 77.541,
          "Year": 1967,
          "index": 1925
         },
         {
          "CountryCode": "USA",
          "CountryName": "United States",
          "Total Population": 198712000,
          "Urban population (% of total)": 72.612,
          "Year": 1967,
          "index": 1926
         },
         {
          "CountryCode": "URY",
          "CountryName": "Uruguay",
          "Total Population": 2750093,
          "Urban population (% of total)": 81.749,
          "Year": 1967,
          "index": 1927
         },
         {
          "CountryCode": "UZB",
          "CountryName": "Uzbekistan",
          "Total Population": 10894306,
          "Urban population (% of total)": 35.82,
          "Year": 1967,
          "index": 1928
         },
         {
          "CountryCode": "VUT",
          "CountryName": "Vanuatu",
          "Total Population": 78518,
          "Urban population (% of total)": 11.718,
          "Year": 1967,
          "index": 1929
         },
         {
          "CountryCode": "VEN",
          "CountryName": "Venezuela, RB",
          "Total Population": 10528054,
          "Urban population (% of total)": 69.005,
          "Year": 1967,
          "index": 1930
         },
         {
          "CountryCode": "VNM",
          "CountryName": "Vietnam",
          "Total Population": 39980000,
          "Urban population (% of total)": 17.153,
          "Year": 1967,
          "index": 1931
         },
         {
          "CountryCode": "VIR",
          "CountryName": "Virgin Islands (U.S.)",
          "Total Population": 50800,
          "Urban population (% of total)": 65.874,
          "Year": 1967,
          "index": 1932
         },
         {
          "CountryCode": "YEM",
          "CountryName": "Yemen, Rep.",
          "Total Population": 5827223,
          "Urban population (% of total)": 11.891,
          "Year": 1967,
          "index": 1933
         },
         {
          "CountryCode": "ZMB",
          "CountryName": "Zambia",
          "Total Population": 3792864,
          "Urban population (% of total)": 26.261,
          "Year": 1967,
          "index": 1934
         },
         {
          "CountryCode": "ZWE",
          "CountryName": "Zimbabwe",
          "Total Population": 4718612,
          "Urban population (% of total)": 15.727,
          "Year": 1967,
          "index": 1935
         },
         {
          "CountryCode": "ARB",
          "CountryName": "Arab World",
          "Total Population": 115477026,
          "Urban population (% of total)": 37.3622729773,
          "Year": 1968,
          "index": 1936
         },
         {
          "CountryCode": "CSS",
          "CountryName": "Caribbean small states",
          "Total Population": 4770152,
          "Urban population (% of total)": 33.7006801517,
          "Year": 1968,
          "index": 1937
         },
         {
          "CountryCode": "CEB",
          "CountryName": "Central Europe and the Baltics",
          "Total Population": 97882394,
          "Urban population (% of total)": 49.6386962498,
          "Year": 1968,
          "index": 1938
         },
         {
          "CountryCode": "EAS",
          "CountryName": "East Asia & Pacific (all income levels)",
          "Total Population": 1224103681,
          "Urban population (% of total)": 24.6627893022,
          "Year": 1968,
          "index": 1939
         },
         {
          "CountryCode": "EAP",
          "CountryName": "East Asia & Pacific (developing only)",
          "Total Population": 1057180652,
          "Urban population (% of total)": 18.7217084015,
          "Year": 1968,
          "index": 1940
         },
         {
          "CountryCode": "EMU",
          "CountryName": "Euro area",
          "Total Population": 283966951,
          "Urban population (% of total)": 66.329057197,
          "Year": 1968,
          "index": 1941
         },
         {
          "CountryCode": "ECS",
          "CountryName": "Europe & Central Asia (all income levels)",
          "Total Population": 725949272,
          "Urban population (% of total)": 59.7842469602,
          "Year": 1968,
          "index": 1942
         },
         {
          "CountryCode": "ECA",
          "CountryName": "Europe & Central Asia (developing only)",
          "Total Population": 178158722,
          "Urban population (% of total)": 43.6761229934,
          "Year": 1968,
          "index": 1943
         },
         {
          "CountryCode": "EUU",
          "CountryName": "European Union",
          "Total Population": 436916057,
          "Urban population (% of total)": 64.9421330328,
          "Year": 1968,
          "index": 1944
         },
         {
          "CountryCode": "FCS",
          "CountryName": "Fragile and conflict affected situations",
          "Total Population": 146322580,
          "Urban population (% of total)": 22.2988822408,
          "Year": 1968,
          "index": 1945
         },
         {
          "CountryCode": "HPC",
          "CountryName": "Heavily indebted poor countries (HIPC)",
          "Total Population": 197828276,
          "Urban population (% of total)": 15.3698122184,
          "Year": 1968,
          "index": 1946
         },
         {
          "CountryCode": "HIC",
          "CountryName": "High income",
          "Total Population": 997332436,
          "Urban population (% of total)": 67.2688484871,
          "Year": 1968,
          "index": 1947
         },
         {
          "CountryCode": "NOC",
          "CountryName": "High income: nonOECD",
          "Total Population": 209075991,
          "Urban population (% of total)": 63.0038002809,
          "Year": 1968,
          "index": 1948
         },
         {
          "CountryCode": "OEC",
          "CountryName": "High income: OECD",
          "Total Population": 788256445,
          "Urban population (% of total)": 68.3254010728,
          "Year": 1968,
          "index": 1949
         },
         {
          "CountryCode": "LCN",
          "CountryName": "Latin America & Caribbean (all income levels)",
          "Total Population": 273654630,
          "Urban population (% of total)": 55.5276484218,
          "Year": 1968,
          "index": 1950
         },
         {
          "CountryCode": "LAC",
          "CountryName": "Latin America & Caribbean (developing only)",
          "Total Population": 223177427,
          "Urban population (% of total)": 51.5904685651,
          "Year": 1968,
          "index": 1951
         },
         {
          "CountryCode": "LDC",
          "CountryName": "Least developed countries: UN classification",
          "Total Population": 293663042,
          "Urban population (% of total)": 12.0442976037,
          "Year": 1968,
          "index": 1952
         },
         {
          "CountryCode": "LMY",
          "CountryName": "Low & middle income",
          "Total Population": 2538058639,
          "Urban population (% of total)": 24.0627092015,
          "Year": 1968,
          "index": 1953
         },
         {
          "CountryCode": "LIC",
          "CountryName": "Low income",
          "Total Population": 188945737,
          "Urban population (% of total)": 14.1888882384,
          "Year": 1968,
          "index": 1954
         },
         {
          "CountryCode": "LMC",
          "CountryName": "Lower middle income",
          "Total Population": 1132412768,
          "Urban population (% of total)": 21.9477893985,
          "Year": 1968,
          "index": 1955
         },
         {
          "CountryCode": "MEA",
          "CountryName": "Middle East & North Africa (all income levels)",
          "Total Population": 131409183,
          "Urban population (% of total)": 41.1364006595,
          "Year": 1968,
          "index": 1956
         },
         {
          "CountryCode": "MNA",
          "CountryName": "Middle East & North Africa (developing only)",
          "Total Population": 121110364,
          "Urban population (% of total)": 39.5824973299,
          "Year": 1968,
          "index": 1957
         },
         {
          "CountryCode": "MIC",
          "CountryName": "Middle income",
          "Total Population": 2349112902,
          "Urban population (% of total)": 24.8572816825,
          "Year": 1968,
          "index": 1958
         },
         {
          "CountryCode": "NAC",
          "CountryName": "North America",
          "Total Population": 221503000,
          "Urban population (% of total)": 73.1385496901,
          "Year": 1968,
          "index": 1959
         },
         {
          "CountryCode": "OED",
          "CountryName": "OECD members",
          "Total Population": 870346341,
          "Urban population (% of total)": 66.5013300574,
          "Year": 1968,
          "index": 1960
         },
         {
          "CountryCode": "OSS",
          "CountryName": "Other small states",
          "Total Population": 7782451,
          "Urban population (% of total)": 19.0293797081,
          "Year": 1968,
          "index": 1961
         },
         {
          "CountryCode": "PSS",
          "CountryName": "Pacific island small states",
          "Total Population": 1093173,
          "Urban population (% of total)": 25.3801647891,
          "Year": 1968,
          "index": 1962
         },
         {
          "CountryCode": "SST",
          "CountryName": "Small states",
          "Total Population": 13645776,
          "Urban population (% of total)": 24.666790137,
          "Year": 1968,
          "index": 1963
         },
         {
          "CountryCode": "SAS",
          "CountryName": "South Asia",
          "Total Population": 681405837,
          "Urban population (% of total)": 18.2334491137,
          "Year": 1968,
          "index": 1964
         },
         {
          "CountryCode": "SSF",
          "CountryName": "Sub-Saharan Africa (all income levels)",
          "Total Population": 277365472,
          "Urban population (% of total)": 17.3035700143,
          "Year": 1968,
          "index": 1965
         },
         {
          "CountryCode": "SSA",
          "CountryName": "Sub-Saharan Africa (developing only)",
          "Total Population": 277025637,
          "Urban population (% of total)": 17.2901321459,
          "Year": 1968,
          "index": 1966
         },
         {
          "CountryCode": "UMC",
          "CountryName": "Upper middle income",
          "Total Population": 1216700134,
          "Urban population (% of total)": 27.5624366992,
          "Year": 1968,
          "index": 1967
         },
         {
          "CountryCode": "WLD",
          "CountryName": "World",
          "Total Population": 3535391075,
          "Urban population (% of total)": 36.1335257229,
          "Year": 1968,
          "index": 1968
         },
         {
          "CountryCode": "AFG",
          "CountryName": "Afghanistan",
          "Total Population": 10599790,
          "Urban population (% of total)": 10.786,
          "Year": 1968,
          "index": 1969
         },
         {
          "CountryCode": "ALB",
          "CountryName": "Albania",
          "Total Population": 2022272,
          "Urban population (% of total)": 31.446,
          "Year": 1968,
          "index": 1970
         },
         {
          "CountryCode": "DZA",
          "CountryName": "Algeria",
          "Total Population": 13744383,
          "Urban population (% of total)": 39.169,
          "Year": 1968,
          "index": 1971
         },
         {
          "CountryCode": "ASM",
          "CountryName": "American Samoa",
          "Total Population": 25886,
          "Urban population (% of total)": 69.574,
          "Year": 1968,
          "index": 1972
         },
         {
          "CountryCode": "ADO",
          "CountryName": "Andorra",
          "Total Population": 21888,
          "Urban population (% of total)": 76.588,
          "Year": 1968,
          "index": 1973
         },
         {
          "CountryCode": "AGO",
          "CountryName": "Angola",
          "Total Population": 6066094,
          "Urban population (% of total)": 13.932,
          "Year": 1968,
          "index": 1974
         },
         {
          "CountryCode": "ATG",
          "CountryName": "Antigua and Barbuda",
          "Total Population": 63176,
          "Urban population (% of total)": 34.829,
          "Year": 1968,
          "index": 1975
         },
         {
          "CountryCode": "ARG",
          "CountryName": "Argentina",
          "Total Population": 23261273,
          "Urban population (% of total)": 77.901,
          "Year": 1968,
          "index": 1976
         },
         {
          "CountryCode": "ARM",
          "CountryName": "Armenia",
          "Total Population": 2394635,
          "Urban population (% of total)": 58.195,
          "Year": 1968,
          "index": 1977
         },
         {
          "CountryCode": "ABW",
          "CountryName": "Aruba",
          "Total Population": 58385,
          "Urban population (% of total)": 50.654,
          "Year": 1968,
          "index": 1978
         },
         {
          "CountryCode": "AUS",
          "CountryName": "Australia",
          "Total Population": 12009000,
          "Urban population (% of total)": 84.573,
          "Year": 1968,
          "index": 1979
         },
         {
          "CountryCode": "AUT",
          "CountryName": "Austria",
          "Total Population": 7415403,
          "Urban population (% of total)": 65.159,
          "Year": 1968,
          "index": 1980
         },
         {
          "CountryCode": "AZE",
          "CountryName": "Azerbaijan",
          "Total Population": 4950977,
          "Urban population (% of total)": 50.263,
          "Year": 1968,
          "index": 1981
         },
         {
          "CountryCode": "BHS",
          "CountryName": "Bahamas, The",
          "Total Population": 158629,
          "Urban population (% of total)": 65.416,
          "Year": 1968,
          "index": 1982
         },
         {
          "CountryCode": "BHR",
          "CountryName": "Bahrain",
          "Total Population": 200953,
          "Urban population (% of total)": 83.275,
          "Year": 1968,
          "index": 1983
         },
         {
          "CountryCode": "BGD",
          "CountryName": "Bangladesh",
          "Total Population": 61585520,
          "Urban population (% of total)": 7.009,
          "Year": 1968,
          "index": 1984
         },
         {
          "CountryCode": "BRB",
          "CountryName": "Barbados",
          "Total Population": 237199,
          "Urban population (% of total)": 37.36,
          "Year": 1968,
          "index": 1985
         },
         {
          "CountryCode": "BLR",
          "CountryName": "Belarus",
          "Total Population": 8874552,
          "Urban population (% of total)": 41.588,
          "Year": 1968,
          "index": 1986
         },
         {
          "CountryCode": "BEL",
          "CountryName": "Belgium",
          "Total Population": 9618756,
          "Urban population (% of total)": 93.569,
          "Year": 1968,
          "index": 1987
         },
         {
          "CountryCode": "BLZ",
          "CountryName": "Belize",
          "Total Population": 116061,
          "Urban population (% of total)": 51.549,
          "Year": 1968,
          "index": 1988
         },
         {
          "CountryCode": "BEN",
          "CountryName": "Benin",
          "Total Population": 2788551,
          "Urban population (% of total)": 14.903,
          "Year": 1968,
          "index": 1989
         },
         {
          "CountryCode": "BMU",
          "CountryName": "Bermuda",
          "Total Population": 53000,
          "Urban population (% of total)": 100,
          "Year": 1968,
          "index": 1990
         },
         {
          "CountryCode": "BTN",
          "CountryName": "Bhutan",
          "Total Population": 273868,
          "Urban population (% of total)": 5.487,
          "Year": 1968,
          "index": 1991
         },
         {
          "CountryCode": "BOL",
          "CountryName": "Bolivia",
          "Total Population": 4324066,
          "Urban population (% of total)": 39.166,
          "Year": 1968,
          "index": 1992
         },
         {
          "CountryCode": "BIH",
          "CountryName": "Bosnia and Herzegovina",
          "Total Population": 3661642,
          "Urban population (% of total)": 25.387,
          "Year": 1968,
          "index": 1993
         },
         {
          "CountryCode": "BWA",
          "CountryName": "Botswana",
          "Total Population": 650730,
          "Urban population (% of total)": 5.912,
          "Year": 1968,
          "index": 1994
         },
         {
          "CountryCode": "BRA",
          "CountryName": "Brazil",
          "Total Population": 91213009,
          "Urban population (% of total)": 53.97,
          "Year": 1968,
          "index": 1995
         },
         {
          "CountryCode": "BRN",
          "CountryName": "Brunei Darussalam",
          "Total Population": 118176,
          "Urban population (% of total)": 58.118,
          "Year": 1968,
          "index": 1996
         },
         {
          "CountryCode": "BGR",
          "CountryName": "Bulgaria",
          "Total Population": 8369603,
          "Urban population (% of total)": 49.768,
          "Year": 1968,
          "index": 1997
         },
         {
          "CountryCode": "BFA",
          "CountryName": "Burkina Faso",
          "Total Population": 5434040,
          "Urban population (% of total)": 5.52,
          "Year": 1968,
          "index": 1998
         },
         {
          "CountryCode": "BDI",
          "CountryName": "Burundi",
          "Total Population": 3317315,
          "Urban population (% of total)": 2.611,
          "Year": 1968,
          "index": 1999
         },
         {
          "CountryCode": "CPV",
          "CountryName": "Cabo Verde",
          "Total Population": 257478,
          "Urban population (% of total)": 18.954,
          "Year": 1968,
          "index": 2000
         },
         {
          "CountryCode": "KHM",
          "CountryName": "Cambodia",
          "Total Population": 6795514,
          "Urban population (% of total)": 13.291,
          "Year": 1968,
          "index": 2001
         },
         {
          "CountryCode": "CMR",
          "CountryName": "Cameroon",
          "Total Population": 6437157,
          "Urban population (% of total)": 18.875,
          "Year": 1968,
          "index": 2002
         },
         {
          "CountryCode": "CAN",
          "CountryName": "Canada",
          "Total Population": 20744000,
          "Urban population (% of total)": 74.662,
          "Year": 1968,
          "index": 2003
         },
         {
          "CountryCode": "CYM",
          "CountryName": "Cayman Islands",
          "Total Population": 8632,
          "Urban population (% of total)": 100,
          "Year": 1968,
          "index": 2004
         },
         {
          "CountryCode": "CAF",
          "CountryName": "Central African Republic",
          "Total Population": 1755260,
          "Urban population (% of total)": 25.815,
          "Year": 1968,
          "index": 2005
         },
         {
          "CountryCode": "TCD",
          "CountryName": "Chad",
          "Total Population": 3500778,
          "Urban population (% of total)": 10.196,
          "Year": 1968,
          "index": 2006
         },
         {
          "CountryCode": "CHI",
          "CountryName": "Channel Islands",
          "Total Population": 118726,
          "Urban population (% of total)": 36.604,
          "Year": 1968,
          "index": 2007
         },
         {
          "CountryCode": "CHL",
          "CountryName": "Chile",
          "Total Population": 9187592,
          "Urban population (% of total)": 73.854,
          "Year": 1968,
          "index": 2008
         },
         {
          "CountryCode": "CHN",
          "CountryName": "China",
          "Total Population": 774510000,
          "Urban population (% of total)": 17.656,
          "Year": 1968,
          "index": 2009
         },
         {
          "CountryCode": "COL",
          "CountryName": "Colombia",
          "Total Population": 20905061,
          "Urban population (% of total)": 53.306,
          "Year": 1968,
          "index": 2010
         },
         {
          "CountryCode": "COM",
          "CountryName": "Comoros",
          "Total Population": 218794,
          "Urban population (% of total)": 18.685,
          "Year": 1968,
          "index": 2011
         },
         {
          "CountryCode": "ZAR",
          "CountryName": "Congo, Dem. Rep.",
          "Total Population": 18913177,
          "Urban population (% of total)": 24.134,
          "Year": 1968,
          "index": 2012
         },
         {
          "CountryCode": "COG",
          "CountryName": "Congo, Rep.",
          "Total Population": 1259190,
          "Urban population (% of total)": 37.569,
          "Year": 1968,
          "index": 2013
         },
         {
          "CountryCode": "CRI",
          "CountryName": "Costa Rica",
          "Total Population": 1746870,
          "Urban population (% of total)": 37.601,
          "Year": 1968,
          "index": 2014
         },
         {
          "CountryCode": "CIV",
          "CountryName": "Cote d'Ivoire",
          "Total Population": 4794399,
          "Urban population (% of total)": 26.659,
          "Year": 1968,
          "index": 2015
         },
         {
          "CountryCode": "HRV",
          "CountryName": "Croatia",
          "Total Population": 4364000,
          "Urban population (% of total)": 38.076,
          "Year": 1968,
          "index": 2016
         },
         {
          "CountryCode": "CUB",
          "CountryName": "Cuba",
          "Total Population": 8413329,
          "Urban population (% of total)": 59.895,
          "Year": 1968,
          "index": 2017
         },
         {
          "CountryCode": "CUW",
          "CountryName": "Curacao",
          "Total Population": 140298,
          "Urban population (% of total)": 77.734,
          "Year": 1968,
          "index": 2018
         },
         {
          "CountryCode": "CYP",
          "CountryName": "Cyprus",
          "Total Population": 598491,
          "Urban population (% of total)": 39.726,
          "Year": 1968,
          "index": 2019
         },
         {
          "CountryCode": "CZE",
          "CountryName": "Czech Republic",
          "Total Population": 9876346,
          "Urban population (% of total)": 63.456,
          "Year": 1968,
          "index": 2020
         },
         {
          "CountryCode": "DNK",
          "CountryName": "Denmark",
          "Total Population": 4864883,
          "Urban population (% of total)": 78.698,
          "Year": 1968,
          "index": 2021
         },
         {
          "CountryCode": "DJI",
          "CountryName": "Djibouti",
          "Total Population": 140461,
          "Urban population (% of total)": 59.54,
          "Year": 1968,
          "index": 2022
         },
         {
          "CountryCode": "DMA",
          "CountryName": "Dominica",
          "Total Population": 69042,
          "Urban population (% of total)": 38.381,
          "Year": 1968,
          "index": 2023
         },
         {
          "CountryCode": "DOM",
          "CountryName": "Dominican Republic",
          "Total Population": 4250026,
          "Urban population (% of total)": 38.104,
          "Year": 1968,
          "index": 2024
         },
         {
          "CountryCode": "ECU",
          "CountryName": "Ecuador",
          "Total Population": 5730908,
          "Urban population (% of total)": 38.215,
          "Year": 1968,
          "index": 2025
         },
         {
          "CountryCode": "EGY",
          "CountryName": "Egypt, Arab Rep.",
          "Total Population": 33252275,
          "Urban population (% of total)": 40.758,
          "Year": 1968,
          "index": 2026
         },
         {
          "CountryCode": "SLV",
          "CountryName": "El Salvador",
          "Total Population": 3477702,
          "Urban population (% of total)": 39.205,
          "Year": 1968,
          "index": 2027
         },
         {
          "CountryCode": "GNQ",
          "CountryName": "Equatorial Guinea",
          "Total Population": 288701,
          "Urban population (% of total)": 26.773,
          "Year": 1968,
          "index": 2028
         },
         {
          "CountryCode": "ERI",
          "CountryName": "Eritrea",
          "Total Population": 1713846,
          "Urban population (% of total)": 12.263,
          "Year": 1968,
          "index": 2029
         },
         {
          "CountryCode": "EST",
          "CountryName": "Estonia",
          "Total Population": 1331214,
          "Urban population (% of total)": 63.577,
          "Year": 1968,
          "index": 2030
         },
         {
          "CountryCode": "ETH",
          "CountryName": "Ethiopia",
          "Total Population": 26945459,
          "Urban population (% of total)": 8.26,
          "Year": 1968,
          "index": 2031
         },
         {
          "CountryCode": "FRO",
          "CountryName": "Faeroe Islands",
          "Total Population": 37718,
          "Urban population (% of total)": 27.122,
          "Year": 1968,
          "index": 2032
         },
         {
          "CountryCode": "FJI",
          "CountryName": "Fiji",
          "Total Population": 498887,
          "Urban population (% of total)": 33.987,
          "Year": 1968,
          "index": 2033
         },
         {
          "CountryCode": "FIN",
          "CountryName": "Finland",
          "Total Population": 4626469,
          "Urban population (% of total)": 62.106,
          "Year": 1968,
          "index": 2034
         },
         {
          "CountryCode": "FRA",
          "CountryName": "France",
          "Total Population": 51276054,
          "Urban population (% of total)": 70.238,
          "Year": 1968,
          "index": 2035
         },
         {
          "CountryCode": "PYF",
          "CountryName": "French Polynesia",
          "Total Population": 103385,
          "Urban population (% of total)": 52.38,
          "Year": 1968,
          "index": 2036
         },
         {
          "CountryCode": "GAB",
          "CountryName": "Gabon",
          "Total Population": 565878,
          "Urban population (% of total)": 28.533,
          "Year": 1968,
          "index": 2037
         },
         {
          "CountryCode": "GMB",
          "CountryName": "Gambia, The",
          "Total Population": 425509,
          "Urban population (% of total)": 17.373,
          "Year": 1968,
          "index": 2038
         },
         {
          "CountryCode": "GEO",
          "CountryName": "Georgia",
          "Total Population": 4042300,
          "Urban population (% of total)": 47.025,
          "Year": 1968,
          "index": 2039
         },
         {
          "CountryCode": "DEU",
          "CountryName": "Germany",
          "Total Population": 77294314,
          "Urban population (% of total)": 72.147,
          "Year": 1968,
          "index": 2040
         },
         {
          "CountryCode": "GHA",
          "CountryName": "Ghana",
          "Total Population": 8221021,
          "Urban population (% of total)": 27.86,
          "Year": 1968,
          "index": 2041
         },
         {
          "CountryCode": "GRC",
          "CountryName": "Greece",
          "Total Population": 8740765,
          "Urban population (% of total)": 62.543,
          "Year": 1968,
          "index": 2042
         },
         {
          "CountryCode": "GRL",
          "CountryName": "Greenland",
          "Total Population": 43400,
          "Urban population (% of total)": 70.186,
          "Year": 1968,
          "index": 2043
         },
         {
          "CountryCode": "GRD",
          "CountryName": "Grenada",
          "Total Population": 94875,
          "Urban population (% of total)": 31.848,
          "Year": 1968,
          "index": 2044
         },
         {
          "CountryCode": "GUM",
          "CountryName": "Guam",
          "Total Population": 80219,
          "Urban population (% of total)": 58.738,
          "Year": 1968,
          "index": 2045
         },
         {
          "CountryCode": "GTM",
          "CountryName": "Guatemala",
          "Total Population": 5131461,
          "Urban population (% of total)": 34.919,
          "Year": 1968,
          "index": 2046
         },
         {
          "CountryCode": "GIN",
          "CountryName": "Guinea",
          "Total Population": 4094528,
          "Urban population (% of total)": 14.716,
          "Year": 1968,
          "index": 2047
         },
         {
          "CountryCode": "GNB",
          "CountryName": "Guinea-Bissau",
          "Total Population": 686155,
          "Urban population (% of total)": 14.815,
          "Year": 1968,
          "index": 2048
         },
         {
          "CountryCode": "GUY",
          "CountryName": "Guyana",
          "Total Population": 680068,
          "Urban population (% of total)": 29.329,
          "Year": 1968,
          "index": 2049
         },
         {
          "CountryCode": "HTI",
          "CountryName": "Haiti",
          "Total Population": 4534233,
          "Urban population (% of total)": 18.866,
          "Year": 1968,
          "index": 2050
         },
         {
          "CountryCode": "HND",
          "CountryName": "Honduras",
          "Total Population": 2552200,
          "Urban population (% of total)": 27.596,
          "Year": 1968,
          "index": 2051
         },
         {
          "CountryCode": "HKG",
          "CountryName": "Hong Kong SAR, China",
          "Total Population": 3802700,
          "Urban population (% of total)": 87.22,
          "Year": 1968,
          "index": 2052
         },
         {
          "CountryCode": "HUN",
          "CountryName": "Hungary",
          "Total Population": 10255815,
          "Urban population (% of total)": 59.276,
          "Year": 1968,
          "index": 2053
         },
         {
          "CountryCode": "ISL",
          "CountryName": "Iceland",
          "Total Population": 201488,
          "Urban population (% of total)": 84.057,
          "Year": 1968,
          "index": 2054
         },
         {
          "CountryCode": "IND",
          "CountryName": "India",
          "Total Population": 530274729,
          "Urban population (% of total)": 19.366,
          "Year": 1968,
          "index": 2055
         },
         {
          "CountryCode": "IDN",
          "CountryName": "Indonesia",
          "Total Population": 108821565,
          "Urban population (% of total)": 16.549,
          "Year": 1968,
          "index": 2056
         },
         {
          "CountryCode": "IRN",
          "CountryName": "Iran, Islamic Rep.",
          "Total Population": 27032944,
          "Urban population (% of total)": 39.437,
          "Year": 1968,
          "index": 2057
         },
         {
          "CountryCode": "IRQ",
          "CountryName": "Iraq",
          "Total Population": 9260685,
          "Urban population (% of total)": 54.02,
          "Year": 1968,
          "index": 2058
         },
         {
          "CountryCode": "IRL",
          "CountryName": "Ireland",
          "Total Population": 2915550,
          "Urban population (% of total)": 50.524,
          "Year": 1968,
          "index": 2059
         },
         {
          "CountryCode": "IMY",
          "CountryName": "Isle of Man",
          "Total Population": 54289,
          "Urban population (% of total)": 56.151,
          "Year": 1968,
          "index": 2060
         },
         {
          "CountryCode": "ISR",
          "CountryName": "Israel",
          "Total Population": 2803000,
          "Urban population (% of total)": 82.952,
          "Year": 1968,
          "index": 2061
         },
         {
          "CountryCode": "ITA",
          "CountryName": "Italy",
          "Total Population": 53235750,
          "Urban population (% of total)": 63.309,
          "Year": 1968,
          "index": 2062
         },
         {
          "CountryCode": "JAM",
          "CountryName": "Jamaica",
          "Total Population": 1823706,
          "Urban population (% of total)": 39.815,
          "Year": 1968,
          "index": 2063
         },
         {
          "CountryCode": "JPN",
          "CountryName": "Japan",
          "Total Population": 101061000,
          "Urban population (% of total)": 70.316,
          "Year": 1968,
          "index": 2064
         },
         {
          "CountryCode": "JOR",
          "CountryName": "Jordan",
          "Total Population": 1358918,
          "Urban population (% of total)": 55.296,
          "Year": 1968,
          "index": 2065
         },
         {
          "CountryCode": "KAZ",
          "CountryName": "Kazakhstan",
          "Total Population": 12341412,
          "Urban population (% of total)": 48.997,
          "Year": 1968,
          "index": 2066
         },
         {
          "CountryCode": "KEN",
          "CountryName": "Kenya",
          "Total Population": 10502250,
          "Urban population (% of total)": 9.525,
          "Year": 1968,
          "index": 2067
         },
         {
          "CountryCode": "KIR",
          "CountryName": "Kiribati",
          "Total Population": 49389,
          "Urban population (% of total)": 21.863,
          "Year": 1968,
          "index": 2068
         },
         {
          "CountryCode": "PRK",
          "CountryName": "Korea, Dem. Rep.",
          "Total Population": 13608611,
          "Urban population (% of total)": 49.012,
          "Year": 1968,
          "index": 2069
         },
         {
          "CountryCode": "KOR",
          "CountryName": "Korea, Rep.",
          "Total Population": 30838302,
          "Urban population (% of total)": 36.846,
          "Year": 1968,
          "index": 2070
         },
         {
          "CountryCode": "KWT",
          "CountryName": "Kuwait",
          "Total Population": 639170,
          "Urban population (% of total)": 83.371,
          "Year": 1968,
          "index": 2071
         },
         {
          "CountryCode": "KGZ",
          "CountryName": "Kyrgyz Republic",
          "Total Population": 2818300,
          "Urban population (% of total)": 36.871,
          "Year": 1968,
          "index": 2072
         },
         {
          "CountryCode": "LAO",
          "CountryName": "Lao PDR",
          "Total Population": 2554843,
          "Urban population (% of total)": 8.994,
          "Year": 1968,
          "index": 2073
         },
         {
          "CountryCode": "LVA",
          "CountryName": "Latvia",
          "Total Population": 2323619,
          "Urban population (% of total)": 59.175,
          "Year": 1968,
          "index": 2074
         },
         {
          "CountryCode": "LBN",
          "CountryName": "Lebanon",
          "Total Population": 2210965,
          "Urban population (% of total)": 56.101,
          "Year": 1968,
          "index": 2075
         },
         {
          "CountryCode": "LSO",
          "CountryName": "Lesotho",
          "Total Population": 990869,
          "Urban population (% of total)": 7.802,
          "Year": 1968,
          "index": 2076
         },
         {
          "CountryCode": "LBR",
          "CountryName": "Liberia",
          "Total Population": 1348448,
          "Urban population (% of total)": 24.407,
          "Year": 1968,
          "index": 2077
         },
         {
          "CountryCode": "LBY",
          "CountryName": "Libya",
          "Total Population": 1941056,
          "Urban population (% of total)": 43.07,
          "Year": 1968,
          "index": 2078
         },
         {
          "CountryCode": "LIE",
          "CountryName": "Liechtenstein",
          "Total Population": 20235,
          "Urban population (% of total)": 18.855,
          "Year": 1968,
          "index": 2079
         },
         {
          "CountryCode": "LTU",
          "CountryName": "Lithuania",
          "Total Population": 3078850,
          "Urban population (% of total)": 47.507,
          "Year": 1968,
          "index": 2080
         },
         {
          "CountryCode": "LUX",
          "CountryName": "Luxembourg",
          "Total Population": 335850,
          "Urban population (% of total)": 73.425,
          "Year": 1968,
          "index": 2081
         },
         {
          "CountryCode": "MAC",
          "CountryName": "Macao SAR, China",
          "Total Population": 237129,
          "Urban population (% of total)": 96.715,
          "Year": 1968,
          "index": 2082
         },
         {
          "CountryCode": "MKD",
          "CountryName": "Macedonia, FYR",
          "Total Population": 1672401,
          "Urban population (% of total)": 44.364,
          "Year": 1968,
          "index": 2083
         },
         {
          "CountryCode": "MDG",
          "CountryName": "Madagascar",
          "Total Population": 6232704,
          "Urban population (% of total)": 13.41,
          "Year": 1968,
          "index": 2084
         },
         {
          "CountryCode": "MWI",
          "CountryName": "Malawi",
          "Total Population": 4370664,
          "Urban population (% of total)": 5.505,
          "Year": 1968,
          "index": 2085
         },
         {
          "CountryCode": "MYS",
          "CountryName": "Malaysia",
          "Total Population": 10375877,
          "Urban population (% of total)": 32.013,
          "Year": 1968,
          "index": 2086
         },
         {
          "CountryCode": "MDV",
          "CountryName": "Maldives",
          "Total Population": 109901,
          "Urban population (% of total)": 11.516,
          "Year": 1968,
          "index": 2087
         },
         {
          "CountryCode": "MLI",
          "CountryName": "Mali",
          "Total Population": 5780834,
          "Urban population (% of total)": 13.619,
          "Year": 1968,
          "index": 2088
         },
         {
          "CountryCode": "MLT",
          "CountryName": "Malta",
          "Total Population": 307900,
          "Urban population (% of total)": 89.682,
          "Year": 1968,
          "index": 2089
         },
         {
          "CountryCode": "MHL",
          "CountryName": "Marshall Islands",
          "Total Population": 18965,
          "Urban population (% of total)": 48.229,
          "Year": 1968,
          "index": 2090
         },
         {
          "CountryCode": "MRT",
          "CountryName": "Mauritania",
          "Total Population": 1083586,
          "Urban population (% of total)": 12.606,
          "Year": 1968,
          "index": 2091
         },
         {
          "CountryCode": "MUS",
          "CountryName": "Mauritius",
          "Total Population": 798413,
          "Urban population (% of total)": 39.994,
          "Year": 1968,
          "index": 2092
         },
         {
          "CountryCode": "MEX",
          "CountryName": "Mexico",
          "Total Population": 48893607,
          "Urban population (% of total)": 57.411,
          "Year": 1968,
          "index": 2093
         },
         {
          "CountryCode": "FSM",
          "CountryName": "Micronesia, Fed. Sts.",
          "Total Population": 58404,
          "Urban population (% of total)": 24.295,
          "Year": 1968,
          "index": 2094
         },
         {
          "CountryCode": "MDA",
          "CountryName": "Moldova",
          "Total Population": 2960000,
          "Urban population (% of total)": 30.26,
          "Year": 1968,
          "index": 2095
         },
         {
          "CountryCode": "MCO",
          "CountryName": "Monaco",
          "Total Population": 23296,
          "Urban population (% of total)": 100,
          "Year": 1968,
          "index": 2096
         },
         {
          "CountryCode": "MNG",
          "CountryName": "Mongolia",
          "Total Population": 1207108,
          "Urban population (% of total)": 43.717,
          "Year": 1968,
          "index": 2097
         },
         {
          "CountryCode": "MNE",
          "CountryName": "Montenegro",
          "Total Population": 516628,
          "Urban population (% of total)": 25.079,
          "Year": 1968,
          "index": 2098
         },
         {
          "CountryCode": "MAR",
          "CountryName": "Morocco",
          "Total Population": 15335173,
          "Urban population (% of total)": 33.419,
          "Year": 1968,
          "index": 2099
         },
         {
          "CountryCode": "MOZ",
          "CountryName": "Mozambique",
          "Total Population": 8860823,
          "Urban population (% of total)": 6.471,
          "Year": 1968,
          "index": 2100
         },
         {
          "CountryCode": "MMR",
          "CountryName": "Myanmar",
          "Total Population": 25853248,
          "Urban population (% of total)": 22.073,
          "Year": 1968,
          "index": 2101
         },
         {
          "CountryCode": "NAM",
          "CountryName": "Namibia",
          "Total Population": 737802,
          "Urban population (% of total)": 21.387,
          "Year": 1968,
          "index": 2102
         },
         {
          "CountryCode": "NPL",
          "CountryName": "Nepal",
          "Total Population": 11524132,
          "Urban population (% of total)": 3.867,
          "Year": 1968,
          "index": 2103
         },
         {
          "CountryCode": "NLD",
          "CountryName": "Netherlands",
          "Total Population": 12729721,
          "Urban population (% of total)": 61.3,
          "Year": 1968,
          "index": 2104
         },
         {
          "CountryCode": "NCL",
          "CountryName": "New Caledonia",
          "Total Population": 99500,
          "Urban population (% of total)": 49.156,
          "Year": 1968,
          "index": 2105
         },
         {
          "CountryCode": "NZL",
          "CountryName": "New Zealand",
          "Total Population": 2748100,
          "Urban population (% of total)": 80.277,
          "Year": 1968,
          "index": 2106
         },
         {
          "CountryCode": "NIC",
          "CountryName": "Nicaragua",
          "Total Population": 2256779,
          "Urban population (% of total)": 45.293,
          "Year": 1968,
          "index": 2107
         },
         {
          "CountryCode": "NER",
          "CountryName": "Niger",
          "Total Population": 4258415,
          "Urban population (% of total)": 7.906,
          "Year": 1968,
          "index": 2108
         },
         {
          "CountryCode": "NGA",
          "CountryName": "Nigeria",
          "Total Population": 53640547,
          "Urban population (% of total)": 17.269,
          "Year": 1968,
          "index": 2109
         },
         {
          "CountryCode": "MNP",
          "CountryName": "Northern Mariana Islands",
          "Total Population": 12318,
          "Urban population (% of total)": 64.592,
          "Year": 1968,
          "index": 2110
         },
         {
          "CountryCode": "NOR",
          "CountryName": "Norway",
          "Total Population": 3816486,
          "Urban population (% of total)": 62.34,
          "Year": 1968,
          "index": 2111
         },
         {
          "CountryCode": "OMN",
          "CountryName": "Oman",
          "Total Population": 679593,
          "Urban population (% of total)": 26.575,
          "Year": 1968,
          "index": 2112
         },
         {
          "CountryCode": "PAK",
          "CountryName": "Pakistan",
          "Total Population": 55045897,
          "Urban population (% of total)": 24.289,
          "Year": 1968,
          "index": 2113
         },
         {
          "CountryCode": "PLW",
          "CountryName": "Palau",
          "Total Population": 11206,
          "Urban population (% of total)": 59.142,
          "Year": 1968,
          "index": 2114
         },
         {
          "CountryCode": "PAN",
          "CountryName": "Panama",
          "Total Population": 1434660,
          "Urban population (% of total)": 46.385,
          "Year": 1968,
          "index": 2115
         },
         {
          "CountryCode": "PNG",
          "CountryName": "Papua New Guinea",
          "Total Population": 2313017,
          "Urban population (% of total)": 7.625,
          "Year": 1968,
          "index": 2116
         },
         {
          "CountryCode": "PRY",
          "CountryName": "Paraguay",
          "Total Population": 2350900,
          "Urban population (% of total)": 36.735,
          "Year": 1968,
          "index": 2117
         },
         {
          "CountryCode": "PER",
          "CountryName": "Peru",
          "Total Population": 12629333,
          "Urban population (% of total)": 55.207,
          "Year": 1968,
          "index": 2118
         },
         {
          "CountryCode": "PHL",
          "CountryName": "Philippines",
          "Total Population": 33797041,
          "Urban population (% of total)": 32.403,
          "Year": 1968,
          "index": 2119
         },
         {
          "CountryCode": "POL",
          "CountryName": "Poland",
          "Total Population": 32294655,
          "Urban population (% of total)": 51.326,
          "Year": 1968,
          "index": 2120
         },
         {
          "CountryCode": "PRT",
          "CountryName": "Portugal",
          "Total Population": 8836650,
          "Urban population (% of total)": 38.025,
          "Year": 1968,
          "index": 2121
         },
         {
          "CountryCode": "PRI",
          "CountryName": "Puerto Rico",
          "Total Population": 2662064,
          "Urban population (% of total)": 55.702,
          "Year": 1968,
          "index": 2122
         },
         {
          "CountryCode": "QAT",
          "CountryName": "Qatar",
          "Total Population": 93043,
          "Urban population (% of total)": 87.848,
          "Year": 1968,
          "index": 2123
         },
         {
          "CountryCode": "ROM",
          "CountryName": "Romania",
          "Total Population": 19799831,
          "Urban population (% of total)": 39.328,
          "Year": 1968,
          "index": 2124
         },
         {
          "CountryCode": "RUS",
          "CountryName": "Russian Federation",
          "Total Population": 128928000,
          "Urban population (% of total)": 60.783,
          "Year": 1968,
          "index": 2125
         },
         {
          "CountryCode": "RWA",
          "CountryName": "Rwanda",
          "Total Population": 3527260,
          "Urban population (% of total)": 3.066,
          "Year": 1968,
          "index": 2126
         },
         {
          "CountryCode": "WSM",
          "CountryName": "Samoa",
          "Total Population": 137503,
          "Urban population (% of total)": 19.844,
          "Year": 1968,
          "index": 2127
         },
         {
          "CountryCode": "SMR",
          "CountryName": "San Marino",
          "Total Population": 18587,
          "Urban population (% of total)": 57.663,
          "Year": 1968,
          "index": 2128
         },
         {
          "CountryCode": "STP",
          "CountryName": "Sao Tome and Principe",
          "Total Population": 70040,
          "Urban population (% of total)": 26.264,
          "Year": 1968,
          "index": 2129
         },
         {
          "CountryCode": "SAU",
          "CountryName": "Saudi Arabia",
          "Total Population": 5389848,
          "Urban population (% of total)": 44.654,
          "Year": 1968,
          "index": 2130
         },
         {
          "CountryCode": "SEN",
          "CountryName": "Senegal",
          "Total Population": 3975614,
          "Urban population (% of total)": 28.507,
          "Year": 1968,
          "index": 2131
         },
         {
          "CountryCode": "SYC",
          "CountryName": "Seychelles",
          "Total Population": 51134,
          "Urban population (% of total)": 36.641,
          "Year": 1968,
          "index": 2132
         },
         {
          "CountryCode": "SLE",
          "CountryName": "Sierra Leone",
          "Total Population": 2435197,
          "Urban population (% of total)": 22.484,
          "Year": 1968,
          "index": 2133
         },
         {
          "CountryCode": "SGP",
          "CountryName": "Singapore",
          "Total Population": 2012000,
          "Urban population (% of total)": 100,
          "Year": 1968,
          "index": 2134
         },
         {
          "CountryCode": "SVK",
          "CountryName": "Slovak Republic",
          "Total Population": 4483915,
          "Urban population (% of total)": 39.435,
          "Year": 1968,
          "index": 2135
         },
         {
          "CountryCode": "SVN",
          "CountryName": "Slovenia",
          "Total Population": 1704546,
          "Urban population (% of total)": 35.169,
          "Year": 1968,
          "index": 2136
         },
         {
          "CountryCode": "SLB",
          "CountryName": "Solomon Islands",
          "Total Population": 149926,
          "Urban population (% of total)": 8.292,
          "Year": 1968,
          "index": 2137
         },
         {
          "CountryCode": "SOM",
          "CountryName": "Somalia",
          "Total Population": 3311111,
          "Urban population (% of total)": 21.563,
          "Year": 1968,
          "index": 2138
         },
         {
          "CountryCode": "ZAF",
          "CountryName": "South Africa",
          "Total Population": 21153722,
          "Urban population (% of total)": 47.59,
          "Year": 1968,
          "index": 2139
         },
         {
          "CountryCode": "SSD",
          "CountryName": "South Sudan",
          "Total Population": 3484335,
          "Urban population (% of total)": 8.656,
          "Year": 1968,
          "index": 2140
         },
         {
          "CountryCode": "ESP",
          "CountryName": "Spain",
          "Total Population": 33113134,
          "Urban population (% of total)": 64.168,
          "Year": 1968,
          "index": 2141
         },
         {
          "CountryCode": "LKA",
          "CountryName": "Sri Lanka",
          "Total Population": 11992000,
          "Urban population (% of total)": 18.742,
          "Year": 1968,
          "index": 2142
         },
         {
          "CountryCode": "KNA",
          "CountryName": "St. Kitts and Nevis",
          "Total Population": 46399,
          "Urban population (% of total)": 32.878,
          "Year": 1968,
          "index": 2143
         },
         {
          "CountryCode": "LCA",
          "CountryName": "St. Lucia",
          "Total Population": 101181,
          "Urban population (% of total)": 23.403,
          "Year": 1968,
          "index": 2144
         },
         {
          "CountryCode": "VCT",
          "CountryName": "St. Vincent and the Grenadines",
          "Total Population": 88615,
          "Urban population (% of total)": 29.697,
          "Year": 1968,
          "index": 2145
         },
         {
          "CountryCode": "SDN",
          "CountryName": "Sudan",
          "Total Population": 9598196,
          "Urban population (% of total)": 15.197,
          "Year": 1968,
          "index": 2146
         },
         {
          "CountryCode": "SUR",
          "CountryName": "Suriname",
          "Total Population": 359735,
          "Urban population (% of total)": 46.412,
          "Year": 1968,
          "index": 2147
         },
         {
          "CountryCode": "SWZ",
          "CountryName": "Swaziland",
          "Total Population": 422266,
          "Urban population (% of total)": 8.344,
          "Year": 1968,
          "index": 2148
         },
         {
          "CountryCode": "SWE",
          "CountryName": "Sweden",
          "Total Population": 7912273,
          "Urban population (% of total)": 79.519,
          "Year": 1968,
          "index": 2149
         },
         {
          "CountryCode": "CHE",
          "CountryName": "Switzerland",
          "Total Population": 6067714,
          "Urban population (% of total)": 56.114,
          "Year": 1968,
          "index": 2150
         },
         {
          "CountryCode": "SYR",
          "CountryName": "Syrian Arab Republic",
          "Total Population": 5963248,
          "Urban population (% of total)": 42.001,
          "Year": 1968,
          "index": 2151
         },
         {
          "CountryCode": "TJK",
          "CountryName": "Tajikistan",
          "Total Population": 2743461,
          "Urban population (% of total)": 36.368,
          "Year": 1968,
          "index": 2152
         },
         {
          "CountryCode": "TZA",
          "CountryName": "Tanzania",
          "Total Population": 12787494,
          "Urban population (% of total)": 6.804,
          "Year": 1968,
          "index": 2153
         },
         {
          "CountryCode": "THA",
          "CountryName": "Thailand",
          "Total Population": 34790945,
          "Urban population (% of total)": 20.556,
          "Year": 1968,
          "index": 2154
         },
         {
          "CountryCode": "TMP",
          "CountryName": "Timor-Leste",
          "Total Population": 577824,
          "Urban population (% of total)": 12.253,
          "Year": 1968,
          "index": 2155
         },
         {
          "CountryCode": "TGO",
          "CountryName": "Togo",
          "Total Population": 1945781,
          "Urban population (% of total)": 18.7,
          "Year": 1968,
          "index": 2156
         },
         {
          "CountryCode": "TON",
          "CountryName": "Tonga",
          "Total Population": 81096,
          "Urban population (% of total)": 20.127,
          "Year": 1968,
          "index": 2157
         },
         {
          "CountryCode": "TTO",
          "CountryName": "Trinidad and Tobago",
          "Total Population": 931466,
          "Urban population (% of total)": 12.761,
          "Year": 1968,
          "index": 2158
         },
         {
          "CountryCode": "TUN",
          "CountryName": "Tunisia",
          "Total Population": 4933131,
          "Urban population (% of total)": 41.848,
          "Year": 1968,
          "index": 2159
         },
         {
          "CountryCode": "TUR",
          "CountryName": "Turkey",
          "Total Population": 33196289,
          "Urban population (% of total)": 36.577,
          "Year": 1968,
          "index": 2160
         },
         {
          "CountryCode": "TKM",
          "CountryName": "Turkmenistan",
          "Total Population": 2066889,
          "Urban population (% of total)": 47.575,
          "Year": 1968,
          "index": 2161
         },
         {
          "CountryCode": "TCA",
          "CountryName": "Turks and Caicos Islands",
          "Total Population": 5563,
          "Urban population (% of total)": 50.42,
          "Year": 1968,
          "index": 2162
         },
         {
          "CountryCode": "TUV",
          "CountryName": "Tuvalu",
          "Total Population": 7128,
          "Urban population (% of total)": 20.719,
          "Year": 1968,
          "index": 2163
         },
         {
          "CountryCode": "UGA",
          "CountryName": "Uganda",
          "Total Population": 8872866,
          "Urban population (% of total)": 6.283,
          "Year": 1968,
          "index": 2164
         },
         {
          "CountryCode": "UKR",
          "CountryName": "Ukraine",
          "Total Population": 46409007,
          "Urban population (% of total)": 53.197,
          "Year": 1968,
          "index": 2165
         },
         {
          "CountryCode": "ARE",
          "CountryName": "United Arab Emirates",
          "Total Population": 185312,
          "Urban population (% of total)": 79.8,
          "Year": 1968,
          "index": 2166
         },
         {
          "CountryCode": "GBR",
          "CountryName": "United Kingdom",
          "Total Population": 55211700,
          "Urban population (% of total)": 77.4,
          "Year": 1968,
          "index": 2167
         },
         {
          "CountryCode": "USA",
          "CountryName": "United States",
          "Total Population": 200706000,
          "Urban population (% of total)": 72.974,
          "Year": 1968,
          "index": 2168
         },
         {
          "CountryCode": "URY",
          "CountryName": "Uruguay",
          "Total Population": 2774771,
          "Urban population (% of total)": 81.958,
          "Year": 1968,
          "index": 2169
         },
         {
          "CountryCode": "UZB",
          "CountryName": "Uzbekistan",
          "Total Population": 11240523,
          "Urban population (% of total)": 36.087,
          "Year": 1968,
          "index": 2170
         },
         {
          "CountryCode": "VUT",
          "CountryName": "Vanuatu",
          "Total Population": 80669,
          "Urban population (% of total)": 11.918,
          "Year": 1968,
          "index": 2171
         },
         {
          "CountryCode": "VEN",
          "CountryName": "Venezuela, RB",
          "Total Population": 10881995,
          "Urban population (% of total)": 69.973,
          "Year": 1968,
          "index": 2172
         },
         {
          "CountryCode": "VNM",
          "CountryName": "Vietnam",
          "Total Population": 40856000,
          "Urban population (% of total)": 17.529,
          "Year": 1968,
          "index": 2173
         },
         {
          "CountryCode": "VIR",
          "CountryName": "Virgin Islands (U.S.)",
          "Total Population": 54600,
          "Urban population (% of total)": 67.14,
          "Year": 1968,
          "index": 2174
         },
         {
          "CountryCode": "YEM",
          "CountryName": "Yemen, Rep.",
          "Total Population": 5937125,
          "Urban population (% of total)": 12.347,
          "Year": 1968,
          "index": 2175
         },
         {
          "CountryCode": "ZMB",
          "CountryName": "Zambia",
          "Total Population": 3916928,
          "Urban population (% of total)": 27.791,
          "Year": 1968,
          "index": 2176
         },
         {
          "CountryCode": "ZWE",
          "CountryName": "Zimbabwe",
          "Total Population": 4874113,
          "Urban population (% of total)": 16.306,
          "Year": 1968,
          "index": 2177
         },
         {
          "CountryCode": "ARB",
          "CountryName": "Arab World",
          "Total Population": 118706804,
          "Urban population (% of total)": 38.0625830775,
          "Year": 1969,
          "index": 2178
         },
         {
          "CountryCode": "CSS",
          "CountryName": "Caribbean small states",
          "Total Population": 4825706,
          "Urban population (% of total)": 33.9862811228,
          "Year": 1969,
          "index": 2179
         },
         {
          "CountryCode": "CEB",
          "CountryName": "Central Europe and the Baltics",
          "Total Population": 98602140,
          "Urban population (% of total)": 50.2156576933,
          "Year": 1969,
          "index": 2180
         },
         {
          "CountryCode": "EAS",
          "CountryName": "East Asia & Pacific (all income levels)",
          "Total Population": 1256733708,
          "Urban population (% of total)": 24.7678120692,
          "Year": 1969,
          "index": 2181
         },
         {
          "CountryCode": "EAP",
          "CountryName": "East Asia & Pacific (developing only)",
          "Total Population": 1086235891,
          "Urban population (% of total)": 18.7455731423,
          "Year": 1969,
          "index": 2182
         },
         {
          "CountryCode": "EMU",
          "CountryName": "Euro area",
          "Total Population": 285855062,
          "Urban population (% of total)": 66.7431732364,
          "Year": 1969,
          "index": 2183
         },
         {
          "CountryCode": "ECS",
          "CountryName": "Europe & Central Asia (all income levels)",
          "Total Population": 732044571,
          "Urban population (% of total)": 60.2841232049,
          "Year": 1969,
          "index": 2184
         },
         {
          "CountryCode": "ECA",
          "CountryName": "Europe & Central Asia (developing only)",
          "Total Population": 180865403,
          "Urban population (% of total)": 44.3757209291,
          "Year": 1969,
          "index": 2185
         },
         {
          "CountryCode": "EUU",
          "CountryName": "European Union",
          "Total Population": 439730660,
          "Urban population (% of total)": 65.3114414923,
          "Year": 1969,
          "index": 2186
         },
         {
          "CountryCode": "FCS",
          "CountryName": "Fragile and conflict affected situations",
          "Total Population": 150217067,
          "Urban population (% of total)": 22.8851454477,
          "Year": 1969,
          "index": 2187
         },
         {
          "CountryCode": "HPC",
          "CountryName": "Heavily indebted poor countries (HIPC)",
          "Total Population": 203029611,
          "Urban population (% of total)": 15.8135077916,
          "Year": 1969,
          "index": 2188
         },
         {
          "CountryCode": "HIC",
          "CountryName": "High income",
          "Total Population": 1007897797,
          "Urban population (% of total)": 67.8168140925,
          "Year": 1969,
          "index": 2189
         },
         {
          "CountryCode": "NOC",
          "CountryName": "High income: nonOECD",
          "Total Population": 211459827,
          "Urban population (% of total)": 63.8470866445,
          "Year": 1969,
          "index": 2190
         },
         {
          "CountryCode": "OEC",
          "CountryName": "High income: OECD",
          "Total Population": 796437970,
          "Urban population (% of total)": 68.8001770824,
          "Year": 1969,
          "index": 2191
         },
         {
          "CountryCode": "LCN",
          "CountryName": "Latin America & Caribbean (all income levels)",
          "Total Population": 280641049,
          "Urban population (% of total)": 56.285780758,
          "Year": 1969,
          "index": 2192
         },
         {
          "CountryCode": "LAC",
          "CountryName": "Latin America & Caribbean (developing only)",
          "Total Population": 229213906,
          "Urban population (% of total)": 52.4062931204,
          "Year": 1969,
          "index": 2193
         },
         {
          "CountryCode": "LDC",
          "CountryName": "Least developed countries: UN classification",
          "Total Population": 301284584,
          "Urban population (% of total)": 12.4253751914,
          "Year": 1969,
          "index": 2194
         },
         {
          "CountryCode": "LMY",
          "CountryName": "Low & middle income",
          "Total Population": 2601862909,
          "Urban population (% of total)": 24.3107501398,
          "Year": 1969,
          "index": 2195
         },
         {
          "CountryCode": "LIC",
          "CountryName": "Low income",
          "Total Population": 193701378,
          "Urban population (% of total)": 14.724341951,
          "Year": 1969,
          "index": 2196
         },
         {
          "CountryCode": "LMC",
          "CountryName": "Lower middle income",
          "Total Population": 1159046256,
          "Urban population (% of total)": 22.2264951453,
          "Year": 1969,
          "index": 2197
         },
         {
          "CountryCode": "MEA",
          "CountryName": "Middle East & North Africa (all income levels)",
          "Total Population": 135019358,
          "Urban population (% of total)": 41.8775432531,
          "Year": 1969,
          "index": 2198
         },
         {
          "CountryCode": "MNA",
          "CountryName": "Middle East & North Africa (developing only)",
          "Total Population": 124329068,
          "Urban population (% of total)": 40.2502757154,
          "Year": 1969,
          "index": 2199
         },
         {
          "CountryCode": "MIC",
          "CountryName": "Middle income",
          "Total Population": 2408161531,
          "Urban population (% of total)": 25.0822180296,
          "Year": 1969,
          "index": 2200
         },
         {
          "CountryCode": "NAC",
          "CountryName": "North America",
          "Total Population": 223759000,
          "Urban population (% of total)": 73.5112239016,
          "Year": 1969,
          "index": 2201
         },
         {
          "CountryCode": "OED",
          "CountryName": "OECD members",
          "Total Population": 880830298,
          "Urban population (% of total)": 66.9841215201,
          "Year": 1969,
          "index": 2202
         },
         {
          "CountryCode": "OSS",
          "CountryName": "Other small states",
          "Total Population": 7960631,
          "Urban population (% of total)": 19.6964722516,
          "Year": 1969,
          "index": 2203
         },
         {
          "CountryCode": "PSS",
          "CountryName": "Pacific island small states",
          "Total Population": 1119515,
          "Urban population (% of total)": 25.7376582315,
          "Year": 1969,
          "index": 2204
         },
         {
          "CountryCode": "SST",
          "CountryName": "Small states",
          "Total Population": 13905852,
          "Urban population (% of total)": 25.1417779208,
          "Year": 1969,
          "index": 2205
         },
         {
          "CountryCode": "SAS",
          "CountryName": "South Asia",
          "Total Population": 697060567,
          "Urban population (% of total)": 18.4414894883,
          "Year": 1969,
          "index": 2206
         },
         {
          "CountryCode": "SSF",
          "CountryName": "Sub-Saharan Africa (all income levels)",
          "Total Population": 284502453,
          "Urban population (% of total)": 17.6710255377,
          "Year": 1969,
          "index": 2207
         },
         {
          "CountryCode": "SSA",
          "CountryName": "Sub-Saharan Africa (developing only)",
          "Total Population": 284158074,
          "Urban population (% of total)": 17.6578615697,
          "Year": 1969,
          "index": 2208
         },
         {
          "CountryCode": "UMC",
          "CountryName": "Upper middle income",
          "Total Population": 1249115275,
          "Urban population (% of total)": 27.7293025841,
          "Year": 1969,
          "index": 2209
         },
         {
          "CountryCode": "WLD",
          "CountryName": "World",
          "Total Population": 3609760706,
          "Urban population (% of total)": 36.3386810393,
          "Year": 1969,
          "index": 2210
         },
         {
          "CountryCode": "AFG",
          "CountryName": "Afghanistan",
          "Total Population": 10849510,
          "Urban population (% of total)": 11.152,
          "Year": 1969,
          "index": 2211
         },
         {
          "CountryCode": "ALB",
          "CountryName": "Albania",
          "Total Population": 2081695,
          "Urban population (% of total)": 31.548,
          "Year": 1969,
          "index": 2212
         },
         {
          "CountryCode": "DZA",
          "CountryName": "Algeria",
          "Total Population": 14144437,
          "Urban population (% of total)": 39.334,
          "Year": 1969,
          "index": 2213
         },
         {
          "CountryCode": "ASM",
          "CountryName": "American Samoa",
          "Total Population": 26615,
          "Urban population (% of total)": 69.98,
          "Year": 1969,
          "index": 2214
         },
         {
          "CountryCode": "ADO",
          "CountryName": "Andorra",
          "Total Population": 23061,
          "Urban population (% of total)": 78.424,
          "Year": 1969,
          "index": 2215
         },
         {
          "CountryCode": "AGO",
          "CountryName": "Angola",
          "Total Population": 6177703,
          "Urban population (% of total)": 14.436,
          "Year": 1969,
          "index": 2216
         },
         {
          "CountryCode": "ATG",
          "CountryName": "Antigua and Barbuda",
          "Total Population": 64307,
          "Urban population (% of total)": 34.245,
          "Year": 1969,
          "index": 2217
         },
         {
          "CountryCode": "ARG",
          "CountryName": "Argentina",
          "Total Population": 23605992,
          "Urban population (% of total)": 78.394,
          "Year": 1969,
          "index": 2218
         },
         {
          "CountryCode": "ARM",
          "CountryName": "Armenia",
          "Total Population": 2456370,
          "Urban population (% of total)": 59.042,
          "Year": 1969,
          "index": 2219
         },
         {
          "CountryCode": "ABW",
          "CountryName": "Aruba",
          "Total Population": 58724,
          "Urban population (% of total)": 50.639,
          "Year": 1969,
          "index": 2220
         },
         {
          "CountryCode": "AUS",
          "CountryName": "Australia",
          "Total Population": 12263000,
          "Urban population (% of total)": 84.922,
          "Year": 1969,
          "index": 2221
         },
         {
          "CountryCode": "AUT",
          "CountryName": "Austria",
          "Total Population": 7441055,
          "Urban population (% of total)": 65.208,
          "Year": 1969,
          "index": 2222
         },
         {
          "CountryCode": "AZE",
          "CountryName": "Azerbaijan",
          "Total Population": 5066080,
          "Urban population (% of total)": 49.963,
          "Year": 1969,
          "index": 2223
         },
         {
          "CountryCode": "BHS",
          "CountryName": "Bahamas, The",
          "Total Population": 164250,
          "Urban population (% of total)": 66.093,
          "Year": 1969,
          "index": 2224
         },
         {
          "CountryCode": "BHR",
          "CountryName": "Bahrain",
          "Total Population": 206469,
          "Urban population (% of total)": 83.526,
          "Year": 1969,
          "index": 2225
         },
         {
          "CountryCode": "BGD",
          "CountryName": "Bangladesh",
          "Total Population": 63422570,
          "Urban population (% of total)": 7.296,
          "Year": 1969,
          "index": 2226
         },
         {
          "CountryCode": "BRB",
          "CountryName": "Barbados",
          "Total Population": 237911,
          "Urban population (% of total)": 37.433,
          "Year": 1969,
          "index": 2227
         },
         {
          "CountryCode": "BLR",
          "CountryName": "Belarus",
          "Total Population": 8960304,
          "Urban population (% of total)": 42.76,
          "Year": 1969,
          "index": 2228
         },
         {
          "CountryCode": "BEL",
          "CountryName": "Belgium",
          "Total Population": 9646032,
          "Urban population (% of total)": 93.707,
          "Year": 1969,
          "index": 2229
         },
         {
          "CountryCode": "BLZ",
          "CountryName": "Belize",
          "Total Population": 119260,
          "Urban population (% of total)": 51.238,
          "Year": 1969,
          "index": 2230
         },
         {
          "CountryCode": "BEN",
          "CountryName": "Benin",
          "Total Population": 2846652,
          "Urban population (% of total)": 15.776,
          "Year": 1969,
          "index": 2231
         },
         {
          "CountryCode": "BMU",
          "CountryName": "Bermuda",
          "Total Population": 54000,
          "Urban population (% of total)": 100,
          "Year": 1969,
          "index": 2232
         },
         {
          "CountryCode": "BTN",
          "CountryName": "Bhutan",
          "Total Population": 282210,
          "Urban population (% of total)": 5.781,
          "Year": 1969,
          "index": 2233
         },
         {
          "CountryCode": "BOL",
          "CountryName": "Bolivia",
          "Total Population": 4413584,
          "Urban population (% of total)": 39.47,
          "Year": 1969,
          "index": 2234
         },
         {
          "CountryCode": "BIH",
          "CountryName": "Bosnia and Herzegovina",
          "Total Population": 3702834,
          "Urban population (% of total)": 26.283,
          "Year": 1969,
          "index": 2235
         },
         {
          "CountryCode": "BWA",
          "CountryName": "Botswana",
          "Total Population": 671305,
          "Urban population (% of total)": 6.81,
          "Year": 1969,
          "index": 2236
         },
         {
          "CountryCode": "BRA",
          "CountryName": "Brazil",
          "Total Population": 93585746,
          "Urban population (% of total)": 54.94,
          "Year": 1969,
          "index": 2237
         },
         {
          "CountryCode": "BRN",
          "CountryName": "Brunei Darussalam",
          "Total Population": 123875,
          "Urban population (% of total)": 59.908,
          "Year": 1969,
          "index": 2238
         },
         {
          "CountryCode": "BGR",
          "CountryName": "Bulgaria",
          "Total Population": 8434172,
          "Urban population (% of total)": 51.034,
          "Year": 1969,
          "index": 2239
         },
         {
          "CountryCode": "BFA",
          "CountryName": "Burkina Faso",
          "Total Population": 5528172,
          "Urban population (% of total)": 5.632,
          "Year": 1969,
          "index": 2240
         },
         {
          "CountryCode": "BDI",
          "CountryName": "Burundi",
          "Total Population": 3392949,
          "Urban population (% of total)": 2.726,
          "Year": 1969,
          "index": 2241
         },
         {
          "CountryCode": "CPV",
          "CountryName": "Cabo Verde",
          "Total Population": 264885,
          "Urban population (% of total)": 19.255,
          "Year": 1969,
          "index": 2242
         },
         {
          "CountryCode": "KHM",
          "CountryName": "Cambodia",
          "Total Population": 6902025,
          "Urban population (% of total)": 14.579,
          "Year": 1969,
          "index": 2243
         },
         {
          "CountryCode": "CMR",
          "CountryName": "Cameroon",
          "Total Population": 6600479,
          "Urban population (% of total)": 19.577,
          "Year": 1969,
          "index": 2244
         },
         {
          "CountryCode": "CAN",
          "CountryName": "Canada",
          "Total Population": 21028000,
          "Urban population (% of total)": 75.161,
          "Year": 1969,
          "index": 2245
         },
         {
          "CountryCode": "CYM",
          "CountryName": "Cayman Islands",
          "Total Population": 8831,
          "Urban population (% of total)": 100,
          "Year": 1969,
          "index": 2246
         },
         {
          "CountryCode": "CAF",
          "CountryName": "Central African Republic",
          "Total Population": 1792150,
          "Urban population (% of total)": 26.645,
          "Year": 1969,
          "index": 2247
         },
         {
          "CountryCode": "TCD",
          "CountryName": "Chad",
          "Total Population": 3569778,
          "Urban population (% of total)": 10.862,
          "Year": 1969,
          "index": 2248
         },
         {
          "CountryCode": "CHI",
          "CountryName": "Channel Islands",
          "Total Population": 119971,
          "Urban population (% of total)": 36.346,
          "Year": 1969,
          "index": 2249
         },
         {
          "CountryCode": "CHL",
          "CountryName": "Chile",
          "Total Population": 9377005,
          "Urban population (% of total)": 74.547,
          "Year": 1969,
          "index": 2250
         },
         {
          "CountryCode": "CHN",
          "CountryName": "China",
          "Total Population": 796025000,
          "Urban population (% of total)": 17.528,
          "Year": 1969,
          "index": 2251
         },
         {
          "CountryCode": "COL",
          "CountryName": "Colombia",
          "Total Population": 21490948,
          "Urban population (% of total)": 54.063,
          "Year": 1969,
          "index": 2252
         },
         {
          "CountryCode": "COM",
          "CountryName": "Comoros",
          "Total Population": 223629,
          "Urban population (% of total)": 19.035,
          "Year": 1969,
          "index": 2253
         },
         {
          "CountryCode": "ZAR",
          "CountryName": "Congo, Dem. Rep.",
          "Total Population": 19458874,
          "Urban population (% of total)": 24.37,
          "Year": 1969,
          "index": 2254
         },
         {
          "CountryCode": "COG",
          "CountryName": "Congo, Rep.",
          "Total Population": 1296137,
          "Urban population (% of total)": 38.345,
          "Year": 1969,
          "index": 2255
         },
         {
          "CountryCode": "CRI",
          "CountryName": "Costa Rica",
          "Total Population": 1798315,
          "Urban population (% of total)": 38.212,
          "Year": 1969,
          "index": 2256
         },
         {
          "CountryCode": "CIV",
          "CountryName": "Cote d'Ivoire",
          "Total Population": 5010962,
          "Urban population (% of total)": 27.404,
          "Year": 1969,
          "index": 2257
         },
         {
          "CountryCode": "HRV",
          "CountryName": "Croatia",
          "Total Population": 4387000,
          "Urban population (% of total)": 39.13,
          "Year": 1969,
          "index": 2258
         },
         {
          "CountryCode": "CUB",
          "CountryName": "Cuba",
          "Total Population": 8563191,
          "Urban population (% of total)": 60.081,
          "Year": 1969,
          "index": 2259
         },
         {
          "CountryCode": "CUW",
          "CountryName": "Curacao",
          "Total Population": 142581,
          "Urban population (% of total)": 78.093,
          "Year": 1969,
          "index": 2260
         },
         {
          "CountryCode": "CYP",
          "CountryName": "Cyprus",
          "Total Population": 606117,
          "Urban population (% of total)": 40.242,
          "Year": 1969,
          "index": 2261
         },
         {
          "CountryCode": "CZE",
          "CountryName": "Czech Republic",
          "Total Population": 9896580,
          "Urban population (% of total)": 63.93,
          "Year": 1969,
          "index": 2262
         },
         {
          "CountryCode": "DNK",
          "CountryName": "Denmark",
          "Total Population": 4891860,
          "Urban population (% of total)": 79.222,
          "Year": 1969,
          "index": 2263
         },
         {
          "CountryCode": "DJI",
          "CountryName": "Djibouti",
          "Total Population": 149891,
          "Urban population (% of total)": 60.664,
          "Year": 1969,
          "index": 2264
         },
         {
          "CountryCode": "DMA",
          "CountryName": "Dominica",
          "Total Population": 70212,
          "Urban population (% of total)": 38.448,
          "Year": 1969,
          "index": 2265
         },
         {
          "CountryCode": "DOM",
          "CountryName": "Dominican Republic",
          "Total Population": 4376056,
          "Urban population (% of total)": 39.147,
          "Year": 1969,
          "index": 2266
         },
         {
          "CountryCode": "ECU",
          "CountryName": "Ecuador",
          "Total Population": 5899842,
          "Urban population (% of total)": 38.744,
          "Year": 1969,
          "index": 2267
         },
         {
          "CountryCode": "EGY",
          "CountryName": "Egypt, Arab Rep.",
          "Total Population": 34038147,
          "Urban population (% of total)": 41.117,
          "Year": 1969,
          "index": 2268
         },
         {
          "CountryCode": "SLV",
          "CountryName": "El Salvador",
          "Total Population": 3572667,
          "Urban population (% of total)": 39.303,
          "Year": 1969,
          "index": 2269
         },
         {
          "CountryCode": "GNQ",
          "CountryName": "Equatorial Guinea",
          "Total Population": 292014,
          "Urban population (% of total)": 26.863,
          "Year": 1969,
          "index": 2270
         },
         {
          "CountryCode": "ERI",
          "CountryName": "Eritrea",
          "Total Population": 1758668,
          "Urban population (% of total)": 12.427,
          "Year": 1969,
          "index": 2271
         },
         {
          "CountryCode": "EST",
          "CountryName": "Estonia",
          "Total Population": 1345249,
          "Urban population (% of total)": 64.307,
          "Year": 1969,
          "index": 2272
         },
         {
          "CountryCode": "ETH",
          "CountryName": "Ethiopia",
          "Total Population": 27653622,
          "Urban population (% of total)": 8.422,
          "Year": 1969,
          "index": 2273
         },
         {
          "CountryCode": "FRO",
          "CountryName": "Faeroe Islands",
          "Total Population": 38164,
          "Urban population (% of total)": 27.524,
          "Year": 1969,
          "index": 2274
         },
         {
          "CountryCode": "FJI",
          "CountryName": "Fiji",
          "Total Population": 509659,
          "Urban population (% of total)": 34.371,
          "Year": 1969,
          "index": 2275
         },
         {
          "CountryCode": "FIN",
          "CountryName": "Finland",
          "Total Population": 4623785,
          "Urban population (% of total)": 62.908,
          "Year": 1969,
          "index": 2276
         },
         {
          "CountryCode": "FRA",
          "CountryName": "France",
          "Total Population": 51638260,
          "Urban population (% of total)": 70.648,
          "Year": 1969,
          "index": 2277
         },
         {
          "CountryCode": "PYF",
          "CountryName": "French Polynesia",
          "Total Population": 106858,
          "Urban population (% of total)": 53.773,
          "Year": 1969,
          "index": 2278
         },
         {
          "CountryCode": "GAB",
          "CountryName": "Gabon",
          "Total Population": 578114,
          "Urban population (% of total)": 30.237,
          "Year": 1969,
          "index": 2279
         },
         {
          "CountryCode": "GMB",
          "CountryName": "Gambia, The",
          "Total Population": 435800,
          "Urban population (% of total)": 18.41,
          "Year": 1969,
          "index": 2280
         },
         {
          "CountryCode": "GEO",
          "CountryName": "Georgia",
          "Total Population": 4080300,
          "Urban population (% of total)": 47.522,
          "Year": 1969,
          "index": 2281
         },
         {
          "CountryCode": "DEU",
          "CountryName": "Germany",
          "Total Population": 77909682,
          "Urban population (% of total)": 72.211,
          "Year": 1969,
          "index": 2282
         },
         {
          "CountryCode": "GHA",
          "CountryName": "Ghana",
          "Total Population": 8397346,
          "Urban population (% of total)": 28.473,
          "Year": 1969,
          "index": 2283
         },
         {
          "CountryCode": "GRC",
          "CountryName": "Greece",
          "Total Population": 8772764,
          "Urban population (% of total)": 63.385,
          "Year": 1969,
          "index": 2284
         },
         {
          "CountryCode": "GRL",
          "CountryName": "Greenland",
          "Total Population": 44900,
          "Urban population (% of total)": 71.481,
          "Year": 1969,
          "index": 2285
         },
         {
          "CountryCode": "GRD",
          "CountryName": "Grenada",
          "Total Population": 94682,
          "Urban population (% of total)": 32.04,
          "Year": 1969,
          "index": 2286
         },
         {
          "CountryCode": "GUM",
          "CountryName": "Guam",
          "Total Population": 82042,
          "Urban population (% of total)": 59.784,
          "Year": 1969,
          "index": 2287
         },
         {
          "CountryCode": "GTM",
          "CountryName": "Guatemala",
          "Total Population": 5274726,
          "Urban population (% of total)": 35.232,
          "Year": 1969,
          "index": 2288
         },
         {
          "CountryCode": "GIN",
          "CountryName": "Guinea",
          "Total Population": 4160375,
          "Urban population (% of total)": 15.336,
          "Year": 1969,
          "index": 2289
         },
         {
          "CountryCode": "GNB",
          "CountryName": "Guinea-Bissau",
          "Total Population": 698917,
          "Urban population (% of total)": 14.972,
          "Year": 1969,
          "index": 2290
         },
         {
          "CountryCode": "GUY",
          "CountryName": "Guyana",
          "Total Population": 687658,
          "Urban population (% of total)": 29.369,
          "Year": 1969,
          "index": 2291
         },
         {
          "CountryCode": "HTI",
          "CountryName": "Haiti",
          "Total Population": 4622209,
          "Urban population (% of total)": 19.31,
          "Year": 1969,
          "index": 2292
         },
         {
          "CountryCode": "HND",
          "CountryName": "Honduras",
          "Total Population": 2620014,
          "Urban population (% of total)": 28.244,
          "Year": 1969,
          "index": 2293
         },
         {
          "CountryCode": "HKG",
          "CountryName": "Hong Kong SAR, China",
          "Total Population": 3863900,
          "Urban population (% of total)": 87.476,
          "Year": 1969,
          "index": 2294
         },
         {
          "CountryCode": "HUN",
          "CountryName": "Hungary",
          "Total Population": 10298723,
          "Urban population (% of total)": 59.691,
          "Year": 1969,
          "index": 2295
         },
         {
          "CountryCode": "ISL",
          "CountryName": "Iceland",
          "Total Population": 203369,
          "Urban population (% of total)": 84.483,
          "Year": 1969,
          "index": 2296
         },
         {
          "CountryCode": "IND",
          "CountryName": "India",
          "Total Population": 541844848,
          "Urban population (% of total)": 19.562,
          "Year": 1969,
          "index": 2297
         },
         {
          "CountryCode": "IDN",
          "CountryName": "Indonesia",
          "Total Population": 111800090,
          "Urban population (% of total)": 16.809,
          "Year": 1969,
          "index": 2298
         },
         {
          "CountryCode": "IRN",
          "CountryName": "Iran, Islamic Rep.",
          "Total Population": 27765239,
          "Urban population (% of total)": 40.321,
          "Year": 1969,
          "index": 2299
         },
         {
          "CountryCode": "IRQ",
          "CountryName": "Iraq",
          "Total Population": 9585576,
          "Urban population (% of total)": 55.089,
          "Year": 1969,
          "index": 2300
         },
         {
          "CountryCode": "IRL",
          "CountryName": "Ireland",
          "Total Population": 2932650,
          "Urban population (% of total)": 51.123,
          "Year": 1969,
          "index": 2301
         },
         {
          "CountryCode": "IMY",
          "CountryName": "Isle of Man",
          "Total Population": 55554,
          "Urban population (% of total)": 55.991,
          "Year": 1969,
          "index": 2302
         },
         {
          "CountryCode": "ISR",
          "CountryName": "Israel",
          "Total Population": 2877000,
          "Urban population (% of total)": 83.582,
          "Year": 1969,
          "index": 2303
         },
         {
          "CountryCode": "ITA",
          "CountryName": "Italy",
          "Total Population": 53537950,
          "Urban population (% of total)": 63.792,
          "Year": 1969,
          "index": 2304
         },
         {
          "CountryCode": "JAM",
          "CountryName": "Jamaica",
          "Total Population": 1844936,
          "Urban population (% of total)": 40.596,
          "Year": 1969,
          "index": 2305
         },
         {
          "CountryCode": "JPN",
          "CountryName": "Japan",
          "Total Population": 103172000,
          "Urban population (% of total)": 71.102,
          "Year": 1969,
          "index": 2306
         },
         {
          "CountryCode": "JOR",
          "CountryName": "Jordan",
          "Total Population": 1436517,
          "Urban population (% of total)": 55.633,
          "Year": 1969,
          "index": 2307
         },
         {
          "CountryCode": "KAZ",
          "CountryName": "Kazakhstan",
          "Total Population": 12550121,
          "Urban population (% of total)": 49.647,
          "Year": 1969,
          "index": 2308
         },
         {
          "CountryCode": "KEN",
          "CountryName": "Kenya",
          "Total Population": 10867717,
          "Urban population (% of total)": 9.85,
          "Year": 1969,
          "index": 2309
         },
         {
          "CountryCode": "KIR",
          "CountryName": "Kiribati",
          "Total Population": 50303,
          "Urban population (% of total)": 22.871,
          "Year": 1969,
          "index": 2310
         },
         {
          "CountryCode": "PRK",
          "CountryName": "Korea, Dem. Rep.",
          "Total Population": 14009168,
          "Urban population (% of total)": 51.609,
          "Year": 1969,
          "index": 2311
         },
         {
          "CountryCode": "KOR",
          "CountryName": "Korea, Rep.",
          "Total Population": 31544266,
          "Urban population (% of total)": 38.756,
          "Year": 1969,
          "index": 2312
         },
         {
          "CountryCode": "KWT",
          "CountryName": "Kuwait",
          "Total Population": 693876,
          "Urban population (% of total)": 84.582,
          "Year": 1969,
          "index": 2313
         },
         {
          "CountryCode": "KGZ",
          "CountryName": "Kyrgyz Republic",
          "Total Population": 2894800,
          "Urban population (% of total)": 37.214,
          "Year": 1969,
          "index": 2314
         },
         {
          "CountryCode": "LAO",
          "CountryName": "Lao PDR",
          "Total Population": 2618246,
          "Urban population (% of total)": 9.304,
          "Year": 1969,
          "index": 2315
         },
         {
          "CountryCode": "LVA",
          "CountryName": "Latvia",
          "Total Population": 2343173,
          "Urban population (% of total)": 59.946,
          "Year": 1969,
          "index": 2316
         },
         {
          "CountryCode": "LBN",
          "CountryName": "Lebanon",
          "Total Population": 2250609,
          "Urban population (% of total)": 57.796,
          "Year": 1969,
          "index": 2317
         },
         {
          "CountryCode": "LSO",
          "CountryName": "Lesotho",
          "Total Population": 1011308,
          "Urban population (% of total)": 8.196,
          "Year": 1969,
          "index": 2318
         },
         {
          "CountryCode": "LBR",
          "CountryName": "Liberia",
          "Total Population": 1383305,
          "Urban population (% of total)": 25.207,
          "Year": 1969,
          "index": 2319
         },
         {
          "CountryCode": "LBY",
          "CountryName": "Libya",
          "Total Population": 2025282,
          "Urban population (% of total)": 46.352,
          "Year": 1969,
          "index": 2320
         },
         {
          "CountryCode": "LIE",
          "CountryName": "Liechtenstein",
          "Total Population": 20765,
          "Urban population (% of total)": 18.654,
          "Year": 1969,
          "index": 2321
         },
         {
          "CountryCode": "LTU",
          "CountryName": "Lithuania",
          "Total Population": 3107321,
          "Urban population (% of total)": 48.53,
          "Year": 1969,
          "index": 2322
         },
         {
          "CountryCode": "LUX",
          "CountryName": "Luxembourg",
          "Total Population": 337500,
          "Urban population (% of total)": 73.902,
          "Year": 1969,
          "index": 2323
         },
         {
          "CountryCode": "MAC",
          "CountryName": "Macao SAR, China",
          "Total Population": 245310,
          "Urban population (% of total)": 96.877,
          "Year": 1969,
          "index": 2324
         },
         {
          "CountryCode": "MKD",
          "CountryName": "Macedonia, FYR",
          "Total Population": 1698140,
          "Urban population (% of total)": 45.718,
          "Year": 1969,
          "index": 2325
         },
         {
          "CountryCode": "MDG",
          "CountryName": "Madagascar",
          "Total Population": 6400454,
          "Urban population (% of total)": 13.751,
          "Year": 1969,
          "index": 2326
         },
         {
          "CountryCode": "MWI",
          "CountryName": "Malawi",
          "Total Population": 4484456,
          "Urban population (% of total)": 5.773,
          "Year": 1969,
          "index": 2327
         },
         {
          "CountryCode": "MYS",
          "CountryName": "Malaysia",
          "Total Population": 10640347,
          "Urban population (% of total)": 32.729,
          "Year": 1969,
          "index": 2328
         },
         {
          "CountryCode": "MDV",
          "CountryName": "Maldives",
          "Total Population": 112591,
          "Urban population (% of total)": 11.698,
          "Year": 1969,
          "index": 2329
         },
         {
          "CountryCode": "MLI",
          "CountryName": "Mali",
          "Total Population": 5861411,
          "Urban population (% of total)": 13.971,
          "Year": 1969,
          "index": 2330
         },
         {
          "CountryCode": "MLT",
          "CountryName": "Malta",
          "Total Population": 304300,
          "Urban population (% of total)": 89.69,
          "Year": 1969,
          "index": 2331
         },
         {
          "CountryCode": "MHL",
          "CountryName": "Marshall Islands",
          "Total Population": 19622,
          "Urban population (% of total)": 50.861,
          "Year": 1969,
          "index": 2332
         },
         {
          "CountryCode": "MRT",
          "CountryName": "Mauritania",
          "Total Population": 1115790,
          "Urban population (% of total)": 13.554,
          "Year": 1969,
          "index": 2333
         },
         {
          "CountryCode": "MUS",
          "CountryName": "Mauritius",
          "Total Population": 812405,
          "Urban population (% of total)": 41.008,
          "Year": 1969,
          "index": 2334
         },
         {
          "CountryCode": "MEX",
          "CountryName": "Mexico",
          "Total Population": 50423127,
          "Urban population (% of total)": 58.229,
          "Year": 1969,
          "index": 2335
         },
         {
          "CountryCode": "FSM",
          "CountryName": "Micronesia, Fed. Sts.",
          "Total Population": 60167,
          "Urban population (% of total)": 24.551,
          "Year": 1969,
          "index": 2336
         },
         {
          "CountryCode": "MDA",
          "CountryName": "Moldova",
          "Total Population": 3002000,
          "Urban population (% of total)": 31.189,
          "Year": 1969,
          "index": 2337
         },
         {
          "CountryCode": "MCO",
          "CountryName": "Monaco",
          "Total Population": 23348,
          "Urban population (% of total)": 100,
          "Year": 1969,
          "index": 2338
         },
         {
          "CountryCode": "MNG",
          "CountryName": "Mongolia",
          "Total Population": 1242213,
          "Urban population (% of total)": 44.336,
          "Year": 1969,
          "index": 2339
         },
         {
          "CountryCode": "MNE",
          "CountryName": "Montenegro",
          "Total Population": 521424,
          "Urban population (% of total)": 25.955,
          "Year": 1969,
          "index": 2340
         },
         {
          "CountryCode": "MAR",
          "CountryName": "Morocco",
          "Total Population": 15687996,
          "Urban population (% of total)": 33.946,
          "Year": 1969,
          "index": 2341
         },
         {
          "CountryCode": "MOZ",
          "CountryName": "Mozambique",
          "Total Population": 9058691,
          "Urban population (% of total)": 6.72,
          "Year": 1969,
          "index": 2342
         },
         {
          "CountryCode": "MMR",
          "CountryName": "Myanmar",
          "Total Population": 26504247,
          "Urban population (% of total)": 22.449,
          "Year": 1969,
          "index": 2343
         },
         {
          "CountryCode": "NAM",
          "CountryName": "Namibia",
          "Total Population": 758305,
          "Urban population (% of total)": 21.852,
          "Year": 1969,
          "index": 2344
         },
         {
          "CountryCode": "NPL",
          "CountryName": "Nepal",
          "Total Population": 11750914,
          "Urban population (% of total)": 3.911,
          "Year": 1969,
          "index": 2345
         },
         {
          "CountryCode": "NLD",
          "CountryName": "Netherlands",
          "Total Population": 12877984,
          "Urban population (% of total)": 61.481,
          "Year": 1969,
          "index": 2346
         },
         {
          "CountryCode": "NCL",
          "CountryName": "New Caledonia",
          "Total Population": 104000,
          "Urban population (% of total)": 50.442,
          "Year": 1969,
          "index": 2347
         },
         {
          "CountryCode": "NZL",
          "CountryName": "New Zealand",
          "Total Population": 2772800,
          "Urban population (% of total)": 80.695,
          "Year": 1969,
          "index": 2348
         },
         {
          "CountryCode": "NIC",
          "CountryName": "Nicaragua",
          "Total Population": 2326136,
          "Urban population (% of total)": 46.16,
          "Year": 1969,
          "index": 2349
         },
         {
          "CountryCode": "NER",
          "CountryName": "Niger",
          "Total Population": 4375837,
          "Urban population (% of total)": 8.339,
          "Year": 1969,
          "index": 2350
         },
         {
          "CountryCode": "NGA",
          "CountryName": "Nigeria",
          "Total Population": 54859201,
          "Urban population (% of total)": 17.513,
          "Year": 1969,
          "index": 2351
         },
         {
          "CountryCode": "MNP",
          "CountryName": "Northern Mariana Islands",
          "Total Population": 12766,
          "Urban population (% of total)": 67.384,
          "Year": 1969,
          "index": 2352
         },
         {
          "CountryCode": "NOR",
          "CountryName": "Norway",
          "Total Population": 3847707,
          "Urban population (% of total)": 63.881,
          "Year": 1969,
          "index": 2353
         },
         {
          "CountryCode": "OMN",
          "CountryName": "Oman",
          "Total Population": 700729,
          "Urban population (% of total)": 28.093,
          "Year": 1969,
          "index": 2354
         },
         {
          "CountryCode": "PAK",
          "CountryName": "Pakistan",
          "Total Population": 56545924,
          "Urban population (% of total)": 24.552,
          "Year": 1969,
          "index": 2355
         },
         {
          "CountryCode": "PLW",
          "CountryName": "Palau",
          "Total Population": 11335,
          "Urban population (% of total)": 59.429,
          "Year": 1969,
          "index": 2356
         },
         {
          "CountryCode": "PAN",
          "CountryName": "Panama",
          "Total Population": 1476478,
          "Urban population (% of total)": 47.038,
          "Year": 1969,
          "index": 2357
         },
         {
          "CountryCode": "PNG",
          "CountryName": "Papua New Guinea",
          "Total Population": 2371515,
          "Urban population (% of total)": 8.649,
          "Year": 1969,
          "index": 2358
         },
         {
          "CountryCode": "PRY",
          "CountryName": "Paraguay",
          "Total Population": 2412565,
          "Urban population (% of total)": 36.9,
          "Year": 1969,
          "index": 2359
         },
         {
          "CountryCode": "PER",
          "CountryName": "Peru",
          "Total Population": 12982444,
          "Urban population (% of total)": 56.309,
          "Year": 1969,
          "index": 2360
         },
         {
          "CountryCode": "PHL",
          "CountryName": "Philippines",
          "Total Population": 34787588,
          "Urban population (% of total)": 32.672,
          "Year": 1969,
          "index": 2361
         },
         {
          "CountryCode": "POL",
          "CountryName": "Poland",
          "Total Population": 32548300,
          "Urban population (% of total)": 51.726,
          "Year": 1969,
          "index": 2362
         },
         {
          "CountryCode": "PRT",
          "CountryName": "Portugal",
          "Total Population": 8757705,
          "Urban population (% of total)": 38.414,
          "Year": 1969,
          "index": 2363
         },
         {
          "CountryCode": "PRI",
          "CountryName": "Puerto Rico",
          "Total Population": 2684150,
          "Urban population (% of total)": 57.077,
          "Year": 1969,
          "index": 2364
         },
         {
          "CountryCode": "QAT",
          "CountryName": "Qatar",
          "Total Population": 100697,
          "Urban population (% of total)": 88.103,
          "Year": 1969,
          "index": 2365
         },
         {
          "CountryCode": "ROM",
          "CountryName": "Romania",
          "Total Population": 20009141,
          "Urban population (% of total)": 39.822,
          "Year": 1969,
          "index": 2366
         },
         {
          "CountryCode": "RUS",
          "CountryName": "Russian Federation",
          "Total Population": 129664000,
          "Urban population (% of total)": 61.638,
          "Year": 1969,
          "index": 2367
         },
         {
          "CountryCode": "RWA",
          "CountryName": "Rwanda",
          "Total Population": 3640591,
          "Urban population (% of total)": 3.129,
          "Year": 1969,
          "index": 2368
         },
         {
          "CountryCode": "WSM",
          "CountryName": "Samoa",
          "Total Population": 140520,
          "Urban population (% of total)": 20.097,
          "Year": 1969,
          "index": 2369
         },
         {
          "CountryCode": "SMR",
          "CountryName": "San Marino",
          "Total Population": 18895,
          "Urban population (% of total)": 58.735,
          "Year": 1969,
          "index": 2370
         },
         {
          "CountryCode": "STP",
          "CountryName": "Sao Tome and Principe",
          "Total Population": 72240,
          "Urban population (% of total)": 27.861,
          "Year": 1969,
          "index": 2371
         },
         {
          "CountryCode": "SAU",
          "CountryName": "Saudi Arabia",
          "Total Population": 5601649,
          "Urban population (% of total)": 46.655,
          "Year": 1969,
          "index": 2372
         },
         {
          "CountryCode": "SEN",
          "CountryName": "Senegal",
          "Total Population": 4093763,
          "Urban population (% of total)": 29.247,
          "Year": 1969,
          "index": 2373
         },
         {
          "CountryCode": "SYC",
          "CountryName": "Seychelles",
          "Total Population": 52365,
          "Urban population (% of total)": 37.846,
          "Year": 1969,
          "index": 2374
         },
         {
          "CountryCode": "SLE",
          "CountryName": "Sierra Leone",
          "Total Population": 2473165,
          "Urban population (% of total)": 23.218,
          "Year": 1969,
          "index": 2375
         },
         {
          "CountryCode": "SGP",
          "CountryName": "Singapore",
          "Total Population": 2042500,
          "Urban population (% of total)": 100,
          "Year": 1969,
          "index": 2376
         },
         {
          "CountryCode": "SVK",
          "CountryName": "Slovak Republic",
          "Total Population": 4518607,
          "Urban population (% of total)": 40.243,
          "Year": 1969,
          "index": 2377
         },
         {
          "CountryCode": "SVN",
          "CountryName": "Slovenia",
          "Total Population": 1713874,
          "Urban population (% of total)": 36.081,
          "Year": 1969,
          "index": 2378
         },
         {
          "CountryCode": "SLB",
          "CountryName": "Solomon Islands",
          "Total Population": 154876,
          "Urban population (% of total)": 8.67,
          "Year": 1969,
          "index": 2379
         },
         {
          "CountryCode": "SOM",
          "CountryName": "Somalia",
          "Total Population": 3385414,
          "Urban population (% of total)": 22.115,
          "Year": 1969,
          "index": 2380
         },
         {
          "CountryCode": "ZAF",
          "CountryName": "South Africa",
          "Total Population": 21612522,
          "Urban population (% of total)": 47.704,
          "Year": 1969,
          "index": 2381
         },
         {
          "CountryCode": "SSD",
          "CountryName": "South Sudan",
          "Total Population": 3564079,
          "Urban population (% of total)": 8.645,
          "Year": 1969,
          "index": 2382
         },
         {
          "CountryCode": "ESP",
          "CountryName": "Spain",
          "Total Population": 33441054,
          "Urban population (% of total)": 65.108,
          "Year": 1969,
          "index": 2383
         },
         {
          "CountryCode": "LKA",
          "CountryName": "Sri Lanka",
          "Total Population": 12252000,
          "Urban population (% of total)": 19.125,
          "Year": 1969,
          "index": 2384
         },
         {
          "CountryCode": "KNA",
          "CountryName": "St. Kitts and Nevis",
          "Total Population": 45534,
          "Urban population (% of total)": 33.567,
          "Year": 1969,
          "index": 2385
         },
         {
          "CountryCode": "LCA",
          "CountryName": "St. Lucia",
          "Total Population": 102747,
          "Urban population (% of total)": 23.654,
          "Year": 1969,
          "index": 2386
         },
         {
          "CountryCode": "VCT",
          "CountryName": "St. Vincent and the Grenadines",
          "Total Population": 89518,
          "Urban population (% of total)": 30.187,
          "Year": 1969,
          "index": 2387
         },
         {
          "CountryCode": "SDN",
          "CountryName": "Sudan",
          "Total Population": 9909152,
          "Urban population (% of total)": 15.848,
          "Year": 1969,
          "index": 2388
         },
         {
          "CountryCode": "SUR",
          "CountryName": "Suriname",
          "Total Population": 366845,
          "Urban population (% of total)": 46.18,
          "Year": 1969,
          "index": 2389
         },
         {
          "CountryCode": "SWZ",
          "CountryName": "Swaziland",
          "Total Population": 433709,
          "Urban population (% of total)": 9.001,
          "Year": 1969,
          "index": 2390
         },
         {
          "CountryCode": "SWE",
          "CountryName": "Sweden",
          "Total Population": 7968072,
          "Urban population (% of total)": 80.287,
          "Year": 1969,
          "index": 2391
         },
         {
          "CountryCode": "CHE",
          "CountryName": "Switzerland",
          "Total Population": 6136387,
          "Urban population (% of total)": 56.742,
          "Year": 1969,
          "index": 2392
         },
         {
          "CountryCode": "SYR",
          "CountryName": "Syrian Arab Republic",
          "Total Population": 6166933,
          "Urban population (% of total)": 42.671,
          "Year": 1969,
          "index": 2393
         },
         {
          "CountryCode": "TJK",
          "CountryName": "Tajikistan",
          "Total Population": 2829641,
          "Urban population (% of total)": 36.777,
          "Year": 1969,
          "index": 2394
         },
         {
          "CountryCode": "TZA",
          "CountryName": "Tanzania",
          "Total Population": 13186560,
          "Urban population (% of total)": 7.311,
          "Year": 1969,
          "index": 2395
         },
         {
          "CountryCode": "THA",
          "CountryName": "Thailand",
          "Total Population": 35826803,
          "Urban population (% of total)": 20.668,
          "Year": 1969,
          "index": 2396
         },
         {
          "CountryCode": "TMP",
          "CountryName": "Timor-Leste",
          "Total Population": 589519,
          "Urban population (% of total)": 12.566,
          "Year": 1969,
          "index": 2397
         },
         {
          "CountryCode": "TGO",
          "CountryName": "Togo",
          "Total Population": 2034909,
          "Urban population (% of total)": 20.098,
          "Year": 1969,
          "index": 2398
         },
         {
          "CountryCode": "TON",
          "CountryName": "Tonga",
          "Total Population": 82879,
          "Urban population (% of total)": 20.157,
          "Year": 1969,
          "index": 2399
         },
         {
          "CountryCode": "TTO",
          "CountryName": "Trinidad and Tobago",
          "Total Population": 937846,
          "Urban population (% of total)": 12.268,
          "Year": 1969,
          "index": 2400
         },
         {
          "CountryCode": "TUN",
          "CountryName": "Tunisia",
          "Total Population": 5031211,
          "Urban population (% of total)": 42.662,
          "Year": 1969,
          "index": 2401
         },
         {
          "CountryCode": "TUR",
          "CountryName": "Turkey",
          "Total Population": 33969201,
          "Urban population (% of total)": 37.401,
          "Year": 1969,
          "index": 2402
         },
         {
          "CountryCode": "TKM",
          "CountryName": "Turkmenistan",
          "Total Population": 2126749,
          "Urban population (% of total)": 47.721,
          "Year": 1969,
          "index": 2403
         },
         {
          "CountryCode": "TCA",
          "CountryName": "Turks and Caicos Islands",
          "Total Population": 5573,
          "Urban population (% of total)": 50.763,
          "Year": 1969,
          "index": 2404
         },
         {
          "CountryCode": "TUV",
          "CountryName": "Tuvalu",
          "Total Population": 7213,
          "Urban population (% of total)": 21.392,
          "Year": 1969,
          "index": 2405
         },
         {
          "CountryCode": "UGA",
          "CountryName": "Uganda",
          "Total Population": 9162773,
          "Urban population (% of total)": 6.562,
          "Year": 1969,
          "index": 2406
         },
         {
          "CountryCode": "UKR",
          "CountryName": "Ukraine",
          "Total Population": 46746668,
          "Urban population (% of total)": 54.042,
          "Year": 1969,
          "index": 2407
         },
         {
          "CountryCode": "ARE",
          "CountryName": "United Arab Emirates",
          "Total Population": 205570,
          "Urban population (% of total)": 79.8,
          "Year": 1969,
          "index": 2408
         },
         {
          "CountryCode": "GBR",
          "CountryName": "United Kingdom",
          "Total Population": 55441750,
          "Urban population (% of total)": 77.259,
          "Year": 1969,
          "index": 2409
         },
         {
          "CountryCode": "USA",
          "CountryName": "United States",
          "Total Population": 202677000,
          "Urban population (% of total)": 73.333,
          "Year": 1969,
          "index": 2410
         },
         {
          "CountryCode": "URY",
          "CountryName": "Uruguay",
          "Total Population": 2795044,
          "Urban population (% of total)": 82.164,
          "Year": 1969,
          "index": 2411
         },
         {
          "CountryCode": "UZB",
          "CountryName": "Uzbekistan",
          "Total Population": 11599763,
          "Urban population (% of total)": 36.354,
          "Year": 1969,
          "index": 2412
         },
         {
          "CountryCode": "VUT",
          "CountryName": "Vanuatu",
          "Total Population": 82941,
          "Urban population (% of total)": 12.12,
          "Year": 1969,
          "index": 2413
         },
         {
          "CountryCode": "VEN",
          "CountryName": "Venezuela, RB",
          "Total Population": 11235492,
          "Urban population (% of total)": 70.92,
          "Year": 1969,
          "index": 2414
         },
         {
          "CountryCode": "VNM",
          "CountryName": "Vietnam",
          "Total Population": 41773000,
          "Urban population (% of total)": 17.911,
          "Year": 1969,
          "index": 2415
         },
         {
          "CountryCode": "VIR",
          "CountryName": "Virgin Islands (U.S.)",
          "Total Population": 58600,
          "Urban population (% of total)": 68.378,
          "Year": 1969,
          "index": 2416
         },
         {
          "CountryCode": "YEM",
          "CountryName": "Yemen, Rep.",
          "Total Population": 6047230,
          "Urban population (% of total)": 12.815,
          "Year": 1969,
          "index": 2417
         },
         {
          "CountryCode": "ZMB",
          "CountryName": "Zambia",
          "Total Population": 4047479,
          "Urban population (% of total)": 29.37,
          "Year": 1969,
          "index": 2418
         },
         {
          "CountryCode": "ZWE",
          "CountryName": "Zimbabwe",
          "Total Population": 5036321,
          "Urban population (% of total)": 16.88,
          "Year": 1969,
          "index": 2419
         },
         {
          "CountryCode": "ARB",
          "CountryName": "Arab World",
          "Total Population": 121981406,
          "Urban population (% of total)": 38.7771917518,
          "Year": 1970,
          "index": 2420
         },
         {
          "CountryCode": "CSS",
          "CountryName": "Caribbean small states",
          "Total Population": 4882583,
          "Urban population (% of total)": 34.2635475086,
          "Year": 1970,
          "index": 2421
         },
         {
          "CountryCode": "CEB",
          "CountryName": "Central Europe and the Baltics",
          "Total Population": 99133296,
          "Urban population (% of total)": 50.7804098605,
          "Year": 1970,
          "index": 2422
         },
         {
          "CountryCode": "EAS",
          "CountryName": "East Asia & Pacific (all income levels)",
          "Total Population": 1289398198,
          "Urban population (% of total)": 24.8408168052,
          "Year": 1970,
          "index": 2423
         },
         {
          "CountryCode": "EAP",
          "CountryName": "East Asia & Pacific (developing only)",
          "Total Population": 1116250866,
          "Urban population (% of total)": 18.7748809027,
          "Year": 1970,
          "index": 2424
         },
         {
          "CountryCode": "EMU",
          "CountryName": "Euro area",
          "Total Population": 287416203,
          "Urban population (% of total)": 67.1473108283,
          "Year": 1970,
          "index": 2425
         },
         {
          "CountryCode": "ECS",
          "CountryName": "Europe & Central Asia (all income levels)",
          "Total Population": 737500170,
          "Urban population (% of total)": 60.7760236815,
          "Year": 1970,
          "index": 2426
         },
         {
          "CountryCode": "ECA",
          "CountryName": "Europe & Central Asia (developing only)",
          "Total Population": 183464390,
          "Urban population (% of total)": 45.0650596037,
          "Year": 1970,
          "index": 2427
         },
         {
          "CountryCode": "EUU",
          "CountryName": "European Union",
          "Total Population": 442062264,
          "Urban population (% of total)": 65.6768935347,
          "Year": 1970,
          "index": 2428
         },
         {
          "CountryCode": "FCS",
          "CountryName": "Fragile and conflict affected situations",
          "Total Population": 154210353,
          "Urban population (% of total)": 23.4769601046,
          "Year": 1970,
          "index": 2429
         },
         {
          "CountryCode": "HPC",
          "CountryName": "Heavily indebted poor countries (HIPC)",
          "Total Population": 208410359,
          "Urban population (% of total)": 16.2424227511,
          "Year": 1970,
          "index": 2430
         },
         {
          "CountryCode": "HIC",
          "CountryName": "High income",
          "Total Population": 1017505527,
          "Urban population (% of total)": 68.345383277,
          "Year": 1970,
          "index": 2431
         },
         {
          "CountryCode": "NOC",
          "CountryName": "High income: nonOECD",
          "Total Population": 213932884,
          "Urban population (% of total)": 64.6780346874,
          "Year": 1970,
          "index": 2432
         },
         {
          "CountryCode": "OEC",
          "CountryName": "High income: OECD",
          "Total Population": 803572643,
          "Urban population (% of total)": 69.2554854958,
          "Year": 1970,
          "index": 2433
         },
         {
          "CountryCode": "LCN",
          "CountryName": "Latin America & Caribbean (all income levels)",
          "Total Population": 287763515,
          "Urban population (% of total)": 57.0386751119,
          "Year": 1970,
          "index": 2434
         },
         {
          "CountryCode": "LAC",
          "CountryName": "Latin America & Caribbean (developing only)",
          "Total Population": 235361548,
          "Urban population (% of total)": 53.2171662668,
          "Year": 1970,
          "index": 2435
         },
         {
          "CountryCode": "LDC",
          "CountryName": "Least developed countries: UN classification",
          "Total Population": 308870065,
          "Urban population (% of total)": 12.8070395378,
          "Year": 1970,
          "index": 2436
         },
         {
          "CountryCode": "LMY",
          "CountryName": "Low & middle income",
          "Total Population": 2667317174,
          "Urban population (% of total)": 24.5580849968,
          "Year": 1970,
          "index": 2437
         },
         {
          "CountryCode": "LIC",
          "CountryName": "Low income",
          "Total Population": 198588590,
          "Urban population (% of total)": 15.2550849707,
          "Year": 1970,
          "index": 2438
         },
         {
          "CountryCode": "LMC",
          "CountryName": "Lower middle income",
          "Total Population": 1186201817,
          "Urban population (% of total)": 22.5040298119,
          "Year": 1970,
          "index": 2439
         },
         {
          "CountryCode": "MEA",
          "CountryName": "Middle East & North Africa (all income levels)",
          "Total Population": 138716538,
          "Urban population (% of total)": 42.6364866691,
          "Year": 1970,
          "index": 2440
         },
         {
          "CountryCode": "MNA",
          "CountryName": "Middle East & North Africa (developing only)",
          "Total Population": 127571595,
          "Urban population (% of total)": 40.9241304987,
          "Year": 1970,
          "index": 2441
         },
         {
          "CountryCode": "MIC",
          "CountryName": "Middle income",
          "Total Population": 2468728584,
          "Urban population (% of total)": 25.306803328,
          "Year": 1970,
          "index": 2442
         },
         {
          "CountryCode": "NAC",
          "CountryName": "North America",
          "Total Population": 226431000,
          "Urban population (% of total)": 73.8016579002,
          "Year": 1970,
          "index": 2443
         },
         {
          "CountryCode": "OED",
          "CountryName": "OECD members",
          "Total Population": 890374533,
          "Urban population (% of total)": 67.4459336354,
          "Year": 1970,
          "index": 2444
         },
         {
          "CountryCode": "OSS",
          "CountryName": "Other small states",
          "Total Population": 8139804,
          "Urban population (% of total)": 20.3791451886,
          "Year": 1970,
          "index": 2445
         },
         {
          "CountryCode": "PSS",
          "CountryName": "Pacific island small states",
          "Total Population": 1145542,
          "Urban population (% of total)": 26.0890834365,
          "Year": 1970,
          "index": 2446
         },
         {
          "CountryCode": "SST",
          "CountryName": "Small states",
          "Total Population": 14167929,
          "Urban population (% of total)": 25.6256932771,
          "Year": 1970,
          "index": 2447
         },
         {
          "CountryCode": "SAS",
          "CountryName": "South Asia",
          "Total Population": 713115397,
          "Urban population (% of total)": 18.6569274028,
          "Year": 1970,
          "index": 2448
         },
         {
          "CountryCode": "SSF",
          "CountryName": "Sub-Saharan Africa (all income levels)",
          "Total Population": 291897883,
          "Urban population (% of total)": 18.0311373119,
          "Year": 1970,
          "index": 2449
         },
         {
          "CountryCode": "SSA",
          "CountryName": "Sub-Saharan Africa (developing only)",
          "Total Population": 291553378,
          "Urban population (% of total)": 18.018366816,
          "Year": 1970,
          "index": 2450
         },
         {
          "CountryCode": "UMC",
          "CountryName": "Upper middle income",
          "Total Population": 1282526767,
          "Urban population (% of total)": 27.8964088957,
          "Year": 1970,
          "index": 2451
         },
         {
          "CountryCode": "WLD",
          "CountryName": "World",
          "Total Population": 3684822701,
          "Urban population (% of total)": 36.5278776726,
          "Year": 1970,
          "index": 2452
         },
         {
          "CountryCode": "AFG",
          "CountryName": "Afghanistan",
          "Total Population": 11121097,
          "Urban population (% of total)": 11.529,
          "Year": 1970,
          "index": 2453
         },
         {
          "CountryCode": "ALB",
          "CountryName": "Albania",
          "Total Population": 2135479,
          "Urban population (% of total)": 31.74,
          "Year": 1970,
          "index": 2454
         },
         {
          "CountryCode": "DZA",
          "CountryName": "Algeria",
          "Total Population": 14550033,
          "Urban population (% of total)": 39.5,
          "Year": 1970,
          "index": 2455
         },
         {
          "CountryCode": "ASM",
          "CountryName": "American Samoa",
          "Total Population": 27292,
          "Urban population (% of total)": 70.384,
          "Year": 1970,
          "index": 2456
         },
         {
          "CountryCode": "ADO",
          "CountryName": "Andorra",
          "Total Population": 24279,
          "Urban population (% of total)": 80.155,
          "Year": 1970,
          "index": 2457
         },
         {
          "CountryCode": "AGO",
          "CountryName": "Angola",
          "Total Population": 6300969,
          "Urban population (% of total)": 14.957,
          "Year": 1970,
          "index": 2458
         },
         {
          "CountryCode": "ATG",
          "CountryName": "Antigua and Barbuda",
          "Total Population": 65369,
          "Urban population (% of total)": 33.819,
          "Year": 1970,
          "index": 2459
         },
         {
          "CountryCode": "ARG",
          "CountryName": "Argentina",
          "Total Population": 23973062,
          "Urban population (% of total)": 78.88,
          "Year": 1970,
          "index": 2460
         },
         {
          "CountryCode": "ARM",
          "CountryName": "Armenia",
          "Total Population": 2518408,
          "Urban population (% of total)": 59.864,
          "Year": 1970,
          "index": 2461
         },
         {
          "CountryCode": "ABW",
          "CountryName": "Aruba",
          "Total Population": 59065,
          "Urban population (% of total)": 50.624,
          "Year": 1970,
          "index": 2462
         },
         {
          "CountryCode": "AUS",
          "CountryName": "Australia",
          "Total Population": 12507000,
          "Urban population (% of total)": 85.265,
          "Year": 1970,
          "index": 2463
         },
         {
          "CountryCode": "AUT",
          "CountryName": "Austria",
          "Total Population": 7467086,
          "Urban population (% of total)": 65.258,
          "Year": 1970,
          "index": 2464
         },
         {
          "CountryCode": "AZE",
          "CountryName": "Azerbaijan",
          "Total Population": 5178160,
          "Urban population (% of total)": 50.008,
          "Year": 1970,
          "index": 2465
         },
         {
          "CountryCode": "BHS",
          "CountryName": "Bahamas, The",
          "Total Population": 169356,
          "Urban population (% of total)": 66.764,
          "Year": 1970,
          "index": 2466
         },
         {
          "CountryCode": "BHR",
          "CountryName": "Bahrain",
          "Total Population": 213102,
          "Urban population (% of total)": 83.775,
          "Year": 1970,
          "index": 2467
         },
         {
          "CountryCode": "BGD",
          "CountryName": "Bangladesh",
          "Total Population": 65048701,
          "Urban population (% of total)": 7.593,
          "Year": 1970,
          "index": 2468
         },
         {
          "CountryCode": "BRB",
          "CountryName": "Barbados",
          "Total Population": 238847,
          "Urban population (% of total)": 37.539,
          "Year": 1970,
          "index": 2469
         },
         {
          "CountryCode": "BLR",
          "CountryName": "Belarus",
          "Total Population": 9040000,
          "Urban population (% of total)": 44.01,
          "Year": 1970,
          "index": 2470
         },
         {
          "CountryCode": "BEL",
          "CountryName": "Belgium",
          "Total Population": 9655549,
          "Urban population (% of total)": 93.843,
          "Year": 1970,
          "index": 2471
         },
         {
          "CountryCode": "BLZ",
          "CountryName": "Belize",
          "Total Population": 122179,
          "Urban population (% of total)": 50.963,
          "Year": 1970,
          "index": 2472
         },
         {
          "CountryCode": "BEN",
          "CountryName": "Benin",
          "Total Population": 2907769,
          "Urban population (% of total)": 16.691,
          "Year": 1970,
          "index": 2473
         },
         {
          "CountryCode": "BMU",
          "CountryName": "Bermuda",
          "Total Population": 55000,
          "Urban population (% of total)": 100,
          "Year": 1970,
          "index": 2474
         },
         {
          "CountryCode": "BTN",
          "CountryName": "Bhutan",
          "Total Population": 291457,
          "Urban population (% of total)": 6.089,
          "Year": 1970,
          "index": 2475
         },
         {
          "CountryCode": "BOL",
          "CountryName": "Bolivia",
          "Total Population": 4505774,
          "Urban population (% of total)": 39.776,
          "Year": 1970,
          "index": 2476
         },
         {
          "CountryCode": "BIH",
          "CountryName": "Bosnia and Herzegovina",
          "Total Population": 3745637,
          "Urban population (% of total)": 27.201,
          "Year": 1970,
          "index": 2477
         },
         {
          "CountryCode": "BWA",
          "CountryName": "Botswana",
          "Total Population": 693021,
          "Urban population (% of total)": 7.834,
          "Year": 1970,
          "index": 2478
         },
         {
          "CountryCode": "BRA",
          "CountryName": "Brazil",
          "Total Population": 95982453,
          "Urban population (% of total)": 55.909,
          "Year": 1970,
          "index": 2479
         },
         {
          "CountryCode": "BRN",
          "CountryName": "Brunei Darussalam",
          "Total Population": 129729,
          "Urban population (% of total)": 61.675,
          "Year": 1970,
          "index": 2480
         },
         {
          "CountryCode": "BGR",
          "CountryName": "Bulgaria",
          "Total Population": 8489574,
          "Urban population (% of total)": 52.3,
          "Year": 1970,
          "index": 2481
         },
         {
          "CountryCode": "BFA",
          "CountryName": "Burkina Faso",
          "Total Population": 5624597,
          "Urban population (% of total)": 5.746,
          "Year": 1970,
          "index": 2482
         },
         {
          "CountryCode": "BDI",
          "CountryName": "Burundi",
          "Total Population": 3457113,
          "Urban population (% of total)": 2.845,
          "Year": 1970,
          "index": 2483
         },
         {
          "CountryCode": "CPV",
          "CountryName": "Cabo Verde",
          "Total Population": 270197,
          "Urban population (% of total)": 19.559,
          "Year": 1970,
          "index": 2484
         },
         {
          "CountryCode": "KHM",
          "CountryName": "Cambodia",
          "Total Population": 7022185,
          "Urban population (% of total)": 15.97,
          "Year": 1970,
          "index": 2485
         },
         {
          "CountryCode": "CMR",
          "CountryName": "Cameroon",
          "Total Population": 6770967,
          "Urban population (% of total)": 20.3,
          "Year": 1970,
          "index": 2486
         },
         {
          "CountryCode": "CAN",
          "CountryName": "Canada",
          "Total Population": 21324000,
          "Urban population (% of total)": 75.654,
          "Year": 1970,
          "index": 2487
         },
         {
          "CountryCode": "CYM",
          "CountryName": "Cayman Islands",
          "Total Population": 9144,
          "Urban population (% of total)": 100,
          "Year": 1970,
          "index": 2488
         },
         {
          "CountryCode": "CAF",
          "CountryName": "Central African Republic",
          "Total Population": 1828710,
          "Urban population (% of total)": 27.492,
          "Year": 1970,
          "index": 2489
         },
         {
          "CountryCode": "TCD",
          "CountryName": "Chad",
          "Total Population": 3644911,
          "Urban population (% of total)": 11.568,
          "Year": 1970,
          "index": 2490
         },
         {
          "CountryCode": "CHI",
          "CountryName": "Channel Islands",
          "Total Population": 121196,
          "Urban population (% of total)": 36.088,
          "Year": 1970,
          "index": 2491
         },
         {
          "CountryCode": "CHL",
          "CountryName": "Chile",
          "Total Population": 9561868,
          "Urban population (% of total)": 75.227,
          "Year": 1970,
          "index": 2492
         },
         {
          "CountryCode": "CHN",
          "CountryName": "China",
          "Total Population": 818315000,
          "Urban population (% of total)": 17.4,
          "Year": 1970,
          "index": 2493
         },
         {
          "CountryCode": "COL",
          "CountryName": "Colombia",
          "Total Population": 22061214,
          "Urban population (% of total)": 54.82,
          "Year": 1970,
          "index": 2494
         },
         {
          "CountryCode": "COM",
          "CountryName": "Comoros",
          "Total Population": 228443,
          "Urban population (% of total)": 19.39,
          "Year": 1970,
          "index": 2495
         },
         {
          "CountryCode": "ZAR",
          "CountryName": "Congo, Dem. Rep.",
          "Total Population": 20009902,
          "Urban population (% of total)": 24.608,
          "Year": 1970,
          "index": 2496
         },
         {
          "CountryCode": "COG",
          "CountryName": "Congo, Rep.",
          "Total Population": 1335090,
          "Urban population (% of total)": 39.129,
          "Year": 1970,
          "index": 2497
         },
         {
          "CountryCode": "CRI",
          "CountryName": "Costa Rica",
          "Total Population": 1848873,
          "Urban population (% of total)": 38.827,
          "Year": 1970,
          "index": 2498
         },
         {
          "CountryCode": "CIV",
          "CountryName": "Cote d'Ivoire",
          "Total Population": 5241914,
          "Urban population (% of total)": 28.163,
          "Year": 1970,
          "index": 2499
         },
         {
          "CountryCode": "HRV",
          "CountryName": "Croatia",
          "Total Population": 4411000,
          "Urban population (% of total)": 40.196,
          "Year": 1970,
          "index": 2500
         },
         {
          "CountryCode": "CUB",
          "CountryName": "Cuba",
          "Total Population": 8715123,
          "Urban population (% of total)": 60.266,
          "Year": 1970,
          "index": 2501
         },
         {
          "CountryCode": "CUW",
          "CountryName": "Curacao",
          "Total Population": 144739,
          "Urban population (% of total)": 78.448,
          "Year": 1970,
          "index": 2502
         },
         {
          "CountryCode": "CYP",
          "CountryName": "Cyprus",
          "Total Population": 613619,
          "Urban population (% of total)": 40.761,
          "Year": 1970,
          "index": 2503
         },
         {
          "CountryCode": "CZE",
          "CountryName": "Czech Republic",
          "Total Population": 9858071,
          "Urban population (% of total)": 64.402,
          "Year": 1970,
          "index": 2504
         },
         {
          "CountryCode": "DNK",
          "CountryName": "Denmark",
          "Total Population": 4928757,
          "Urban population (% of total)": 79.737,
          "Year": 1970,
          "index": 2505
         },
         {
          "CountryCode": "DJI",
          "CountryName": "Djibouti",
          "Total Population": 159667,
          "Urban population (% of total)": 61.777,
          "Year": 1970,
          "index": 2506
         },
         {
          "CountryCode": "DMA",
          "CountryName": "Dominica",
          "Total Population": 71076,
          "Urban population (% of total)": 38.683,
          "Year": 1970,
          "index": 2507
         },
         {
          "CountryCode": "DOM",
          "CountryName": "Dominican Republic",
          "Total Population": 4503114,
          "Urban population (% of total)": 40.209,
          "Year": 1970,
          "index": 2508
         },
         {
          "CountryCode": "ECU",
          "CountryName": "Ecuador",
          "Total Population": 6072520,
          "Urban population (% of total)": 39.278,
          "Year": 1970,
          "index": 2509
         },
         {
          "CountryCode": "EGY",
          "CountryName": "Egypt, Arab Rep.",
          "Total Population": 34808599,
          "Urban population (% of total)": 41.477,
          "Year": 1970,
          "index": 2510
         },
         {
          "CountryCode": "SLV",
          "CountryName": "El Salvador",
          "Total Population": 3668592,
          "Urban population (% of total)": 39.402,
          "Year": 1970,
          "index": 2511
         },
         {
          "CountryCode": "GNQ",
          "CountryName": "Equatorial Guinea",
          "Total Population": 290905,
          "Urban population (% of total)": 26.954,
          "Year": 1970,
          "index": 2512
         },
         {
          "CountryCode": "ERI",
          "CountryName": "Eritrea",
          "Total Population": 1805480,
          "Urban population (% of total)": 12.593,
          "Year": 1970,
          "index": 2513
         },
         {
          "CountryCode": "EST",
          "CountryName": "Estonia",
          "Total Population": 1360076,
          "Urban population (% of total)": 64.947,
          "Year": 1970,
          "index": 2514
         },
         {
          "CountryCode": "ETH",
          "CountryName": "Ethiopia",
          "Total Population": 28414999,
          "Urban population (% of total)": 8.588,
          "Year": 1970,
          "index": 2515
         },
         {
          "CountryCode": "FRO",
          "CountryName": "Faeroe Islands",
          "Total Population": 38587,
          "Urban population (% of total)": 27.951,
          "Year": 1970,
          "index": 2516
         },
         {
          "CountryCode": "FJI",
          "CountryName": "Fiji",
          "Total Population": 520529,
          "Urban population (% of total)": 34.758,
          "Year": 1970,
          "index": 2517
         },
         {
          "CountryCode": "FIN",
          "CountryName": "Finland",
          "Total Population": 4606307,
          "Urban population (% of total)": 63.704,
          "Year": 1970,
          "index": 2518
         },
         {
          "CountryCode": "FRA",
          "CountryName": "France",
          "Total Population": 52035095,
          "Urban population (% of total)": 71.055,
          "Year": 1970,
          "index": 2519
         },
         {
          "CountryCode": "PYF",
          "CountryName": "French Polynesia",
          "Total Population": 110496,
          "Urban population (% of total)": 55.162,
          "Year": 1970,
          "index": 2520
         },
         {
          "CountryCode": "GAB",
          "CountryName": "Gabon",
          "Total Population": 590119,
          "Urban population (% of total)": 32,
          "Year": 1970,
          "index": 2521
         },
         {
          "CountryCode": "GMB",
          "CountryName": "Gambia, The",
          "Total Population": 447283,
          "Urban population (% of total)": 19.496,
          "Year": 1970,
          "index": 2522
         },
         {
          "CountryCode": "GEO",
          "CountryName": "Georgia",
          "Total Population": 3967800,
          "Urban population (% of total)": 48.006,
          "Year": 1970,
          "index": 2523
         },
         {
          "CountryCode": "DEU",
          "CountryName": "Germany",
          "Total Population": 78169289,
          "Urban population (% of total)": 72.274,
          "Year": 1970,
          "index": 2524
         },
         {
          "CountryCode": "GHA",
          "CountryName": "Ghana",
          "Total Population": 8596977,
          "Urban population (% of total)": 28.958,
          "Year": 1970,
          "index": 2525
         },
         {
          "CountryCode": "GRC",
          "CountryName": "Greece",
          "Total Population": 8792806,
          "Urban population (% of total)": 64.22,
          "Year": 1970,
          "index": 2526
         },
         {
          "CountryCode": "GRL",
          "CountryName": "Greenland",
          "Total Population": 46400,
          "Urban population (% of total)": 72.744,
          "Year": 1970,
          "index": 2527
         },
         {
          "CountryCode": "GRD",
          "CountryName": "Grenada",
          "Total Population": 94430,
          "Urban population (% of total)": 32.212,
          "Year": 1970,
          "index": 2528
         },
         {
          "CountryCode": "GUM",
          "CountryName": "Guam",
          "Total Population": 83880,
          "Urban population (% of total)": 61.92,
          "Year": 1970,
          "index": 2529
         },
         {
          "CountryCode": "GTM",
          "CountryName": "Guatemala",
          "Total Population": 5423384,
          "Urban population (% of total)": 35.545,
          "Year": 1970,
          "index": 2530
         },
         {
          "CountryCode": "GIN",
          "CountryName": "Guinea",
          "Total Population": 4215442,
          "Urban population (% of total)": 15.977,
          "Year": 1970,
          "index": 2531
         },
         {
          "CountryCode": "GNB",
          "CountryName": "Guinea-Bissau",
          "Total Population": 711828,
          "Urban population (% of total)": 15.132,
          "Year": 1970,
          "index": 2532
         },
         {
          "CountryCode": "GUY",
          "CountryName": "Guyana",
          "Total Population": 695561,
          "Urban population (% of total)": 29.425,
          "Year": 1970,
          "index": 2533
         },
         {
          "CountryCode": "HTI",
          "CountryName": "Haiti",
          "Total Population": 4708639,
          "Urban population (% of total)": 19.762,
          "Year": 1970,
          "index": 2534
         },
         {
          "CountryCode": "HND",
          "CountryName": "Honduras",
          "Total Population": 2691309,
          "Urban population (% of total)": 28.902,
          "Year": 1970,
          "index": 2535
         },
         {
          "CountryCode": "HKG",
          "CountryName": "Hong Kong SAR, China",
          "Total Population": 3959000,
          "Urban population (% of total)": 87.729,
          "Year": 1970,
          "index": 2536
         },
         {
          "CountryCode": "HUN",
          "CountryName": "Hungary",
          "Total Population": 10337910,
          "Urban population (% of total)": 60.112,
          "Year": 1970,
          "index": 2537
         },
         {
          "CountryCode": "ISL",
          "CountryName": "Iceland",
          "Total Population": 204438,
          "Urban population (% of total)": 84.9,
          "Year": 1970,
          "index": 2538
         },
         {
          "CountryCode": "IND",
          "CountryName": "India",
          "Total Population": 553943226,
          "Urban population (% of total)": 19.76,
          "Year": 1970,
          "index": 2539
         },
         {
          "CountryCode": "IDN",
          "CountryName": "Indonesia",
          "Total Population": 114834781,
          "Urban population (% of total)": 17.071,
          "Year": 1970,
          "index": 2540
         },
         {
          "CountryCode": "IRN",
          "CountryName": "Iran, Islamic Rep.",
          "Total Population": 28514011,
          "Urban population (% of total)": 41.212,
          "Year": 1970,
          "index": 2541
         },
         {
          "CountryCode": "IRQ",
          "CountryName": "Iraq",
          "Total Population": 9917982,
          "Urban population (% of total)": 56.154,
          "Year": 1970,
          "index": 2542
         },
         {
          "CountryCode": "IRL",
          "CountryName": "Ireland",
          "Total Population": 2957250,
          "Urban population (% of total)": 51.722,
          "Year": 1970,
          "index": 2543
         },
         {
          "CountryCode": "IMY",
          "CountryName": "Isle of Man",
          "Total Population": 56712,
          "Urban population (% of total)": 55.831,
          "Year": 1970,
          "index": 2544
         },
         {
          "CountryCode": "ISR",
          "CountryName": "Israel",
          "Total Population": 2974000,
          "Urban population (% of total)": 84.195,
          "Year": 1970,
          "index": 2545
         },
         {
          "CountryCode": "ITA",
          "CountryName": "Italy",
          "Total Population": 53821850,
          "Urban population (% of total)": 64.272,
          "Year": 1970,
          "index": 2546
         },
         {
          "CountryCode": "JAM",
          "CountryName": "Jamaica",
          "Total Population": 1869000,
          "Urban population (% of total)": 41.324,
          "Year": 1970,
          "index": 2547
         },
         {
          "CountryCode": "JPN",
          "CountryName": "Japan",
          "Total Population": 104345000,
          "Urban population (% of total)": 71.877,
          "Year": 1970,
          "index": 2548
         },
         {
          "CountryCode": "JOR",
          "CountryName": "Jordan",
          "Total Population": 1508000,
          "Urban population (% of total)": 55.971,
          "Year": 1970,
          "index": 2549
         },
         {
          "CountryCode": "KAZ",
          "CountryName": "Kazakhstan",
          "Total Population": 12757245,
          "Urban population (% of total)": 50.236,
          "Year": 1970,
          "index": 2550
         },
         {
          "CountryCode": "KEN",
          "CountryName": "Kenya",
          "Total Population": 11252466,
          "Urban population (% of total)": 10.295,
          "Year": 1970,
          "index": 2551
         },
         {
          "CountryCode": "KIR",
          "CountryName": "Kiribati",
          "Total Population": 51181,
          "Urban population (% of total)": 24.088,
          "Year": 1970,
          "index": 2552
         },
         {
          "CountryCode": "PRK",
          "CountryName": "Korea, Dem. Rep.",
          "Total Population": 14410400,
          "Urban population (% of total)": 54.2,
          "Year": 1970,
          "index": 2553
         },
         {
          "CountryCode": "KOR",
          "CountryName": "Korea, Rep.",
          "Total Population": 32240827,
          "Urban population (% of total)": 40.704,
          "Year": 1970,
          "index": 2554
         },
         {
          "CountryCode": "KWT",
          "CountryName": "Kuwait",
          "Total Population": 750184,
          "Urban population (% of total)": 85.661,
          "Year": 1970,
          "index": 2555
         },
         {
          "CountryCode": "KGZ",
          "CountryName": "Kyrgyz Republic",
          "Total Population": 2959900,
          "Urban population (% of total)": 37.466,
          "Year": 1970,
          "index": 2556
         },
         {
          "CountryCode": "LAO",
          "CountryName": "Lao PDR",
          "Total Population": 2686025,
          "Urban population (% of total)": 9.625,
          "Year": 1970,
          "index": 2557
         },
         {
          "CountryCode": "LVA",
          "CountryName": "Latvia",
          "Total Population": 2359164,
          "Urban population (% of total)": 60.713,
          "Year": 1970,
          "index": 2558
         },
         {
          "CountryCode": "LBN",
          "CountryName": "Lebanon",
          "Total Population": 2297403,
          "Urban population (% of total)": 59.475,
          "Year": 1970,
          "index": 2559
         },
         {
          "CountryCode": "LSO",
          "CountryName": "Lesotho",
          "Total Population": 1032240,
          "Urban population (% of total)": 8.608,
          "Year": 1970,
          "index": 2560
         },
         {
          "CountryCode": "LBR",
          "CountryName": "Liberia",
          "Total Population": 1419728,
          "Urban population (% of total)": 26.025,
          "Year": 1970,
          "index": 2561
         },
         {
          "CountryCode": "LBY",
          "CountryName": "Libya",
          "Total Population": 2114264,
          "Urban population (% of total)": 49.671,
          "Year": 1970,
          "index": 2562
         },
         {
          "CountryCode": "LIE",
          "CountryName": "Liechtenstein",
          "Total Population": 21266,
          "Urban population (% of total)": 18.453,
          "Year": 1970,
          "index": 2563
         },
         {
          "CountryCode": "LTU",
          "CountryName": "Lithuania",
          "Total Population": 3139689,
          "Urban population (% of total)": 49.555,
          "Year": 1970,
          "index": 2564
         },
         {
          "CountryCode": "LUX",
          "CountryName": "Luxembourg",
          "Total Population": 339171,
          "Urban population (% of total)": 74.374,
          "Year": 1970,
          "index": 2565
         },
         {
          "CountryCode": "MAC",
          "CountryName": "Macao SAR, China",
          "Total Population": 250997,
          "Urban population (% of total)": 97.032,
          "Year": 1970,
          "index": 2566
         },
         {
          "CountryCode": "MKD",
          "CountryName": "Macedonia, FYR",
          "Total Population": 1720798,
          "Urban population (% of total)": 47.079,
          "Year": 1970,
          "index": 2567
         },
         {
          "CountryCode": "MDG",
          "CountryName": "Madagascar",
          "Total Population": 6576301,
          "Urban population (% of total)": 14.1,
          "Year": 1970,
          "index": 2568
         },
         {
          "CountryCode": "MWI",
          "CountryName": "Malawi",
          "Total Population": 4603739,
          "Urban population (% of total)": 6.053,
          "Year": 1970,
          "index": 2569
         },
         {
          "CountryCode": "MYS",
          "CountryName": "Malaysia",
          "Total Population": 10908634,
          "Urban population (% of total)": 33.454,
          "Year": 1970,
          "index": 2570
         },
         {
          "CountryCode": "MDV",
          "CountryName": "Maldives",
          "Total Population": 115703,
          "Urban population (% of total)": 11.893,
          "Year": 1970,
          "index": 2571
         },
         {
          "CountryCode": "MLI",
          "CountryName": "Mali",
          "Total Population": 5949043,
          "Urban population (% of total)": 14.33,
          "Year": 1970,
          "index": 2572
         },
         {
          "CountryCode": "MLT",
          "CountryName": "Malta",
          "Total Population": 302650,
          "Urban population (% of total)": 89.699,
          "Year": 1970,
          "index": 2573
         },
         {
          "CountryCode": "MHL",
          "CountryName": "Marshall Islands",
          "Total Population": 20397,
          "Urban population (% of total)": 53.492,
          "Year": 1970,
          "index": 2574
         },
         {
          "CountryCode": "MRT",
          "CountryName": "Mauritania",
          "Total Population": 1148908,
          "Urban population (% of total)": 14.564,
          "Year": 1970,
          "index": 2575
         },
         {
          "CountryCode": "MUS",
          "CountryName": "Mauritius",
          "Total Population": 826000,
          "Urban population (% of total)": 42.032,
          "Year": 1970,
          "index": 2576
         },
         {
          "CountryCode": "MEX",
          "CountryName": "Mexico",
          "Total Population": 52029859,
          "Urban population (% of total)": 59.021,
          "Year": 1970,
          "index": 2577
         },
         {
          "CountryCode": "FSM",
          "CountryName": "Micronesia, Fed. Sts.",
          "Total Population": 61433,
          "Urban population (% of total)": 24.808,
          "Year": 1970,
          "index": 2578
         },
         {
          "CountryCode": "MDA",
          "CountryName": "Moldova",
          "Total Population": 3044000,
          "Urban population (% of total)": 32.068,
          "Year": 1970,
          "index": 2579
         },
         {
          "CountryCode": "MCO",
          "CountryName": "Monaco",
          "Total Population": 23484,
          "Urban population (% of total)": 100,
          "Year": 1970,
          "index": 2580
         },
         {
          "CountryCode": "MNG",
          "CountryName": "Mongolia",
          "Total Population": 1278825,
          "Urban population (% of total)": 45.052,
          "Year": 1970,
          "index": 2581
         },
         {
          "CountryCode": "MNE",
          "CountryName": "Montenegro",
          "Total Population": 526123,
          "Urban population (% of total)": 26.853,
          "Year": 1970,
          "index": 2582
         },
         {
          "CountryCode": "MAR",
          "CountryName": "Morocco",
          "Total Population": 16039600,
          "Urban population (% of total)": 34.477,
          "Year": 1970,
          "index": 2583
         },
         {
          "CountryCode": "MOZ",
          "CountryName": "Mozambique",
          "Total Population": 9262078,
          "Urban population (% of total)": 6.979,
          "Year": 1970,
          "index": 2584
         },
         {
          "CountryCode": "MMR",
          "CountryName": "Myanmar",
          "Total Population": 27166045,
          "Urban population (% of total)": 22.83,
          "Year": 1970,
          "index": 2585
         },
         {
          "CountryCode": "NAM",
          "CountryName": "Namibia",
          "Total Population": 780386,
          "Urban population (% of total)": 22.292,
          "Year": 1970,
          "index": 2586
         },
         {
          "CountryCode": "NPL",
          "CountryName": "Nepal",
          "Total Population": 11986974,
          "Urban population (% of total)": 3.956,
          "Year": 1970,
          "index": 2587
         },
         {
          "CountryCode": "NLD",
          "CountryName": "Netherlands",
          "Total Population": 13038526,
          "Urban population (% of total)": 61.663,
          "Year": 1970,
          "index": 2588
         },
         {
          "CountryCode": "NCL",
          "CountryName": "New Caledonia",
          "Total Population": 112000,
          "Urban population (% of total)": 51.232,
          "Year": 1970,
          "index": 2589
         },
         {
          "CountryCode": "NZL",
          "CountryName": "New Zealand",
          "Total Population": 2810700,
          "Urban population (% of total)": 81.106,
          "Year": 1970,
          "index": 2590
         },
         {
          "CountryCode": "NIC",
          "CountryName": "Nicaragua",
          "Total Population": 2398095,
          "Urban population (% of total)": 47.03,
          "Year": 1970,
          "index": 2591
         },
         {
          "CountryCode": "NER",
          "CountryName": "Niger",
          "Total Population": 4497355,
          "Urban population (% of total)": 8.794,
          "Year": 1970,
          "index": 2592
         },
         {
          "CountryCode": "NGA",
          "CountryName": "Nigeria",
          "Total Population": 56131844,
          "Urban population (% of total)": 17.76,
          "Year": 1970,
          "index": 2593
         },
         {
          "CountryCode": "MNP",
          "CountryName": "Northern Mariana Islands",
          "Total Population": 13203,
          "Urban population (% of total)": 70.062,
          "Year": 1970,
          "index": 2594
         },
         {
          "CountryCode": "NOR",
          "CountryName": "Norway",
          "Total Population": 3875763,
          "Urban population (% of total)": 65.396,
          "Year": 1970,
          "index": 2595
         },
         {
          "CountryCode": "OMN",
          "CountryName": "Oman",
          "Total Population": 723850,
          "Urban population (% of total)": 29.665,
          "Year": 1970,
          "index": 2596
         },
         {
          "CountryCode": "PAK",
          "CountryName": "Pakistan",
          "Total Population": 58094239,
          "Urban population (% of total)": 24.817,
          "Year": 1970,
          "index": 2597
         },
         {
          "CountryCode": "PLW",
          "CountryName": "Palau",
          "Total Population": 11481,
          "Urban population (% of total)": 59.715,
          "Year": 1970,
          "index": 2598
         },
         {
          "CountryCode": "PAN",
          "CountryName": "Panama",
          "Total Population": 1519293,
          "Urban population (% of total)": 47.64,
          "Year": 1970,
          "index": 2599
         },
         {
          "CountryCode": "PNG",
          "CountryName": "Papua New Guinea",
          "Total Population": 2434755,
          "Urban population (% of total)": 9.796,
          "Year": 1970,
          "index": 2600
         },
         {
          "CountryCode": "PRY",
          "CountryName": "Paraguay",
          "Total Population": 2474102,
          "Urban population (% of total)": 37.065,
          "Year": 1970,
          "index": 2601
         },
         {
          "CountryCode": "PER",
          "CountryName": "Peru",
          "Total Population": 13341071,
          "Urban population (% of total)": 57.406,
          "Year": 1970,
          "index": 2602
         },
         {
          "CountryCode": "PHL",
          "CountryName": "Philippines",
          "Total Population": 35804731,
          "Urban population (% of total)": 32.979,
          "Year": 1970,
          "index": 2603
         },
         {
          "CountryCode": "POL",
          "CountryName": "Poland",
          "Total Population": 32664300,
          "Urban population (% of total)": 52.125,
          "Year": 1970,
          "index": 2604
         },
         {
          "CountryCode": "PRT",
          "CountryName": "Portugal",
          "Total Population": 8680431,
          "Urban population (% of total)": 38.804,
          "Year": 1970,
          "index": 2605
         },
         {
          "CountryCode": "PRI",
          "CountryName": "Puerto Rico",
          "Total Population": 2718000,
          "Urban population (% of total)": 58.328,
          "Year": 1970,
          "index": 2606
         },
         {
          "CountryCode": "QAT",
          "CountryName": "Qatar",
          "Total Population": 109329,
          "Urban population (% of total)": 88.354,
          "Year": 1970,
          "index": 2607
         },
         {
          "CountryCode": "ROM",
          "CountryName": "Romania",
          "Total Population": 20250398,
          "Urban population (% of total)": 40.319,
          "Year": 1970,
          "index": 2608
         },
         {
          "CountryCode": "RUS",
          "CountryName": "Russian Federation",
          "Total Population": 130404000,
          "Urban population (% of total)": 62.471,
          "Year": 1970,
          "index": 2609
         },
         {
          "CountryCode": "RWA",
          "CountryName": "Rwanda",
          "Total Population": 3754546,
          "Urban population (% of total)": 3.194,
          "Year": 1970,
          "index": 2610
         },
         {
          "CountryCode": "WSM",
          "CountryName": "Samoa",
          "Total Population": 143175,
          "Urban population (% of total)": 20.353,
          "Year": 1970,
          "index": 2611
         },
         {
          "CountryCode": "SMR",
          "CountryName": "San Marino",
          "Total Population": 19136,
          "Urban population (% of total)": 59.8,
          "Year": 1970,
          "index": 2612
         },
         {
          "CountryCode": "STP",
          "CountryName": "Sao Tome and Principe",
          "Total Population": 74251,
          "Urban population (% of total)": 29.518,
          "Year": 1970,
          "index": 2613
         },
         {
          "CountryCode": "SAU",
          "CountryName": "Saudi Arabia",
          "Total Population": 5836394,
          "Urban population (% of total)": 48.669,
          "Year": 1970,
          "index": 2614
         },
         {
          "CountryCode": "SEN",
          "CountryName": "Senegal",
          "Total Population": 4217754,
          "Urban population (% of total)": 30,
          "Year": 1970,
          "index": 2615
         },
         {
          "CountryCode": "SYC",
          "CountryName": "Seychelles",
          "Total Population": 53600,
          "Urban population (% of total)": 39.068,
          "Year": 1970,
          "index": 2616
         },
         {
          "CountryCode": "SLE",
          "CountryName": "Sierra Leone",
          "Total Population": 2514151,
          "Urban population (% of total)": 23.969,
          "Year": 1970,
          "index": 2617
         },
         {
          "CountryCode": "SGP",
          "CountryName": "Singapore",
          "Total Population": 2074500,
          "Urban population (% of total)": 100,
          "Year": 1970,
          "index": 2618
         },
         {
          "CountryCode": "SVK",
          "CountryName": "Slovak Republic",
          "Total Population": 4538223,
          "Urban population (% of total)": 41.057,
          "Year": 1970,
          "index": 2619
         },
         {
          "CountryCode": "SVN",
          "CountryName": "Slovenia",
          "Total Population": 1724891,
          "Urban population (% of total)": 37.004,
          "Year": 1970,
          "index": 2620
         },
         {
          "CountryCode": "SLB",
          "CountryName": "Solomon Islands",
          "Total Population": 160292,
          "Urban population (% of total)": 8.917,
          "Year": 1970,
          "index": 2621
         },
         {
          "CountryCode": "SOM",
          "CountryName": "Somalia",
          "Total Population": 3445420,
          "Urban population (% of total)": 22.678,
          "Year": 1970,
          "index": 2622
         },
         {
          "CountryCode": "ZAF",
          "CountryName": "South Africa",
          "Total Population": 22087000,
          "Urban population (% of total)": 47.809,
          "Year": 1970,
          "index": 2623
         },
         {
          "CountryCode": "SSD",
          "CountryName": "South Sudan",
          "Total Population": 3647097,
          "Urban population (% of total)": 8.633,
          "Year": 1970,
          "index": 2624
         },
         {
          "CountryCode": "ESP",
          "CountryName": "Spain",
          "Total Population": 33814531,
          "Urban population (% of total)": 66.038,
          "Year": 1970,
          "index": 2625
         },
         {
          "CountryCode": "LKA",
          "CountryName": "Sri Lanka",
          "Total Population": 12514000,
          "Urban population (% of total)": 19.514,
          "Year": 1970,
          "index": 2626
         },
         {
          "CountryCode": "KNA",
          "CountryName": "St. Kitts and Nevis",
          "Total Population": 44882,
          "Urban population (% of total)": 34.141,
          "Year": 1970,
          "index": 2627
         },
         {
          "CountryCode": "LCA",
          "CountryName": "St. Lucia",
          "Total Population": 104162,
          "Urban population (% of total)": 23.907,
          "Year": 1970,
          "index": 2628
         },
         {
          "CountryCode": "VCT",
          "CountryName": "St. Vincent and the Grenadines",
          "Total Population": 90457,
          "Urban population (% of total)": 30.683,
          "Year": 1970,
          "index": 2629
         },
         {
          "CountryCode": "SDN",
          "CountryName": "Sudan",
          "Total Population": 10232758,
          "Urban population (% of total)": 16.523,
          "Year": 1970,
          "index": 2630
         },
         {
          "CountryCode": "SUR",
          "CountryName": "Suriname",
          "Total Population": 371268,
          "Urban population (% of total)": 45.948,
          "Year": 1970,
          "index": 2631
         },
         {
          "CountryCode": "SWZ",
          "CountryName": "Swaziland",
          "Total Population": 445844,
          "Urban population (% of total)": 9.705,
          "Year": 1970,
          "index": 2632
         },
         {
          "CountryCode": "SWE",
          "CountryName": "Sweden",
          "Total Population": 8042801,
          "Urban population (% of total)": 81.034,
          "Year": 1970,
          "index": 2633
         },
         {
          "CountryCode": "CHE",
          "CountryName": "Switzerland",
          "Total Population": 6180877,
          "Urban population (% of total)": 57.368,
          "Year": 1970,
          "index": 2634
         },
         {
          "CountryCode": "SYR",
          "CountryName": "Syrian Arab Republic",
          "Total Population": 6378802,
          "Urban population (% of total)": 43.345,
          "Year": 1970,
          "index": 2635
         },
         {
          "CountryCode": "TJK",
          "CountryName": "Tajikistan",
          "Total Population": 2919586,
          "Urban population (% of total)": 36.876,
          "Year": 1970,
          "index": 2636
         },
         {
          "CountryCode": "TZA",
          "CountryName": "Tanzania",
          "Total Population": 13605504,
          "Urban population (% of total)": 7.852,
          "Year": 1970,
          "index": 2637
         },
         {
          "CountryCode": "THA",
          "CountryName": "Thailand",
          "Total Population": 36884914,
          "Urban population (% of total)": 20.889,
          "Year": 1970,
          "index": 2638
         },
         {
          "CountryCode": "TMP",
          "CountryName": "Timor-Leste",
          "Total Population": 602737,
          "Urban population (% of total)": 12.886,
          "Year": 1970,
          "index": 2639
         },
         {
          "CountryCode": "TGO",
          "CountryName": "Togo",
          "Total Population": 2115521,
          "Urban population (% of total)": 21.28,
          "Year": 1970,
          "index": 2640
         },
         {
          "CountryCode": "TON",
          "CountryName": "Tonga",
          "Total Population": 84370,
          "Urban population (% of total)": 20.187,
          "Year": 1970,
          "index": 2641
         },
         {
          "CountryCode": "TTO",
          "CountryName": "Trinidad and Tobago",
          "Total Population": 945996,
          "Urban population (% of total)": 11.876,
          "Year": 1970,
          "index": 2642
         },
         {
          "CountryCode": "TUN",
          "CountryName": "Tunisia",
          "Total Population": 5127000,
          "Urban population (% of total)": 43.482,
          "Year": 1970,
          "index": 2643
         },
         {
          "CountryCode": "TUR",
          "CountryName": "Turkey",
          "Total Population": 34772031,
          "Urban population (% of total)": 38.234,
          "Year": 1970,
          "index": 2644
         },
         {
          "CountryCode": "TKM",
          "CountryName": "Turkmenistan",
          "Total Population": 2188499,
          "Urban population (% of total)": 47.78,
          "Year": 1970,
          "index": 2645
         },
         {
          "CountryCode": "TCA",
          "CountryName": "Turks and Caicos Islands",
          "Total Population": 5632,
          "Urban population (% of total)": 51.106,
          "Year": 1970,
          "index": 2646
         },
         {
          "CountryCode": "TUV",
          "CountryName": "Tuvalu",
          "Total Population": 7296,
          "Urban population (% of total)": 22.081,
          "Year": 1970,
          "index": 2647
         },
         {
          "CountryCode": "UGA",
          "CountryName": "Uganda",
          "Total Population": 9446024,
          "Urban population (% of total)": 6.664,
          "Year": 1970,
          "index": 2648
         },
         {
          "CountryCode": "UKR",
          "CountryName": "Ukraine",
          "Total Population": 47086758,
          "Urban population (% of total)": 54.831,
          "Year": 1970,
          "index": 2649
         },
         {
          "CountryCode": "ARE",
          "CountryName": "United Arab Emirates",
          "Total Population": 235434,
          "Urban population (% of total)": 79.8,
          "Year": 1970,
          "index": 2650
         },
         {
          "CountryCode": "GBR",
          "CountryName": "United Kingdom",
          "Total Population": 55663250,
          "Urban population (% of total)": 77.117,
          "Year": 1970,
          "index": 2651
         },
         {
          "CountryCode": "USA",
          "CountryName": "United States",
          "Total Population": 205052000,
          "Urban population (% of total)": 73.602,
          "Year": 1970,
          "index": 2652
         },
         {
          "CountryCode": "URY",
          "CountryName": "Uruguay",
          "Total Population": 2809799,
          "Urban population (% of total)": 82.368,
          "Year": 1970,
          "index": 2653
         },
         {
          "CountryCode": "UZB",
          "CountryName": "Uzbekistan",
          "Total Population": 11972994,
          "Urban population (% of total)": 36.714,
          "Year": 1970,
          "index": 2654
         },
         {
          "CountryCode": "VUT",
          "CountryName": "Vanuatu",
          "Total Population": 85388,
          "Urban population (% of total)": 12.325,
          "Year": 1970,
          "index": 2655
         },
         {
          "CountryCode": "VEN",
          "CountryName": "Venezuela, RB",
          "Total Population": 11587758,
          "Urban population (% of total)": 71.852,
          "Year": 1970,
          "index": 2656
         },
         {
          "CountryCode": "VNM",
          "CountryName": "Vietnam",
          "Total Population": 42729000,
          "Urban population (% of total)": 18.3,
          "Year": 1970,
          "index": 2657
         },
         {
          "CountryCode": "VIR",
          "CountryName": "Virgin Islands (U.S.)",
          "Total Population": 63000,
          "Urban population (% of total)": 69.592,
          "Year": 1970,
          "index": 2658
         },
         {
          "CountryCode": "YEM",
          "CountryName": "Yemen, Rep.",
          "Total Population": 6156234,
          "Urban population (% of total)": 13.3,
          "Year": 1970,
          "index": 2659
         },
         {
          "CountryCode": "ZMB",
          "CountryName": "Zambia",
          "Total Population": 4185378,
          "Urban population (% of total)": 30.351,
          "Year": 1970,
          "index": 2660
         },
         {
          "CountryCode": "ZWE",
          "CountryName": "Zimbabwe",
          "Total Population": 5206311,
          "Urban population (% of total)": 17.362,
          "Year": 1970,
          "index": 2661
         },
         {
          "CountryCode": "ARB",
          "CountryName": "Arab World",
          "Total Population": 125273032,
          "Urban population (% of total)": 39.4797913486,
          "Year": 1971,
          "index": 2662
         },
         {
          "CountryCode": "CSS",
          "CountryName": "Caribbean small states",
          "Total Population": 4940523,
          "Urban population (% of total)": 34.5292083065,
          "Year": 1971,
          "index": 2663
         },
         {
          "CountryCode": "CEB",
          "CountryName": "Central Europe and the Baltics",
          "Total Population": 99638983,
          "Urban population (% of total)": 51.4295664451,
          "Year": 1971,
          "index": 2664
         },
         {
          "CountryCode": "EAS",
          "CountryName": "East Asia & Pacific (all income levels)",
          "Total Population": 1323050025,
          "Urban population (% of total)": 24.9211984464,
          "Year": 1971,
          "index": 2665
         },
         {
          "CountryCode": "EAP",
          "CountryName": "East Asia & Pacific (developing only)",
          "Total Population": 1146964227,
          "Urban population (% of total)": 18.8079324789,
          "Year": 1971,
          "index": 2666
         },
         {
          "CountryCode": "EMU",
          "CountryName": "Euro area",
          "Total Population": 288999688,
          "Urban population (% of total)": 67.5330798631,
          "Year": 1971,
          "index": 2667
         },
         {
          "CountryCode": "ECS",
          "CountryName": "Europe & Central Asia (all income levels)",
          "Total Population": 743148494,
          "Urban population (% of total)": 61.2476867167,
          "Year": 1971,
          "index": 2668
         },
         {
          "CountryCode": "ECA",
          "CountryName": "Europe & Central Asia (developing only)",
          "Total Population": 186246821,
          "Urban population (% of total)": 45.7037729343,
          "Year": 1971,
          "index": 2669
         },
         {
          "CountryCode": "EUU",
          "CountryName": "European Union",
          "Total Population": 444368185,
          "Urban population (% of total)": 66.0511280434,
          "Year": 1971,
          "index": 2670
         },
         {
          "CountryCode": "FCS",
          "CountryName": "Fragile and conflict affected situations",
          "Total Population": 158282922,
          "Urban population (% of total)": 24.0492721932,
          "Year": 1971,
          "index": 2671
         },
         {
          "CountryCode": "HPC",
          "CountryName": "Heavily indebted poor countries (HIPC)",
          "Total Population": 213971961,
          "Urban population (% of total)": 16.6835006092,
          "Year": 1971,
          "index": 2672
         },
         {
          "CountryCode": "HIC",
          "CountryName": "High income",
          "Total Population": 1027734388,
          "Urban population (% of total)": 68.8108898931,
          "Year": 1971,
          "index": 2673
         },
         {
          "CountryCode": "NOC",
          "CountryName": "High income: nonOECD",
          "Total Population": 216468801,
          "Urban population (% of total)": 65.4851400218,
          "Year": 1971,
          "index": 2674
         },
         {
          "CountryCode": "OEC",
          "CountryName": "High income: OECD",
          "Total Population": 811265587,
          "Urban population (% of total)": 69.637458037,
          "Year": 1971,
          "index": 2675
         },
         {
          "CountryCode": "LCN",
          "CountryName": "Latin America & Caribbean (all income levels)",
          "Total Population": 295026304,
          "Urban population (% of total)": 57.7979480752,
          "Year": 1971,
          "index": 2676
         },
         {
          "CountryCode": "LAC",
          "CountryName": "Latin America & Caribbean (developing only)",
          "Total Population": 241620163,
          "Urban population (% of total)": 54.0431938679,
          "Year": 1971,
          "index": 2677
         },
         {
          "CountryCode": "LDC",
          "CountryName": "Least developed countries: UN classification",
          "Total Population": 316378185,
          "Urban population (% of total)": 13.2241807021,
          "Year": 1971,
          "index": 2678
         },
         {
          "CountryCode": "LMY",
          "CountryName": "Low & middle income",
          "Total Population": 2734363292,
          "Urban population (% of total)": 24.8162398704,
          "Year": 1971,
          "index": 2679
         },
         {
          "CountryCode": "LIC",
          "CountryName": "Low income",
          "Total Population": 203612750,
          "Urban population (% of total)": 15.6843641658,
          "Year": 1971,
          "index": 2680
         },
         {
          "CountryCode": "LMC",
          "CountryName": "Lower middle income",
          "Total Population": 1214104202,
          "Urban population (% of total)": 22.8033402742,
          "Year": 1971,
          "index": 2681
         },
         {
          "CountryCode": "MEA",
          "CountryName": "Middle East & North Africa (all income levels)",
          "Total Population": 142463436,
          "Urban population (% of total)": 43.3809654301,
          "Year": 1971,
          "index": 2682
         },
         {
          "CountryCode": "MNA",
          "CountryName": "Middle East & North Africa (developing only)",
          "Total Population": 130823545,
          "Urban population (% of total)": 41.5787791319,
          "Year": 1971,
          "index": 2683
         },
         {
          "CountryCode": "MIC",
          "CountryName": "Middle income",
          "Total Population": 2530750542,
          "Urban population (% of total)": 25.5513115135,
          "Year": 1971,
          "index": 2684
         },
         {
          "CountryCode": "NAC",
          "CountryName": "North America",
          "Total Population": 229361135,
          "Urban population (% of total)": 73.8530438086,
          "Year": 1971,
          "index": 2685
         },
         {
          "CountryCode": "OED",
          "CountryName": "OECD members",
          "Total Population": 900593213,
          "Urban population (% of total)": 67.8358773157,
          "Year": 1971,
          "index": 2686
         },
         {
          "CountryCode": "OSS",
          "CountryName": "Other small states",
          "Total Population": 8319850,
          "Urban population (% of total)": 21.0830977109,
          "Year": 1971,
          "index": 2687
         },
         {
          "CountryCode": "PSS",
          "CountryName": "Pacific island small states",
          "Total Population": 1171267,
          "Urban population (% of total)": 26.4170707285,
          "Year": 1971,
          "index": 2688
         },
         {
          "CountryCode": "SST",
          "CountryName": "Small states",
          "Total Population": 14431640,
          "Urban population (% of total)": 26.1191383295,
          "Year": 1971,
          "index": 2689
         },
         {
          "CountryCode": "SAS",
          "CountryName": "South Asia",
          "Total Population": 729469562,
          "Urban population (% of total)": 18.9043813018,
          "Year": 1971,
          "index": 2690
         },
         {
          "CountryCode": "SSF",
          "CountryName": "Sub-Saharan Africa (all income levels)",
          "Total Population": 299578724,
          "Urban population (% of total)": 18.4285183429,
          "Year": 1971,
          "index": 2691
         },
         {
          "CountryCode": "SSA",
          "CountryName": "Sub-Saharan Africa (developing only)",
          "Total Population": 299238974,
          "Urban population (% of total)": 18.4162996255,
          "Year": 1971,
          "index": 2692
         },
         {
          "CountryCode": "UMC",
          "CountryName": "Upper middle income",
          "Total Population": 1316646340,
          "Urban population (% of total)": 28.0826645484,
          "Year": 1971,
          "index": 2693
         },
         {
          "CountryCode": "WLD",
          "CountryName": "World",
          "Total Population": 3762097680,
          "Urban population (% of total)": 36.7120755914,
          "Year": 1971,
          "index": 2694
         },
         {
          "CountryCode": "AFG",
          "CountryName": "Afghanistan",
          "Total Population": 11412821,
          "Urban population (% of total)": 11.917,
          "Year": 1971,
          "index": 2695
         },
         {
          "CountryCode": "ALB",
          "CountryName": "Albania",
          "Total Population": 2187853,
          "Urban population (% of total)": 31.933,
          "Year": 1971,
          "index": 2696
         },
         {
          "CountryCode": "DZA",
          "CountryName": "Algeria",
          "Total Population": 14960111,
          "Urban population (% of total)": 39.665,
          "Year": 1971,
          "index": 2697
         },
         {
          "CountryCode": "ASM",
          "CountryName": "American Samoa",
          "Total Population": 27916,
          "Urban population (% of total)": 70.784,
          "Year": 1971,
          "index": 2698
         },
         {
          "CountryCode": "ADO",
          "CountryName": "Andorra",
          "Total Population": 25560,
          "Urban population (% of total)": 81.78,
          "Year": 1971,
          "index": 2699
         },
         {
          "CountryCode": "AGO",
          "CountryName": "Angola",
          "Total Population": 6437645,
          "Urban population (% of total)": 15.434,
          "Year": 1971,
          "index": 2700
         },
         {
          "CountryCode": "ATG",
          "CountryName": "Antigua and Barbuda",
          "Total Population": 66338,
          "Urban population (% of total)": 33.898,
          "Year": 1971,
          "index": 2701
         },
         {
          "CountryCode": "ARG",
          "CountryName": "Argentina",
          "Total Population": 24366442,
          "Urban population (% of total)": 79.321,
          "Year": 1971,
          "index": 2702
         },
         {
          "CountryCode": "ARM",
          "CountryName": "Armenia",
          "Total Population": 2580894,
          "Urban population (% of total)": 60.657,
          "Year": 1971,
          "index": 2703
         },
         {
          "CountryCode": "ABW",
          "CountryName": "Aruba",
          "Total Population": 59438,
          "Urban population (% of total)": 50.609,
          "Year": 1971,
          "index": 2704
         },
         {
          "CountryCode": "AUS",
          "CountryName": "Australia",
          "Total Population": 12937000,
          "Urban population (% of total)": 85.6,
          "Year": 1971,
          "index": 2705
         },
         {
          "CountryCode": "AUT",
          "CountryName": "Austria",
          "Total Population": 7500482,
          "Urban population (% of total)": 65.301,
          "Year": 1971,
          "index": 2706
         },
         {
          "CountryCode": "AZE",
          "CountryName": "Azerbaijan",
          "Total Population": 5287272,
          "Urban population (% of total)": 50.462,
          "Year": 1971,
          "index": 2707
         },
         {
          "CountryCode": "BHS",
          "CountryName": "Bahamas, The",
          "Total Population": 173867,
          "Urban population (% of total)": 67.429,
          "Year": 1971,
          "index": 2708
         },
         {
          "CountryCode": "BHR",
          "CountryName": "Bahrain",
          "Total Population": 220808,
          "Urban population (% of total)": 84.021,
          "Year": 1971,
          "index": 2709
         },
         {
          "CountryCode": "BGD",
          "CountryName": "Bangladesh",
          "Total Population": 66417450,
          "Urban population (% of total)": 7.901,
          "Year": 1971,
          "index": 2710
         },
         {
          "CountryCode": "BRB",
          "CountryName": "Barbados",
          "Total Population": 240038,
          "Urban population (% of total)": 37.755,
          "Year": 1971,
          "index": 2711
         },
         {
          "CountryCode": "BLR",
          "CountryName": "Belarus",
          "Total Population": 9115576,
          "Urban population (% of total)": 45.349,
          "Year": 1971,
          "index": 2712
         },
         {
          "CountryCode": "BEL",
          "CountryName": "Belgium",
          "Total Population": 9673162,
          "Urban population (% of total)": 93.976,
          "Year": 1971,
          "index": 2713
         },
         {
          "CountryCode": "BLZ",
          "CountryName": "Belize",
          "Total Population": 124792,
          "Urban population (% of total)": 50.805,
          "Year": 1971,
          "index": 2714
         },
         {
          "CountryCode": "BEN",
          "CountryName": "Benin",
          "Total Population": 2971941,
          "Urban population (% of total)": 17.647,
          "Year": 1971,
          "index": 2715
         },
         {
          "CountryCode": "BMU",
          "CountryName": "Bermuda",
          "Total Population": 54600,
          "Urban population (% of total)": 100,
          "Year": 1971,
          "index": 2716
         },
         {
          "CountryCode": "BTN",
          "CountryName": "Bhutan",
          "Total Population": 301653,
          "Urban population (% of total)": 6.413,
          "Year": 1971,
          "index": 2717
         },
         {
          "CountryCode": "BOL",
          "CountryName": "Bolivia",
          "Total Population": 4600596,
          "Urban population (% of total)": 40.082,
          "Year": 1971,
          "index": 2718
         },
         {
          "CountryCode": "BIH",
          "CountryName": "Bosnia and Herzegovina",
          "Total Population": 3790948,
          "Urban population (% of total)": 28.094,
          "Year": 1971,
          "index": 2719
         },
         {
          "CountryCode": "BWA",
          "CountryName": "Botswana",
          "Total Population": 715811,
          "Urban population (% of total)": 8.998,
          "Year": 1971,
          "index": 2720
         },
         {
          "CountryCode": "BRA",
          "CountryName": "Brazil",
          "Total Population": 98402200,
          "Urban population (% of total)": 56.894,
          "Year": 1971,
          "index": 2721
         },
         {
          "CountryCode": "BRN",
          "CountryName": "Brunei Darussalam",
          "Total Population": 135716,
          "Urban population (% of total)": 63.412,
          "Year": 1971,
          "index": 2722
         },
         {
          "CountryCode": "BGR",
          "CountryName": "Bulgaria",
          "Total Population": 8536395,
          "Urban population (% of total)": 53.36,
          "Year": 1971,
          "index": 2723
         },
         {
          "CountryCode": "BFA",
          "CountryName": "Burkina Faso",
          "Total Population": 5723379,
          "Urban population (% of total)": 5.861,
          "Year": 1971,
          "index": 2724
         },
         {
          "CountryCode": "BDI",
          "CountryName": "Burundi",
          "Total Population": 3507593,
          "Urban population (% of total)": 2.97,
          "Year": 1971,
          "index": 2725
         },
         {
          "CountryCode": "CPV",
          "CountryName": "Cabo Verde",
          "Total Population": 273053,
          "Urban population (% of total)": 19.9,
          "Year": 1971,
          "index": 2726
         },
         {
          "CountryCode": "KHM",
          "CountryName": "Cambodia",
          "Total Population": 7167716,
          "Urban population (% of total)": 18.717,
          "Year": 1971,
          "index": 2727
         },
         {
          "CountryCode": "CMR",
          "CountryName": "Cameroon",
          "Total Population": 6948847,
          "Urban population (% of total)": 21.584,
          "Year": 1971,
          "index": 2728
         },
         {
          "CountryCode": "CAN",
          "CountryName": "Canada",
          "Total Population": 21645535,
          "Urban population (% of total)": 76.09,
          "Year": 1971,
          "index": 2729
         },
         {
          "CountryCode": "CYM",
          "CountryName": "Cayman Islands",
          "Total Population": 9583,
          "Urban population (% of total)": 100,
          "Year": 1971,
          "index": 2730
         },
         {
          "CountryCode": "CAF",
          "CountryName": "Central African Republic",
          "Total Population": 1864757,
          "Urban population (% of total)": 28.356,
          "Year": 1971,
          "index": 2731
         },
         {
          "CountryCode": "TCD",
          "CountryName": "Chad",
          "Total Population": 3727382,
          "Urban population (% of total)": 12.313,
          "Year": 1971,
          "index": 2732
         },
         {
          "CountryCode": "CHI",
          "CountryName": "Channel Islands",
          "Total Population": 122413,
          "Urban population (% of total)": 35.803,
          "Year": 1971,
          "index": 2733
         },
         {
          "CountryCode": "CHL",
          "CountryName": "Chile",
          "Total Population": 9741579,
          "Urban population (% of total)": 75.883,
          "Year": 1971,
          "index": 2734
         },
         {
          "CountryCode": "CHN",
          "CountryName": "China",
          "Total Population": 841105000,
          "Urban population (% of total)": 17.292,
          "Year": 1971,
          "index": 2735
         },
         {
          "CountryCode": "COL",
          "CountryName": "Colombia",
          "Total Population": 22611988,
          "Urban population (% of total)": 55.574,
          "Year": 1971,
          "index": 2736
         },
         {
          "CountryCode": "COM",
          "CountryName": "Comoros",
          "Total Population": 233125,
          "Urban population (% of total)": 19.75,
          "Year": 1971,
          "index": 2737
         },
         {
          "CountryCode": "ZAR",
          "CountryName": "Congo, Dem. Rep.",
          "Total Population": 20563111,
          "Urban population (% of total)": 24.847,
          "Year": 1971,
          "index": 2738
         },
         {
          "CountryCode": "COG",
          "CountryName": "Congo, Rep.",
          "Total Population": 1376189,
          "Urban population (% of total)": 39.919,
          "Year": 1971,
          "index": 2739
         },
         {
          "CountryCode": "CRI",
          "CountryName": "Costa Rica",
          "Total Population": 1898366,
          "Urban population (% of total)": 39.445,
          "Year": 1971,
          "index": 2740
         },
         {
          "CountryCode": "CIV",
          "CountryName": "Cote d'Ivoire",
          "Total Population": 5487594,
          "Urban population (% of total)": 28.934,
          "Year": 1971,
          "index": 2741
         },
         {
          "CountryCode": "HRV",
          "CountryName": "Croatia",
          "Total Population": 4435000,
          "Urban population (% of total)": 41.242,
          "Year": 1971,
          "index": 2742
         },
         {
          "CountryCode": "CUB",
          "CountryName": "Cuba",
          "Total Population": 8869961,
          "Urban population (% of total)": 60.976,
          "Year": 1971,
          "index": 2743
         },
         {
          "CountryCode": "CUW",
          "CountryName": "Curacao",
          "Total Population": 147389,
          "Urban population (% of total)": 78.799,
          "Year": 1971,
          "index": 2744
         },
         {
          "CountryCode": "CYP",
          "CountryName": "Cyprus",
          "Total Population": 620860,
          "Urban population (% of total)": 41.283,
          "Year": 1971,
          "index": 2745
         },
         {
          "CountryCode": "CZE",
          "CountryName": "Czech Republic",
          "Total Population": 9826815,
          "Urban population (% of total)": 65.295,
          "Year": 1971,
          "index": 2746
         },
         {
          "CountryCode": "DNK",
          "CountryName": "Denmark",
          "Total Population": 4963126,
          "Urban population (% of total)": 80.239,
          "Year": 1971,
          "index": 2747
         },
         {
          "CountryCode": "DJI",
          "CountryName": "Djibouti",
          "Total Population": 169370,
          "Urban population (% of total)": 62.878,
          "Year": 1971,
          "index": 2748
         },
         {
          "CountryCode": "DMA",
          "CountryName": "Dominica",
          "Total Population": 71566,
          "Urban population (% of total)": 39.47,
          "Year": 1971,
          "index": 2749
         },
         {
          "CountryCode": "DOM",
          "CountryName": "Dominican Republic",
          "Total Population": 4631114,
          "Urban population (% of total)": 41.291,
          "Year": 1971,
          "index": 2750
         },
         {
          "CountryCode": "ECU",
          "CountryName": "Ecuador",
          "Total Population": 6248831,
          "Urban population (% of total)": 39.813,
          "Year": 1971,
          "index": 2751
         },
         {
          "CountryCode": "EGY",
          "CountryName": "Egypt, Arab Rep.",
          "Total Population": 35561087,
          "Urban population (% of total)": 41.838,
          "Year": 1971,
          "index": 2752
         },
         {
          "CountryCode": "SLV",
          "CountryName": "El Salvador",
          "Total Population": 3765252,
          "Urban population (% of total)": 39.504,
          "Year": 1971,
          "index": 2753
         },
         {
          "CountryCode": "GNQ",
          "CountryName": "Equatorial Guinea",
          "Total Population": 284915,
          "Urban population (% of total)": 27.045,
          "Year": 1971,
          "index": 2754
         },
         {
          "CountryCode": "ERI",
          "CountryName": "Eritrea",
          "Total Population": 1854395,
          "Urban population (% of total)": 12.762,
          "Year": 1971,
          "index": 2755
         },
         {
          "CountryCode": "EST",
          "CountryName": "Estonia",
          "Total Population": 1376955,
          "Urban population (% of total)": 65.483,
          "Year": 1971,
          "index": 2756
         },
         {
          "CountryCode": "ETH",
          "CountryName": "Ethiopia",
          "Total Population": 29246170,
          "Urban population (% of total)": 8.756,
          "Year": 1971,
          "index": 2757
         },
         {
          "CountryCode": "FRO",
          "CountryName": "Faeroe Islands",
          "Total Population": 38983,
          "Urban population (% of total)": 28.417,
          "Year": 1971,
          "index": 2758
         },
         {
          "CountryCode": "FJI",
          "CountryName": "Fiji",
          "Total Population": 531601,
          "Urban population (% of total)": 35.147,
          "Year": 1971,
          "index": 2759
         },
         {
          "CountryCode": "FIN",
          "CountryName": "Finland",
          "Total Population": 4612124,
          "Urban population (% of total)": 64.523,
          "Year": 1971,
          "index": 2760
         },
         {
          "CountryCode": "FRA",
          "CountryName": "France",
          "Total Population": 52480421,
          "Urban population (% of total)": 71.459,
          "Year": 1971,
          "index": 2761
         },
         {
          "CountryCode": "PYF",
          "CountryName": "French Polynesia",
          "Total Population": 114311,
          "Urban population (% of total)": 56.203,
          "Year": 1971,
          "index": 2762
         },
         {
          "CountryCode": "GAB",
          "CountryName": "Gabon",
          "Total Population": 601734,
          "Urban population (% of total)": 34.082,
          "Year": 1971,
          "index": 2763
         },
         {
          "CountryCode": "GMB",
          "CountryName": "Gambia, The",
          "Total Population": 460193,
          "Urban population (% of total)": 20.63,
          "Year": 1971,
          "index": 2764
         },
         {
          "CountryCode": "GEO",
          "CountryName": "Georgia",
          "Total Population": 4009400,
          "Urban population (% of total)": 48.474,
          "Year": 1971,
          "index": 2765
         },
         {
          "CountryCode": "DEU",
          "CountryName": "Germany",
          "Total Population": 78312842,
          "Urban population (% of total)": 72.332,
          "Year": 1971,
          "index": 2766
         },
         {
          "CountryCode": "GHA",
          "CountryName": "Ghana",
          "Total Population": 8827273,
          "Urban population (% of total)": 29.174,
          "Year": 1971,
          "index": 2767
         },
         {
          "CountryCode": "GRC",
          "CountryName": "Greece",
          "Total Population": 8831036,
          "Urban population (% of total)": 64.951,
          "Year": 1971,
          "index": 2768
         },
         {
          "CountryCode": "GRL",
          "CountryName": "Greenland",
          "Total Population": 47200,
          "Urban population (% of total)": 73.433,
          "Year": 1971,
          "index": 2769
         },
         {
          "CountryCode": "GRD",
          "CountryName": "Grenada",
          "Total Population": 94180,
          "Urban population (% of total)": 32.282,
          "Year": 1971,
          "index": 2770
         },
         {
          "CountryCode": "GUM",
          "CountryName": "Guam",
          "Total Population": 85728,
          "Urban population (% of total)": 67.153,
          "Year": 1971,
          "index": 2771
         },
         {
          "CountryCode": "GTM",
          "CountryName": "Guatemala",
          "Total Population": 5577824,
          "Urban population (% of total)": 35.861,
          "Year": 1971,
          "index": 2772
         },
         {
          "CountryCode": "GIN",
          "CountryName": "Guinea",
          "Total Population": 4259102,
          "Urban population (% of total)": 16.641,
          "Year": 1971,
          "index": 2773
         },
         {
          "CountryCode": "GNB",
          "CountryName": "Guinea-Bissau",
          "Total Population": 724863,
          "Urban population (% of total)": 15.293,
          "Year": 1971,
          "index": 2774
         },
         {
          "CountryCode": "GUY",
          "CountryName": "Guyana",
          "Total Population": 703811,
          "Urban population (% of total)": 29.533,
          "Year": 1971,
          "index": 2775
         },
         {
          "CountryCode": "HTI",
          "CountryName": "Haiti",
          "Total Population": 4793157,
          "Urban population (% of total)": 20.222,
          "Year": 1971,
          "index": 2776
         },
         {
          "CountryCode": "HND",
          "CountryName": "Honduras",
          "Total Population": 2766444,
          "Urban population (% of total)": 29.569,
          "Year": 1971,
          "index": 2777
         },
         {
          "CountryCode": "HKG",
          "CountryName": "Hong Kong SAR, China",
          "Total Population": 4045300,
          "Urban population (% of total)": 88.039,
          "Year": 1971,
          "index": 2778
         },
         {
          "CountryCode": "HUN",
          "CountryName": "Hungary",
          "Total Population": 10367537,
          "Urban population (% of total)": 60.539,
          "Year": 1971,
          "index": 2779
         },
         {
          "CountryCode": "ISL",
          "CountryName": "Iceland",
          "Total Population": 206098,
          "Urban population (% of total)": 85.269,
          "Year": 1971,
          "index": 2780
         },
         {
          "CountryCode": "IND",
          "CountryName": "India",
          "Total Population": 566605402,
          "Urban population (% of total)": 19.991,
          "Year": 1971,
          "index": 2781
         },
         {
          "CountryCode": "IDN",
          "CountryName": "Indonesia",
          "Total Population": 117921994,
          "Urban population (% of total)": 17.338,
          "Year": 1971,
          "index": 2782
         },
         {
          "CountryCode": "IRN",
          "CountryName": "Iran, Islamic Rep.",
          "Total Population": 29281130,
          "Urban population (% of total)": 42.11,
          "Year": 1971,
          "index": 2783
         },
         {
          "CountryCode": "IRQ",
          "CountryName": "Iraq",
          "Total Population": 10255904,
          "Urban population (% of total)": 57.214,
          "Year": 1971,
          "index": 2784
         },
         {
          "CountryCode": "IRL",
          "CountryName": "Ireland",
          "Total Population": 2992050,
          "Urban population (% of total)": 52.269,
          "Year": 1971,
          "index": 2785
         },
         {
          "CountryCode": "IMY",
          "CountryName": "Isle of Man",
          "Total Population": 57711,
          "Urban population (% of total)": 55.556,
          "Year": 1971,
          "index": 2786
         },
         {
          "CountryCode": "ISR",
          "CountryName": "Israel",
          "Total Population": 3069000,
          "Urban population (% of total)": 84.789,
          "Year": 1971,
          "index": 2787
         },
         {
          "CountryCode": "ITA",
          "CountryName": "Italy",
          "Total Population": 54073490,
          "Urban population (% of total)": 64.75,
          "Year": 1971,
          "index": 2788
         },
         {
          "CountryCode": "JAM",
          "CountryName": "Jamaica",
          "Total Population": 1895629,
          "Urban population (% of total)": 41.858,
          "Year": 1971,
          "index": 2789
         },
         {
          "CountryCode": "JPN",
          "CountryName": "Japan",
          "Total Population": 105697000,
          "Urban population (% of total)": 72.666,
          "Year": 1971,
          "index": 2790
         },
         {
          "CountryCode": "JOR",
          "CountryName": "Jordan",
          "Total Population": 1573846,
          "Urban population (% of total)": 56.308,
          "Year": 1971,
          "index": 2791
         },
         {
          "CountryCode": "KAZ",
          "CountryName": "Kazakhstan",
          "Total Population": 12966920,
          "Urban population (% of total)": 50.753,
          "Year": 1971,
          "index": 2792
         },
         {
          "CountryCode": "KEN",
          "CountryName": "Kenya",
          "Total Population": 11657479,
          "Urban population (% of total)": 10.778,
          "Year": 1971,
          "index": 2793
         },
         {
          "CountryCode": "KIR",
          "CountryName": "Kiribati",
          "Total Population": 52020,
          "Urban population (% of total)": 25.348,
          "Year": 1971,
          "index": 2794
         },
         {
          "CountryCode": "PRK",
          "CountryName": "Korea, Dem. Rep.",
          "Total Population": 14812363,
          "Urban population (% of total)": 54.702,
          "Year": 1971,
          "index": 2795
         },
         {
          "CountryCode": "KOR",
          "CountryName": "Korea, Rep.",
          "Total Population": 32882704,
          "Urban population (% of total)": 42.261,
          "Year": 1971,
          "index": 2796
         },
         {
          "CountryCode": "KWT",
          "CountryName": "Kuwait",
          "Total Population": 807900,
          "Urban population (% of total)": 86.444,
          "Year": 1971,
          "index": 2797
         },
         {
          "CountryCode": "KGZ",
          "CountryName": "Kyrgyz Republic",
          "Total Population": 3022300,
          "Urban population (% of total)": 37.609,
          "Year": 1971,
          "index": 2798
         },
         {
          "CountryCode": "LAO",
          "CountryName": "Lao PDR",
          "Total Population": 2759634,
          "Urban population (% of total)": 9.955,
          "Year": 1971,
          "index": 2799
         },
         {
          "CountryCode": "LVA",
          "CountryName": "Latvia",
          "Total Population": 2376389,
          "Urban population (% of total)": 61.433,
          "Year": 1971,
          "index": 2800
         },
         {
          "CountryCode": "LBN",
          "CountryName": "Lebanon",
          "Total Population": 2353569,
          "Urban population (% of total)": 61.06,
          "Year": 1971,
          "index": 2801
         },
         {
          "CountryCode": "LSO",
          "CountryName": "Lesotho",
          "Total Population": 1053524,
          "Urban population (% of total)": 9.039,
          "Year": 1971,
          "index": 2802
         },
         {
          "CountryCode": "LBR",
          "CountryName": "Liberia",
          "Total Population": 1457714,
          "Urban population (% of total)": 26.86,
          "Year": 1971,
          "index": 2803
         },
         {
          "CountryCode": "LBY",
          "CountryName": "Libya",
          "Total Population": 2208125,
          "Urban population (% of total)": 52.992,
          "Year": 1971,
          "index": 2804
         },
         {
          "CountryCode": "LIE",
          "CountryName": "Liechtenstein",
          "Total Population": 21726,
          "Urban population (% of total)": 18.364,
          "Year": 1971,
          "index": 2805
         },
         {
          "CountryCode": "LTU",
          "CountryName": "Lithuania",
          "Total Population": 3179041,
          "Urban population (% of total)": 50.719,
          "Year": 1971,
          "index": 2806
         },
         {
          "CountryCode": "LUX",
          "CountryName": "Luxembourg",
          "Total Population": 342421,
          "Urban population (% of total)": 74.916,
          "Year": 1971,
          "index": 2807
         },
         {
          "CountryCode": "MAC",
          "CountryName": "Macao SAR, China",
          "Total Population": 253881,
          "Urban population (% of total)": 97.208,
          "Year": 1971,
          "index": 2808
         },
         {
          "CountryCode": "MKD",
          "CountryName": "Macedonia, FYR",
          "Total Population": 1739525,
          "Urban population (% of total)": 48.246,
          "Year": 1971,
          "index": 2809
         },
         {
          "CountryCode": "MDG",
          "CountryName": "Madagascar",
          "Total Population": 6760352,
          "Urban population (% of total)": 14.526,
          "Year": 1971,
          "index": 2810
         },
         {
          "CountryCode": "MWI",
          "CountryName": "Malawi",
          "Total Population": 4728693,
          "Urban population (% of total)": 6.345,
          "Year": 1971,
          "index": 2811
         },
         {
          "CountryCode": "MYS",
          "CountryName": "Malaysia",
          "Total Population": 11182078,
          "Urban population (% of total)": 34.271,
          "Year": 1971,
          "index": 2812
         },
         {
          "CountryCode": "MDV",
          "CountryName": "Maldives",
          "Total Population": 119315,
          "Urban population (% of total)": 12.842,
          "Year": 1971,
          "index": 2813
         },
         {
          "CountryCode": "MLI",
          "CountryName": "Mali",
          "Total Population": 6044532,
          "Urban population (% of total)": 14.697,
          "Year": 1971,
          "index": 2814
         },
         {
          "CountryCode": "MLT",
          "CountryName": "Malta",
          "Total Population": 302700,
          "Urban population (% of total)": 89.708,
          "Year": 1971,
          "index": 2815
         },
         {
          "CountryCode": "MHL",
          "CountryName": "Marshall Islands",
          "Total Population": 21310,
          "Urban population (% of total)": 56.103,
          "Year": 1971,
          "index": 2816
         },
         {
          "CountryCode": "MRT",
          "CountryName": "Mauritania",
          "Total Population": 1182945,
          "Urban population (% of total)": 15.636,
          "Year": 1971,
          "index": 2817
         },
         {
          "CountryCode": "MUS",
          "CountryName": "Mauritius",
          "Total Population": 839230,
          "Urban population (% of total)": 43.062,
          "Year": 1971,
          "index": 2818
         },
         {
          "CountryCode": "MEX",
          "CountryName": "Mexico",
          "Total Population": 53719547,
          "Urban population (% of total)": 59.779,
          "Year": 1971,
          "index": 2819
         },
         {
          "CountryCode": "FSM",
          "CountryName": "Micronesia, Fed. Sts.",
          "Total Population": 62107,
          "Urban population (% of total)": 25.068,
          "Year": 1971,
          "index": 2820
         },
         {
          "CountryCode": "MDA",
          "CountryName": "Moldova",
          "Total Population": 3088000,
          "Urban population (% of total)": 32.879,
          "Year": 1971,
          "index": 2821
         },
         {
          "CountryCode": "MCO",
          "CountryName": "Monaco",
          "Total Population": 23722,
          "Urban population (% of total)": 100,
          "Year": 1971,
          "index": 2822
         },
         {
          "CountryCode": "MNG",
          "CountryName": "Mongolia",
          "Total Population": 1317049,
          "Urban population (% of total)": 45.77,
          "Year": 1971,
          "index": 2823
         },
         {
          "CountryCode": "MNE",
          "CountryName": "Montenegro",
          "Total Population": 530706,
          "Urban population (% of total)": 27.769,
          "Year": 1971,
          "index": 2824
         },
         {
          "CountryCode": "MAR",
          "CountryName": "Morocco",
          "Total Population": 16389949,
          "Urban population (% of total)": 35.012,
          "Year": 1971,
          "index": 2825
         },
         {
          "CountryCode": "MOZ",
          "CountryName": "Mozambique",
          "Total Population": 9468836,
          "Urban population (% of total)": 7.361,
          "Year": 1971,
          "index": 2826
         },
         {
          "CountryCode": "MMR",
          "CountryName": "Myanmar",
          "Total Population": 27836648,
          "Urban population (% of total)": 23.215,
          "Year": 1971,
          "index": 2827
         },
         {
          "CountryCode": "NAM",
          "CountryName": "Namibia",
          "Total Population": 804309,
          "Urban population (% of total)": 22.559,
          "Year": 1971,
          "index": 2828
         },
         {
          "CountryCode": "NPL",
          "CountryName": "Nepal",
          "Total Population": 12232454,
          "Urban population (% of total)": 4.005,
          "Year": 1971,
          "index": 2829
         },
         {
          "CountryCode": "NLD",
          "CountryName": "Netherlands",
          "Total Population": 13194497,
          "Urban population (% of total)": 61.913,
          "Year": 1971,
          "index": 2830
         },
         {
          "CountryCode": "NCL",
          "CountryName": "New Caledonia",
          "Total Population": 120000,
          "Urban population (% of total)": 52.022,
          "Year": 1971,
          "index": 2831
         },
         {
          "CountryCode": "NZL",
          "CountryName": "New Zealand",
          "Total Population": 2853000,
          "Urban population (% of total)": 81.491,
          "Year": 1971,
          "index": 2832
         },
         {
          "CountryCode": "NIC",
          "CountryName": "Nicaragua",
          "Total Population": 2472656,
          "Urban population (% of total)": 47.777,
          "Year": 1971,
          "index": 2833
         },
         {
          "CountryCode": "NER",
          "CountryName": "Niger",
          "Total Population": 4623121,
          "Urban population (% of total)": 9.271,
          "Year": 1971,
          "index": 2834
         },
         {
          "CountryCode": "NGA",
          "CountryName": "Nigeria",
          "Total Population": 57453734,
          "Urban population (% of total)": 18.151,
          "Year": 1971,
          "index": 2835
         },
         {
          "CountryCode": "MNP",
          "CountryName": "Northern Mariana Islands",
          "Total Population": 13658,
          "Urban population (% of total)": 72.609,
          "Year": 1971,
          "index": 2836
         },
         {
          "CountryCode": "NOR",
          "CountryName": "Norway",
          "Total Population": 3903039,
          "Urban population (% of total)": 66.23,
          "Year": 1971,
          "index": 2837
         },
         {
          "CountryCode": "OMN",
          "CountryName": "Oman",
          "Total Population": 748971,
          "Urban population (% of total)": 31.287,
          "Year": 1971,
          "index": 2838
         },
         {
          "CountryCode": "PAK",
          "CountryName": "Pakistan",
          "Total Population": 59690467,
          "Urban population (% of total)": 25.084,
          "Year": 1971,
          "index": 2839
         },
         {
          "CountryCode": "PLW",
          "CountryName": "Palau",
          "Total Population": 11656,
          "Urban population (% of total)": 60.001,
          "Year": 1971,
          "index": 2840
         },
         {
          "CountryCode": "PAN",
          "CountryName": "Panama",
          "Total Population": 1563113,
          "Urban population (% of total)": 47.919,
          "Year": 1971,
          "index": 2841
         },
         {
          "CountryCode": "PNG",
          "CountryName": "Papua New Guinea",
          "Total Population": 2503074,
          "Urban population (% of total)": 11.078,
          "Year": 1971,
          "index": 2842
         },
         {
          "CountryCode": "PRY",
          "CountryName": "Paraguay",
          "Total Population": 2535355,
          "Urban population (% of total)": 37.23,
          "Year": 1971,
          "index": 2843
         },
         {
          "CountryCode": "PER",
          "CountryName": "Peru",
          "Total Population": 13704333,
          "Urban population (% of total)": 58.496,
          "Year": 1971,
          "index": 2844
         },
         {
          "CountryCode": "PHL",
          "CountryName": "Philippines",
          "Total Population": 36851055,
          "Urban population (% of total)": 33.493,
          "Year": 1971,
          "index": 2845
         },
         {
          "CountryCode": "POL",
          "CountryName": "Poland",
          "Total Population": 32783500,
          "Urban population (% of total)": 52.668,
          "Year": 1971,
          "index": 2846
         },
         {
          "CountryCode": "PRT",
          "CountryName": "Portugal",
          "Total Population": 8643756,
          "Urban population (% of total)": 39.197,
          "Year": 1971,
          "index": 2847
         },
         {
          "CountryCode": "PRI",
          "CountryName": "Puerto Rico",
          "Total Population": 2762190,
          "Urban population (% of total)": 59.23,
          "Year": 1971,
          "index": 2848
         },
         {
          "CountryCode": "QAT",
          "CountryName": "Qatar",
          "Total Population": 119246,
          "Urban population (% of total)": 88.6,
          "Year": 1971,
          "index": 2849
         },
         {
          "CountryCode": "ROM",
          "CountryName": "Romania",
          "Total Population": 20461567,
          "Urban population (% of total)": 40.818,
          "Year": 1971,
          "index": 2850
         },
         {
          "CountryCode": "RUS",
          "CountryName": "Russian Federation",
          "Total Population": 131155000,
          "Urban population (% of total)": 63.278,
          "Year": 1971,
          "index": 2851
         },
         {
          "CountryCode": "RWA",
          "CountryName": "Rwanda",
          "Total Population": 3868345,
          "Urban population (% of total)": 3.336,
          "Year": 1971,
          "index": 2852
         },
         {
          "CountryCode": "WSM",
          "CountryName": "Samoa",
          "Total Population": 145437,
          "Urban population (% of total)": 20.611,
          "Year": 1971,
          "index": 2853
         },
         {
          "CountryCode": "SMR",
          "CountryName": "San Marino",
          "Total Population": 19299,
          "Urban population (% of total)": 62.281,
          "Year": 1971,
          "index": 2854
         },
         {
          "CountryCode": "STP",
          "CountryName": "Sao Tome and Principe",
          "Total Population": 75989,
          "Urban population (% of total)": 30.205,
          "Year": 1971,
          "index": 2855
         },
         {
          "CountryCode": "SAU",
          "CountryName": "Saudi Arabia",
          "Total Population": 6096106,
          "Urban population (% of total)": 50.688,
          "Year": 1971,
          "index": 2856
         },
         {
          "CountryCode": "SEN",
          "CountryName": "Senegal",
          "Total Population": 4348499,
          "Urban population (% of total)": 30.72,
          "Year": 1971,
          "index": 2857
         },
         {
          "CountryCode": "SYC",
          "CountryName": "Seychelles",
          "Total Population": 54835,
          "Urban population (% of total)": 40.337,
          "Year": 1971,
          "index": 2858
         },
         {
          "CountryCode": "SLE",
          "CountryName": "Sierra Leone",
          "Total Population": 2558395,
          "Urban population (% of total)": 24.737,
          "Year": 1971,
          "index": 2859
         },
         {
          "CountryCode": "SGP",
          "CountryName": "Singapore",
          "Total Population": 2112900,
          "Urban population (% of total)": 100,
          "Year": 1971,
          "index": 2860
         },
         {
          "CountryCode": "SVK",
          "CountryName": "Slovak Republic",
          "Total Population": 4557449,
          "Urban population (% of total)": 42.009,
          "Year": 1971,
          "index": 2861
         },
         {
          "CountryCode": "SVN",
          "CountryName": "Slovenia",
          "Total Population": 1738335,
          "Urban population (% of total)": 37.972,
          "Year": 1971,
          "index": 2862
         },
         {
          "CountryCode": "SLB",
          "CountryName": "Solomon Islands",
          "Total Population": 166214,
          "Urban population (% of total)": 8.958,
          "Year": 1971,
          "index": 2863
         },
         {
          "CountryCode": "SOM",
          "CountryName": "Somalia",
          "Total Population": 3477568,
          "Urban population (% of total)": 23.251,
          "Year": 1971,
          "index": 2864
         },
         {
          "CountryCode": "ZAF",
          "CountryName": "South Africa",
          "Total Population": 22602373,
          "Urban population (% of total)": 47.869,
          "Year": 1971,
          "index": 2865
         },
         {
          "CountryCode": "SSD",
          "CountryName": "South Sudan",
          "Total Population": 3733547,
          "Urban population (% of total)": 8.622,
          "Year": 1971,
          "index": 2866
         },
         {
          "CountryCode": "ESP",
          "CountryName": "Spain",
          "Total Population": 34191678,
          "Urban population (% of total)": 66.848,
          "Year": 1971,
          "index": 2867
         },
         {
          "CountryCode": "LKA",
          "CountryName": "Sri Lanka",
          "Total Population": 12690000,
          "Urban population (% of total)": 19.91,
          "Year": 1971,
          "index": 2868
         },
         {
          "CountryCode": "KNA",
          "CountryName": "St. Kitts and Nevis",
          "Total Population": 44490,
          "Urban population (% of total)": 34.317,
          "Year": 1971,
          "index": 2869
         },
         {
          "CountryCode": "LCA",
          "CountryName": "St. Lucia",
          "Total Population": 105389,
          "Urban population (% of total)": 24.162,
          "Year": 1971,
          "index": 2870
         },
         {
          "CountryCode": "VCT",
          "CountryName": "St. Vincent and the Grenadines",
          "Total Population": 91440,
          "Urban population (% of total)": 31.182,
          "Year": 1971,
          "index": 2871
         },
         {
          "CountryCode": "SDN",
          "CountryName": "Sudan",
          "Total Population": 10568788,
          "Urban population (% of total)": 17.22,
          "Year": 1971,
          "index": 2872
         },
         {
          "CountryCode": "SUR",
          "CountryName": "Suriname",
          "Total Population": 372619,
          "Urban population (% of total)": 45.716,
          "Year": 1971,
          "index": 2873
         },
         {
          "CountryCode": "SWZ",
          "CountryName": "Swaziland",
          "Total Population": 458717,
          "Urban population (% of total)": 10.458,
          "Year": 1971,
          "index": 2874
         },
         {
          "CountryCode": "SWE",
          "CountryName": "Sweden",
          "Total Population": 8098334,
          "Urban population (% of total)": 81.563,
          "Year": 1971,
          "index": 2875
         },
         {
          "CountryCode": "CHE",
          "CountryName": "Switzerland",
          "Total Population": 6213399,
          "Urban population (% of total)": 57.597,
          "Year": 1971,
          "index": 2876
         },
         {
          "CountryCode": "SYR",
          "CountryName": "Syrian Arab Republic",
          "Total Population": 6599366,
          "Urban population (% of total)": 43.751,
          "Year": 1971,
          "index": 2877
         },
         {
          "CountryCode": "TJK",
          "CountryName": "Tajikistan",
          "Total Population": 3013956,
          "Urban population (% of total)": 36.607,
          "Year": 1971,
          "index": 2878
         },
         {
          "CountryCode": "TZA",
          "CountryName": "Tanzania",
          "Total Population": 14045757,
          "Urban population (% of total)": 8.431,
          "Year": 1971,
          "index": 2879
         },
         {
          "CountryCode": "THA",
          "CountryName": "Thailand",
          "Total Population": 37964925,
          "Urban population (% of total)": 21.442,
          "Year": 1971,
          "index": 2880
         },
         {
          "CountryCode": "TMP",
          "CountryName": "Timor-Leste",
          "Total Population": 618508,
          "Urban population (% of total)": 13.213,
          "Year": 1971,
          "index": 2881
         },
         {
          "CountryCode": "TGO",
          "CountryName": "Togo",
          "Total Population": 2185661,
          "Urban population (% of total)": 21.602,
          "Year": 1971,
          "index": 2882
         },
         {
          "CountryCode": "TON",
          "CountryName": "Tonga",
          "Total Population": 85520,
          "Urban population (% of total)": 20.217,
          "Year": 1971,
          "index": 2883
         },
         {
          "CountryCode": "TTO",
          "CountryName": "Trinidad and Tobago",
          "Total Population": 956364,
          "Urban population (% of total)": 11.774,
          "Year": 1971,
          "index": 2884
         },
         {
          "CountryCode": "TUN",
          "CountryName": "Tunisia",
          "Total Population": 5208154,
          "Urban population (% of total)": 44.305,
          "Year": 1971,
          "index": 2885
         },
         {
          "CountryCode": "TUR",
          "CountryName": "Turkey",
          "Total Population": 35608079,
          "Urban population (% of total)": 38.945,
          "Year": 1971,
          "index": 2886
         },
         {
          "CountryCode": "TKM",
          "CountryName": "Turkmenistan",
          "Total Population": 2252386,
          "Urban population (% of total)": 47.735,
          "Year": 1971,
          "index": 2887
         },
         {
          "CountryCode": "TCA",
          "CountryName": "Turks and Caicos Islands",
          "Total Population": 5750,
          "Urban population (% of total)": 51.487,
          "Year": 1971,
          "index": 2888
         },
         {
          "CountryCode": "TUV",
          "CountryName": "Tuvalu",
          "Total Population": 7379,
          "Urban population (% of total)": 22.786,
          "Year": 1971,
          "index": 2889
         },
         {
          "CountryCode": "UGA",
          "CountryName": "Uganda",
          "Total Population": 9720365,
          "Urban population (% of total)": 6.737,
          "Year": 1971,
          "index": 2890
         },
         {
          "CountryCode": "UKR",
          "CountryName": "Ukraine",
          "Total Population": 47433807,
          "Urban population (% of total)": 55.552,
          "Year": 1971,
          "index": 2891
         },
         {
          "CountryCode": "ARE",
          "CountryName": "United Arab Emirates",
          "Total Population": 275160,
          "Urban population (% of total)": 79.8,
          "Year": 1971,
          "index": 2892
         },
         {
          "CountryCode": "GBR",
          "CountryName": "United Kingdom",
          "Total Population": 55896223,
          "Urban population (% of total)": 77.03,
          "Year": 1971,
          "index": 2893
         },
         {
          "CountryCode": "USA",
          "CountryName": "United States",
          "Total Population": 207661000,
          "Urban population (% of total)": 73.613,
          "Year": 1971,
          "index": 2894
         },
         {
          "CountryCode": "URY",
          "CountryName": "Uruguay",
          "Total Population": 2818269,
          "Urban population (% of total)": 82.57,
          "Year": 1971,
          "index": 2895
         },
         {
          "CountryCode": "UZB",
          "CountryName": "Uzbekistan",
          "Total Population": 12361237,
          "Urban population (% of total)": 37.184,
          "Year": 1971,
          "index": 2896
         },
         {
          "CountryCode": "VUT",
          "CountryName": "Vanuatu",
          "Total Population": 88023,
          "Urban population (% of total)": 12.533,
          "Year": 1971,
          "index": 2897
         },
         {
          "CountryCode": "VEN",
          "CountryName": "Venezuela, RB",
          "Total Population": 11937803,
          "Urban population (% of total)": 72.764,
          "Year": 1971,
          "index": 2898
         },
         {
          "CountryCode": "VNM",
          "CountryName": "Vietnam",
          "Total Population": 43725000,
          "Urban population (% of total)": 18.396,
          "Year": 1971,
          "index": 2899
         },
         {
          "CountryCode": "VIR",
          "CountryName": "Virgin Islands (U.S.)",
          "Total Population": 71000,
          "Urban population (% of total)": 70.779,
          "Year": 1971,
          "index": 2900
         },
         {
          "CountryCode": "YEM",
          "CountryName": "Yemen, Rep.",
          "Total Population": 6262934,
          "Urban population (% of total)": 13.598,
          "Year": 1971,
          "index": 2901
         },
         {
          "CountryCode": "ZMB",
          "CountryName": "Zambia",
          "Total Population": 4331002,
          "Urban population (% of total)": 31.241,
          "Year": 1971,
          "index": 2902
         },
         {
          "CountryCode": "ZWE",
          "CountryName": "Zimbabwe",
          "Total Population": 5385342,
          "Urban population (% of total)": 17.855,
          "Year": 1971,
          "index": 2903
         },
         {
          "CountryCode": "ARB",
          "CountryName": "Arab World",
          "Total Population": 128622897,
          "Urban population (% of total)": 40.2064947817,
          "Year": 1972,
          "index": 2904
         },
         {
          "CountryCode": "CSS",
          "CountryName": "Caribbean small states",
          "Total Population": 4999973,
          "Urban population (% of total)": 34.8768312207,
          "Year": 1972,
          "index": 2905
         },
         {
          "CountryCode": "CEB",
          "CountryName": "Central Europe and the Baltics",
          "Total Population": 100363597,
          "Urban population (% of total)": 52.1621059368,
          "Year": 1972,
          "index": 2906
         },
         {
          "CountryCode": "EAS",
          "CountryName": "East Asia & Pacific (all income levels)",
          "Total Population": 1354923284,
          "Urban population (% of total)": 25.0191511875,
          "Year": 1972,
          "index": 2907
         },
         {
          "CountryCode": "EAP",
          "CountryName": "East Asia & Pacific (developing only)",
          "Total Population": 1175990054,
          "Urban population (% of total)": 18.8623995402,
          "Year": 1972,
          "index": 2908
         },
         {
          "CountryCode": "EMU",
          "CountryName": "Euro area",
          "Total Population": 290938923,
          "Urban population (% of total)": 67.8678118897,
          "Year": 1972,
          "index": 2909
         },
         {
          "CountryCode": "ECS",
          "CountryName": "Europe & Central Asia (all income levels)",
          "Total Population": 749503677,
          "Urban population (% of total)": 61.7075688235,
          "Year": 1972,
          "index": 2910
         },
         {
          "CountryCode": "ECA",
          "CountryName": "Europe & Central Asia (developing only)",
          "Total Population": 189214048,
          "Urban population (% of total)": 46.3077333955,
          "Year": 1972,
          "index": 2911
         },
         {
          "CountryCode": "EUU",
          "CountryName": "European Union",
          "Total Population": 447151812,
          "Urban population (% of total)": 66.4294760437,
          "Year": 1972,
          "index": 2912
         },
         {
          "CountryCode": "FCS",
          "CountryName": "Fragile and conflict affected situations",
          "Total Population": 162447767,
          "Urban population (% of total)": 24.6144800295,
          "Year": 1972,
          "index": 2913
         },
         {
          "CountryCode": "HPC",
          "CountryName": "Heavily indebted poor countries (HIPC)",
          "Total Population": 219712407,
          "Urban population (% of total)": 17.1300102673,
          "Year": 1972,
          "index": 2914
         },
         {
          "CountryCode": "HIC",
          "CountryName": "High income",
          "Total Population": 1038086951,
          "Urban population (% of total)": 69.2473533103,
          "Year": 1972,
          "index": 2915
         },
         {
          "CountryCode": "NOC",
          "CountryName": "High income: nonOECD",
          "Total Population": 219034450,
          "Urban population (% of total)": 66.2792185666,
          "Year": 1972,
          "index": 2916
         },
         {
          "CountryCode": "OEC",
          "CountryName": "High income: OECD",
          "Total Population": 819052501,
          "Urban population (% of total)": 69.9862134654,
          "Year": 1972,
          "index": 2917
         },
         {
          "CountryCode": "LCN",
          "CountryName": "Latin America & Caribbean (all income levels)",
          "Total Population": 302408883,
          "Urban population (% of total)": 58.5501813627,
          "Year": 1972,
          "index": 2918
         },
         {
          "CountryCode": "LAC",
          "CountryName": "Latin America & Caribbean (developing only)",
          "Total Population": 247979312,
          "Urban population (% of total)": 54.866643073,
          "Year": 1972,
          "index": 2919
         },
         {
          "CountryCode": "LDC",
          "CountryName": "Least developed countries: UN classification",
          "Total Population": 323858659,
          "Urban population (% of total)": 13.6655151995,
          "Year": 1972,
          "index": 2920
         },
         {
          "CountryCode": "LMY",
          "CountryName": "Low & middle income",
          "Total Population": 2800721995,
          "Urban population (% of total)": 25.1086921068,
          "Year": 1972,
          "index": 2921
         },
         {
          "CountryCode": "LIC",
          "CountryName": "Low income",
          "Total Population": 208769614,
          "Urban population (% of total)": 16.13646383,
          "Year": 1972,
          "index": 2922
         },
         {
          "CountryCode": "LMC",
          "CountryName": "Lower middle income",
          "Total Population": 1242862038,
          "Urban population (% of total)": 23.168817009,
          "Year": 1972,
          "index": 2923
         },
         {
          "CountryCode": "MEA",
          "CountryName": "Middle East & North Africa (all income levels)",
          "Total Population": 146283051,
          "Urban population (% of total)": 44.1377651891,
          "Year": 1972,
          "index": 2924
         },
         {
          "CountryCode": "MNA",
          "CountryName": "Middle East & North Africa (developing only)",
          "Total Population": 134123335,
          "Urban population (% of total)": 42.248248069,
          "Year": 1972,
          "index": 2925
         },
         {
          "CountryCode": "MIC",
          "CountryName": "Middle income",
          "Total Population": 2591952381,
          "Urban population (% of total)": 25.8317195347,
          "Year": 1972,
          "index": 2926
         },
         {
          "CountryCode": "NAC",
          "CountryName": "North America",
          "Total Population": 231943831,
          "Urban population (% of total)": 73.8518083229,
          "Year": 1972,
          "index": 2927
         },
         {
          "CountryCode": "OED",
          "CountryName": "OECD members",
          "Total Population": 911007982,
          "Urban population (% of total)": 68.1938374042,
          "Year": 1972,
          "index": 2928
         },
         {
          "CountryCode": "OSS",
          "CountryName": "Other small states",
          "Total Population": 8501704,
          "Urban population (% of total)": 21.7539579006,
          "Year": 1972,
          "index": 2929
         },
         {
          "CountryCode": "PSS",
          "CountryName": "Pacific island small states",
          "Total Population": 1196679,
          "Urban population (% of total)": 26.7352797868,
          "Year": 1972,
          "index": 2930
         },
         {
          "CountryCode": "SST",
          "CountryName": "Small states",
          "Total Population": 14698356,
          "Urban population (% of total)": 26.6235539,
          "Year": 1972,
          "index": 2931
         },
         {
          "CountryCode": "SAS",
          "CountryName": "South Asia",
          "Total Population": 746222138,
          "Urban population (% of total)": 19.2296007545,
          "Year": 1972,
          "index": 2932
         },
         {
          "CountryCode": "SSF",
          "CountryName": "Sub-Saharan Africa (all income levels)",
          "Total Population": 307524082,
          "Urban population (% of total)": 18.8390845007,
          "Year": 1972,
          "index": 2933
         },
         {
          "CountryCode": "SSA",
          "CountryName": "Sub-Saharan Africa (developing only)",
          "Total Population": 307193108,
          "Urban population (% of total)": 18.8274684959,
          "Year": 1972,
          "index": 2934
         },
         {
          "CountryCode": "UMC",
          "CountryName": "Upper middle income",
          "Total Population": 1349090343,
          "Urban population (% of total)": 28.2824206963,
          "Year": 1972,
          "index": 2935
         },
         {
          "CountryCode": "WLD",
          "CountryName": "World",
          "Total Population": 3838808946,
          "Urban population (% of total)": 36.9210057719,
          "Year": 1972,
          "index": 2936
         },
         {
          "CountryCode": "AFG",
          "CountryName": "Afghanistan",
          "Total Population": 11716896,
          "Urban population (% of total)": 12.316,
          "Year": 1972,
          "index": 2937
         },
         {
          "CountryCode": "ALB",
          "CountryName": "Albania",
          "Total Population": 2243126,
          "Urban population (% of total)": 32.127,
          "Year": 1972,
          "index": 2938
         },
         {
          "CountryCode": "DZA",
          "CountryName": "Algeria",
          "Total Population": 15377095,
          "Urban population (% of total)": 39.831,
          "Year": 1972,
          "index": 2939
         },
         {
          "CountryCode": "ASM",
          "CountryName": "American Samoa",
          "Total Population": 28490,
          "Urban population (% of total)": 71.182,
          "Year": 1972,
          "index": 2940
         },
         {
          "CountryCode": "ADO",
          "CountryName": "Andorra",
          "Total Population": 26892,
          "Urban population (% of total)": 83.301,
          "Year": 1972,
          "index": 2941
         },
         {
          "CountryCode": "AGO",
          "CountryName": "Angola",
          "Total Population": 6587647,
          "Urban population (% of total)": 15.875,
          "Year": 1972,
          "index": 2942
         },
         {
          "CountryCode": "ATG",
          "CountryName": "Antigua and Barbuda",
          "Total Population": 67205,
          "Urban population (% of total)": 33.978,
          "Year": 1972,
          "index": 2943
         },
         {
          "CountryCode": "ARG",
          "CountryName": "Argentina",
          "Total Population": 24782950,
          "Urban population (% of total)": 79.743,
          "Year": 1972,
          "index": 2944
         },
         {
          "CountryCode": "ARM",
          "CountryName": "Armenia",
          "Total Population": 2643464,
          "Urban population (% of total)": 61.445,
          "Year": 1972,
          "index": 2945
         },
         {
          "CountryCode": "ABW",
          "CountryName": "Aruba",
          "Total Population": 59849,
          "Urban population (% of total)": 50.593,
          "Year": 1972,
          "index": 2946
         },
         {
          "CountryCode": "AUS",
          "CountryName": "Australia",
          "Total Population": 13177000,
          "Urban population (% of total)": 85.681,
          "Year": 1972,
          "index": 2947
         },
         {
          "CountryCode": "AUT",
          "CountryName": "Austria",
          "Total Population": 7544201,
          "Urban population (% of total)": 65.311,
          "Year": 1972,
          "index": 2948
         },
         {
          "CountryCode": "AZE",
          "CountryName": "Azerbaijan",
          "Total Population": 5393176,
          "Urban population (% of total)": 50.917,
          "Year": 1972,
          "index": 2949
         },
         {
          "CountryCode": "BHS",
          "CountryName": "Bahamas, The",
          "Total Population": 177844,
          "Urban population (% of total)": 68.088,
          "Year": 1972,
          "index": 2950
         },
         {
          "CountryCode": "BHR",
          "CountryName": "Bahrain",
          "Total Population": 229588,
          "Urban population (% of total)": 84.265,
          "Year": 1972,
          "index": 2951
         },
         {
          "CountryCode": "BGD",
          "CountryName": "Bangladesh",
          "Total Population": 67578486,
          "Urban population (% of total)": 8.221,
          "Year": 1972,
          "index": 2952
         },
         {
          "CountryCode": "BRB",
          "CountryName": "Barbados",
          "Total Population": 241441,
          "Urban population (% of total)": 37.971,
          "Year": 1972,
          "index": 2953
         },
         {
          "CountryCode": "BLR",
          "CountryName": "Belarus",
          "Total Population": 9188968,
          "Urban population (% of total)": 46.697,
          "Year": 1972,
          "index": 2954
         },
         {
          "CountryCode": "BEL",
          "CountryName": "Belgium",
          "Total Population": 9711115,
          "Urban population (% of total)": 94.106,
          "Year": 1972,
          "index": 2955
         },
         {
          "CountryCode": "BLZ",
          "CountryName": "Belize",
          "Total Population": 127148,
          "Urban population (% of total)": 50.646,
          "Year": 1972,
          "index": 2956
         },
         {
          "CountryCode": "BEN",
          "CountryName": "Benin",
          "Total Population": 3039300,
          "Urban population (% of total)": 18.648,
          "Year": 1972,
          "index": 2957
         },
         {
          "CountryCode": "BMU",
          "CountryName": "Bermuda",
          "Total Population": 54200,
          "Urban population (% of total)": 100,
          "Year": 1972,
          "index": 2958
         },
         {
          "CountryCode": "BTN",
          "CountryName": "Bhutan",
          "Total Population": 312712,
          "Urban population (% of total)": 6.754,
          "Year": 1972,
          "index": 2959
         },
         {
          "CountryCode": "BOL",
          "CountryName": "Bolivia",
          "Total Population": 4698090,
          "Urban population (% of total)": 40.389,
          "Year": 1972,
          "index": 2960
         },
         {
          "CountryCode": "BIH",
          "CountryName": "Bosnia and Herzegovina",
          "Total Population": 3838002,
          "Urban population (% of total)": 28.875,
          "Year": 1972,
          "index": 2961
         },
         {
          "CountryCode": "BWA",
          "CountryName": "Botswana",
          "Total Population": 739754,
          "Urban population (% of total)": 9.695,
          "Year": 1972,
          "index": 2962
         },
         {
          "CountryCode": "BRA",
          "CountryName": "Brazil",
          "Total Population": 100844391,
          "Urban population (% of total)": 57.879,
          "Year": 1972,
          "index": 2963
         },
         {
          "CountryCode": "BRN",
          "CountryName": "Brunei Darussalam",
          "Total Population": 141836,
          "Urban population (% of total)": 63.234,
          "Year": 1972,
          "index": 2964
         },
         {
          "CountryCode": "BGR",
          "CountryName": "Bulgaria",
          "Total Population": 8576200,
          "Urban population (% of total)": 54.419,
          "Year": 1972,
          "index": 2965
         },
         {
          "CountryCode": "BFA",
          "CountryName": "Burkina Faso",
          "Total Population": 5825171,
          "Urban population (% of total)": 5.98,
          "Year": 1972,
          "index": 2966
         },
         {
          "CountryCode": "BDI",
          "CountryName": "Burundi",
          "Total Population": 3547335,
          "Urban population (% of total)": 3.101,
          "Year": 1972,
          "index": 2967
         },
         {
          "CountryCode": "CPV",
          "CountryName": "Cabo Verde",
          "Total Population": 273788,
          "Urban population (% of total)": 20.272,
          "Year": 1972,
          "index": 2968
         },
         {
          "CountryCode": "KHM",
          "CountryName": "Cambodia",
          "Total Population": 7331162,
          "Urban population (% of total)": 21.818,
          "Year": 1972,
          "index": 2969
         },
         {
          "CountryCode": "CMR",
          "CountryName": "Cameroon",
          "Total Population": 7134374,
          "Urban population (% of total)": 22.927,
          "Year": 1972,
          "index": 2970
         },
         {
          "CountryCode": "CAN",
          "CountryName": "Canada",
          "Total Population": 21993631,
          "Urban population (% of total)": 75.971,
          "Year": 1972,
          "index": 2971
         },
         {
          "CountryCode": "CYM",
          "CountryName": "Cayman Islands",
          "Total Population": 10137,
          "Urban population (% of total)": 100,
          "Year": 1972,
          "index": 2972
         },
         {
          "CountryCode": "CAF",
          "CountryName": "Central African Republic",
          "Total Population": 1900702,
          "Urban population (% of total)": 29.238,
          "Year": 1972,
          "index": 2973
         },
         {
          "CountryCode": "TCD",
          "CountryName": "Chad",
          "Total Population": 3816299,
          "Urban population (% of total)": 13.1,
          "Year": 1972,
          "index": 2974
         },
         {
          "CountryCode": "CHI",
          "CountryName": "Channel Islands",
          "Total Population": 123611,
          "Urban population (% of total)": 35.394,
          "Year": 1972,
          "index": 2975
         },
         {
          "CountryCode": "CHL",
          "CountryName": "Chile",
          "Total Population": 9916558,
          "Urban population (% of total)": 76.528,
          "Year": 1972,
          "index": 2976
         },
         {
          "CountryCode": "CHN",
          "CountryName": "China",
          "Total Population": 862030000,
          "Urban population (% of total)": 17.184,
          "Year": 1972,
          "index": 2977
         },
         {
          "CountryCode": "COL",
          "CountryName": "Colombia",
          "Total Population": 23146803,
          "Urban population (% of total)": 56.327,
          "Year": 1972,
          "index": 2978
         },
         {
          "CountryCode": "COM",
          "CountryName": "Comoros",
          "Total Population": 237797,
          "Urban population (% of total)": 20.115,
          "Year": 1972,
          "index": 2979
         },
         {
          "CountryCode": "ZAR",
          "CountryName": "Congo, Dem. Rep.",
          "Total Population": 21120996,
          "Urban population (% of total)": 25.089,
          "Year": 1972,
          "index": 2980
         },
         {
          "CountryCode": "COG",
          "CountryName": "Congo, Rep.",
          "Total Population": 1419305,
          "Urban population (% of total)": 40.715,
          "Year": 1972,
          "index": 2981
         },
         {
          "CountryCode": "CRI",
          "CountryName": "Costa Rica",
          "Total Population": 1947048,
          "Urban population (% of total)": 40.068,
          "Year": 1972,
          "index": 2982
         },
         {
          "CountryCode": "CIV",
          "CountryName": "Cote d'Ivoire",
          "Total Population": 5747633,
          "Urban population (% of total)": 29.719,
          "Year": 1972,
          "index": 2983
         },
         {
          "CountryCode": "HRV",
          "CountryName": "Croatia",
          "Total Population": 4457000,
          "Urban population (% of total)": 42.206,
          "Year": 1972,
          "index": 2984
         },
         {
          "CountryCode": "CUB",
          "CountryName": "Cuba",
          "Total Population": 9025299,
          "Urban population (% of total)": 61.8,
          "Year": 1972,
          "index": 2985
         },
         {
          "CountryCode": "CUW",
          "CountryName": "Curacao",
          "Total Population": 147710,
          "Urban population (% of total)": 79.146,
          "Year": 1972,
          "index": 2986
         },
         {
          "CountryCode": "CYP",
          "CountryName": "Cyprus",
          "Total Population": 628000,
          "Urban population (% of total)": 41.807,
          "Year": 1972,
          "index": 2987
         },
         {
          "CountryCode": "CZE",
          "CountryName": "Czech Republic",
          "Total Population": 9867632,
          "Urban population (% of total)": 66.484,
          "Year": 1972,
          "index": 2988
         },
         {
          "CountryCode": "DNK",
          "CountryName": "Denmark",
          "Total Population": 4991596,
          "Urban population (% of total)": 80.731,
          "Year": 1972,
          "index": 2989
         },
         {
          "CountryCode": "DJI",
          "CountryName": "Djibouti",
          "Total Population": 179212,
          "Urban population (% of total)": 63.968,
          "Year": 1972,
          "index": 2990
         },
         {
          "CountryCode": "DMA",
          "CountryName": "Dominica",
          "Total Population": 71737,
          "Urban population (% of total)": 40.264,
          "Year": 1972,
          "index": 2991
         },
         {
          "CountryCode": "DOM",
          "CountryName": "Dominican Republic",
          "Total Population": 4759935,
          "Urban population (% of total)": 42.382,
          "Year": 1972,
          "index": 2992
         },
         {
          "CountryCode": "ECU",
          "CountryName": "Ecuador",
          "Total Population": 6428707,
          "Urban population (% of total)": 40.352,
          "Year": 1972,
          "index": 2993
         },
         {
          "CountryCode": "EGY",
          "CountryName": "Egypt, Arab Rep.",
          "Total Population": 36302154,
          "Urban population (% of total)": 42.2,
          "Year": 1972,
          "index": 2994
         },
         {
          "CountryCode": "SLV",
          "CountryName": "El Salvador",
          "Total Population": 3862132,
          "Urban population (% of total)": 40.003,
          "Year": 1972,
          "index": 2995
         },
         {
          "CountryCode": "GNQ",
          "CountryName": "Equatorial Guinea",
          "Total Population": 274906,
          "Urban population (% of total)": 27.136,
          "Year": 1972,
          "index": 2996
         },
         {
          "CountryCode": "ERI",
          "CountryName": "Eritrea",
          "Total Population": 1905406,
          "Urban population (% of total)": 12.932,
          "Year": 1972,
          "index": 2997
         },
         {
          "CountryCode": "EST",
          "CountryName": "Estonia",
          "Total Population": 1392518,
          "Urban population (% of total)": 66.017,
          "Year": 1972,
          "index": 2998
         },
         {
          "CountryCode": "ETH",
          "CountryName": "Ethiopia",
          "Total Population": 30135007,
          "Urban population (% of total)": 8.928,
          "Year": 1972,
          "index": 2999
         },
         {
          "CountryCode": "FRO",
          "CountryName": "Faeroe Islands",
          "Total Population": 39360,
          "Urban population (% of total)": 28.888,
          "Year": 1972,
          "index": 3000
         },
         {
          "CountryCode": "FJI",
          "CountryName": "Fiji",
          "Total Population": 542811,
          "Urban population (% of total)": 35.538,
          "Year": 1972,
          "index": 3001
         },
         {
          "CountryCode": "FIN",
          "CountryName": "Finland",
          "Total Population": 4639657,
          "Urban population (% of total)": 65.366,
          "Year": 1972,
          "index": 3002
         },
         {
          "CountryCode": "FRA",
          "CountryName": "France",
          "Total Population": 52959228,
          "Urban population (% of total)": 71.86,
          "Year": 1972,
          "index": 3003
         },
         {
          "CountryCode": "PYF",
          "CountryName": "French Polynesia",
          "Total Population": 118279,
          "Urban population (% of total)": 56.718,
          "Year": 1972,
          "index": 3004
         },
         {
          "CountryCode": "GAB",
          "CountryName": "Gabon",
          "Total Population": 613129,
          "Urban population (% of total)": 36.231,
          "Year": 1972,
          "index": 3005
         },
         {
          "CountryCode": "GMB",
          "CountryName": "Gambia, The",
          "Total Population": 474538,
          "Urban population (% of total)": 21.814,
          "Year": 1972,
          "index": 3006
         },
         {
          "CountryCode": "GEO",
          "CountryName": "Georgia",
          "Total Population": 4205300,
          "Urban population (% of total)": 48.942,
          "Year": 1972,
          "index": 3007
         },
         {
          "CountryCode": "DEU",
          "CountryName": "Germany",
          "Total Population": 78688452,
          "Urban population (% of total)": 72.389,
          "Year": 1972,
          "index": 3008
         },
         {
          "CountryCode": "GHA",
          "CountryName": "Ghana",
          "Total Population": 9083575,
          "Urban population (% of total)": 29.392,
          "Year": 1972,
          "index": 3009
         },
         {
          "CountryCode": "GRC",
          "CountryName": "Greece",
          "Total Population": 8888628,
          "Urban population (% of total)": 65.454,
          "Year": 1972,
          "index": 3010
         },
         {
          "CountryCode": "GRL",
          "CountryName": "Greenland",
          "Total Population": 48300,
          "Urban population (% of total)": 73.675,
          "Year": 1972,
          "index": 3011
         },
         {
          "CountryCode": "GRD",
          "CountryName": "Grenada",
          "Total Population": 93937,
          "Urban population (% of total)": 32.353,
          "Year": 1972,
          "index": 3012
         },
         {
          "CountryCode": "GUM",
          "CountryName": "Guam",
          "Total Population": 87585,
          "Urban population (% of total)": 71.999,
          "Year": 1972,
          "index": 3013
         },
         {
          "CountryCode": "GTM",
          "CountryName": "Guatemala",
          "Total Population": 5737720,
          "Urban population (% of total)": 36.177,
          "Year": 1972,
          "index": 3014
         },
         {
          "CountryCode": "GIN",
          "CountryName": "Guinea",
          "Total Population": 4293208,
          "Urban population (% of total)": 17.327,
          "Year": 1972,
          "index": 3015
         },
         {
          "CountryCode": "GNB",
          "CountryName": "Guinea-Bissau",
          "Total Population": 738117,
          "Urban population (% of total)": 15.455,
          "Year": 1972,
          "index": 3016
         },
         {
          "CountryCode": "GUY",
          "CountryName": "Guyana",
          "Total Population": 712188,
          "Urban population (% of total)": 29.641,
          "Year": 1972,
          "index": 3017
         },
         {
          "CountryCode": "HTI",
          "CountryName": "Haiti",
          "Total Population": 4876558,
          "Urban population (% of total)": 20.323,
          "Year": 1972,
          "index": 3018
         },
         {
          "CountryCode": "HND",
          "CountryName": "Honduras",
          "Total Population": 2845260,
          "Urban population (% of total)": 30.246,
          "Year": 1972,
          "index": 3019
         },
         {
          "CountryCode": "HKG",
          "CountryName": "Hong Kong SAR, China",
          "Total Population": 4123600,
          "Urban population (% of total)": 88.474,
          "Year": 1972,
          "index": 3020
         },
         {
          "CountryCode": "HUN",
          "CountryName": "Hungary",
          "Total Population": 10398489,
          "Urban population (% of total)": 60.965,
          "Year": 1972,
          "index": 3021
         },
         {
          "CountryCode": "ISL",
          "CountryName": "Iceland",
          "Total Population": 209137,
          "Urban population (% of total)": 85.63,
          "Year": 1972,
          "index": 3022
         },
         {
          "CountryCode": "IND",
          "CountryName": "India",
          "Total Population": 579800632,
          "Urban population (% of total)": 20.321,
          "Year": 1972,
          "index": 3023
         },
         {
          "CountryCode": "IDN",
          "CountryName": "Indonesia",
          "Total Population": 121059511,
          "Urban population (% of total)": 17.779,
          "Year": 1972,
          "index": 3024
         },
         {
          "CountryCode": "IRN",
          "CountryName": "Iran, Islamic Rep.",
          "Total Population": 30073845,
          "Urban population (% of total)": 43.014,
          "Year": 1972,
          "index": 3025
         },
         {
          "CountryCode": "IRQ",
          "CountryName": "Iraq",
          "Total Population": 10599846,
          "Urban population (% of total)": 58.269,
          "Year": 1972,
          "index": 3026
         },
         {
          "CountryCode": "IRL",
          "CountryName": "Ireland",
          "Total Population": 3036850,
          "Urban population (% of total)": 52.611,
          "Year": 1972,
          "index": 3027
         },
         {
          "CountryCode": "IMY",
          "CountryName": "Isle of Man",
          "Total Population": 58563,
          "Urban population (% of total)": 54.77,
          "Year": 1972,
          "index": 3028
         },
         {
          "CountryCode": "ISR",
          "CountryName": "Israel",
          "Total Population": 3148000,
          "Urban population (% of total)": 85.351,
          "Year": 1972,
          "index": 3029
         },
         {
          "CountryCode": "ITA",
          "CountryName": "Italy",
          "Total Population": 54381345,
          "Urban population (% of total)": 65.039,
          "Year": 1972,
          "index": 3030
         },
         {
          "CountryCode": "JAM",
          "CountryName": "Jamaica",
          "Total Population": 1925162,
          "Urban population (% of total)": 42.395,
          "Year": 1972,
          "index": 3031
         },
         {
          "CountryCode": "JPN",
          "CountryName": "Japan",
          "Total Population": 107188000,
          "Urban population (% of total)": 73.452,
          "Year": 1972,
          "index": 3032
         },
         {
          "CountryCode": "JOR",
          "CountryName": "Jordan",
          "Total Population": 1633558,
          "Urban population (% of total)": 56.645,
          "Year": 1972,
          "index": 3033
         },
         {
          "CountryCode": "KAZ",
          "CountryName": "Kazakhstan",
          "Total Population": 13176584,
          "Urban population (% of total)": 51.269,
          "Year": 1972,
          "index": 3034
         },
         {
          "CountryCode": "KEN",
          "CountryName": "Kenya",
          "Total Population": 12083165,
          "Urban population (% of total)": 11.282,
          "Year": 1972,
          "index": 3035
         },
         {
          "CountryCode": "KIR",
          "CountryName": "Kiribati",
          "Total Population": 52823,
          "Urban population (% of total)": 26.654,
          "Year": 1972,
          "index": 3036
         },
         {
          "CountryCode": "PRK",
          "CountryName": "Korea, Dem. Rep.",
          "Total Population": 15214615,
          "Urban population (% of total)": 55.204,
          "Year": 1972,
          "index": 3037
         },
         {
          "CountryCode": "KOR",
          "CountryName": "Korea, Rep.",
          "Total Population": 33505406,
          "Urban population (% of total)": 43.692,
          "Year": 1972,
          "index": 3038
         },
         {
          "CountryCode": "KWT",
          "CountryName": "Kuwait",
          "Total Population": 866747,
          "Urban population (% of total)": 87.192,
          "Year": 1972,
          "index": 3039
         },
         {
          "CountryCode": "KGZ",
          "CountryName": "Kyrgyz Republic",
          "Total Population": 3088200,
          "Urban population (% of total)": 37.753,
          "Year": 1972,
          "index": 3040
         },
         {
          "CountryCode": "LAO",
          "CountryName": "Lao PDR",
          "Total Population": 2837967,
          "Urban population (% of total)": 10.295,
          "Year": 1972,
          "index": 3041
         },
         {
          "CountryCode": "LVA",
          "CountryName": "Latvia",
          "Total Population": 2395674,
          "Urban population (% of total)": 62.122,
          "Year": 1972,
          "index": 3042
         },
         {
          "CountryCode": "LBN",
          "CountryName": "Lebanon",
          "Total Population": 2416743,
          "Urban population (% of total)": 62.58,
          "Year": 1972,
          "index": 3043
         },
         {
          "CountryCode": "LSO",
          "CountryName": "Lesotho",
          "Total Population": 1075281,
          "Urban population (% of total)": 9.474,
          "Year": 1972,
          "index": 3044
         },
         {
          "CountryCode": "LBR",
          "CountryName": "Liberia",
          "Total Population": 1497356,
          "Urban population (% of total)": 27.713,
          "Year": 1972,
          "index": 3045
         },
         {
          "CountryCode": "LBY",
          "CountryName": "Libya",
          "Total Population": 2306668,
          "Urban population (% of total)": 56.292,
          "Year": 1972,
          "index": 3046
         },
         {
          "CountryCode": "LIE",
          "CountryName": "Liechtenstein",
          "Total Population": 22153,
          "Urban population (% of total)": 18.354,
          "Year": 1972,
          "index": 3047
         },
         {
          "CountryCode": "LTU",
          "CountryName": "Lithuania",
          "Total Population": 3213622,
          "Urban population (% of total)": 51.968,
          "Year": 1972,
          "index": 3048
         },
         {
          "CountryCode": "LUX",
          "CountryName": "Luxembourg",
          "Total Population": 346600,
          "Urban population (% of total)": 75.528,
          "Year": 1972,
          "index": 3049
         },
         {
          "CountryCode": "MAC",
          "CountryName": "Macao SAR, China",
          "Total Population": 254282,
          "Urban population (% of total)": 97.397,
          "Year": 1972,
          "index": 3050
         },
         {
          "CountryCode": "MKD",
          "CountryName": "Macedonia, FYR",
          "Total Population": 1754954,
          "Urban population (% of total)": 48.827,
          "Year": 1972,
          "index": 3051
         },
         {
          "CountryCode": "MDG",
          "CountryName": "Madagascar",
          "Total Population": 6952383,
          "Urban population (% of total)": 14.964,
          "Year": 1972,
          "index": 3052
         },
         {
          "CountryCode": "MWI",
          "CountryName": "Malawi",
          "Total Population": 4859569,
          "Urban population (% of total)": 6.651,
          "Year": 1972,
          "index": 3053
         },
         {
          "CountryCode": "MYS",
          "CountryName": "Malaysia",
          "Total Population": 11460080,
          "Urban population (% of total)": 35.104,
          "Year": 1972,
          "index": 3054
         },
         {
          "CountryCode": "MDV",
          "CountryName": "Maldives",
          "Total Population": 123372,
          "Urban population (% of total)": 13.858,
          "Year": 1972,
          "index": 3055
         },
         {
          "CountryCode": "MLI",
          "CountryName": "Mali",
          "Total Population": 6147459,
          "Urban population (% of total)": 15.072,
          "Year": 1972,
          "index": 3056
         },
         {
          "CountryCode": "MLT",
          "CountryName": "Malta",
          "Total Population": 302450,
          "Urban population (% of total)": 89.716,
          "Year": 1972,
          "index": 3057
         },
         {
          "CountryCode": "MHL",
          "CountryName": "Marshall Islands",
          "Total Population": 22340,
          "Urban population (% of total)": 58.685,
          "Year": 1972,
          "index": 3058
         },
         {
          "CountryCode": "MRT",
          "CountryName": "Mauritania",
          "Total Population": 1217912,
          "Urban population (% of total)": 16.773,
          "Year": 1972,
          "index": 3059
         },
         {
          "CountryCode": "MUS",
          "CountryName": "Mauritius",
          "Total Population": 852053,
          "Urban population (% of total)": 44.1,
          "Year": 1972,
          "index": 3060
         },
         {
          "CountryCode": "MEX",
          "CountryName": "Mexico",
          "Total Population": 55480125,
          "Urban population (% of total)": 60.532,
          "Year": 1972,
          "index": 3061
         },
         {
          "CountryCode": "FSM",
          "CountryName": "Micronesia, Fed. Sts.",
          "Total Population": 62298,
          "Urban population (% of total)": 25.33,
          "Year": 1972,
          "index": 3062
         },
         {
          "CountryCode": "MDA",
          "CountryName": "Moldova",
          "Total Population": 3131000,
          "Urban population (% of total)": 33.701,
          "Year": 1972,
          "index": 3063
         },
         {
          "CountryCode": "MCO",
          "CountryName": "Monaco",
          "Total Population": 24052,
          "Urban population (% of total)": 100,
          "Year": 1972,
          "index": 3064
         },
         {
          "CountryCode": "MNG",
          "CountryName": "Mongolia",
          "Total Population": 1356669,
          "Urban population (% of total)": 46.491,
          "Year": 1972,
          "index": 3065
         },
         {
          "CountryCode": "MNE",
          "CountryName": "Montenegro",
          "Total Population": 535198,
          "Urban population (% of total)": 28.706,
          "Year": 1972,
          "index": 3066
         },
         {
          "CountryCode": "MAR",
          "CountryName": "Morocco",
          "Total Population": 16740525,
          "Urban population (% of total)": 35.675,
          "Year": 1972,
          "index": 3067
         },
         {
          "CountryCode": "MOZ",
          "CountryName": "Mozambique",
          "Total Population": 9679753,
          "Urban population (% of total)": 7.864,
          "Year": 1972,
          "index": 3068
         },
         {
          "CountryCode": "MMR",
          "CountryName": "Myanmar",
          "Total Population": 28517289,
          "Urban population (% of total)": 23.606,
          "Year": 1972,
          "index": 3069
         },
         {
          "CountryCode": "NAM",
          "CountryName": "Namibia",
          "Total Population": 829806,
          "Urban population (% of total)": 22.829,
          "Year": 1972,
          "index": 3070
         },
         {
          "CountryCode": "NPL",
          "CountryName": "Nepal",
          "Total Population": 12487785,
          "Urban population (% of total)": 4.198,
          "Year": 1972,
          "index": 3071
         },
         {
          "CountryCode": "NLD",
          "CountryName": "Netherlands",
          "Total Population": 13328593,
          "Urban population (% of total)": 62.232,
          "Year": 1972,
          "index": 3072
         },
         {
          "CountryCode": "NCL",
          "CountryName": "New Caledonia",
          "Total Population": 125500,
          "Urban population (% of total)": 52.811,
          "Year": 1972,
          "index": 3073
         },
         {
          "CountryCode": "NZL",
          "CountryName": "New Zealand",
          "Total Population": 2903900,
          "Urban population (% of total)": 81.819,
          "Year": 1972,
          "index": 3074
         },
         {
          "CountryCode": "NIC",
          "CountryName": "Nicaragua",
          "Total Population": 2549779,
          "Urban population (% of total)": 48.017,
          "Year": 1972,
          "index": 3075
         },
         {
          "CountryCode": "NER",
          "CountryName": "Niger",
          "Total Population": 4753054,
          "Urban population (% of total)": 9.772,
          "Year": 1972,
          "index": 3076
         },
         {
          "CountryCode": "NGA",
          "CountryName": "Nigeria",
          "Total Population": 58829319,
          "Urban population (% of total)": 18.549,
          "Year": 1972,
          "index": 3077
         },
         {
          "CountryCode": "MNP",
          "CountryName": "Northern Mariana Islands",
          "Total Population": 14142,
          "Urban population (% of total)": 75.021,
          "Year": 1972,
          "index": 3078
         },
         {
          "CountryCode": "NOR",
          "CountryName": "Norway",
          "Total Population": 3933004,
          "Urban population (% of total)": 66.725,
          "Year": 1972,
          "index": 3079
         },
         {
          "CountryCode": "OMN",
          "CountryName": "Oman",
          "Total Population": 776379,
          "Urban population (% of total)": 32.958,
          "Year": 1972,
          "index": 3080
         },
         {
          "CountryCode": "PAK",
          "CountryName": "Pakistan",
          "Total Population": 61341255,
          "Urban population (% of total)": 25.353,
          "Year": 1972,
          "index": 3081
         },
         {
          "CountryCode": "PLW",
          "CountryName": "Palau",
          "Total Population": 11853,
          "Urban population (% of total)": 60.287,
          "Year": 1972,
          "index": 3082
         },
         {
          "CountryCode": "PAN",
          "CountryName": "Panama",
          "Total Population": 1607835,
          "Urban population (% of total)": 48.199,
          "Year": 1972,
          "index": 3083
         },
         {
          "CountryCode": "PNG",
          "CountryName": "Papua New Guinea",
          "Total Population": 2576093,
          "Urban population (% of total)": 11.3,
          "Year": 1972,
          "index": 3084
         },
         {
          "CountryCode": "PRY",
          "CountryName": "Paraguay",
          "Total Population": 2596741,
          "Urban population (% of total)": 37.396,
          "Year": 1972,
          "index": 3085
         },
         {
          "CountryCode": "PER",
          "CountryName": "Peru",
          "Total Population": 14072476,
          "Urban population (% of total)": 59.547,
          "Year": 1972,
          "index": 3086
         },
         {
          "CountryCode": "PHL",
          "CountryName": "Philippines",
          "Total Population": 37925400,
          "Urban population (% of total)": 34.012,
          "Year": 1972,
          "index": 3087
         },
         {
          "CountryCode": "POL",
          "CountryName": "Poland",
          "Total Population": 33055650,
          "Urban population (% of total)": 53.324,
          "Year": 1972,
          "index": 3088
         },
         {
          "CountryCode": "PRT",
          "CountryName": "Portugal",
          "Total Population": 8630430,
          "Urban population (% of total)": 39.591,
          "Year": 1972,
          "index": 3089
         },
         {
          "CountryCode": "PRI",
          "CountryName": "Puerto Rico",
          "Total Population": 2817256,
          "Urban population (% of total)": 60.127,
          "Year": 1972,
          "index": 3090
         },
         {
          "CountryCode": "QAT",
          "CountryName": "Qatar",
          "Total Population": 130377,
          "Urban population (% of total)": 88.678,
          "Year": 1972,
          "index": 3091
         },
         {
          "CountryCode": "ROM",
          "CountryName": "Romania",
          "Total Population": 20657957,
          "Urban population (% of total)": 41.319,
          "Year": 1972,
          "index": 3092
         },
         {
          "CountryCode": "RUS",
          "CountryName": "Russian Federation",
          "Total Population": 131909000,
          "Urban population (% of total)": 64.078,
          "Year": 1972,
          "index": 3093
         },
         {
          "CountryCode": "RWA",
          "CountryName": "Rwanda",
          "Total Population": 3983707,
          "Urban population (% of total)": 3.491,
          "Year": 1972,
          "index": 3094
         },
         {
          "CountryCode": "WSM",
          "CountryName": "Samoa",
          "Total Population": 147323,
          "Urban population (% of total)": 20.752,
          "Year": 1972,
          "index": 3095
         },
         {
          "CountryCode": "SMR",
          "CountryName": "San Marino",
          "Total Population": 19396,
          "Urban population (% of total)": 64.703,
          "Year": 1972,
          "index": 3096
         },
         {
          "CountryCode": "STP",
          "CountryName": "Sao Tome and Principe",
          "Total Population": 77536,
          "Urban population (% of total)": 30.561,
          "Year": 1972,
          "index": 3097
         },
         {
          "CountryCode": "SAU",
          "CountryName": "Saudi Arabia",
          "Total Population": 6382106,
          "Urban population (% of total)": 52.707,
          "Year": 1972,
          "index": 3098
         },
         {
          "CountryCode": "SEN",
          "CountryName": "Senegal",
          "Total Population": 4485342,
          "Urban population (% of total)": 31.451,
          "Year": 1972,
          "index": 3099
         },
         {
          "CountryCode": "SYC",
          "CountryName": "Seychelles",
          "Total Population": 56068,
          "Urban population (% of total)": 41.802,
          "Year": 1972,
          "index": 3100
         },
         {
          "CountryCode": "SLE",
          "CountryName": "Sierra Leone",
          "Total Population": 2605837,
          "Urban population (% of total)": 25.522,
          "Year": 1972,
          "index": 3101
         },
         {
          "CountryCode": "SGP",
          "CountryName": "Singapore",
          "Total Population": 2152400,
          "Urban population (% of total)": 100,
          "Year": 1972,
          "index": 3102
         },
         {
          "CountryCode": "SVK",
          "CountryName": "Slovak Republic",
          "Total Population": 4596622,
          "Urban population (% of total)": 43.064,
          "Year": 1972,
          "index": 3103
         },
         {
          "CountryCode": "SVN",
          "CountryName": "Slovenia",
          "Total Population": 1752233,
          "Urban population (% of total)": 39.058,
          "Year": 1972,
          "index": 3104
         },
         {
          "CountryCode": "SLB",
          "CountryName": "Solomon Islands",
          "Total Population": 172599,
          "Urban population (% of total)": 8.999,
          "Year": 1972,
          "index": 3105
         },
         {
          "CountryCode": "SOM",
          "CountryName": "Somalia",
          "Total Population": 3490295,
          "Urban population (% of total)": 23.835,
          "Year": 1972,
          "index": 3106
         },
         {
          "CountryCode": "ZAF",
          "CountryName": "South Africa",
          "Total Population": 23126276,
          "Urban population (% of total)": 47.929,
          "Year": 1972,
          "index": 3107
         },
         {
          "CountryCode": "SSD",
          "CountryName": "South Sudan",
          "Total Population": 3823605,
          "Urban population (% of total)": 8.61,
          "Year": 1972,
          "index": 3108
         },
         {
          "CountryCode": "ESP",
          "CountryName": "Spain",
          "Total Population": 34502705,
          "Urban population (% of total)": 67.541,
          "Year": 1972,
          "index": 3109
         },
         {
          "CountryCode": "LKA",
          "CountryName": "Sri Lanka",
          "Total Population": 12861000,
          "Urban population (% of total)": 19.915,
          "Year": 1972,
          "index": 3110
         },
         {
          "CountryCode": "KNA",
          "CountryName": "St. Kitts and Nevis",
          "Total Population": 44328,
          "Urban population (% of total)": 34.495,
          "Year": 1972,
          "index": 3111
         },
         {
          "CountryCode": "LCA",
          "CountryName": "St. Lucia",
          "Total Population": 106458,
          "Urban population (% of total)": 24.419,
          "Year": 1972,
          "index": 3112
         },
         {
          "CountryCode": "VCT",
          "CountryName": "St. Vincent and the Grenadines",
          "Total Population": 92465,
          "Urban population (% of total)": 31.687,
          "Year": 1972,
          "index": 3113
         },
         {
          "CountryCode": "SDN",
          "CountryName": "Sudan",
          "Total Population": 10918137,
          "Urban population (% of total)": 17.941,
          "Year": 1972,
          "index": 3114
         },
         {
          "CountryCode": "SUR",
          "CountryName": "Suriname",
          "Total Population": 371318,
          "Urban population (% of total)": 46.76,
          "Year": 1972,
          "index": 3115
         },
         {
          "CountryCode": "SWZ",
          "CountryName": "Swaziland",
          "Total Population": 472337,
          "Urban population (% of total)": 11.264,
          "Year": 1972,
          "index": 3116
         },
         {
          "CountryCode": "SWE",
          "CountryName": "Sweden",
          "Total Population": 8122300,
          "Urban population (% of total)": 81.886,
          "Year": 1972,
          "index": 3117
         },
         {
          "CountryCode": "CHE",
          "CountryName": "Switzerland",
          "Total Population": 6260956,
          "Urban population (% of total)": 57.54,
          "Year": 1972,
          "index": 3118
         },
         {
          "CountryCode": "SYR",
          "CountryName": "Syrian Arab Republic",
          "Total Population": 6828765,
          "Urban population (% of total)": 44.078,
          "Year": 1972,
          "index": 3119
         },
         {
          "CountryCode": "TJK",
          "CountryName": "Tajikistan",
          "Total Population": 3112041,
          "Urban population (% of total)": 36.337,
          "Year": 1972,
          "index": 3120
         },
         {
          "CountryCode": "TZA",
          "CountryName": "Tanzania",
          "Total Population": 14506496,
          "Urban population (% of total)": 9.048,
          "Year": 1972,
          "index": 3121
         },
         {
          "CountryCode": "THA",
          "CountryName": "Thailand",
          "Total Population": 39061999,
          "Urban population (% of total)": 22.006,
          "Year": 1972,
          "index": 3122
         },
         {
          "CountryCode": "TMP",
          "CountryName": "Timor-Leste",
          "Total Population": 636100,
          "Urban population (% of total)": 13.548,
          "Year": 1972,
          "index": 3123
         },
         {
          "CountryCode": "TGO",
          "CountryName": "Togo",
          "Total Population": 2247575,
          "Urban population (% of total)": 21.929,
          "Year": 1972,
          "index": 3124
         },
         {
          "CountryCode": "TON",
          "CountryName": "Tonga",
          "Total Population": 86349,
          "Urban population (% of total)": 20.247,
          "Year": 1972,
          "index": 3125
         },
         {
          "CountryCode": "TTO",
          "CountryName": "Trinidad and Tobago",
          "Total Population": 968742,
          "Urban population (% of total)": 11.672,
          "Year": 1972,
          "index": 3126
         },
         {
          "CountryCode": "TUN",
          "CountryName": "Tunisia",
          "Total Population": 5294325,
          "Urban population (% of total)": 45.132,
          "Year": 1972,
          "index": 3127
         },
         {
          "CountryCode": "TUR",
          "CountryName": "Turkey",
          "Total Population": 36475356,
          "Urban population (% of total)": 39.6,
          "Year": 1972,
          "index": 3128
         },
         {
          "CountryCode": "TKM",
          "CountryName": "Turkmenistan",
          "Total Population": 2318070,
          "Urban population (% of total)": 47.691,
          "Year": 1972,
          "index": 3129
         },
         {
          "CountryCode": "TCA",
          "CountryName": "Turks and Caicos Islands",
          "Total Population": 5924,
          "Urban population (% of total)": 51.882,
          "Year": 1972,
          "index": 3130
         },
         {
          "CountryCode": "TUV",
          "CountryName": "Tuvalu",
          "Total Population": 7459,
          "Urban population (% of total)": 23.507,
          "Year": 1972,
          "index": 3131
         },
         {
          "CountryCode": "UGA",
          "CountryName": "Uganda",
          "Total Population": 9988321,
          "Urban population (% of total)": 6.812,
          "Year": 1972,
          "index": 3132
         },
         {
          "CountryCode": "UKR",
          "CountryName": "Ukraine",
          "Total Population": 47783013,
          "Urban population (% of total)": 56.272,
          "Year": 1972,
          "index": 3133
         },
         {
          "CountryCode": "ARE",
          "CountryName": "United Arab Emirates",
          "Total Population": 324069,
          "Urban population (% of total)": 79.8,
          "Year": 1972,
          "index": 3134
         },
         {
          "CountryCode": "GBR",
          "CountryName": "United Kingdom",
          "Total Population": 56086065,
          "Urban population (% of total)": 77.195,
          "Year": 1972,
          "index": 3135
         },
         {
          "CountryCode": "USA",
          "CountryName": "United States",
          "Total Population": 209896000,
          "Urban population (% of total)": 73.623,
          "Year": 1972,
          "index": 3136
         },
         {
          "CountryCode": "URY",
          "CountryName": "Uruguay",
          "Total Population": 2821437,
          "Urban population (% of total)": 82.771,
          "Year": 1972,
          "index": 3137
         },
         {
          "CountryCode": "UZB",
          "CountryName": "Uzbekistan",
          "Total Population": 12762439,
          "Urban population (% of total)": 37.657,
          "Year": 1972,
          "index": 3138
         },
         {
          "CountryCode": "VUT",
          "CountryName": "Vanuatu",
          "Total Population": 90824,
          "Urban population (% of total)": 12.744,
          "Year": 1972,
          "index": 3139
         },
         {
          "CountryCode": "VEN",
          "CountryName": "Venezuela, RB",
          "Total Population": 12286434,
          "Urban population (% of total)": 73.575,
          "Year": 1972,
          "index": 3140
         },
         {
          "CountryCode": "VNM",
          "CountryName": "Vietnam",
          "Total Population": 44758000,
          "Urban population (% of total)": 18.492,
          "Year": 1972,
          "index": 3141
         },
         {
          "CountryCode": "VIR",
          "CountryName": "Virgin Islands (U.S.)",
          "Total Population": 76000,
          "Urban population (% of total)": 71.941,
          "Year": 1972,
          "index": 3142
         },
         {
          "CountryCode": "YEM",
          "CountryName": "Yemen, Rep.",
          "Total Population": 6370599,
          "Urban population (% of total)": 13.901,
          "Year": 1972,
          "index": 3143
         },
         {
          "CountryCode": "ZMB",
          "CountryName": "Zambia",
          "Total Population": 4484141,
          "Urban population (% of total)": 32.146,
          "Year": 1972,
          "index": 3144
         },
         {
          "CountryCode": "ZWE",
          "CountryName": "Zimbabwe",
          "Total Population": 5573312,
          "Urban population (% of total)": 18.36,
          "Year": 1972,
          "index": 3145
         },
         {
          "CountryCode": "ARB",
          "CountryName": "Arab World",
          "Total Population": 132115341,
          "Urban population (% of total)": 40.9252969944,
          "Year": 1973,
          "index": 3146
         },
         {
          "CountryCode": "CSS",
          "CountryName": "Caribbean small states",
          "Total Population": 5060335,
          "Urban population (% of total)": 35.3050204625,
          "Year": 1973,
          "index": 3147
         },
         {
          "CountryCode": "CEB",
          "CountryName": "Central Europe and the Baltics",
          "Total Population": 101120519,
          "Urban population (% of total)": 52.8944714715,
          "Year": 1973,
          "index": 3148
         },
         {
          "CountryCode": "EAS",
          "CountryName": "East Asia & Pacific (all income levels)",
          "Total Population": 1385240402,
          "Urban population (% of total)": 25.1758934014,
          "Year": 1973,
          "index": 3149
         },
         {
          "CountryCode": "EAP",
          "CountryName": "East Asia & Pacific (developing only)",
          "Total Population": 1204100118,
          "Urban population (% of total)": 19.0039479407,
          "Year": 1973,
          "index": 3150
         },
         {
          "CountryCode": "EMU",
          "CountryName": "Euro area",
          "Total Population": 292789890,
          "Urban population (% of total)": 68.1806982305,
          "Year": 1973,
          "index": 3151
         },
         {
          "CountryCode": "ECS",
          "CountryName": "Europe & Central Asia (all income levels)",
          "Total Population": 755566832,
          "Urban population (% of total)": 62.1570443029,
          "Year": 1973,
          "index": 3152
         },
         {
          "CountryCode": "ECA",
          "CountryName": "Europe & Central Asia (developing only)",
          "Total Population": 192020160,
          "Urban population (% of total)": 46.9068277383,
          "Year": 1973,
          "index": 3153
         },
         {
          "CountryCode": "EUU",
          "CountryName": "European Union",
          "Total Population": 449788759,
          "Urban population (% of total)": 66.79011354,
          "Year": 1973,
          "index": 3154
         },
         {
          "CountryCode": "FCS",
          "CountryName": "Fragile and conflict affected situations",
          "Total Population": 166746237,
          "Urban population (% of total)": 25.1558582562,
          "Year": 1973,
          "index": 3155
         },
         {
          "CountryCode": "HPC",
          "CountryName": "Heavily indebted poor countries (HIPC)",
          "Total Population": 225623793,
          "Urban population (% of total)": 17.5823772698,
          "Year": 1973,
          "index": 3156
         },
         {
          "CountryCode": "HIC",
          "CountryName": "High income",
          "Total Population": 1047587071,
          "Urban population (% of total)": 69.6707429581,
          "Year": 1973,
          "index": 3157
         },
         {
          "CountryCode": "NOC",
          "CountryName": "High income: nonOECD",
          "Total Population": 221683016,
          "Urban population (% of total)": 67.0678692994,
          "Year": 1973,
          "index": 3158
         },
         {
          "CountryCode": "OEC",
          "CountryName": "High income: OECD",
          "Total Population": 825904055,
          "Urban population (% of total)": 70.3207512895,
          "Year": 1973,
          "index": 3159
         },
         {
          "CountryCode": "LCN",
          "CountryName": "Latin America & Caribbean (all income levels)",
          "Total Population": 309902169,
          "Urban population (% of total)": 59.2782050272,
          "Year": 1973,
          "index": 3160
         },
         {
          "CountryCode": "LAC",
          "CountryName": "Latin America & Caribbean (developing only)",
          "Total Population": 254430231,
          "Urban population (% of total)": 55.6633285422,
          "Year": 1973,
          "index": 3161
         },
         {
          "CountryCode": "LDC",
          "CountryName": "Least developed countries: UN classification",
          "Total Population": 331415936,
          "Urban population (% of total)": 14.1119381152,
          "Year": 1973,
          "index": 3162
         },
         {
          "CountryCode": "LMY",
          "CountryName": "Low & middle income",
          "Total Population": 2866997009,
          "Urban population (% of total)": 25.4378077582,
          "Year": 1973,
          "index": 3163
         },
         {
          "CountryCode": "LIC",
          "CountryName": "Low income",
          "Total Population": 214017092,
          "Urban population (% of total)": 16.6025148195,
          "Year": 1973,
          "index": 3164
         },
         {
          "CountryCode": "LMC",
          "CountryName": "Lower middle income",
          "Total Population": 1272293235,
          "Urban population (% of total)": 23.5371560065,
          "Year": 1973,
          "index": 3165
         },
         {
          "CountryCode": "MEA",
          "CountryName": "Middle East & North Africa (all income levels)",
          "Total Population": 150292291,
          "Urban population (% of total)": 44.9094923571,
          "Year": 1973,
          "index": 3166
         },
         {
          "CountryCode": "MNA",
          "CountryName": "Middle East & North Africa (developing only)",
          "Total Population": 137516005,
          "Urban population (% of total)": 42.9178789388,
          "Year": 1973,
          "index": 3167
         },
         {
          "CountryCode": "MIC",
          "CountryName": "Middle income",
          "Total Population": 2652979917,
          "Urban population (% of total)": 26.1509064223,
          "Year": 1973,
          "index": 3168
         },
         {
          "CountryCode": "NAC",
          "CountryName": "North America",
          "Total Population": 234332208,
          "Urban population (% of total)": 73.8507843668,
          "Year": 1973,
          "index": 3169
         },
         {
          "CountryCode": "OED",
          "CountryName": "OECD members",
          "Total Population": 920554338,
          "Urban population (% of total)": 68.5378099487,
          "Year": 1973,
          "index": 3170
         },
         {
          "CountryCode": "OSS",
          "CountryName": "Other small states",
          "Total Population": 8685859,
          "Urban population (% of total)": 22.308831661,
          "Year": 1973,
          "index": 3171
         },
         {
          "CountryCode": "PSS",
          "CountryName": "Pacific island small states",
          "Total Population": 1222015,
          "Urban population (% of total)": 27.0480690892,
          "Year": 1973,
          "index": 3172
         },
         {
          "CountryCode": "SST",
          "CountryName": "Small states",
          "Total Population": 14968209,
          "Urban population (% of total)": 27.0893961416,
          "Year": 1973,
          "index": 3173
         },
         {
          "CountryCode": "SAS",
          "CountryName": "South Asia",
          "Total Population": 763491289,
          "Urban population (% of total)": 19.5611796876,
          "Year": 1973,
          "index": 3174
         },
         {
          "CountryCode": "SSF",
          "CountryName": "Sub-Saharan Africa (all income levels)",
          "Total Population": 315758889,
          "Urban population (% of total)": 19.2520060468,
          "Year": 1973,
          "index": 3175
         },
         {
          "CountryCode": "SSA",
          "CountryName": "Sub-Saharan Africa (developing only)",
          "Total Population": 315439206,
          "Urban population (% of total)": 19.2410090682,
          "Year": 1973,
          "index": 3176
         },
         {
          "CountryCode": "UMC",
          "CountryName": "Upper middle income",
          "Total Population": 1380686682,
          "Urban population (% of total)": 28.5569832171,
          "Year": 1973,
          "index": 3177
         },
         {
          "CountryCode": "WLD",
          "CountryName": "World",
          "Total Population": 3914584080,
          "Urban population (% of total)": 37.1507539897,
          "Year": 1973,
          "index": 3178
         },
         {
          "CountryCode": "AFG",
          "CountryName": "Afghanistan",
          "Total Population": 12022514,
          "Urban population (% of total)": 12.726,
          "Year": 1973,
          "index": 3179
         },
         {
          "CountryCode": "ALB",
          "CountryName": "Albania",
          "Total Population": 2296752,
          "Urban population (% of total)": 32.321,
          "Year": 1973,
          "index": 3180
         },
         {
          "CountryCode": "DZA",
          "CountryName": "Algeria",
          "Total Population": 15804428,
          "Urban population (% of total)": 39.997,
          "Year": 1973,
          "index": 3181
         },
         {
          "CountryCode": "ASM",
          "CountryName": "American Samoa",
          "Total Population": 29014,
          "Urban population (% of total)": 71.576,
          "Year": 1973,
          "index": 3182
         },
         {
          "CountryCode": "ADO",
          "CountryName": "Andorra",
          "Total Population": 28231,
          "Urban population (% of total)": 84.716,
          "Year": 1973,
          "index": 3183
         },
         {
          "CountryCode": "AGO",
          "CountryName": "Angola",
          "Total Population": 6750215,
          "Urban population (% of total)": 16.324,
          "Year": 1973,
          "index": 3184
         },
         {
          "CountryCode": "ATG",
          "CountryName": "Antigua and Barbuda",
          "Total Population": 67972,
          "Urban population (% of total)": 34.057,
          "Year": 1973,
          "index": 3185
         },
         {
          "CountryCode": "ARG",
          "CountryName": "Argentina",
          "Total Population": 25213388,
          "Urban population (% of total)": 80.158,
          "Year": 1973,
          "index": 3186
         },
         {
          "CountryCode": "ARM",
          "CountryName": "Armenia",
          "Total Population": 2705584,
          "Urban population (% of total)": 62.225,
          "Year": 1973,
          "index": 3187
         },
         {
          "CountryCode": "ABW",
          "CountryName": "Aruba",
          "Total Population": 60239,
          "Urban population (% of total)": 50.578,
          "Year": 1973,
          "index": 3188
         },
         {
          "CountryCode": "AUS",
          "CountryName": "Australia",
          "Total Population": 13380000,
          "Urban population (% of total)": 85.761,
          "Year": 1973,
          "index": 3189
         },
         {
          "CountryCode": "AUT",
          "CountryName": "Austria",
          "Total Population": 7586115,
          "Urban population (% of total)": 65.321,
          "Year": 1973,
          "index": 3190
         },
         {
          "CountryCode": "AZE",
          "CountryName": "Azerbaijan",
          "Total Population": 5496061,
          "Urban population (% of total)": 51.371,
          "Year": 1973,
          "index": 3191
         },
         {
          "CountryCode": "BHS",
          "CountryName": "Bahamas, The",
          "Total Population": 181489,
          "Urban population (% of total)": 68.738,
          "Year": 1973,
          "index": 3192
         },
         {
          "CountryCode": "BHR",
          "CountryName": "Bahrain",
          "Total Population": 239860,
          "Urban population (% of total)": 84.504,
          "Year": 1973,
          "index": 3193
         },
         {
          "CountryCode": "BGD",
          "CountryName": "Bangladesh",
          "Total Population": 68658472,
          "Urban population (% of total)": 8.553,
          "Year": 1973,
          "index": 3194
         },
         {
          "CountryCode": "BRB",
          "CountryName": "Barbados",
          "Total Population": 242980,
          "Urban population (% of total)": 38.186,
          "Year": 1973,
          "index": 3195
         },
         {
          "CountryCode": "BLR",
          "CountryName": "Belarus",
          "Total Population": 9257272,
          "Urban population (% of total)": 48.046,
          "Year": 1973,
          "index": 3196
         },
         {
          "CountryCode": "BEL",
          "CountryName": "Belgium",
          "Total Population": 9741720,
          "Urban population (% of total)": 94.233,
          "Year": 1973,
          "index": 3197
         },
         {
          "CountryCode": "BLZ",
          "CountryName": "Belize",
          "Total Population": 129294,
          "Urban population (% of total)": 50.488,
          "Year": 1973,
          "index": 3198
         },
         {
          "CountryCode": "BEN",
          "CountryName": "Benin",
          "Total Population": 3110074,
          "Urban population (% of total)": 19.689,
          "Year": 1973,
          "index": 3199
         },
         {
          "CountryCode": "BMU",
          "CountryName": "Bermuda",
          "Total Population": 53800,
          "Urban population (% of total)": 100,
          "Year": 1973,
          "index": 3200
         },
         {
          "CountryCode": "BTN",
          "CountryName": "Bhutan",
          "Total Population": 324465,
          "Urban population (% of total)": 7.11,
          "Year": 1973,
          "index": 3201
         },
         {
          "CountryCode": "BOL",
          "CountryName": "Bolivia",
          "Total Population": 4798510,
          "Urban population (% of total)": 40.696,
          "Year": 1973,
          "index": 3202
         },
         {
          "CountryCode": "BIH",
          "CountryName": "Bosnia and Herzegovina",
          "Total Population": 3885229,
          "Urban population (% of total)": 29.666,
          "Year": 1973,
          "index": 3203
         },
         {
          "CountryCode": "BWA",
          "CountryName": "Botswana",
          "Total Population": 765177,
          "Urban population (% of total)": 10.381,
          "Year": 1973,
          "index": 3204
         },
         {
          "CountryCode": "BRA",
          "CountryName": "Brazil",
          "Total Population": 103320787,
          "Urban population (% of total)": 58.855,
          "Year": 1973,
          "index": 3205
         },
         {
          "CountryCode": "BRN",
          "CountryName": "Brunei Darussalam",
          "Total Population": 148067,
          "Urban population (% of total)": 62.823,
          "Year": 1973,
          "index": 3206
         },
         {
          "CountryCode": "BGR",
          "CountryName": "Bulgaria",
          "Total Population": 8620967,
          "Urban population (% of total)": 55.471,
          "Year": 1973,
          "index": 3207
         },
         {
          "CountryCode": "BFA",
          "CountryName": "Burkina Faso",
          "Total Population": 5930487,
          "Urban population (% of total)": 6.1,
          "Year": 1973,
          "index": 3208
         },
         {
          "CountryCode": "BDI",
          "CountryName": "Burundi",
          "Total Population": 3582952,
          "Urban population (% of total)": 3.236,
          "Year": 1973,
          "index": 3209
         },
         {
          "CountryCode": "CPV",
          "CountryName": "Cabo Verde",
          "Total Population": 273211,
          "Urban population (% of total)": 20.649,
          "Year": 1973,
          "index": 3210
         },
         {
          "CountryCode": "KHM",
          "CountryName": "Cambodia",
          "Total Population": 7478147,
          "Urban population (% of total)": 25.263,
          "Year": 1973,
          "index": 3211
         },
         {
          "CountryCode": "CMR",
          "CountryName": "Cameroon",
          "Total Population": 7327874,
          "Urban population (% of total)": 24.324,
          "Year": 1973,
          "index": 3212
         },
         {
          "CountryCode": "CAN",
          "CountryName": "Canada",
          "Total Population": 22369408,
          "Urban population (% of total)": 75.851,
          "Year": 1973,
          "index": 3213
         },
         {
          "CountryCode": "CYM",
          "CountryName": "Cayman Islands",
          "Total Population": 10785,
          "Urban population (% of total)": 100,
          "Year": 1973,
          "index": 3214
         },
         {
          "CountryCode": "CAF",
          "CountryName": "Central African Republic",
          "Total Population": 1937383,
          "Urban population (% of total)": 30.133,
          "Year": 1973,
          "index": 3215
         },
         {
          "CountryCode": "TCD",
          "CountryName": "Chad",
          "Total Population": 3908729,
          "Urban population (% of total)": 13.882,
          "Year": 1973,
          "index": 3216
         },
         {
          "CountryCode": "CHI",
          "CountryName": "Channel Islands",
          "Total Population": 124728,
          "Urban population (% of total)": 34.989,
          "Year": 1973,
          "index": 3217
         },
         {
          "CountryCode": "CHL",
          "CountryName": "Chile",
          "Total Population": 10087377,
          "Urban population (% of total)": 77.159,
          "Year": 1973,
          "index": 3218
         },
         {
          "CountryCode": "CHN",
          "CountryName": "China",
          "Total Population": 881940000,
          "Urban population (% of total)": 17.184,
          "Year": 1973,
          "index": 3219
         },
         {
          "CountryCode": "COL",
          "CountryName": "Colombia",
          "Total Population": 23674505,
          "Urban population (% of total)": 57.075,
          "Year": 1973,
          "index": 3220
         },
         {
          "CountryCode": "COM",
          "CountryName": "Comoros",
          "Total Population": 242875,
          "Urban population (% of total)": 20.484,
          "Year": 1973,
          "index": 3221
         },
         {
          "CountryCode": "ZAR",
          "CountryName": "Congo, Dem. Rep.",
          "Total Population": 21690604,
          "Urban population (% of total)": 25.331,
          "Year": 1973,
          "index": 3222
         },
         {
          "CountryCode": "COG",
          "CountryName": "Congo, Rep.",
          "Total Population": 1464052,
          "Urban population (% of total)": 41.514,
          "Year": 1973,
          "index": 3223
         },
         {
          "CountryCode": "CRI",
          "CountryName": "Costa Rica",
          "Total Population": 1995744,
          "Urban population (% of total)": 40.655,
          "Year": 1973,
          "index": 3224
         },
         {
          "CountryCode": "CIV",
          "CountryName": "Cote d'Ivoire",
          "Total Population": 6021405,
          "Urban population (% of total)": 30.513,
          "Year": 1973,
          "index": 3225
         },
         {
          "CountryCode": "HRV",
          "CountryName": "Croatia",
          "Total Population": 4478000,
          "Urban population (% of total)": 43.173,
          "Year": 1973,
          "index": 3226
         },
         {
          "CountryCode": "CUB",
          "CountryName": "Cuba",
          "Total Population": 9176051,
          "Urban population (% of total)": 62.614,
          "Year": 1973,
          "index": 3227
         },
         {
          "CountryCode": "CUW",
          "CountryName": "Curacao",
          "Total Population": 146912,
          "Urban population (% of total)": 79.488,
          "Year": 1973,
          "index": 3228
         },
         {
          "CountryCode": "CYP",
          "CountryName": "Cyprus",
          "Total Population": 635109,
          "Urban population (% of total)": 42.757,
          "Year": 1973,
          "index": 3229
         },
         {
          "CountryCode": "CZE",
          "CountryName": "Czech Republic",
          "Total Population": 9922266,
          "Urban population (% of total)": 67.649,
          "Year": 1973,
          "index": 3230
         },
         {
          "CountryCode": "DNK",
          "CountryName": "Denmark",
          "Total Population": 5021861,
          "Urban population (% of total)": 81.211,
          "Year": 1973,
          "index": 3231
         },
         {
          "CountryCode": "DJI",
          "CountryName": "Djibouti",
          "Total Population": 190536,
          "Urban population (% of total)": 65.04,
          "Year": 1973,
          "index": 3232
         },
         {
          "CountryCode": "DMA",
          "CountryName": "Dominica",
          "Total Population": 71745,
          "Urban population (% of total)": 41.061,
          "Year": 1973,
          "index": 3233
         },
         {
          "CountryCode": "DOM",
          "CountryName": "Dominican Republic",
          "Total Population": 4889437,
          "Urban population (% of total)": 43.478,
          "Year": 1973,
          "index": 3234
         },
         {
          "CountryCode": "ECU",
          "CountryName": "Ecuador",
          "Total Population": 6611916,
          "Urban population (% of total)": 40.892,
          "Year": 1973,
          "index": 3235
         },
         {
          "CountryCode": "EGY",
          "CountryName": "Egypt, Arab Rep.",
          "Total Population": 37046807,
          "Urban population (% of total)": 42.563,
          "Year": 1973,
          "index": 3236
         },
         {
          "CountryCode": "SLV",
          "CountryName": "El Salvador",
          "Total Population": 3958616,
          "Urban population (% of total)": 40.503,
          "Year": 1973,
          "index": 3237
         },
         {
          "CountryCode": "GNQ",
          "CountryName": "Equatorial Guinea",
          "Total Population": 262399,
          "Urban population (% of total)": 27.227,
          "Year": 1973,
          "index": 3238
         },
         {
          "CountryCode": "ERI",
          "CountryName": "Eritrea",
          "Total Population": 1958444,
          "Urban population (% of total)": 13.104,
          "Year": 1973,
          "index": 3239
         },
         {
          "CountryCode": "EST",
          "CountryName": "Estonia",
          "Total Population": 1405951,
          "Urban population (% of total)": 66.545,
          "Year": 1973,
          "index": 3240
         },
         {
          "CountryCode": "ETH",
          "CountryName": "Ethiopia",
          "Total Population": 31028728,
          "Urban population (% of total)": 9.102,
          "Year": 1973,
          "index": 3241
         },
         {
          "CountryCode": "FRO",
          "CountryName": "Faeroe Islands",
          "Total Population": 39731,
          "Urban population (% of total)": 29.362,
          "Year": 1973,
          "index": 3242
         },
         {
          "CountryCode": "FJI",
          "CountryName": "Fiji",
          "Total Population": 554109,
          "Urban population (% of total)": 35.93,
          "Year": 1973,
          "index": 3243
         },
         {
          "CountryCode": "FIN",
          "CountryName": "Finland",
          "Total Population": 4666081,
          "Urban population (% of total)": 66.197,
          "Year": 1973,
          "index": 3244
         },
         {
          "CountryCode": "FRA",
          "CountryName": "France",
          "Total Population": 53441264,
          "Urban population (% of total)": 72.256,
          "Year": 1973,
          "index": 3245
         },
         {
          "CountryCode": "PYF",
          "CountryName": "French Polynesia",
          "Total Population": 122355,
          "Urban population (% of total)": 57.231,
          "Year": 1973,
          "index": 3246
         },
         {
          "CountryCode": "GAB",
          "CountryName": "Gabon",
          "Total Population": 624625,
          "Urban population (% of total)": 38.43,
          "Year": 1973,
          "index": 3247
         },
         {
          "CountryCode": "GMB",
          "CountryName": "Gambia, The",
          "Total Population": 489860,
          "Urban population (% of total)": 22.941,
          "Year": 1973,
          "index": 3248
         },
         {
          "CountryCode": "GEO",
          "CountryName": "Georgia",
          "Total Population": 4242500,
          "Urban population (% of total)": 49.409,
          "Year": 1973,
          "index": 3249
         },
         {
          "CountryCode": "DEU",
          "CountryName": "Germany",
          "Total Population": 78936666,
          "Urban population (% of total)": 72.446,
          "Year": 1973,
          "index": 3250
         },
         {
          "CountryCode": "GHA",
          "CountryName": "Ghana",
          "Total Population": 9350111,
          "Urban population (% of total)": 29.61,
          "Year": 1973,
          "index": 3251
         },
         {
          "CountryCode": "GRC",
          "CountryName": "Greece",
          "Total Population": 8929086,
          "Urban population (% of total)": 65.952,
          "Year": 1973,
          "index": 3252
         },
         {
          "CountryCode": "GRL",
          "CountryName": "Greenland",
          "Total Population": 49000,
          "Urban population (% of total)": 73.914,
          "Year": 1973,
          "index": 3253
         },
         {
          "CountryCode": "GRD",
          "CountryName": "Grenada",
          "Total Population": 93629,
          "Urban population (% of total)": 32.424,
          "Year": 1973,
          "index": 3254
         },
         {
          "CountryCode": "GUM",
          "CountryName": "Guam",
          "Total Population": 89463,
          "Urban population (% of total)": 76.371,
          "Year": 1973,
          "index": 3255
         },
         {
          "CountryCode": "GTM",
          "CountryName": "Guatemala",
          "Total Population": 5901980,
          "Urban population (% of total)": 36.446,
          "Year": 1973,
          "index": 3256
         },
         {
          "CountryCode": "GIN",
          "CountryName": "Guinea",
          "Total Population": 4319502,
          "Urban population (% of total)": 18.033,
          "Year": 1973,
          "index": 3257
         },
         {
          "CountryCode": "GNB",
          "CountryName": "Guinea-Bissau",
          "Total Population": 751512,
          "Urban population (% of total)": 15.618,
          "Year": 1973,
          "index": 3258
         },
         {
          "CountryCode": "GUY",
          "CountryName": "Guyana",
          "Total Population": 720919,
          "Urban population (% of total)": 29.75,
          "Year": 1973,
          "index": 3259
         },
         {
          "CountryCode": "HTI",
          "CountryName": "Haiti",
          "Total Population": 4960655,
          "Urban population (% of total)": 20.35,
          "Year": 1973,
          "index": 3260
         },
         {
          "CountryCode": "HND",
          "CountryName": "Honduras",
          "Total Population": 2928190,
          "Urban population (% of total)": 30.93,
          "Year": 1973,
          "index": 3261
         },
         {
          "CountryCode": "HKG",
          "CountryName": "Hong Kong SAR, China",
          "Total Population": 4241600,
          "Urban population (% of total)": 88.894,
          "Year": 1973,
          "index": 3262
         },
         {
          "CountryCode": "HUN",
          "CountryName": "Hungary",
          "Total Population": 10432055,
          "Urban population (% of total)": 61.388,
          "Year": 1973,
          "index": 3263
         },
         {
          "CountryCode": "ISL",
          "CountryName": "Iceland",
          "Total Population": 212317,
          "Urban population (% of total)": 85.983,
          "Year": 1973,
          "index": 3264
         },
         {
          "CountryCode": "IND",
          "CountryName": "India",
          "Total Population": 593451889,
          "Urban population (% of total)": 20.653,
          "Year": 1973,
          "index": 3265
         },
         {
          "CountryCode": "IDN",
          "CountryName": "Indonesia",
          "Total Population": 124242299,
          "Urban population (% of total)": 18.28,
          "Year": 1973,
          "index": 3266
         },
         {
          "CountryCode": "IRN",
          "CountryName": "Iran, Islamic Rep.",
          "Total Population": 30903565,
          "Urban population (% of total)": 43.92,
          "Year": 1973,
          "index": 3267
         },
         {
          "CountryCode": "IRQ",
          "CountryName": "Iraq",
          "Total Population": 10951169,
          "Urban population (% of total)": 59.313,
          "Year": 1973,
          "index": 3268
         },
         {
          "CountryCode": "IRL",
          "CountryName": "Ireland",
          "Total Population": 3085950,
          "Urban population (% of total)": 52.952,
          "Year": 1973,
          "index": 3269
         },
         {
          "CountryCode": "IMY",
          "CountryName": "Isle of Man",
          "Total Population": 59326,
          "Urban population (% of total)": 53.983,
          "Year": 1973,
          "index": 3270
         },
         {
          "CountryCode": "ISR",
          "CountryName": "Israel",
          "Total Population": 3278000,
          "Urban population (% of total)": 85.793,
          "Year": 1973,
          "index": 3271
         },
         {
          "CountryCode": "ITA",
          "CountryName": "Italy",
          "Total Population": 54751406,
          "Urban population (% of total)": 65.241,
          "Year": 1973,
          "index": 3272
         },
         {
          "CountryCode": "JAM",
          "CountryName": "Jamaica",
          "Total Population": 1956080,
          "Urban population (% of total)": 42.933,
          "Year": 1973,
          "index": 3273
         },
         {
          "CountryCode": "JPN",
          "CountryName": "Japan",
          "Total Population": 108079000,
          "Urban population (% of total)": 74.22,
          "Year": 1973,
          "index": 3274
         },
         {
          "CountryCode": "JOR",
          "CountryName": "Jordan",
          "Total Population": 1689934,
          "Urban population (% of total)": 56.98,
          "Year": 1973,
          "index": 3275
         },
         {
          "CountryCode": "KAZ",
          "CountryName": "Kazakhstan",
          "Total Population": 13382211,
          "Urban population (% of total)": 51.785,
          "Year": 1973,
          "index": 3276
         },
         {
          "CountryCode": "KEN",
          "CountryName": "Kenya",
          "Total Population": 12529810,
          "Urban population (% of total)": 11.805,
          "Year": 1973,
          "index": 3277
         },
         {
          "CountryCode": "KIR",
          "CountryName": "Kiribati",
          "Total Population": 53605,
          "Urban population (% of total)": 27.997,
          "Year": 1973,
          "index": 3278
         },
         {
          "CountryCode": "PRK",
          "CountryName": "Korea, Dem. Rep.",
          "Total Population": 15603001,
          "Urban population (% of total)": 55.703,
          "Year": 1973,
          "index": 3279
         },
         {
          "CountryCode": "KOR",
          "CountryName": "Korea, Rep.",
          "Total Population": 34103149,
          "Urban population (% of total)": 45.131,
          "Year": 1973,
          "index": 3280
         },
         {
          "CountryCode": "KWT",
          "CountryName": "Kuwait",
          "Total Population": 926817,
          "Urban population (% of total)": 87.902,
          "Year": 1973,
          "index": 3281
         },
         {
          "CountryCode": "KGZ",
          "CountryName": "Kyrgyz Republic",
          "Total Population": 3153800,
          "Urban population (% of total)": 37.897,
          "Year": 1973,
          "index": 3282
         },
         {
          "CountryCode": "LAO",
          "CountryName": "Lao PDR",
          "Total Population": 2916148,
          "Urban population (% of total)": 10.597,
          "Year": 1973,
          "index": 3283
         },
         {
          "CountryCode": "LVA",
          "CountryName": "Latvia",
          "Total Population": 2415819,
          "Urban population (% of total)": 62.805,
          "Year": 1973,
          "index": 3284
         },
         {
          "CountryCode": "LBN",
          "CountryName": "Lebanon",
          "Total Population": 2480426,
          "Urban population (% of total)": 64.072,
          "Year": 1973,
          "index": 3285
         },
         {
          "CountryCode": "LSO",
          "CountryName": "Lesotho",
          "Total Population": 1098033,
          "Urban population (% of total)": 9.905,
          "Year": 1973,
          "index": 3286
         },
         {
          "CountryCode": "LBR",
          "CountryName": "Liberia",
          "Total Population": 1538882,
          "Urban population (% of total)": 28.581,
          "Year": 1973,
          "index": 3287
         },
         {
          "CountryCode": "LBY",
          "CountryName": "Libya",
          "Total Population": 2409101,
          "Urban population (% of total)": 59.528,
          "Year": 1973,
          "index": 3288
         },
         {
          "CountryCode": "LIE",
          "CountryName": "Liechtenstein",
          "Total Population": 22562,
          "Urban population (% of total)": 18.344,
          "Year": 1973,
          "index": 3289
         },
         {
          "CountryCode": "LTU",
          "CountryName": "Lithuania",
          "Total Population": 3244438,
          "Urban population (% of total)": 53.21,
          "Year": 1973,
          "index": 3290
         },
         {
          "CountryCode": "LUX",
          "CountryName": "Luxembourg",
          "Total Population": 350450,
          "Urban population (% of total)": 76.127,
          "Year": 1973,
          "index": 3291
         },
         {
          "CountryCode": "MAC",
          "CountryName": "Macao SAR, China",
          "Total Population": 252845,
          "Urban population (% of total)": 97.573,
          "Year": 1973,
          "index": 3292
         },
         {
          "CountryCode": "MKD",
          "CountryName": "Macedonia, FYR",
          "Total Population": 1768996,
          "Urban population (% of total)": 49.407,
          "Year": 1973,
          "index": 3293
         },
         {
          "CountryCode": "MDG",
          "CountryName": "Madagascar",
          "Total Population": 7152391,
          "Urban population (% of total)": 15.411,
          "Year": 1973,
          "index": 3294
         },
         {
          "CountryCode": "MWI",
          "CountryName": "Malawi",
          "Total Population": 4996861,
          "Urban population (% of total)": 6.97,
          "Year": 1973,
          "index": 3295
         },
         {
          "CountryCode": "MYS",
          "CountryName": "Malaysia",
          "Total Population": 11741849,
          "Urban population (% of total)": 35.944,
          "Year": 1973,
          "index": 3296
         },
         {
          "CountryCode": "MDV",
          "CountryName": "Maldives",
          "Total Population": 127717,
          "Urban population (% of total)": 14.936,
          "Year": 1973,
          "index": 3297
         },
         {
          "CountryCode": "MLI",
          "CountryName": "Mali",
          "Total Population": 6256192,
          "Urban population (% of total)": 15.454,
          "Year": 1973,
          "index": 3298
         },
         {
          "CountryCode": "MLT",
          "CountryName": "Malta",
          "Total Population": 302200,
          "Urban population (% of total)": 89.725,
          "Year": 1973,
          "index": 3299
         },
         {
          "CountryCode": "MHL",
          "CountryName": "Marshall Islands",
          "Total Population": 23440,
          "Urban population (% of total)": 61.212,
          "Year": 1973,
          "index": 3300
         },
         {
          "CountryCode": "MRT",
          "CountryName": "Mauritania",
          "Total Population": 1253839,
          "Urban population (% of total)": 17.971,
          "Year": 1973,
          "index": 3301
         },
         {
          "CountryCode": "MUS",
          "CountryName": "Mauritius",
          "Total Population": 864819,
          "Urban population (% of total)": 43.881,
          "Year": 1973,
          "index": 3302
         },
         {
          "CountryCode": "MEX",
          "CountryName": "Mexico",
          "Total Population": 57283361,
          "Urban population (% of total)": 61.279,
          "Year": 1973,
          "index": 3303
         },
         {
          "CountryCode": "FSM",
          "CountryName": "Micronesia, Fed. Sts.",
          "Total Population": 62289,
          "Urban population (% of total)": 25.593,
          "Year": 1973,
          "index": 3304
         },
         {
          "CountryCode": "MDA",
          "CountryName": "Moldova",
          "Total Population": 3174000,
          "Urban population (% of total)": 34.531,
          "Year": 1973,
          "index": 3305
         },
         {
          "CountryCode": "MCO",
          "CountryName": "Monaco",
          "Total Population": 24440,
          "Urban population (% of total)": 100,
          "Year": 1973,
          "index": 3306
         },
         {
          "CountryCode": "MNG",
          "CountryName": "Mongolia",
          "Total Population": 1397305,
          "Urban population (% of total)": 47.211,
          "Year": 1973,
          "index": 3307
         },
         {
          "CountryCode": "MNE",
          "CountryName": "Montenegro",
          "Total Population": 539682,
          "Urban population (% of total)": 29.659,
          "Year": 1973,
          "index": 3308
         },
         {
          "CountryCode": "MAR",
          "CountryName": "Morocco",
          "Total Population": 17097003,
          "Urban population (% of total)": 36.349,
          "Year": 1973,
          "index": 3309
         },
         {
          "CountryCode": "MOZ",
          "CountryName": "Mozambique",
          "Total Population": 9901052,
          "Urban population (% of total)": 8.397,
          "Year": 1973,
          "index": 3310
         },
         {
          "CountryCode": "MMR",
          "CountryName": "Myanmar",
          "Total Population": 29209686,
          "Urban population (% of total)": 23.903,
          "Year": 1973,
          "index": 3311
         },
         {
          "CountryCode": "NAM",
          "CountryName": "Namibia",
          "Total Population": 855965,
          "Urban population (% of total)": 23.1,
          "Year": 1973,
          "index": 3312
         },
         {
          "CountryCode": "NPL",
          "CountryName": "Nepal",
          "Total Population": 12753028,
          "Urban population (% of total)": 4.399,
          "Year": 1973,
          "index": 3313
         },
         {
          "CountryCode": "NLD",
          "CountryName": "Netherlands",
          "Total Population": 13439322,
          "Urban population (% of total)": 62.55,
          "Year": 1973,
          "index": 3314
         },
         {
          "CountryCode": "NCL",
          "CountryName": "New Caledonia",
          "Total Population": 128500,
          "Urban population (% of total)": 53.597,
          "Year": 1973,
          "index": 3315
         },
         {
          "CountryCode": "NZL",
          "CountryName": "New Zealand",
          "Total Population": 2961300,
          "Urban population (% of total)": 82.141,
          "Year": 1973,
          "index": 3316
         },
         {
          "CountryCode": "NIC",
          "CountryName": "Nicaragua",
          "Total Population": 2629503,
          "Urban population (% of total)": 48.257,
          "Year": 1973,
          "index": 3317
         },
         {
          "CountryCode": "NER",
          "CountryName": "Niger",
          "Total Population": 4887484,
          "Urban population (% of total)": 10.296,
          "Year": 1973,
          "index": 3318
         },
         {
          "CountryCode": "NGA",
          "CountryName": "Nigeria",
          "Total Population": 60285453,
          "Urban population (% of total)": 18.952,
          "Year": 1973,
          "index": 3319
         },
         {
          "CountryCode": "MNP",
          "CountryName": "Northern Mariana Islands",
          "Total Population": 14605,
          "Urban population (% of total)": 77.28,
          "Year": 1973,
          "index": 3320
         },
         {
          "CountryCode": "NOR",
          "CountryName": "Norway",
          "Total Population": 3960612,
          "Urban population (% of total)": 67.216,
          "Year": 1973,
          "index": 3321
         },
         {
          "CountryCode": "OMN",
          "CountryName": "Oman",
          "Total Population": 806989,
          "Urban population (% of total)": 34.669,
          "Year": 1973,
          "index": 3322
         },
         {
          "CountryCode": "PAK",
          "CountryName": "Pakistan",
          "Total Population": 63062204,
          "Urban population (% of total)": 25.671,
          "Year": 1973,
          "index": 3323
         },
         {
          "CountryCode": "PLW",
          "CountryName": "Palau",
          "Total Population": 12045,
          "Urban population (% of total)": 60.571,
          "Year": 1973,
          "index": 3324
         },
         {
          "CountryCode": "PAN",
          "CountryName": "Panama",
          "Total Population": 1653257,
          "Urban population (% of total)": 48.479,
          "Year": 1973,
          "index": 3325
         },
         {
          "CountryCode": "PNG",
          "CountryName": "Papua New Guinea",
          "Total Population": 2652586,
          "Urban population (% of total)": 11.507,
          "Year": 1973,
          "index": 3326
         },
         {
          "CountryCode": "PRY",
          "CountryName": "Paraguay",
          "Total Population": 2659084,
          "Urban population (% of total)": 37.916,
          "Year": 1973,
          "index": 3327
         },
         {
          "CountryCode": "PER",
          "CountryName": "Peru",
          "Total Population": 14447649,
          "Urban population (% of total)": 60.188,
          "Year": 1973,
          "index": 3328
         },
         {
          "CountryCode": "PHL",
          "CountryName": "Philippines",
          "Total Population": 39026082,
          "Urban population (% of total)": 34.533,
          "Year": 1973,
          "index": 3329
         },
         {
          "CountryCode": "POL",
          "CountryName": "Poland",
          "Total Population": 33357200,
          "Urban population (% of total)": 53.977,
          "Year": 1973,
          "index": 3330
         },
         {
          "CountryCode": "PRT",
          "CountryName": "Portugal",
          "Total Population": 8633100,
          "Urban population (% of total)": 39.985,
          "Year": 1973,
          "index": 3331
         },
         {
          "CountryCode": "PRI",
          "CountryName": "Puerto Rico",
          "Total Population": 2878786,
          "Urban population (% of total)": 61.014,
          "Year": 1973,
          "index": 3332
         },
         {
          "CountryCode": "QAT",
          "CountryName": "Qatar",
          "Total Population": 142111,
          "Urban population (% of total)": 88.755,
          "Year": 1973,
          "index": 3333
         },
         {
          "CountryCode": "ROM",
          "CountryName": "Romania",
          "Total Population": 20835681,
          "Urban population (% of total)": 41.821,
          "Year": 1973,
          "index": 3334
         },
         {
          "CountryCode": "RUS",
          "CountryName": "Russian Federation",
          "Total Population": 132669000,
          "Urban population (% of total)": 64.869,
          "Year": 1973,
          "index": 3335
         },
         {
          "CountryCode": "RWA",
          "CountryName": "Rwanda",
          "Total Population": 4102336,
          "Urban population (% of total)": 3.652,
          "Year": 1973,
          "index": 3336
         },
         {
          "CountryCode": "WSM",
          "CountryName": "Samoa",
          "Total Population": 148889,
          "Urban population (% of total)": 20.832,
          "Year": 1973,
          "index": 3337
         },
         {
          "CountryCode": "SMR",
          "CountryName": "San Marino",
          "Total Population": 19467,
          "Urban population (% of total)": 67.046,
          "Year": 1973,
          "index": 3338
         },
         {
          "CountryCode": "STP",
          "CountryName": "Sao Tome and Principe",
          "Total Population": 79026,
          "Urban population (% of total)": 30.917,
          "Year": 1973,
          "index": 3339
         },
         {
          "CountryCode": "SAU",
          "CountryName": "Saudi Arabia",
          "Total Population": 6697486,
          "Urban population (% of total)": 54.712,
          "Year": 1973,
          "index": 3340
         },
         {
          "CountryCode": "SEN",
          "CountryName": "Senegal",
          "Total Population": 4625377,
          "Urban population (% of total)": 32.189,
          "Year": 1973,
          "index": 3341
         },
         {
          "CountryCode": "SYC",
          "CountryName": "Seychelles",
          "Total Population": 57284,
          "Urban population (% of total)": 43.277,
          "Year": 1973,
          "index": 3342
         },
         {
          "CountryCode": "SLE",
          "CountryName": "Sierra Leone",
          "Total Population": 2656380,
          "Urban population (% of total)": 26.321,
          "Year": 1973,
          "index": 3343
         },
         {
          "CountryCode": "SGP",
          "CountryName": "Singapore",
          "Total Population": 2193000,
          "Urban population (% of total)": 100,
          "Year": 1973,
          "index": 3344
         },
         {
          "CountryCode": "SVK",
          "CountryName": "Slovak Republic",
          "Total Population": 4641445,
          "Urban population (% of total)": 44.122,
          "Year": 1973,
          "index": 3345
         },
         {
          "CountryCode": "SVN",
          "CountryName": "Slovenia",
          "Total Population": 1766697,
          "Urban population (% of total)": 40.153,
          "Year": 1973,
          "index": 3346
         },
         {
          "CountryCode": "SLB",
          "CountryName": "Solomon Islands",
          "Total Population": 179354,
          "Urban population (% of total)": 9.041,
          "Year": 1973,
          "index": 3347
         },
         {
          "CountryCode": "SOM",
          "CountryName": "Somalia",
          "Total Population": 3526527,
          "Urban population (% of total)": 24.427,
          "Year": 1973,
          "index": 3348
         },
         {
          "CountryCode": "ZAF",
          "CountryName": "South Africa",
          "Total Population": 23655908,
          "Urban population (% of total)": 47.989,
          "Year": 1973,
          "index": 3349
         },
         {
          "CountryCode": "SSD",
          "CountryName": "South Sudan",
          "Total Population": 3917450,
          "Urban population (% of total)": 8.599,
          "Year": 1973,
          "index": 3350
         },
         {
          "CountryCode": "ESP",
          "CountryName": "Spain",
          "Total Population": 34817071,
          "Urban population (% of total)": 68.224,
          "Year": 1973,
          "index": 3351
         },
         {
          "CountryCode": "LKA",
          "CountryName": "Sri Lanka",
          "Total Population": 13091000,
          "Urban population (% of total)": 19.77,
          "Year": 1973,
          "index": 3352
         },
         {
          "CountryCode": "KNA",
          "CountryName": "St. Kitts and Nevis",
          "Total Population": 44314,
          "Urban population (% of total)": 34.672,
          "Year": 1973,
          "index": 3353
         },
         {
          "CountryCode": "LCA",
          "CountryName": "St. Lucia",
          "Total Population": 107461,
          "Urban population (% of total)": 24.677,
          "Year": 1973,
          "index": 3354
         },
         {
          "CountryCode": "VCT",
          "CountryName": "St. Vincent and the Grenadines",
          "Total Population": 93516,
          "Urban population (% of total)": 32.195,
          "Year": 1973,
          "index": 3355
         },
         {
          "CountryCode": "SDN",
          "CountryName": "Sudan",
          "Total Population": 11283574,
          "Urban population (% of total)": 18.548,
          "Year": 1973,
          "index": 3356
         },
         {
          "CountryCode": "SUR",
          "CountryName": "Suriname",
          "Total Population": 368342,
          "Urban population (% of total)": 49.087,
          "Year": 1973,
          "index": 3357
         },
         {
          "CountryCode": "SWZ",
          "CountryName": "Swaziland",
          "Total Population": 486656,
          "Urban population (% of total)": 12.12,
          "Year": 1973,
          "index": 3358
         },
         {
          "CountryCode": "SWE",
          "CountryName": "Sweden",
          "Total Population": 8136312,
          "Urban population (% of total)": 82.203,
          "Year": 1973,
          "index": 3359
         },
         {
          "CountryCode": "CHE",
          "CountryName": "Switzerland",
          "Total Population": 6307347,
          "Urban population (% of total)": 57.483,
          "Year": 1973,
          "index": 3360
         },
         {
          "CountryCode": "SYR",
          "CountryName": "Syrian Arab Republic",
          "Total Population": 7066474,
          "Urban population (% of total)": 44.405,
          "Year": 1973,
          "index": 3361
         },
         {
          "CountryCode": "TJK",
          "CountryName": "Tajikistan",
          "Total Population": 3212446,
          "Urban population (% of total)": 36.07,
          "Year": 1973,
          "index": 3362
         },
         {
          "CountryCode": "TZA",
          "CountryName": "Tanzania",
          "Total Population": 14984973,
          "Urban population (% of total)": 9.704,
          "Year": 1973,
          "index": 3363
         },
         {
          "CountryCode": "THA",
          "CountryName": "Thailand",
          "Total Population": 40164969,
          "Urban population (% of total)": 22.579,
          "Year": 1973,
          "index": 3364
         },
         {
          "CountryCode": "TMP",
          "CountryName": "Timor-Leste",
          "Total Population": 652017,
          "Urban population (% of total)": 13.889,
          "Year": 1973,
          "index": 3365
         },
         {
          "CountryCode": "TGO",
          "CountryName": "Togo",
          "Total Population": 2303345,
          "Urban population (% of total)": 22.258,
          "Year": 1973,
          "index": 3366
         },
         {
          "CountryCode": "TON",
          "CountryName": "Tonga",
          "Total Population": 86985,
          "Urban population (% of total)": 20.277,
          "Year": 1973,
          "index": 3367
         },
         {
          "CountryCode": "TTO",
          "CountryName": "Trinidad and Tobago",
          "Total Population": 982594,
          "Urban population (% of total)": 11.571,
          "Year": 1973,
          "index": 3368
         },
         {
          "CountryCode": "TUN",
          "CountryName": "Tunisia",
          "Total Population": 5388709,
          "Urban population (% of total)": 45.959,
          "Year": 1973,
          "index": 3369
         },
         {
          "CountryCode": "TUR",
          "CountryName": "Turkey",
          "Total Population": 37366922,
          "Urban population (% of total)": 40.258,
          "Year": 1973,
          "index": 3370
         },
         {
          "CountryCode": "TKM",
          "CountryName": "Turkmenistan",
          "Total Population": 2385039,
          "Urban population (% of total)": 47.646,
          "Year": 1973,
          "index": 3371
         },
         {
          "CountryCode": "TCA",
          "CountryName": "Turks and Caicos Islands",
          "Total Population": 6132,
          "Urban population (% of total)": 52.275,
          "Year": 1973,
          "index": 3372
         },
         {
          "CountryCode": "TUV",
          "CountryName": "Tuvalu",
          "Total Population": 7538,
          "Urban population (% of total)": 24.242,
          "Year": 1973,
          "index": 3373
         },
         {
          "CountryCode": "UGA",
          "CountryName": "Uganda",
          "Total Population": 10256342,
          "Urban population (% of total)": 6.887,
          "Year": 1973,
          "index": 3374
         },
         {
          "CountryCode": "UKR",
          "CountryName": "Ukraine",
          "Total Population": 48127170,
          "Urban population (% of total)": 56.987,
          "Year": 1973,
          "index": 3375
         },
         {
          "CountryCode": "ARE",
          "CountryName": "United Arab Emirates",
          "Total Population": 382823,
          "Urban population (% of total)": 79.8,
          "Year": 1973,
          "index": 3376
         },
         {
          "CountryCode": "GBR",
          "CountryName": "United Kingdom",
          "Total Population": 56194527,
          "Urban population (% of total)": 77.358,
          "Year": 1973,
          "index": 3377
         },
         {
          "CountryCode": "USA",
          "CountryName": "United States",
          "Total Population": 211909000,
          "Urban population (% of total)": 73.633,
          "Year": 1973,
          "index": 3378
         },
         {
          "CountryCode": "URY",
          "CountryName": "Uruguay",
          "Total Population": 2822084,
          "Urban population (% of total)": 82.97,
          "Year": 1973,
          "index": 3379
         },
         {
          "CountryCode": "UZB",
          "CountryName": "Uzbekistan",
          "Total Population": 13170848,
          "Urban population (% of total)": 38.131,
          "Year": 1973,
          "index": 3380
         },
         {
          "CountryCode": "VUT",
          "CountryName": "Vanuatu",
          "Total Population": 93761,
          "Urban population (% of total)": 12.958,
          "Year": 1973,
          "index": 3381
         },
         {
          "CountryCode": "VEN",
          "CountryName": "Venezuela, RB",
          "Total Population": 12636971,
          "Urban population (% of total)": 74.325,
          "Year": 1973,
          "index": 3382
         },
         {
          "CountryCode": "VNM",
          "CountryName": "Vietnam",
          "Total Population": 45825000,
          "Urban population (% of total)": 18.588,
          "Year": 1973,
          "index": 3383
         },
         {
          "CountryCode": "VIR",
          "CountryName": "Virgin Islands (U.S.)",
          "Total Population": 84000,
          "Urban population (% of total)": 73.07,
          "Year": 1973,
          "index": 3384
         },
         {
          "CountryCode": "YEM",
          "CountryName": "Yemen, Rep.",
          "Total Population": 6487853,
          "Urban population (% of total)": 14.209,
          "Year": 1973,
          "index": 3385
         },
         {
          "CountryCode": "ZMB",
          "CountryName": "Zambia",
          "Total Population": 4644329,
          "Urban population (% of total)": 33.061,
          "Year": 1973,
          "index": 3386
         },
         {
          "CountryCode": "ZWE",
          "CountryName": "Zimbabwe",
          "Total Population": 5768382,
          "Urban population (% of total)": 18.874,
          "Year": 1973,
          "index": 3387
         },
         {
          "CountryCode": "ARB",
          "CountryName": "Arab World",
          "Total Population": 135862252,
          "Urban population (% of total)": 41.5735827275,
          "Year": 1974,
          "index": 3388
         },
         {
          "CountryCode": "CSS",
          "CountryName": "Caribbean small states",
          "Total Population": 5120227,
          "Urban population (% of total)": 35.7223546356,
          "Year": 1974,
          "index": 3389
         },
         {
          "CountryCode": "CEB",
          "CountryName": "Central Europe and the Baltics",
          "Total Population": 101946256,
          "Urban population (% of total)": 53.6271744473,
          "Year": 1974,
          "index": 3390
         },
         {
          "CountryCode": "EAS",
          "CountryName": "East Asia & Pacific (all income levels)",
          "Total Population": 1415344143,
          "Urban population (% of total)": 25.4548651416,
          "Year": 1974,
          "index": 3391
         },
         {
          "CountryCode": "EAP",
          "CountryName": "East Asia & Pacific (developing only)",
          "Total Population": 1230702590,
          "Urban population (% of total)": 19.2230035728,
          "Year": 1974,
          "index": 3392
         },
         {
          "CountryCode": "EMU",
          "CountryName": "Euro area",
          "Total Population": 294470414,
          "Urban population (% of total)": 68.4819262099,
          "Year": 1974,
          "index": 3393
         },
         {
          "CountryCode": "ECS",
          "CountryName": "Europe & Central Asia (all income levels)",
          "Total Population": 761425089,
          "Urban population (% of total)": 62.597463731,
          "Year": 1974,
          "index": 3394
         },
         {
          "CountryCode": "ECA",
          "CountryName": "Europe & Central Asia (developing only)",
          "Total Population": 194832203,
          "Urban population (% of total)": 47.5011673818,
          "Year": 1974,
          "index": 3395
         },
         {
          "CountryCode": "EUU",
          "CountryName": "European Union",
          "Total Population": 452256892,
          "Urban population (% of total)": 67.1391623895,
          "Year": 1974,
          "index": 3396
         },
         {
          "CountryCode": "FCS",
          "CountryName": "Fragile and conflict affected situations",
          "Total Population": 171243698,
          "Urban population (% of total)": 25.5981053325,
          "Year": 1974,
          "index": 3397
         },
         {
          "CountryCode": "HPC",
          "CountryName": "Heavily indebted poor countries (HIPC)",
          "Total Population": 231695364,
          "Urban population (% of total)": 18.0314767395,
          "Year": 1974,
          "index": 3398
         },
         {
          "CountryCode": "HIC",
          "CountryName": "High income",
          "Total Population": 1058155782,
          "Urban population (% of total)": 70.0950050333,
          "Year": 1974,
          "index": 3399
         },
         {
          "CountryCode": "NOC",
          "CountryName": "High income: nonOECD",
          "Total Population": 224356476,
          "Urban population (% of total)": 67.8498517001,
          "Year": 1974,
          "index": 3400
         },
         {
          "CountryCode": "OEC",
          "CountryName": "High income: OECD",
          "Total Population": 833799306,
          "Urban population (% of total)": 70.6568124382,
          "Year": 1974,
          "index": 3401
         },
         {
          "CountryCode": "LCN",
          "CountryName": "Latin America & Caribbean (all income levels)",
          "Total Population": 317479496,
          "Urban population (% of total)": 59.997324742,
          "Year": 1974,
          "index": 3402
         },
         {
          "CountryCode": "LAC",
          "CountryName": "Latin America & Caribbean (developing only)",
          "Total Population": 260960060,
          "Urban population (% of total)": 56.4494212848,
          "Year": 1974,
          "index": 3403
         },
         {
          "CountryCode": "LDC",
          "CountryName": "Least developed countries: UN classification",
          "Total Population": 339201660,
          "Urban population (% of total)": 14.5642292346,
          "Year": 1974,
          "index": 3404
         },
         {
          "CountryCode": "LMY",
          "CountryName": "Low & middle income",
          "Total Population": 2932819066,
          "Urban population (% of total)": 25.8056521805,
          "Year": 1974,
          "index": 3405
         },
         {
          "CountryCode": "LIC",
          "CountryName": "Low income",
          "Total Population": 219301269,
          "Urban population (% of total)": 17.0843753418,
          "Year": 1974,
          "index": 3406
         },
         {
          "CountryCode": "LMC",
          "CountryName": "Lower middle income",
          "Total Population": 1302556474,
          "Urban population (% of total)": 23.9073350435,
          "Year": 1974,
          "index": 3407
         },
         {
          "CountryCode": "MEA",
          "CountryName": "Middle East & North Africa (all income levels)",
          "Total Population": 154473222,
          "Urban population (% of total)": 45.6491742492,
          "Year": 1974,
          "index": 3408
         },
         {
          "CountryCode": "MNA",
          "CountryName": "Middle East & North Africa (developing only)",
          "Total Population": 141060855,
          "Urban population (% of total)": 43.5592756764,
          "Year": 1974,
          "index": 3409
         },
         {
          "CountryCode": "MIC",
          "CountryName": "Middle income",
          "Total Population": 2713517797,
          "Urban population (% of total)": 26.5108369125,
          "Year": 1974,
          "index": 3410
         },
         {
          "CountryCode": "NAC",
          "CountryName": "North America",
          "Total Population": 236681487,
          "Urban population (% of total)": 73.8498592608,
          "Year": 1974,
          "index": 3411
         },
         {
          "CountryCode": "OED",
          "CountryName": "OECD members",
          "Total Population": 931162502,
          "Urban population (% of total)": 68.8866128556,
          "Year": 1974,
          "index": 3412
         },
         {
          "CountryCode": "OSS",
          "CountryName": "Other small states",
          "Total Population": 8873253,
          "Urban population (% of total)": 22.8809595942,
          "Year": 1974,
          "index": 3413
         },
         {
          "CountryCode": "PSS",
          "CountryName": "Pacific island small states",
          "Total Population": 1247548,
          "Urban population (% of total)": 27.2853626923,
          "Year": 1974,
          "index": 3414
         },
         {
          "CountryCode": "SST",
          "CountryName": "Small states",
          "Total Population": 15241028,
          "Urban population (% of total)": 27.5555499096,
          "Year": 1974,
          "index": 3415
         },
         {
          "CountryCode": "SAS",
          "CountryName": "South Asia",
          "Total Population": 781254784,
          "Urban population (% of total)": 19.9118406886,
          "Year": 1974,
          "index": 3416
         },
         {
          "CountryCode": "SSF",
          "CountryName": "Sub-Saharan Africa (all income levels)",
          "Total Population": 324316627,
          "Urban population (% of total)": 19.664312902,
          "Year": 1974,
          "index": 3417
         },
         {
          "CountryCode": "SSA",
          "CountryName": "Sub-Saharan Africa (developing only)",
          "Total Population": 324008574,
          "Urban population (% of total)": 19.6538867455,
          "Year": 1974,
          "index": 3418
         },
         {
          "CountryCode": "UMC",
          "CountryName": "Upper middle income",
          "Total Population": 1410961323,
          "Urban population (% of total)": 28.9118397396,
          "Year": 1974,
          "index": 3419
         },
         {
          "CountryCode": "WLD",
          "CountryName": "World",
          "Total Population": 3990974848,
          "Urban population (% of total)": 37.4236652324,
          "Year": 1974,
          "index": 3420
         },
         {
          "CountryCode": "AFG",
          "CountryName": "Afghanistan",
          "Total Population": 12315553,
          "Urban population (% of total)": 13.149,
          "Year": 1974,
          "index": 3421
         },
         {
          "CountryCode": "ALB",
          "CountryName": "Albania",
          "Total Population": 2350124,
          "Urban population (% of total)": 32.516,
          "Year": 1974,
          "index": 3422
         },
         {
          "CountryCode": "DZA",
          "CountryName": "Algeria",
          "Total Population": 16247113,
          "Urban population (% of total)": 40.163,
          "Year": 1974,
          "index": 3423
         },
         {
          "CountryCode": "ASM",
          "CountryName": "American Samoa",
          "Total Population": 29491,
          "Urban population (% of total)": 71.967,
          "Year": 1974,
          "index": 3424
         },
         {
          "CountryCode": "ADO",
          "CountryName": "Andorra",
          "Total Population": 29514,
          "Urban population (% of total)": 86.032,
          "Year": 1974,
          "index": 3425
         },
         {
          "CountryCode": "AGO",
          "CountryName": "Angola",
          "Total Population": 6923749,
          "Urban population (% of total)": 16.785,
          "Year": 1974,
          "index": 3426
         },
         {
          "CountryCode": "ATG",
          "CountryName": "Antigua and Barbuda",
          "Total Population": 68655,
          "Urban population (% of total)": 34.137,
          "Year": 1974,
          "index": 3427
         },
         {
          "CountryCode": "ARG",
          "CountryName": "Argentina",
          "Total Population": 25644505,
          "Urban population (% of total)": 80.567,
          "Year": 1974,
          "index": 3428
         },
         {
          "CountryCode": "ARM",
          "CountryName": "Armenia",
          "Total Population": 2766495,
          "Urban population (% of total)": 63,
          "Year": 1974,
          "index": 3429
         },
         {
          "CountryCode": "ABW",
          "CountryName": "Aruba",
          "Total Population": 60525,
          "Urban population (% of total)": 50.563,
          "Year": 1974,
          "index": 3430
         },
         {
          "CountryCode": "AUS",
          "CountryName": "Australia",
          "Total Population": 13723000,
          "Urban population (% of total)": 85.841,
          "Year": 1974,
          "index": 3431
         },
         {
          "CountryCode": "AUT",
          "CountryName": "Austria",
          "Total Population": 7599038,
          "Urban population (% of total)": 65.331,
          "Year": 1974,
          "index": 3432
         },
         {
          "CountryCode": "AZE",
          "CountryName": "Azerbaijan",
          "Total Population": 5596160,
          "Urban population (% of total)": 51.698,
          "Year": 1974,
          "index": 3433
         },
         {
          "CountryCode": "BHS",
          "CountryName": "Bahamas, The",
          "Total Population": 185097,
          "Urban population (% of total)": 69.381,
          "Year": 1974,
          "index": 3434
         },
         {
          "CountryCode": "BHR",
          "CountryName": "Bahrain",
          "Total Population": 252139,
          "Urban population (% of total)": 84.741,
          "Year": 1974,
          "index": 3435
         },
         {
          "CountryCode": "BGD",
          "CountryName": "Bangladesh",
          "Total Population": 69837960,
          "Urban population (% of total)": 9.034,
          "Year": 1974,
          "index": 3436
         },
         {
          "CountryCode": "BRB",
          "CountryName": "Barbados",
          "Total Population": 244539,
          "Urban population (% of total)": 38.403,
          "Year": 1974,
          "index": 3437
         },
         {
          "CountryCode": "BLR",
          "CountryName": "Belarus",
          "Total Population": 9317584,
          "Urban population (% of total)": 49.4,
          "Year": 1974,
          "index": 3438
         },
         {
          "CountryCode": "BEL",
          "CountryName": "Belgium",
          "Total Population": 9772419,
          "Urban population (% of total)": 94.358,
          "Year": 1974,
          "index": 3439
         },
         {
          "CountryCode": "BLZ",
          "CountryName": "Belize",
          "Total Population": 131306,
          "Urban population (% of total)": 50.329,
          "Year": 1974,
          "index": 3440
         },
         {
          "CountryCode": "BEN",
          "CountryName": "Benin",
          "Total Population": 3184547,
          "Urban population (% of total)": 20.775,
          "Year": 1974,
          "index": 3441
         },
         {
          "CountryCode": "BMU",
          "CountryName": "Bermuda",
          "Total Population": 53400,
          "Urban population (% of total)": 100,
          "Year": 1974,
          "index": 3442
         },
         {
          "CountryCode": "BTN",
          "CountryName": "Bhutan",
          "Total Population": 336677,
          "Urban population (% of total)": 7.484,
          "Year": 1974,
          "index": 3443
         },
         {
          "CountryCode": "BOL",
          "CountryName": "Bolivia",
          "Total Population": 4902173,
          "Urban population (% of total)": 41.004,
          "Year": 1974,
          "index": 3444
         },
         {
          "CountryCode": "BIH",
          "CountryName": "Bosnia and Herzegovina",
          "Total Population": 3930283,
          "Urban population (% of total)": 30.471,
          "Year": 1974,
          "index": 3445
         },
         {
          "CountryCode": "BWA",
          "CountryName": "Botswana",
          "Total Population": 792513,
          "Urban population (% of total)": 11.11,
          "Year": 1974,
          "index": 3446
         },
         {
          "CountryCode": "BRA",
          "CountryName": "Brazil",
          "Total Population": 105846274,
          "Urban population (% of total)": 59.826,
          "Year": 1974,
          "index": 3447
         },
         {
          "CountryCode": "BRN",
          "CountryName": "Brunei Darussalam",
          "Total Population": 154395,
          "Urban population (% of total)": 62.409,
          "Year": 1974,
          "index": 3448
         },
         {
          "CountryCode": "BGR",
          "CountryName": "Bulgaria",
          "Total Population": 8678745,
          "Urban population (% of total)": 56.519,
          "Year": 1974,
          "index": 3449
         },
         {
          "CountryCode": "BFA",
          "CountryName": "Burkina Faso",
          "Total Population": 6040044,
          "Urban population (% of total)": 6.222,
          "Year": 1974,
          "index": 3450
         },
         {
          "CountryCode": "BDI",
          "CountryName": "Burundi",
          "Total Population": 3623853,
          "Urban population (% of total)": 3.377,
          "Year": 1974,
          "index": 3451
         },
         {
          "CountryCode": "CPV",
          "CountryName": "Cabo Verde",
          "Total Population": 272509,
          "Urban population (% of total)": 21.031,
          "Year": 1974,
          "index": 3452
         },
         {
          "CountryCode": "KHM",
          "CountryName": "Cambodia",
          "Total Population": 7561583,
          "Urban population (% of total)": 29.055,
          "Year": 1974,
          "index": 3453
         },
         {
          "CountryCode": "CMR",
          "CountryName": "Cameroon",
          "Total Population": 7529704,
          "Urban population (% of total)": 25.78,
          "Year": 1974,
          "index": 3454
         },
         {
          "CountryCode": "CAN",
          "CountryName": "Canada",
          "Total Population": 22774087,
          "Urban population (% of total)": 75.731,
          "Year": 1974,
          "index": 3455
         },
         {
          "CountryCode": "CYM",
          "CountryName": "Cayman Islands",
          "Total Population": 11494,
          "Urban population (% of total)": 100,
          "Year": 1974,
          "index": 3456
         },
         {
          "CountryCode": "CAF",
          "CountryName": "Central African Republic",
          "Total Population": 1975968,
          "Urban population (% of total)": 31.045,
          "Year": 1974,
          "index": 3457
         },
         {
          "CountryCode": "TCD",
          "CountryName": "Chad",
          "Total Population": 4000511,
          "Urban population (% of total)": 14.704,
          "Year": 1974,
          "index": 3458
         },
         {
          "CountryCode": "CHI",
          "CountryName": "Channel Islands",
          "Total Population": 125680,
          "Urban population (% of total)": 34.585,
          "Year": 1974,
          "index": 3459
         },
         {
          "CountryCode": "CHL",
          "CountryName": "Chile",
          "Total Population": 10255074,
          "Urban population (% of total)": 77.778,
          "Year": 1974,
          "index": 3460
         },
         {
          "CountryCode": "CHN",
          "CountryName": "China",
          "Total Population": 900350000,
          "Urban population (% of total)": 17.292,
          "Year": 1974,
          "index": 3461
         },
         {
          "CountryCode": "COL",
          "CountryName": "Colombia",
          "Total Population": 24208022,
          "Urban population (% of total)": 57.811,
          "Year": 1974,
          "index": 3462
         },
         {
          "CountryCode": "COM",
          "CountryName": "Comoros",
          "Total Population": 248921,
          "Urban population (% of total)": 20.859,
          "Year": 1974,
          "index": 3463
         },
         {
          "CountryCode": "ZAR",
          "CountryName": "Congo, Dem. Rep.",
          "Total Population": 22282079,
          "Urban population (% of total)": 25.575,
          "Year": 1974,
          "index": 3464
         },
         {
          "CountryCode": "COG",
          "CountryName": "Congo, Rep.",
          "Total Population": 1509880,
          "Urban population (% of total)": 42.357,
          "Year": 1974,
          "index": 3465
         },
         {
          "CountryCode": "CRI",
          "CountryName": "Costa Rica",
          "Total Population": 2045580,
          "Urban population (% of total)": 41.002,
          "Year": 1974,
          "index": 3466
         },
         {
          "CountryCode": "CIV",
          "CountryName": "Cote d'Ivoire",
          "Total Population": 6307936,
          "Urban population (% of total)": 31.321,
          "Year": 1974,
          "index": 3467
         },
         {
          "CountryCode": "HRV",
          "CountryName": "Croatia",
          "Total Population": 4497000,
          "Urban population (% of total)": 44.147,
          "Year": 1974,
          "index": 3468
         },
         {
          "CountryCode": "CUB",
          "CountryName": "Cuba",
          "Total Population": 9315371,
          "Urban population (% of total)": 63.423,
          "Year": 1974,
          "index": 3469
         },
         {
          "CountryCode": "CUW",
          "CountryName": "Curacao",
          "Total Population": 148351,
          "Urban population (% of total)": 79.827,
          "Year": 1974,
          "index": 3470
         },
         {
          "CountryCode": "CYP",
          "CountryName": "Cyprus",
          "Total Population": 642335,
          "Urban population (% of total)": 45.007,
          "Year": 1974,
          "index": 3471
         },
         {
          "CountryCode": "CZE",
          "CountryName": "Czech Republic",
          "Total Population": 9988459,
          "Urban population (% of total)": 68.794,
          "Year": 1974,
          "index": 3472
         },
         {
          "CountryCode": "DNK",
          "CountryName": "Denmark",
          "Total Population": 5045297,
          "Urban population (% of total)": 81.683,
          "Year": 1974,
          "index": 3473
         },
         {
          "CountryCode": "DJI",
          "CountryName": "Djibouti",
          "Total Population": 205157,
          "Urban population (% of total)": 66.099,
          "Year": 1974,
          "index": 3474
         },
         {
          "CountryCode": "DMA",
          "CountryName": "Dominica",
          "Total Population": 71811,
          "Urban population (% of total)": 41.864,
          "Year": 1974,
          "index": 3475
         },
         {
          "CountryCode": "DOM",
          "CountryName": "Dominican Republic",
          "Total Population": 5019471,
          "Urban population (% of total)": 44.582,
          "Year": 1974,
          "index": 3476
         },
         {
          "CountryCode": "ECU",
          "CountryName": "Ecuador",
          "Total Population": 6798205,
          "Urban population (% of total)": 41.457,
          "Year": 1974,
          "index": 3477
         },
         {
          "CountryCode": "EGY",
          "CountryName": "Egypt, Arab Rep.",
          "Total Population": 37815578,
          "Urban population (% of total)": 42.926,
          "Year": 1974,
          "index": 3478
         },
         {
          "CountryCode": "SLV",
          "CountryName": "El Salvador",
          "Total Population": 4053958,
          "Urban population (% of total)": 41.006,
          "Year": 1974,
          "index": 3479
         },
         {
          "CountryCode": "GNQ",
          "CountryName": "Equatorial Guinea",
          "Total Population": 249587,
          "Urban population (% of total)": 27.319,
          "Year": 1974,
          "index": 3480
         },
         {
          "CountryCode": "ERI",
          "CountryName": "Eritrea",
          "Total Population": 2013382,
          "Urban population (% of total)": 13.278,
          "Year": 1974,
          "index": 3481
         },
         {
          "CountryCode": "EST",
          "CountryName": "Estonia",
          "Total Population": 1418169,
          "Urban population (% of total)": 67.069,
          "Year": 1974,
          "index": 3482
         },
         {
          "CountryCode": "ETH",
          "CountryName": "Ethiopia",
          "Total Population": 31855294,
          "Urban population (% of total)": 9.279,
          "Year": 1974,
          "index": 3483
         },
         {
          "CountryCode": "FRO",
          "CountryName": "Faeroe Islands",
          "Total Population": 40116,
          "Urban population (% of total)": 29.842,
          "Year": 1974,
          "index": 3484
         },
         {
          "CountryCode": "FJI",
          "CountryName": "Fiji",
          "Total Population": 565386,
          "Urban population (% of total)": 36.324,
          "Year": 1974,
          "index": 3485
         },
         {
          "CountryCode": "FIN",
          "CountryName": "Finland",
          "Total Population": 4690574,
          "Urban population (% of total)": 67.019,
          "Year": 1974,
          "index": 3486
         },
         {
          "CountryCode": "FRA",
          "CountryName": "France",
          "Total Population": 53882416,
          "Urban population (% of total)": 72.65,
          "Year": 1974,
          "index": 3487
         },
         {
          "CountryCode": "PYF",
          "CountryName": "French Polynesia",
          "Total Population": 126483,
          "Urban population (% of total)": 57.742,
          "Year": 1974,
          "index": 3488
         },
         {
          "CountryCode": "GAB",
          "CountryName": "Gabon",
          "Total Population": 636702,
          "Urban population (% of total)": 40.681,
          "Year": 1974,
          "index": 3489
         },
         {
          "CountryCode": "GMB",
          "CountryName": "Gambia, The",
          "Total Population": 505512,
          "Urban population (% of total)": 23.675,
          "Year": 1974,
          "index": 3490
         },
         {
          "CountryCode": "GEO",
          "CountryName": "Georgia",
          "Total Population": 4279500,
          "Urban population (% of total)": 49.876,
          "Year": 1974,
          "index": 3491
         },
         {
          "CountryCode": "DEU",
          "CountryName": "Germany",
          "Total Population": 78967433,
          "Urban population (% of total)": 72.503,
          "Year": 1974,
          "index": 3492
         },
         {
          "CountryCode": "GHA",
          "CountryName": "Ghana",
          "Total Population": 9604280,
          "Urban population (% of total)": 29.829,
          "Year": 1974,
          "index": 3493
         },
         {
          "CountryCode": "GRC",
          "CountryName": "Greece",
          "Total Population": 8962022,
          "Urban population (% of total)": 66.448,
          "Year": 1974,
          "index": 3494
         },
         {
          "CountryCode": "GRL",
          "CountryName": "Greenland",
          "Total Population": 49500,
          "Urban population (% of total)": 74.152,
          "Year": 1974,
          "index": 3495
         },
         {
          "CountryCode": "GRD",
          "CountryName": "Grenada",
          "Total Population": 93151,
          "Urban population (% of total)": 32.495,
          "Year": 1974,
          "index": 3496
         },
         {
          "CountryCode": "GUM",
          "CountryName": "Guam",
          "Total Population": 91381,
          "Urban population (% of total)": 80.252,
          "Year": 1974,
          "index": 3497
         },
         {
          "CountryCode": "GTM",
          "CountryName": "Guatemala",
          "Total Population": 6069077,
          "Urban population (% of total)": 36.582,
          "Year": 1974,
          "index": 3498
         },
         {
          "CountryCode": "GIN",
          "CountryName": "Guinea",
          "Total Population": 4340748,
          "Urban population (% of total)": 18.763,
          "Year": 1974,
          "index": 3499
         },
         {
          "CountryCode": "GNB",
          "CountryName": "Guinea-Bissau",
          "Total Population": 764974,
          "Urban population (% of total)": 15.783,
          "Year": 1974,
          "index": 3500
         },
         {
          "CountryCode": "GUY",
          "CountryName": "Guyana",
          "Total Population": 730227,
          "Urban population (% of total)": 29.858,
          "Year": 1974,
          "index": 3501
         },
         {
          "CountryCode": "HTI",
          "CountryName": "Haiti",
          "Total Population": 5047948,
          "Urban population (% of total)": 20.377,
          "Year": 1974,
          "index": 3502
         },
         {
          "CountryCode": "HND",
          "CountryName": "Honduras",
          "Total Population": 3015606,
          "Urban population (% of total)": 31.571,
          "Year": 1974,
          "index": 3503
         },
         {
          "CountryCode": "HKG",
          "CountryName": "Hong Kong SAR, China",
          "Total Population": 4334200,
          "Urban population (% of total)": 89.301,
          "Year": 1974,
          "index": 3504
         },
         {
          "CountryCode": "HUN",
          "CountryName": "Hungary",
          "Total Population": 10478720,
          "Urban population (% of total)": 61.81,
          "Year": 1974,
          "index": 3505
         },
         {
          "CountryCode": "ISL",
          "CountryName": "Iceland",
          "Total Population": 215209,
          "Urban population (% of total)": 86.33,
          "Year": 1974,
          "index": 3506
         },
         {
          "CountryCode": "IND",
          "CountryName": "India",
          "Total Population": 607446519,
          "Urban population (% of total)": 20.991,
          "Year": 1974,
          "index": 3507
         },
         {
          "CountryCode": "IDN",
          "CountryName": "Indonesia",
          "Total Population": 127465232,
          "Urban population (% of total)": 18.793,
          "Year": 1974,
          "index": 3508
         },
         {
          "CountryCode": "IRN",
          "CountryName": "Iran, Islamic Rep.",
          "Total Population": 31784896,
          "Urban population (% of total)": 44.832,
          "Year": 1974,
          "index": 3509
         },
         {
          "CountryCode": "IRQ",
          "CountryName": "Iraq",
          "Total Population": 11312304,
          "Urban population (% of total)": 60.351,
          "Year": 1974,
          "index": 3510
         },
         {
          "CountryCode": "IRL",
          "CountryName": "Ireland",
          "Total Population": 3137500,
          "Urban population (% of total)": 53.294,
          "Year": 1974,
          "index": 3511
         },
         {
          "CountryCode": "IMY",
          "CountryName": "Isle of Man",
          "Total Population": 60098,
          "Urban population (% of total)": 53.194,
          "Year": 1974,
          "index": 3512
         },
         {
          "CountryCode": "ISR",
          "CountryName": "Israel",
          "Total Population": 3377000,
          "Urban population (% of total)": 86.224,
          "Year": 1974,
          "index": 3513
         },
         {
          "CountryCode": "ITA",
          "CountryName": "Italy",
          "Total Population": 55110868,
          "Urban population (% of total)": 65.442,
          "Year": 1974,
          "index": 3514
         },
         {
          "CountryCode": "JAM",
          "CountryName": "Jamaica",
          "Total Population": 1985852,
          "Urban population (% of total)": 43.472,
          "Year": 1974,
          "index": 3515
         },
         {
          "CountryCode": "JPN",
          "CountryName": "Japan",
          "Total Population": 110162000,
          "Urban population (% of total)": 74.975,
          "Year": 1974,
          "index": 3516
         },
         {
          "CountryCode": "JOR",
          "CountryName": "Jordan",
          "Total Population": 1747710,
          "Urban population (% of total)": 57.315,
          "Year": 1974,
          "index": 3517
         },
         {
          "CountryCode": "KAZ",
          "CountryName": "Kazakhstan",
          "Total Population": 13577049,
          "Urban population (% of total)": 52.3,
          "Year": 1974,
          "index": 3518
         },
         {
          "CountryCode": "KEN",
          "CountryName": "Kenya",
          "Total Population": 12997447,
          "Urban population (% of total)": 12.349,
          "Year": 1974,
          "index": 3519
         },
         {
          "CountryCode": "KIR",
          "CountryName": "Kiribati",
          "Total Population": 54382,
          "Urban population (% of total)": 28.96,
          "Year": 1974,
          "index": 3520
         },
         {
          "CountryCode": "PRK",
          "CountryName": "Korea, Dem. Rep.",
          "Total Population": 15960127,
          "Urban population (% of total)": 56.202,
          "Year": 1974,
          "index": 3521
         },
         {
          "CountryCode": "KOR",
          "CountryName": "Korea, Rep.",
          "Total Population": 34692266,
          "Urban population (% of total)": 46.579,
          "Year": 1974,
          "index": 3522
         },
         {
          "CountryCode": "KWT",
          "CountryName": "Kuwait",
          "Total Population": 988267,
          "Urban population (% of total)": 88.579,
          "Year": 1974,
          "index": 3523
         },
         {
          "CountryCode": "KGZ",
          "CountryName": "Kyrgyz Republic",
          "Total Population": 3223900,
          "Urban population (% of total)": 38.042,
          "Year": 1974,
          "index": 3524
         },
         {
          "CountryCode": "LAO",
          "CountryName": "Lao PDR",
          "Total Population": 2987544,
          "Urban population (% of total)": 10.837,
          "Year": 1974,
          "index": 3525
         },
         {
          "CountryCode": "LVA",
          "CountryName": "Latvia",
          "Total Population": 2437186,
          "Urban population (% of total)": 63.484,
          "Year": 1974,
          "index": 3526
         },
         {
          "CountryCode": "LBN",
          "CountryName": "Lebanon",
          "Total Population": 2535503,
          "Urban population (% of total)": 65.54,
          "Year": 1974,
          "index": 3527
         },
         {
          "CountryCode": "LSO",
          "CountryName": "Lesotho",
          "Total Population": 1122484,
          "Urban population (% of total)": 10.355,
          "Year": 1974,
          "index": 3528
         },
         {
          "CountryCode": "LBR",
          "CountryName": "Liberia",
          "Total Population": 1582584,
          "Urban population (% of total)": 29.47,
          "Year": 1974,
          "index": 3529
         },
         {
          "CountryCode": "LBY",
          "CountryName": "Libya",
          "Total Population": 2514373,
          "Urban population (% of total)": 61.237,
          "Year": 1974,
          "index": 3530
         },
         {
          "CountryCode": "LIE",
          "CountryName": "Liechtenstein",
          "Total Population": 22984,
          "Urban population (% of total)": 18.334,
          "Year": 1974,
          "index": 3531
         },
         {
          "CountryCode": "LTU",
          "CountryName": "Lithuania",
          "Total Population": 3273894,
          "Urban population (% of total)": 54.451,
          "Year": 1974,
          "index": 3532
         },
         {
          "CountryCode": "LUX",
          "CountryName": "Luxembourg",
          "Total Population": 355050,
          "Urban population (% of total)": 76.717,
          "Year": 1974,
          "index": 3533
         },
         {
          "CountryCode": "MAC",
          "CountryName": "Macao SAR, China",
          "Total Population": 250550,
          "Urban population (% of total)": 97.738,
          "Year": 1974,
          "index": 3534
         },
         {
          "CountryCode": "MKD",
          "CountryName": "Macedonia, FYR",
          "Total Population": 1784395,
          "Urban population (% of total)": 49.988,
          "Year": 1974,
          "index": 3535
         },
         {
          "CountryCode": "MDG",
          "CountryName": "Madagascar",
          "Total Population": 7360271,
          "Urban population (% of total)": 15.869,
          "Year": 1974,
          "index": 3536
         },
         {
          "CountryCode": "MWI",
          "CountryName": "Malawi",
          "Total Population": 5141138,
          "Urban population (% of total)": 7.304,
          "Year": 1974,
          "index": 3537
         },
         {
          "CountryCode": "MYS",
          "CountryName": "Malaysia",
          "Total Population": 12025930,
          "Urban population (% of total)": 36.794,
          "Year": 1974,
          "index": 3538
         },
         {
          "CountryCode": "MDV",
          "CountryName": "Maldives",
          "Total Population": 132122,
          "Urban population (% of total)": 16.085,
          "Year": 1974,
          "index": 3539
         },
         {
          "CountryCode": "MLI",
          "CountryName": "Mali",
          "Total Population": 6368351,
          "Urban population (% of total)": 15.845,
          "Year": 1974,
          "index": 3540
         },
         {
          "CountryCode": "MLT",
          "CountryName": "Malta",
          "Total Population": 301996,
          "Urban population (% of total)": 89.734,
          "Year": 1974,
          "index": 3541
         },
         {
          "CountryCode": "MHL",
          "CountryName": "Marshall Islands",
          "Total Population": 24536,
          "Urban population (% of total)": 61.093,
          "Year": 1974,
          "index": 3542
         },
         {
          "CountryCode": "MRT",
          "CountryName": "Mauritania",
          "Total Population": 1290755,
          "Urban population (% of total)": 19.237,
          "Year": 1974,
          "index": 3543
         },
         {
          "CountryCode": "MUS",
          "CountryName": "Mauritius",
          "Total Population": 878042,
          "Urban population (% of total)": 43.662,
          "Year": 1974,
          "index": 3544
         },
         {
          "CountryCode": "MEX",
          "CountryName": "Mexico",
          "Total Population": 59090495,
          "Urban population (% of total)": 62.022,
          "Year": 1974,
          "index": 3545
         },
         {
          "CountryCode": "FSM",
          "CountryName": "Micronesia, Fed. Sts.",
          "Total Population": 62477,
          "Urban population (% of total)": 25.741,
          "Year": 1974,
          "index": 3546
         },
         {
          "CountryCode": "MDA",
          "CountryName": "Moldova",
          "Total Population": 3215000,
          "Urban population (% of total)": 35.372,
          "Year": 1974,
          "index": 3547
         },
         {
          "CountryCode": "MCO",
          "CountryName": "Monaco",
          "Total Population": 24835,
          "Urban population (% of total)": 100,
          "Year": 1974,
          "index": 3548
         },
         {
          "CountryCode": "MNG",
          "CountryName": "Mongolia",
          "Total Population": 1438423,
          "Urban population (% of total)": 47.933,
          "Year": 1974,
          "index": 3549
         },
         {
          "CountryCode": "MNE",
          "CountryName": "Montenegro",
          "Total Population": 544263,
          "Urban population (% of total)": 30.632,
          "Year": 1974,
          "index": 3550
         },
         {
          "CountryCode": "MAR",
          "CountryName": "Morocco",
          "Total Population": 17466606,
          "Urban population (% of total)": 37.029,
          "Year": 1974,
          "index": 3551
         },
         {
          "CountryCode": "MOZ",
          "CountryName": "Mozambique",
          "Total Population": 10141147,
          "Urban population (% of total)": 8.963,
          "Year": 1974,
          "index": 3552
         },
         {
          "CountryCode": "MMR",
          "CountryName": "Myanmar",
          "Total Population": 29916827,
          "Urban population (% of total)": 23.913,
          "Year": 1974,
          "index": 3553
         },
         {
          "CountryCode": "NAM",
          "CountryName": "Namibia",
          "Total Population": 881530,
          "Urban population (% of total)": 23.374,
          "Year": 1974,
          "index": 3554
         },
         {
          "CountryCode": "NPL",
          "CountryName": "Nepal",
          "Total Population": 13028248,
          "Urban population (% of total)": 4.61,
          "Year": 1974,
          "index": 3555
         },
         {
          "CountryCode": "NLD",
          "CountryName": "Netherlands",
          "Total Population": 13545056,
          "Urban population (% of total)": 62.867,
          "Year": 1974,
          "index": 3556
         },
         {
          "CountryCode": "NCL",
          "CountryName": "New Caledonia",
          "Total Population": 131000,
          "Urban population (% of total)": 54.382,
          "Year": 1974,
          "index": 3557
         },
         {
          "CountryCode": "NZL",
          "CountryName": "New Zealand",
          "Total Population": 3023700,
          "Urban population (% of total)": 82.46,
          "Year": 1974,
          "index": 3558
         },
         {
          "CountryCode": "NIC",
          "CountryName": "Nicaragua",
          "Total Population": 2711847,
          "Urban population (% of total)": 48.497,
          "Year": 1974,
          "index": 3559
         },
         {
          "CountryCode": "NER",
          "CountryName": "Niger",
          "Total Population": 5026744,
          "Urban population (% of total)": 10.845,
          "Year": 1974,
          "index": 3560
         },
         {
          "CountryCode": "NGA",
          "CountryName": "Nigeria",
          "Total Population": 61857023,
          "Urban population (% of total)": 19.363,
          "Year": 1974,
          "index": 3561
         },
         {
          "CountryCode": "MNP",
          "CountryName": "Northern Mariana Islands",
          "Total Population": 14978,
          "Urban population (% of total)": 79.016,
          "Year": 1974,
          "index": 3562
         },
         {
          "CountryCode": "NOR",
          "CountryName": "Norway",
          "Total Population": 3985258,
          "Urban population (% of total)": 67.703,
          "Year": 1974,
          "index": 3563
         },
         {
          "CountryCode": "OMN",
          "CountryName": "Oman",
          "Total Population": 841947,
          "Urban population (% of total)": 36.423,
          "Year": 1974,
          "index": 3564
         },
         {
          "CountryCode": "PAK",
          "CountryName": "Pakistan",
          "Total Population": 64873705,
          "Urban population (% of total)": 26.005,
          "Year": 1974,
          "index": 3565
         },
         {
          "CountryCode": "PLW",
          "CountryName": "Palau",
          "Total Population": 12195,
          "Urban population (% of total)": 60.855,
          "Year": 1974,
          "index": 3566
         },
         {
          "CountryCode": "PAN",
          "CountryName": "Panama",
          "Total Population": 1699114,
          "Urban population (% of total)": 48.759,
          "Year": 1974,
          "index": 3567
         },
         {
          "CountryCode": "PNG",
          "CountryName": "Papua New Guinea",
          "Total Population": 2730859,
          "Urban population (% of total)": 11.717,
          "Year": 1974,
          "index": 3568
         },
         {
          "CountryCode": "PRY",
          "CountryName": "Paraguay",
          "Total Population": 2723523,
          "Urban population (% of total)": 38.447,
          "Year": 1974,
          "index": 3569
         },
         {
          "CountryCode": "PER",
          "CountryName": "Peru",
          "Total Population": 14832839,
          "Urban population (% of total)": 60.827,
          "Year": 1974,
          "index": 3570
         },
         {
          "CountryCode": "PHL",
          "CountryName": "Philippines",
          "Total Population": 40149959,
          "Urban population (% of total)": 35.059,
          "Year": 1974,
          "index": 3571
         },
         {
          "CountryCode": "POL",
          "CountryName": "Poland",
          "Total Population": 33678899,
          "Urban population (% of total)": 54.629,
          "Year": 1974,
          "index": 3572
         },
         {
          "CountryCode": "PRT",
          "CountryName": "Portugal",
          "Total Population": 8754365,
          "Urban population (% of total)": 40.382,
          "Year": 1974,
          "index": 3573
         },
         {
          "CountryCode": "PRI",
          "CountryName": "Puerto Rico",
          "Total Population": 2939299,
          "Urban population (% of total)": 61.896,
          "Year": 1974,
          "index": 3574
         },
         {
          "CountryCode": "QAT",
          "CountryName": "Qatar",
          "Total Population": 153593,
          "Urban population (% of total)": 88.832,
          "Year": 1974,
          "index": 3575
         },
         {
          "CountryCode": "ROM",
          "CountryName": "Romania",
          "Total Population": 21029429,
          "Urban population (% of total)": 42.325,
          "Year": 1974,
          "index": 3576
         },
         {
          "CountryCode": "RUS",
          "CountryName": "Russian Federation",
          "Total Population": 133432000,
          "Urban population (% of total)": 65.652,
          "Year": 1974,
          "index": 3577
         },
         {
          "CountryCode": "RWA",
          "CountryName": "Rwanda",
          "Total Population": 4226836,
          "Urban population (% of total)": 3.821,
          "Year": 1974,
          "index": 3578
         },
         {
          "CountryCode": "WSM",
          "CountryName": "Samoa",
          "Total Population": 150219,
          "Urban population (% of total)": 20.912,
          "Year": 1974,
          "index": 3579
         },
         {
          "CountryCode": "SMR",
          "CountryName": "San Marino",
          "Total Population": 19565,
          "Urban population (% of total)": 69.309,
          "Year": 1974,
          "index": 3580
         },
         {
          "CountryCode": "STP",
          "CountryName": "Sao Tome and Principe",
          "Total Population": 80670,
          "Urban population (% of total)": 31.277,
          "Year": 1974,
          "index": 3581
         },
         {
          "CountryCode": "SAU",
          "CountryName": "Saudi Arabia",
          "Total Population": 7045477,
          "Urban population (% of total)": 56.704,
          "Year": 1974,
          "index": 3582
         },
         {
          "CountryCode": "SEN",
          "CountryName": "Senegal",
          "Total Population": 4764623,
          "Urban population (% of total)": 32.937,
          "Year": 1974,
          "index": 3583
         },
         {
          "CountryCode": "SYC",
          "CountryName": "Seychelles",
          "Total Population": 58466,
          "Urban population (% of total)": 44.767,
          "Year": 1974,
          "index": 3584
         },
         {
          "CountryCode": "SLE",
          "CountryName": "Sierra Leone",
          "Total Population": 2709797,
          "Urban population (% of total)": 27.137,
          "Year": 1974,
          "index": 3585
         },
         {
          "CountryCode": "SGP",
          "CountryName": "Singapore",
          "Total Population": 2229800,
          "Urban population (% of total)": 100,
          "Year": 1974,
          "index": 3586
         },
         {
          "CountryCode": "SVK",
          "CountryName": "Slovak Republic",
          "Total Population": 4689623,
          "Urban population (% of total)": 45.187,
          "Year": 1974,
          "index": 3587
         },
         {
          "CountryCode": "SVN",
          "CountryName": "Slovenia",
          "Total Population": 1776132,
          "Urban population (% of total)": 41.259,
          "Year": 1974,
          "index": 3588
         },
         {
          "CountryCode": "SLB",
          "CountryName": "Solomon Islands",
          "Total Population": 186338,
          "Urban population (% of total)": 9.083,
          "Year": 1974,
          "index": 3589
         },
         {
          "CountryCode": "SOM",
          "CountryName": "Somalia",
          "Total Population": 3644572,
          "Urban population (% of total)": 25.03,
          "Year": 1974,
          "index": 3590
         },
         {
          "CountryCode": "ZAF",
          "CountryName": "South Africa",
          "Total Population": 24189837,
          "Urban population (% of total)": 48.049,
          "Year": 1974,
          "index": 3591
         },
         {
          "CountryCode": "SSD",
          "CountryName": "South Sudan",
          "Total Population": 4015271,
          "Urban population (% of total)": 8.587,
          "Year": 1974,
          "index": 3592
         },
         {
          "CountryCode": "ESP",
          "CountryName": "Spain",
          "Total Population": 35154338,
          "Urban population (% of total)": 68.901,
          "Year": 1974,
          "index": 3593
         },
         {
          "CountryCode": "LKA",
          "CountryName": "Sri Lanka",
          "Total Population": 13284000,
          "Urban population (% of total)": 19.626,
          "Year": 1974,
          "index": 3594
         },
         {
          "CountryCode": "KNA",
          "CountryName": "St. Kitts and Nevis",
          "Total Population": 44327,
          "Urban population (% of total)": 34.849,
          "Year": 1974,
          "index": 3595
         },
         {
          "CountryCode": "LCA",
          "CountryName": "St. Lucia",
          "Total Population": 108534,
          "Urban population (% of total)": 24.938,
          "Year": 1974,
          "index": 3596
         },
         {
          "CountryCode": "VCT",
          "CountryName": "St. Vincent and the Grenadines",
          "Total Population": 94572,
          "Urban population (% of total)": 32.708,
          "Year": 1974,
          "index": 3597
         },
         {
          "CountryCode": "SDN",
          "CountryName": "Sudan",
          "Total Population": 11668674,
          "Urban population (% of total)": 18.744,
          "Year": 1974,
          "index": 3598
         },
         {
          "CountryCode": "SUR",
          "CountryName": "Suriname",
          "Total Population": 365104,
          "Urban population (% of total)": 51.421,
          "Year": 1974,
          "index": 3599
         },
         {
          "CountryCode": "SWZ",
          "CountryName": "Swaziland",
          "Total Population": 501596,
          "Urban population (% of total)": 13.033,
          "Year": 1974,
          "index": 3600
         },
         {
          "CountryCode": "SWE",
          "CountryName": "Sweden",
          "Total Population": 8159955,
          "Urban population (% of total)": 82.517,
          "Year": 1974,
          "index": 3601
         },
         {
          "CountryCode": "CHE",
          "CountryName": "Switzerland",
          "Total Population": 6341405,
          "Urban population (% of total)": 57.426,
          "Year": 1974,
          "index": 3602
         },
         {
          "CountryCode": "SYR",
          "CountryName": "Syrian Arab Republic",
          "Total Population": 7311685,
          "Urban population (% of total)": 44.733,
          "Year": 1974,
          "index": 3603
         },
         {
          "CountryCode": "TJK",
          "CountryName": "Tajikistan",
          "Total Population": 3313144,
          "Urban population (% of total)": 35.802,
          "Year": 1974,
          "index": 3604
         },
         {
          "CountryCode": "TZA",
          "CountryName": "Tanzania",
          "Total Population": 15477155,
          "Urban population (% of total)": 10.403,
          "Year": 1974,
          "index": 3605
         },
         {
          "CountryCode": "THA",
          "CountryName": "Thailand",
          "Total Population": 41259539,
          "Urban population (% of total)": 23.164,
          "Year": 1974,
          "index": 3606
         },
         {
          "CountryCode": "TMP",
          "CountryName": "Timor-Leste",
          "Total Population": 661528,
          "Urban population (% of total)": 14.237,
          "Year": 1974,
          "index": 3607
         },
         {
          "CountryCode": "TGO",
          "CountryName": "Togo",
          "Total Population": 2356623,
          "Urban population (% of total)": 22.591,
          "Year": 1974,
          "index": 3608
         },
         {
          "CountryCode": "TON",
          "CountryName": "Tonga",
          "Total Population": 87609,
          "Urban population (% of total)": 20.307,
          "Year": 1974,
          "index": 3609
         },
         {
          "CountryCode": "TTO",
          "CountryName": "Trinidad and Tobago",
          "Total Population": 997052,
          "Urban population (% of total)": 11.471,
          "Year": 1974,
          "index": 3610
         },
         {
          "CountryCode": "TUN",
          "CountryName": "Tunisia",
          "Total Population": 5493722,
          "Urban population (% of total)": 46.79,
          "Year": 1974,
          "index": 3611
         },
         {
          "CountryCode": "TUR",
          "CountryName": "Turkey",
          "Total Population": 38272701,
          "Urban population (% of total)": 40.92,
          "Year": 1974,
          "index": 3612
         },
         {
          "CountryCode": "TKM",
          "CountryName": "Turkmenistan",
          "Total Population": 2452528,
          "Urban population (% of total)": 47.602,
          "Year": 1974,
          "index": 3613
         },
         {
          "CountryCode": "TCA",
          "CountryName": "Turks and Caicos Islands",
          "Total Population": 6346,
          "Urban population (% of total)": 52.669,
          "Year": 1974,
          "index": 3614
         },
         {
          "CountryCode": "TUV",
          "CountryName": "Tuvalu",
          "Total Population": 7613,
          "Urban population (% of total)": 24.994,
          "Year": 1974,
          "index": 3615
         },
         {
          "CountryCode": "UGA",
          "CountryName": "Uganda",
          "Total Population": 10533627,
          "Urban population (% of total)": 6.963,
          "Year": 1974,
          "index": 3616
         },
         {
          "CountryCode": "UKR",
          "CountryName": "Ukraine",
          "Total Population": 48455120,
          "Urban population (% of total)": 57.7,
          "Year": 1974,
          "index": 3617
         },
         {
          "CountryCode": "ARE",
          "CountryName": "United Arab Emirates",
          "Total Population": 451948,
          "Urban population (% of total)": 79.8,
          "Year": 1974,
          "index": 3618
         },
         {
          "CountryCode": "GBR",
          "CountryName": "United Kingdom",
          "Total Population": 56229974,
          "Urban population (% of total)": 77.521,
          "Year": 1974,
          "index": 3619
         },
         {
          "CountryCode": "USA",
          "CountryName": "United States",
          "Total Population": 213854000,
          "Urban population (% of total)": 73.643,
          "Year": 1974,
          "index": 3620
         },
         {
          "CountryCode": "URY",
          "CountryName": "Uruguay",
          "Total Population": 2824069,
          "Urban population (% of total)": 83.167,
          "Year": 1974,
          "index": 3621
         },
         {
          "CountryCode": "UZB",
          "CountryName": "Uzbekistan",
          "Total Population": 13578783,
          "Urban population (% of total)": 38.608,
          "Year": 1974,
          "index": 3622
         },
         {
          "CountryCode": "VUT",
          "CountryName": "Vanuatu",
          "Total Population": 96793,
          "Urban population (% of total)": 13.175,
          "Year": 1974,
          "index": 3623
         },
         {
          "CountryCode": "VEN",
          "CountryName": "Venezuela, RB",
          "Total Population": 12994025,
          "Urban population (% of total)": 75.063,
          "Year": 1974,
          "index": 3624
         },
         {
          "CountryCode": "VNM",
          "CountryName": "Vietnam",
          "Total Population": 46918000,
          "Urban population (% of total)": 18.685,
          "Year": 1974,
          "index": 3625
         },
         {
          "CountryCode": "VIR",
          "CountryName": "Virgin Islands (U.S.)",
          "Total Population": 90000,
          "Urban population (% of total)": 74.172,
          "Year": 1974,
          "index": 3626
         },
         {
          "CountryCode": "YEM",
          "CountryName": "Yemen, Rep.",
          "Total Population": 6626208,
          "Urban population (% of total)": 14.524,
          "Year": 1974,
          "index": 3627
         },
         {
          "CountryCode": "ZMB",
          "CountryName": "Zambia",
          "Total Population": 4810810,
          "Urban population (% of total)": 33.992,
          "Year": 1974,
          "index": 3628
         },
         {
          "CountryCode": "ZWE",
          "CountryName": "Zimbabwe",
          "Total Population": 5967861,
          "Urban population (% of total)": 19.4,
          "Year": 1974,
          "index": 3629
         },
         {
          "CountryCode": "ARB",
          "CountryName": "Arab World",
          "Total Population": 139939303,
          "Urban population (% of total)": 42.1827369103,
          "Year": 1975,
          "index": 3630
         },
         {
          "CountryCode": "CSS",
          "CountryName": "Caribbean small states",
          "Total Population": 5178940,
          "Urban population (% of total)": 36.1341426817,
          "Year": 1975,
          "index": 3631
         },
         {
          "CountryCode": "CEB",
          "CountryName": "Central Europe and the Baltics",
          "Total Population": 102862489,
          "Urban population (% of total)": 54.3496530854,
          "Year": 1975,
          "index": 3632
         },
         {
          "CountryCode": "EAS",
          "CountryName": "East Asia & Pacific (all income levels)",
          "Total Population": 1442562668,
          "Urban population (% of total)": 25.5789243764,
          "Year": 1975,
          "index": 3633
         },
         {
          "CountryCode": "EAP",
          "CountryName": "East Asia & Pacific (developing only)",
          "Total Population": 1254860626,
          "Urban population (% of total)": 19.2739171084,
          "Year": 1975,
          "index": 3634
         },
         {
          "CountryCode": "EMU",
          "CountryName": "Euro area",
          "Total Population": 296017540,
          "Urban population (% of total)": 68.7354418611,
          "Year": 1975,
          "index": 3635
         },
         {
          "CountryCode": "ECS",
          "CountryName": "Europe & Central Asia (all income levels)",
          "Total Population": 767091297,
          "Urban population (% of total)": 63.0063335422,
          "Year": 1975,
          "index": 3636
         },
         {
          "CountryCode": "ECA",
          "CountryName": "Europe & Central Asia (developing only)",
          "Total Population": 197631051,
          "Urban population (% of total)": 48.0558119646,
          "Year": 1975,
          "index": 3637
         },
         {
          "CountryCode": "EUU",
          "CountryName": "European Union",
          "Total Population": 454638308,
          "Urban population (% of total)": 67.45005017,
          "Year": 1975,
          "index": 3638
         },
         {
          "CountryCode": "FCS",
          "CountryName": "Fragile and conflict affected situations",
          "Total Population": 175976534,
          "Urban population (% of total)": 26.0322627317,
          "Year": 1975,
          "index": 3639
         },
         {
          "CountryCode": "HPC",
          "CountryName": "Heavily indebted poor countries (HIPC)",
          "Total Population": 237918910,
          "Urban population (% of total)": 18.4966824343,
          "Year": 1975,
          "index": 3640
         },
         {
          "CountryCode": "HIC",
          "CountryName": "High income",
          "Total Population": 1068340087,
          "Urban population (% of total)": 70.4979814652,
          "Year": 1975,
          "index": 3641
         },
         {
          "CountryCode": "NOC",
          "CountryName": "High income: nonOECD",
          "Total Population": 227123524,
          "Urban population (% of total)": 68.6164990516,
          "Year": 1975,
          "index": 3642
         },
         {
          "CountryCode": "OEC",
          "CountryName": "High income: OECD",
          "Total Population": 841216563,
          "Urban population (% of total)": 70.9701699766,
          "Year": 1975,
          "index": 3643
         },
         {
          "CountryCode": "LCN",
          "CountryName": "Latin America & Caribbean (all income levels)",
          "Total Population": 325120067,
          "Urban population (% of total)": 60.7156700659,
          "Year": 1975,
          "index": 3644
         },
         {
          "CountryCode": "LAC",
          "CountryName": "Latin America & Caribbean (developing only)",
          "Total Population": 267558550,
          "Urban population (% of total)": 57.2350698258,
          "Year": 1975,
          "index": 3645
         },
         {
          "CountryCode": "LDC",
          "CountryName": "Least developed countries: UN classification",
          "Total Population": 347328806,
          "Urban population (% of total)": 14.4657556532,
          "Year": 1975,
          "index": 3646
         },
         {
          "CountryCode": "LMY",
          "CountryName": "Low & middle income",
          "Total Population": 2997398990,
          "Urban population (% of total)": 26.1148156425,
          "Year": 1975,
          "index": 3647
         },
         {
          "CountryCode": "LIC",
          "CountryName": "Low income",
          "Total Population": 224587750,
          "Urban population (% of total)": 16.6059761594,
          "Year": 1975,
          "index": 3648
         },
         {
          "CountryCode": "LMC",
          "CountryName": "Lower middle income",
          "Total Population": 1333757819,
          "Urban population (% of total)": 24.2937403414,
          "Year": 1975,
          "index": 3649
         },
         {
          "CountryCode": "MEA",
          "CountryName": "Middle East & North Africa (all income levels)",
          "Total Population": 158887288,
          "Urban population (% of total)": 46.3631665786,
          "Year": 1975,
          "index": 3650
         },
         {
          "CountryCode": "MNA",
          "CountryName": "Middle East & North Africa (developing only)",
          "Total Population": 144803846,
          "Urban population (% of total)": 44.1913339668,
          "Year": 1975,
          "index": 3651
         },
         {
          "CountryCode": "MIC",
          "CountryName": "Middle income",
          "Total Population": 2772811240,
          "Urban population (% of total)": 26.8853779273,
          "Year": 1975,
          "index": 3652
         },
         {
          "CountryCode": "NAC",
          "CountryName": "North America",
          "Total Population": 239235000,
          "Urban population (% of total)": 73.848789132,
          "Year": 1975,
          "index": 3653
         },
         {
          "CountryCode": "OED",
          "CountryName": "OECD members",
          "Total Population": 941274599,
          "Urban population (% of total)": 69.2158774087,
          "Year": 1975,
          "index": 3654
         },
         {
          "CountryCode": "OSS",
          "CountryName": "Other small states",
          "Total Population": 9064866,
          "Urban population (% of total)": 23.5019262958,
          "Year": 1975,
          "index": 3655
         },
         {
          "CountryCode": "PSS",
          "CountryName": "Pacific island small states",
          "Total Population": 1273508,
          "Urban population (% of total)": 27.4961287672,
          "Year": 1975,
          "index": 3656
         },
         {
          "CountryCode": "SST",
          "CountryName": "Small states",
          "Total Population": 15517314,
          "Urban population (% of total)": 28.0457629115,
          "Year": 1975,
          "index": 3657
         },
         {
          "CountryCode": "SAS",
          "CountryName": "South Asia",
          "Total Population": 799620311,
          "Urban population (% of total)": 20.2916250899,
          "Year": 1975,
          "index": 3658
         },
         {
          "CountryCode": "SSF",
          "CountryName": "Sub-Saharan Africa (all income levels)",
          "Total Population": 333222446,
          "Urban population (% of total)": 20.08881352,
          "Year": 1975,
          "index": 3659
         },
         {
          "CountryCode": "SSA",
          "CountryName": "Sub-Saharan Africa (developing only)",
          "Total Population": 332924606,
          "Urban population (% of total)": 20.0788882704,
          "Year": 1975,
          "index": 3660
         },
         {
          "CountryCode": "UMC",
          "CountryName": "Upper middle income",
          "Total Population": 1439053421,
          "Urban population (% of total)": 29.2849198011,
          "Year": 1975,
          "index": 3661
         },
         {
          "CountryCode": "WLD",
          "CountryName": "World",
          "Total Population": 4065739077,
          "Urban population (% of total)": 37.6517965028,
          "Year": 1975,
          "index": 3662
         },
         {
          "CountryCode": "AFG",
          "CountryName": "Afghanistan",
          "Total Population": 12582954,
          "Urban population (% of total)": 13.583,
          "Year": 1975,
          "index": 3663
         },
         {
          "CountryCode": "ALB",
          "CountryName": "Albania",
          "Total Population": 2404831,
          "Urban population (% of total)": 32.712,
          "Year": 1975,
          "index": 3664
         },
         {
          "CountryCode": "DZA",
          "CountryName": "Algeria",
          "Total Population": 16709098,
          "Urban population (% of total)": 40.33,
          "Year": 1975,
          "index": 3665
         },
         {
          "CountryCode": "ASM",
          "CountryName": "American Samoa",
          "Total Population": 29932,
          "Urban population (% of total)": 72.354,
          "Year": 1975,
          "index": 3666
         },
         {
          "CountryCode": "ADO",
          "CountryName": "Andorra",
          "Total Population": 30706,
          "Urban population (% of total)": 87.252,
          "Year": 1975,
          "index": 3667
         },
         {
          "CountryCode": "AGO",
          "CountryName": "Angola",
          "Total Population": 7107334,
          "Urban population (% of total)": 17.255,
          "Year": 1975,
          "index": 3668
         },
         {
          "CountryCode": "ATG",
          "CountryName": "Antigua and Barbuda",
          "Total Population": 69253,
          "Urban population (% of total)": 34.217,
          "Year": 1975,
          "index": 3669
         },
         {
          "CountryCode": "ARG",
          "CountryName": "Argentina",
          "Total Population": 26066975,
          "Urban population (% of total)": 80.969,
          "Year": 1975,
          "index": 3670
         },
         {
          "CountryCode": "ARM",
          "CountryName": "Armenia",
          "Total Population": 2825650,
          "Urban population (% of total)": 63.611,
          "Year": 1975,
          "index": 3671
         },
         {
          "CountryCode": "ABW",
          "CountryName": "Aruba",
          "Total Population": 60655,
          "Urban population (% of total)": 50.548,
          "Year": 1975,
          "index": 3672
         },
         {
          "CountryCode": "AUS",
          "CountryName": "Australia",
          "Total Population": 13893000,
          "Urban population (% of total)": 85.921,
          "Year": 1975,
          "index": 3673
         },
         {
          "CountryCode": "AUT",
          "CountryName": "Austria",
          "Total Population": 7578903,
          "Urban population (% of total)": 65.341,
          "Year": 1975,
          "index": 3674
         },
         {
          "CountryCode": "AZE",
          "CountryName": "Azerbaijan",
          "Total Population": 5693796,
          "Urban population (% of total)": 51.897,
          "Year": 1975,
          "index": 3675
         },
         {
          "CountryCode": "BHS",
          "CountryName": "Bahamas, The",
          "Total Population": 188882,
          "Urban population (% of total)": 70.017,
          "Year": 1975,
          "index": 3676
         },
         {
          "CountryCode": "BHR",
          "CountryName": "Bahrain",
          "Total Population": 266686,
          "Urban population (% of total)": 84.975,
          "Year": 1975,
          "index": 3677
         },
         {
          "CountryCode": "BGD",
          "CountryName": "Bangladesh",
          "Total Population": 71247153,
          "Urban population (% of total)": 9.836,
          "Year": 1975,
          "index": 3678
         },
         {
          "CountryCode": "BRB",
          "CountryName": "Barbados",
          "Total Population": 246033,
          "Urban population (% of total)": 38.62,
          "Year": 1975,
          "index": 3679
         },
         {
          "CountryCode": "BLR",
          "CountryName": "Belarus",
          "Total Population": 9367000,
          "Urban population (% of total)": 50.614,
          "Year": 1975,
          "index": 3680
         },
         {
          "CountryCode": "BEL",
          "CountryName": "Belgium",
          "Total Population": 9800700,
          "Urban population (% of total)": 94.48,
          "Year": 1975,
          "index": 3681
         },
         {
          "CountryCode": "BLZ",
          "CountryName": "Belize",
          "Total Population": 133261,
          "Urban population (% of total)": 50.171,
          "Year": 1975,
          "index": 3682
         },
         {
          "CountryCode": "BEN",
          "CountryName": "Benin",
          "Total Population": 3262959,
          "Urban population (% of total)": 21.904,
          "Year": 1975,
          "index": 3683
         },
         {
          "CountryCode": "BMU",
          "CountryName": "Bermuda",
          "Total Population": 53000,
          "Urban population (% of total)": 100,
          "Year": 1975,
          "index": 3684
         },
         {
          "CountryCode": "BTN",
          "CountryName": "Bhutan",
          "Total Population": 349146,
          "Urban population (% of total)": 7.876,
          "Year": 1975,
          "index": 3685
         },
         {
          "CountryCode": "BOL",
          "CountryName": "Bolivia",
          "Total Population": 5009259,
          "Urban population (% of total)": 41.314,
          "Year": 1975,
          "index": 3686
         },
         {
          "CountryCode": "BIH",
          "CountryName": "Bosnia and Herzegovina",
          "Total Population": 3971608,
          "Urban population (% of total)": 31.288,
          "Year": 1975,
          "index": 3687
         },
         {
          "CountryCode": "BWA",
          "CountryName": "Botswana",
          "Total Population": 822029,
          "Urban population (% of total)": 11.884,
          "Year": 1975,
          "index": 3688
         },
         {
          "CountryCode": "BRA",
          "CountryName": "Brazil",
          "Total Population": 108431284,
          "Urban population (% of total)": 60.789,
          "Year": 1975,
          "index": 3689
         },
         {
          "CountryCode": "BRN",
          "CountryName": "Brunei Darussalam",
          "Total Population": 160799,
          "Urban population (% of total)": 61.994,
          "Year": 1975,
          "index": 3690
         },
         {
          "CountryCode": "BGR",
          "CountryName": "Bulgaria",
          "Total Population": 8720742,
          "Urban population (% of total)": 57.562,
          "Year": 1975,
          "index": 3691
         },
         {
          "CountryCode": "BFA",
          "CountryName": "Burkina Faso",
          "Total Population": 6154548,
          "Urban population (% of total)": 6.347,
          "Year": 1975,
          "index": 3692
         },
         {
          "CountryCode": "BDI",
          "CountryName": "Burundi",
          "Total Population": 3676991,
          "Urban population (% of total)": 3.525,
          "Year": 1975,
          "index": 3693
         },
         {
          "CountryCode": "CPV",
          "CountryName": "Cabo Verde",
          "Total Population": 272575,
          "Urban population (% of total)": 21.419,
          "Year": 1975,
          "index": 3694
         },
         {
          "CountryCode": "KHM",
          "CountryName": "Cambodia",
          "Total Population": 7551988,
          "Urban population (% of total)": 4.477,
          "Year": 1975,
          "index": 3695
         },
         {
          "CountryCode": "CMR",
          "CountryName": "Cameroon",
          "Total Population": 7740196,
          "Urban population (% of total)": 27.292,
          "Year": 1975,
          "index": 3696
         },
         {
          "CountryCode": "CAN",
          "CountryName": "Canada",
          "Total Population": 23209000,
          "Urban population (% of total)": 75.611,
          "Year": 1975,
          "index": 3697
         },
         {
          "CountryCode": "CYM",
          "CountryName": "Cayman Islands",
          "Total Population": 12238,
          "Urban population (% of total)": 100,
          "Year": 1975,
          "index": 3698
         },
         {
          "CountryCode": "CAF",
          "CountryName": "Central African Republic",
          "Total Population": 2017379,
          "Urban population (% of total)": 31.971,
          "Year": 1975,
          "index": 3699
         },
         {
          "CountryCode": "TCD",
          "CountryName": "Chad",
          "Total Population": 4088858,
          "Urban population (% of total)": 15.566,
          "Year": 1975,
          "index": 3700
         },
         {
          "CountryCode": "CHI",
          "CountryName": "Channel Islands",
          "Total Population": 126417,
          "Urban population (% of total)": 34.183,
          "Year": 1975,
          "index": 3701
         },
         {
          "CountryCode": "CHL",
          "CountryName": "Chile",
          "Total Population": 10420590,
          "Urban population (% of total)": 78.386,
          "Year": 1975,
          "index": 3702
         },
         {
          "CountryCode": "CHN",
          "CountryName": "China",
          "Total Population": 916395000,
          "Urban population (% of total)": 17.4,
          "Year": 1975,
          "index": 3703
         },
         {
          "CountryCode": "COL",
          "CountryName": "Colombia",
          "Total Population": 24756969,
          "Urban population (% of total)": 58.539,
          "Year": 1975,
          "index": 3704
         },
         {
          "CountryCode": "COM",
          "CountryName": "Comoros",
          "Total Population": 256309,
          "Urban population (% of total)": 21.239,
          "Year": 1975,
          "index": 3705
         },
         {
          "CountryCode": "ZAR",
          "CountryName": "Congo, Dem. Rep.",
          "Total Population": 22902275,
          "Urban population (% of total)": 25.821,
          "Year": 1975,
          "index": 3706
         },
         {
          "CountryCode": "COG",
          "CountryName": "Congo, Rep.",
          "Total Population": 1556406,
          "Urban population (% of total)": 43.264,
          "Year": 1975,
          "index": 3707
         },
         {
          "CountryCode": "CRI",
          "CountryName": "Costa Rica",
          "Total Population": 2097410,
          "Urban population (% of total)": 41.349,
          "Year": 1975,
          "index": 3708
         },
         {
          "CountryCode": "CIV",
          "CountryName": "Cote d'Ivoire",
          "Total Population": 6606395,
          "Urban population (% of total)": 32.229,
          "Year": 1975,
          "index": 3709
         },
         {
          "CountryCode": "HRV",
          "CountryName": "Croatia",
          "Total Population": 4514000,
          "Urban population (% of total)": 45.126,
          "Year": 1975,
          "index": 3710
         },
         {
          "CountryCode": "CUB",
          "CountryName": "Cuba",
          "Total Population": 9438445,
          "Urban population (% of total)": 64.224,
          "Year": 1975,
          "index": 3711
         },
         {
          "CountryCode": "CUW",
          "CountryName": "Curacao",
          "Total Population": 149129,
          "Urban population (% of total)": 80.161,
          "Year": 1975,
          "index": 3712
         },
         {
          "CountryCode": "CYP",
          "CountryName": "Cyprus",
          "Total Population": 649755,
          "Urban population (% of total)": 47.277,
          "Year": 1975,
          "index": 3713
         },
         {
          "CountryCode": "CZE",
          "CountryName": "Czech Republic",
          "Total Population": 10058620,
          "Urban population (% of total)": 69.917,
          "Year": 1975,
          "index": 3714
         },
         {
          "CountryCode": "DNK",
          "CountryName": "Denmark",
          "Total Population": 5059862,
          "Urban population (% of total)": 82.146,
          "Year": 1975,
          "index": 3715
         },
         {
          "CountryCode": "DJI",
          "CountryName": "Djibouti",
          "Total Population": 224182,
          "Urban population (% of total)": 67.142,
          "Year": 1975,
          "index": 3716
         },
         {
          "CountryCode": "DMA",
          "CountryName": "Dominica",
          "Total Population": 72091,
          "Urban population (% of total)": 42.671,
          "Year": 1975,
          "index": 3717
         },
         {
          "CountryCode": "DOM",
          "CountryName": "Dominican Republic",
          "Total Population": 5149934,
          "Urban population (% of total)": 45.691,
          "Year": 1975,
          "index": 3718
         },
         {
          "CountryCode": "ECU",
          "CountryName": "Ecuador",
          "Total Population": 6987393,
          "Urban population (% of total)": 42.363,
          "Year": 1975,
          "index": 3719
         },
         {
          "CountryCode": "EGY",
          "CountryName": "Egypt, Arab Rep.",
          "Total Population": 38624410,
          "Urban population (% of total)": 43.291,
          "Year": 1975,
          "index": 3720
         },
         {
          "CountryCode": "SLV",
          "CountryName": "El Salvador",
          "Total Population": 4147525,
          "Urban population (% of total)": 41.51,
          "Year": 1975,
          "index": 3721
         },
         {
          "CountryCode": "GNQ",
          "CountryName": "Equatorial Guinea",
          "Total Population": 238240,
          "Urban population (% of total)": 27.41,
          "Year": 1975,
          "index": 3722
         },
         {
          "CountryCode": "ERI",
          "CountryName": "Eritrea",
          "Total Population": 2070145,
          "Urban population (% of total)": 13.454,
          "Year": 1975,
          "index": 3723
         },
         {
          "CountryCode": "EST",
          "CountryName": "Estonia",
          "Total Population": 1429352,
          "Urban population (% of total)": 67.589,
          "Year": 1975,
          "index": 3724
         },
         {
          "CountryCode": "ETH",
          "CountryName": "Ethiopia",
          "Total Population": 32568539,
          "Urban population (% of total)": 9.46,
          "Year": 1975,
          "index": 3725
         },
         {
          "CountryCode": "FRO",
          "CountryName": "Faeroe Islands",
          "Total Population": 40529,
          "Urban population (% of total)": 30.326,
          "Year": 1975,
          "index": 3726
         },
         {
          "CountryCode": "FJI",
          "CountryName": "Fiji",
          "Total Population": 576592,
          "Urban population (% of total)": 36.721,
          "Year": 1975,
          "index": 3727
         },
         {
          "CountryCode": "FIN",
          "CountryName": "Finland",
          "Total Population": 4711440,
          "Urban population (% of total)": 67.831,
          "Year": 1975,
          "index": 3728
         },
         {
          "CountryCode": "FRA",
          "CountryName": "France",
          "Total Population": 54252574,
          "Urban population (% of total)": 72.926,
          "Year": 1975,
          "index": 3729
         },
         {
          "CountryCode": "PYF",
          "CountryName": "French Polynesia",
          "Total Population": 130619,
          "Urban population (% of total)": 58.252,
          "Year": 1975,
          "index": 3730
         },
         {
          "CountryCode": "GAB",
          "CountryName": "Gabon",
          "Total Population": 649719,
          "Urban population (% of total)": 42.971,
          "Year": 1975,
          "index": 3731
         },
         {
          "CountryCode": "GMB",
          "CountryName": "Gambia, The",
          "Total Population": 521070,
          "Urban population (% of total)": 24.426,
          "Year": 1975,
          "index": 3732
         },
         {
          "CountryCode": "GEO",
          "CountryName": "Georgia",
          "Total Population": 4311200,
          "Urban population (% of total)": 50.344,
          "Year": 1975,
          "index": 3733
         },
         {
          "CountryCode": "DEU",
          "CountryName": "Germany",
          "Total Population": 78673554,
          "Urban population (% of total)": 72.56,
          "Year": 1975,
          "index": 3734
         },
         {
          "CountryCode": "GHA",
          "CountryName": "Ghana",
          "Total Population": 9831409,
          "Urban population (% of total)": 30.049,
          "Year": 1975,
          "index": 3735
         },
         {
          "CountryCode": "GRC",
          "CountryName": "Greece",
          "Total Population": 9046541,
          "Urban population (% of total)": 66.94,
          "Year": 1975,
          "index": 3736
         },
         {
          "CountryCode": "GRL",
          "CountryName": "Greenland",
          "Total Population": 49600,
          "Urban population (% of total)": 74.389,
          "Year": 1975,
          "index": 3737
         },
         {
          "CountryCode": "GRD",
          "CountryName": "Grenada",
          "Total Population": 92453,
          "Urban population (% of total)": 32.565,
          "Year": 1975,
          "index": 3738
         },
         {
          "CountryCode": "GUM",
          "CountryName": "Guam",
          "Total Population": 93354,
          "Urban population (% of total)": 83.632,
          "Year": 1975,
          "index": 3739
         },
         {
          "CountryCode": "GTM",
          "CountryName": "Guatemala",
          "Total Population": 6237963,
          "Urban population (% of total)": 36.718,
          "Year": 1975,
          "index": 3740
         },
         {
          "CountryCode": "GIN",
          "CountryName": "Guinea",
          "Total Population": 4359735,
          "Urban population (% of total)": 19.515,
          "Year": 1975,
          "index": 3741
         },
         {
          "CountryCode": "GNB",
          "CountryName": "Guinea-Bissau",
          "Total Population": 778482,
          "Urban population (% of total)": 15.95,
          "Year": 1975,
          "index": 3742
         },
         {
          "CountryCode": "GUY",
          "CountryName": "Guyana",
          "Total Population": 740167,
          "Urban population (% of total)": 29.967,
          "Year": 1975,
          "index": 3743
         },
         {
          "CountryCode": "HTI",
          "CountryName": "Haiti",
          "Total Population": 5140357,
          "Urban population (% of total)": 20.404,
          "Year": 1975,
          "index": 3744
         },
         {
          "CountryCode": "HND",
          "CountryName": "Honduras",
          "Total Population": 3107735,
          "Urban population (% of total)": 32.11,
          "Year": 1975,
          "index": 3745
         },
         {
          "CountryCode": "HKG",
          "CountryName": "Hong Kong SAR, China",
          "Total Population": 4461600,
          "Urban population (% of total)": 89.695,
          "Year": 1975,
          "index": 3746
         },
         {
          "CountryCode": "HUN",
          "CountryName": "Hungary",
          "Total Population": 10540525,
          "Urban population (% of total)": 62.231,
          "Year": 1975,
          "index": 3747
         },
         {
          "CountryCode": "ISL",
          "CountryName": "Iceland",
          "Total Population": 217979,
          "Urban population (% of total)": 86.669,
          "Year": 1975,
          "index": 3748
         },
         {
          "CountryCode": "IND",
          "CountryName": "India",
          "Total Population": 621703641,
          "Urban population (% of total)": 21.332,
          "Year": 1975,
          "index": 3749
         },
         {
          "CountryCode": "IDN",
          "CountryName": "Indonesia",
          "Total Population": 130724118,
          "Urban population (% of total)": 19.317,
          "Year": 1975,
          "index": 3750
         },
         {
          "CountryCode": "IRN",
          "CountryName": "Iran, Islamic Rep.",
          "Total Population": 32730555,
          "Urban population (% of total)": 45.747,
          "Year": 1975,
          "index": 3751
         },
         {
          "CountryCode": "IRQ",
          "CountryName": "Iraq",
          "Total Population": 11684585,
          "Urban population (% of total)": 61.379,
          "Year": 1975,
          "index": 3752
         },
         {
          "CountryCode": "IRL",
          "CountryName": "Ireland",
          "Total Population": 3189550,
          "Urban population (% of total)": 53.634,
          "Year": 1975,
          "index": 3753
         },
         {
          "CountryCode": "IMY",
          "CountryName": "Isle of Man",
          "Total Population": 60941,
          "Urban population (% of total)": 52.403,
          "Year": 1975,
          "index": 3754
         },
         {
          "CountryCode": "ISR",
          "CountryName": "Israel",
          "Total Population": 3455000,
          "Urban population (% of total)": 86.643,
          "Year": 1975,
          "index": 3755
         },
         {
          "CountryCode": "ITA",
          "CountryName": "Italy",
          "Total Population": 55441001,
          "Urban population (% of total)": 65.643,
          "Year": 1975,
          "index": 3756
         },
         {
          "CountryCode": "JAM",
          "CountryName": "Jamaica",
          "Total Population": 2013000,
          "Urban population (% of total)": 44.013,
          "Year": 1975,
          "index": 3757
         },
         {
          "CountryCode": "JPN",
          "CountryName": "Japan",
          "Total Population": 111940000,
          "Urban population (% of total)": 75.716,
          "Year": 1975,
          "index": 3758
         },
         {
          "CountryCode": "JOR",
          "CountryName": "Jordan",
          "Total Population": 1810000,
          "Urban population (% of total)": 57.65,
          "Year": 1975,
          "index": 3759
         },
         {
          "CountryCode": "KAZ",
          "CountryName": "Kazakhstan",
          "Total Population": 13756789,
          "Urban population (% of total)": 52.564,
          "Year": 1975,
          "index": 3760
         },
         {
          "CountryCode": "KEN",
          "CountryName": "Kenya",
          "Total Population": 13486241,
          "Urban population (% of total)": 12.914,
          "Year": 1975,
          "index": 3761
         },
         {
          "CountryCode": "KIR",
          "CountryName": "Kiribati",
          "Total Population": 55169,
          "Urban population (% of total)": 29.606,
          "Year": 1975,
          "index": 3762
         },
         {
          "CountryCode": "PRK",
          "CountryName": "Korea, Dem. Rep.",
          "Total Population": 16274740,
          "Urban population (% of total)": 56.7,
          "Year": 1975,
          "index": 3763
         },
         {
          "CountryCode": "KOR",
          "CountryName": "Korea, Rep.",
          "Total Population": 35280725,
          "Urban population (% of total)": 48.033,
          "Year": 1975,
          "index": 3764
         },
         {
          "CountryCode": "KWT",
          "CountryName": "Kuwait",
          "Total Population": 1051187,
          "Urban population (% of total)": 89.384,
          "Year": 1975,
          "index": 3765
         },
         {
          "CountryCode": "KGZ",
          "CountryName": "Kyrgyz Republic",
          "Total Population": 3292400,
          "Urban population (% of total)": 38.186,
          "Year": 1975,
          "index": 3766
         },
         {
          "CountryCode": "LAO",
          "CountryName": "Lao PDR",
          "Total Population": 3047864,
          "Urban population (% of total)": 11.081,
          "Year": 1975,
          "index": 3767
         },
         {
          "CountryCode": "LVA",
          "CountryName": "Latvia",
          "Total Population": 2456130,
          "Urban population (% of total)": 64.157,
          "Year": 1975,
          "index": 3768
         },
         {
          "CountryCode": "LBN",
          "CountryName": "Lebanon",
          "Total Population": 2575693,
          "Urban population (% of total)": 66.978,
          "Year": 1975,
          "index": 3769
         },
         {
          "CountryCode": "LSO",
          "CountryName": "Lesotho",
          "Total Population": 1149090,
          "Urban population (% of total)": 10.822,
          "Year": 1975,
          "index": 3770
         },
         {
          "CountryCode": "LBR",
          "CountryName": "Liberia",
          "Total Population": 1628656,
          "Urban population (% of total)": 30.382,
          "Year": 1975,
          "index": 3771
         },
         {
          "CountryCode": "LBY",
          "CountryName": "Libya",
          "Total Population": 2621730,
          "Urban population (% of total)": 62.785,
          "Year": 1975,
          "index": 3772
         },
         {
          "CountryCode": "LIE",
          "CountryName": "Liechtenstein",
          "Total Population": 23435,
          "Urban population (% of total)": 18.324,
          "Year": 1975,
          "index": 3773
         },
         {
          "CountryCode": "LTU",
          "CountryName": "Lithuania",
          "Total Population": 3301652,
          "Urban population (% of total)": 55.685,
          "Year": 1975,
          "index": 3774
         },
         {
          "CountryCode": "LUX",
          "CountryName": "Luxembourg",
          "Total Population": 358950,
          "Urban population (% of total)": 77.297,
          "Year": 1975,
          "index": 3775
         },
         {
          "CountryCode": "MAC",
          "CountryName": "Macao SAR, China",
          "Total Population": 248213,
          "Urban population (% of total)": 97.891,
          "Year": 1975,
          "index": 3776
         },
         {
          "CountryCode": "MKD",
          "CountryName": "Macedonia, FYR",
          "Total Population": 1803009,
          "Urban population (% of total)": 50.569,
          "Year": 1975,
          "index": 3777
         },
         {
          "CountryCode": "MDG",
          "CountryName": "Madagascar",
          "Total Population": 7575757,
          "Urban population (% of total)": 16.334,
          "Year": 1975,
          "index": 3778
         },
         {
          "CountryCode": "MWI",
          "CountryName": "Malawi",
          "Total Population": 5292816,
          "Urban population (% of total)": 7.652,
          "Year": 1975,
          "index": 3779
         },
         {
          "CountryCode": "MYS",
          "CountryName": "Malaysia",
          "Total Population": 12311782,
          "Urban population (% of total)": 37.652,
          "Year": 1975,
          "index": 3780
         },
         {
          "CountryCode": "MDV",
          "CountryName": "Maldives",
          "Total Population": 136434,
          "Urban population (% of total)": 17.304,
          "Year": 1975,
          "index": 3781
         },
         {
          "CountryCode": "MLI",
          "CountryName": "Mali",
          "Total Population": 6482276,
          "Urban population (% of total)": 16.244,
          "Year": 1975,
          "index": 3782
         },
         {
          "CountryCode": "MLT",
          "CountryName": "Malta",
          "Total Population": 304222,
          "Urban population (% of total)": 89.742,
          "Year": 1975,
          "index": 3783
         },
         {
          "CountryCode": "MHL",
          "CountryName": "Marshall Islands",
          "Total Population": 25580,
          "Urban population (% of total)": 60.632,
          "Year": 1975,
          "index": 3784
         },
         {
          "CountryCode": "MRT",
          "CountryName": "Mauritania",
          "Total Population": 1328687,
          "Urban population (% of total)": 20.569,
          "Year": 1975,
          "index": 3785
         },
         {
          "CountryCode": "MUS",
          "CountryName": "Mauritius",
          "Total Population": 892000,
          "Urban population (% of total)": 43.443,
          "Year": 1975,
          "index": 3786
         },
         {
          "CountryCode": "MEX",
          "CountryName": "Mexico",
          "Total Population": 60872399,
          "Urban population (% of total)": 62.759,
          "Year": 1975,
          "index": 3787
         },
         {
          "CountryCode": "FSM",
          "CountryName": "Micronesia, Fed. Sts.",
          "Total Population": 63146,
          "Urban population (% of total)": 25.858,
          "Year": 1975,
          "index": 3788
         },
         {
          "CountryCode": "MDA",
          "CountryName": "Moldova",
          "Total Population": 3251000,
          "Urban population (% of total)": 36.222,
          "Year": 1975,
          "index": 3789
         },
         {
          "CountryCode": "MCO",
          "CountryName": "Monaco",
          "Total Population": 25201,
          "Urban population (% of total)": 100,
          "Year": 1975,
          "index": 3790
         },
         {
          "CountryCode": "MNG",
          "CountryName": "Mongolia",
          "Total Population": 1479650,
          "Urban population (% of total)": 48.656,
          "Year": 1975,
          "index": 3791
         },
         {
          "CountryCode": "MNE",
          "CountryName": "Montenegro",
          "Total Population": 549002,
          "Urban population (% of total)": 31.622,
          "Year": 1975,
          "index": 3792
         },
         {
          "CountryCode": "MAR",
          "CountryName": "Morocco",
          "Total Population": 17854614,
          "Urban population (% of total)": 37.714,
          "Year": 1975,
          "index": 3793
         },
         {
          "CountryCode": "MOZ",
          "CountryName": "Mozambique",
          "Total Population": 10405000,
          "Urban population (% of total)": 9.563,
          "Year": 1975,
          "index": 3794
         },
         {
          "CountryCode": "MMR",
          "CountryName": "Myanmar",
          "Total Population": 30640635,
          "Urban population (% of total)": 23.922,
          "Year": 1975,
          "index": 3795
         },
         {
          "CountryCode": "NAM",
          "CountryName": "Namibia",
          "Total Population": 905647,
          "Urban population (% of total)": 23.651,
          "Year": 1975,
          "index": 3796
         },
         {
          "CountryCode": "NPL",
          "CountryName": "Nepal",
          "Total Population": 13313487,
          "Urban population (% of total)": 4.83,
          "Year": 1975,
          "index": 3797
         },
         {
          "CountryCode": "NLD",
          "CountryName": "Netherlands",
          "Total Population": 13666335,
          "Urban population (% of total)": 63.183,
          "Year": 1975,
          "index": 3798
         },
         {
          "CountryCode": "NCL",
          "CountryName": "New Caledonia",
          "Total Population": 132500,
          "Urban population (% of total)": 55.165,
          "Year": 1975,
          "index": 3799
         },
         {
          "CountryCode": "NZL",
          "CountryName": "New Zealand",
          "Total Population": 3083100,
          "Urban population (% of total)": 82.774,
          "Year": 1975,
          "index": 3800
         },
         {
          "CountryCode": "NIC",
          "CountryName": "Nicaragua",
          "Total Population": 2796748,
          "Urban population (% of total)": 48.737,
          "Year": 1975,
          "index": 3801
         },
         {
          "CountryCode": "NER",
          "CountryName": "Niger",
          "Total Population": 5171029,
          "Urban population (% of total)": 11.419,
          "Year": 1975,
          "index": 3802
         },
         {
          "CountryCode": "NGA",
          "CountryName": "Nigeria",
          "Total Population": 63565598,
          "Urban population (% of total)": 19.78,
          "Year": 1975,
          "index": 3803
         },
         {
          "CountryCode": "MNP",
          "CountryName": "Northern Mariana Islands",
          "Total Population": 15232,
          "Urban population (% of total)": 80.554,
          "Year": 1975,
          "index": 3804
         },
         {
          "CountryCode": "NOR",
          "CountryName": "Norway",
          "Total Population": 4007313,
          "Urban population (% of total)": 68.187,
          "Year": 1975,
          "index": 3805
         },
         {
          "CountryCode": "OMN",
          "CountryName": "Oman",
          "Total Population": 882044,
          "Urban population (% of total)": 38.213,
          "Year": 1975,
          "index": 3806
         },
         {
          "CountryCode": "PAK",
          "CountryName": "Pakistan",
          "Total Population": 66791496,
          "Urban population (% of total)": 26.341,
          "Year": 1975,
          "index": 3807
         },
         {
          "CountryCode": "PLW",
          "CountryName": "Palau",
          "Total Population": 12280,
          "Urban population (% of total)": 61.138,
          "Year": 1975,
          "index": 3808
         },
         {
          "CountryCode": "PAN",
          "CountryName": "Panama",
          "Total Population": 1745207,
          "Urban population (% of total)": 49.038,
          "Year": 1975,
          "index": 3809
         },
         {
          "CountryCode": "PNG",
          "CountryName": "Papua New Guinea",
          "Total Population": 2809692,
          "Urban population (% of total)": 11.93,
          "Year": 1975,
          "index": 3810
         },
         {
          "CountryCode": "PRY",
          "CountryName": "Paraguay",
          "Total Population": 2790964,
          "Urban population (% of total)": 38.981,
          "Year": 1975,
          "index": 3811
         },
         {
          "CountryCode": "PER",
          "CountryName": "Peru",
          "Total Population": 15229951,
          "Urban population (% of total)": 61.461,
          "Year": 1975,
          "index": 3812
         },
         {
          "CountryCode": "PHL",
          "CountryName": "Philippines",
          "Total Population": 41295129,
          "Urban population (% of total)": 35.56,
          "Year": 1975,
          "index": 3813
         },
         {
          "CountryCode": "POL",
          "CountryName": "Poland",
          "Total Population": 34015199,
          "Urban population (% of total)": 55.28,
          "Year": 1975,
          "index": 3814
         },
         {
          "CountryCode": "PRT",
          "CountryName": "Portugal",
          "Total Population": 9093470,
          "Urban population (% of total)": 40.779,
          "Year": 1975,
          "index": 3815
         },
         {
          "CountryCode": "PRI",
          "CountryName": "Puerto Rico",
          "Total Population": 2994000,
          "Urban population (% of total)": 62.77,
          "Year": 1975,
          "index": 3816
         },
         {
          "CountryCode": "QAT",
          "CountryName": "Qatar",
          "Total Population": 164333,
          "Urban population (% of total)": 88.909,
          "Year": 1975,
          "index": 3817
         },
         {
          "CountryCode": "ROM",
          "CountryName": "Romania",
          "Total Population": 21293583,
          "Urban population (% of total)": 42.831,
          "Year": 1975,
          "index": 3818
         },
         {
          "CountryCode": "RUS",
          "CountryName": "Russian Federation",
          "Total Population": 134200000,
          "Urban population (% of total)": 66.427,
          "Year": 1975,
          "index": 3819
         },
         {
          "CountryCode": "RWA",
          "CountryName": "Rwanda",
          "Total Population": 4359166,
          "Urban population (% of total)": 3.998,
          "Year": 1975,
          "index": 3820
         },
         {
          "CountryCode": "WSM",
          "CountryName": "Samoa",
          "Total Population": 151383,
          "Urban population (% of total)": 20.992,
          "Year": 1975,
          "index": 3821
         },
         {
          "CountryCode": "SMR",
          "CountryName": "San Marino",
          "Total Population": 19732,
          "Urban population (% of total)": 71.484,
          "Year": 1975,
          "index": 3822
         },
         {
          "CountryCode": "STP",
          "CountryName": "Sao Tome and Principe",
          "Total Population": 82607,
          "Urban population (% of total)": 31.639,
          "Year": 1975,
          "index": 3823
         },
         {
          "CountryCode": "SAU",
          "CountryName": "Saudi Arabia",
          "Total Population": 7428705,
          "Urban population (% of total)": 58.349,
          "Year": 1975,
          "index": 3824
         },
         {
          "CountryCode": "SEN",
          "CountryName": "Senegal",
          "Total Population": 4900491,
          "Urban population (% of total)": 33.693,
          "Year": 1975,
          "index": 3825
         },
         {
          "CountryCode": "SYC",
          "CountryName": "Seychelles",
          "Total Population": 59600,
          "Urban population (% of total)": 46.266,
          "Year": 1975,
          "index": 3826
         },
         {
          "CountryCode": "SLE",
          "CountryName": "Sierra Leone",
          "Total Population": 2765914,
          "Urban population (% of total)": 27.729,
          "Year": 1975,
          "index": 3827
         },
         {
          "CountryCode": "SGP",
          "CountryName": "Singapore",
          "Total Population": 2262600,
          "Urban population (% of total)": 100,
          "Year": 1975,
          "index": 3828
         },
         {
          "CountryCode": "SVK",
          "CountryName": "Slovak Republic",
          "Total Population": 4739105,
          "Urban population (% of total)": 46.257,
          "Year": 1975,
          "index": 3829
         },
         {
          "CountryCode": "SVN",
          "CountryName": "Slovenia",
          "Total Population": 1793581,
          "Urban population (% of total)": 42.374,
          "Year": 1975,
          "index": 3830
         },
         {
          "CountryCode": "SLB",
          "CountryName": "Solomon Islands",
          "Total Population": 193447,
          "Urban population (% of total)": 9.125,
          "Year": 1975,
          "index": 3831
         },
         {
          "CountryCode": "SOM",
          "CountryName": "Somalia",
          "Total Population": 3880955,
          "Urban population (% of total)": 25.498,
          "Year": 1975,
          "index": 3832
         },
         {
          "CountryCode": "ZAF",
          "CountryName": "South Africa",
          "Total Population": 24728000,
          "Urban population (% of total)": 48.109,
          "Year": 1975,
          "index": 3833
         },
         {
          "CountryCode": "SSD",
          "CountryName": "South Sudan",
          "Total Population": 4117299,
          "Urban population (% of total)": 8.576,
          "Year": 1975,
          "index": 3834
         },
         {
          "CountryCode": "ESP",
          "CountryName": "Spain",
          "Total Population": 35530725,
          "Urban population (% of total)": 69.57,
          "Year": 1975,
          "index": 3835
         },
         {
          "CountryCode": "LKA",
          "CountryName": "Sri Lanka",
          "Total Population": 13496000,
          "Urban population (% of total)": 19.483,
          "Year": 1975,
          "index": 3836
         },
         {
          "CountryCode": "KNA",
          "CountryName": "St. Kitts and Nevis",
          "Total Population": 44278,
          "Urban population (% of total)": 35.027,
          "Year": 1975,
          "index": 3837
         },
         {
          "CountryCode": "LCA",
          "CountryName": "St. Lucia",
          "Total Population": 109770,
          "Urban population (% of total)": 25.2,
          "Year": 1975,
          "index": 3838
         },
         {
          "CountryCode": "VCT",
          "CountryName": "St. Vincent and the Grenadines",
          "Total Population": 95614,
          "Urban population (% of total)": 33.225,
          "Year": 1975,
          "index": 3839
         },
         {
          "CountryCode": "SDN",
          "CountryName": "Sudan",
          "Total Population": 12075841,
          "Urban population (% of total)": 18.943,
          "Year": 1975,
          "index": 3840
         },
         {
          "CountryCode": "SUR",
          "CountryName": "Suriname",
          "Total Population": 362651,
          "Urban population (% of total)": 53.749,
          "Year": 1975,
          "index": 3841
         },
         {
          "CountryCode": "SWZ",
          "CountryName": "Swaziland",
          "Total Population": 517100,
          "Urban population (% of total)": 14.004,
          "Year": 1975,
          "index": 3842
         },
         {
          "CountryCode": "SWE",
          "CountryName": "Sweden",
          "Total Population": 8192437,
          "Urban population (% of total)": 82.73,
          "Year": 1975,
          "index": 3843
         },
         {
          "CountryCode": "CHE",
          "CountryName": "Switzerland",
          "Total Population": 6338632,
          "Urban population (% of total)": 57.369,
          "Year": 1975,
          "index": 3844
         },
         {
          "CountryCode": "SYR",
          "CountryName": "Syrian Arab Republic",
          "Total Population": 7564000,
          "Urban population (% of total)": 45.061,
          "Year": 1975,
          "index": 3845
         },
         {
          "CountryCode": "TJK",
          "CountryName": "Tajikistan",
          "Total Population": 3412819,
          "Urban population (% of total)": 35.536,
          "Year": 1975,
          "index": 3846
         },
         {
          "CountryCode": "TZA",
          "CountryName": "Tanzania",
          "Total Population": 15980265,
          "Urban population (% of total)": 11.146,
          "Year": 1975,
          "index": 3847
         },
         {
          "CountryCode": "THA",
          "CountryName": "Thailand",
          "Total Population": 42334954,
          "Urban population (% of total)": 23.758,
          "Year": 1975,
          "index": 3848
         },
         {
          "CountryCode": "TMP",
          "CountryName": "Timor-Leste",
          "Total Population": 661634,
          "Urban population (% of total)": 14.593,
          "Year": 1975,
          "index": 3849
         },
         {
          "CountryCode": "TGO",
          "CountryName": "Togo",
          "Total Population": 2410446,
          "Urban population (% of total)": 22.927,
          "Year": 1975,
          "index": 3850
         },
         {
          "CountryCode": "TON",
          "CountryName": "Tonga",
          "Total Population": 88347,
          "Urban population (% of total)": 20.337,
          "Year": 1975,
          "index": 3851
         },
         {
          "CountryCode": "TTO",
          "CountryName": "Trinidad and Tobago",
          "Total Population": 1011487,
          "Urban population (% of total)": 11.372,
          "Year": 1975,
          "index": 3852
         },
         {
          "CountryCode": "TUN",
          "CountryName": "Tunisia",
          "Total Population": 5611000,
          "Urban population (% of total)": 47.588,
          "Year": 1975,
          "index": 3853
         },
         {
          "CountryCode": "TUR",
          "CountryName": "Turkey",
          "Total Population": 39185637,
          "Urban population (% of total)": 41.586,
          "Year": 1975,
          "index": 3854
         },
         {
          "CountryCode": "TKM",
          "CountryName": "Turkmenistan",
          "Total Population": 2520002,
          "Urban population (% of total)": 47.557,
          "Year": 1975,
          "index": 3855
         },
         {
          "CountryCode": "TCA",
          "CountryName": "Turks and Caicos Islands",
          "Total Population": 6546,
          "Urban population (% of total)": 53.063,
          "Year": 1975,
          "index": 3856
         },
         {
          "CountryCode": "TUV",
          "CountryName": "Tuvalu",
          "Total Population": 7685,
          "Urban population (% of total)": 25.761,
          "Year": 1975,
          "index": 3857
         },
         {
          "CountryCode": "UGA",
          "CountryName": "Uganda",
          "Total Population": 10827071,
          "Urban population (% of total)": 7.04,
          "Year": 1975,
          "index": 3858
         },
         {
          "CountryCode": "UKR",
          "CountryName": "Ukraine",
          "Total Population": 48758986,
          "Urban population (% of total)": 58.389,
          "Year": 1975,
          "index": 3859
         },
         {
          "CountryCode": "ARE",
          "CountryName": "United Arab Emirates",
          "Total Population": 531265,
          "Urban population (% of total)": 79.8,
          "Year": 1975,
          "index": 3860
         },
         {
          "CountryCode": "GBR",
          "CountryName": "United Kingdom",
          "Total Population": 56225800,
          "Urban population (% of total)": 77.683,
          "Year": 1975,
          "index": 3861
         },
         {
          "CountryCode": "USA",
          "CountryName": "United States",
          "Total Population": 215973000,
          "Urban population (% of total)": 73.653,
          "Year": 1975,
          "index": 3862
         },
         {
          "CountryCode": "URY",
          "CountryName": "Uruguay",
          "Total Population": 2830172,
          "Urban population (% of total)": 83.387,
          "Year": 1975,
          "index": 3863
         },
         {
          "CountryCode": "UZB",
          "CountryName": "Uzbekistan",
          "Total Population": 13980997,
          "Urban population (% of total)": 39.087,
          "Year": 1975,
          "index": 3864
         },
         {
          "CountryCode": "VUT",
          "CountryName": "Vanuatu",
          "Total Population": 99879,
          "Urban population (% of total)": 13.395,
          "Year": 1975,
          "index": 3865
         },
         {
          "CountryCode": "VEN",
          "CountryName": "Venezuela, RB",
          "Total Population": 13360988,
          "Urban population (% of total)": 75.786,
          "Year": 1975,
          "index": 3866
         },
         {
          "CountryCode": "VNM",
          "CountryName": "Vietnam",
          "Total Population": 48030000,
          "Urban population (% of total)": 18.782,
          "Year": 1975,
          "index": 3867
         },
         {
          "CountryCode": "VIR",
          "CountryName": "Virgin Islands (U.S.)",
          "Total Population": 94000,
          "Urban population (% of total)": 75.245,
          "Year": 1975,
          "index": 3868
         },
         {
          "CountryCode": "YEM",
          "CountryName": "Yemen, Rep.",
          "Total Population": 6793979,
          "Urban population (% of total)": 14.844,
          "Year": 1975,
          "index": 3869
         },
         {
          "CountryCode": "ZMB",
          "CountryName": "Zambia",
          "Total Population": 4983017,
          "Urban population (% of total)": 34.934,
          "Year": 1975,
          "index": 3870
         },
         {
          "CountryCode": "ZWE",
          "CountryName": "Zimbabwe",
          "Total Population": 6170284,
          "Urban population (% of total)": 19.873,
          "Year": 1975,
          "index": 3871
         },
         {
          "CountryCode": "ARB",
          "CountryName": "Arab World",
          "Total Population": 144379199,
          "Urban population (% of total)": 42.7583162051,
          "Year": 1976,
          "index": 3872
         },
         {
          "CountryCode": "CSS",
          "CountryName": "Caribbean small states",
          "Total Population": 5237098,
          "Urban population (% of total)": 36.5442462667,
          "Year": 1976,
          "index": 3873
         },
         {
          "CountryCode": "CEB",
          "CountryName": "Central Europe and the Baltics",
          "Total Population": 103770134,
          "Urban population (% of total)": 55.0611270122,
          "Year": 1976,
          "index": 3874
         },
         {
          "CountryCode": "EAS",
          "CountryName": "East Asia & Pacific (all income levels)",
          "Total Population": 1466831110,
          "Urban population (% of total)": 25.7370811484,
          "Year": 1976,
          "index": 3875
         },
         {
          "CountryCode": "EAP",
          "CountryName": "East Asia & Pacific (developing only)",
          "Total Population": 1277136144,
          "Urban population (% of total)": 19.437524197,
          "Year": 1976,
          "index": 3876
         },
         {
          "CountryCode": "EMU",
          "CountryName": "Euro area",
          "Total Population": 297374619,
          "Urban population (% of total)": 68.9573827106,
          "Year": 1976,
          "index": 3877
         },
         {
          "CountryCode": "ECS",
          "CountryName": "Europe & Central Asia (all income levels)",
          "Total Population": 772631984,
          "Urban population (% of total)": 63.3917649524,
          "Year": 1976,
          "index": 3878
         },
         {
          "CountryCode": "ECA",
          "CountryName": "Europe & Central Asia (developing only)",
          "Total Population": 200368874,
          "Urban population (% of total)": 48.5718958951,
          "Year": 1976,
          "index": 3879
         },
         {
          "CountryCode": "EUU",
          "CountryName": "European Union",
          "Total Population": 456802618,
          "Urban population (% of total)": 67.7358384939,
          "Year": 1976,
          "index": 3880
         },
         {
          "CountryCode": "FCS",
          "CountryName": "Fragile and conflict affected situations",
          "Total Population": 180975546,
          "Urban population (% of total)": 26.4678608755,
          "Year": 1976,
          "index": 3881
         },
         {
          "CountryCode": "HPC",
          "CountryName": "Heavily indebted poor countries (HIPC)",
          "Total Population": 244306047,
          "Urban population (% of total)": 18.9817694372,
          "Year": 1976,
          "index": 3882
         },
         {
          "CountryCode": "HIC",
          "CountryName": "High income",
          "Total Population": 1077258111,
          "Urban population (% of total)": 70.8370278486,
          "Year": 1976,
          "index": 3883
         },
         {
          "CountryCode": "NOC",
          "CountryName": "High income: nonOECD",
          "Total Population": 230076609,
          "Urban population (% of total)": 69.3689675879,
          "Year": 1976,
          "index": 3884
         },
         {
          "CountryCode": "OEC",
          "CountryName": "High income: OECD",
          "Total Population": 847181502,
          "Urban population (% of total)": 71.2074163091,
          "Year": 1976,
          "index": 3885
         },
         {
          "CountryCode": "LCN",
          "CountryName": "Latin America & Caribbean (all income levels)",
          "Total Population": 332817916,
          "Urban population (% of total)": 61.4299684573,
          "Year": 1976,
          "index": 3886
         },
         {
          "CountryCode": "LAC",
          "CountryName": "Latin America & Caribbean (developing only)",
          "Total Population": 274219905,
          "Urban population (% of total)": 58.0141955271,
          "Year": 1976,
          "index": 3887
         },
         {
          "CountryCode": "LDC",
          "CountryName": "Least developed countries: UN classification",
          "Total Population": 355839316,
          "Urban population (% of total)": 14.945447592,
          "Year": 1976,
          "index": 3888
         },
         {
          "CountryCode": "LMY",
          "CountryName": "Low & middle income",
          "Total Population": 3061268276,
          "Urban population (% of total)": 26.4754185934,
          "Year": 1976,
          "index": 3889
         },
         {
          "CountryCode": "LIC",
          "CountryName": "Low income",
          "Total Population": 229867681,
          "Urban population (% of total)": 16.9645290746,
          "Year": 1976,
          "index": 3890
         },
         {
          "CountryCode": "LMC",
          "CountryName": "Lower middle income",
          "Total Population": 1365895464,
          "Urban population (% of total)": 24.6814500025,
          "Year": 1976,
          "index": 3891
         },
         {
          "CountryCode": "MEA",
          "CountryName": "Middle East & North Africa (all income levels)",
          "Total Population": 163558659,
          "Urban population (% of total)": 47.0658293303,
          "Year": 1976,
          "index": 3892
         },
         {
          "CountryCode": "MNA",
          "CountryName": "Middle East & North Africa (developing only)",
          "Total Population": 148752030,
          "Urban population (% of total)": 44.8088338171,
          "Year": 1976,
          "index": 3893
         },
         {
          "CountryCode": "MIC",
          "CountryName": "Middle income",
          "Total Population": 2831400595,
          "Urban population (% of total)": 27.247943561,
          "Year": 1976,
          "index": 3894
         },
         {
          "CountryCode": "NAC",
          "CountryName": "North America",
          "Total Population": 241606200,
          "Urban population (% of total)": 73.8479052235,
          "Year": 1976,
          "index": 3895
         },
         {
          "CountryCode": "OED",
          "CountryName": "OECD members",
          "Total Population": 949902285,
          "Urban population (% of total)": 69.4693937267,
          "Year": 1976,
          "index": 3896
         },
         {
          "CountryCode": "OSS",
          "CountryName": "Other small states",
          "Total Population": 9260442,
          "Urban population (% of total)": 24.1657523619,
          "Year": 1976,
          "index": 3897
         },
         {
          "CountryCode": "PSS",
          "CountryName": "Pacific island small states",
          "Total Population": 1299788,
          "Urban population (% of total)": 27.7159813577,
          "Year": 1976,
          "index": 3898
         },
         {
          "CountryCode": "SST",
          "CountryName": "Small states",
          "Total Population": 15797328,
          "Urban population (% of total)": 28.5615546595,
          "Year": 1976,
          "index": 3899
         },
         {
          "CountryCode": "SAS",
          "CountryName": "South Asia",
          "Total Population": 818590962,
          "Urban population (% of total)": 20.6780823571,
          "Year": 1976,
          "index": 3900
         },
         {
          "CountryCode": "SSF",
          "CountryName": "Sub-Saharan Africa (all income levels)",
          "Total Population": 342489556,
          "Urban population (% of total)": 20.5287247845,
          "Year": 1976,
          "index": 3901
         },
         {
          "CountryCode": "SSA",
          "CountryName": "Sub-Saharan Africa (developing only)",
          "Total Population": 342200361,
          "Urban population (% of total)": 20.5192355256,
          "Year": 1976,
          "index": 3902
         },
         {
          "CountryCode": "UMC",
          "CountryName": "Upper middle income",
          "Total Population": 1465505131,
          "Urban population (% of total)": 29.6375420311,
          "Year": 1976,
          "index": 3903
         },
         {
          "CountryCode": "WLD",
          "CountryName": "World",
          "Total Population": 4138526387,
          "Urban population (% of total)": 37.8965917522,
          "Year": 1976,
          "index": 3904
         },
         {
          "CountryCode": "AFG",
          "CountryName": "Afghanistan",
          "Total Population": 12831361,
          "Urban population (% of total)": 14.029,
          "Year": 1976,
          "index": 3905
         },
         {
          "CountryCode": "ALB",
          "CountryName": "Albania",
          "Total Population": 2458526,
          "Urban population (% of total)": 32.908,
          "Year": 1976,
          "index": 3906
         },
         {
          "CountryCode": "DZA",
          "CountryName": "Algeria",
          "Total Population": 17190236,
          "Urban population (% of total)": 40.497,
          "Year": 1976,
          "index": 3907
         },
         {
          "CountryCode": "ASM",
          "CountryName": "American Samoa",
          "Total Population": 30325,
          "Urban population (% of total)": 72.739,
          "Year": 1976,
          "index": 3908
         },
         {
          "CountryCode": "ADO",
          "CountryName": "Andorra",
          "Total Population": 31781,
          "Urban population (% of total)": 88.382,
          "Year": 1976,
          "index": 3909
         },
         {
          "CountryCode": "AGO",
          "CountryName": "Angola",
          "Total Population": 7299508,
          "Urban population (% of total)": 17.737,
          "Year": 1976,
          "index": 3910
         },
         {
          "CountryCode": "ATG",
          "CountryName": "Antigua and Barbuda",
          "Total Population": 69782,
          "Urban population (% of total)": 34.297,
          "Year": 1976,
          "index": 3911
         },
         {
          "CountryCode": "ARG",
          "CountryName": "Argentina",
          "Total Population": 26477153,
          "Urban population (% of total)": 81.366,
          "Year": 1976,
          "index": 3912
         },
         {
          "CountryCode": "ARM",
          "CountryName": "Armenia",
          "Total Population": 2882831,
          "Urban population (% of total)": 64.219,
          "Year": 1976,
          "index": 3913
         },
         {
          "CountryCode": "ABW",
          "CountryName": "Aruba",
          "Total Population": 60589,
          "Urban population (% of total)": 50.532,
          "Year": 1976,
          "index": 3914
         },
         {
          "CountryCode": "AUS",
          "CountryName": "Australia",
          "Total Population": 14033000,
          "Urban population (% of total)": 86,
          "Year": 1976,
          "index": 3915
         },
         {
          "CountryCode": "AUT",
          "CountryName": "Austria",
          "Total Population": 7565525,
          "Urban population (% of total)": 65.351,
          "Year": 1976,
          "index": 3916
         },
         {
          "CountryCode": "AZE",
          "CountryName": "Azerbaijan",
          "Total Population": 5789050,
          "Urban population (% of total)": 52.096,
          "Year": 1976,
          "index": 3917
         },
         {
          "CountryCode": "BHS",
          "CountryName": "Bahamas, The",
          "Total Population": 192905,
          "Urban population (% of total)": 70.647,
          "Year": 1976,
          "index": 3918
         },
         {
          "CountryCode": "BHR",
          "CountryName": "Bahrain",
          "Total Population": 283843,
          "Urban population (% of total)": 85.206,
          "Year": 1976,
          "index": 3919
         },
         {
          "CountryCode": "BGD",
          "CountryName": "Bangladesh",
          "Total Population": 72930206,
          "Urban population (% of total)": 10.701,
          "Year": 1976,
          "index": 3920
         },
         {
          "CountryCode": "BRB",
          "CountryName": "Barbados",
          "Total Population": 247444,
          "Urban population (% of total)": 38.838,
          "Year": 1976,
          "index": 3921
         },
         {
          "CountryCode": "BLR",
          "CountryName": "Belarus",
          "Total Population": 9411000,
          "Urban population (% of total)": 51.829,
          "Year": 1976,
          "index": 3922
         },
         {
          "CountryCode": "BEL",
          "CountryName": "Belgium",
          "Total Population": 9818227,
          "Urban population (% of total)": 94.6,
          "Year": 1976,
          "index": 3923
         },
         {
          "CountryCode": "BLZ",
          "CountryName": "Belize",
          "Total Population": 135145,
          "Urban population (% of total)": 50.012,
          "Year": 1976,
          "index": 3924
         },
         {
          "CountryCode": "BEN",
          "CountryName": "Benin",
          "Total Population": 3345501,
          "Urban population (% of total)": 23.079,
          "Year": 1976,
          "index": 3925
         },
         {
          "CountryCode": "BMU",
          "CountryName": "Bermuda",
          "Total Population": 53200,
          "Urban population (% of total)": 100,
          "Year": 1976,
          "index": 3926
         },
         {
          "CountryCode": "BTN",
          "CountryName": "Bhutan",
          "Total Population": 361862,
          "Urban population (% of total)": 8.288,
          "Year": 1976,
          "index": 3927
         },
         {
          "CountryCode": "BOL",
          "CountryName": "Bolivia",
          "Total Population": 5119833,
          "Urban population (% of total)": 41.624,
          "Year": 1976,
          "index": 3928
         },
         {
          "CountryCode": "BIH",
          "CountryName": "Bosnia and Herzegovina",
          "Total Population": 4008411,
          "Urban population (% of total)": 32.118,
          "Year": 1976,
          "index": 3929
         },
         {
          "CountryCode": "BWA",
          "CountryName": "Botswana",
          "Total Population": 853860,
          "Urban population (% of total)": 12.705,
          "Year": 1976,
          "index": 3930
         },
         {
          "CountryCode": "BRA",
          "CountryName": "Brazil",
          "Total Population": 111076063,
          "Urban population (% of total)": 61.745,
          "Year": 1976,
          "index": 3931
         },
         {
          "CountryCode": "BRN",
          "CountryName": "Brunei Darussalam",
          "Total Population": 167283,
          "Urban population (% of total)": 61.576,
          "Year": 1976,
          "index": 3932
         },
         {
          "CountryCode": "BGR",
          "CountryName": "Bulgaria",
          "Total Population": 8758599,
          "Urban population (% of total)": 58.526,
          "Year": 1976,
          "index": 3933
         },
         {
          "CountryCode": "BFA",
          "CountryName": "Burkina Faso",
          "Total Population": 6274037,
          "Urban population (% of total)": 6.668,
          "Year": 1976,
          "index": 3934
         },
         {
          "CountryCode": "BDI",
          "CountryName": "Burundi",
          "Total Population": 3744696,
          "Urban population (% of total)": 3.678,
          "Year": 1976,
          "index": 3935
         },
         {
          "CountryCode": "CPV",
          "CountryName": "Cabo Verde",
          "Total Population": 273625,
          "Urban population (% of total)": 21.812,
          "Year": 1976,
          "index": 3936
         },
         {
          "CountryCode": "KHM",
          "CountryName": "Cambodia",
          "Total Population": 7431505,
          "Urban population (% of total)": 4.82,
          "Year": 1976,
          "index": 3937
         },
         {
          "CountryCode": "CMR",
          "CountryName": "Cameroon",
          "Total Population": 7959500,
          "Urban population (% of total)": 28.678,
          "Year": 1976,
          "index": 3938
         },
         {
          "CountryCode": "CAN",
          "CountryName": "Canada",
          "Total Population": 23518000,
          "Urban population (% of total)": 75.503,
          "Year": 1976,
          "index": 3939
         },
         {
          "CountryCode": "CYM",
          "CountryName": "Cayman Islands",
          "Total Population": 13020,
          "Urban population (% of total)": 100,
          "Year": 1976,
          "index": 3940
         },
         {
          "CountryCode": "CAF",
          "CountryName": "Central African Republic",
          "Total Population": 2061552,
          "Urban population (% of total)": 32.575,
          "Year": 1976,
          "index": 3941
         },
         {
          "CountryCode": "TCD",
          "CountryName": "Chad",
          "Total Population": 4173070,
          "Urban population (% of total)": 16.47,
          "Year": 1976,
          "index": 3942
         },
         {
          "CountryCode": "CHI",
          "CountryName": "Channel Islands",
          "Total Population": 126906,
          "Urban population (% of total)": 33.783,
          "Year": 1976,
          "index": 3943
         },
         {
          "CountryCode": "CHL",
          "CountryName": "Chile",
          "Total Population": 10584237,
          "Urban population (% of total)": 78.982,
          "Year": 1976,
          "index": 3944
         },
         {
          "CountryCode": "CHN",
          "CountryName": "China",
          "Total Population": 930685000,
          "Urban population (% of total)": 17.46,
          "Year": 1976,
          "index": 3945
         },
         {
          "CountryCode": "COL",
          "CountryName": "Colombia",
          "Total Population": 25323412,
          "Urban population (% of total)": 59.265,
          "Year": 1976,
          "index": 3946
         },
         {
          "CountryCode": "COM",
          "CountryName": "Comoros",
          "Total Population": 265234,
          "Urban population (% of total)": 21.625,
          "Year": 1976,
          "index": 3947
         },
         {
          "CountryCode": "ZAR",
          "CountryName": "Congo, Dem. Rep.",
          "Total Population": 23556784,
          "Urban population (% of total)": 26.068,
          "Year": 1976,
          "index": 3948
         },
         {
          "CountryCode": "COG",
          "CountryName": "Congo, Rep.",
          "Total Population": 1603446,
          "Urban population (% of total)": 44.177,
          "Year": 1976,
          "index": 3949
         },
         {
          "CountryCode": "CRI",
          "CountryName": "Costa Rica",
          "Total Population": 2151492,
          "Urban population (% of total)": 41.698,
          "Year": 1976,
          "index": 3950
         },
         {
          "CountryCode": "CIV",
          "CountryName": "Cote d'Ivoire",
          "Total Population": 6916302,
          "Urban population (% of total)": 33.594,
          "Year": 1976,
          "index": 3951
         },
         {
          "CountryCode": "HRV",
          "CountryName": "Croatia",
          "Total Population": 4530000,
          "Urban population (% of total)": 46.109,
          "Year": 1976,
          "index": 3952
         },
         {
          "CountryCode": "CUB",
          "CountryName": "Cuba",
          "Total Population": 9544268,
          "Urban population (% of total)": 65.018,
          "Year": 1976,
          "index": 3953
         },
         {
          "CountryCode": "CUW",
          "CountryName": "Curacao",
          "Total Population": 149399,
          "Urban population (% of total)": 80.491,
          "Year": 1976,
          "index": 3954
         },
         {
          "CountryCode": "CYP",
          "CountryName": "Cyprus",
          "Total Population": 657526,
          "Urban population (% of total)": 49.563,
          "Year": 1976,
          "index": 3955
         },
         {
          "CountryCode": "CZE",
          "CountryName": "Czech Republic",
          "Total Population": 10125939,
          "Urban population (% of total)": 71.018,
          "Year": 1976,
          "index": 3956
         },
         {
          "CountryCode": "DNK",
          "CountryName": "Denmark",
          "Total Population": 5072596,
          "Urban population (% of total)": 82.6,
          "Year": 1976,
          "index": 3957
         },
         {
          "CountryCode": "DJI",
          "CountryName": "Djibouti",
          "Total Population": 248619,
          "Urban population (% of total)": 68.17,
          "Year": 1976,
          "index": 3958
         },
         {
          "CountryCode": "DMA",
          "CountryName": "Dominica",
          "Total Population": 72648,
          "Urban population (% of total)": 43.484,
          "Year": 1976,
          "index": 3959
         },
         {
          "CountryCode": "DOM",
          "CountryName": "Dominican Republic",
          "Total Population": 5280727,
          "Urban population (% of total)": 46.807,
          "Year": 1976,
          "index": 3960
         },
         {
          "CountryCode": "ECU",
          "CountryName": "Ecuador",
          "Total Population": 7179399,
          "Urban population (% of total)": 43.276,
          "Year": 1976,
          "index": 3961
         },
         {
          "CountryCode": "EGY",
          "CountryName": "Egypt, Arab Rep.",
          "Total Population": 39478585,
          "Urban population (% of total)": 43.656,
          "Year": 1976,
          "index": 3962
         },
         {
          "CountryCode": "SLV",
          "CountryName": "El Salvador",
          "Total Population": 4239205,
          "Urban population (% of total)": 42.017,
          "Year": 1976,
          "index": 3963
         },
         {
          "CountryCode": "GNQ",
          "CountryName": "Equatorial Guinea",
          "Total Population": 228491,
          "Urban population (% of total)": 27.502,
          "Year": 1976,
          "index": 3964
         },
         {
          "CountryCode": "ERI",
          "CountryName": "Eritrea",
          "Total Population": 2128597,
          "Urban population (% of total)": 13.632,
          "Year": 1976,
          "index": 3965
         },
         {
          "CountryCode": "EST",
          "CountryName": "Estonia",
          "Total Population": 1439576,
          "Urban population (% of total)": 68.106,
          "Year": 1976,
          "index": 3966
         },
         {
          "CountryCode": "ETH",
          "CountryName": "Ethiopia",
          "Total Population": 33144537,
          "Urban population (% of total)": 9.644,
          "Year": 1976,
          "index": 3967
         },
         {
          "CountryCode": "FRO",
          "CountryName": "Faeroe Islands",
          "Total Population": 40974,
          "Urban population (% of total)": 30.815,
          "Year": 1976,
          "index": 3968
         },
         {
          "CountryCode": "FJI",
          "CountryName": "Fiji",
          "Total Population": 587523,
          "Urban population (% of total)": 37.119,
          "Year": 1976,
          "index": 3969
         },
         {
          "CountryCode": "FIN",
          "CountryName": "Finland",
          "Total Population": 4725664,
          "Urban population (% of total)": 68.634,
          "Year": 1976,
          "index": 3970
         },
         {
          "CountryCode": "FRA",
          "CountryName": "France",
          "Total Population": 54541493,
          "Urban population (% of total)": 72.997,
          "Year": 1976,
          "index": 3971
         },
         {
          "CountryCode": "PYF",
          "CountryName": "French Polynesia",
          "Total Population": 134743,
          "Urban population (% of total)": 58.76,
          "Year": 1976,
          "index": 3972
         },
         {
          "CountryCode": "GAB",
          "CountryName": "Gabon",
          "Total Population": 663774,
          "Urban population (% of total)": 45.295,
          "Year": 1976,
          "index": 3973
         },
         {
          "CountryCode": "GMB",
          "CountryName": "Gambia, The",
          "Total Population": 536409,
          "Urban population (% of total)": 25.193,
          "Year": 1976,
          "index": 3974
         },
         {
          "CountryCode": "GEO",
          "CountryName": "Georgia",
          "Total Population": 4342400,
          "Urban population (% of total)": 50.812,
          "Year": 1976,
          "index": 3975
         },
         {
          "CountryCode": "DEU",
          "CountryName": "Germany",
          "Total Population": 78336950,
          "Urban population (% of total)": 72.617,
          "Year": 1976,
          "index": 3976
         },
         {
          "CountryCode": "GHA",
          "CountryName": "Ghana",
          "Total Population": 10023471,
          "Urban population (% of total)": 30.27,
          "Year": 1976,
          "index": 3977
         },
         {
          "CountryCode": "GRC",
          "CountryName": "Greece",
          "Total Population": 9188150,
          "Urban population (% of total)": 67.429,
          "Year": 1976,
          "index": 3978
         },
         {
          "CountryCode": "GRL",
          "CountryName": "Greenland",
          "Total Population": 49700,
          "Urban population (% of total)": 74.625,
          "Year": 1976,
          "index": 3979
         },
         {
          "CountryCode": "GRD",
          "CountryName": "Grenada",
          "Total Population": 91435,
          "Urban population (% of total)": 32.636,
          "Year": 1976,
          "index": 3980
         },
         {
          "CountryCode": "GUM",
          "CountryName": "Guam",
          "Total Population": 95386,
          "Urban population (% of total)": 86.534,
          "Year": 1976,
          "index": 3981
         },
         {
          "CountryCode": "GTM",
          "CountryName": "Guatemala",
          "Total Population": 6408029,
          "Urban population (% of total)": 36.854,
          "Year": 1976,
          "index": 3982
         },
         {
          "CountryCode": "GIN",
          "CountryName": "Guinea",
          "Total Population": 4376768,
          "Urban population (% of total)": 20.291,
          "Year": 1976,
          "index": 3983
         },
         {
          "CountryCode": "GNB",
          "CountryName": "Guinea-Bissau",
          "Total Population": 791959,
          "Urban population (% of total)": 16.118,
          "Year": 1976,
          "index": 3984
         },
         {
          "CountryCode": "GUY",
          "CountryName": "Guyana",
          "Total Population": 751008,
          "Urban population (% of total)": 30.076,
          "Year": 1976,
          "index": 3985
         },
         {
          "CountryCode": "HTI",
          "CountryName": "Haiti",
          "Total Population": 5238242,
          "Urban population (% of total)": 20.431,
          "Year": 1976,
          "index": 3986
         },
         {
          "CountryCode": "HND",
          "CountryName": "Honduras",
          "Total Population": 3204883,
          "Urban population (% of total)": 32.653,
          "Year": 1976,
          "index": 3987
         },
         {
          "CountryCode": "HKG",
          "CountryName": "Hong Kong SAR, China",
          "Total Population": 4518000,
          "Urban population (% of total)": 90.077,
          "Year": 1976,
          "index": 3988
         },
         {
          "CountryCode": "HUN",
          "CountryName": "Hungary",
          "Total Population": 10598677,
          "Urban population (% of total)": 62.65,
          "Year": 1976,
          "index": 3989
         },
         {
          "CountryCode": "ISL",
          "CountryName": "Iceland",
          "Total Population": 220154,
          "Urban population (% of total)": 87.002,
          "Year": 1976,
          "index": 3990
         },
         {
          "CountryCode": "IND",
          "CountryName": "India",
          "Total Population": 636182810,
          "Urban population (% of total)": 21.677,
          "Year": 1976,
          "index": 3991
         },
         {
          "CountryCode": "IDN",
          "CountryName": "Indonesia",
          "Total Population": 134010695,
          "Urban population (% of total)": 19.853,
          "Year": 1976,
          "index": 3992
         },
         {
          "CountryCode": "IRN",
          "CountryName": "Iran, Islamic Rep.",
          "Total Population": 33739231,
          "Urban population (% of total)": 46.666,
          "Year": 1976,
          "index": 3993
         },
         {
          "CountryCode": "IRQ",
          "CountryName": "Iraq",
          "Total Population": 12068195,
          "Urban population (% of total)": 62.398,
          "Year": 1976,
          "index": 3994
         },
         {
          "CountryCode": "IRL",
          "CountryName": "Ireland",
          "Total Population": 3238050,
          "Urban population (% of total)": 53.975,
          "Year": 1976,
          "index": 3995
         },
         {
          "CountryCode": "IMY",
          "CountryName": "Isle of Man",
          "Total Population": 61900,
          "Urban population (% of total)": 51.799,
          "Year": 1976,
          "index": 3996
         },
         {
          "CountryCode": "ISR",
          "CountryName": "Israel",
          "Total Population": 3533000,
          "Urban population (% of total)": 87.053,
          "Year": 1976,
          "index": 3997
         },
         {
          "CountryCode": "ITA",
          "CountryName": "Italy",
          "Total Population": 55718260,
          "Urban population (% of total)": 65.844,
          "Year": 1976,
          "index": 3998
         },
         {
          "CountryCode": "JAM",
          "CountryName": "Jamaica",
          "Total Population": 2037716,
          "Urban population (% of total)": 44.557,
          "Year": 1976,
          "index": 3999
         }
        ],
        "schema": {
         "fields": [
          {
           "name": "index",
           "type": "integer"
          },
          {
           "name": "CountryName",
           "type": "string"
          },
          {
           "name": "CountryCode",
           "type": "string"
          },
          {
           "name": "Year",
           "type": "integer"
          },
          {
           "name": "Total Population",
           "type": "number"
          },
          {
           "name": "Urban population (% of total)",
           "type": "number"
          }
         ],
         "pandas_version": "0.20.0",
         "primaryKey": [
          "index"
         ]
        }
       },
       "total_rows": 13374
      },
      "text/html": [
       "<div>\n",
       "<style scoped>\n",
       "    .dataframe tbody tr th:only-of-type {\n",
       "        vertical-align: middle;\n",
       "    }\n",
       "\n",
       "    .dataframe tbody tr th {\n",
       "        vertical-align: top;\n",
       "    }\n",
       "\n",
       "    .dataframe thead th {\n",
       "        text-align: right;\n",
       "    }\n",
       "</style>\n",
       "<table border=\"1\" class=\"dataframe\">\n",
       "  <thead>\n",
       "    <tr style=\"text-align: right;\">\n",
       "      <th></th>\n",
       "      <th>CountryName</th>\n",
       "      <th>CountryCode</th>\n",
       "      <th>Year</th>\n",
       "      <th>Total Population</th>\n",
       "      <th>Urban population (% of total)</th>\n",
       "    </tr>\n",
       "  </thead>\n",
       "  <tbody>\n",
       "    <tr>\n",
       "      <th>0</th>\n",
       "      <td>Arab World</td>\n",
       "      <td>ARB</td>\n",
       "      <td>1960</td>\n",
       "      <td>9.249590e+07</td>\n",
       "      <td>31.285384</td>\n",
       "    </tr>\n",
       "    <tr>\n",
       "      <th>1</th>\n",
       "      <td>Caribbean small states</td>\n",
       "      <td>CSS</td>\n",
       "      <td>1960</td>\n",
       "      <td>4.190810e+06</td>\n",
       "      <td>31.597490</td>\n",
       "    </tr>\n",
       "    <tr>\n",
       "      <th>2</th>\n",
       "      <td>Central Europe and the Baltics</td>\n",
       "      <td>CEB</td>\n",
       "      <td>1960</td>\n",
       "      <td>9.140158e+07</td>\n",
       "      <td>44.507921</td>\n",
       "    </tr>\n",
       "    <tr>\n",
       "      <th>3</th>\n",
       "      <td>East Asia &amp; Pacific (all income levels)</td>\n",
       "      <td>EAS</td>\n",
       "      <td>1960</td>\n",
       "      <td>1.042475e+09</td>\n",
       "      <td>22.471132</td>\n",
       "    </tr>\n",
       "    <tr>\n",
       "      <th>4</th>\n",
       "      <td>East Asia &amp; Pacific (developing only)</td>\n",
       "      <td>EAP</td>\n",
       "      <td>1960</td>\n",
       "      <td>8.964930e+08</td>\n",
       "      <td>16.917679</td>\n",
       "    </tr>\n",
       "    <tr>\n",
       "      <th>...</th>\n",
       "      <td>...</td>\n",
       "      <td>...</td>\n",
       "      <td>...</td>\n",
       "      <td>...</td>\n",
       "      <td>...</td>\n",
       "    </tr>\n",
       "    <tr>\n",
       "      <th>13369</th>\n",
       "      <td>Virgin Islands (U.S.)</td>\n",
       "      <td>VIR</td>\n",
       "      <td>2014</td>\n",
       "      <td>1.041700e+05</td>\n",
       "      <td>95.203000</td>\n",
       "    </tr>\n",
       "    <tr>\n",
       "      <th>13370</th>\n",
       "      <td>West Bank and Gaza</td>\n",
       "      <td>WBG</td>\n",
       "      <td>2014</td>\n",
       "      <td>4.294682e+06</td>\n",
       "      <td>75.026000</td>\n",
       "    </tr>\n",
       "    <tr>\n",
       "      <th>13371</th>\n",
       "      <td>Yemen, Rep.</td>\n",
       "      <td>YEM</td>\n",
       "      <td>2014</td>\n",
       "      <td>2.618368e+07</td>\n",
       "      <td>34.027000</td>\n",
       "    </tr>\n",
       "    <tr>\n",
       "      <th>13372</th>\n",
       "      <td>Zambia</td>\n",
       "      <td>ZMB</td>\n",
       "      <td>2014</td>\n",
       "      <td>1.572134e+07</td>\n",
       "      <td>40.472000</td>\n",
       "    </tr>\n",
       "    <tr>\n",
       "      <th>13373</th>\n",
       "      <td>Zimbabwe</td>\n",
       "      <td>ZWE</td>\n",
       "      <td>2014</td>\n",
       "      <td>1.524586e+07</td>\n",
       "      <td>32.501000</td>\n",
       "    </tr>\n",
       "  </tbody>\n",
       "</table>\n",
       "<p>13374 rows × 5 columns</p>\n",
       "</div>"
      ],
      "text/plain": [
       "                                   CountryName CountryCode  Year  \\\n",
       "0                                   Arab World         ARB  1960   \n",
       "1                       Caribbean small states         CSS  1960   \n",
       "2               Central Europe and the Baltics         CEB  1960   \n",
       "3      East Asia & Pacific (all income levels)         EAS  1960   \n",
       "4        East Asia & Pacific (developing only)         EAP  1960   \n",
       "...                                        ...         ...   ...   \n",
       "13369                    Virgin Islands (U.S.)         VIR  2014   \n",
       "13370                       West Bank and Gaza         WBG  2014   \n",
       "13371                              Yemen, Rep.         YEM  2014   \n",
       "13372                                   Zambia         ZMB  2014   \n",
       "13373                                 Zimbabwe         ZWE  2014   \n",
       "\n",
       "       Total Population  Urban population (% of total)  \n",
       "0          9.249590e+07                      31.285384  \n",
       "1          4.190810e+06                      31.597490  \n",
       "2          9.140158e+07                      44.507921  \n",
       "3          1.042475e+09                      22.471132  \n",
       "4          8.964930e+08                      16.917679  \n",
       "...                 ...                            ...  \n",
       "13369      1.041700e+05                      95.203000  \n",
       "13370      4.294682e+06                      75.026000  \n",
       "13371      2.618368e+07                      34.027000  \n",
       "13372      1.572134e+07                      40.472000  \n",
       "13373      1.524586e+07                      32.501000  \n",
       "\n",
       "[13374 rows x 5 columns]"
      ]
     },
     "execution_count": 2,
     "metadata": {},
     "output_type": "execute_result"
    }
   ],
   "source": [
    "# Import the course packages\n",
    "import pandas as pd\n",
    "import matplotlib.pyplot as plt\n",
    "\n",
    "# Import the course datasets as DataFrames\n",
    "world_ind = pd.read_csv('datasets/world_ind_pop_data.csv')\n",
    "tweets = pd.read_csv('datasets/tweets.csv')\n",
    "\n",
    "# Preview the first DataFrame\n",
    "world_ind"
   ]
  },
  {
   "cell_type": "markdown",
   "id": "operational-effectiveness",
   "metadata": {},
   "source": [
    "## Challenge Yourself\n",
    "\n",
    "Don't know where to start? **Add code** to the code cells below to try one (or more) of the following challenges.\n",
    "\n",
    "_Reminder: To execute the code you add to a cell, click inside the cell to select it and click \"Run\" or the ► icon. You can also use Shift-Enter to run a selected cell and automatically switch to the next cell._"
   ]
  },
  {
   "cell_type": "markdown",
   "id": "established-queens",
   "metadata": {},
   "source": [
    "**1. Create a `zip` object containing the `CountryName` and `CountryCode` columns in `world_ind`. Unpack the resulting `zip` object and print the tuple values.**"
   ]
  },
  {
   "cell_type": "code",
   "execution_count": 4,
   "id": "nearby-solution",
   "metadata": {},
   "outputs": [
    {
     "name": "stdout",
     "output_type": "stream",
     "text": [
      "('Arab World', 'ARB')\n"
     ]
    }
   ],
   "source": [
    "# Zip and unpack country names and country codes in world_ind\n",
    "world_zip = zip(world_ind['CountryName'], world_ind['CountryCode'])\n",
    "print(list(world_zip)[0])\n"
   ]
  },
  {
   "cell_type": "markdown",
   "id": "continental-breathing",
   "metadata": {},
   "source": [
    "**2. Use a list comprehension to extract the first 25 characters of the `text` column of the `tweets` DataFrame provided that the tweet is not a retweet (i.e., starts with \"RT\").**"
   ]
  },
  {
   "cell_type": "code",
   "execution_count": null,
   "id": "079c7628-464c-471b-9867-b684acc232b9",
   "metadata": {},
   "outputs": [],
   "source": [
    "# Use list comprehension to print the first 25 characters of tweets\n"
   ]
  },
  {
   "cell_type": "markdown",
   "id": "senior-geography",
   "metadata": {},
   "source": [
    "**3. Create an iterable reader object so that you can use `next()` to read `datasets/world_ind_pop_data.csv` in chunks of 20.**"
   ]
  },
  {
   "cell_type": "code",
   "execution_count": null,
   "id": "brown-reserve",
   "metadata": {},
   "outputs": [],
   "source": [
    "# Create an interable reader object to read chunks of datasets/world_ind_pop_data.csv\n"
   ]
  },
  {
   "cell_type": "markdown",
   "id": "b3317e25-17e0-4f71-89fb-18d950b5bd85",
   "metadata": {},
   "source": [
    "## Continue to Explore\n",
    "Feeling confident about your skills? If you're following the Data Scientist with Python Career Track, continue to [Intermediate Data Visualization with Seaborn](https://app.datacamp.com/learn/courses/intermediate-data-visualization-with-seaborn)! If you're interested in further developing your programming skills, you may be interested in other [Python Programmer](https://app.datacamp.com/learn/career-tracks/python-programmer) Career Track courses!"
   ]
  }
 ],
 "metadata": {
  "colab": {
   "name": "Welcome to DataCamp Workspaces.ipynb",
   "provenance": []
  },
  "kernelspec": {
   "display_name": "Python 3 (ipykernel)",
   "language": "python",
   "name": "python3"
  },
  "language_info": {
   "codemirror_mode": {
    "name": "ipython",
    "version": 3
   },
   "file_extension": ".py",
   "mimetype": "text/x-python",
   "name": "python",
   "nbconvert_exporter": "python",
   "pygments_lexer": "ipython3",
   "version": "3.8.10"
  }
 },
 "nbformat": 4,
 "nbformat_minor": 5
}
