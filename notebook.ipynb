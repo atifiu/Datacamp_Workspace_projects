{
 "cells": [
  {
   "cell_type": "markdown",
   "id": "prostate-arizona",
   "metadata": {
    "id": "bA5ajAmk7XH6"
   },
   "source": [
    "# Python Data Science Toolbox (Part 1)\n",
    "\n",
    "👋 Welcome to your workspace! Here, you can write and run Python code and add text in [Markdown](https://www.markdownguide.org/basic-syntax/). Below, we've imported the datasets from the course _Python Data Science Toolbox (Part 1)_ as DataFrames as well as the packages used in the course. This is your sandbox environment: analyze the course datasets further, take notes, or experiment with code!"
   ]
  },
  {
   "cell_type": "code",
   "execution_count": null,
   "id": "2e25fdd8-4d84-45bc-80f0-949917e00a17",
   "metadata": {},
   "outputs": [
    {
     "name": "stdout",
     "output_type": "stream",
     "text": [
      "(100, 31)\n",
      "(100, 31)\n"
     ]
    }
   ],
   "source": [
    "# Importing course packages; you can add more too!\n",
    "import pandas as pd\n",
    "from functools import reduce\n",
    "\n",
    "# Importing course datasets as DataFrames\n",
    "tweets = pd.read_csv('datasets/tweets.csv')\n",
    "\n",
    "tweets.head() # Display the first five rows\n",
    "print(tweets.query(\"favorite_count == 0 and retweet_count == 0\").shape)\n",
    "print(tweets.shape)"
   ]
  },
  {
   "cell_type": "code",
   "execution_count": null,
   "id": "079c7628-464c-471b-9867-b684acc232b9",
   "metadata": {},
   "outputs": [],
   "source": [
    "# Begin writing your own code here!"
   ]
  },
  {
   "cell_type": "markdown",
   "id": "b3317e25-17e0-4f71-89fb-18d950b5bd85",
   "metadata": {},
   "source": [
    "### Don't know where to start?\n",
    "\n",
    "Try completing these tasks:\n",
    "- Write a function that takes in `tweets` and returns two values: the average amount of times tweets in `tweets` have been favorited and retweeted.\n",
    "- Write a function that takes a timestamp (see column `timestamp_ms`) and returns the text of any tweet published at that timestamp. Additionally, make it so that users can pass column names as flexible arguments (`*args`) so that the function can print out any other columns users want to see.\n",
    "- In a `filter()` call, write a lambda function to return tweets created on a Tuesday. Tip: look at the first three characters of the `created_at` column.\n",
    "- Make sure to add error handling on the functions you've created!\n"
   ]
  }
 ],
 "metadata": {
  "colab": {
   "name": "Welcome to DataCamp Workspaces.ipynb",
   "provenance": []
  },
  "kernelspec": {
   "display_name": "Python 3 (ipykernel)",
   "language": "python",
   "name": "python3"
  },
  "language_info": {
   "codemirror_mode": {
    "name": "ipython",
    "version": 3
   },
   "file_extension": ".py",
   "mimetype": "text/x-python",
   "name": "python",
   "nbconvert_exporter": "python",
   "pygments_lexer": "ipython3",
   "version": "3.8.10"
  }
 },
 "nbformat": 4,
 "nbformat_minor": 5
}
